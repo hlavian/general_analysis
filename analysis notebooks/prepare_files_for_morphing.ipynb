{
 "cells": [
  {
   "cell_type": "code",
   "execution_count": null,
   "id": "aerial-cylinder",
   "metadata": {},
   "outputs": [],
   "source": [
    "import numpy as np\n",
    "import nrrd\n",
    "import tifffile as tiff\n",
    "from pathlib import Path\n",
    "import flammkuchen as fl\n",
    "import os.path\n",
    "import json\n",
    "import bg_space as bg"
   ]
  },
  {
   "cell_type": "code",
   "execution_count": null,
   "id": "monthly-vegetable",
   "metadata": {},
   "outputs": [],
   "source": [
    "master =  Path(r\"\\\\Funes\\Shared\\experiments\\E0020_random_coherences\\v35_two_options_forward_ol\\h2b\")"
   ]
  },
  {
   "cell_type": "code",
   "execution_count": null,
   "id": "moving-float",
   "metadata": {},
   "outputs": [],
   "source": [
    "# find suite2p files: \n",
    "files_path = list(master.glob(\"*_f*/data_from_suite2p_cells.h5\"))\n",
    "files_path"
   ]
  },
  {
   "cell_type": "code",
   "execution_count": null,
   "id": "supported-cabin",
   "metadata": {},
   "outputs": [],
   "source": [
    "# For a single fish\n",
    "suite2p_file = fl.load(files_path[0])\n",
    "anatomy = suite2p_file['anatomy_stack']\n",
    "\n",
    "anatomy_reorient = np.zeros_like(anatomy)\n",
    "source_origin = ('Inferior', 'Right', 'Posterior')\n",
    "target_origin = ('Inferior', 'Anterior', 'Right') # this is the orientation of the mpin reference \n",
    "anatomy_reorient = bg.map_stack_to(source_origin, target_origin, anatomy)\n",
    "\n",
    "dir_path = os.path.dirname(str(files_path[0]))\n",
    "file_name = Path(dir_path) / 'anatomy_suite2p_res_rot.nrrd'\n",
    "file_name"
   ]
  },
  {
   "cell_type": "code",
   "execution_count": null,
   "id": "outstanding-relevance",
   "metadata": {},
   "outputs": [],
   "source": [
    "with open(next(Path(dir_path).glob(\"*metadata.json\")), \"r\") as f:\n",
    "        metadata = json.load(f)\n",
    "lsconfig = metadata[\"imaging\"][\"microscope_config\"]['lightsheet']['scanning']\n",
    "z_tot_span = lsconfig[\"z\"][\"piezo_max\"] - lsconfig[\"z\"][\"piezo_min\"]\n",
    "n_planes = lsconfig[\"triggering\"][\"n_planes\"]\n",
    "z_res = z_tot_span / n_planes\n",
    "\n",
    "header = {'kinds': ['domain', 'domain', 'domain'], 'units': ['microns', 'microns', 'microns'], 'spacings': [z_res, 0.6, 0.6]}\n",
    "nrrd.write(str(file_name), anatomy_reorient, header, index_order='C')"
   ]
  },
  {
   "cell_type": "code",
   "execution_count": null,
   "id": "overall-telling",
   "metadata": {},
   "outputs": [],
   "source": []
  },
  {
   "cell_type": "code",
   "execution_count": null,
   "id": "premium-duration",
   "metadata": {},
   "outputs": [],
   "source": [
    "# For all fish in master \n",
    "for f in files_path:\n",
    "    print(f)\n",
    "    \n",
    "    suite2p_file = fl.load(f)\n",
    "    anatomy = suite2p_file['anatomy_stack']\n",
    "    dir_path = os.path.dirname(str(f))\n",
    "    \n",
    "    anatomy_reorient = np.zeros_like(anatomy)\n",
    "    source_origin = ('Inferior', 'Right', 'Posterior')\n",
    "    target_origin = ('Inferior', 'Anterior', 'Right') # this is the orientation of the mpin reference \n",
    "    anatomy_reorient = bg.map_stack_to(source_origin, target_origin, anatomy)\n",
    "    \n",
    "    file_name = Path(dir_path) / 'registration' / 'anatomy_suite2p_res_rot.nrrd'\n",
    "    with open(next(Path(dir_path).glob(\"*metadata.json\")), \"r\") as f:\n",
    "        metadata = json.load(f)\n",
    "    lsconfig = metadata[\"imaging\"][\"microscope_config\"]['lightsheet']['scanning']\n",
    "    z_tot_span = lsconfig[\"z\"][\"piezo_max\"] - lsconfig[\"z\"][\"piezo_min\"]\n",
    "    n_planes = lsconfig[\"triggering\"][\"n_planes\"]\n",
    "    z_res = z_tot_span / n_planes\n",
    "    \n",
    "    header = {'kinds': ['domain', 'domain', 'domain'], 'units': ['microns', 'microns', 'microns'], 'spacings': [0.6, 0.6, z_res]}\n",
    "    nrrd.write(str(file_name), anatomy_reorient, header, index_order='C')"
   ]
  },
  {
   "cell_type": "code",
   "execution_count": null,
   "id": "proved-substitute",
   "metadata": {},
   "outputs": [],
   "source": []
  },
  {
   "cell_type": "code",
   "execution_count": null,
   "id": "simple-spending",
   "metadata": {},
   "outputs": [],
   "source": []
  },
  {
   "cell_type": "code",
   "execution_count": null,
   "id": "harmful-scotland",
   "metadata": {},
   "outputs": [],
   "source": []
  }
 ],
 "metadata": {
  "kernelspec": {
   "display_name": "Python 3 (ipykernel)",
   "language": "python",
   "name": "python3"
  },
  "language_info": {
   "codemirror_mode": {
    "name": "ipython",
    "version": 3
   },
   "file_extension": ".py",
   "mimetype": "text/x-python",
   "name": "python",
   "nbconvert_exporter": "python",
   "pygments_lexer": "ipython3",
   "version": "3.7.10"
  }
 },
 "nbformat": 4,
 "nbformat_minor": 5
}
