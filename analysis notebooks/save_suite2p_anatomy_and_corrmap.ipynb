{
 "cells": [
  {
   "cell_type": "code",
   "execution_count": null,
   "id": "overhead-florence",
   "metadata": {},
   "outputs": [],
   "source": [
    "import matplotlib.pyplot as plt\n",
    "%matplotlib widget\n",
    "import numpy as np\n",
    "from pathlib import Path\n",
    "import tifffile\n",
    "import flammkuchen as fl"
   ]
  },
  {
   "cell_type": "code",
   "execution_count": null,
   "id": "minute-outline",
   "metadata": {},
   "outputs": [],
   "source": [
    "master = Path(r'\\\\Funes\\Shared\\experiments\\E0040_motions_cardinal\\v13_cw_ccw\\ls_fixed')\n",
    "master = Path(r\"\\\\Funes\\Shared\\experiments\\E0044_spontaneous\\gad1b\")\n",
    "master =  Path(r\"\\\\funes\\Shared\\Hagar\\hagar\")\n",
    "all_fish = list(master.glob(\"*f[0-9]*\"))\n",
    "fish_dir = all_fish[0]\n",
    "print(fish_dir)\n",
    "\n",
    "#f = fish_dir / \"corrmap.tif\"\n",
    "#corr_map = tifffile.imread(str(f))\n",
    "#num_planes = np.shape(corr_map)[0]\n",
    "#print(num_planes)"
   ]
  },
  {
   "cell_type": "code",
   "execution_count": null,
   "id": "cubic-struggle",
   "metadata": {},
   "outputs": [],
   "source": [
    "num_col=5\n",
    "num_row=3\n",
    "fig, ax = plt.subplots(num_row, num_col, figsize=(15,10))\n",
    "\n",
    "for i in range(num_col*num_row):\n",
    "    r = i // num_col\n",
    "    c = np.mod(i, num_col)\n",
    "    try:\n",
    "        tmp_plane = corr_map[i]\n",
    "        tmp_plane = np.rot90(tmp_plane, k=-1, axes=(1, 0))\n",
    "        tmp_plane = np.ma.masked_where(tmp_plane < 0.01, tmp_plane)\n",
    "        ax[r, c].imshow(tmp_plane, cmap=\"gray_r\")\n",
    "        ax[r,c].set_title(\"z\" + str(i))\n",
    "        ax[r, c].axis('off')\n",
    "    except:\n",
    "        print(\"no plane\")\n",
    "        ax[r, c].axis('off')\n",
    "\n",
    "fig.savefig(str(fish_dir/'corrmap_img.jpg'), dpi=300)\n",
    "            "
   ]
  },
  {
   "cell_type": "code",
   "execution_count": null,
   "id": "passing-flooring",
   "metadata": {},
   "outputs": [],
   "source": [
    "num_col=4\n",
    "num_row=2\n",
    "\n",
    "for f in all_fish:\n",
    "    suite2p_file = fl.load(f / 'data_from_suite2p_unfiltered.h5')\n",
    "    anatomy = suite2p_file['anatomy_stack']\n",
    "    \n",
    "    fig, ax = plt.subplots(num_row, num_col, figsize=(15,10))\n",
    "\n",
    "    for i in range(num_col*num_row):\n",
    "        r = i // num_col\n",
    "        c = np.mod(i, num_col)\n",
    "        try:\n",
    "            tmp_plane = anatomy[i]\n",
    "            tmp_plane = np.rot90(tmp_plane, k=-1, axes=(1, 0))\n",
    "            tmp_plane = np.ma.masked_where(tmp_plane < 0.01, tmp_plane)\n",
    "            ax[r, c].imshow(tmp_plane, cmap=\"gray_r\")\n",
    "            ax[r,c].set_title(\"z\" + str(i))\n",
    "            ax[r, c].axis('off')\n",
    "        except:\n",
    "            print(\"no plane\")\n",
    "            ax[r, c].axis('off')\n",
    "\n",
    "    fig.savefig(str(f/'anatomy_img.jpg'), dpi=300)\n",
    "            "
   ]
  },
  {
   "cell_type": "code",
   "execution_count": null,
   "id": "global-detector",
   "metadata": {},
   "outputs": [],
   "source": []
  }
 ],
 "metadata": {
  "kernelspec": {
   "display_name": "Python 3 (ipykernel)",
   "language": "python",
   "name": "python3"
  },
  "language_info": {
   "codemirror_mode": {
    "name": "ipython",
    "version": 3
   },
   "file_extension": ".py",
   "mimetype": "text/x-python",
   "name": "python",
   "nbconvert_exporter": "python",
   "pygments_lexer": "ipython3",
   "version": "3.7.10"
  }
 },
 "nbformat": 4,
 "nbformat_minor": 5
}
