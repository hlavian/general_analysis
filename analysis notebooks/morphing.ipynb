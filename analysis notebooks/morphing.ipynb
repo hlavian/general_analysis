{
 "cells": [
  {
   "cell_type": "code",
   "execution_count": null,
   "id": "injured-topic",
   "metadata": {},
   "outputs": [],
   "source": [
    "cd C:\\Users\\lavian\\Desktop\\registration"
   ]
  },
  {
   "cell_type": "code",
   "execution_count": null,
   "id": "varying-athletics",
   "metadata": {},
   "outputs": [],
   "source": [
    "%%cmd\n",
    "cd C:\\Users\\lavian\\Desktop\\registration\n",
    "registration --initxlate --dofs 6,9 --auto-multi-levels 4 -o f1_to_inbalref_affine.xform mpin_reference_inbal.nrrd confocal_f1.nrrd\n",
    "reformatx -o f1_to_inbalref_affine.nrrd --floating confocal_f1.nrrd mpin_reference_inbal.nrrd f1_to_inbalref_affine.xform\n",
    "\n",
    "warp -o f1_to_inbalref_warp.xform --grid-spacing 160 --exploration 60 --energy-weight 1e-0 --refine 6 --initial f1_to_inbalref_affine.xform mpin_reference_inbal.nrrd f1_to_inbalref_affine.nrrd\n",
    "reformatx -o f1_to_inbalref_warp.nrrd --floating f1_to_inbalref_affine.nrrd mpin_reference_inbal.nrrd f1_to_inbalref_warp.xform"
   ]
  },
  {
   "cell_type": "code",
   "execution_count": null,
   "id": "prescribed-governor",
   "metadata": {},
   "outputs": [],
   "source": [
    "%%cmd\n",
    "cd C:\\Users\\lavian\\Desktop\\registration\n",
    "registration --initxlate --dofs 6,9 --auto-multi-levels 4 -o f2_to_inbalref_affine.xform mpin_reference_inbal.nrrd confocal_f2.nrrd\n",
    "reformatx -o f2_to_inbalref_affine.nrrd --floating confocal_f2.nrrd mpin_reference_inbal.nrrd f2_to_inbalref_affine.xform\n",
    "\n",
    "warp -o f2_to_inbalref_warp.xform --grid-spacing 160 --exploration 60 --energy-weight 1e-0 --refine 6 --initial f2_to_inbalref_affine.xform mpin_reference_inbal.nrrd f2_to_inbalref_affine.nrrd\n",
    "reformatx -o f2_to_inbalref_warp.nrrd --floating f2_to_inbalref_affine.nrrd mpin_reference_inbal.nrrd f2_to_inbalref_warp.xform"
   ]
  },
  {
   "cell_type": "code",
   "execution_count": null,
   "id": "suspended-secondary",
   "metadata": {},
   "outputs": [],
   "source": [
    "%%cmd\n",
    "cd C:\\Users\\lavian\\Desktop\\registration\n",
    "registration --initxlate --dofs 6,9 --auto-multi-levels 6 -o f3_to_inbalref_affine.xform mpin_reference_inbal.nrrd confocal_f3.nrrd\n",
    "reformatx -o f3_to_inbalref_affine.nrrd --floating confocal_f3.nrrd mpin_reference_inbal.nrrd f3_to_inbalref_affine.xform\n"
   ]
  },
  {
   "cell_type": "code",
   "execution_count": null,
   "id": "accompanied-birthday",
   "metadata": {},
   "outputs": [],
   "source": [
    "%%cmd\n",
    "cd C:\\Users\\lavian\\Desktop\\registration\n",
    "reformatx -o f1_to_inbalref_warp.nrrd --floating f1_to_inbalref_affine.nrrd mpin_reference_inbal.nrrd f1_to_inbalref_warp.xform\n",
    "reformatx -o f2_to_inbalref_warp.nrrd --floating f2_to_inbalref_affine.nrrd mpin_reference_inbal.nrrd f2_to_inbalref_warp.xform\n",
    "reformatx -o f3_to_inbalref_warp.nrrd --floating f3_to_inbalref_affine.nrrd mpin_reference_inbal.nrrd f3_to_inbalref_warp.xform"
   ]
  },
  {
   "cell_type": "code",
   "execution_count": null,
   "id": "parallel-foster",
   "metadata": {},
   "outputs": [],
   "source": [
    "%%cmd\n",
    "cd C:\\Users\\lavian\\Desktop\\registration\n",
    "registration --initxlate --dofs 6,9 --auto-multi-levels 4 -o f0_to_inbalref_affine.xform mpin_reference_inbal.nrrd confocal_f0.nrrd\n",
    "reformatx -o f0_to_inbalref_affine.nrrd --floating confocal_f0.nrrd mpin_reference_inbal.nrrd f0_to_inbalref_affine.xform\n"
   ]
  },
  {
   "cell_type": "code",
   "execution_count": null,
   "id": "cellular-chocolate",
   "metadata": {},
   "outputs": [],
   "source": [
    "%%cmd\n",
    "cd C:\\Users\\lavian\\Desktop\\registration\n",
    "reformatx -o f1_gad1b_to_inbalref_affine.nrrd --floating confocal_gad1b_f1.nrrd mpin_reference_inbal.nrrd f1_to_inbalref_affine.xform\n",
    "reformatx -o f2_gad1b_to_inbalref_affine.nrrd --floating confocal_gad1b_f2.nrrd mpin_reference_inbal.nrrd f2_to_inbalref_affine.xform\n",
    "reformatx -o f3_gad1b_to_inbalref_affine.nrrd --floating confocal_gad1b_f3.nrrd mpin_reference_inbal.nrrd f3_to_inbalref_affine.xform"
   ]
  },
  {
   "cell_type": "code",
   "execution_count": null,
   "id": "extreme-nature",
   "metadata": {},
   "outputs": [],
   "source": []
  }
 ],
 "metadata": {
  "kernelspec": {
   "display_name": "Python 3 (ipykernel)",
   "language": "python",
   "name": "python3"
  },
  "language_info": {
   "codemirror_mode": {
    "name": "ipython",
    "version": 3
   },
   "file_extension": ".py",
   "mimetype": "text/x-python",
   "name": "python",
   "nbconvert_exporter": "python",
   "pygments_lexer": "ipython3",
   "version": "3.7.10"
  }
 },
 "nbformat": 4,
 "nbformat_minor": 5
}
