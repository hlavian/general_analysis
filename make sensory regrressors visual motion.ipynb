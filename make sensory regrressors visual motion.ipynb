{
 "cells": [
  {
   "cell_type": "code",
   "execution_count": null,
   "id": "3b862224-2b97-400f-8bf6-8d4dc39921a7",
   "metadata": {},
   "outputs": [],
   "source": [
    "%matplotlib widget"
   ]
  },
  {
   "cell_type": "code",
   "execution_count": null,
   "id": "965025c8-8859-4de5-81e6-99a246bbd5e0",
   "metadata": {},
   "outputs": [],
   "source": [
    "from glob import glob\n",
    "import numpy as np\n",
    "import pandas as pd\n",
    "import flammkuchen as fl\n",
    "from split_dataset import SplitDataset\n",
    "from bouter import Experiment\n",
    "from fimpy.pipeline.general import calc_f0, dff\n",
    "from motions.utilities import stim_vel_dir_dataframe, quantize_directions\n",
    "from scipy.interpolate import interp1d \n",
    "from scipy.signal import convolve2d\n",
    "import colorspacious\n",
    "import napari\n",
    "import matplotlib.pyplot as plt\n",
    "import json\n",
    "\n",
    "from fimpylab.core.twop_experiment import TwoPExperiment\n",
    "from fimpylab.core.lightsheet_experiment import LightsheetExperiment\n",
    "\n",
    "from pathlib import Path"
   ]
  },
  {
   "cell_type": "code",
   "execution_count": null,
   "id": "10238fa7-d1db-4c76-867b-2f093b26ba08",
   "metadata": {},
   "outputs": [],
   "source": [
    "# make sensory regressors. requires old bouter stimulus_param_log.\n",
    "def make_sensory_regressors(exp, n_dirs=8, upsampling=5, sampling=1/3):\n",
    "    stim = stim_vel_dir_dataframe(exp)\n",
    "    bin_centres, dir_bins = quantize_directions(stim.theta)\n",
    "    ind_regs = np.zeros((n_dirs, len(stim)))\n",
    "    for i_dir in range(n_dirs):\n",
    "        ind_regs[i_dir, :] = (np.abs(dir_bins - i_dir) < 0.1) & (stim.vel > 0.1)  \n",
    "\n",
    "    dt_upsampled = sampling / upsampling\n",
    "    t_imaging_up = np.arange(0, stim.t.values[-1], dt_upsampled)\n",
    "    reg_up = interp1d(stim.t.values, ind_regs, axis=1, fill_value=\"extrapolate\")(\n",
    "        t_imaging_up\n",
    "    )\n",
    "    \n",
    "    # 6s kernel\n",
    "    u_steps = t_imaging_up.shape[0]\n",
    "    u_time = np.arange(u_steps) * dt_upsampled\n",
    "    decay = np.exp(-u_time / (1.5 / np.log(2)))\n",
    "    kernel = decay / np.sum(decay)\n",
    "    \n",
    "    convolved = convolve2d(reg_up, kernel[None, :])[:, 0:u_steps]\n",
    "    reg_sensory = convolved[:, ::upsampling]\n",
    "    \n",
    "    reg_up = reg_up[:, ::upsampling]\n",
    "\n",
    "    return pd.DataFrame(reg_sensory.T, columns=[f\"motion_{i}\" for i in range(n_dirs)]), reg_up"
   ]
  },
  {
   "cell_type": "code",
   "execution_count": null,
   "id": "a89ccaa1-1fed-4d81-81c4-648ed25d3150",
   "metadata": {},
   "outputs": [],
   "source": [
    "# find the frames to calculate the baseline.\n",
    "def no_regressor_frames(regressors, threshold=0.01):\n",
    "    return np.where(np.all(regressors.values < threshold, axis=1))[0]\n",
    "\n",
    "# calculate the baseline, plane-wise\n",
    "def calc_f0(stack, frames):\n",
    "    fr_mean = None\n",
    "    for i_frame in frames:\n",
    "        sf = stack[int(i_frame), :, :]\n",
    "        if fr_mean is None:\n",
    "            fr_mean = sf\n",
    "        else:\n",
    "            fr_mean += sf\n",
    "    return fr_mean / len(frames)"
   ]
  },
  {
   "cell_type": "code",
   "execution_count": null,
   "id": "613c4b09-557c-43ae-9057-404ce994b173",
   "metadata": {},
   "outputs": [],
   "source": [
    "master =  Path(r\"Z:\\Hagar\\E0040\\v31\\post ablation\")\n",
    "fish_list = list(master.glob(\"*_f*\"))\n",
    "\n",
    "#fish_list = [Path(r\"Z:\\Hagar\\crazy fish\\230302_f0\\e0040_v10\"), Path(r\"Z:\\Hagar\\crazy fish\\230302_f2\\e0040_v10\"), Path(r\"Z:\\Hagar\\crazy fish\\230303_f1\\e0040_v10\")]\n",
    "\n",
    "n_dirs = 8"
   ]
  },
  {
   "cell_type": "code",
   "execution_count": null,
   "id": "05e22491-3b57-4674-927d-5c6aa8c98196",
   "metadata": {},
   "outputs": [],
   "source": [
    "for fish in fish_list:\n",
    "    print(fish)\n",
    "    try:\n",
    "        #if not (fish / \"sensory_regressors.h5\").exists():\n",
    "        exp = glob(str(fish / \"*behavior*\"))[0]\n",
    "\n",
    "        #traces = fl.load(fish / \"filtered_traces.h5\", \"/detr\")\n",
    "        stack_file = str(fish / 'original' / \"stack_metadata.json\")\n",
    "        with open(stack_file) as f:\n",
    "            stack_metadata = json.load(f)\n",
    "\n",
    "        len_rec = stack_metadata[\"shape_full\"][0]\n",
    "\n",
    "        exp_ls = LightsheetExperiment(fish)\n",
    "        fs = int(exp_ls.fn)\n",
    "        sampling = 1/fs\n",
    "        time = np.linspace(0, len_rec*sampling, len_rec)\n",
    "\n",
    "        stim = stim_vel_dir_dataframe(exp_ls)\n",
    "\n",
    "        theta = np.asarray(stim.theta)\n",
    "\n",
    "        bin_centres, dir_bins = quantize_directions(stim.theta)\n",
    "        ind_regs = np.zeros((n_dirs, len(stim)))\n",
    "        for i_dir in range(n_dirs):\n",
    "            ind_regs[i_dir, :] = (np.abs(dir_bins - i_dir) < 0.1) & (stim.vel > 0.1) \n",
    "\n",
    "        #len_rec, num_cells = np.shape(traces)\n",
    "        # make a list of sensory regressors \n",
    "        reg, reg_interp = make_sensory_regressors(Experiment(fish), sampling=sampling)\n",
    "        reg_list = [reg]\n",
    "        print(np.shape(reg))\n",
    "        print(len_rec)\n",
    "\n",
    "        d = {\n",
    "            'regressors': reg,\n",
    "            'theta': theta,\n",
    "            'individual_theta': ind_regs,\n",
    "            'individual_theta_interp': reg_interp,\n",
    "        }\n",
    "        fl.save(fish / 'sensory_regressors.h5', d)\n",
    "    except:\n",
    "        print(\"Error\")"
   ]
  },
  {
   "cell_type": "code",
   "execution_count": null,
   "id": "ccc5199a-1e37-4f9a-9e2f-babd447afe95",
   "metadata": {},
   "outputs": [],
   "source": []
  }
 ],
 "metadata": {
  "kernelspec": {
   "display_name": "Python 3",
   "language": "python",
   "name": "python3"
  },
  "language_info": {
   "codemirror_mode": {
    "name": "ipython",
    "version": 3
   },
   "file_extension": ".py",
   "mimetype": "text/x-python",
   "name": "python",
   "nbconvert_exporter": "python",
   "pygments_lexer": "ipython3",
   "version": "3.7.10"
  }
 },
 "nbformat": 4,
 "nbformat_minor": 5
}
