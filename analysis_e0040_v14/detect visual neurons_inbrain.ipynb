{
 "cells": [
  {
   "cell_type": "code",
   "execution_count": null,
   "id": "informal-investor",
   "metadata": {},
   "outputs": [],
   "source": [
    "%matplotlib widget"
   ]
  },
  {
   "cell_type": "code",
   "execution_count": null,
   "id": "5c01baf0-4cf9-4041-98f9-1c25117cacf7",
   "metadata": {},
   "outputs": [],
   "source": [
    "from pathlib import Path\n",
    "import numpy as np\n",
    "import flammkuchen as fl\n",
    "import pandas as pd\n",
    "\n",
    "import skimage as sk\n",
    "import json\n",
    "\n",
    "from split_dataset import SplitDataset\n",
    "from bouterin.plots.stimulus_log_plot import get_paint_function\n",
    "from scipy.cluster.hierarchy import dendrogram, linkage, cut_tree, to_tree, set_link_color_palette\n",
    "from sklearn.cluster import AgglomerativeClustering\n",
    "from fimpylab.core.lightsheet_experiment import LightsheetExperiment\n",
    "\n",
    "from bouter.utilities import reliability \n",
    "from skimage.filters import threshold_otsu\n",
    "import xarray as xr\n",
    "\n",
    "from matplotlib import  pyplot as plt\n",
    "import seaborn as sns\n",
    "from tqdm import tqdm\n",
    "sns.set(style=\"ticks\", palette=\"deep\")\n",
    "cols = sns.color_palette()\n",
    "import ipywidgets as widgets\n",
    "\n",
    "from lotr.pca import pca_and_phase, fictive_heading_and_fit, fit_phase_neurons\n",
    "from circle_fit import hyper_fit\n",
    "from lotr import LotrExperiment, A_FISH\n",
    "\n",
    "import lotr.plotting as pltltr\n",
    "COLS = pltltr.COLS\n",
    "\n",
    "from lotr.utils import roll_columns_jit"
   ]
  },
  {
   "cell_type": "code",
   "execution_count": null,
   "id": "13248898-2ccc-4e78-89d7-353d80f1a3af",
   "metadata": {},
   "outputs": [],
   "source": [
    "def nan_phase_jumps(phase_array):\n",
    "    out_array = phase_array.copy()\n",
    "    out_array[1:][np.abs(np.diff(out_array)) > np.pi] = np.nan\n",
    "    return out_array"
   ]
  },
  {
   "cell_type": "code",
   "execution_count": null,
   "id": "937948fb-404d-4cd2-9895-d89863c627a1",
   "metadata": {},
   "outputs": [],
   "source": [
    "master =  Path(r\"\\\\funes\\Shared\\experiments\\E0040_motions_cardinal\\v13_cw_ccw\\ls_fixed\\spont_plus_v13\\huc\")\n",
    "master =  Path(r\"Z:\\Hagar\\E0040\\2p ablations\\E0040V13\")\n",
    "\n",
    "fish_list = list(master.glob(\"*_f*\"))\n",
    "path = fish_list[1]\n",
    "print(path)"
   ]
  },
  {
   "cell_type": "code",
   "execution_count": null,
   "id": "a263bfb7-ee57-4823-80bc-012ff204b7a5",
   "metadata": {},
   "outputs": [],
   "source": [
    "suite2p_data = fl.load(path / \"data_from_suite2p_cells.h5\")\n",
    "coords = suite2p_data['coords']\n",
    "anatomy = suite2p_data['anatomy_stack']\n",
    "\n",
    "df = fl.load(path / \"bouts_df.h5\")\n",
    "exp = LotrExperiment(path)\n",
    "fs = int(exp.fn)\n",
    "beh_df = exp.behavior_log"
   ]
  },
  {
   "cell_type": "code",
   "execution_count": null,
   "id": "7d35d90b-cdd7-47b7-8e49-db6e542f56a8",
   "metadata": {},
   "outputs": [],
   "source": [
    "traces = fl.load(path / \"filtered_traces.h5\", \"/detr\")"
   ]
  },
  {
   "cell_type": "code",
   "execution_count": null,
   "id": "247d5a91-d317-459b-8a1c-51a9f0fbf22b",
   "metadata": {},
   "outputs": [],
   "source": [
    "suite2p_brain = fl.load(path / \"data_from_suite2p_cells_brain.h5\")\n",
    "in_brain_idx = suite2p_brain['coords_idx']\n",
    "\n",
    "traces = traces[:, in_brain_idx]\n",
    "coords = coords[in_brain_idx]"
   ]
  },
  {
   "cell_type": "code",
   "execution_count": null,
   "id": "0f054db5-7af8-4a49-a358-0ed2eadbce12",
   "metadata": {},
   "outputs": [],
   "source": [
    "np.shape(in_brain_idx)"
   ]
  },
  {
   "cell_type": "code",
   "execution_count": null,
   "id": "154870e5-3db1-43c2-9f03-621cdeedb993",
   "metadata": {},
   "outputs": [],
   "source": [
    "t = np.arange(np.shape(traces)[1]) / fs\n",
    "\n",
    "len_rec, num_traces = np.shape(traces)\n",
    "print(\"num_traces: \", num_traces)\n",
    "print(\"len_rec: \", len_rec)\n",
    "print(\"sampling rate: \", fs)"
   ]
  },
  {
   "cell_type": "code",
   "execution_count": null,
   "id": "e4bd79cc-3a7a-4055-b5cb-780442ab8134",
   "metadata": {},
   "outputs": [],
   "source": [
    "######################### Part 2 - looking for neurons that reliably respond to the visual stimulus\n",
    "# selectnig reliable neruons \n",
    "n_blocks = 3\n",
    "norm_traces = traces.T\n",
    "stim_traces = norm_traces[:, ((len_rec // 2)):]\n",
    "new_len_rec = len_rec // (2 * n_blocks)\n",
    "print(np.shape(stim_traces))\n",
    "\n",
    "trial_traces = np.zeros((n_blocks, num_traces, new_len_rec))\n",
    "trial_traces = np.zeros((num_traces, n_blocks, new_len_rec))\n",
    "trial_traces_corrected = np.zeros((num_traces, n_blocks, new_len_rec))\n",
    "\n",
    "for i in range(n_blocks):\n",
    "    t1 = i * new_len_rec\n",
    "    t2 = t1 + new_len_rec\n",
    "    trial_traces[:, i] = stim_traces[:, t1:t2]"
   ]
  },
  {
   "cell_type": "code",
   "execution_count": null,
   "id": "953668f9-f121-4211-af87-05250fa2142f",
   "metadata": {},
   "outputs": [],
   "source": [
    "dt = 1 / fs\n",
    "traces_xr = xr.DataArray(\n",
    "    data=trial_traces,                               #Adding the data\n",
    "    dims=['roi', 'block', 't'],                #Defining name of the dimensions\n",
    "    coords={                                   #Defining values at which each dimension wase valuated\n",
    "        'roi':np.arange(trial_traces.shape[0]), \n",
    "        'block':np.arange(n_blocks),\n",
    "        't':np.arange(trial_traces.shape[2])*dt\n",
    "        }\n",
    "    )\n",
    "reliability_arr = reliability(np.swapaxes(traces_xr, 0, 2).values)\n",
    "rel_thresh = threshold_otsu(reliability_arr)\n",
    "print(\"Reliability threshold: \", rel_thresh)\n",
    "\n",
    "rel_thresh_3 = np.round(rel_thresh * 1000)\n",
    "rel_thresh_3 /=1000\n",
    "\n"
   ]
  },
  {
   "cell_type": "code",
   "execution_count": null,
   "id": "a3ac10f3-0c0f-4e3c-9279-e83055777a4c",
   "metadata": {},
   "outputs": [],
   "source": [
    "rel_thresh_3 = 0.4"
   ]
  },
  {
   "cell_type": "code",
   "execution_count": null,
   "id": "ff735239-56f5-4eee-ba66-3ce58ec76f3c",
   "metadata": {},
   "outputs": [],
   "source": [
    "# figure 2 - visual responses\n",
    "xlim1 = 0\n",
    "xlim2 = len_rec\n",
    "fig_vis, ax_vis = plt.subplots(2, 2, figsize=(8, 4), gridspec_kw={'width_ratios': [1, 2], 'height_ratios': [1, 6]}) \n",
    "\n",
    "extent_new_ls = (0, exp.plane_ext_um[3], 0, exp.plane_ext_um[1])\n",
    "\n",
    "exp = LotrExperiment(path)\n",
    "selected_vis = np.where(reliability_arr > rel_thresh_3)[0]\n",
    "#print(selected_vis)\n",
    "\n",
    "coords_vis = coords[selected_vis, 1:] * 0.6\n",
    "\n",
    "############ Anatomy plot of Visually responsive neurons:\n",
    "\n",
    "for i in range(2):\n",
    "    for j in range(2):\n",
    "        ax_vis[i,j].axis('off')\n",
    "    \n",
    "anatomy_layer = np.sum(anatomy, axis=0)\n",
    "anatomy_layer = np.rot90(anatomy_layer, k=2, axes=(1, 0))\n",
    "ax_vis[1, 0].imshow(anatomy_layer[:, ::-1], extent=extent_new_ls, origin=\"upper\", cmap='gray_r')#, vmin=9, vmax=100)\n",
    "ax_vis[1, 0].scatter(coords_vis[:,1], coords_vis[:,0], s=5, c='purple')\n",
    "pltltr.add_anatomy_scalebar(ax_vis[1, 0], pos=(-10,-10))\n",
    "\n",
    "############ Visual stimulus:\n",
    "ax_vis[0, 1].set_xlim(xlim1, xlim2)\n",
    "ax_vis[0, 0].set_title(\"Reliability thresh: \" + str(rel_thresh_3))\n",
    "\n",
    "stimulus_log = exp.stimulus_log\n",
    "stim_value, t_values = get_paint_function(stimulus_log, 'E0040_motions_cardinal')\n",
    "stim_value = stim_value / 255\n",
    "num_stim = np.shape(stim_value)[0]\n",
    "\n",
    "t_values *= fs\n",
    "for i in range(num_stim):\n",
    "    ax_vis[0, 1].axvspan(\n",
    "        t_values[i, 0],\n",
    "        t_values[i, 1],\n",
    "        facecolor=[\n",
    "            stim_value[i, 0],\n",
    "            stim_value[i, 1],\n",
    "            stim_value[i, 2],\n",
    "        ],\n",
    "        alpha=0.7,\n",
    "    )\n",
    "    \n",
    "############ Traces (only visually responsive taces):\n",
    "tmp_traces = traces.T\n",
    "rel_ind = np.where(reliability_arr > rel_thresh_3)[0]\n",
    "vis_traces = tmp_traces[rel_ind, :]\n",
    "im = ax_vis[1,1].imshow(\n",
    "    vis_traces,\n",
    "    extent=[0, exp.time_arr[-1], -np.pi, np.pi],\n",
    "    aspect=\"auto\",\n",
    "    cmap=COLS[\"dff_plot\"],\n",
    "    vmin=-1.7,\n",
    "    vmax=2.0,\n",
    ")\n",
    "\n",
    "pltltr.add_dff_cbar(\n",
    "    im,\n",
    "    ax_vis[1,1],\n",
    "    (1.07, 0.04, 0.03, 0.5),\n",
    "    title=\"ΔF (Z.)\",\n",
    "    titlesize=6,\n",
    "    labelsize=5,\n",
    "    ticklabels=None,\n",
    ")"
   ]
  },
  {
   "cell_type": "code",
   "execution_count": null,
   "id": "488d221e-934b-4265-83ec-dab7798a25ed",
   "metadata": {},
   "outputs": [],
   "source": [
    "file_name = \"visually responsive neurons (thresh \" + str(rel_thresh_3) + \").pdf\"\n",
    "fig_vis.savefig(path / file_name, dpi=300)"
   ]
  },
  {
   "cell_type": "code",
   "execution_count": null,
   "id": "8ccad9b8-795c-450e-8d62-d598f51f1016",
   "metadata": {},
   "outputs": [],
   "source": [
    "d = {\n",
    "    'reliability_arr': reliability_arr,\n",
    "}\n",
    "fl.save(path / 'reliable_rois.h5', d)"
   ]
  },
  {
   "cell_type": "code",
   "execution_count": null,
   "id": "faace632-0389-45dc-8c7f-ba9618e25a51",
   "metadata": {},
   "outputs": [],
   "source": []
  },
  {
   "cell_type": "code",
   "execution_count": null,
   "id": "831fefe5-4698-4fe4-8cc1-720987be8d92",
   "metadata": {},
   "outputs": [],
   "source": []
  },
  {
   "cell_type": "code",
   "execution_count": null,
   "id": "3c1a024d-655f-4d7f-be4f-f8748ec11345",
   "metadata": {},
   "outputs": [],
   "source": []
  },
  {
   "cell_type": "code",
   "execution_count": null,
   "id": "6a1c8c7c-553f-45c3-a848-4e9111ab2632",
   "metadata": {},
   "outputs": [],
   "source": []
  },
  {
   "cell_type": "code",
   "execution_count": null,
   "id": "d2e36c1c-eb55-4bac-8ad4-f7f90b6bf242",
   "metadata": {},
   "outputs": [],
   "source": []
  },
  {
   "cell_type": "code",
   "execution_count": null,
   "id": "4eeda84a-e2da-48cb-bdd3-ea297e4f44b7",
   "metadata": {},
   "outputs": [],
   "source": []
  },
  {
   "cell_type": "code",
   "execution_count": null,
   "id": "600ed4de-da0e-4716-a6ae-0a02a70f0b3c",
   "metadata": {},
   "outputs": [],
   "source": []
  },
  {
   "cell_type": "code",
   "execution_count": null,
   "id": "1b9f31bc-017f-4850-960f-79e175bd41e9",
   "metadata": {},
   "outputs": [],
   "source": []
  }
 ],
 "metadata": {
  "kernelspec": {
   "display_name": "Python 3",
   "language": "python",
   "name": "python3"
  },
  "language_info": {
   "codemirror_mode": {
    "name": "ipython",
    "version": 3
   },
   "file_extension": ".py",
   "mimetype": "text/x-python",
   "name": "python",
   "nbconvert_exporter": "python",
   "pygments_lexer": "ipython3",
   "version": "3.7.10"
  }
 },
 "nbformat": 4,
 "nbformat_minor": 5
}
