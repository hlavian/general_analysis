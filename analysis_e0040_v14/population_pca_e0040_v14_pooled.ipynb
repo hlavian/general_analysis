{
 "cells": [
  {
   "cell_type": "code",
   "execution_count": null,
   "metadata": {},
   "outputs": [],
   "source": [
    "import matplotlib\n",
    "%matplotlib widget\n",
    "import matplotlib.pyplot as plt\n",
    "import h5py\n",
    "import numpy as np\n",
    "from pathlib import Path\n",
    "import skimage as sk\n",
    "from skimage import io as skio\n",
    "import json\n",
    "import pandas as pd\n",
    "\n",
    "import flammkuchen as fl\n",
    "from split_dataset import SplitDataset\n",
    "from bouterin.plots.stimulus_log_plot import get_paint_function\n",
    "from sklearn.decomposition import PCA\n",
    "from fimpylab.core.twop_experiment import TwoPExperiment\n"
   ]
  },
  {
   "cell_type": "code",
   "execution_count": null,
   "metadata": {},
   "outputs": [],
   "source": [
    "master = Path(r\"J:\\_Shared\\experiments\\E0040_motions_cardinal\\v14_cw_ccw\")\n",
    "fish_list = ['200826_f1', '200827_f0', '200917_f0', '200918_f0']"
   ]
  },
  {
   "cell_type": "markdown",
   "metadata": {},
   "source": [
    "## load all traces and create transformation matrix:"
   ]
  },
  {
   "cell_type": "code",
   "execution_count": null,
   "metadata": {},
   "outputs": [],
   "source": [
    "# loading all traces\n",
    "len_segment = 2160\n",
    "traces_all = 0\n",
    "for i in range(4):\n",
    "    f = master / fish_list[i]\n",
    "    print(f)\n",
    "    dir_traces = f / \"traces.h5\"\n",
    "    traces_tmp = fl.load(dir_traces)['traces']\n",
    "    traces_tmp = traces_tmp[:, 0:len_segment]\n",
    "    if traces_all is 0:\n",
    "        traces_all = traces_tmp\n",
    "    else:\n",
    "        traces_all = np.concatenate((traces_all, traces_tmp), axis=0)\n",
    "    print(np.shape(traces_all))\n",
    "    "
   ]
  },
  {
   "cell_type": "code",
   "execution_count": null,
   "metadata": {},
   "outputs": [],
   "source": [
    "# normalizing traces:\n",
    "traces_all = traces_all.T\n",
    "traces_all = ((traces_all - traces_all.mean(0)) / traces_all.std(0))\n",
    "traces_all = traces_all.T"
   ]
  },
  {
   "cell_type": "code",
   "execution_count": null,
   "metadata": {},
   "outputs": [],
   "source": [
    "print(np.shape(traces_all))\n",
    "avg_traces = np.zeros((np.shape(traces_all)[0], np.shape(traces_all)[1]//3))\n",
    "for i in range(3):\n",
    "    t1 = i * np.shape(traces_all)[1]//3\n",
    "    t2 = t1 + np.shape(traces_all)[1]//3\n",
    "    avg_traces += traces_all[:, t1:t2]\n",
    "avg_traces /= 3\n",
    "print(np.shape(avg_traces))"
   ]
  },
  {
   "cell_type": "code",
   "execution_count": null,
   "metadata": {},
   "outputs": [],
   "source": [
    "np.shape(avg_traces)\n",
    "fig0, ax0 = plt.subplots(1, 1)\n",
    "ax0.imshow(avg_traces)"
   ]
  },
  {
   "cell_type": "code",
   "execution_count": null,
   "metadata": {},
   "outputs": [],
   "source": [
    "n_comp = 5\n",
    "time_pca = PCA(n_components=n_comp)\n",
    "transformed_data2 = time_pca.fit_transform(avg_traces, 0)\n",
    "pcs2 = time_pca.components_\n",
    "\n",
    "print(np.shape(pcs2))"
   ]
  },
  {
   "cell_type": "code",
   "execution_count": null,
   "metadata": {},
   "outputs": [],
   "source": [
    "exp = TwoPExperiment(path=f)\n",
    "color_list = plt.cm.rainbow(np.linspace(0, 1, 5))\n",
    "\n",
    "t = np.arange(0, 720) / 3\n",
    "\n",
    "fig3, ax3 = plt.subplots(1, 2, figsize=(8 ,8))\n",
    "ax3[1].bar(np.arange(n_comp), time_pca.explained_variance_ratio_)\n",
    "\n",
    "for i in range(n_comp):\n",
    "    ax3[0].plot(t, pcs2[i] + i*0.25)\n",
    "ax3[0].set_title(\"PCs\")\n",
    "ax3[1].set_title(\"explained variance\")\n",
    "\n",
    "stimulus_log = exp.load_session_log(log_name='stimulus_log', session_idx=0)\n",
    "stim_value, t_values = get_paint_function(stimulus_log, 'E0040_motions_cardinal')\n",
    "stim_value = stim_value / 255\n",
    "num_stim = np.shape(stim_value)[0] // 3\n",
    "\n",
    "for i in range(num_stim):\n",
    "    ax3[0].axvspan(\n",
    "        t_values[i, 0],\n",
    "        t_values[i, 1],\n",
    "        facecolor=[\n",
    "            stim_value[i, 0],\n",
    "            stim_value[i, 1],\n",
    "            stim_value[i, 2],\n",
    "        ],\n",
    "        alpha=0.5,\n",
    "    )\n",
    "                \n",
    "#plt.xlabel(\"Time (sec)\")"
   ]
  },
  {
   "cell_type": "code",
   "execution_count": null,
   "metadata": {},
   "outputs": [],
   "source": [
    "fig3.savefig(str(master/'pca_time_avg_210304_combined.jpg'))"
   ]
  },
  {
   "cell_type": "markdown",
   "metadata": {},
   "source": [
    "#### Choosing one fish and applying the transformation on the data"
   ]
  },
  {
   "cell_type": "code",
   "execution_count": null,
   "metadata": {},
   "outputs": [],
   "source": [
    "fish_id = fish_list[3]\n",
    "fish_dir = master / fish_id\n",
    "# Normalize traces:\n",
    "traces = fl.load(fish_dir / \"traces.h5\")[\"traces\"].T\n",
    "traces = ((traces - traces.mean(0)) / traces.std(0))\n",
    "traces=traces.T[:, 0:-2]\n",
    "\n",
    "print(np.shape(traces))\n",
    "avg_traces = np.zeros((np.shape(traces)[0], np.shape(traces)[1]//3))\n",
    "for i in range(3):\n",
    "    t1 = i * np.shape(traces)[1]//3\n",
    "    t2 = t1 + np.shape(traces)[1]//3\n",
    "    avg_traces += traces[:, t1:t2]\n",
    "avg_traces /= 3\n",
    "print(np.shape(avg_traces))\n",
    "\n",
    "# Rois\n",
    "rois = fl.load(fish_dir / \"merged_rois.h5\")[\"stack\"]\n"
   ]
  },
  {
   "cell_type": "code",
   "execution_count": null,
   "metadata": {},
   "outputs": [],
   "source": [
    "# transforming the data:\n",
    "#transformed_sata = time_pca.transform(avg_traces)\n",
    "transformed_data = np.matmul(pcs2, avg_traces.T)"
   ]
  },
  {
   "cell_type": "code",
   "execution_count": null,
   "metadata": {},
   "outputs": [],
   "source": [
    "print(np.shape(avg_traces))\n",
    "print(np.shape(pcs2))\n",
    "print(np.shape(transformed_data))\n",
    "labels = transformed_data.T"
   ]
  },
  {
   "cell_type": "code",
   "execution_count": null,
   "metadata": {},
   "outputs": [],
   "source": [
    "roi_map = np.copy(rois)\n",
    "num_rois = np.shape(traces)[0]\n",
    "roi_map_pc123 = np.zeros((np.shape(roi_map)[0], np.shape(roi_map)[1], np.shape(roi_map)[2], 3))\n",
    "\n",
    "for i in range(0, num_rois):\n",
    "    roi_ind = np.where(roi_map == (i + 1))\n",
    "    for j in range(3):\n",
    "        roi_map_pc123[roi_ind[0], roi_ind[1], roi_ind[2], j] = labels[i,j]\n"
   ]
  },
  {
   "cell_type": "code",
   "execution_count": null,
   "metadata": {},
   "outputs": [],
   "source": [
    "fig6, ax6 = plt.subplots(9, 3, figsize=(12, 20))\n",
    "\n",
    "num_planes = 16 #np.shape(rois)[0]-7\n",
    "min_max = np.zeros((3, 2))\n",
    "for i in range(3):\n",
    "    min_max[i, 0] = np.min(roi_map_pc123[:,:,:,i])\n",
    "    min_max[i, 1] = np.max(roi_map_pc123[:,:,:,i])\n",
    "cmap_list = ['Reds', 'Greens', 'Blues']\n",
    "im_list = [0, 0, 0]\n",
    "\n",
    "for i in range(9):\n",
    "    \n",
    "    for j in range(3):\n",
    "        roi_layer = roi_map_pc123[i,:,:,j]\n",
    "        #roi_layer[0, 0:2] = min_max[j,:]\n",
    "        roi_layer = np.ma.masked_where(roi_layer == 0, roi_layer)\n",
    "        roi_layer = np.rot90(roi_layer, k=1, axes=(1, 0))\n",
    "        im_list[j] = ax6[i, j].imshow(roi_layer, cmap='coolwarm')#, alpha=1, vmin=min_max[j,0], vmax=min_max[j,1])\n",
    "    \n",
    "        ax6[i, j].axis('off')\n",
    "\n",
    "fig6.suptitle(fish_id)\n",
    "#fig6.colorbar(im_list[0], ax=ax6[0,3])\n",
    "#fig6.colorbar(im_list[1], ax=ax6[1,3])\n",
    "#fig6.colorbar(im_list[2], ax=ax6[2,3])\n",
    "plt.show()\n",
    "file_name = 'rois_group_pc123_' + fish_id + '.jpg'\n",
    "fig6.savefig(str(fish_dir/file_name), dpi=300)"
   ]
  },
  {
   "cell_type": "code",
   "execution_count": null,
   "metadata": {},
   "outputs": [],
   "source": [
    "fig7, ax7 = plt.subplots(1, 3, figsize=(12, 5))\n",
    "\n",
    "num_planes = 16 #np.shape(rois)[0]-7\n",
    "min_max = np.zeros((3, 2))\n",
    "for i in range(3):\n",
    "    min_max[i, 0] = -np.max(roi_map_pc123[:,:,:,i])\n",
    "    min_max[i, 1] = np.max(roi_map_pc123[:,:,:,i])\n",
    "cmap_list = ['Reds', 'Greens', 'Blues']\n",
    "im_list = [0, 0, 0]\n",
    "title_list = ['PC1', 'PC2', 'PC3']\n",
    "for i in range(num_planes):\n",
    "\n",
    "    for j in range(3):\n",
    "        roi_layer = roi_map_pc123[i,:,:,j]\n",
    "        #roi_layer[0, 0:2] = min_max[j,:]\n",
    "        roi_layer = np.ma.masked_where(roi_layer == 0, roi_layer)\n",
    "        roi_layer = np.rot90(roi_layer, k=1, axes=(1, 0))\n",
    "        im_list[j] = ax7[j].imshow(roi_layer, cmap='coolwarm', alpha=1, vmin=min_max[j,0], vmax=min_max[j,1])\n",
    "        \n",
    "        ax7[j].set_title(title_list[j])\n",
    "        ax7[j].axis('off')\n",
    "\n",
    "fig7.suptitle(fish_id)\n",
    "#fig7.colorbar(im_list[0], ax=ax7[0])\n",
    "#fig7.colorbar(im_list[1], ax=ax7[1])\n",
    "#fig7.colorbar(im_list[2], ax=ax7[2])\n",
    "plt.show()\n",
    "file_name = 'rois_overlay_pc123_' + fish_id + '.jpg'\n",
    "fig7.savefig(str(fish_dir/file_name))"
   ]
  },
  {
   "cell_type": "code",
   "execution_count": null,
   "metadata": {},
   "outputs": [],
   "source": []
  },
  {
   "cell_type": "code",
   "execution_count": null,
   "metadata": {},
   "outputs": [],
   "source": []
  }
 ],
 "metadata": {
  "kernelspec": {
   "display_name": "Python 3 (ipykernel)",
   "language": "python",
   "name": "python3"
  },
  "language_info": {
   "codemirror_mode": {
    "name": "ipython",
    "version": 3
   },
   "file_extension": ".py",
   "mimetype": "text/x-python",
   "name": "python",
   "nbconvert_exporter": "python",
   "pygments_lexer": "ipython3",
   "version": "3.7.6"
  }
 },
 "nbformat": 4,
 "nbformat_minor": 4
}
