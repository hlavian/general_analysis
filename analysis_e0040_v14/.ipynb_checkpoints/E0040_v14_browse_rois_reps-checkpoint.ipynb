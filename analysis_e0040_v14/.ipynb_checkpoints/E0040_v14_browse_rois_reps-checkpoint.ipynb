{
 "cells": [
  {
   "cell_type": "code",
   "execution_count": null,
   "id": "marked-organization",
   "metadata": {},
   "outputs": [],
   "source": [
    "import matplotlib\n",
    "%matplotlib widget\n",
    "\n",
    "import numpy as np\n",
    "from split_dataset import SplitDataset\n",
    "from pathlib import Path\n",
    "import flammkuchen as fl\n",
    "from tifffile import imread\n",
    "import matplotlib.pyplot as plt \n",
    "from fimpylab.core.twop_experiment import TwoPExperiment\n",
    "from bouterin.plots.stimulus_log_plot import get_paint_function\n",
    "\n",
    "from bouter.utilities import reliability \n",
    "from skimage.filters import threshold_otsu\n",
    "import xarray as xr\n",
    "from scipy.signal import detrend \n",
    "\n",
    "import tifffile as tiff"
   ]
  },
  {
   "cell_type": "code",
   "execution_count": null,
   "id": "alien-jewel",
   "metadata": {},
   "outputs": [],
   "source": [
    "master = Path(r\"\\\\Funes\\Shared\\experiments\\E0040_motions_cardinal\\v13_cw_ccw\\2p\\rf\\fixed\")\n",
    "fish_list = list(master.glob(\"*f[0-9]*\"))\n",
    "fish_dir = fish_list[0]\n",
    "\n",
    "try:\n",
    "    with open(next(fish_dir.glob(\"*metadata.json\"))) as i:\n",
    "        metadata = json.load(i)\n",
    "    fish_id = metadata['general']['fish_id']\n",
    "except:\n",
    "    fish_id = \"\"\n",
    "print(fish_dir)\n",
    "print(fish_id)"
   ]
  },
  {
   "cell_type": "code",
   "execution_count": null,
   "id": "unique-jackson",
   "metadata": {},
   "outputs": [],
   "source": [
    "traces = fl.load(fish_dir / \"traces.h5\")['traces'][:, 0:-2]\n",
    "fs = 3\n",
    "t = np.arange(np.shape(traces)[1]) / fs\n",
    "num_traces, len_rec = np.shape(traces)\n",
    "print(\"num_traces: \", num_traces)\n",
    "print(\"len_rec: \", len_rec)\n",
    "new_len_rec = int(len_rec/3)"
   ]
  },
  {
   "cell_type": "code",
   "execution_count": null,
   "id": "affiliated-tragedy",
   "metadata": {},
   "outputs": [],
   "source": [
    "norm_traces = np.copy(traces)\n",
    "norm_traces=norm_traces.T# need to transpose it since the functions work like that \n",
    "sd=np.nanstd(norm_traces)\n",
    "mean=np.nanmean(norm_traces)\n",
    "norm_traces=norm_traces-mean #numerator in the formula for z-score \n",
    "norm_traces=norm_traces/sd\n",
    "traces=norm_traces.T"
   ]
  },
  {
   "cell_type": "code",
   "execution_count": null,
   "id": "approved-delight",
   "metadata": {},
   "outputs": [],
   "source": [
    "# correct for drift with detrend: \n",
    "corrected_traces = np.zeros_like(traces)\n",
    "for i in range(num_traces):\n",
    "    corrected_traces[i] = detrend(traces[i], axis=0,overwrite_data=True, type='linear')\n",
    "#traces[np.where(np.isnan(traces))] = 0\n",
    "corrected_traces = detrend(traces, axis=0, overwrite_data=False, type='linear')\n",
    "print(np.shape(corrected_traces))"
   ]
  },
  {
   "cell_type": "code",
   "execution_count": null,
   "id": "rolled-semester",
   "metadata": {},
   "outputs": [],
   "source": [
    "trial_traces = np.zeros((3, num_traces, new_len_rec))\n",
    "trial_traces = np.zeros((num_traces, 3, new_len_rec))\n",
    "trial_traces_corrected = np.zeros((num_traces, 3, new_len_rec))\n",
    "\n",
    "for i in range(3):\n",
    "    t1 = i * new_len_rec\n",
    "    t2 = t1 + new_len_rec\n",
    "    trial_traces[:, i] = traces[:, t1:t2]\n",
    "    trial_traces_corrected[:, i] = corrected_traces[:, t1:t2]\n",
    "avg_traces = np.nanmean(trial_traces_corrected, 1)\n",
    "print(np.shape(trial_traces))"
   ]
  },
  {
   "cell_type": "code",
   "execution_count": null,
   "id": "ethical-cedar",
   "metadata": {},
   "outputs": [],
   "source": [
    "print(np.shape(avg_traces))"
   ]
  },
  {
   "cell_type": "code",
   "execution_count": null,
   "id": "italic-royal",
   "metadata": {},
   "outputs": [],
   "source": [
    "n_blocks = 3\n",
    "dt = 0.33\n",
    "traces_xr = xr.DataArray(\n",
    "    data=trial_traces,                               #Adding the data\n",
    "    dims=['roi', 'block', 't'],                #Defining name of the dimensions\n",
    "    coords={                                   #Defining values at which each dimension wase valuated\n",
    "        'roi':np.arange(trial_traces.shape[0]), \n",
    "        'block':np.arange(n_blocks),\n",
    "        't':np.arange(trial_traces.shape[2])*dt\n",
    "        }\n",
    "    )\n",
    "reliability_arr = reliability(np.swapaxes(traces_xr, 0, 2).values)\n",
    "rel_thresh = threshold_otsu(reliability_arr)\n",
    "print(\"Reliability threshold: \", rel_thresh)\n",
    "\n",
    "rel_thresh_3 = np.round(rel_thresh * 1000)\n",
    "rel_thresh_3 /=1000\n",
    "\n",
    "traces_xr_det = xr.DataArray(\n",
    "    data=trial_traces_corrected,                               #Adding the data\n",
    "    dims=['roi', 'block', 't'],                #Defining name of the dimensions\n",
    "    coords={                                   #Defining values at which each dimension wase valuated\n",
    "        'roi':np.arange(trial_traces_corrected.shape[0]), \n",
    "        'block':np.arange(n_blocks),\n",
    "        't':np.arange(trial_traces_corrected.shape[2])*dt\n",
    "        }\n",
    "    )\n",
    "reliability_arr_det = reliability(np.swapaxes(traces_xr_det, 0, 2).values)\n",
    "rel_thresh_det = threshold_otsu(reliability_arr_det)\n",
    "print(\"Reliability threshold: \", rel_thresh_det)\n",
    "\n",
    "rel_thresh_3_det = np.round(rel_thresh_det * 1000)\n",
    "rel_thresh_3_det /=1000\n",
    "print(np.shape(reliability_arr_det))"
   ]
  },
  {
   "cell_type": "code",
   "execution_count": null,
   "id": "tribal-crash",
   "metadata": {},
   "outputs": [],
   "source": [
    "#Visualize\n",
    "fig, ax = plt.subplots(1, 2)\n",
    "ax[0].hist(reliability_arr, bins=50, density=True);\n",
    "ax[0].axvline(rel_thresh, c='red', ls='--')\n",
    "\n",
    "ax[0].set_xlim([0,1])\n",
    "ax[0].set_xlabel('Average correlation between reps')\n",
    "ax[0].set_ylabel('Density')\n",
    "ax[0].set_title(\"Reliability threshold: \" + str(rel_thresh_3))\n",
    "plt.tight_layout()\n",
    "\n",
    "ax[1].hist(reliability_arr_det, bins=50, density=True);\n",
    "ax[1].axvline(rel_thresh_det, c='red', ls='--')\n",
    "ax[1].set_xlim([-1,1])\n",
    "ax[1].set_xlabel('Average correlation between reps')\n",
    "ax[1].set_ylabel('Density')\n",
    "ax[1].set_title(\"Detrend, Reliability threshold: \" + str(rel_thresh_3_det))\n",
    "plt.tight_layout()\n",
    "\n",
    "file_name = \"reliability index \" + fish_id\n",
    "fig.savefig(str(fish_dir/file_name))"
   ]
  },
  {
   "cell_type": "code",
   "execution_count": null,
   "id": "instructional-rugby",
   "metadata": {},
   "outputs": [],
   "source": [
    "## removing unreliable traces:\n",
    "\n",
    "#ind_reliable = np.where(reliability_arr_det >= rel_thresh_3_det)\n",
    "#print(np.shape(ind_reliable))\n",
    "#num_reliable_traces = np.shape(ind_reliable)[1]\n",
    "#reliable_traces = norm_traces.T[ind_reliable]\n",
    "#print(np.shape(reliable_traces))"
   ]
  },
  {
   "cell_type": "code",
   "execution_count": null,
   "id": "surrounded-transcript",
   "metadata": {},
   "outputs": [],
   "source": [
    "exp = TwoPExperiment(path=fish_dir)\n",
    "num_subtrials = 16\n",
    "num_rep = 3\n",
    "num_trials = num_rep * num_subtrials\n",
    "\n",
    "stimulus_log = exp.load_session_log(log_name='stimulus_log', session_idx=0)\n",
    "stim_value, t_values = get_paint_function(stimulus_log, 'E0040_motions_cardinal')\n",
    "stim_value = stim_value / 255\n",
    "num_stim = np.shape(stim_value)[0]"
   ]
  },
  {
   "cell_type": "code",
   "execution_count": null,
   "id": "liable-chicago",
   "metadata": {},
   "outputs": [],
   "source": [
    "avg_traces = reliable_traces\n",
    "num_traces = num_reliable_traces"
   ]
  },
  {
   "cell_type": "code",
   "execution_count": null,
   "id": "organized-going",
   "metadata": {},
   "outputs": [],
   "source": [
    "fig, ax = plt.subplots(figsize=(15,15))\n",
    "for i in range(num_stim):\n",
    "    ax.axvspan(\n",
    "        t_values[i, 0],\n",
    "        t_values[i, 1],\n",
    "        facecolor=[stim_value[i, 0], stim_value[i, 1], stim_value[i, 2]],\n",
    "        alpha=0.5,\n",
    "    )\n",
    "plt.show()"
   ]
  },
  {
   "cell_type": "code",
   "execution_count": null,
   "id": "adapted-thomas",
   "metadata": {},
   "outputs": [],
   "source": [
    "fig1, ax1 = plt.subplots(1, 2, figsize=(9,4), gridspec_kw={'width_ratios': [1, 2]})\n",
    "for i in range(17):\n",
    "    ax1[1].axvspan(\n",
    "        t_values[i, 0],\n",
    "        t_values[i, 1],\n",
    "        facecolor=[stim_value[i, 0], stim_value[i, 1], stim_value[i, 2]],\n",
    "        alpha=0.5,\n",
    "    )\n",
    "    \n",
    "t_avg = t[0:new_len_rec]\n",
    "ind_trace = 61\n",
    "\n",
    "for i in range(3):\n",
    "    ax1[1].plot(t_avg, trial_traces[ind_trace, i], c='gray')\n",
    "ax1[1].plot(t_avg, avg_traces[ind_trace], c='k')\n",
    "plt.show()\n"
   ]
  },
  {
   "cell_type": "code",
   "execution_count": null,
   "id": "sporting-glenn",
   "metadata": {},
   "outputs": [],
   "source": [
    "file_name = \"roi\" + str(ind_trace) + \".jpg\"\n",
    "fig1.savefig(fish_dir / file_name, dpi=300)"
   ]
  },
  {
   "cell_type": "code",
   "execution_count": null,
   "id": "8b67a332-2ce1-4f11-8170-9d1c11ca106c",
   "metadata": {},
   "outputs": [],
   "source": []
  },
  {
   "cell_type": "code",
   "execution_count": null,
   "id": "fff06d04-7a47-40e8-b745-1213f6725ef7",
   "metadata": {},
   "outputs": [],
   "source": [
    "save_dir = Path(r\"C:\\Users\\lavian\\Desktop\\CCC 2022\")\n",
    "\n",
    "roi_map = fl.load(path /'merged_rois.h5')['stack']\n",
    "\n",
    "anatomy = tiff.imread(path / \"anatomy4.tif\")"
   ]
  },
  {
   "cell_type": "code",
   "execution_count": null,
   "id": "9d54179f-6d33-4bee-ac4c-47527ccf5992",
   "metadata": {},
   "outputs": [],
   "source": [
    "num_cells = 5\n",
    "cells = [0, 1, 50, 61, 48]\n",
    "col_list = [\"lightcoral\", \"orange\", \"springgreen\", \"deepskyblue\", \"mediumpurple\",\"gold\", \"cyan\", \"crimson\", \"deeppink\", \"lawngreen\", \"darkviolet\", \"orchid\", \"limegreen\", \"seagreen\", \"chocolate\", \"blue\", \"navy\"]"
   ]
  },
  {
   "cell_type": "code",
   "execution_count": null,
   "id": "6f856e46-4261-42e3-bc39-7903c7f9a34a",
   "metadata": {},
   "outputs": [],
   "source": [
    "fig1, ax1 = plt.subplots(1, 2, figsize=(9,3), gridspec_kw={'width_ratios': [1, 2]})\n",
    "for i in range(17):\n",
    "    ax1[1].axvspan(\n",
    "        t_values[i, 0],\n",
    "        t_values[i, 1],\n",
    "        facecolor=[stim_value[i, 0], stim_value[i, 1], stim_value[i, 2]],\n",
    "        alpha=0.2,\n",
    "    )\n",
    "    \n",
    "t_avg = t[0:new_len_rec]\n",
    "\n",
    "anatomy_p = anatomy[1]\n",
    "anatomy_p = np.nanmean(anatomy, axis=0)\n",
    "anatomy_p = np.rot90(anatomy_p, 3)\n",
    "ax1[0].imshow(anatomy_p, cmap=\"gray_r\", vmin=150, vmax=400)\n",
    "ax1[0].axis(\"off\")\n",
    "for i in range(num_cells):\n",
    "    for j in range(3):\n",
    "        ax1[1].plot(t_avg, trial_traces[cells[i], j] + i*4, c='gray')\n",
    "    ax1[1].plot(t_avg, avg_traces[cells[i]] + i*4, c=col_list[i])\n",
    "    \n",
    "    \n",
    "    ind = np.where(roi_map == cells[i])[1:]\n",
    "    x_ind = np.mean(ind[0])\n",
    "    y_ind = np.mean(ind[1])\n",
    "    \n",
    "    ax1[0].scatter(x_ind, y_ind, s=10, c=col_list[i])\n",
    "ax1[1].set_xlim(0, 124)\n",
    "ax1[1].axis(\"off\")\n",
    "plt.show()\n"
   ]
  },
  {
   "cell_type": "code",
   "execution_count": null,
   "id": "f84d52f1-1d8e-405a-b442-c974821438ed",
   "metadata": {},
   "outputs": [],
   "source": [
    "file_name = \"rois_example.pdf\"\n",
    "fig1.savefig(save_dir / file_name, dpi=300)"
   ]
  },
  {
   "cell_type": "code",
   "execution_count": null,
   "id": "79a6a5cf-1433-475f-89a9-4b13abdac85b",
   "metadata": {},
   "outputs": [],
   "source": []
  },
  {
   "cell_type": "code",
   "execution_count": null,
   "id": "1cfe75b9-fcb5-4bfb-b397-57008a96a8c2",
   "metadata": {},
   "outputs": [],
   "source": []
  },
  {
   "cell_type": "code",
   "execution_count": null,
   "id": "stone-commercial",
   "metadata": {},
   "outputs": [],
   "source": [
    "nice_inds = [1, 2, 3, 5, 7, 12, 14, 15, 16, 19, 27, 33, 36, 45, 48, 66, 67, 68, 74, 79, 80, 89, 90, 92, 97, 100, 111, 112, 114, 129, 132, 138, 140, 156, 165, 168, 169]\n",
    "reliable_inds = [9, 25, 46, 78, 101, 113, 143, 159, 176]\n",
    "ihnhib_resp_inds = [51, 84, 85, 134]"
   ]
  },
  {
   "cell_type": "code",
   "execution_count": null,
   "id": "utility-desperate",
   "metadata": {},
   "outputs": [],
   "source": [
    "len(nice_inds)"
   ]
  },
  {
   "cell_type": "code",
   "execution_count": null,
   "id": "quality-parallel",
   "metadata": {},
   "outputs": [],
   "source": [
    "a = np.array([[1, 2, 5, 1, 9, 5, 6], [8, 3, 4, 3, 2, 1, 7], [2, 1, 6, 3, 4, 9, 0]])\n",
    "print(a)\n",
    "b = [1, 0, 2]\n",
    "c = a[b, :]\n",
    "print(c)"
   ]
  },
  {
   "cell_type": "code",
   "execution_count": null,
   "id": "eight-jones",
   "metadata": {},
   "outputs": [],
   "source": [
    "max_vals = np.zeros((num_traces, 2, 8))\n",
    "\n",
    "for i in range(8):\n",
    "    t1 = (i * 15) + 5\n",
    "    t2 = t1 + (fs * 10)\n",
    "    tmp_traces = avg_traces[:, t1:t2]\n",
    "    tmp_max = np.amax(tmp_traces, axis=1)\n",
    "    max_vals[:, 0, i] = tmp_max\n",
    "    \n",
    "    t1 = ((8-i) * 15) + 5\n",
    "    t2 = t1 + (fs * 10)\n",
    "    tmp_traces = avg_traces[:, t1:t2]\n",
    "    tmp_max = np.amax(tmp_traces, axis=1)\n",
    "    max_vals[:, 1, 7-i] = tmp_max"
   ]
  },
  {
   "cell_type": "code",
   "execution_count": null,
   "id": "promising-equipment",
   "metadata": {},
   "outputs": [],
   "source": [
    "max_diff = max_vals[:, 1, :] - max_vals[:, 0, :]\n",
    "fig2, ax2 = plt.subplots(figsize=(13,5))\n",
    "ax2.imshow(max_diff, extent=[0,  1000, 0, 500])#, vmin=-20, vmax=1500)\n",
    "print(max_diff)"
   ]
  },
  {
   "cell_type": "code",
   "execution_count": null,
   "id": "visible-british",
   "metadata": {},
   "outputs": [],
   "source": [
    "roi_map = fl.load(fish_dir / \"merged_rois.h5\")['stack'][0:12,:,:]\n",
    "fig3, ax3 = plt.subplots(3, 5, figsize=(12, 12))\n",
    "num_rois = num_traces\n",
    "num_planes = np.shape(roi_map)[0]\n",
    "\n",
    "for i in range(num_planes):\n",
    "    r = i // 5\n",
    "    c = np.mod(i, 5)\n",
    "    \n",
    "    roi_layer = roi_map[i]\n",
    "    roi_layer = np.ma.masked_where(roi_layer < 1, roi_layer)\n",
    "    roi_layer = np.rot90(roi_layer, k=1, axes=(1, 0))\n",
    "\n",
    "    ax3[r, c].imshow(roi_layer, cmap=\"rainbow\")\n",
    "    \n",
    "plt.show()"
   ]
  },
  {
   "cell_type": "code",
   "execution_count": null,
   "id": "norman-cycling",
   "metadata": {},
   "outputs": [],
   "source": [
    "from matplotlib.colors import LinearSegmentedColormap"
   ]
  },
  {
   "cell_type": "code",
   "execution_count": null,
   "id": "pending-motel",
   "metadata": {},
   "outputs": [],
   "source": [
    "roi_map_max_diff = np.zeros_like(roi_map)\n",
    "roi_map_max_diff_pos = np.zeros_like(roi_map)\n",
    "roi_map_max_diff_neg = np.zeros_like(roi_map)\n",
    "\n",
    "roi_map_max_diff_pos_val = np.zeros_like(roi_map)\n",
    "roi_map_max_diff_neg_val = np.zeros_like(roi_map)\n",
    "\n",
    "roi_map_max_0 = np.zeros_like(roi_map)\n",
    "roi_map_max_1 = np.zeros_like(roi_map_max_0)\n",
    "roi_map_max_2 = np.zeros_like(roi_map_max_0)\n",
    "roi_map_max_3 = np.zeros_like(roi_map_max_0)\n",
    "roi_map_max_4 = np.zeros_like(roi_map_max_0)\n",
    "roi_map_max_5 = np.zeros_like(roi_map_max_0)\n",
    "roi_map_max_6 = np.zeros_like(roi_map_max_0)\n",
    "roi_map_max_7 = np.zeros_like(roi_map_max_0)\n",
    "\n",
    "max_diff_filtered = np.copy(max_diff)\n",
    "max_diff_filtered[np.where(abs(max_diff_filtered) < 200)[0]] = 0\n",
    "tmp_max = np.argmax(abs(max_diff), axis=1)\n",
    "tmp_max_pos = np.argmax(max_diff, axis=1)\n",
    "tmp_max_neg = np.argmax(max_diff * -1, axis=1)\n",
    "\n",
    "print(tmp_max)\n",
    "tmp_max_val = np.amax(abs(max_diff), axis=1)\n",
    "tmp_max_pos_val = np.amax(max_diff, axis=1)\n",
    "tmp_max_neg_val = np.amax(max_diff * -1, axis=1)\n",
    "\n",
    "#tmp_max[np.where(tmp_max_val < 200)[0]] = -1\n",
    "#tmp_max_pos[np.where(tmp_max_pos_val < 200)[0]] = -1\n",
    "#tmp_max_neg[np.where(tmp_max_neg_val < 200)[0]] = -1\n",
    "for i in range(0, num_rois):\n",
    "    \n",
    "    roi_map_max_diff[np.where(roi_map == (i + 1))] = tmp_max[i] + 1\n",
    "    roi_map_max_diff_pos[np.where(roi_map == (i + 1))] = tmp_max_pos[i] + 1\n",
    "    roi_map_max_diff_neg[np.where(roi_map == (i + 1))] = tmp_max_neg[i] + 1\n",
    "    \n",
    "    roi_map_max_diff_pos_val[np.where(roi_map == (i + 1))] = tmp_max_pos_val[i]\n",
    "    roi_map_max_diff_neg_val[np.where(roi_map == (i + 1))] = tmp_max_neg_val[i]\n",
    "    \n",
    "    roi_map_max_0[np.where(roi_map == (i + 1))] = max_diff[i, 0]\n",
    "    roi_map_max_1[np.where(roi_map == (i + 1))] = max_diff[i, 1]\n",
    "    roi_map_max_2[np.where(roi_map == (i + 1))] = max_diff[i, 2]\n",
    "    roi_map_max_3[np.where(roi_map == (i + 1))] = max_diff[i, 3]\n",
    "    roi_map_max_4[np.where(roi_map == (i + 1))] = max_diff[i, 4]\n",
    "    roi_map_max_5[np.where(roi_map == (i + 1))] = max_diff[i, 5]\n",
    "    roi_map_max_6[np.where(roi_map == (i + 1))] = max_diff[i, 6]\n",
    "    roi_map_max_7[np.where(roi_map == (i + 1))] = max_diff[i, 7]\n"
   ]
  },
  {
   "cell_type": "code",
   "execution_count": null,
   "id": "functioning-trinidad",
   "metadata": {},
   "outputs": [],
   "source": [
    "ind_sort = np.argsort(tmp_max_val)\n",
    "sorted_traces = avg_traces[ind_sort]\n",
    "np.shape(sorted_traces)\n",
    "fig10, ax10 = plt.subplots(1, 1, figsize=(12, 12))\n",
    "ax10.imshow(sorted_traces,extent=[0,  1000, 0, 1000])\n",
    "print(ind_sort)\n",
    "fig10.savefig(str(fish_dir/'traces_sorted_max_diff_abs.jpg'), dpi=300)"
   ]
  },
  {
   "cell_type": "code",
   "execution_count": null,
   "id": "acting-square",
   "metadata": {},
   "outputs": [],
   "source": [
    "fig4, ax4 = plt.subplots(3, 4, figsize=(12, 12))\n",
    "color_list = [\"lightskyblue\", \"turquoise\", \"lightgreen\", \"khaki\", \"gold\",\"pink\", \"plum\", \"violet\"]\n",
    "cm_roi = LinearSegmentedColormap.from_list(\"my_list\", color_list, N=8)\n",
    "\n",
    "for i in range(num_planes):\n",
    "    r = i // 4\n",
    "    c = np.mod(i, 4)\n",
    "    \n",
    "    roi_layer = roi_map_max_diff[i]\n",
    "    roi_layer[0, 1:9] = [1, 2, 3, 4, 5, 6, 7, 8]\n",
    "    roi_layer = np.ma.masked_where(roi_layer < 1, roi_layer)\n",
    "    roi_layer = np.rot90(roi_layer, k=1, axes=(1, 0))\n",
    "\n",
    "    #ax4[r, c].imshow(roi_layer, cmap=\"rainbow\")\n",
    "    ax4[r, c].imshow(roi_layer, cmap=cm_roi)\n",
    "    ax4[r, c].axis('off')\n",
    "    ax4[r, c].set_title(\"z\" + str(i))\n",
    "    #print(roi_layer)\n",
    "\n",
    "    \n",
    "plt.show()\n",
    "fig4.savefig(str(fish_dir/'rois_direction_of_max_abs_diff.jpg'))"
   ]
  },
  {
   "cell_type": "code",
   "execution_count": null,
   "id": "wireless-senator",
   "metadata": {},
   "outputs": [],
   "source": [
    "fig6, ax6 = plt.subplots(3, 4, figsize=(12, 12))\n",
    "color_list = [\"lightskyblue\", \"turquoise\", \"lightgreen\", \"khaki\", \"gold\",\"pink\", \"plum\", \"violet\"]\n",
    "cm_roi = LinearSegmentedColormap.from_list(\"my_list\", color_list, N=8)\n",
    "\n",
    "for i in range(num_planes):\n",
    "    r = i // 4\n",
    "    c = np.mod(i, 4)\n",
    "    \n",
    "    roi_layer = roi_map_max_diff_pos[i]\n",
    "    roi_layer[0, 1:9] = [1, 2, 3, 4, 5, 6, 7, 8]\n",
    "    roi_layer = np.ma.masked_where(roi_layer < 1, roi_layer)\n",
    "    roi_layer = np.rot90(roi_layer, k=1, axes=(1, 0))\n",
    "\n",
    "    #ax4[r, c].imshow(roi_layer, cmap=\"rainbow\")\n",
    "    ax6[r, c].imshow(roi_layer, cmap=cm_roi)\n",
    "    ax6[r, c].axis('off')\n",
    "    ax6[r, c].set_title(\"z\" + str(i))\n",
    "    #print(roi_layer)\n",
    "\n",
    "    \n",
    "plt.show()\n",
    "fig6.savefig(str(fish_dir/'rois_direction_of_max_diff_pos.jpg'))"
   ]
  },
  {
   "cell_type": "code",
   "execution_count": null,
   "id": "historical-seattle",
   "metadata": {},
   "outputs": [],
   "source": [
    "fig7, ax7 = plt.subplots(3, 4, figsize=(12, 12))\n",
    "color_list = [\"lightskyblue\", \"turquoise\", \"lightgreen\", \"khaki\", \"gold\",\"pink\", \"plum\", \"violet\"]\n",
    "cm_roi = LinearSegmentedColormap.from_list(\"my_list\", color_list, N=8)\n",
    "\n",
    "for i in range(num_planes):\n",
    "    r = i // 4\n",
    "    c = np.mod(i, 4)\n",
    "    \n",
    "    roi_layer = roi_map_max_diff_neg[i]\n",
    "    roi_layer[0, 1:9] = [1, 2, 3, 4, 5, 6, 7, 8]\n",
    "    roi_layer = np.ma.masked_where(roi_layer < 1, roi_layer)\n",
    "    roi_layer = np.rot90(roi_layer, k=1, axes=(1, 0))\n",
    "\n",
    "    #ax4[r, c].imshow(roi_layer, cmap=\"rainbow\")\n",
    "    ax7[r, c].imshow(roi_layer, cmap=cm_roi)\n",
    "    ax7[r, c].axis('off')\n",
    "    ax7[r, c].set_title(\"z\" + str(i))\n",
    "    #print(roi_layer)\n",
    "\n",
    "    \n",
    "plt.show()\n",
    "fig7.savefig(str(fish_dir/'rois_direction_of_max_abs_diff_neg.jpg'))"
   ]
  },
  {
   "cell_type": "code",
   "execution_count": null,
   "id": "skilled-olive",
   "metadata": {},
   "outputs": [],
   "source": [
    "fig8, ax8 = plt.subplots(3, 4, figsize=(12, 12))\n",
    "color_list = [\"lightskyblue\", \"turquoise\", \"lightgreen\", \"khaki\", \"gold\",\"pink\", \"plum\", \"violet\"]\n",
    "cm_roi = LinearSegmentedColormap.from_list(\"my_list\", color_list, N=8)\n",
    "\n",
    "for i in range(num_planes):\n",
    "    r = i // 4\n",
    "    c = np.mod(i, 4)\n",
    "    \n",
    "    roi_layer = roi_map_max_diff_pos_val[i]\n",
    "    roi_layer[0, 1:3] = [-5, 5]\n",
    "    roi_layer = np.rot90(roi_layer, k=1, axes=(1, 0))\n",
    "\n",
    "    ax8[r, c].imshow(roi_layer, cmap=\"bwr\")\n",
    "    ax8[r, c].axis('off')\n",
    "    ax8[r, c].set_title(\"z\" + str(i))\n",
    "\n",
    "    \n",
    "plt.show()\n",
    "fig8.savefig(str(fish_dir/'rois_max_pos_diff_value.jpg'))"
   ]
  },
  {
   "cell_type": "code",
   "execution_count": null,
   "id": "reserved-slope",
   "metadata": {},
   "outputs": [],
   "source": [
    "fig9, ax9 = plt.subplots(3, 4, figsize=(12, 12))\n",
    "\n",
    "for i in range(num_planes):\n",
    "    r = i // 4\n",
    "    c = np.mod(i, 4)\n",
    "    \n",
    "    roi_layer = roi_map_max_diff_neg_val[i]\n",
    "    roi_layer[0, 1:3] = [-5, 5]\n",
    "    #roi_layer = np.ma.masked_where(roi_layer < 1, roi_layer)\n",
    "    roi_layer = np.rot90(roi_layer, k=1, axes=(1, 0))\n",
    "\n",
    "    #ax4[r, c].imshow(roi_layer, cmap=\"rainbow\")\n",
    "    ax9[r, c].imshow(roi_layer, cmap=\"bwr\")\n",
    "    ax9[r, c].axis('off')\n",
    "    ax9[r, c].set_title(\"z\" + str(i))\n",
    "    #print(roi_layer)\n",
    "\n",
    "    \n",
    "plt.show()\n",
    "fig9.savefig(str(fish_dir/'rois_max_neg_diff_value.jpg'))"
   ]
  },
  {
   "cell_type": "code",
   "execution_count": null,
   "id": "fancy-steps",
   "metadata": {},
   "outputs": [],
   "source": []
  },
  {
   "cell_type": "code",
   "execution_count": null,
   "id": "wanted-increase",
   "metadata": {},
   "outputs": [],
   "source": [
    "fig5, ax5 = plt.subplots(3, 5, figsize=(12, 12))\n",
    "\n",
    "for i in range(num_planes):\n",
    "    r = i // 5\n",
    "    c = np.mod(i, 5)\n",
    "    \n",
    "    roi_layer = roi_map_max_5[i]\n",
    "    roi_layer = np.rot90(roi_layer, k=1, axes=(1, 0))\n",
    "\n",
    "    ax5[r, c].imshow(roi_layer, cmap=\"bwr\")#rainbow\")\n",
    "    ax5[r, c].axis('off')\n",
    "    #print(roi_layer)\n",
    "\n",
    "    \n",
    "plt.show()"
   ]
  },
  {
   "cell_type": "code",
   "execution_count": null,
   "id": "labeled-bulgarian",
   "metadata": {},
   "outputs": [],
   "source": []
  },
  {
   "cell_type": "code",
   "execution_count": null,
   "id": "southwest-denver",
   "metadata": {},
   "outputs": [],
   "source": [
    "import math\n",
    "\n",
    "def rotate(origin, point, angle):\n",
    "    \"\"\"\n",
    "    Rotate a point counterclockwise by a given angle around a given origin.\n",
    "\n",
    "    The angle should be given in radians.\n",
    "    \"\"\"\n",
    "    ox, oy = origin\n",
    "    px, py = point\n",
    "\n",
    "    qx = ox + math.cos(angle) * (px - ox) - math.sin(angle) * (py - oy)\n",
    "    qy = oy + math.sin(angle) * (px - ox) + math.cos(angle) * (py - oy)\n",
    "    return qx, qy"
   ]
  },
  {
   "cell_type": "code",
   "execution_count": null,
   "id": "112fea0b-7500-4c3d-a013-e6bd55af0076",
   "metadata": {},
   "outputs": [],
   "source": []
  }
 ],
 "metadata": {
  "kernelspec": {
   "display_name": "Python 3",
   "language": "python",
   "name": "python3"
  },
  "language_info": {
   "codemirror_mode": {
    "name": "ipython",
    "version": 3
   },
   "file_extension": ".py",
   "mimetype": "text/x-python",
   "name": "python",
   "nbconvert_exporter": "python",
   "pygments_lexer": "ipython3",
   "version": "3.7.10"
  }
 },
 "nbformat": 4,
 "nbformat_minor": 5
}
