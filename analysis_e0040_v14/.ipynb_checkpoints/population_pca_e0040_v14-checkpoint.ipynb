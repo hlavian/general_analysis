{
 "cells": [
  {
   "cell_type": "code",
   "execution_count": null,
   "metadata": {},
   "outputs": [],
   "source": [
    "import matplotlib\n",
    "%matplotlib widget\n",
    "import matplotlib.pyplot as plt\n",
    "import h5py\n",
    "import numpy as np\n",
    "from pathlib import Path\n",
    "import skimage as sk\n",
    "from skimage import io as skio\n",
    "import json\n",
    "import pandas as pd\n",
    "\n",
    "import flammkuchen as fl\n",
    "from split_dataset import SplitDataset\n",
    "from bouterin.plots.stimulus_log_plot import get_paint_function\n",
    "from sklearn.decomposition import PCA\n",
    "from fimpylab.core.twop_experiment import TwoPExperiment\n"
   ]
  },
  {
   "cell_type": "code",
   "execution_count": null,
   "metadata": {},
   "outputs": [],
   "source": [
    "master = Path(r\"J:\\_Shared\\experiments\\E0040_motions_cardinal\\v14_cw_ccw\")\n",
    "fish_list = ['200826_f1', '200827_f0', '200917_f0', '200918_f0']\n",
    "fish_dir = master / fish_list[3]"
   ]
  },
  {
   "cell_type": "code",
   "execution_count": null,
   "metadata": {},
   "outputs": [],
   "source": [
    "# loading traces and ROIs:\n",
    "#exp_list = load_folder(path / \"behavior\")\n",
    "\n",
    "# Normalize traces:\n",
    "traces = fl.load(fish_dir / \"traces.h5\")[\"traces\"].T\n",
    "traces = ((traces - traces.mean(0)) / traces.std(0))\n",
    "\n",
    "# Rois\n",
    "rois = fl.load(fish_dir / \"merged_rois.h5\")[\"stack\"]\n",
    "traces=traces.T[:, 0:-2]"
   ]
  },
  {
   "cell_type": "code",
   "execution_count": null,
   "metadata": {},
   "outputs": [],
   "source": [
    "\n",
    "print(np.shape(traces))\n",
    "avg_traces = np.zeros((np.shape(traces)[0], np.shape(traces)[1]//3))\n",
    "for i in range(3):\n",
    "    t1 = i * np.shape(traces)[1]//3\n",
    "    t2 = t1 + np.shape(traces)[1]//3\n",
    "    avg_traces += traces[:, t1:t2]\n",
    "avg_traces /= 3\n",
    "print(np.shape(avg_traces))\n"
   ]
  },
  {
   "cell_type": "code",
   "execution_count": null,
   "metadata": {},
   "outputs": [],
   "source": [
    "np.shape(avg_traces)\n",
    "fig0, ax0 = plt.subplots(1, 1)\n",
    "ax0.imshow(avg_traces)"
   ]
  },
  {
   "cell_type": "code",
   "execution_count": null,
   "metadata": {},
   "outputs": [],
   "source": [
    "n_comp = 5\n",
    "pop_pca = PCA(n_components=n_comp)\n",
    "transformed_data = pop_pca.fit_transform(avg_traces.T, 0)\n",
    "pcs = pop_pca.components_\n",
    "print(np.shape(pcs))"
   ]
  },
  {
   "cell_type": "code",
   "execution_count": null,
   "metadata": {},
   "outputs": [],
   "source": [
    "fig1, ax1 = plt.subplots(1, 2)\n",
    "ax1[1].bar(np.arange(n_comp), pop_pca.explained_variance_ratio_)\n",
    "\n",
    "for i in range(n_comp):\n",
    "    ax1[0].plot(pcs[i] + i*0.5)"
   ]
  },
  {
   "cell_type": "code",
   "execution_count": null,
   "metadata": {},
   "outputs": [],
   "source": [
    "fig1.savefig(str(fish_dir/'pca_pop_avg_210304.jpg'))"
   ]
  },
  {
   "cell_type": "code",
   "execution_count": null,
   "metadata": {},
   "outputs": [],
   "source": [
    "n_comp = 5\n",
    "time_pca = PCA(n_components=n_comp)\n",
    "transformed_data2 = time_pca.fit_transform(avg_traces, 0)\n",
    "pcs2 = time_pca.components_\n",
    "\n",
    "print(np.shape(pcs2))"
   ]
  },
  {
   "cell_type": "code",
   "execution_count": null,
   "metadata": {},
   "outputs": [],
   "source": [
    "exp = TwoPExperiment(path=fish_dir)\n",
    "color_list = plt.cm.rainbow(np.linspace(0, 1, 5))\n",
    "\n",
    "t = np.arange(0, 720) / 3\n",
    "\n",
    "fig3, ax3 = plt.subplots(1, 2)\n",
    "ax3[1].bar(np.arange(n_comp), time_pca.explained_variance_ratio_)\n",
    "\n",
    "for i in range(n_comp):\n",
    "    ax3[0].plot(t, pcs2[i] + i*0.25)\n",
    "ax3[0].set_title(\"PCs\")\n",
    "ax3[1].set_title(\"explained variance\")\n",
    "\n",
    "stimulus_log = exp.load_session_log(log_name='stimulus_log', session_idx=0)\n",
    "stim_value, t_values = get_paint_function(stimulus_log, 'E0040_motions_cardinal')\n",
    "stim_value = stim_value / 255\n",
    "num_stim = np.shape(stim_value)[0] // 3\n",
    "\n",
    "for i in range(num_stim):\n",
    "    ax3[0].axvspan(\n",
    "        t_values[i, 0],\n",
    "        t_values[i, 1],\n",
    "        facecolor=[\n",
    "            stim_value[i, 0],\n",
    "            stim_value[i, 1],\n",
    "            stim_value[i, 2],\n",
    "        ],\n",
    "        alpha=0.5,\n",
    "    )\n",
    "                \n",
    "#plt.xlabel(\"Time (sec)\")"
   ]
  },
  {
   "cell_type": "code",
   "execution_count": null,
   "metadata": {},
   "outputs": [],
   "source": [
    "fig3.savefig(str(fish_dir/'pca_time_avg_210304.jpg'))"
   ]
  },
  {
   "cell_type": "code",
   "execution_count": null,
   "metadata": {},
   "outputs": [],
   "source": [
    "### Coloring ROIs according to PC1 and PC2:"
   ]
  },
  {
   "cell_type": "code",
   "execution_count": null,
   "metadata": {},
   "outputs": [],
   "source": [
    "roi_map = np.copy(rois)\n",
    "num_rois = np.shape(traces)[0]\n",
    "roi_map_pc1= np.zeros_like(roi_map)\n",
    "roi_map_pc2 = np.zeros_like(roi_map)\n",
    "roi_map_pc3 = np.zeros_like(roi_map)\n",
    "roi_map_pc123 = np.zeros((np.shape(roi_map)[0], np.shape(roi_map)[1], np.shape(roi_map)[2], 3))\n",
    "\n",
    "for i in range(0, num_rois):\n",
    "    roi_ind = np.where(roi_map == (i + 1))\n",
    "    roi_map_pc1[roi_ind] = transformed_data2[i,0]\n",
    "    roi_map_pc2[roi_ind] = transformed_data2[i,1]\n",
    "    roi_map_pc3[roi_ind] = transformed_data2[i,2]\n",
    "    for j in range(3):\n",
    "        roi_map_pc123[roi_ind[0], roi_ind[1], roi_ind[2], j] = transformed_data2[i,j]\n",
    "#print(np.unique(roi_map_pc1))\n",
    "#print(roi_map_pc1[np.where(roi_map_pc1 == 2)])"
   ]
  },
  {
   "cell_type": "code",
   "execution_count": null,
   "metadata": {},
   "outputs": [],
   "source": [
    "fig4, ax4 = plt.subplots(4, 4, figsize=(12, 12))\n",
    "#title_list = ['201007_f1', '201007_f2','201007_f3','201021_f1','201021_f2','201021_f3','201021_f2','201022_f2','201022_f3','201022_f4','201023_f0','201023_f3']\n",
    "color_list = [\"lightblue\", \"lightcoral\", \"orange\", \"springgreen\", \"deepskyblue\", \"mediumpurple\",\"gold\", \"cyan\", \"crimson\", \"deeppink\", \"lawngreen\", \"darkviolet\"]\n",
    "#cm_roi = LinearSegmentedColormap.from_list(\"my_list\", color_list, N=12)\n",
    "\n",
    "num_planes = 16# np.shape(rois)[0]-6\n",
    "cm_roi='coolwarm'\n",
    "for i in range(num_planes):\n",
    "    r = i // 4\n",
    "    c = np.mod(i, 4)\n",
    "    \n",
    "    roi_layer = roi_map_pc1[i]\n",
    "    #roi_layer[0, 1:13] = [1, 2, 3, 4, 5, 6, 7, 8, 9, 10, 11, 12]\n",
    "    roi_layer = np.ma.masked_where(roi_layer < 1, roi_layer)\n",
    "    roi_layer = np.rot90(roi_layer, k=1, axes=(1, 0))\n",
    "\n",
    "    im = ax4[r, c].imshow(roi_layer, cmap=cm_roi)\n",
    "    ax4[r, c].axis('off')\n",
    "    #ax4[r, c].set_title(title_list[i])\n",
    "    \n",
    "fig4.colorbar(im, ax=ax4[2,3])\n",
    "plt.show()\n",
    "fig4.savefig(str(fish_dir/'rois_pc1_210304.jpg'))"
   ]
  },
  {
   "cell_type": "code",
   "execution_count": null,
   "metadata": {},
   "outputs": [],
   "source": [
    "fig5, ax5 = plt.subplots(4, 4, figsize=(12, 12))\n",
    "\n",
    "num_planes = 16 #np.shape(rois)[0]-7\n",
    "cm_roi='coolwarm'\n",
    "for i in range(num_planes):\n",
    "    r = i // 4\n",
    "    c = np.mod(i, 4)\n",
    "    \n",
    "    roi_layer = roi_map_pc2[i]\n",
    "    #roi_layer[0, 1:13] = [1, 2, 3, 4, 5, 6, 7, 8, 9, 10, 11, 12]\n",
    "    roi_layer = np.ma.masked_where(roi_layer < 1, roi_layer)\n",
    "    roi_layer = np.rot90(roi_layer, k=1, axes=(1, 0))\n",
    "\n",
    "    im = ax5[r, c].imshow(roi_layer, cmap=cm_roi)\n",
    "    ax5[r, c].axis('off')\n",
    "    #ax5[r, c].set_title(title_list[i])\n",
    "    \n",
    "fig5.colorbar(im, ax=ax5[2,3])\n",
    "plt.show()\n",
    "fig5.savefig(str(fish_dir/'rois_pc2_210304.jpg'))"
   ]
  },
  {
   "cell_type": "code",
   "execution_count": null,
   "metadata": {},
   "outputs": [],
   "source": [
    "fig6, ax6 = plt.subplots(4, 4, figsize=(12, 12))\n",
    "\n",
    "num_planes = 16 #np.shape(rois)[0]-7\n",
    "min_val1 = np.min(roi_map_pc1)\n",
    "max_val1 = np.max(roi_map_pc1)\n",
    "min_val2 = np.min(roi_map_pc2)\n",
    "max_val2 = np.max(roi_map_pc2)\n",
    "min_val3 = np.min(roi_map_pc3)\n",
    "max_val3 = np.max(roi_map_pc3)\n",
    "\n",
    "for i in range(num_planes):\n",
    "    r = i // 4\n",
    "    c = np.mod(i, 4)\n",
    "    \n",
    "    roi_layer = roi_map_pc1[i]\n",
    "    roi_layer[0, 0:2] = [min_val1, max_val1]\n",
    "    roi_layer = np.ma.masked_where(roi_layer < 1, roi_layer)\n",
    "    roi_layer = np.rot90(roi_layer, k=1, axes=(1, 0))\n",
    "    im1 = ax6[r, c].imshow(roi_layer, cmap='Reds', alpha=1)\n",
    "    \n",
    "    roi_layer = roi_map_pc2[i]\n",
    "    roi_layer[0, 0:2] = [min_val2, max_val2]\n",
    "    roi_layer = np.ma.masked_where(roi_layer < 1, roi_layer)\n",
    "    roi_layer = np.rot90(roi_layer, k=1, axes=(1, 0))\n",
    "    im2 = ax6[r, c].imshow(roi_layer, cmap='Greens', alpha=1)\n",
    "    \n",
    "    roi_layer = roi_map_pc3[i]\n",
    "    roi_layer[0, 0:2] = [min_val3, max_val3]\n",
    "    roi_layer = np.ma.masked_where(roi_layer < 1, roi_layer)\n",
    "    roi_layer = np.rot90(roi_layer, k=1, axes=(1, 0))\n",
    "    im3 = ax6[r, c].imshow(roi_layer, cmap='Blues', alpha=1)\n",
    "    \n",
    "    ax6[r, c].axis('off')\n",
    "    \n",
    "fig6.colorbar(im1, ax=ax6[0,3])\n",
    "fig6.colorbar(im2, ax=ax6[1,3])\n",
    "fig6.colorbar(im3, ax=ax6[2,3])\n",
    "plt.show()\n",
    "fig6.savefig(str(fish_dir/'rois_pc123_210304.jpg'))"
   ]
  },
  {
   "cell_type": "code",
   "execution_count": null,
   "metadata": {},
   "outputs": [],
   "source": []
  },
  {
   "cell_type": "code",
   "execution_count": null,
   "metadata": {},
   "outputs": [],
   "source": []
  },
  {
   "cell_type": "code",
   "execution_count": null,
   "metadata": {},
   "outputs": [],
   "source": []
  }
 ],
 "metadata": {
  "kernelspec": {
   "display_name": "Python 3",
   "language": "python",
   "name": "python3"
  },
  "language_info": {
   "codemirror_mode": {
    "name": "ipython",
    "version": 3
   },
   "file_extension": ".py",
   "mimetype": "text/x-python",
   "name": "python",
   "nbconvert_exporter": "python",
   "pygments_lexer": "ipython3",
   "version": "3.7.6"
  }
 },
 "nbformat": 4,
 "nbformat_minor": 4
}
