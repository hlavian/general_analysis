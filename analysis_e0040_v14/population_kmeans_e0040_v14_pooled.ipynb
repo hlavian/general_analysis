{
 "cells": [
  {
   "cell_type": "code",
   "execution_count": null,
   "metadata": {},
   "outputs": [],
   "source": [
    "import matplotlib\n",
    "%matplotlib widget\n",
    "import matplotlib.pyplot as plt\n",
    "import h5py\n",
    "import numpy as np\n",
    "from pathlib import Path\n",
    "import skimage as sk\n",
    "from skimage import io as skio\n",
    "import json\n",
    "import pandas as pd\n",
    "\n",
    "import flammkuchen as fl\n",
    "from split_dataset import SplitDataset\n",
    "from bouterin.plots.stimulus_log_plot import get_paint_function\n",
    "from sklearn.cluster import KMeans\n",
    "from fimpylab.core.twop_experiment import TwoPExperiment\n"
   ]
  },
  {
   "cell_type": "code",
   "execution_count": null,
   "metadata": {},
   "outputs": [],
   "source": [
    "master = Path(r\"J:\\_Shared\\experiments\\E0040_motions_cardinal\\v14_cw_ccw\")\n",
    "fish_list = ['200826_f1', '200827_f0', '200917_f0', '200918_f0']"
   ]
  },
  {
   "cell_type": "markdown",
   "metadata": {},
   "source": [
    "## load all traces:"
   ]
  },
  {
   "cell_type": "code",
   "execution_count": null,
   "metadata": {},
   "outputs": [],
   "source": [
    "# loading all traces\n",
    "len_segment = 2160\n",
    "traces_all = 0\n",
    "for i in range(4):\n",
    "    f = master / fish_list[i]\n",
    "    print(f)\n",
    "    dir_traces = f / \"traces.h5\"\n",
    "    traces_tmp = fl.load(dir_traces)['traces']\n",
    "    traces_tmp = traces_tmp[:, 0:len_segment]\n",
    "    if traces_all is 0:\n",
    "        traces_all = traces_tmp\n",
    "    else:\n",
    "        traces_all = np.concatenate((traces_all, traces_tmp), axis=0)\n",
    "    print(np.shape(traces_all))\n",
    "    "
   ]
  },
  {
   "cell_type": "code",
   "execution_count": null,
   "metadata": {},
   "outputs": [],
   "source": [
    "# normalizing traces:\n",
    "traces_all = traces_all.T\n",
    "traces_all = ((traces_all - traces_all.mean(0)) / traces_all.std(0))\n",
    "traces_all = traces_all.T"
   ]
  },
  {
   "cell_type": "code",
   "execution_count": null,
   "metadata": {},
   "outputs": [],
   "source": [
    "print(np.shape(traces_all))\n",
    "#avg_traces = np.reshape(traces_all, (np.shape(traces_all)[0], np.shape(traces_all)[1]//3, 3))\n",
    "#avg_traces = np.nanmean(avg_traces,2)\n",
    "avg_traces = np.zeros((np.shape(traces_all)[0], np.shape(traces_all)[1]//3))\n",
    "for i in range(3):\n",
    "    t1 = i * np.shape(traces_all)[1]//3\n",
    "    t2 = t1 + np.shape(traces_all)[1]//3\n",
    "    avg_traces += traces_all[:, t1:t2]\n",
    "avg_traces /= 3\n",
    "print(np.shape(avg_traces))\n"
   ]
  },
  {
   "cell_type": "code",
   "execution_count": null,
   "metadata": {},
   "outputs": [],
   "source": [
    "np.shape(avg_traces)\n",
    "fig0, ax0 = plt.subplots(1, 1, figsize=(15, 8))\n",
    "ax0.imshow(traces_all[:, 0:720])"
   ]
  },
  {
   "cell_type": "code",
   "execution_count": null,
   "metadata": {},
   "outputs": [],
   "source": [
    "np.shape(avg_traces)\n",
    "fig0, ax0 = plt.subplots(1, 1, figsize=(15, 8))\n",
    "ax0.imshow(avg_traces)"
   ]
  },
  {
   "cell_type": "code",
   "execution_count": null,
   "metadata": {},
   "outputs": [],
   "source": [
    "k = 20\n",
    "kmeans = KMeans(k)\n",
    "clusters = kmeans.fit_transform(avg_traces)\n",
    "clustered_traces = np.zeros_like(avg_traces)\n",
    "labels_k = kmeans.predict(avg_traces)\n",
    "labelsinds = labels_k.argsort()\n",
    "clustered_traces = avg_traces[labelsinds[::-1]]"
   ]
  },
  {
   "cell_type": "code",
   "execution_count": null,
   "metadata": {},
   "outputs": [],
   "source": [
    "fig1, ax1 = plt.subplots(1, 1, figsize=(15, 8))\n",
    "ax1.imshow(clustered_traces, extent=[0,  1000, 0, 500], vmin=-2, vmax=10)\n",
    "ax1.set_xlabel(\"Time (sec)\")\n",
    "ax1.set_title(\"Clustered traces\")\n",
    "plt.show()\n",
    "file_name = 'clusters_k_of_' + str(k) + '.jpg'\n",
    "fig1.savefig(str(master/ file_name))"
   ]
  },
  {
   "cell_type": "code",
   "execution_count": null,
   "metadata": {},
   "outputs": [],
   "source": [
    "sum_of_sqr_d = []\n",
    "k_opt = range(1, 15)\n",
    "for k in k_opt:\n",
    "    km = KMeans(n_clusters=k)\n",
    "    km = km.fit(avg_traces)\n",
    "    sum_of_sqr_d.append(km.inertia_)\n"
   ]
  },
  {
   "cell_type": "code",
   "execution_count": null,
   "metadata": {},
   "outputs": [],
   "source": [
    "fig3, ax3 = plt.subplots(1, 1, figsize=(12, 5))\n",
    "plt.scatter(k_opt, sum_of_sqr_d)\n",
    "plt.ylabel(\"Sum of squred distances\")\n",
    "plt.xlabel(\"k\")\n",
    "plt.show()\n",
    "fig3.savefig(str(master/'kmeans_error.jpg'))"
   ]
  },
  {
   "cell_type": "code",
   "execution_count": null,
   "metadata": {},
   "outputs": [],
   "source": [
    "fig4, ax4 = plt.subplots(1, 1, figsize=(8, 8))\n",
    "fs = 3\n",
    "clusters_centers = kmeans.cluster_centers_\n",
    "exp = TwoPExperiment(path=f)\n",
    "clusters_centers_fixed = np.copy(clusters_centers)\n",
    "#clusters_centers_fixed[np.where(clusters_centers_fixed == 0)[0]] = None\n",
    "color_list = plt.cm.tab10(np.linspace(0, 1, k))\n",
    "\n",
    "t = np.arange(0, np.shape(avg_traces)[1]) / fs\n",
    "for i in range(k):\n",
    "    tmp_cluster = clusters_centers_fixed[i]\n",
    "    print(np.where(tmp_cluster <= (np.min(tmp_cluster)))[0])\n",
    "    #tmp_cluster[np.where(tmp_cluster <= (np.min(tmp_cluster)+0.1))[0]] = None\n",
    "    ax4.plot(t, tmp_cluster + (i * 7), color=color_list[i])\n",
    "    \n",
    "    num_traces_in_cluster = np.shape(np.where(labels_k == i)[0])[0]\n",
    "    plt.text(-10,(i * 7),str(num_traces_in_cluster))\n",
    "\n",
    "\n",
    "stimulus_log = exp.load_session_log(log_name='stimulus_log', session_idx=0)\n",
    "stim_value, t_values = get_paint_function(stimulus_log, 'E0040_motions_cardinal')\n",
    "stim_value = stim_value / 255\n",
    "num_stim = np.shape(stim_value)[0] // 3\n",
    "\n",
    "for i in range(num_stim):\n",
    "    ax4.axvspan(\n",
    "        t_values[i, 0],\n",
    "        t_values[i, 1],\n",
    "        facecolor=[\n",
    "            stim_value[i, 0],\n",
    "            stim_value[i, 1],\n",
    "            stim_value[i, 2],\n",
    "        ],\n",
    "        alpha=0.4,\n",
    "    )\n",
    "\n",
    "ax4.axis('off')\n",
    "plt.show()"
   ]
  },
  {
   "cell_type": "code",
   "execution_count": null,
   "metadata": {},
   "outputs": [],
   "source": [
    "file_name = 'kmeans'  + str(k) + '_avg_210309_combined.jpg'\n",
    "fig4.savefig(str(master/ file_name))"
   ]
  },
  {
   "cell_type": "code",
   "execution_count": null,
   "metadata": {},
   "outputs": [],
   "source": [
    "### getting the indices for each fish:\n",
    "num_rois = np.zeros(4)\n",
    "for i in range(4):\n",
    "    f = master / fish_list[i]\n",
    "    dir_traces = f / \"traces.h5\"\n",
    "    traces = fl.load(dir_traces)['traces']\n",
    "    num_traces = np.shape(traces)[0]\n",
    "    num_rois[i] = num_traces // 1\n",
    "    print(num_rois)\n",
    "    "
   ]
  },
  {
   "cell_type": "code",
   "execution_count": null,
   "metadata": {},
   "outputs": [],
   "source": [
    "ind2 = np.cumsum(num_rois).astype(int)\n",
    "ind_fish"
   ]
  },
  {
   "cell_type": "code",
   "execution_count": null,
   "metadata": {},
   "outputs": [],
   "source": [
    "num_rois= num_rois.astype(int)"
   ]
  },
  {
   "cell_type": "code",
   "execution_count": null,
   "metadata": {},
   "outputs": [],
   "source": [
    "ind1 = np.asarray([0, ind2[0], ind2[1], ind2[2]])\n",
    "ind1"
   ]
  },
  {
   "cell_type": "markdown",
   "metadata": {},
   "source": [
    "#### Choosing one fish and coloring ROIs by clusters"
   ]
  },
  {
   "cell_type": "code",
   "execution_count": null,
   "metadata": {},
   "outputs": [],
   "source": [
    "current_fish = 3\n",
    "fish_dir = master / fish_list[current_fish]\n",
    "# Rois\n",
    "rois = fl.load(fish_dir / \"merged_rois.h5\")[\"stack\"][:,:,:]\n",
    "labels_fish = labels_k[ind1[current_fish]:ind2[current_fish]]"
   ]
  },
  {
   "cell_type": "code",
   "execution_count": null,
   "metadata": {},
   "outputs": [],
   "source": [
    "roi_map = np.copy(rois)\n",
    "\n",
    "roi_map_clustered = np.zeros_like(roi_map)\n",
    "for i in range(0, num_rois[current_fish]):\n",
    "    roi_map_clustered[np.where(roi_map == (i + 1))] = labels_fish[i] + 1\n"
   ]
  },
  {
   "cell_type": "code",
   "execution_count": null,
   "metadata": {},
   "outputs": [],
   "source": [
    "fig1, ax1 = plt.subplots(4, 4, figsize=(12, 12))\n",
    "\n",
    "for i in range(16):\n",
    "    r = i // 4\n",
    "    c = np.mod(i, 4)\n",
    "    \n",
    "    roi_layer = roi_map_clustered[i]\n",
    "    roi_layer = np.ma.masked_where(roi_layer < 1, roi_layer)\n",
    "    roi_layer = np.rot90(roi_layer, k=1, axes=(1, 0))\n",
    "\n",
    "    ax1[r, c].imshow(roi_layer, cmap=\"tab10\")#rainbow\")\n",
    "    ax1[r, c].axis('off')\n",
    "    ax1[r, c].set_title('z' + str(i))\n",
    "    #print(roi_layer)\n",
    "\n",
    "    \n",
    "plt.show()\n",
    "fig1.savefig(str(fish_dir/'clusters_rois_210305.jpg'))"
   ]
  },
  {
   "cell_type": "code",
   "execution_count": null,
   "metadata": {},
   "outputs": [],
   "source": []
  },
  {
   "cell_type": "code",
   "execution_count": null,
   "metadata": {},
   "outputs": [],
   "source": []
  },
  {
   "cell_type": "code",
   "execution_count": null,
   "metadata": {},
   "outputs": [],
   "source": []
  }
 ],
 "metadata": {
  "kernelspec": {
   "display_name": "Python 3 (ipykernel)",
   "language": "python",
   "name": "python3"
  },
  "language_info": {
   "codemirror_mode": {
    "name": "ipython",
    "version": 3
   },
   "file_extension": ".py",
   "mimetype": "text/x-python",
   "name": "python",
   "nbconvert_exporter": "python",
   "pygments_lexer": "ipython3",
   "version": "3.7.10"
  }
 },
 "nbformat": 4,
 "nbformat_minor": 4
}
