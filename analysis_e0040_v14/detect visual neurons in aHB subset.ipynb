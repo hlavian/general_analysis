{
 "cells": [
  {
   "cell_type": "code",
   "execution_count": null,
   "id": "informal-investor",
   "metadata": {},
   "outputs": [],
   "source": [
    "%matplotlib widget"
   ]
  },
  {
   "cell_type": "code",
   "execution_count": null,
   "id": "5c01baf0-4cf9-4041-98f9-1c25117cacf7",
   "metadata": {},
   "outputs": [],
   "source": [
    "from pathlib import Path\n",
    "import numpy as np\n",
    "import flammkuchen as fl\n",
    "import pandas as pd\n",
    "\n",
    "import skimage as sk\n",
    "import json\n",
    "\n",
    "from split_dataset import SplitDataset\n",
    "from bouterin.plots.stimulus_log_plot import get_paint_function\n",
    "from scipy.cluster.hierarchy import dendrogram, linkage, cut_tree, to_tree, set_link_color_palette\n",
    "from sklearn.cluster import AgglomerativeClustering\n",
    "from fimpylab.core.lightsheet_experiment import LightsheetExperiment\n",
    "\n",
    "from bouter.utilities import reliability \n",
    "from skimage.filters import threshold_otsu\n",
    "import xarray as xr\n",
    "\n",
    "from matplotlib import  pyplot as plt\n",
    "import seaborn as sns\n",
    "from tqdm import tqdm\n",
    "sns.set(style=\"ticks\", palette=\"deep\")\n",
    "cols = sns.color_palette()\n",
    "import ipywidgets as widgets\n",
    "\n",
    "from lotr.pca import pca_and_phase, fictive_heading_and_fit, fit_phase_neurons\n",
    "from circle_fit import hyper_fit\n",
    "from lotr import LotrExperiment, A_FISH\n",
    "\n",
    "import lotr.plotting as pltltr\n",
    "COLS = pltltr.COLS\n",
    "\n",
    "from lotr.utils import roll_columns_jit\n",
    "\n",
    "from scipy.optimize import quadratic_assignment\n",
    "from lotr.pca import qap_sorting_and_phase"
   ]
  },
  {
   "cell_type": "code",
   "execution_count": null,
   "id": "13248898-2ccc-4e78-89d7-353d80f1a3af",
   "metadata": {},
   "outputs": [],
   "source": [
    "def nan_phase_jumps(phase_array):\n",
    "    out_array = phase_array.copy()\n",
    "    out_array[1:][np.abs(np.diff(out_array)) > np.pi] = np.nan\n",
    "    return out_array"
   ]
  },
  {
   "cell_type": "code",
   "execution_count": null,
   "id": "a263bfb7-ee57-4823-80bc-012ff204b7a5",
   "metadata": {},
   "outputs": [],
   "source": [
    "master =  Path(r\"\\\\funes\\Shared\\experiments\\E0040_motions_cardinal\\v13_cw_ccw\\ls_fixed\\spont_plus_v13\\huc\")\n",
    "fish_list = list(master.glob(\"*_f*\"))\n",
    "path = fish_list[1]\n",
    "\n",
    "cropped_data = fl.load(path / \"ahb_cropped.h5\")\n",
    "coords = cropped_data['coords']\n",
    "traces = cropped_data['traces']\n",
    "ahb_idx = cropped_data['ahb_idx']"
   ]
  },
  {
   "cell_type": "code",
   "execution_count": null,
   "id": "1b82a9ca-a6f2-4055-ae69-12a6d337e22c",
   "metadata": {},
   "outputs": [],
   "source": [
    "suite2p_data = fl.load(path / \"data_from_suite2p_cells.h5\")\n",
    "anatomy = suite2p_data['anatomy_stack']\n",
    "\n",
    "#df = fl.load(path / \"bouts_df.h5\")# exp.get_bout_properties()\n",
    "exp = LotrExperiment(path)\n",
    "fs = int(exp.fn)\n",
    "beh_df = exp.behavior_log\n",
    "\n",
    "t_start_s = 50\n",
    "t_lims = (t_start_s*exp.fn, exp.n_pts//2)\n",
    "t_slice = slice(*t_lims)"
   ]
  },
  {
   "cell_type": "code",
   "execution_count": null,
   "id": "154870e5-3db1-43c2-9f03-621cdeedb993",
   "metadata": {},
   "outputs": [],
   "source": [
    "t = np.arange(np.shape(traces)[1]) / fs\n",
    "len_rec, num_traces = np.shape(traces)\n",
    "print(\"num_traces: \", num_traces)\n",
    "print(\"len_rec: \", len_rec)\n",
    "print(\"sampling rate: \", fs)"
   ]
  },
  {
   "cell_type": "code",
   "execution_count": null,
   "id": "e4bd79cc-3a7a-4055-b5cb-780442ab8134",
   "metadata": {},
   "outputs": [],
   "source": [
    "######################### Part 2 - looking for neurons that reliably respond to the visual stimulus\n",
    "# selectnig reliable neruons \n",
    "n_blocks = 4\n",
    "norm_traces = traces.T\n",
    "stim_traces = norm_traces[:, ((len_rec // 2)):]\n",
    "new_len_rec = len_rec // (2 * n_blocks)\n",
    "print(np.shape(stim_traces))\n",
    "\n",
    "trial_traces = np.zeros((n_blocks, num_traces, new_len_rec))\n",
    "trial_traces = np.zeros((num_traces, n_blocks, new_len_rec))\n",
    "trial_traces_corrected = np.zeros((num_traces, n_blocks, new_len_rec))\n",
    "\n",
    "for i in range(n_blocks):\n",
    "    t1 = i * new_len_rec\n",
    "    t2 = t1 + new_len_rec\n",
    "    trial_traces[:, i] = stim_traces[:, t1:t2]"
   ]
  },
  {
   "cell_type": "code",
   "execution_count": null,
   "id": "953668f9-f121-4211-af87-05250fa2142f",
   "metadata": {},
   "outputs": [],
   "source": [
    "dt = 1 / fs\n",
    "traces_xr = xr.DataArray(\n",
    "    data=trial_traces,                               #Adding the data\n",
    "    dims=['roi', 'block', 't'],                #Defining name of the dimensions\n",
    "    coords={                                   #Defining values at which each dimension wase valuated\n",
    "        'roi':np.arange(trial_traces.shape[0]), \n",
    "        'block':np.arange(n_blocks),\n",
    "        't':np.arange(trial_traces.shape[2])*dt\n",
    "        }\n",
    "    )\n",
    "reliability_arr = reliability(np.swapaxes(traces_xr, 0, 2).values)\n",
    "rel_thresh = threshold_otsu(reliability_arr)\n",
    "print(\"Reliability threshold: \", rel_thresh)\n",
    "\n",
    "rel_thresh_3 = np.round(rel_thresh * 1000)\n",
    "rel_thresh_3 /=1000\n",
    "\n",
    "#rel_thresh_3 = 0.33"
   ]
  },
  {
   "cell_type": "code",
   "execution_count": null,
   "id": "6d07ec1e-96cb-4509-964d-ecf77b449c16",
   "metadata": {},
   "outputs": [],
   "source": [
    "selected_vis = np.where(reliability_arr > rel_thresh_3)[0]\n",
    "selected_non_vis = np.where(reliability_arr < rel_thresh_3)[0]\n",
    "print(np.shape(selected_non_vis))\n",
    "print(np.shape(selected_vis))\n",
    "print(np.shape(reliability_arr))"
   ]
  },
  {
   "cell_type": "code",
   "execution_count": null,
   "id": "e7bb8661-cce1-4486-b7c5-cce0ad091228",
   "metadata": {},
   "outputs": [],
   "source": [
    "### Get negatively correlated traces out of the non visual neurons \n",
    "## only looking at the first half of the experiment (darkness)\n",
    "\n",
    "traces_non_vis = traces[:, selected_non_vis]\n",
    "\n",
    "norm_traces = traces_non_vis.T\n",
    "corrmat = np.corrcoef(norm_traces)"
   ]
  },
  {
   "cell_type": "code",
   "execution_count": null,
   "id": "5e29b2cc-957d-4e5a-b4ad-3ad72e545b4f",
   "metadata": {},
   "outputs": [],
   "source": [
    "fig2, ax = plt.subplots(2, 2, figsize=(8, 6), gridspec_kw={'width_ratios': [1, 3]})\n",
    "ax[0,0].imshow(corrmat, cmap='coolwarm', vmin=-1, vmax=1)"
   ]
  },
  {
   "cell_type": "code",
   "execution_count": null,
   "id": "1c9d2fb2-602d-49f6-a0dc-05bb7bb76b2e",
   "metadata": {},
   "outputs": [],
   "source": [
    "ng_corr_ind = np.unique(np.where(corrmat < -0.5)[0])\n",
    "corrmat_neg = corrmat[ng_corr_ind]\n",
    "norm_traces_neg = traces_non_vis[:, ng_corr_ind]\n",
    "num_neurons = np.shape(ng_corr_ind)[0]\n",
    "len_rec = np.shape(traces)[0]  / fs \n",
    "\n",
    "perm, com_phase = qap_sorting_and_phase(norm_traces_neg)\n",
    "sorted_traces = norm_traces_neg[:, perm]\n",
    "sorted_corrmat = np.corrcoef(sorted_traces)"
   ]
  },
  {
   "cell_type": "code",
   "execution_count": null,
   "id": "f13fa6fb-4441-4aff-a098-aaf5ec8f3382",
   "metadata": {},
   "outputs": [],
   "source": [
    "np.shape(norm_traces_neg)"
   ]
  },
  {
   "cell_type": "code",
   "execution_count": null,
   "id": "91982ae8-0b01-4778-ab40-7373546f9f9e",
   "metadata": {},
   "outputs": [],
   "source": [
    "ax[0,1].imshow(norm_traces, cmap='gray_r', extent=[0, num_neurons, 0, num_neurons], vmin=-5, vmax=5)\n",
    "\n",
    "corrmat_neg = np.corrcoef(norm_traces_neg.T)\n",
    "ax[1,0].imshow(sorted_corrmat, cmap='coolwarm', vmin=-1, vmax=1)\n",
    "ax[1,1].imshow(sorted_traces, cmap='gray_r', extent=[0, num_neurons, 0, num_neurons], vmin=-5, vmax=5)\n"
   ]
  },
  {
   "cell_type": "code",
   "execution_count": null,
   "id": "ff735239-56f5-4eee-ba66-3ce58ec76f3c",
   "metadata": {},
   "outputs": [],
   "source": [
    "# figure 2 - visual responses\n",
    "xlim1 = 0\n",
    "xlim2 = len_rec\n",
    "fig_vis, ax_vis = plt.subplots(2, 2, figsize=(8, 4), gridspec_kw={'width_ratios': [1, 2], 'height_ratios': [1, 6]}) \n",
    "\n",
    "extent_new_ls = (0, exp.plane_ext_um[3], 0, exp.plane_ext_um[1])\n",
    "\n",
    "exp = LotrExperiment(path)\n",
    "selected_vis = np.where(reliability_arr > rel_thresh_3)[0]\n",
    "selected_non_vis = np.where(reliability_arr < rel_thresh_3)[0]\n",
    "\n",
    "#print(selected_vis)\n",
    "coords_aHB = exp.coords_um[ahb_idx, 1:]\n",
    "coords_vis = coords_aHB[selected_vis]\n",
    "coords_non_vis = coords_aHB[selected_non_vis]\n",
    "\n",
    "############ Anatomy plot of Visually responsive neurons:\n",
    "\n",
    "for i in range(2):\n",
    "    for j in range(2):\n",
    "        ax_vis[i,j].axis('off')\n",
    "    \n",
    "anatomy_layer = np.sum(anatomy, axis=0)\n",
    "anatomy_layer = np.rot90(anatomy_layer, k=2, axes=(1, 0))\n",
    "ax_vis[1, 0].imshow(anatomy_layer[:, ::-1], extent=extent_new_ls, origin=\"upper\", cmap='gray_r')#, vmin=9, vmax=100)\n",
    "\n",
    "colored_rois = exp.color_rois_by(np.ones(len(selected_vis))*5, indexes=selected_vis, color_scheme='rainbow')\n",
    "\n",
    "ax_vis[1, 0].scatter(coords_aHB[:,1], coords_aHB[:,0], s=5, c=reliability_arr, cmap='coolwarm', vmin=-1, vmax=1, alpha=0.5)\n",
    "#ax_vis[1, 0].scatter(coords_vis[:,1], coords_vis[:,0], s=5, c='purple')\n",
    "pltltr.add_anatomy_scalebar(ax_vis[1, 0], pos=(-10,-10))\n",
    "\n",
    "############ Visual stimulus:\n",
    "ax_vis[0, 1].set_xlim(xlim1, xlim2)\n",
    "ax_vis[0, 0].set_title(\"Reliability thresh: \" + str(rel_thresh_3))\n",
    "\n",
    "stimulus_log = exp.stimulus_log\n",
    "stim_value, t_values = get_paint_function(stimulus_log, 'E0040_motions_cardinal')\n",
    "stim_value = stim_value / 255\n",
    "num_stim = np.shape(stim_value)[0]\n",
    "\n",
    "t_values *= fs\n",
    "for i in range(num_stim):\n",
    "    ax_vis[0, 1].axvspan(\n",
    "        t_values[i, 0],\n",
    "        t_values[i, 1],\n",
    "        facecolor=[\n",
    "            stim_value[i, 0],\n",
    "            stim_value[i, 1],\n",
    "            stim_value[i, 2],\n",
    "        ],\n",
    "        alpha=0.7,\n",
    "    )\n",
    "    \n",
    "############ Traces (only visually responsive taces):\n",
    "tmp_traces = traces.T\n",
    "rel_ind = np.where(reliability_arr > rel_thresh_3)[0]\n",
    "vis_traces = tmp_traces[rel_ind, :]\n",
    "im = ax_vis[1,1].imshow(\n",
    "    vis_traces,\n",
    "    extent=[0, exp.time_arr[-1], -np.pi, np.pi],\n",
    "    aspect=\"auto\",\n",
    "    cmap=COLS[\"dff_plot\"],\n",
    "    vmin=-1.7,\n",
    "    vmax=2.0,\n",
    ")\n",
    "\n",
    "pltltr.add_dff_cbar(\n",
    "    im,\n",
    "    ax_vis[1,1],\n",
    "    (1.07, 0.04, 0.03, 0.5),\n",
    "    title=\"ΔF (Z.)\",\n",
    "    titlesize=6,\n",
    "    labelsize=5,\n",
    "    ticklabels=None,\n",
    ")"
   ]
  },
  {
   "cell_type": "code",
   "execution_count": null,
   "id": "7663f5f8-418a-48ea-994b-32e8d429b757",
   "metadata": {},
   "outputs": [],
   "source": []
  },
  {
   "cell_type": "code",
   "execution_count": null,
   "id": "6f23c1ab-7a69-4615-b0c1-973830fac367",
   "metadata": {},
   "outputs": [],
   "source": []
  },
  {
   "cell_type": "code",
   "execution_count": null,
   "id": "488d221e-934b-4265-83ec-dab7798a25ed",
   "metadata": {},
   "outputs": [],
   "source": [
    "file_name = \"visually responsive neurons in aHB (thresh \" + str(rel_thresh_3) + \").pdf\"\n",
    "fig_vis.savefig(path / file_name, dpi=300)"
   ]
  },
  {
   "cell_type": "code",
   "execution_count": null,
   "id": "8ccad9b8-795c-450e-8d62-d598f51f1016",
   "metadata": {},
   "outputs": [],
   "source": []
  },
  {
   "cell_type": "code",
   "execution_count": null,
   "id": "faace632-0389-45dc-8c7f-ba9618e25a51",
   "metadata": {},
   "outputs": [],
   "source": []
  },
  {
   "cell_type": "code",
   "execution_count": null,
   "id": "831fefe5-4698-4fe4-8cc1-720987be8d92",
   "metadata": {},
   "outputs": [],
   "source": []
  },
  {
   "cell_type": "code",
   "execution_count": null,
   "id": "3c1a024d-655f-4d7f-be4f-f8748ec11345",
   "metadata": {},
   "outputs": [],
   "source": []
  }
 ],
 "metadata": {
  "kernelspec": {
   "display_name": "Python 3",
   "language": "python",
   "name": "python3"
  },
  "language_info": {
   "codemirror_mode": {
    "name": "ipython",
    "version": 3
   },
   "file_extension": ".py",
   "mimetype": "text/x-python",
   "name": "python",
   "nbconvert_exporter": "python",
   "pygments_lexer": "ipython3",
   "version": "3.7.10"
  }
 },
 "nbformat": 4,
 "nbformat_minor": 5
}
