{
 "cells": [
  {
   "cell_type": "code",
   "execution_count": null,
   "id": "stopped-client",
   "metadata": {},
   "outputs": [],
   "source": [
    "%matplotlib widget"
   ]
  },
  {
   "cell_type": "code",
   "execution_count": null,
   "id": "supposed-render",
   "metadata": {},
   "outputs": [],
   "source": [
    "from pathlib import Path\n",
    "import numpy as np\n",
    "import flammkuchen as fl\n",
    "import pandas as pd\n",
    "import tifffile as tiff\n",
    "\n",
    "from fimpylab import LightsheetExperiment\n",
    "\n",
    "import matplotlib.pyplot as plt\n",
    "import seaborn as sns\n",
    "from tqdm import tqdm\n",
    "sns.set(style=\"ticks\", palette=\"deep\")\n",
    "cols = sns.color_palette()\n",
    "import ipywidgets as widgets\n",
    "\n",
    "from lotr.utils import zscore\n",
    "from lotr.pca import pca_and_phase, get_fictive_heading, fictive_heading_and_fit, \\\n",
    "        fit_phase_neurons,qap_sorting_and_phase\n",
    "from circle_fit import hyper_fit\n",
    "from lotr.experiment_class import LotrExperiment\n",
    "import json\n",
    "\n",
    "from lotr.plotting.color_utils import get_n_colors\n",
    "\n",
    "import statsmodels.api as sm\n",
    "\n",
    "import scipy"
   ]
  },
  {
   "cell_type": "code",
   "execution_count": null,
   "id": "removed-coast",
   "metadata": {},
   "outputs": [],
   "source": [
    "from lotr.utils import pearson_regressors"
   ]
  },
  {
   "cell_type": "code",
   "execution_count": null,
   "id": "pretty-position",
   "metadata": {},
   "outputs": [],
   "source": [
    "master = Path(r\"\\\\FUNES\\Shared\\experiments\\E0040_motions_cardinal\\v21\\ls\\h2b_wb\")\n",
    "#master = Path(r\"\\\\funes\\Shared\\experiments\\E0040_motions_cardinal\\v13_cw_ccw\\ls_h2b\")\n",
    "files = list(master.glob(\"*f*\"))\n",
    "path = files[1]\n",
    "path\n",
    "\n",
    "#path = Path(r\"\\\\funes\\Shared\\experiments\\E0071_lotr\\full_ring\\210314_f0\\210314_f0_natmov\")"
   ]
  },
  {
   "cell_type": "code",
   "execution_count": null,
   "id": "subsequent-commission",
   "metadata": {},
   "outputs": [],
   "source": [
    "traces = fl.load(path / \"filtered_traces.h5\", \"/detr\")\n",
    "#coords = fl.load(path / \"data_from_suite2p_unfiltered.h5\", \"/coords\")\n",
    "#anat = fl.load(path / \"data_from_suite2p_unfiltered.h5\", \"/anatomy_stack\")\n",
    "\n",
    "coords = fl.load(path / \"data_from_suite2p_cells.h5\", \"/coords\")\n",
    "anat = fl.load(path / \"data_from_suite2p_cells.h5\", \"/anatomy_stack\")\n",
    "\n",
    "#traces[np.isnan(traces)] = 0\n",
    "\n",
    "df = fl.load(path / \"bouts_df.h5\")# exp.get_bout_properties()\n",
    "exp = LotrExperiment(path)\n",
    "fn = int(exp.fn)\n",
    "beh_df = exp.behavior_log\n",
    "\n",
    "t_start_s = 150\n",
    "'''\n",
    "time_slices_dict = {\"natmov\": (t_start_s*exp.fn, exp.n_pts - t_start_s*exp.fn), \n",
    "                        \"clol\": (t_start_s*exp.fn, exp.n_pts - t_start_s*exp.fn), \n",
    "                        \"cwccw\": (500, exp.n_pts // 2),\n",
    "                        \"2dvr\": (t_start_s*exp.fn, 2000*exp.fn),\n",
    "                        \"2d\": (t_start_s*exp.fn, 2000*exp.fn),\n",
    "                        \"spont\": (t_start_s*exp.fn, exp.n_pts - t_start_s*exp.fn),\n",
    "                        \"gainmod\": (t_start_s*exp.fn, exp.n_pts - t_start_s*exp.fn)}\n",
    "'''\n",
    "t_lims = (500, exp.n_pts // 2)#[-1]\n",
    "t_slice = slice(*t_lims)\n",
    "t_slice\n",
    "traces_spont = traces[0:t_lims[1], :]"
   ]
  },
  {
   "cell_type": "code",
   "execution_count": null,
   "id": "atmospheric-dover",
   "metadata": {},
   "outputs": [],
   "source": [
    "try:\n",
    "    with open(next(path.glob(\"*metadata.json\"))) as i:\n",
    "        metadata = json.load(i)\n",
    "    fish_id = metadata['general']['fish_id']\n",
    "except:\n",
    "    fish_id = \"\"\n",
    "print(fish_id)"
   ]
  },
  {
   "cell_type": "code",
   "execution_count": null,
   "id": "determined-worst",
   "metadata": {},
   "outputs": [],
   "source": [
    "np.shape(traces)"
   ]
  },
  {
   "cell_type": "code",
   "execution_count": null,
   "id": "ordered-teacher",
   "metadata": {},
   "outputs": [],
   "source": [
    "fictive_trajectory = get_fictive_heading(np.shape(traces)[0], df, min_bias=0.1)\n",
    "phase_traj = np.mod(fictive_trajectory, np.pi * 2) * (180 / np.pi)\n",
    "\n",
    "#fictive_trajectory = fictive_trajectory[0:t_lims[1]]\n",
    "#phase_traj = phase_traj[0:t_lims[1]]\n",
    "#traces = traces_spont\n",
    "np.shape(traces_spont)"
   ]
  },
  {
   "cell_type": "code",
   "execution_count": null,
   "id": "searching-recipe",
   "metadata": {},
   "outputs": [],
   "source": [
    "num_bins = 4\n",
    "bin_size = 360 / num_bins\n",
    "binned_traj = np.floor(phase_traj / bin_size) * bin_size # 8 directions"
   ]
  },
  {
   "cell_type": "code",
   "execution_count": null,
   "id": "wired-qualification",
   "metadata": {},
   "outputs": [],
   "source": [
    "# generating regressors\n",
    "from lotr.default_vals import REGRESSOR_TAU_S, TURN_BIAS\n",
    "regs = np.zeros((num_bins, np.shape(traces)[0]))\n",
    "\n",
    "tau_fs = REGRESSOR_TAU_S * fn\n",
    "kernel = np.exp(-np.arange(1000) / tau_fs)\n",
    "\n",
    "\n",
    "for i in range(num_bins):\n",
    "    tmp_val = i * bin_size\n",
    "    tmp_reg = np.where(binned_traj == tmp_val)[0]\n",
    "    regs[i, tmp_reg] = 1\n",
    "    \n",
    "    regs[i] = np.convolve(regs[i], kernel)[:np.shape(traces)[0]]"
   ]
  },
  {
   "cell_type": "code",
   "execution_count": null,
   "id": "hairy-image",
   "metadata": {},
   "outputs": [],
   "source": [
    "np.shape(fictive_trajectory)"
   ]
  },
  {
   "cell_type": "code",
   "execution_count": null,
   "id": "exposed-family",
   "metadata": {
    "tags": []
   },
   "outputs": [],
   "source": [
    "fig_sum, ax_sum = plt.subplots(3, 1, figsize=(7,8))\n",
    "color_list = get_n_colors(num_bins) / 255\n",
    "\n",
    "ax_sum[0].plot(np.arange(len(fictive_trajectory[:])) / 3, -fictive_trajectory)\n",
    "ax_sum[1].plot(np.arange(len(fictive_trajectory[:])) / 3, phase_traj)\n",
    "ax_sum[1].plot(np.arange(len(fictive_trajectory[:])) / 3, binned_traj)\n",
    "\n",
    "for i in range(num_bins):\n",
    "    ax_sum[2].plot(np.arange(len(fictive_trajectory[:])) / 3, regs[i] + (i*50), c=color_list[i])\n",
    "    \n",
    "    \n",
    "title_list = ['Heading', 'Binned wrapped heading', 'Heading regressors']\n",
    "for i in range(3):\n",
    "    ax_sum[i].axis('off')\n",
    "    ax_sum[i].set_title(title_list[i])\n",
    "    \n",
    "plt.subplots_adjust(hspace=0.5)\n",
    "file_name = 'spont_heading_regressors_' + str(num_bins) + '_' + fish_id + '.jpg'\n",
    "fig_sum.savefig(path / file_name)"
   ]
  },
  {
   "cell_type": "code",
   "execution_count": null,
   "id": "breathing-sister",
   "metadata": {},
   "outputs": [],
   "source": [
    "if num_bins == 8:\n",
    "    fig_size = (15,7)\n",
    "else:\n",
    "    fig_size = (5,7)"
   ]
  },
  {
   "cell_type": "code",
   "execution_count": null,
   "id": "stone-bench",
   "metadata": {},
   "outputs": [],
   "source": [
    "# getting regression values for all traces\n",
    "reg_mat = pearson_regressors(traces, regs.T).T"
   ]
  },
  {
   "cell_type": "code",
   "execution_count": null,
   "id": "metropolitan-pierre",
   "metadata": {},
   "outputs": [],
   "source": [
    "\n",
    "nm_row = 2\n",
    "nm_col = num_bins // nm_row\n",
    "fig_anatomy2, ax_anatomy2 = plt.subplots(nm_row, nm_col, figsize=fig_size)\n",
    "\n",
    "\n",
    "for i in range(num_bins):\n",
    "    r = i // nm_col\n",
    "    c = np.mod(i, nm_col)\n",
    "    print(r, c)\n",
    "    vmax = np.nanmax(reg_mat[:,i])\n",
    "    ax_anatomy2[r, c].scatter(coords[:, 1], coords[:, 2], c=reg_mat[:,i], cmap='coolwarm', s=3, vmin=-vmax, vmax=vmax)\n",
    "    ax_anatomy2[r, c].axis('off')\n",
    "sbar_len = np.round(np.shape(anat)[2] / 8) / 100\n",
    "file_name = 'heading_regressors_rois_' + str(num_bins) + '_' + fish_id + '.jpg'\n",
    "fig_anatomy2.savefig(path / file_name)\n",
    "\n"
   ]
  },
  {
   "cell_type": "code",
   "execution_count": null,
   "id": "moving-reputation",
   "metadata": {},
   "outputs": [],
   "source": [
    "nm_row = 2\n",
    "nm_col = num_bins // nm_row\n",
    "fig_anatomy, ax_anatomy = plt.subplots(nm_row, nm_col, figsize=fig_size)\n",
    "\n",
    "\n",
    "for i in range(num_bins):\n",
    "    r = i // nm_col\n",
    "    c = np.mod(i, nm_col)\n",
    "    print(r, c)\n",
    "    \n",
    "    labels = reg_mat[:,i]\n",
    "    labels_fix = np.copy(reg_mat)\n",
    "    new_ind = np.where((labels > 0.2) | (labels < -0.2))\n",
    "    labels_fix = labels[new_ind]\n",
    "    coords_fix = coords[new_ind]\n",
    "    \n",
    "    vmax = np.nanmax(labels_fix)\n",
    "    ax_anatomy[r, c].scatter(coords_fix[:, 1], coords_fix[:, 2], c=labels_fix, cmap='coolwarm', s=3, vmin=-vmax, vmax=vmax)\n",
    "    ax_anatomy[r, c].axis('off')\n",
    "sbar_len = np.round(np.shape(anat)[2] / 8) / 100\n",
    "file_name = 'heading_regressors_rois_filt_' + str(num_bins) + '_' + fish_id + '.jpg'\n",
    "fig_anatomy.savefig(path / file_name)\n"
   ]
  },
  {
   "cell_type": "code",
   "execution_count": null,
   "id": "first-craft",
   "metadata": {},
   "outputs": [],
   "source": []
  },
  {
   "cell_type": "code",
   "execution_count": null,
   "id": "swedish-companion",
   "metadata": {},
   "outputs": [],
   "source": [
    "# filter traces with negative correlation threshhold\n",
    "corrmat = np.corrcoef(traces.T)\n",
    "ng_corr_ind = np.unique(np.where(corrmat < -0.5)[0])\n",
    "corrmat_neg = corrmat[ng_corr_ind]\n",
    "traces_selected = traces[:, ng_corr_ind]\n",
    "np.shape(traces_selected)"
   ]
  },
  {
   "cell_type": "code",
   "execution_count": null,
   "id": "systematic-crest",
   "metadata": {},
   "outputs": [],
   "source": [
    "nm_row = 2\n",
    "nm_col = num_bins // nm_row\n",
    "fig_anatomy3, ax_anatomy3 = plt.subplots(nm_row, nm_col, figsize=fig_size)\n",
    "\n",
    "\n",
    "for i in range(num_bins):\n",
    "    r = i // nm_col\n",
    "    c = np.mod(i, nm_col)\n",
    "    print(r, c)\n",
    "    \n",
    "    labels = reg_mat[:,i]\n",
    "    labels_fix = np.copy(reg_mat)\n",
    "    \n",
    "    labels_fix = labels[ng_corr_ind]\n",
    "    coords_fix = coords[ng_corr_ind]\n",
    "    vmax = np.nanmax(labels_fix)\n",
    "    print(vmax)\n",
    "    ax_anatomy3[r, c].scatter(coords_fix[:, 1], coords_fix[:, 2], c=labels_fix, cmap='coolwarm', s=3, vmin=-vmax, vmax=vmax)\n",
    "    ax_anatomy3[r, c].axis('off')\n",
    "sbar_len = np.round(np.shape(anat)[2] / 8) / 100\n",
    "file_name = 'spont_neg_corr_rois_filt_' + str(num_bins) + '_' + fish_id + '.jpg'\n",
    "fig_anatomy3.savefig(path / file_name)"
   ]
  },
  {
   "cell_type": "code",
   "execution_count": null,
   "id": "harmful-publication",
   "metadata": {},
   "outputs": [],
   "source": [
    "np.shape(traces)"
   ]
  },
  {
   "cell_type": "code",
   "execution_count": null,
   "id": "chronic-oregon",
   "metadata": {},
   "outputs": [],
   "source": [
    "############### autocorrelation time constant"
   ]
  },
  {
   "cell_type": "code",
   "execution_count": null,
   "id": "complete-discount",
   "metadata": {},
   "outputs": [],
   "source": [
    "def monoExp(x, m, t, b):\n",
    "    return m * np.exp(-t * x) + b"
   ]
  },
  {
   "cell_type": "code",
   "execution_count": null,
   "id": "metallic-prize",
   "metadata": {},
   "outputs": [],
   "source": [
    "try:\n",
    "    with open(path / \"*metadata.json\") as f:\n",
    "        metadata = json.load(f)\n",
    "\n",
    "    fs = int(metadata[\"imaging\"][\"microscope_config\"][\"lightsheet\"][\"scanning\"][\"z\"][\"frequency\"]) # sampling frequency\n",
    "except:\n",
    "    fs = 5"
   ]
  },
  {
   "cell_type": "code",
   "execution_count": null,
   "id": "moderate-tennessee",
   "metadata": {},
   "outputs": [],
   "source": [
    "fs = 2"
   ]
  },
  {
   "cell_type": "code",
   "execution_count": null,
   "id": "innocent-milton",
   "metadata": {},
   "outputs": [],
   "source": [
    "num_traces = np.shape(traces)[1]\n",
    "n_lags = 1000 # np.shape(traces)[0]\n",
    "M_all = traces\n",
    "print(np.shape(traces))\n",
    "AC_all = np.zeros((n_lags+1, num_traces))\n",
    "for i in range(num_traces):\n",
    "    ys =  sm.tsa.acf(M_all[:,i], nlags=n_lags)\n",
    "    AC_all[:, i] = ys"
   ]
  },
  {
   "cell_type": "code",
   "execution_count": null,
   "id": "interesting-duncan",
   "metadata": {},
   "outputs": [],
   "source": [
    "ac=sm.tsa.acf(traces[:, 900], nlags = n_lags)\n",
    "ac_len = len(ac)\n",
    "fig_ac, ax_ac = plt.subplots(2, 2, figsize=fig_size, gridspec_kw={'width_ratios': [3, 1]})\n",
    "\n",
    "for i in range(100):\n",
    "    ax_ac[0, 0].plot(AC_all[:, i])\n",
    "    ax_ac[0, 1].plot(AC_all[:200, i])\n",
    "\n",
    "ax_ac[1, 0].imshow(AC_all.T, cmap = 'coolwarm', aspect='auto')      \n",
    "ax_ac[1, 1].imshow(AC_all.T[:, :200], cmap = 'coolwarm', aspect='auto')      \n",
    "\n",
    "for i in range(2):\n",
    "    ax_ac[0, i].axis('off')\n",
    "    ax_ac[1, i].axis('off')\n",
    "    \n",
    "file_name = 'ac_tau_traces_' + fish_id + '.jpg'\n",
    "fig_ac.savefig(path / file_name)"
   ]
  },
  {
   "cell_type": "code",
   "execution_count": null,
   "id": "relevant-costa",
   "metadata": {},
   "outputs": [],
   "source": [
    "\n",
    "All_ac = np.empty((len(ac),M_all.shape[1]))\n",
    "All_ac[:] = np.nan\n",
    "\n",
    "ac_len = 101\n",
    "xs = (1 / fs)*np.arange(ac_len)\n",
    "\n",
    "All_Tau =  np.empty((M_all.shape[1]))\n",
    "All_Tau[:] = np.nan\n",
    "\n",
    "All_mag =  np.empty((M_all.shape[1]))\n",
    "All_mag[:] = np.nan\n",
    "\n",
    "All_b =  np.empty((M_all.shape[1]))\n",
    "All_b[:] = np.nan\n",
    "\n",
    "\n",
    "error_count=0\n",
    "p0 = (1, .1, 0) # start with values near those we expect\n",
    "for i in range(M_all.shape[1]):\n",
    "    ys =  sm.tsa.acf(M_all[:,i], nlags=100)\n",
    "    try:\n",
    "        params, cv = scipy.optimize.curve_fit(monoExp, xs, ys, p0)\n",
    "        m, t, b = params    \n",
    "        All_mag[i] = m\n",
    "        All_b[i] = b\n",
    "        tauSec = (1 / t) / fs\n",
    "        All_Tau[i] = t\n",
    "    except:\n",
    "        All_Tau[i] = None\n",
    "        error_count += 1\n",
    "print(error_count)"
   ]
  },
  {
   "cell_type": "code",
   "execution_count": null,
   "id": "perfect-morning",
   "metadata": {},
   "outputs": [],
   "source": [
    "fig_anatomy4, ax_anatomy4 = plt.subplots(2, 2, figsize=fig_size)\n",
    "lags = [20, 50, 100, 200]\n",
    "ax_anatomy4[0, 0].scatter(coords[:, 1], coords[:, 2], c=AC_all[lags[0], :], cmap='Greens', s=3, vmin=0, vmax=1)\n",
    "ax_anatomy4[0, 0].axis('off')\n",
    "ax_anatomy4[0, 0].set_title('lag ' + str(lags[0]))\n",
    "\n",
    "ax_anatomy4[0, 1].scatter(coords[:, 1], coords[:, 2], c=AC_all[lags[1], :], cmap='Greens', s=3, vmin=0, vmax=1)\n",
    "ax_anatomy4[0, 1].axis('off')\n",
    "ax_anatomy4[0, 1].set_title('lag ' + str(lags[1]))\n",
    "\n",
    "ax_anatomy4[1, 0].scatter(coords[:, 1], coords[:, 2], c=AC_all[lags[2], :], cmap='Greens', s=3, vmin=0, vmax=1)\n",
    "ax_anatomy4[1, 0].axis('off')\n",
    "ax_anatomy4[1, 0].set_title('lag ' + str(lags[1]))\n",
    "\n",
    "ax_anatomy4[1, 1].scatter(coords[:, 1], coords[:, 2], c=AC_all[lags[3], :], cmap='Greens', s=3, vmin=0, vmax=1)\n",
    "ax_anatomy4[1, 1].axis('off')\n",
    "ax_anatomy4[1, 1].set_title('lag ' + str(lags[2]))\n",
    "\n",
    "file_name = 'ac_rois_corr_at_lag_' + fish_id + '.jpg'\n",
    "fig_anatomy4.savefig(path / file_name)"
   ]
  },
  {
   "cell_type": "code",
   "execution_count": null,
   "id": "serious-birmingham",
   "metadata": {},
   "outputs": [],
   "source": []
  },
  {
   "cell_type": "code",
   "execution_count": null,
   "id": "diverse-harbor",
   "metadata": {},
   "outputs": [],
   "source": [
    "fig_anatomy5, ax_anatomy5 = plt.subplots(1, 1, figsize=fig_size)\n",
    "ax_anatomy5.scatter(coords[:, 1], coords[:, 2], c=All_Tau, cmap='hot', s=3, vmin=0, vmax=0.2)\n",
    "ax_anatomy5.axis('off')\n",
    "\n",
    "file_name = 'ac_rois_tau_' + fish_id + '.jpg'\n",
    "fig_anatomy5.savefig(path / file_name)"
   ]
  },
  {
   "cell_type": "code",
   "execution_count": null,
   "id": "cheap-accommodation",
   "metadata": {},
   "outputs": [],
   "source": [
    "All_Tau"
   ]
  },
  {
   "cell_type": "code",
   "execution_count": null,
   "id": "electric-specialist",
   "metadata": {},
   "outputs": [],
   "source": []
  },
  {
   "cell_type": "code",
   "execution_count": null,
   "id": "tutorial-shoot",
   "metadata": {},
   "outputs": [],
   "source": []
  },
  {
   "cell_type": "code",
   "execution_count": null,
   "id": "maritime-branch",
   "metadata": {},
   "outputs": [],
   "source": []
  },
  {
   "cell_type": "code",
   "execution_count": null,
   "id": "delayed-cylinder",
   "metadata": {},
   "outputs": [],
   "source": []
  },
  {
   "cell_type": "code",
   "execution_count": null,
   "id": "turkish-output",
   "metadata": {},
   "outputs": [],
   "source": []
  },
  {
   "cell_type": "code",
   "execution_count": null,
   "id": "grateful-attention",
   "metadata": {},
   "outputs": [],
   "source": []
  }
 ],
 "metadata": {
  "kernelspec": {
   "display_name": "Python 3",
   "language": "python",
   "name": "python3"
  },
  "language_info": {
   "codemirror_mode": {
    "name": "ipython",
    "version": 3
   },
   "file_extension": ".py",
   "mimetype": "text/x-python",
   "name": "python",
   "nbconvert_exporter": "python",
   "pygments_lexer": "ipython3",
   "version": "3.7.10"
  }
 },
 "nbformat": 4,
 "nbformat_minor": 5
}
