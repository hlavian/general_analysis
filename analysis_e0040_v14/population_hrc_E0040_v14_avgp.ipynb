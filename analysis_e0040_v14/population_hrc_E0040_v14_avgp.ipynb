{
 "cells": [
  {
   "cell_type": "code",
   "execution_count": null,
   "metadata": {},
   "outputs": [],
   "source": [
    "import matplotlib\n",
    "%matplotlib widget\n",
    "import matplotlib.pyplot as plt\n",
    "import h5py\n",
    "import numpy as np\n",
    "from pathlib import Path\n",
    "import skimage as sk\n",
    "from skimage import io as skio\n",
    "import json\n",
    "import pandas as pd\n",
    "\n",
    "import flammkuchen as fl\n",
    "from split_dataset import SplitDataset\n",
    "from bouterin.plots.stimulus_log_plot import get_paint_function\n",
    "from scipy.cluster.hierarchy import dendrogram, linkage, cut_tree, to_tree, set_link_color_palette\n",
    "from sklearn.cluster import AgglomerativeClustering\n",
    "from fimpylab.core.twop_experiment import TwoPExperiment\n"
   ]
  },
  {
   "cell_type": "code",
   "execution_count": null,
   "metadata": {},
   "outputs": [],
   "source": [
    "master = Path(r\"\\\\Funes\\Shared\\experiments\\E0040_motions_cardinal\\v13_cw_ccw\\2p\\habenula\\fixed\")\n",
    "fish_list = list(master.glob(\"*f[0-9]*\"))\n",
    "num_fish = len(fish_list)\n",
    "print(len(fish_list))"
   ]
  },
  {
   "cell_type": "code",
   "execution_count": null,
   "metadata": {},
   "outputs": [],
   "source": [
    "'''\n",
    "# fix fish0 in habenula folder:\n",
    "from scipy.interpolate import interp1d \n",
    "\n",
    "dir_traces = fish_list[0] / \"traces.h5\"\n",
    "traces = fl.load(dir_traces)['traces']\n",
    "    \n",
    "t_original = np.arange(0, np.shape(traces)[1]) / 2\n",
    "t_new = np.arange(0, (np.shape(traces)[1]) * 3/2) / 3\n",
    "\n",
    "fixed_f0 = interp1d(t_original, traces, bounds_error=False)(t_new)\n",
    "np.shape(fixed_f0)\n",
    "\n",
    "dir_traces1 =  fish_list[0] / \"traces_original.h5\"\n",
    "fl.save(dir_traces1, {\"traces_original\": traces})\n",
    "dir_traces2 =  fish_list[0] / \"traces.h5\"\n",
    "fl.save(dir_traces2, {\"traces\": fixed_f0})\n",
    "'''"
   ]
  },
  {
   "cell_type": "markdown",
   "metadata": {},
   "source": [
    "## Cluster all traces:"
   ]
  },
  {
   "cell_type": "code",
   "execution_count": null,
   "metadata": {},
   "outputs": [],
   "source": [
    "# loading all traces\n",
    "len_segment = 2295\n",
    "traces_all = 0\n",
    "for i in range(num_fish):\n",
    "    f =  fish_list[i]\n",
    "    print(f)\n",
    "    dir_traces = f / \"traces.h5\"\n",
    "    traces_tmp = fl.load(dir_traces)['traces']\n",
    "    print(np.shape(traces_tmp))\n",
    "    traces_tmp = traces_tmp[:, 0:len_segment]\n",
    "    if traces_all is 0:\n",
    "        traces_all = traces_tmp\n",
    "    else:\n",
    "        traces_all = np.concatenate((traces_all, traces_tmp), axis=0)\n",
    "    print(np.shape(traces_all))\n",
    "    \n",
    "# normalizing traces:\n",
    "traces_all = traces_all.T\n",
    "traces_all = ((traces_all - traces_all.mean(0)) / traces_all.std(0))\n",
    "norm_traces = traces_all.T"
   ]
  },
  {
   "cell_type": "code",
   "execution_count": null,
   "metadata": {},
   "outputs": [],
   "source": [
    "avg_traces = np.zeros((np.shape(norm_traces)[0], np.shape(norm_traces)[1]//3))\n",
    "for i in range(3):\n",
    "    t1 = i * np.shape(norm_traces)[1]//3\n",
    "    t2 = t1 + np.shape(norm_traces)[1]//3\n",
    "    avg_traces += norm_traces[:, t1:t2]\n",
    "avg_traces /= 3\n",
    "print(np.shape(avg_traces))"
   ]
  },
  {
   "cell_type": "code",
   "execution_count": null,
   "metadata": {},
   "outputs": [],
   "source": [
    "avg_traces = np.zeros((3, np.shape(norm_traces)[0], np.shape(norm_traces)[1]//3))\n",
    "for i in range(3):\n",
    "    t1 = i * np.shape(norm_traces)[1]//3\n",
    "    t2 = t1 + np.shape(norm_traces)[1]//3\n",
    "    avg_traces[i] = norm_traces[:, t1:t2]\n",
    "avg_traces = np.nanmean(avg_traces, axis=0)\n",
    "print(np.shape(avg_traces))"
   ]
  },
  {
   "cell_type": "code",
   "execution_count": null,
   "metadata": {},
   "outputs": [],
   "source": [
    "np.shape(np.where(np.isnan(avg_traces)))\n",
    "np.where(np.isnan(avg_traces))"
   ]
  },
  {
   "cell_type": "code",
   "execution_count": null,
   "metadata": {},
   "outputs": [],
   "source": [
    "########## remove bad traces from lasr fish\n",
    "\n",
    "#tmp_traces = avg_traces[0:3182]\n",
    "tmp_traces = np.copy(avg_traces)\n",
    "#tmp_traces[3180:3208] = np.ones((28, 765))\n",
    "tmp_traces[3182] = np.ones((1, 765))\n",
    "tmp_traces[3207] = np.ones((1, 765))\n",
    "\n",
    "traces_norm_fixed = np.zeros((np.shape(avg_traces)[0]-2, np.shape(avg_traces)[1]))\n",
    "traces_norm_fixed[0:3182] = avg_traces[0:3182]\n",
    "traces_norm_fixed[3182:3206] = avg_traces[3183:3207]\n",
    "traces_norm_fixed[3206:] = avg_traces[3208:]"
   ]
  },
  {
   "cell_type": "code",
   "execution_count": null,
   "metadata": {},
   "outputs": [],
   "source": [
    "fig1 = plt.figure(figsize=(10,7))\n",
    "linked = linkage(traces_norm_fixed, method='ward')\n",
    "dend = dendrogram(linked)\n",
    "plt.show()\n",
    "#fig1.savefig(str(master / \"dendrogrm_210104.jpg\"))"
   ]
  },
  {
   "cell_type": "code",
   "execution_count": null,
   "metadata": {},
   "outputs": [],
   "source": [
    "cluster = AgglomerativeClustering(n_clusters=12, affinity='euclidean', linkage='ward')\n",
    "her_clustering = cluster.fit_predict(traces_norm_fixed)"
   ]
  },
  {
   "cell_type": "markdown",
   "metadata": {},
   "source": [
    "### From Ot & Luigi"
   ]
  },
  {
   "cell_type": "code",
   "execution_count": null,
   "metadata": {},
   "outputs": [],
   "source": [
    "def cluster_id_search(tree):\n",
    "    nodes_list = []\n",
    "    if tree.is_leaf():\n",
    "        nodes_list.append(tree.get_id())\n",
    "    else:\n",
    "        nodes_list += cluster_id_search(tree.get_left())\n",
    "        nodes_list += cluster_id_search(tree.get_right())\n",
    "        \n",
    "    return nodes_list\n",
    "\n",
    "def find_trunc_dendro_clusters(linkage_mat, dendro):\n",
    "    tree, branches = to_tree(linkage_mat, rd =True)\n",
    "    ids = np.empty(linkage_mat.shape[0]+1, dtype=int)\n",
    "    \n",
    "    for i, clust in enumerate(dendro[\"leaves\"]):\n",
    "        ids[cluster_id_search(branches[clust])] = i\n",
    "        \n",
    "    return ids"
   ]
  },
  {
   "cell_type": "code",
   "execution_count": null,
   "metadata": {},
   "outputs": [],
   "source": [
    "# make truncated tree to get clusters ids. \n",
    "# Ugly but necessary to get the same sequence of leaves as the cut.\n",
    "plt.figure(figsize=(0.1, 0.1))  \n",
    "n_clust = 8\n",
    "dendro = dendrogram(linked, n_clust, truncate_mode =\"lastp\")\n",
    "plt.close()\n",
    "cluster_ids = dendro[\"leaves\"]\n",
    "labels = find_trunc_dendro_clusters(linked, dendro)"
   ]
  },
  {
   "cell_type": "code",
   "execution_count": null,
   "metadata": {},
   "outputs": [],
   "source": [
    "meanresps = norm_traces\n",
    "base_sub_mean = (meanresps.T - np.nanmean(meanresps[:,:8], 1)).T\n",
    "X = base_sub_mean\n",
    "#smooth_mean_resps = pd.DataFrame(meanresps.T).rolling(4, center=True).mean().as_matrix().T\n",
    "'''\n",
    "num_traces = np.shape(norm_traces)[0]\n",
    "traces_fixed = np.copy(norm_traces)\n",
    "traces_fixed[np.where(traces_fixed == 0)[0]] = None\n",
    "for i in range(num_traces):\n",
    "    tmp_cluster = traces_fixed[i]\n",
    "    tmp_cluster[np.where(tmp_cluster <= (np.min(tmp_cluster)+0.1))[0]] = None\n",
    "    #tmp_cluster = tmp_cluster + (i*5)\n",
    "    \n",
    "meanresps = traces_fixed\n",
    "'''"
   ]
  },
  {
   "cell_type": "code",
   "execution_count": null,
   "metadata": {},
   "outputs": [],
   "source": [
    "from skimage import color\n",
    "import numpy as np\n",
    "from matplotlib import pyplot as plt\n",
    "from scipy.cluster.hierarchy import dendrogram, cut_tree, set_link_color_palette\n",
    "#import seaborn as sns\n",
    "from matplotlib.colors import LinearSegmentedColormap\n",
    "from matplotlib import cm"
   ]
  },
  {
   "cell_type": "code",
   "execution_count": null,
   "metadata": {},
   "outputs": [],
   "source": [
    "def shade_plot(stim, ax=None, gamma=1/6, shade_range=(0.6, 0.9)):\n",
    "    if type(stim) == list:  # these would be transitions\n",
    "        _shade_plot(stim, ax=ax, gamma=gamma, shade_range=shade_range)\n",
    "\n",
    "    elif type(stim) == Data:  # fish data\n",
    "        transitions = find_transitions(Data.resampled_stim, Data.time_im_rep)\n",
    "        _shade_plot(transitions, ax=ax, gamma=gamma, shade_range=shade_range)\n",
    "\n",
    "    elif type(stim) == np.ndarray:  # stimulus array\n",
    "        transitions = find_transitions(stim[:,1], stim[:,0])\n",
    "        _shade_plot(transitions, ax=ax, gamma=gamma, shade_range=shade_range)\n",
    "\n",
    "    elif type(stim) == tuple:  # time, lum tuple\n",
    "        transitions = find_transitions(stim[1], stim[0])\n",
    "        _shade_plot(transitions, ax=ax, gamma=gamma, shade_range=shade_range)\n",
    "\n",
    "\n",
    "def _shade_plot(lum_transitions, ax=None, gamma=1/6, shade_range=(0.6, 0.9)):\n",
    "\n",
    "    if ax is None:\n",
    "        ax = plt.gca()\n",
    "    shade = lum_transitions[0][1]\n",
    "    for i in range(len(lum_transitions)-1):\n",
    "        shade = shade + lum_transitions[i][1]\n",
    "        new_shade = shade_range[0] + np.power(np.abs(shade), gamma) * (shade_range[1] - shade_range[0])\n",
    "        ax.axvspan(lum_transitions[i][0], lum_transitions[i+1][0], color=(new_shade, )*3)\n",
    "        \n",
    "\n",
    "def _find_thr(linked, n_clust):\n",
    "    interval = [0, 2000]\n",
    "    new_height = np.mean(interval)\n",
    "    clust = 0\n",
    "    n_clust = n_clust\n",
    "    while clust != n_clust:\n",
    "        new_height = np.mean(interval)\n",
    "        clust = cut_tree(linked, height=new_height).max()\n",
    "        if clust > n_clust:\n",
    "            interval[0] = new_height\n",
    "        elif clust < n_clust:\n",
    "            interval[1] = new_height\n",
    "\n",
    "\n",
    "    return new_height\n",
    "\n",
    "\n",
    "def find_plot_thr(linked, n_clust):\n",
    "    min_thr = _find_thr(linked, n_clust - 1)\n",
    "    return min_thr  \n"
   ]
  },
  {
   "cell_type": "code",
   "execution_count": null,
   "metadata": {},
   "outputs": [],
   "source": [
    "def plot_clusters_dendro(traces, stim, linkage_mat, labels, dendrolims=(900, 30),\n",
    "                         thr=None, f_lim=1.5, gamma=1):\n",
    "    fig_clust, ax = plt.subplots(3, 1, figsize=(15, 15))\n",
    "    hexac = cluster_cols()\n",
    "\n",
    "    n_clust = labels.max() + 1\n",
    "\n",
    "    ##################\n",
    "    ### Dendrogram ###\n",
    "    # Compute and plot first dendrogram.\n",
    "    if thr is None:\n",
    "        thr = find_plot_thr(linkage_mat, n_clust)\n",
    "\n",
    "    set_link_color_palette(hexac)\n",
    "    ax_traces = plt.subplot2grid((2, 2), (0, 0))\n",
    "    ax_clusters = plt.subplot2grid((2, 2), (0, 1))\n",
    "    ax_dendro = plt.subplot2grid((2, 2), (1, 0), colspan=2)\n",
    "\n",
    "    #ax_dendro = ax[2]\n",
    "    #ax_traces = ax[1]\n",
    "    #ax_clusters = ax[0]\n",
    "    \n",
    "    panel_dendro = dendrogram(linkage_mat,\n",
    "                              color_threshold=thr,\n",
    "                              #orientation='left',\n",
    "                              distance_sort='descending',\n",
    "                              show_leaf_counts=False,\n",
    "                              no_labels=True,\n",
    "                              above_threshold_color='#%02x%02x%02x' % (\n",
    "                              120, 120, 120))\n",
    "    \n",
    "    ax_dendro.axhline(thr, linewidth=0.7, color=\"k\")\n",
    "    ax_dendro.axis(\"off\")\n",
    "\n",
    "    # Plot traces matrix.\n",
    "    im = ax_traces.imshow(traces[panel_dendro[\"leaves\"], :],\n",
    "                         aspect='auto', origin='lower', cmap=cm.RdBu_r,\n",
    "                         vmin=-f_lim, vmax=f_lim)\n",
    "    ax_traces.axes.spines['left'].set_visible(False)\n",
    "    ax_traces.set_yticks([])\n",
    "\n",
    "    # Time bar:\n",
    "    dt = stim[1, 0]\n",
    "    barlength = 10\n",
    "    bounds = np.array([traces.shape[1] - barlength / dt,\n",
    "                       traces.shape[1]])\n",
    "\n",
    "    ##################\n",
    "    # Cluster sizes ##\n",
    "    # Calculate size of each defined cluster to put colored labels on the side.\n",
    "    # Find indervals spanned by each cluster in the sorted traces matrix.\n",
    "    # Add percentages spanned by each cluster.\n",
    "    sizes = np.cumsum(np.array([np.sum(labels == i) for i in range(np.max(labels) + 1)]))\n",
    "    intervals = np.insert(sizes, 0, 0)\n",
    "\n",
    "    ##################\n",
    "    # Cluster means ##\n",
    "\n",
    "    for i in range(n_clust):\n",
    "        ax_clusters.plot(np.nanmean(traces[labels == i, :], 0) +\n",
    "                      i * 2, label=i, color=hexac[i])\n",
    "    ax_clusters.axes.spines['left'].set_visible(False)\n",
    "    ax_clusters.set_yticks([])\n",
    "\n",
    "    barlength = 10\n",
    "    ax_traces.axis(\"off\")\n",
    "    ax_clusters.axis(\"off\")\n",
    "\n",
    "    return fig_clust, ax_clusters\n",
    "\n",
    "def cluster_cols():\n",
    "    # color_list = [\"lightblue\", \"lightcoral\", \"orange\", \"springgreen\", \"deepskyblue\", \"mediumpurple\",\"gold\", \"cyan\", \"crimson\", \"deeppink\", \"lawngreen\", \"darkviolet\", \"orchid\", \"limegreen\", \"seagreen\", \"chocolate\", \"blue\", \"navy\"]\n",
    "    color_list = [\"#cc566a\", \"#cd6c39\", \"#a39440\", \"#64ac48\", \"#4aac8d\", \"#688bcd\", \"#8562cc\", \"#c361aa\"]\n",
    "    # color_list = [\"#ff5c67\", \"#af0006\", \"#ffa468\", \"#8c5f00\", \"#e4a400\", \"#d5c86f\", \"#939400\", \"#a7d380\", \"#138b00\", \"#42e087\", \"#00a86d\", \"#81c7a8\", \"#019a82\", \"#1eaaff\", \"#0268bb\", \"#5951d7\", \"#6b4570\", \"#ad20aa\", \"#ffa1e2\", \"#ff4a94\"]\n",
    "    return color_list"
   ]
  },
  {
   "cell_type": "code",
   "execution_count": null,
   "metadata": {},
   "outputs": [],
   "source": [
    "stim = np.asarray([[1, 2, 3, 4, 5, 6, 7], [1, 2, 3, 4, 5, 6, 7]])\n",
    "fig_clust, ax_clust = plot_clusters_dendro(traces_norm_fixed, stim, linked, labels)#, dendrolims=(940, 0))\n",
    "\n",
    "f = master / fish_list[0]\n",
    "exp = TwoPExperiment(path=f)\n",
    "fs = 3\n",
    "stimulus_log = exp.load_session_log(log_name='stimulus_log', session_idx=0)\n",
    "stim_value, t_values = get_paint_function(stimulus_log, 'E0040_motions_cardinal')\n",
    "stim_value = stim_value / 255\n",
    "num_stim = np.shape(stim_value)[0] // 3\n",
    "\n",
    "t_values *= fs\n",
    "for i in range(num_stim):\n",
    "    ax_clust.axvspan(\n",
    "        t_values[i, 0],\n",
    "        t_values[i, 1],\n",
    "        facecolor=[\n",
    "            stim_value[i, 0],\n",
    "            stim_value[i, 1],\n",
    "            stim_value[i, 2],\n",
    "        ],\n",
    "        alpha=0.3,\n",
    "    )\n",
    "    \n",
    "plt.show()\n",
    "file_name = 'hierarchical_clustering_210715_k' + str(n_clust) + '.jpg'\n",
    "fig_clust.savefig(str(master/file_name), dpi=300)"
   ]
  },
  {
   "cell_type": "code",
   "execution_count": null,
   "metadata": {},
   "outputs": [],
   "source": [
    "print(labels)\n",
    "print(np.unique(labels))\n",
    "print(np.max(roi_map))"
   ]
  },
  {
   "cell_type": "markdown",
   "metadata": {},
   "source": [
    "### Create a figure of all ROIs colored by cluster:"
   ]
  },
  {
   "cell_type": "code",
   "execution_count": null,
   "metadata": {},
   "outputs": [],
   "source": [
    "### getting the indices for each fish:\n",
    "print(num_fish)\n",
    "num_rois = np.zeros(num_fish)\n",
    "for i in range(num_fish):\n",
    "    f = master / fish_list[i]\n",
    "    dir_traces = f / \"traces.h5\"\n",
    "    traces = fl.load(dir_traces)['traces']\n",
    "    num_traces = np.shape(traces)[0]\n",
    "    num_rois[i] = num_traces // 1\n",
    "    print(num_rois)"
   ]
  },
  {
   "cell_type": "code",
   "execution_count": null,
   "metadata": {},
   "outputs": [],
   "source": [
    "ind2 = np.cumsum(num_rois).astype(int)\n",
    "ind2"
   ]
  },
  {
   "cell_type": "code",
   "execution_count": null,
   "metadata": {},
   "outputs": [],
   "source": [
    "num_rois= num_rois.astype(int)"
   ]
  },
  {
   "cell_type": "code",
   "execution_count": null,
   "metadata": {},
   "outputs": [],
   "source": [
    "ind1 = np.zeros(num_fish+1, dtype=int)\n",
    "for i in range(num_fish):\n",
    "    ind1[i+1] = ind2[i]\n",
    "ind1"
   ]
  },
  {
   "cell_type": "code",
   "execution_count": null,
   "metadata": {},
   "outputs": [],
   "source": [
    "current_fish = 7\n",
    "fish_dir = master / fish_list[current_fish]\n",
    "# Rois\n",
    "rois = fl.load(fish_dir / \"merged_rois.h5\")[\"stack\"][:,:,:]\n",
    "labels_fish = labels[ind1[current_fish]:ind2[current_fish]]"
   ]
  },
  {
   "cell_type": "code",
   "execution_count": null,
   "metadata": {},
   "outputs": [],
   "source": [
    "roi_map = np.copy(rois)\n",
    "\n",
    "roi_map_clustered = np.zeros_like(roi_map)\n",
    "for i in range(0, num_rois[current_fish]):\n",
    "    roi_map_clustered[np.where(roi_map == (i + 1))] = labels_fish[i] + 1\n"
   ]
  },
  {
   "cell_type": "code",
   "execution_count": null,
   "metadata": {},
   "outputs": [],
   "source": [
    "fig1, ax1 = plt.subplots(3, 4, figsize=(12, 12))\n",
    "\n",
    "color_list = [\"lightblue\", \"lightcoral\", \"orange\", \"springgreen\", \"deepskyblue\", \"mediumpurple\",\"gold\", \"cyan\", \"crimson\", \"deeppink\", \"lawngreen\", \"darkviolet\"][0:n_clust]\n",
    "color_list = [\"#ff5c67\", \"#af0006\", \"#ffa468\", \"#8c5f00\", \"#e4a400\", \"#d5c86f\", \"#939400\", \"#a7d380\", \"#138b00\", \"#42e087\", \"#00a86d\", \"#81c7a8\", \"#019a82\", \"#1eaaff\", \"#0268bb\", \"#5951d7\", \"#6b4570\", \"#ad20aa\", \"#ffa1e2\", \"#ff4a94\"][0:n_clust]\n",
    "color_list = [\"#cc566a\", \"#cd6c39\", \"#a39440\", \"#64ac48\", \"#4aac8d\", \"#688bcd\", \"#8562cc\", \"#c361aa\"]\n",
    "cm_roi = LinearSegmentedColormap.from_list(\"my_list\", color_list, N=n_clust)\n",
    "\n",
    "num_planes= np.shape(roi_map)[0]\n",
    "for i in range(num_planes):\n",
    "    r = i // 4\n",
    "    c = np.mod(i, 4)\n",
    "    \n",
    "    roi_layer = roi_map_clustered[i]\n",
    "    roi_layer[0, 1:(n_clust+1)] = [1, 2, 3, 4, 5, 6, 7, 8, 9, 10, 11, 12, 13, 14, 15, 16, 17, 18, 19, 20][0:n_clust]\n",
    "    roi_layer = np.ma.masked_where(roi_layer < 1, roi_layer)\n",
    "    roi_layer = np.rot90(roi_layer, k=1, axes=(1, 0))\n",
    "\n",
    "    ax1[r, c].imshow(roi_layer, cmap=cm_roi)#rainbow\")\n",
    "    ax1[r, c].axis('off')\n",
    "    ax1[r, c].set_title('z' + str(i))\n",
    "    #print(roi_layer)\n",
    "\n",
    "    \n",
    "plt.show()\n",
    "file_name = 'clusters_hrc_rois_210715_k' + str(n_clust) + '_2.jpg'\n",
    "fig1.savefig(str(fish_dir/file_name), dpi=300)"
   ]
  },
  {
   "cell_type": "code",
   "execution_count": null,
   "metadata": {},
   "outputs": [],
   "source": []
  },
  {
   "cell_type": "code",
   "execution_count": null,
   "metadata": {},
   "outputs": [],
   "source": []
  }
 ],
 "metadata": {
  "kernelspec": {
   "display_name": "Python 3 (ipykernel)",
   "language": "python",
   "name": "python3"
  },
  "language_info": {
   "codemirror_mode": {
    "name": "ipython",
    "version": 3
   },
   "file_extension": ".py",
   "mimetype": "text/x-python",
   "name": "python",
   "nbconvert_exporter": "python",
   "pygments_lexer": "ipython3",
   "version": "3.7.10"
  }
 },
 "nbformat": 4,
 "nbformat_minor": 4
}
