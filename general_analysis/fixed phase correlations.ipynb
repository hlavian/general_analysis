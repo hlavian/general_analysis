{
 "cells": [
  {
   "cell_type": "code",
   "execution_count": null,
   "id": "5e004100-ba05-4452-8605-7ea59ef40995",
   "metadata": {},
   "outputs": [],
   "source": [
    "%matplotlib widget"
   ]
  },
  {
   "cell_type": "code",
   "execution_count": null,
   "id": "27f5c1da-9d86-48bd-90c0-6a6929da4ee2",
   "metadata": {},
   "outputs": [],
   "source": [
    "from glob import glob\n",
    "import numpy as np\n",
    "import pandas as pd\n",
    "import flammkuchen as fl\n",
    "\n",
    "import matplotlib.pyplot as plt\n",
    "from lotr import LotrExperiment\n",
    "from lotr.pca import pca_and_phase, fictive_heading_and_fit, fit_phase_neurons\n",
    "\n",
    "from pathlib import Path"
   ]
  },
  {
   "cell_type": "code",
   "execution_count": null,
   "id": "00c8106b-86a8-4bc0-9116-0c9ac2a1718a",
   "metadata": {},
   "outputs": [],
   "source": [
    "master = Path(r\"\\\\funes\\Shared\\experiments\\E0071_lotr\\full_ring\")\n",
    "fish_list = list(master.glob(\"*_f*\"))\n",
    "fish = fish_list[1]\n",
    "print(fish)\n",
    "\n",
    "path_list = list(fish.glob(\"*_f*\"))\n",
    "path = path_list[0]\n",
    "print(path)"
   ]
  },
  {
   "cell_type": "code",
   "execution_count": null,
   "id": "3a027be1-1463-4a9d-a96a-526264581146",
   "metadata": {},
   "outputs": [],
   "source": [
    "suite2p_traces = fl.load(path / \"data_from_suite2p_unfiltered.h5\", \"/traces\")\n",
    "print(np.shape(suite2p_traces))"
   ]
  },
  {
   "cell_type": "code",
   "execution_count": null,
   "id": "1a484fca-dbe7-465d-9f2c-be1793e117b6",
   "metadata": {},
   "outputs": [],
   "source": [
    "norm_traces = np.copy(suite2p_traces)\n",
    "norm_traces=norm_traces.T\n",
    "sd=np.nanstd(norm_traces, 0)\n",
    "mean=np.nanmean(norm_traces, 0)\n",
    "norm_traces=norm_traces-mean \n",
    "norm_traces=norm_traces/sd\n",
    "#norm_traces=norm_traces.T\n",
    "print(np.shape(norm_traces))\n",
    "print(np.max(norm_traces))"
   ]
  },
  {
   "cell_type": "code",
   "execution_count": null,
   "id": "911e7da4-3bbe-41e0-858f-cb6aca49617c",
   "metadata": {},
   "outputs": [],
   "source": [
    "traces_full = norm_traces"
   ]
  },
  {
   "cell_type": "code",
   "execution_count": null,
   "id": "946ba2bd-5a75-4171-a74a-36313f213f81",
   "metadata": {},
   "outputs": [],
   "source": [
    "#traces_full = fl.load(path / \"filtered_traces.h5\", \"/detr\")\n",
    "selected = fl.load(path / \"selected.h5\")\n",
    "traces_hdn = traces_full[:, selected]\n",
    "exp = LotrExperiment(path)\n",
    "\n",
    "suite2p_data = fl.load(path / \"data_from_suite2p_unfiltered.h5\")\n",
    "coords = suite2p_data['coords']\n",
    "\n",
    "t_start_s = 50\n",
    "t_lims = (t_start_s*exp.fn, exp.n_pts)\n",
    "t_slice = slice(*t_lims)"
   ]
  },
  {
   "cell_type": "code",
   "execution_count": null,
   "id": "f8106358-2b3f-40a6-82d7-ecd8a57ccec1",
   "metadata": {},
   "outputs": [],
   "source": [
    "df = fl.load(path / \"bouts_df.h5\")\n",
    "fs = int(exp.fn)\n",
    "beh_df = exp.behavior_log\n",
    "tail_sum = beh_df['tail_sum']\n",
    "t_tail = beh_df['t']"
   ]
  },
  {
   "cell_type": "code",
   "execution_count": null,
   "id": "904c2ee8-8854-4f43-a26f-f5740b56fbc3",
   "metadata": {},
   "outputs": [],
   "source": [
    "pca_scores, angles, _, _ = pca_and_phase(traces_full[t_slice, selected].T, traces_full[t_slice, selected].T)\n",
    "pcaed, phase, _, _ = pca_and_phase(traces_full[t_slice, selected], traces_full[:, selected])"
   ]
  },
  {
   "cell_type": "code",
   "execution_count": null,
   "id": "0c0b8ef9-9162-4dd0-a5d5-39aa933b8e73",
   "metadata": {},
   "outputs": [],
   "source": [
    "pc_angles = exp.rpc_angles + np.pi\n",
    "sort_idxs = np.argsort(pc_angles)\n",
    "np.shape(sort_idxs)"
   ]
  },
  {
   "cell_type": "code",
   "execution_count": null,
   "id": "69025767-def3-4e45-b6d4-734c53f05711",
   "metadata": {},
   "outputs": [],
   "source": [
    "t_img = np.arange(np.shape(traces_full)[0]) / fs\n",
    "len_rec, num_traces = np.shape(traces_hdn)\n",
    "print(\"num_traces: \", num_traces)\n",
    "print(\"len_rec: \", len_rec)\n",
    "print(\"sampling rate: \", fs)"
   ]
  },
  {
   "cell_type": "code",
   "execution_count": null,
   "id": "1b653a96-8d22-4043-b27f-f4ad234e9289",
   "metadata": {},
   "outputs": [],
   "source": [
    "# find time points of no motion \n",
    "time_after_bout = 5\n",
    "num_bouts = len(df)\n",
    "\n",
    "bout_start = np.asarray(df['t_start'])\n",
    "ibi = np.diff(bout_start)\n",
    "bouts_to_check = np.where(ibi > 20)[0]\n",
    "num_bouts_to_check = len(bouts_to_check)\n",
    "print(num_bouts_to_check)"
   ]
  },
  {
   "cell_type": "code",
   "execution_count": null,
   "id": "27ed9cfb-61a7-4e55-8619-01fe91327b7c",
   "metadata": {},
   "outputs": [],
   "source": [
    "mean_phase = np.zeros((num_bouts_to_check))\n",
    "for bout in range(num_bouts_to_check):\n",
    "    curr_bout = bouts_to_check[bout]\n",
    "    t_bout = int(df.iloc[curr_bout]['t_start'] + time_after_bout) * 5\n",
    "    t_end = int(df.iloc[curr_bout+1]['t_start']) * 5\n",
    "    #print(t_bout, t_end)\n",
    "    \n",
    "    # find average phase after bout:\n",
    "    mean_phase[bout] = np.mean(phase[t_bout:t_end]) + np.pi"
   ]
  },
  {
   "cell_type": "code",
   "execution_count": null,
   "id": "d5e8038e-de94-41f3-8d43-6d4f74397034",
   "metadata": {},
   "outputs": [],
   "source": [
    "# find neurons on either side of the phase \n",
    "sorted_traces = traces_hdn[:, sort_idxs]"
   ]
  },
  {
   "cell_type": "code",
   "execution_count": null,
   "id": "1800c1db-1962-4b0a-b05f-1a1a9c6e928d",
   "metadata": {},
   "outputs": [],
   "source": [
    "fig, ax = plt.subplots(2, 1, figsize=(8,4), gridspec_kw={'height_ratios': [1, 3]}, sharex=True)\n",
    "ax[0].plot(t_tail, tail_sum, c='gray')\n",
    "ax[0].scatter(bout_start[bouts_to_check], np.ones((num_bouts_to_check)))\n",
    "ax[0].axis('off')\n",
    "\n",
    "\n",
    "ax[1].plot(t_img, phase + np.pi, c='skyblue')\n",
    "ax[1].scatter(bout_start[bouts_to_check], mean_phase)\n",
    "ax[1].spines['right'].set_visible(False)\n",
    "ax[1].spines['top'].set_visible(False)"
   ]
  },
  {
   "cell_type": "code",
   "execution_count": null,
   "id": "88191436-9164-4e59-86ea-a23aede9d2a1",
   "metadata": {},
   "outputs": [],
   "source": [
    "for bout in range(num_bouts_to_check):\n",
    "    curr_phase = mean_phase[bout]\n",
    "    curr_bout = bouts_to_check[bout]\n",
    "    \n",
    "    lim1 = mean_phase[bout] #+ np.pi/8\n",
    "    lim2 = mean_phase[bout] + np.pi/2\n",
    "    lim3 = mean_phase[bout] - np.pi\n",
    "    rois_group1 = np.where(((pc_angles > lim1) & (pc_angles < lim2)) | (pc_angles < lim3))[0]\n",
    "    ax[1].scatter(np.ones(np.shape(rois_group1)[0]) * bout_start[curr_bout], pc_angles[rois_group1], c='orange', s=2)\n",
    "    \n",
    "    lim1 = mean_phase[bout] #- np.pi/8\n",
    "    lim2 = mean_phase[bout] - np.pi/2\n",
    "    lim3 = mean_phase[bout] + np.pi\n",
    "    rois_group2 = np.where(((pc_angles < lim1) & (pc_angles > lim2)) | (pc_angles > lim3))[0]\n",
    "    ax[1].scatter(np.ones(np.shape(rois_group2)[0]) * bout_start[curr_bout], pc_angles[rois_group2], c='lightgreen', s=2)\n",
    "    "
   ]
  },
  {
   "cell_type": "code",
   "execution_count": null,
   "id": "1343bed0-c830-4f14-b05e-6af8f47495d6",
   "metadata": {},
   "outputs": [],
   "source": [
    "# get correlation matrix per segment without changing the order\n",
    "n_row = 5\n",
    "n_col = 5\n",
    "fig2, ax2 = plt.subplots(n_row, n_col, figsize=(10,10))\n",
    "corrmat_full = np.corrcoef(sorted_traces.T)\n",
    "\n",
    "for i in range(num_bouts_to_check):\n",
    "    r = i // n_col\n",
    "    c = np.mod(i, n_col)\n",
    "    \n",
    "    curr_bout = bouts_to_check[i]\n",
    "    t1 = int(df.iloc[curr_bout]['t_start'] + time_after_bout) * fs\n",
    "    t2 = int(df.iloc[curr_bout+1]['t_start']) * fs\n",
    "    tmp_traces = sorted_traces[t1:t2,:]\n",
    "    corrmat = np.corrcoef(tmp_traces.T) #- corrmat_full\n",
    "    \n",
    "    ax2[r,c].imshow(corrmat, cmap='coolwarm', vmin=-1, vmax=1, extent=[0, 2*np.pi, 0, 2*np.pi])\n",
    "    ax2[r,c].set_title(str(mean_phase[i]))\n",
    "    \n",
    "\n",
    "ax2[n_row-1, n_col-1].imshow(corrmat_full, cmap='coolwarm', vmin=-1, vmax=1)"
   ]
  },
  {
   "cell_type": "code",
   "execution_count": null,
   "id": "133e4adb-fa43-470b-a102-371dabb72a11",
   "metadata": {},
   "outputs": [],
   "source": [
    "# pc_angles are sorted from 0 to 2*pi. If we subtract the mean phase from each pc_angle, take all the negative pc_angles and put them at the end of the list, \n",
    "# then the mean phase is always at the start\n",
    "i=0\n",
    "print(mean_phase[i])\n",
    "sorted_pc_angles = pc_angles[sort_idxs]\n",
    "tmp_pc_angles = sorted_pc_angles - mean_phase[i]\n",
    "neg_ind = np.where(tmp_pc_angles < 0)[0]\n",
    "n_shift = np.shape(neg_ind)[0]\n",
    "\n",
    "rot_pc_angles = np.zeros_like(sorted_pc_angles)\n",
    "rot_traces = np.zeros_like(traces_hdn)\n",
    "\n",
    "rot_pc_angles[0:(num_traces-n_shift)] = sorted_pc_angles[(neg_ind[-1]+1):]\n",
    "rot_pc_angles[(num_traces-n_shift):] = sorted_pc_angles[:(neg_ind[-1]+1)]\n",
    "\n",
    "rot_traces[:, 0:(num_traces-n_shift)] = sorted_traces[:, (neg_ind[-1]+1):]\n",
    "rot_traces[:, (num_traces-n_shift):] = sorted_traces[:, :(neg_ind[-1]+1)]"
   ]
  },
  {
   "cell_type": "code",
   "execution_count": null,
   "id": "7a1c9f2c-55be-45e9-a40f-f85a8a475f15",
   "metadata": {},
   "outputs": [],
   "source": [
    "\n",
    "fig3, ax3 = plt.subplots(n_row, n_col, figsize=(10,10))\n",
    "\n",
    "avg_corrmat = np.zeros_like(corrmat_full)\n",
    "\n",
    "for i in range(num_bouts_to_check):\n",
    "    r = i // n_col\n",
    "    c = np.mod(i, n_col)\n",
    "    corrmat_full = np.corrcoef(rot_traces.T)\n",
    "    \n",
    "    \n",
    "    ##########\n",
    "    #print(mean_phase[i])\n",
    "    sorted_pc_angles = pc_angles[sort_idxs]\n",
    "    tmp_pc_angles = sorted_pc_angles - mean_phase[i]\n",
    "    neg_ind = np.where(tmp_pc_angles < 0)[0]\n",
    "    try:\n",
    "        n_shift = np.shape(neg_ind)[0]\n",
    "\n",
    "        rot_pc_angles = np.zeros_like(sorted_pc_angles)\n",
    "        rot_traces = np.zeros_like(traces_hdn)\n",
    "\n",
    "        rot_pc_angles[0:(num_traces-n_shift)] = sorted_pc_angles[(neg_ind[-1]+1):]\n",
    "        rot_pc_angles[(num_traces-n_shift):] = sorted_pc_angles[:(neg_ind[-1]+1)]\n",
    "\n",
    "        rot_traces[:, 0:(num_traces-n_shift)] = sorted_traces[:, (neg_ind[-1]+1):]\n",
    "        rot_traces[:, (num_traces-n_shift):] = sorted_traces[:, :(neg_ind[-1]+1)]\n",
    "        ##########\n",
    "        curr_bout = bouts_to_check[i]\n",
    "        t1 = int(df.iloc[curr_bout]['t_start'] + time_after_bout) * fs\n",
    "        t2 = int(df.iloc[curr_bout+1]['t_start']) * fs\n",
    "        tmp_traces = rot_traces[t1:t2,:]\n",
    "        \n",
    "        \n",
    "    except:\n",
    "        tmp_traces = traces_hdn[t1:t2,:]\n",
    "        print(\"No rot\")\n",
    "              \n",
    "    corrmat = np.corrcoef(tmp_traces.T) #- corrmat_full\n",
    "    ax3[r,c].imshow(corrmat, cmap='coolwarm', vmin=-1, vmax=1)\n",
    "    avg_corrmat += corrmat\n",
    "\n",
    "for i in range(n_row*n_col):\n",
    "    r = i // n_col\n",
    "    c = np.mod(i, n_col)\n",
    "    ax3[r,c].axis('off')\n",
    "    \n",
    "avg_corrmat /= num_bouts_to_check\n",
    "corrmat = np.corrcoef(sorted_traces.T)\n",
    "ax3[n_row-1, n_col-1].imshow(corrmat, cmap='coolwarm', vmin=-1, vmax=1)\n",
    "ax3[n_row-1, n_col-2].imshow(avg_corrmat, cmap='coolwarm', vmin=-1, vmax=1)"
   ]
  },
  {
   "cell_type": "code",
   "execution_count": null,
   "id": "e779c5d1-c41e-49b0-9258-4f8718d89150",
   "metadata": {},
   "outputs": [],
   "source": []
  },
  {
   "cell_type": "code",
   "execution_count": null,
   "id": "e78f74b9-5310-4c62-b423-2b3876121424",
   "metadata": {},
   "outputs": [],
   "source": [
    "# get the distribution of correlations of neurons within each group and between groups\n"
   ]
  },
  {
   "cell_type": "code",
   "execution_count": null,
   "id": "4249b9ec-0017-4205-8271-f448f4c1400d",
   "metadata": {},
   "outputs": [],
   "source": []
  }
 ],
 "metadata": {
  "kernelspec": {
   "display_name": "Python 3",
   "language": "python",
   "name": "python3"
  },
  "language_info": {
   "codemirror_mode": {
    "name": "ipython",
    "version": 3
   },
   "file_extension": ".py",
   "mimetype": "text/x-python",
   "name": "python",
   "nbconvert_exporter": "python",
   "pygments_lexer": "ipython3",
   "version": "3.7.10"
  }
 },
 "nbformat": 4,
 "nbformat_minor": 5
}
