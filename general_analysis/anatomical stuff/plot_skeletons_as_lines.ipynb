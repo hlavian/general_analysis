{
 "cells": [
  {
   "cell_type": "code",
   "execution_count": null,
   "id": "11dc99ec-8ba9-42e2-b4a6-e43e14609812",
   "metadata": {},
   "outputs": [],
   "source": [
    "%matplotlib widget"
   ]
  },
  {
   "cell_type": "code",
   "execution_count": null,
   "id": "c6e801ef-d1a4-4228-95a0-c22a74f127d6",
   "metadata": {},
   "outputs": [],
   "source": [
    "import matplotlib.pyplot as plt\n",
    "from seaborn import husl_palette\n",
    "from em_reconstruction.loading import load_skeleton_from_kzip\n",
    "from pathlib import Path"
   ]
  },
  {
   "cell_type": "code",
   "execution_count": null,
   "id": "2589abf6-a569-477c-b529-c21899519844",
   "metadata": {},
   "outputs": [],
   "source": [
    "from bg_atlasapi.bg_atlas import BrainGlobeAtlas\n",
    "from bg_space import AnatomicalSpace\n",
    "from em_reconstruction.plotting import get_mpiref_coords"
   ]
  },
  {
   "cell_type": "code",
   "execution_count": null,
   "id": "34d6ca47-a2a9-4adb-92ae-e686d8eb9072",
   "metadata": {},
   "outputs": [],
   "source": [
    "import numpy as np"
   ]
  },
  {
   "cell_type": "code",
   "execution_count": null,
   "id": "767a292c-b377-4371-84a6-411c164b5004",
   "metadata": {},
   "outputs": [],
   "source": [
    "from lotr import plotting as pltltr\n",
    "from lotr import DATASET_LOCATION\n",
    "from bg_atlasapi.core import Atlas\n",
    "COLS = pltltr.COLS\n",
    "\n",
    "atlas = Atlas(DATASET_LOCATION.parent / \"anatomy\" / \"ipn_zfish_0.5_um_v1.6\")"
   ]
  },
  {
   "cell_type": "code",
   "execution_count": null,
   "id": "adf2a4ab-6666-4676-aef3-ce006a23c2f3",
   "metadata": {},
   "outputs": [],
   "source": [
    "path = r\"\\\\Funes\\Shared\\experiments\\E0076_EM_reconstructions\\skeletons_converted\\all_ahb.k.zip\"\n",
    "save_dir = Path(r\"C:\\Users\\lavian\\Desktop\\EM plots\")"
   ]
  },
  {
   "cell_type": "code",
   "execution_count": null,
   "id": "efb5a017-6de2-443b-bf09-2f1c5a4f5b9b",
   "metadata": {},
   "outputs": [],
   "source": [
    "cell_list = load_skeleton_from_kzip(path)\n",
    "colors = husl_palette(len(cell_list))"
   ]
  },
  {
   "cell_type": "code",
   "execution_count": null,
   "id": "19828054-2d20-41e6-826f-60812bb1fe2c",
   "metadata": {},
   "outputs": [],
   "source": [
    "# load MPI reference\n",
    "mpi = BrainGlobeAtlas(\"mpin_zfish_1um\")\n",
    "ref = mpi.reference\n",
    "\n",
    "# mask for the IPN\n",
    "ipn = mpi.annotation\n",
    "ipn[ipn!=869] = 0\n",
    "\n",
    "# the orientation for plotting\n",
    "space_imshow = AnatomicalSpace(\"pil\", shape=ref.shape)\n",
    "space_ref = AnatomicalSpace(mpi.orientation, shape=ref.shape)\n",
    "ref = space_ref.map_stack_to(space_imshow, ref)\n",
    "ipn = space_ref.map_stack_to(space_imshow, ipn)\n",
    "\n",
    "# parameters for plotting coronal, horizontal, and sagittal planes\n",
    "locs = [(0,0), (1,0), (1,1)]\n",
    "x = [2, 2, 1]\n",
    "y = [1, 0, 0]\n",
    "ref_planes = [ref.mean(i) for i in range(3)]\n",
    "ipn_planes = [np.where(ipn.max(i) > 0, 1, np.nan) for i in range(3)]"
   ]
  },
  {
   "cell_type": "code",
   "execution_count": null,
   "id": "401875e7-0a1e-4eac-9510-1717a2060d8d",
   "metadata": {},
   "outputs": [],
   "source": [
    "#  Specify axes limits over all dimensions:\n",
    "bs = dict(frontal=(0, 200), vertical=(-4, 170), sagittal=(-50, 200))\n",
    "#bs = dict(frontal=(-1000, 2000), vertical=(-1000, 1000), sagittal=(-1000, 2000))\n",
    "\n",
    "\n",
    "plotter = pltltr.AtlasPlotter(\n",
    "    atlas=atlas,\n",
    "    structures=[\"ipn\", \"dors_ipn\"],\n",
    "    mask_slices=dict(frontal=slice(0, 120)),\n",
    "    bounds_dict=dict(\n",
    "        frontal=[bs[\"vertical\"], bs[\"frontal\"]],\n",
    "        horizontal=[bs[\"sagittal\"], bs[\"frontal\"]],\n",
    "        sagittal=[bs[\"vertical\"], bs[\"sagittal\"]],\n",
    "    ),\n",
    ")"
   ]
  },
  {
   "cell_type": "code",
   "execution_count": null,
   "id": "30b99e32-fb08-4d04-b86f-c6d035de2045",
   "metadata": {},
   "outputs": [],
   "source": [
    "f, axs = plotter.generate_projection_plots()"
   ]
  },
  {
   "cell_type": "code",
   "execution_count": null,
   "id": "bb984b2f-21a0-400c-aae1-46452867dbfa",
   "metadata": {},
   "outputs": [],
   "source": [
    "f, ax = plt.subplots(1, 3, figsize=(14, 5))"
   ]
  },
  {
   "cell_type": "code",
   "execution_count": null,
   "id": "a332a9ac-9b95-419b-b8c1-95c528d6ef54",
   "metadata": {},
   "outputs": [],
   "source": [
    "X = [2, 2, 0]\n",
    "Y = [1, 0, 1]\n",
    "\n",
    "X = [2, 0]\n",
    "Y = [1, 1]\n",
    "\n",
    "x_diff = [180, 180, -270]\n",
    "y_diff = [-270, -550, -560]\n",
    "\n",
    "        \n",
    "for a in ax:\n",
    "    a.invert_yaxis()\n",
    "    a.set(aspect=\"equal\")\n",
    "    a.axis(\"off\")\n",
    "for cell, color in zip(cell_list, colors):\n",
    "    coords = cell.coords_mpi\n",
    "    idx_dict = {idx: i for i, idx in enumerate(cell.nodes.index)}\n",
    "    for src, dst in cell.edges.items():\n",
    "        idx = [idx_dict[src], idx_dict[dst]]\n",
    "        for a, x, y in zip(ax, X, Y):\n",
    "            a.plot(coords[idx, x], coords[idx, y], lw=0.5, c=color)"
   ]
  },
  {
   "cell_type": "code",
   "execution_count": null,
   "id": "e9e2e86f-2c60-4846-8efa-0bb2aae5b907",
   "metadata": {},
   "outputs": [],
   "source": [
    "f.savefig(save_dir/\"em_220930_partial2_big.pdf\", dpi=300)"
   ]
  },
  {
   "cell_type": "code",
   "execution_count": null,
   "id": "4252d8ff-dd99-46d8-aace-13e977c19cc2",
   "metadata": {},
   "outputs": [],
   "source": [
    "f.savefig(save_dir/\"em_220930_01.jpg\", dpi=300)"
   ]
  },
  {
   "cell_type": "code",
   "execution_count": null,
   "id": "9c189158-9197-453b-847d-5858da7c2e3c",
   "metadata": {},
   "outputs": [],
   "source": [
    "f1, ax1 = plt.subplots(1, 3, figsize=(14, 5))\n",
    "X = [2]\n",
    "Y = [0]\n",
    "\n",
    "x_diff = [180, 180, -270]\n",
    "y_diff = [-270, -550, -560]\n",
    "\n",
    "        \n",
    "for a in ax1:\n",
    "    a.invert_yaxis()\n",
    "    a.set(aspect=\"equal\")\n",
    "    a.axis(\"off\")\n",
    "for cell, color in zip(cell_list, colors):\n",
    "    coords = cell.coords_mpi\n",
    "    idx_dict = {idx: i for i, idx in enumerate(cell.nodes.index)}\n",
    "    for src, dst in cell.edges.items():\n",
    "        idx = [idx_dict[src], idx_dict[dst]]\n",
    "        for a, x, y in zip(ax1, X, Y):\n",
    "            a.plot(coords[idx, x], coords[idx, y], lw=0.5, c=color)\n"
   ]
  },
  {
   "cell_type": "code",
   "execution_count": null,
   "id": "5654500a-c36f-4c16-8918-d30f432bdb93",
   "metadata": {},
   "outputs": [],
   "source": [
    "plt.subplots_adjust(left=0.01)"
   ]
  },
  {
   "cell_type": "code",
   "execution_count": null,
   "id": "4e84b768-e914-4f8b-8e61-539eb782f96d",
   "metadata": {},
   "outputs": [],
   "source": [
    "f1.savefig(save_dir/\"em_220930_2.jpg\", dpi=300)"
   ]
  },
  {
   "cell_type": "code",
   "execution_count": null,
   "id": "a23c02c5-ac11-4820-b4ee-068a5e159646",
   "metadata": {},
   "outputs": [],
   "source": []
  }
 ],
 "metadata": {
  "kernelspec": {
   "display_name": "Python 3",
   "language": "python",
   "name": "python3"
  },
  "language_info": {
   "codemirror_mode": {
    "name": "ipython",
    "version": 3
   },
   "file_extension": ".py",
   "mimetype": "text/x-python",
   "name": "python",
   "nbconvert_exporter": "python",
   "pygments_lexer": "ipython3",
   "version": "3.7.10"
  }
 },
 "nbformat": 4,
 "nbformat_minor": 5
}
