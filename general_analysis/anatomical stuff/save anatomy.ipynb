{
 "cells": [
  {
   "cell_type": "code",
   "execution_count": null,
   "id": "86161714-0b63-4477-85c4-f372d45c97b9",
   "metadata": {},
   "outputs": [],
   "source": [
    "%matplotlib widget"
   ]
  },
  {
   "cell_type": "code",
   "execution_count": null,
   "id": "d63602b4-ae50-47be-b731-3238527e15c3",
   "metadata": {},
   "outputs": [],
   "source": [
    "import numpy as np\n",
    "import flammkuchen as fl\n",
    "from pathlib import Path\n",
    "import tifffile as tiff"
   ]
  },
  {
   "cell_type": "code",
   "execution_count": null,
   "id": "37694a72-6a13-49b6-bcf6-9f8a02a7bdec",
   "metadata": {},
   "outputs": [],
   "source": [
    "master = Path(r\"Z:\\Hagar\\E0040\\2p ablations\\gad1b + habenula\")\n",
    "#master = Path(r\"Z:\\Hagar\\E0040\\2p ablations\\2p ablations near ipn\")\n",
    "fish_list = list(master.glob(\"*_ana*\"))"
   ]
  },
  {
   "cell_type": "code",
   "execution_count": null,
   "id": "6bb7d0b8-c67a-4636-be55-9cbdf98a330c",
   "metadata": {},
   "outputs": [],
   "source": [
    "for path in fish_list:\n",
    "    print(path)\n",
    "    if not (path / \"anatomy_suite2p.tif\").exists():\n",
    "        try:\n",
    "            suite2p_data = fl.load(path / \"data_from_suite2p_cells.h5\")\n",
    "            anatomy = suite2p_data['anatomy_stack']\n",
    "            tiff.imsave(path / \"anatomy_suite2p.tif\", anatomy)\n",
    "        except:\n",
    "            print(\"no data\")"
   ]
  },
  {
   "cell_type": "code",
   "execution_count": null,
   "id": "71c3e0f6-5018-4da7-8e98-db6b50b8e0a9",
   "metadata": {},
   "outputs": [],
   "source": []
  },
  {
   "cell_type": "code",
   "execution_count": null,
   "id": "8935990d-37b8-4c36-b121-22ba07a37256",
   "metadata": {},
   "outputs": [],
   "source": []
  }
 ],
 "metadata": {
  "kernelspec": {
   "display_name": "Python 3 (ipykernel)",
   "language": "python",
   "name": "python3"
  },
  "language_info": {
   "codemirror_mode": {
    "name": "ipython",
    "version": 3
   },
   "file_extension": ".py",
   "mimetype": "text/x-python",
   "name": "python",
   "nbconvert_exporter": "python",
   "pygments_lexer": "ipython3",
   "version": "3.7.10"
  }
 },
 "nbformat": 4,
 "nbformat_minor": 5
}
