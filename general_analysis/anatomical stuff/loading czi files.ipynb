{
 "cells": [
  {
   "cell_type": "code",
   "execution_count": null,
   "id": "a43320e6-32a6-45c3-8ad9-3c6d1e4460c8",
   "metadata": {},
   "outputs": [],
   "source": [
    "from pathlib import Path\n",
    "import napari\n",
    "import czifile\n",
    "%gui qt5"
   ]
  },
  {
   "cell_type": "code",
   "execution_count": null,
   "id": "a471a7ed-c0ae-4099-9846-456baa8f2912",
   "metadata": {},
   "outputs": [],
   "source": [
    "path = Path(r\"\\\\funes2\\data\\Hagar\\E0040\\v31\\2p ablation\\230411_f0\")\n",
    "file_name = str(path / \"f0.czi\")"
   ]
  },
  {
   "cell_type": "code",
   "execution_count": null,
   "id": "66159e30-90cd-4b62-8617-6563f5e8b71b",
   "metadata": {},
   "outputs": [],
   "source": [
    "img = czifile.imread(file_name)"
   ]
  },
  {
   "cell_type": "code",
   "execution_count": null,
   "id": "0649f7f4-48fb-4c2b-8d9a-a1dd607c2548",
   "metadata": {},
   "outputs": [],
   "source": [
    "img.shape"
   ]
  },
  {
   "cell_type": "code",
   "execution_count": null,
   "id": "e6addd92-370e-4de2-a08d-f106d5a2125b",
   "metadata": {},
   "outputs": [],
   "source": [
    "stack = img[:,:,0,:,:]\n",
    "stack2 = img[:,:,1,:,:]"
   ]
  },
  {
   "cell_type": "code",
   "execution_count": null,
   "id": "b25caaf5-593e-4440-ac47-cd240ba42881",
   "metadata": {},
   "outputs": [],
   "source": []
  },
  {
   "cell_type": "code",
   "execution_count": null,
   "id": "f0d83bae-ce12-4df2-82b5-60b9e0db3ffb",
   "metadata": {},
   "outputs": [],
   "source": [
    "viewer = napari.Viewer()  # how do I use napari-aicsimageio instead?\n",
    "viewer.add_image(stack, colormap='green', scale=(5,1,1)) \n",
    "viewer.add_image(stack2, colormap='red', scale=(5,1,1))"
   ]
  },
  {
   "cell_type": "code",
   "execution_count": null,
   "id": "d603b4c6-8333-472c-9d42-cbe396cbee47",
   "metadata": {},
   "outputs": [],
   "source": []
  },
  {
   "cell_type": "code",
   "execution_count": null,
   "id": "560042a7-d80c-4884-94d2-91d7a7367ccf",
   "metadata": {},
   "outputs": [],
   "source": []
  }
 ],
 "metadata": {
  "kernelspec": {
   "display_name": "Python 3",
   "language": "python",
   "name": "python3"
  },
  "language_info": {
   "codemirror_mode": {
    "name": "ipython",
    "version": 3
   },
   "file_extension": ".py",
   "mimetype": "text/x-python",
   "name": "python",
   "nbconvert_exporter": "python",
   "pygments_lexer": "ipython3",
   "version": "3.7.10"
  }
 },
 "nbformat": 4,
 "nbformat_minor": 5
}
