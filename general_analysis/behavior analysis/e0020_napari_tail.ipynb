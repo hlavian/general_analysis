{
 "cells": [
  {
   "cell_type": "code",
   "execution_count": null,
   "id": "global-horizontal",
   "metadata": {},
   "outputs": [],
   "source": [
    "import napari\n",
    "from pathlib import Path\n",
    "from napari_animation import AnimationWidget\n",
    "import numpy as np\n",
    "from naparimovie import Movie\n",
    "import flammkuchen as fl\n",
    "%gui qt5"
   ]
  },
  {
   "cell_type": "code",
   "execution_count": null,
   "id": "tutorial-edward",
   "metadata": {},
   "outputs": [],
   "source": [
    "master = Path(r\"\\\\Funes\\Shared\\experiments\\E0020_random_coherences\\v27_imaging\")\n",
    "all_fish = list(master.glob(\"*_f*/*tail_segments_for_napari*\"))\n",
    "len(all_fish)"
   ]
  },
  {
   "cell_type": "code",
   "execution_count": null,
   "id": "essential-immune",
   "metadata": {},
   "outputs": [],
   "source": [
    "fish = all_fish[93]\n",
    "beh_data = fl.load(fish)[0]\n",
    "print(fish)"
   ]
  },
  {
   "cell_type": "code",
   "execution_count": null,
   "id": "detected-shipping",
   "metadata": {},
   "outputs": [],
   "source": [
    "tail_pos = beh_data['tail_positive']\n",
    "tail_neg = beh_data['tail_negative']\n",
    "full_tail= beh_data['full_tail'][:, 0:500000]\n",
    "\n",
    "num_trials, num_segments, len_segment = np.shape(tail_neg)\n",
    "print(np.shape(tail_neg))"
   ]
  },
  {
   "cell_type": "code",
   "execution_count": null,
   "id": "based-revelation",
   "metadata": {},
   "outputs": [],
   "source": [
    "new_len=4000\n",
    "segment = tail_neg[:, :, 0:new_len]\n",
    "np.shape(segment)"
   ]
  },
  {
   "cell_type": "code",
   "execution_count": null,
   "id": "determined-yugoslavia",
   "metadata": {},
   "outputs": [],
   "source": [
    "viewer = napari.Viewer()\n",
    "t = np.arange(len_segment) / 10\n",
    "color_list = ['r', '#aa0000', '#ff7980', 'crimson', 'salmon', 'tomato', 'r', '#aa0000', '#ff7980', 'crimson', 'salmon', 'tomato', 'r', '#aa0000', '#ff7980', 'crimson', 'salmon', 'tomato', 'r', '#aa0000', '#ff7980', 'crimson', 'salmon', 'tomato',\n",
    "             'r', '#aa0000', '#ff7980', 'crimson', 'salmon', 'tomato', 'r', '#aa0000', '#ff7980', 'crimson', 'salmon', 'tomato', 'r', '#aa0000', '#ff7980', 'crimson', 'salmon', 'tomato', 'r', '#aa0000', '#ff7980', 'crimson', 'salmon', 'tomato']\n",
    "\n",
    "t1 = 21\n",
    "for trial in range(t1, t1+40):\n",
    "    tracks_data = np.zeros((len_segment, 3))\n",
    "    for i in range(1, num_segments):\n",
    "\n",
    "        tmp_tracks = np.zeros((len_segment, 3))\n",
    "        fish_id = np.ones((len_segment)) * (i + 1)  *  10\n",
    "        x = np.cos(segment[trial, i] - segment[0, 0])\n",
    "        y = np.sin(segment[trial, i] - segment[0, 0])\n",
    "        tmp_tracks[:, 0] = t\n",
    "        tmp_tracks[:, 1] = fish_id + x # value of theta\n",
    "        tmp_tracks[:, 2] = y * 10# height of segments \n",
    "\n",
    "        tracks_data = np.append(tracks_data, tmp_tracks, axis=0)\n",
    "\n",
    "    points_layer = viewer.add_points(tracks_data, size=1, face_color=color_list[trial-t1], edge_color=color_list[trial-t1])"
   ]
  },
  {
   "cell_type": "code",
   "execution_count": null,
   "id": "uniform-injury",
   "metadata": {},
   "outputs": [],
   "source": [
    "animation_widget = AnimationWidget(viewer)\n",
    "viewer.window.add_dock_widget(animation_widget, area='right')"
   ]
  },
  {
   "cell_type": "code",
   "execution_count": null,
   "id": "lyric-start",
   "metadata": {},
   "outputs": [],
   "source": [
    "new_len=4000\n",
    "segment = tail_pos[:, :, 0:new_len]\n",
    "np.shape(segment)\n",
    "\n",
    "viewer = napari.Viewer()\n",
    "t = np.arange(new_len) / 20\n",
    "color_list = ['darkgreen', 'lightgreen', 'line', 'yellowgreen', 'seagreen', 'green', 'darkgreen', 'lightgreen', 'line', 'yellowgreen', 'seagreen', 'green', 'darkgreen', 'lightgreen', 'line', 'yellowgreen', 'seagreen', 'green', 'darkgreen', 'lightgreen', 'line', 'yellowgreen', 'seagreen', 'green',\n",
    "             'darkgreen', 'lightgreen', 'line', 'yellowgreen', 'seagreen', 'green', 'darkgreen', 'lightgreen', 'line', 'yellowgreen', 'seagreen', 'green', 'darkgreen', 'lightgreen', 'line', 'yellowgreen', 'seagreen', 'green', 'darkgreen', 'lightgreen', 'line', 'yellowgreen', 'seagreen', 'green']\n",
    "\n",
    "t1 = 21\n",
    "for trial in range(t1, t1+40):\n",
    "    tracks_data = np.zeros((new_len, 3))\n",
    "    for i in range(1, num_segments):\n",
    "\n",
    "        tmp_tracks = np.zeros((new_len, 3))\n",
    "        fish_id = np.ones((new_len)) * (i + 1)  *  10\n",
    "        x = np.cos(segment[trial, i] - segment[0, 0])\n",
    "        y = np.sin(segment[trial, i] - segment[0, 0])\n",
    "        tmp_tracks[:, 0] = t\n",
    "        tmp_tracks[:, 1] = fish_id + x # value of theta\n",
    "        tmp_tracks[:, 2] = y * 20# height of segments \n",
    "\n",
    "        tracks_data = np.append(tracks_data, tmp_tracks, axis=0)\n",
    "\n",
    "    points_layer = viewer.add_points(tracks_data, size=1, face_color=color_list[trial-t1], edge_color=color_list[trial-t1])\n",
    "    \n",
    "animation_widget = AnimationWidget(viewer)\n",
    "viewer.window.add_dock_widget(animation_widget, area='right')"
   ]
  },
  {
   "cell_type": "code",
   "execution_count": null,
   "id": "interested-leisure",
   "metadata": {},
   "outputs": [],
   "source": []
  }
 ],
 "metadata": {
  "kernelspec": {
   "display_name": "Python 3",
   "language": "python",
   "name": "python3"
  },
  "language_info": {
   "codemirror_mode": {
    "name": "ipython",
    "version": 3
   },
   "file_extension": ".py",
   "mimetype": "text/x-python",
   "name": "python",
   "nbconvert_exporter": "python",
   "pygments_lexer": "ipython3",
   "version": "3.7.10"
  }
 },
 "nbformat": 4,
 "nbformat_minor": 5
}
