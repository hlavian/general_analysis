{
 "cells": [
  {
   "cell_type": "code",
   "execution_count": null,
   "id": "87517c56-3c77-486a-9726-a37c98a94637",
   "metadata": {},
   "outputs": [],
   "source": [
    "%matplotlib widget"
   ]
  },
  {
   "cell_type": "code",
   "execution_count": null,
   "id": "f2b862a6-2465-47e5-821b-26174d90f250",
   "metadata": {},
   "outputs": [],
   "source": [
    "from pathlib import Path\n",
    "import numpy as np\n",
    "import flammkuchen as fl\n",
    "import pandas as pd\n",
    "\n",
    "import json\n",
    "from matplotlib import  pyplot as plt\n",
    "\n",
    "from fimpylab.core.lightsheet_experiment import LightsheetExperiment\n",
    "from bouterin.plots.stimulus_log_plot import get_paint_function"
   ]
  },
  {
   "cell_type": "code",
   "execution_count": null,
   "id": "72e93fc2-7beb-4ea8-9d43-f166f2991896",
   "metadata": {},
   "outputs": [],
   "source": [
    "master_pre = Path(r\"Z:\\Hagar\\E0040\\v31\\pre ablation 2p near ipn\")\n",
    "fish_list = list(master_pre.glob(\"*_f*\"))\n",
    "path = fish_list[0]\n",
    "path"
   ]
  },
  {
   "cell_type": "code",
   "execution_count": null,
   "id": "3d429620-eff9-43a2-b2b4-11ea5a6727c3",
   "metadata": {},
   "outputs": [],
   "source": [
    "# Load data and get sensory regressors \n",
    "exp = LightsheetExperiment(fish)\n",
    "stim_log = exp.stimulus_log\n",
    "beh_log = exp.behavior_log\n",
    "t_beh = np.asarray(beh_log.t)\n",
    "tail = np.asarray(beh_log.tail_sum)\n",
    "bouts_df = fl.load(path / \"bouts_df.h5\")"
   ]
  },
  {
   "cell_type": "code",
   "execution_count": null,
   "id": "96233ef4-64bc-4ecf-8931-b01056c86ad1",
   "metadata": {},
   "outputs": [],
   "source": [
    "fs = exp.fn\n",
    "print(fs)"
   ]
  },
  {
   "cell_type": "code",
   "execution_count": null,
   "id": "e22fe825-d37b-4971-9691-252ab66197fd",
   "metadata": {},
   "outputs": [],
   "source": [
    "bouts_df"
   ]
  },
  {
   "cell_type": "code",
   "execution_count": null,
   "id": "f333e0d0-e63e-4c54-9a15-010942487855",
   "metadata": {},
   "outputs": [],
   "source": [
    "theta_interp = np.asarray(fl.load(path / \"sensory_regressors.h5\", \"/individual_theta_interp\"))"
   ]
  },
  {
   "cell_type": "code",
   "execution_count": null,
   "id": "76b8dd94-c2e3-49d7-a563-b4b49a76574a",
   "metadata": {},
   "outputs": [],
   "source": [
    "# For each regressor, extract timing of stimulus times \n",
    "bouts_dist = np.empty((8, len(bouts_df)))\n",
    "bouts_dist.fill(np.nan)\n",
    "\n",
    "for bout in range(len(bouts_df)):\n",
    "    bout_t = int(bouts_df[\"t_start\"][bout] * fs)\n",
    "    #print(bout_t)\n",
    "    \n",
    "    curr_dir = theta_interp[:, bout_t]\n",
    "    curr_dir = np.where(curr_dir > 0)[0]\n",
    "    #print(curr_dir)\n",
    "    if len(curr_dir) > 0:\n",
    "        bouts_dist[curr_dir[0], bout] = bouts_df[\"bias\"][bout]\n",
    "    \n"
   ]
  },
  {
   "cell_type": "code",
   "execution_count": null,
   "id": "27aaba2d-d897-4c8a-aad4-74ab0a326b74",
   "metadata": {},
   "outputs": [],
   "source": [
    "# Find all bouts that appeared during the stimulus \n",
    "\n"
   ]
  },
  {
   "cell_type": "code",
   "execution_count": null,
   "id": "9d8123f0-c2b2-4ab1-84cd-7c61b030786f",
   "metadata": {},
   "outputs": [],
   "source": [
    "# Plot bout distribution\n",
    "fig, axs = plt.subplots(3,3, figsize=(8,8), sharex=True, sharey=True)\n",
    "axs[1,1].hist(bouts_df[\"bias\"], 10, density=True)\n",
    "axs[1,1].set_xlim(-1,1)\n",
    "\n",
    "ax_ind = np.asarray([[1, 2, 2, 2, 1, 0, 0, 0],[2, 2, 1, 0, 0, 0, 1, 2]])\n",
    "\n",
    "for i in range(8): \n",
    "    try:\n",
    "        axs[ax_ind[0,i],ax_ind[1,i]].hist(bouts_dist[i,:], 10, density=False)\n",
    "    except:\n",
    "        print(\"no bouts\")\n",
    "\n",
    "        "
   ]
  },
  {
   "cell_type": "code",
   "execution_count": null,
   "id": "2a91e4f8-dcba-4110-af03-2a33d90f9348",
   "metadata": {},
   "outputs": [],
   "source": []
  },
  {
   "cell_type": "code",
   "execution_count": null,
   "id": "4adb121b-9172-44a4-beb9-9e62d6cf7abe",
   "metadata": {},
   "outputs": [],
   "source": []
  },
  {
   "cell_type": "code",
   "execution_count": null,
   "id": "0dec00f8-392b-433f-add8-b1d04247263c",
   "metadata": {},
   "outputs": [],
   "source": []
  },
  {
   "cell_type": "code",
   "execution_count": null,
   "id": "0a35d455-8d1d-40b4-96e2-3676219e0d25",
   "metadata": {},
   "outputs": [],
   "source": [
    "list(bouts_df[\"bias\"])"
   ]
  },
  {
   "cell_type": "code",
   "execution_count": null,
   "id": "80dffc27-ccde-4bae-9d12-54bf66643f7b",
   "metadata": {},
   "outputs": [],
   "source": [
    "### same but for all fish "
   ]
  },
  {
   "cell_type": "code",
   "execution_count": null,
   "id": "58d78a33-ab44-401b-91f5-a376b0279b9e",
   "metadata": {},
   "outputs": [],
   "source": [
    "master_pre = Path(r\"Z:\\Hagar\\E0040\\v31\\pre ablation\")\n",
    "fish_list = list(master_pre.glob(\"*_f*\"))"
   ]
  },
  {
   "cell_type": "code",
   "execution_count": null,
   "id": "2cc04189-0599-4a4c-a3b1-baa856b3ed01",
   "metadata": {},
   "outputs": [],
   "source": [
    "bouts_dist = [[],[],[],[],[],[],[],[]]\n",
    "all_bouts_dist = []\n",
    "\n",
    "for path in fish_list:\n",
    "    print(path)\n",
    "    # Load data and get sensory regressors \n",
    "    exp = LightsheetExperiment(fish)\n",
    "    stim_log = exp.stimulus_log\n",
    "    beh_log = exp.behavior_log\n",
    "    t_beh = np.asarray(beh_log.t)\n",
    "    tail = np.asarray(beh_log.tail_sum)\n",
    "    bouts_df = fl.load(path / \"bouts_df.h5\")\n",
    "    fs = exp.fn\n",
    "    theta_interp = np.asarray(fl.load(path / \"sensory_regressors.h5\", \"/individual_theta_interp\"))\n",
    "    \n",
    "    all_bouts_dist = all_bouts_dist + list(bouts_df[\"bias\"])\n",
    "\n",
    "    for bout in range(len(bouts_df)):\n",
    "        bout_t = int(bouts_df[\"t_start\"][bout] * fs)\n",
    "        #print(bout_t)\n",
    "\n",
    "        curr_dir = theta_interp[:, bout_t]\n",
    "        curr_dir = np.where(curr_dir > 0)[0]\n",
    "\n",
    "        if len(curr_dir) > 0:\n",
    "            bouts_dist[curr_dir[0]].append(bouts_df[\"bias\"][bout])\n"
   ]
  },
  {
   "cell_type": "code",
   "execution_count": null,
   "id": "72dbc6ac-912b-4338-a693-3196210c249f",
   "metadata": {},
   "outputs": [],
   "source": [
    "# Plot bout distribution\n",
    "fig_all, axs_all = plt.subplots(3,3, figsize=(8,8), sharex=True)\n",
    "axs_all[1,1].hist(all_bouts_dist, 100, density=True, color='skyblue')\n",
    "axs_all[1,1].set_xlim(-1,1)\n",
    "\n",
    "\n",
    "ax_ind = np.asarray([[1, 2, 2, 2, 1, 0, 0, 0],[2, 2, 1, 0, 0, 0, 1, 2]])\n",
    "\n",
    "for i in range(8): \n",
    "    try:\n",
    "        axs_all[ax_ind[0,i],ax_ind[1,i]].hist(bouts_dist[i], 100, density=True, color='skyblue', alpha=0.6)\n",
    "    except:\n",
    "        print(\"no bouts\")\n",
    "\n",
    "        "
   ]
  },
  {
   "cell_type": "code",
   "execution_count": null,
   "id": "710e4088-c25b-4604-a440-19ec730a9a45",
   "metadata": {},
   "outputs": [],
   "source": []
  },
  {
   "cell_type": "code",
   "execution_count": null,
   "id": "71f6c1db-1ee4-473d-b85d-dbf7806da23c",
   "metadata": {},
   "outputs": [],
   "source": [
    "master_post = Path(r\"Z:\\Hagar\\E0040\\v31\\post ablation 2d\")\n",
    "fish_list = list(master_post.glob(\"*_f*\"))"
   ]
  },
  {
   "cell_type": "code",
   "execution_count": null,
   "id": "9ee3cbe1-7326-4394-8d04-807294b3534e",
   "metadata": {},
   "outputs": [],
   "source": [
    "bouts_dist = [[],[],[],[],[],[],[],[]]\n",
    "all_bouts_dist = []\n",
    "\n",
    "for path in fish_list:\n",
    "    print(path)\n",
    "    # Load data and get sensory regressors \n",
    "    exp = LightsheetExperiment(fish)\n",
    "    stim_log = exp.stimulus_log\n",
    "    beh_log = exp.behavior_log\n",
    "    t_beh = np.asarray(beh_log.t)\n",
    "    tail = np.asarray(beh_log.tail_sum)\n",
    "    bouts_df = fl.load(path / \"bouts_df.h5\")\n",
    "    fs = exp.fn\n",
    "    theta_interp = np.asarray(fl.load(path / \"sensory_regressors.h5\", \"/individual_theta_interp\"))\n",
    "    \n",
    "    all_bouts_dist = all_bouts_dist + list(bouts_df[\"bias\"])\n",
    "\n",
    "    for bout in range(len(bouts_df)):\n",
    "        bout_t = int(bouts_df[\"t_start\"][bout] * fs)\n",
    "        #print(bout_t)\n",
    "\n",
    "        curr_dir = theta_interp[:, bout_t]\n",
    "        curr_dir = np.where(curr_dir > 0)[0]\n",
    "\n",
    "        if len(curr_dir) > 0:\n",
    "            bouts_dist[curr_dir[0]].append(bouts_df[\"bias\"][bout])\n"
   ]
  },
  {
   "cell_type": "code",
   "execution_count": null,
   "id": "c4d7845d-13af-4cf4-be01-9afdb9d87eff",
   "metadata": {},
   "outputs": [],
   "source": [
    "# Plot bout distribution\n",
    "axs_all[1,1].hist(all_bouts_dist, 100, density=True, color='orchid', alpha=0.6)\n",
    "axs_all[1,1].set_xlim(-1,1)\n",
    "axs_all[1,1].spines['top'].set_visible(False)\n",
    "axs_all[1,1].spines['right'].set_visible(False)\n",
    "\n",
    "\n",
    "ax_ind = np.asarray([[1, 2, 2, 2, 1, 0, 0, 0],[2, 2, 1, 0, 0, 0, 1, 2]])\n",
    "\n",
    "for i in range(8): \n",
    "    try:\n",
    "        axs_all[ax_ind[0,i],ax_ind[1,i]].hist(bouts_dist[i], 100, density=True, color='orchid', alpha=0.6)\n",
    "    except:\n",
    "        print(\"no bouts\")\n",
    "    axs_all[ax_ind[0,i],ax_ind[1,i]].spines['top'].set_visible(False)\n",
    "    axs_all[ax_ind[0,i],ax_ind[1,i]].spines['right'].set_visible(False)\n",
    "\n",
    "        "
   ]
  },
  {
   "cell_type": "code",
   "execution_count": null,
   "id": "f61615ad-9978-48f7-b2a2-c0c95c7f946d",
   "metadata": {},
   "outputs": [],
   "source": [
    "file_name = \"bout distribution per direction pre post.jpg\"\n",
    "fig_all.savefig(master_pre / file_name, dpi=300)"
   ]
  },
  {
   "cell_type": "code",
   "execution_count": null,
   "id": "141f1c22-810a-4bf2-9c6b-cbdd81e8d824",
   "metadata": {},
   "outputs": [],
   "source": []
  },
  {
   "cell_type": "code",
   "execution_count": null,
   "id": "9f3ff982-4b8f-44b5-abf8-2f23cbe41db1",
   "metadata": {},
   "outputs": [],
   "source": []
  }
 ],
 "metadata": {
  "kernelspec": {
   "display_name": "Python 3",
   "language": "python",
   "name": "python3"
  },
  "language_info": {
   "codemirror_mode": {
    "name": "ipython",
    "version": 3
   },
   "file_extension": ".py",
   "mimetype": "text/x-python",
   "name": "python",
   "nbconvert_exporter": "python",
   "pygments_lexer": "ipython3",
   "version": "3.7.10"
  }
 },
 "nbformat": 4,
 "nbformat_minor": 5
}
