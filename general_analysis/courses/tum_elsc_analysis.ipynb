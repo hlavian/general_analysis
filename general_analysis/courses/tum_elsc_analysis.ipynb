{
 "cells": [
  {
   "cell_type": "code",
   "execution_count": null,
   "id": "5a4785bd-bf96-4196-9812-de9de257069c",
   "metadata": {},
   "outputs": [],
   "source": [
    "%matplotlib widget"
   ]
  },
  {
   "cell_type": "code",
   "execution_count": null,
   "id": "a7b5f501-5d03-4830-aedf-7a176400bb14",
   "metadata": {},
   "outputs": [],
   "source": [
    "from pathlib import Path\n",
    "import flammkuchen as fl\n",
    "import numpy as np\n",
    "import pandas as pd \n",
    "from fimpylab.core.lightsheet_experiment import LightsheetExperiment\n",
    "\n",
    "import matplotlib.pyplot as plt"
   ]
  },
  {
   "cell_type": "code",
   "execution_count": null,
   "id": "dc6279d3-961b-4fd1-8758-46984f56e8db",
   "metadata": {},
   "outputs": [],
   "source": [
    "path = Path(r\"\\\\funes\\Shared\\Hagar\\tumelsc\\group1\\220919_f1\")"
   ]
  },
  {
   "cell_type": "code",
   "execution_count": null,
   "id": "28c2ac25-a33f-427f-9e30-d9d85a307307",
   "metadata": {},
   "outputs": [],
   "source": [
    "directions = np.arange(0, 8) * np.pi * 2 / 8\n",
    "\n",
    "single_trial = [6, 7, 0, 1, 2, 3, 4, 5, 6, 6, 5, 4, 3, 2, 1, 0, 7]"
   ]
  },
  {
   "cell_type": "code",
   "execution_count": null,
   "id": "d5e3f764-614a-499d-acb9-f833a01f4e30",
   "metadata": {},
   "outputs": [],
   "source": [
    "np.rad2deg(directions)"
   ]
  },
  {
   "cell_type": "code",
   "execution_count": null,
   "id": "917b2835-db61-4e21-8df2-244a26d5e5a7",
   "metadata": {},
   "outputs": [],
   "source": [
    "exp = LightsheetExperiment(path)"
   ]
  },
  {
   "cell_type": "code",
   "execution_count": null,
   "id": "57a4608a-1f5a-49c2-a475-9fcb7d95aa9b",
   "metadata": {},
   "outputs": [],
   "source": [
    "stim_log = exp.stimulus_log\n",
    "stim_log"
   ]
  },
  {
   "cell_type": "code",
   "execution_count": null,
   "id": "1a2c703e-ce47-4d81-8222-b7959d05c2a8",
   "metadata": {},
   "outputs": [],
   "source": [
    "from motions.utilities import stim_vel_dir_dataframe, quantize_directions\n"
   ]
  },
  {
   "cell_type": "code",
   "execution_count": null,
   "id": "0f04d6df-9cc8-45a1-a0ac-58449017d6ce",
   "metadata": {},
   "outputs": [],
   "source": [
    "np.unique(coherence)"
   ]
  },
  {
   "cell_type": "code",
   "execution_count": null,
   "id": "88c6ecb0-cd99-492d-90ce-f25350d4bf41",
   "metadata": {},
   "outputs": [],
   "source": [
    "stimulus = {\n",
    "    't': np.asarray(stim_log.t)[:-4],\n",
    "    'theta': np.asarray(stim.theta),\n",
    "}\n",
    "fl.save(path / 'stimulus_files.h5', stimulus)"
   ]
  },
  {
   "cell_type": "code",
   "execution_count": null,
   "id": "63c6222a-d058-4766-b869-4c928aa02e1d",
   "metadata": {},
   "outputs": [],
   "source": [
    "test = fl.load(path / 'stimulus_files.h5')"
   ]
  },
  {
   "cell_type": "code",
   "execution_count": null,
   "id": "8bcbf4d1-3f7d-4e52-ada4-0e0e23632fc1",
   "metadata": {},
   "outputs": [],
   "source": [
    "stim = stim_vel_dir_dataframe(exp)\n",
    "bin_centres, dir_bins = quantize_directions(stim.theta)"
   ]
  },
  {
   "cell_type": "code",
   "execution_count": null,
   "id": "b8393d9c-94ec-4edf-a6cb-6f7b750e37c1",
   "metadata": {},
   "outputs": [],
   "source": [
    "suite2p_data = fl.load(path/ \"suite2p\" / \"data_from_suite2p_cells.h5\")\n",
    "traces = suite2p_data['traces']"
   ]
  },
  {
   "cell_type": "code",
   "execution_count": null,
   "id": "78b8549c-629c-422b-b7e5-17351797b589",
   "metadata": {},
   "outputs": [],
   "source": [
    "int_fact = 200\n",
    "fs = 2\n",
    "dt_imaging = 1 / fs\n",
    "t_imaging_int = np.arange(traces.shape[1]*int_fact)*dt_imaging/int_fact"
   ]
  },
  {
   "cell_type": "code",
   "execution_count": null,
   "id": "a2efdeae-8286-4746-bf55-e69d46baef0e",
   "metadata": {},
   "outputs": [],
   "source": [
    "from scipy import signal\n",
    "from scipy.interpolate import interp1d"
   ]
  },
  {
   "cell_type": "code",
   "execution_count": null,
   "id": "d936beb4-36ad-4fb6-8d17-e662a6a88b63",
   "metadata": {},
   "outputs": [],
   "source": [
    "t_imaging = np.arange(traces.shape[1])/fs\n",
    "t_stim = np.asarray(stim_log.t)[:-4]\n",
    "theta_full = np.asarray(stim.theta)"
   ]
  },
  {
   "cell_type": "code",
   "execution_count": null,
   "id": "67b62b86-d033-41d0-9614-9c31506250fc",
   "metadata": {},
   "outputs": [],
   "source": [
    "theta = interp1d(t_stim, theta_full, bounds_error=False, fill_value=0)(t_imaging_int)\n",
    "theta_reg = signal.decimate(theta, int_fact, ftype=\"fir\")\n",
    "\n",
    "theta_reg = signal.resample(theta, np.shape(t_imaging)[0])"
   ]
  },
  {
   "cell_type": "code",
   "execution_count": null,
   "id": "797e160b-5a5c-4986-8922-b3177a81853c",
   "metadata": {},
   "outputs": [],
   "source": [
    "theta_test = theta[0:-1:200]"
   ]
  },
  {
   "cell_type": "code",
   "execution_count": null,
   "id": "bbad2ed6-c46d-4d01-996a-ae250fa4c933",
   "metadata": {},
   "outputs": [],
   "source": [
    "np.shape(theta_test)"
   ]
  },
  {
   "cell_type": "code",
   "execution_count": null,
   "id": "2407cef2-f1dc-496b-9113-551ba9285a50",
   "metadata": {},
   "outputs": [],
   "source": [
    "stimulus = {\n",
    "    'theta_full': theta_full,\n",
    "    'theta': theta_test,\n",
    "}\n",
    "fl.save(path / 'stimulus_file.h5', stimulus)"
   ]
  },
  {
   "cell_type": "code",
   "execution_count": null,
   "id": "432360f2-5f83-489c-b180-902063033229",
   "metadata": {},
   "outputs": [],
   "source": [
    "check = fl.load(path / 'stimulus_file.5')\n",
    "t_check = check['t"
   ]
  },
  {
   "cell_type": "code",
   "execution_count": null,
   "id": "20abe306-18b5-4984-a002-6ff7c595a1d1",
   "metadata": {},
   "outputs": [],
   "source": [
    "plt.plot(np.asarray(stim_log.t)[:-4], np.asarray(stim.theta))"
   ]
  },
  {
   "cell_type": "code",
   "execution_count": null,
   "id": "b400e57a-8682-45c2-8f0b-43f1065845d9",
   "metadata": {},
   "outputs": [],
   "source": [
    "fig = plt.figure()\n",
    "plt.plot(theta_test)"
   ]
  },
  {
   "cell_type": "code",
   "execution_count": null,
   "id": "d026790e-4ce6-4fae-ae90-a5dac38618e9",
   "metadata": {},
   "outputs": [],
   "source": []
  },
  {
   "cell_type": "code",
   "execution_count": null,
   "id": "e56a937a-62f4-4b22-b18a-33c8d4237292",
   "metadata": {},
   "outputs": [],
   "source": [
    "directions = np.arange(0, 8) * np.pi * 2 / 8\n",
    "\n",
    "single_trial = [6, 7, 0, 1, 2, 3, 4, 5, 6, 6, 5, 4, 3, 2, 1, 0, 7]\n",
    "direction_order = np.concatenate([np.asarray(single_trial)\n",
    "                             for _ in range(8)])"
   ]
  },
  {
   "cell_type": "code",
   "execution_count": null,
   "id": "c0e4b246-6f5b-494e-b400-f584e12962c4",
   "metadata": {},
   "outputs": [],
   "source": [
    "directions"
   ]
  },
  {
   "cell_type": "code",
   "execution_count": null,
   "id": "27a8070b-c24d-4165-b6b7-4bdbacc9aa6c",
   "metadata": {},
   "outputs": [],
   "source": [
    "exp_test = LotrExperiment(path)"
   ]
  },
  {
   "cell_type": "code",
   "execution_count": null,
   "id": "75553b82-22cd-4036-adda-c75d8d7f0803",
   "metadata": {},
   "outputs": [],
   "source": [
    "exp_test.fs"
   ]
  },
  {
   "cell_type": "code",
   "execution_count": null,
   "id": "475e731a-f282-4f5c-b03a-1f875d96a5d0",
   "metadata": {},
   "outputs": [],
   "source": []
  }
 ],
 "metadata": {
  "kernelspec": {
   "display_name": "Python 3",
   "language": "python",
   "name": "python3"
  },
  "language_info": {
   "codemirror_mode": {
    "name": "ipython",
    "version": 3
   },
   "file_extension": ".py",
   "mimetype": "text/x-python",
   "name": "python",
   "nbconvert_exporter": "python",
   "pygments_lexer": "ipython3",
   "version": "3.7.10"
  }
 },
 "nbformat": 4,
 "nbformat_minor": 5
}
