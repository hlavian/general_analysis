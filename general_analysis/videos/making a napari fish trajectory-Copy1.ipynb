{
 "cells": [
  {
   "cell_type": "code",
   "execution_count": null,
   "id": "alone-arbor",
   "metadata": {},
   "outputs": [],
   "source": [
    "import napari\n",
    "from pathlib import Path\n",
    "import tifffile\n",
    "from napari_animation import AnimationWidget\n",
    "from split_dataset import SplitDataset\n",
    "import numpy as np\n",
    "from naparimovie import Movie\n",
    "import flammkuchen as fl\n",
    "%gui qt5"
   ]
  },
  {
   "cell_type": "code",
   "execution_count": null,
   "id": "unsigned-sheffield",
   "metadata": {},
   "outputs": [],
   "source": [
    "master = Path(r\"\\\\funes\\Shared\\experiments\\E0020_random_coherences\\v07_black_dots\")\n",
    "all_fish = list(master.glob(\"*_f*/*beh*\"))\n",
    "fish = all_fish[2]\n",
    "beh_data = fl.load(fish)['data']"
   ]
  },
  {
   "cell_type": "code",
   "execution_count": null,
   "id": "automated-cutting",
   "metadata": {},
   "outputs": [],
   "source": [
    "t1 = 5000\n",
    "t2 = 8000\n",
    "len = t2 - t1\n",
    "fish_id = np.ones((len))\n",
    "t = np.arange(len)\n",
    "x =  np.asarray(beh_data['f0_x'])[t1:t2]\n",
    "y = np.asarray(beh_data['f0_y'])[t1:t2]"
   ]
  },
  {
   "cell_type": "code",
   "execution_count": null,
   "id": "labeled-wallace",
   "metadata": {},
   "outputs": [],
   "source": [
    "print(np.shape(np.where(np.isnan(x))))\n",
    "np.where(np.isnan(x))"
   ]
  },
  {
   "cell_type": "code",
   "execution_count": null,
   "id": "dental-pillow",
   "metadata": {},
   "outputs": [],
   "source": [
    "tracks_data = np.zeros((len, 4))\n",
    "tracks_data[:, 0] = fish_id\n",
    "tracks_data[:, 1] = t\n",
    "tracks_data[:, 2] = x\n",
    "tracks_data[:, 3] = y\n",
    "\n",
    "viewer = napari.view_tracks(tracks_data, blending='translucent')\n",
    "napari.run()"
   ]
  },
  {
   "cell_type": "code",
   "execution_count": null,
   "id": "portable-circulation",
   "metadata": {},
   "outputs": [],
   "source": [
    "animation_widget = AnimationWidget(viewer)\n",
    "viewer.window.add_dock_widget(animation_widget, area='right')"
   ]
  },
  {
   "cell_type": "code",
   "execution_count": null,
   "id": "acting-nicholas",
   "metadata": {},
   "outputs": [],
   "source": []
  }
 ],
 "metadata": {
  "kernelspec": {
   "display_name": "Python 3",
   "language": "python",
   "name": "python3"
  },
  "language_info": {
   "codemirror_mode": {
    "name": "ipython",
    "version": 3
   },
   "file_extension": ".py",
   "mimetype": "text/x-python",
   "name": "python",
   "nbconvert_exporter": "python",
   "pygments_lexer": "ipython3",
   "version": "3.7.10"
  }
 },
 "nbformat": 4,
 "nbformat_minor": 5
}
