{
 "cells": [
  {
   "cell_type": "code",
   "execution_count": 1,
   "id": "selective-howard",
   "metadata": {},
   "outputs": [],
   "source": [
    "#%gui qt\n",
    "import napari\n",
    "from pathlib import Path\n",
    "import tifffile as tiff\n",
    "from napari_animation import AnimationWidget\n",
    "from split_dataset import SplitDataset\n",
    "import numpy as np\n",
    "from naparimovie import Movie\n",
    "%gui qt5"
   ]
  },
  {
   "cell_type": "code",
   "execution_count": 2,
   "id": "interstate-ranch",
   "metadata": {},
   "outputs": [
    {
     "name": "stdout",
     "output_type": "stream",
     "text": [
      "Z:\\Hagar\\older fish\\h2b\\230501_f3_v13\n"
     ]
    }
   ],
   "source": [
    "master_path = Path(r\"\\\\Funes\\Shared\\experiments\\E0020_random_coherences\\v35_two_options_forward_ol\\h2b\")\n",
    "master_path = Path(r\"\\\\Funes\\Shared\\experiments\\E0040_motions_cardinal\\zebrafish-lightsheet-Luigi Petrucco-2021-05-14\\v21\\ls\\h2b_wb\")\n",
    "files = list(master_path.glob(\"*_f*\"))\n",
    "#fish = files[0]\n",
    "\n",
    "fish =  Path(r\"\\\\Funes\\Shared\\Elena\\2022_04_22_ls_lcr_red_survived1\\original\\22_04_29_f0\")\n",
    "\n",
    "master_path =  Path(r\"Z:\\Hagar\\older fish\\h2b\")\n",
    "files = list(master_path.glob(\"*_f*\"))\n",
    "fish = files[0]\n",
    "print(fish)"
   ]
  },
  {
   "cell_type": "code",
   "execution_count": 3,
   "id": "noble-director",
   "metadata": {},
   "outputs": [
    {
     "data": {
      "text/plain": [
       "(6120, 14, 330, 516)"
      ]
     },
     "execution_count": 3,
     "metadata": {},
     "output_type": "execute_result"
    }
   ],
   "source": [
    "stack = SplitDataset(fish / \"aligned\")\n",
    "num_planes = np.shape(stack)[1]\n",
    "np.shape(stack)"
   ]
  },
  {
   "cell_type": "code",
   "execution_count": null,
   "id": "abroad-skiing",
   "metadata": {},
   "outputs": [],
   "source": [
    "corrmap = 0"
   ]
  },
  {
   "cell_type": "code",
   "execution_count": 5,
   "id": "satisfied-january",
   "metadata": {},
   "outputs": [
    {
     "name": "stdout",
     "output_type": "stream",
     "text": [
      "2\n"
     ]
    },
    {
     "name": "stderr",
     "output_type": "stream",
     "text": [
      "C:\\Users\\lavian\\anaconda3\\envs\\rplab\\lib\\site-packages\\vispy\\gloo\\texture.py:45: UserWarning: GPUs can't support dtypes bigger than 32-bit, but got 'float64'. Precision will be lost due to downcasting to 32-bit.\n",
      "  f\"GPUs can't support dtypes bigger than 32-bit, but got '{dtype}'. \"\n"
     ]
    },
    {
     "name": "stdout",
     "output_type": "stream",
     "text": [
      "3\n"
     ]
    },
    {
     "name": "stderr",
     "output_type": "stream",
     "text": [
      "C:\\Users\\lavian\\anaconda3\\envs\\rplab\\lib\\site-packages\\vispy\\gloo\\texture.py:45: UserWarning: GPUs can't support dtypes bigger than 32-bit, but got 'float64'. Precision will be lost due to downcasting to 32-bit.\n",
      "  f\"GPUs can't support dtypes bigger than 32-bit, but got '{dtype}'. \"\n"
     ]
    },
    {
     "name": "stdout",
     "output_type": "stream",
     "text": [
      "4\n"
     ]
    },
    {
     "name": "stderr",
     "output_type": "stream",
     "text": [
      "C:\\Users\\lavian\\anaconda3\\envs\\rplab\\lib\\site-packages\\vispy\\gloo\\texture.py:45: UserWarning: GPUs can't support dtypes bigger than 32-bit, but got 'float64'. Precision will be lost due to downcasting to 32-bit.\n",
      "  f\"GPUs can't support dtypes bigger than 32-bit, but got '{dtype}'. \"\n"
     ]
    },
    {
     "name": "stdout",
     "output_type": "stream",
     "text": [
      "5\n"
     ]
    },
    {
     "name": "stderr",
     "output_type": "stream",
     "text": [
      "C:\\Users\\lavian\\anaconda3\\envs\\rplab\\lib\\site-packages\\vispy\\gloo\\texture.py:45: UserWarning: GPUs can't support dtypes bigger than 32-bit, but got 'float64'. Precision will be lost due to downcasting to 32-bit.\n",
      "  f\"GPUs can't support dtypes bigger than 32-bit, but got '{dtype}'. \"\n"
     ]
    },
    {
     "name": "stdout",
     "output_type": "stream",
     "text": [
      "6\n"
     ]
    },
    {
     "name": "stderr",
     "output_type": "stream",
     "text": [
      "C:\\Users\\lavian\\anaconda3\\envs\\rplab\\lib\\site-packages\\vispy\\gloo\\texture.py:45: UserWarning: GPUs can't support dtypes bigger than 32-bit, but got 'float64'. Precision will be lost due to downcasting to 32-bit.\n",
      "  f\"GPUs can't support dtypes bigger than 32-bit, but got '{dtype}'. \"\n"
     ]
    },
    {
     "name": "stdout",
     "output_type": "stream",
     "text": [
      "7\n"
     ]
    },
    {
     "name": "stderr",
     "output_type": "stream",
     "text": [
      "C:\\Users\\lavian\\anaconda3\\envs\\rplab\\lib\\site-packages\\vispy\\gloo\\texture.py:45: UserWarning: GPUs can't support dtypes bigger than 32-bit, but got 'float64'. Precision will be lost due to downcasting to 32-bit.\n",
      "  f\"GPUs can't support dtypes bigger than 32-bit, but got '{dtype}'. \"\n"
     ]
    },
    {
     "name": "stdout",
     "output_type": "stream",
     "text": [
      "8\n"
     ]
    },
    {
     "name": "stderr",
     "output_type": "stream",
     "text": [
      "C:\\Users\\lavian\\anaconda3\\envs\\rplab\\lib\\site-packages\\vispy\\gloo\\texture.py:45: UserWarning: GPUs can't support dtypes bigger than 32-bit, but got 'float64'. Precision will be lost due to downcasting to 32-bit.\n",
      "  f\"GPUs can't support dtypes bigger than 32-bit, but got '{dtype}'. \"\n"
     ]
    },
    {
     "name": "stdout",
     "output_type": "stream",
     "text": [
      "9\n"
     ]
    },
    {
     "name": "stderr",
     "output_type": "stream",
     "text": [
      "C:\\Users\\lavian\\anaconda3\\envs\\rplab\\lib\\site-packages\\vispy\\gloo\\texture.py:45: UserWarning: GPUs can't support dtypes bigger than 32-bit, but got 'float64'. Precision will be lost due to downcasting to 32-bit.\n",
      "  f\"GPUs can't support dtypes bigger than 32-bit, but got '{dtype}'. \"\n"
     ]
    },
    {
     "name": "stdout",
     "output_type": "stream",
     "text": [
      "10\n"
     ]
    },
    {
     "name": "stderr",
     "output_type": "stream",
     "text": [
      "C:\\Users\\lavian\\anaconda3\\envs\\rplab\\lib\\site-packages\\vispy\\gloo\\texture.py:45: UserWarning: GPUs can't support dtypes bigger than 32-bit, but got 'float64'. Precision will be lost due to downcasting to 32-bit.\n",
      "  f\"GPUs can't support dtypes bigger than 32-bit, but got '{dtype}'. \"\n"
     ]
    }
   ],
   "source": [
    "#create napari viewer\n",
    "#viewer = napari.Viewer(ndisplay=3)\n",
    "viewer = napari.Viewer()\n",
    "#tmp_plane = stack[:1800,2,:,:]\n",
    "for i in range(2, 11):\n",
    "    print(i)\n",
    "    tmp_plane = stack[:3060,i,:,:]\n",
    "    viewer.add_image(tmp_plane, colormap=\"magma\", name=str(i))\n"
   ]
  },
  {
   "cell_type": "code",
   "execution_count": null,
   "id": "cooked-replication",
   "metadata": {},
   "outputs": [],
   "source": [
    "tmp_plane = stack[:1800,11,:,:]\n",
    "viewer.add_image(tmp_plane, colormap=\"magma\", name=str(11))"
   ]
  },
  {
   "cell_type": "code",
   "execution_count": null,
   "id": "clinical-imagination",
   "metadata": {},
   "outputs": [],
   "source": [
    "#create napari viewer\n",
    "#viewer = napari.Viewer(ndisplay=3)\n",
    "#viewer.add_image(np.sum(corrmap,axis=0), colormap=\"gray\")\n",
    "tmp_plane = stack[:7400,1,:,:]\n",
    "for i in range(5, num_planes):\n",
    "    print(i)\n",
    "    tmp_plane += stack[:,i,:,:]\n",
    "\n"
   ]
  },
  {
   "cell_type": "code",
   "execution_count": null,
   "id": "desirable-tragedy",
   "metadata": {},
   "outputs": [],
   "source": [
    "tmp_plane /= (num_planes - 1) "
   ]
  },
  {
   "cell_type": "code",
   "execution_count": null,
   "id": "better-fortune",
   "metadata": {},
   "outputs": [],
   "source": [
    "viewer = napari.Viewer()\n",
    "viewer.add_image(tmp_plane, colormap=\"gray_r\")"
   ]
  },
  {
   "cell_type": "code",
   "execution_count": 6,
   "id": "union-military",
   "metadata": {},
   "outputs": [
    {
     "data": {
      "text/plain": [
       "<napari._qt.widgets.qt_viewer_dock_widget.QtViewerDockWidget at 0x154290eb798>"
      ]
     },
     "execution_count": 6,
     "metadata": {},
     "output_type": "execute_result"
    },
    {
     "name": "stderr",
     "output_type": "stream",
     "text": [
      "WARNING: QMainWindow::saveState(): 'objectName' not set for QDockWidget 0x154375546d0 ';\n"
     ]
    }
   ],
   "source": [
    "animation_widget = AnimationWidget(viewer)\n",
    "viewer.window.add_dock_widget(animation_widget, area='right')"
   ]
  },
  {
   "cell_type": "code",
   "execution_count": null,
   "id": "cloudy-daisy",
   "metadata": {},
   "outputs": [],
   "source": []
  }
 ],
 "metadata": {
  "kernelspec": {
   "display_name": "Python 3",
   "language": "python",
   "name": "python3"
  },
  "language_info": {
   "codemirror_mode": {
    "name": "ipython",
    "version": 3
   },
   "file_extension": ".py",
   "mimetype": "text/x-python",
   "name": "python",
   "nbconvert_exporter": "python",
   "pygments_lexer": "ipython3",
   "version": "3.7.10"
  }
 },
 "nbformat": 4,
 "nbformat_minor": 5
}
