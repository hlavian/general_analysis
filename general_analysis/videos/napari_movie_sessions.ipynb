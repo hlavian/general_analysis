{
 "cells": [
  {
   "cell_type": "code",
   "execution_count": null,
   "id": "bound-vertical",
   "metadata": {},
   "outputs": [],
   "source": [
    "#%gui qt\n",
    "import napari\n",
    "from pathlib import Path\n",
    "import tifffile\n",
    "from napari_animation import AnimationWidget\n",
    "from split_dataset import SplitDataset\n",
    "import numpy as np\n",
    "from naparimovie import Movie\n",
    "\n",
    "import tifffile as tiff\n",
    "\n",
    "%gui qt5"
   ]
  },
  {
   "cell_type": "code",
   "execution_count": null,
   "id": "tutorial-condition",
   "metadata": {},
   "outputs": [],
   "source": [
    "master = Path(r\"Z:\\Hagar\\crazy fish\\230302_f0\")\n",
    "stack_list = list(master.glob(\"*v*\"))\n",
    "stack_list"
   ]
  },
  {
   "cell_type": "code",
   "execution_count": null,
   "id": "distinguished-scanner",
   "metadata": {},
   "outputs": [],
   "source": [
    "fish = stack_list[0]\n",
    "stack = SplitDataset(fish / 'aligned')\n",
    "anatomy = tiff.imread(fish / 'anatomy.tif')"
   ]
  },
  {
   "cell_type": "code",
   "execution_count": null,
   "id": "maritime-divorce",
   "metadata": {},
   "outputs": [],
   "source": [
    "#stack = stack - np.mean(stack)\n",
    "sample_data = [stack[min(2, stack.shape[0] - 1) : min(7, stack.shape[0]), :, :, :]]\n",
    "contrast_limits = (np.percentile(sample_data, 0.01), np.percentile(sample_data, 99.99))\n",
    "#contrast_limits = None"
   ]
  },
  {
   "cell_type": "code",
   "execution_count": null,
   "id": "exempt-gather",
   "metadata": {},
   "outputs": [],
   "source": [
    "viewer = napari.view_image(anatomy, scale=(7, 1, 1), colormap='gray_r')\n",
    "viewer.add_image(stack, scale=(1, 7, 1, 1), colormap='gray_r', contrast_limits=contrast_limits)"
   ]
  },
  {
   "cell_type": "code",
   "execution_count": null,
   "id": "5091a9be-dd50-488f-8409-76d50d82ea43",
   "metadata": {},
   "outputs": [],
   "source": [
    "for i in range(1, len(stack_list)):\n",
    "    stack = SplitDataset(stack_list[i] / 'aligned')\n",
    "    viewer.add_image(stack, scale=(1, 7, 1, 1), colormap='gray_r', contrast_limits=contrast_limits)"
   ]
  },
  {
   "cell_type": "code",
   "execution_count": null,
   "id": "subject-strap",
   "metadata": {},
   "outputs": [],
   "source": [
    "animation_widget = AnimationWidget(viewer)\n",
    "viewer.window.add_dock_widget(animation_widget, area='right')"
   ]
  },
  {
   "cell_type": "code",
   "execution_count": null,
   "id": "associate-atlantic",
   "metadata": {},
   "outputs": [],
   "source": []
  },
  {
   "cell_type": "code",
   "execution_count": null,
   "id": "256baae0-02e9-4e36-9e67-77f865d7671c",
   "metadata": {},
   "outputs": [],
   "source": [
    "stack_array = stack[:,:,:,:]"
   ]
  },
  {
   "cell_type": "code",
   "execution_count": null,
   "id": "2b5ccb4c-60ab-49a8-89f7-03b2e0790814",
   "metadata": {},
   "outputs": [],
   "source": [
    "num_planes = np.shape(stack_array)[1]"
   ]
  },
  {
   "cell_type": "code",
   "execution_count": null,
   "id": "c604a893-f897-41d4-9b26-3004dc3368e3",
   "metadata": {},
   "outputs": [],
   "source": [
    "viewer = napari.view_image(stack_array[:,0], scale=(1, 1, 1), colormap='gray_r')"
   ]
  },
  {
   "cell_type": "code",
   "execution_count": null,
   "id": "e5b8f02f-e6cf-47b5-be86-d792adaf02a9",
   "metadata": {},
   "outputs": [],
   "source": [
    "for i in range(1, len(stack_list)):\n",
    "    viewer.add_image(stack_array[:,i], scale=(1, 1, 1), colormap='gray_r')"
   ]
  },
  {
   "cell_type": "code",
   "execution_count": null,
   "id": "e60408f4-93b9-4186-b6eb-235fcc5213d6",
   "metadata": {},
   "outputs": [],
   "source": []
  },
  {
   "cell_type": "code",
   "execution_count": null,
   "id": "f52bdf2f-3d71-4692-9e73-a648415cc735",
   "metadata": {},
   "outputs": [],
   "source": [
    "animation_widget = AnimationWidget(viewer)\n",
    "viewer.window.add_dock_widget(animation_widget, area='right')"
   ]
  }
 ],
 "metadata": {
  "kernelspec": {
   "display_name": "Python 3 (ipykernel)",
   "language": "python",
   "name": "python3"
  },
  "language_info": {
   "codemirror_mode": {
    "name": "ipython",
    "version": 3
   },
   "file_extension": ".py",
   "mimetype": "text/x-python",
   "name": "python",
   "nbconvert_exporter": "python",
   "pygments_lexer": "ipython3",
   "version": "3.7.10"
  }
 },
 "nbformat": 4,
 "nbformat_minor": 5
}
