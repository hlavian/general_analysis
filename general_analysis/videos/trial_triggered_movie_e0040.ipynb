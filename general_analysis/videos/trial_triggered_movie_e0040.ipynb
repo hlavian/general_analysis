{
 "cells": [
  {
   "cell_type": "code",
   "execution_count": null,
   "id": "comparable-keeping",
   "metadata": {},
   "outputs": [],
   "source": [
    "%matplotlib widget"
   ]
  },
  {
   "cell_type": "code",
   "execution_count": null,
   "id": "classical-glory",
   "metadata": {},
   "outputs": [],
   "source": [
    "import numpy as np\n",
    "import tifffile as tiff\n",
    "from pathlib import Path\n",
    "from matplotlib import pyplot as plt\n",
    "import flammkuchen as fl\n",
    "import napari\n",
    "from napari_animation import AnimationWidget\n",
    "from split_dataset import SplitDataset\n",
    "from fimpylab.core.lightsheet_experiment import LightsheetExperiment\n",
    "%gui qt5"
   ]
  },
  {
   "cell_type": "code",
   "execution_count": null,
   "id": "combined-winning",
   "metadata": {},
   "outputs": [],
   "source": [
    "master = Path(r\"Z:\\Hagar\\E0040\\v13\")\n",
    "\n",
    "files = list(master.glob(\"*_f*\"))\n",
    "fish = files[0]\n",
    "print(fish)"
   ]
  },
  {
   "cell_type": "code",
   "execution_count": null,
   "id": "overhead-county",
   "metadata": {},
   "outputs": [],
   "source": [
    "# Getting stimulus information\n",
    "exp = LightsheetExperiment(path=fish)\n",
    "stim_log = getattr(exp, \"stimulus_log\")\n",
    "fs = exp.fn"
   ]
  },
  {
   "cell_type": "code",
   "execution_count": null,
   "id": "theoretical-message",
   "metadata": {},
   "outputs": [],
   "source": [
    "# Loading imaging data (aligned)\n",
    "aligned_stack = SplitDataset(fish / \"aligned\")\n",
    "len_rec_original, num_planes, x_pix, y_pix = np.shape(aligned_stack)\n",
    "np.shape(aligned_stack)\n",
    "\n",
    "len_rec_new = len_rec_original // 2\n",
    "n_sessions = 3"
   ]
  },
  {
   "cell_type": "code",
   "execution_count": null,
   "id": "beb99217-dd2c-422d-a260-fa181bbc79a0",
   "metadata": {},
   "outputs": [],
   "source": [
    "# for experiment v31 and v13 the trials are not randomized\n",
    "len_segment = len_rec_new // (n_sessions * 2)"
   ]
  },
  {
   "cell_type": "code",
   "execution_count": null,
   "id": "316faf9a-0541-4d0d-b7c0-a84d6889ae4e",
   "metadata": {},
   "outputs": [],
   "source": [
    "cw_trials = 0\n",
    "ccw_trials = 0"
   ]
  },
  {
   "cell_type": "code",
   "execution_count": null,
   "id": "corrected-cameroon",
   "metadata": {},
   "outputs": [],
   "source": [
    "# averaging imaging data according to the different trial types \n",
    " # (frozen + dot motion)\n",
    "\n",
    "cw_trials = np.zeros((len_segment, num_planes, x_pix, y_pix))\n",
    "ccw_trials = np.zeros((len_segment, num_planes, x_pix, y_pix))\n"
   ]
  },
  {
   "cell_type": "code",
   "execution_count": null,
   "id": "serious-breath",
   "metadata": {},
   "outputs": [],
   "source": [
    "for trial in range(n_sessions * 2):\n",
    "    #print(t1, t2)\n",
    "    t1 = (trial * len_segment)\n",
    "    t2 = t1 + len_segment\n",
    "    print(np.mod(trial, 2))\n",
    "    if (np.mod(trial, 2) == 0):\n",
    "        cw_trials += aligned_stack[t1:t2]\n",
    "    else:\n",
    "        ccw_trials += aligned_stack[t1:t2]\n"
   ]
  },
  {
   "cell_type": "code",
   "execution_count": null,
   "id": "isolated-spouse",
   "metadata": {},
   "outputs": [],
   "source": [
    "# Generating videos of trial triggered activity:\n",
    "viewer = napari.Viewer()\n",
    "viewer.add_image(cw_trials, colormap=\"gray_r\")\n",
    "viewer.add_image(ccw_trials, colormap=\"gray_r\")\n",
    "\n",
    "animation_widget = AnimationWidget(viewer)\n",
    "viewer.window.add_dock_widget(animation_widget, area='right')"
   ]
  },
  {
   "cell_type": "code",
   "execution_count": null,
   "id": "engaged-timothy",
   "metadata": {},
   "outputs": [],
   "source": []
  },
  {
   "cell_type": "code",
   "execution_count": null,
   "id": "rational-blake",
   "metadata": {},
   "outputs": [],
   "source": [
    "# Generating videos of trial triggered activity (planes):\n",
    "viewer = napari.Viewer()\n",
    "for i in range(8):\n",
    "    stack = forward_trials_red[i,:,:,:]\n",
    "    viewer.add_image(stack, colormap=\"gray_r\")\n",
    "animation_widget = AnimationWidget(viewer)\n",
    "viewer.window.add_dock_widget(animation_widget, area='right')"
   ]
  },
  {
   "cell_type": "code",
   "execution_count": null,
   "id": "suspended-simpson",
   "metadata": {},
   "outputs": [],
   "source": []
  }
 ],
 "metadata": {
  "kernelspec": {
   "display_name": "Python 3",
   "language": "python",
   "name": "python3"
  },
  "language_info": {
   "codemirror_mode": {
    "name": "ipython",
    "version": 3
   },
   "file_extension": ".py",
   "mimetype": "text/x-python",
   "name": "python",
   "nbconvert_exporter": "python",
   "pygments_lexer": "ipython3",
   "version": "3.7.10"
  }
 },
 "nbformat": 4,
 "nbformat_minor": 5
}
