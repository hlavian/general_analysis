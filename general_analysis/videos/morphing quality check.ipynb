{
 "cells": [
  {
   "cell_type": "code",
   "execution_count": null,
   "id": "9fb073ce-a25b-4b09-8032-0f9cde43a443",
   "metadata": {},
   "outputs": [],
   "source": [
    "import napari\n",
    "from pathlib import Path\n",
    "import flammkuchen as fl\n",
    "from napari_animation import AnimationWidget\n",
    "import numpy as np\n",
    "from naparimovie import Movie\n",
    "%gui qt5"
   ]
  },
  {
   "cell_type": "code",
   "execution_count": null,
   "id": "407a7189-86f5-4f81-8b07-8e2a2a3df77b",
   "metadata": {},
   "outputs": [],
   "source": [
    "master_path = Path(r\"Z:\\Hagar\\E0040\\v31\\pre ablation\")\n",
    "fish_list = list(master_path.glob(\"*_f*\"))\n",
    "path = fish_list[0]"
   ]
  },
  {
   "cell_type": "code",
   "execution_count": null,
   "id": "49e9e536-f091-4db6-a224-bf29db87f257",
   "metadata": {},
   "outputs": [],
   "source": [
    "stack = fl.load(path / 'registration' / '230424_f0_pre_warp.h5')[:,:,:]\n",
    "ref = fl.load(path / 'registration' / 'ref_mapped.h5')[:,:,:]"
   ]
  },
  {
   "cell_type": "code",
   "execution_count": null,
   "id": "b1357ae6-45fa-4171-b0e1-7643464f294e",
   "metadata": {},
   "outputs": [],
   "source": [
    "np.shape(stack)"
   ]
  },
  {
   "cell_type": "code",
   "execution_count": null,
   "id": "0d032833-f94c-430c-8a94-02e6eb977844",
   "metadata": {},
   "outputs": [],
   "source": [
    "viewer = napari.viewer(stack)\n",
    "viewer.add_image(stack, scale=(1,1,1))"
   ]
  },
  {
   "cell_type": "code",
   "execution_count": null,
   "id": "282b8095-6780-48ef-8dbb-fdf0d484a56b",
   "metadata": {},
   "outputs": [],
   "source": []
  },
  {
   "cell_type": "code",
   "execution_count": null,
   "id": "6dfd2293-8959-4e12-b67b-ebc3bbef8cf6",
   "metadata": {},
   "outputs": [],
   "source": []
  },
  {
   "cell_type": "code",
   "execution_count": null,
   "id": "39b67b10-293b-438c-9d7f-a17168104a81",
   "metadata": {},
   "outputs": [],
   "source": []
  },
  {
   "cell_type": "code",
   "execution_count": null,
   "id": "488353bb-8e01-4880-a8ef-dd0009aece37",
   "metadata": {},
   "outputs": [],
   "source": []
  },
  {
   "cell_type": "code",
   "execution_count": null,
   "id": "ef23aa7f-7f9e-4e1a-8700-40f34ebcfe98",
   "metadata": {},
   "outputs": [],
   "source": []
  },
  {
   "cell_type": "code",
   "execution_count": null,
   "id": "04c6b40f-b457-4b74-bfdb-1490cc258049",
   "metadata": {},
   "outputs": [],
   "source": []
  },
  {
   "cell_type": "code",
   "execution_count": null,
   "id": "2c8acacc-05e1-42f0-8611-8af7ca99c4cb",
   "metadata": {},
   "outputs": [],
   "source": []
  }
 ],
 "metadata": {
  "kernelspec": {
   "display_name": "Python 3",
   "language": "python",
   "name": "python3"
  },
  "language_info": {
   "codemirror_mode": {
    "name": "ipython",
    "version": 3
   },
   "file_extension": ".py",
   "mimetype": "text/x-python",
   "name": "python",
   "nbconvert_exporter": "python",
   "pygments_lexer": "ipython3",
   "version": "3.7.10"
  }
 },
 "nbformat": 4,
 "nbformat_minor": 5
}
