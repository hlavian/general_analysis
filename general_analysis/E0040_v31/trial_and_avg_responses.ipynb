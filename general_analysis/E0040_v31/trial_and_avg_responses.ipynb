{
 "cells": [
  {
   "cell_type": "code",
   "execution_count": null,
   "id": "e649c927-f03d-461f-b28a-86915cb6c277",
   "metadata": {},
   "outputs": [],
   "source": [
    "import matplotlib\n",
    "%matplotlib widget\n",
    "\n",
    "import numpy as np\n",
    "from split_dataset import SplitDataset\n",
    "from pathlib import Path\n",
    "import flammkuchen as fl\n",
    "from tifffile import imread\n",
    "import matplotlib.pyplot as plt \n",
    "from fimpylab.core.lightsheet_experiment import LightsheetExperiment\n",
    "from bouterin.plots.stimulus_log_plot import get_paint_function\n",
    "\n",
    "from bouter.utilities import reliability \n",
    "from skimage.filters import threshold_otsu\n",
    "import xarray as xr\n",
    "from scipy.signal import detrend \n",
    "\n",
    "from motions.utilities import stim_vel_dir_dataframe, quantize_directions\n",
    "import tifffile as tiff\n",
    "from scipy.signal import argrelextrema\n",
    "from scipy.signal import find_peaks"
   ]
  },
  {
   "cell_type": "code",
   "execution_count": null,
   "id": "abf896e8-4a73-4da6-a6a3-d8018c19ac18",
   "metadata": {},
   "outputs": [],
   "source": [
    "from scipy.cluster.hierarchy import dendrogram, cut_tree, set_link_color_palette\n",
    "from matplotlib.colors import LinearSegmentedColormap\n",
    "from matplotlib import cm"
   ]
  },
  {
   "cell_type": "code",
   "execution_count": null,
   "id": "92403c91-1c3b-406b-9776-2342019ab79a",
   "metadata": {},
   "outputs": [],
   "source": [
    "from bouterin.plots.stimulus_log_plot import get_paint_function\n",
    "from scipy.cluster.hierarchy import dendrogram, linkage, cut_tree, to_tree, set_link_color_palette\n",
    "from sklearn.cluster import AgglomerativeClustering"
   ]
  },
  {
   "cell_type": "code",
   "execution_count": null,
   "id": "a1ee6b02-9531-45a7-8cb5-b85e3995b6ca",
   "metadata": {},
   "outputs": [],
   "source": [
    "def cluster_id_search(tree):\n",
    "    nodes_list = []\n",
    "    if tree.is_leaf():\n",
    "        nodes_list.append(tree.get_id())\n",
    "    else:\n",
    "        nodes_list += cluster_id_search(tree.get_left())\n",
    "        nodes_list += cluster_id_search(tree.get_right())\n",
    "        \n",
    "    return nodes_list\n",
    "\n",
    "def find_trunc_dendro_clusters(linkage_mat, dendro):\n",
    "    tree, branches = to_tree(linkage_mat, rd =True)\n",
    "    ids = np.empty(linkage_mat.shape[0]+1, dtype=int)\n",
    "    \n",
    "    for i, clust in enumerate(dendro[\"leaves\"]):\n",
    "        ids[cluster_id_search(branches[clust])] = i\n",
    "        \n",
    "    return ids"
   ]
  },
  {
   "cell_type": "code",
   "execution_count": null,
   "id": "fb889c14-6097-4e49-9a30-6aab2c4de367",
   "metadata": {},
   "outputs": [],
   "source": [
    "def shade_plot(stim, ax=None, gamma=1/6, shade_range=(0.6, 0.9)):\n",
    "    if type(stim) == list:  # these would be transitions\n",
    "        _shade_plot(stim, ax=ax, gamma=gamma, shade_range=shade_range)\n",
    "\n",
    "    elif type(stim) == Data:  # fish data\n",
    "        transitions = find_transitions(Data.resampled_stim, Data.time_im_rep)\n",
    "        _shade_plot(transitions, ax=ax, gamma=gamma, shade_range=shade_range)\n",
    "\n",
    "    elif type(stim) == np.ndarray:  # stimulus array\n",
    "        transitions = find_transitions(stim[:,1], stim[:,0])\n",
    "        _shade_plot(transitions, ax=ax, gamma=gamma, shade_range=shade_range)\n",
    "\n",
    "    elif type(stim) == tuple:  # time, lum tuple\n",
    "        transitions = find_transitions(stim[1], stim[0])\n",
    "        _shade_plot(transitions, ax=ax, gamma=gamma, shade_range=shade_range)\n",
    "\n",
    "\n",
    "def _shade_plot(lum_transitions, ax=None, gamma=1/6, shade_range=(0.6, 0.9)):\n",
    "\n",
    "    if ax is None:\n",
    "        ax = plt.gca()\n",
    "    shade = lum_transitions[0][1]\n",
    "    for i in range(len(lum_transitions)-1):\n",
    "        shade = shade + lum_transitions[i][1]\n",
    "        new_shade = shade_range[0] + np.power(np.abs(shade), gamma) * (shade_range[1] - shade_range[0])\n",
    "        ax.axvspan(lum_transitions[i][0], lum_transitions[i+1][0], color=(new_shade, )*3)\n",
    "        \n",
    "\n",
    "def _find_thr(linked, n_clust):\n",
    "    interval = [0, 2000]\n",
    "    new_height = np.mean(interval)\n",
    "    clust = 0\n",
    "    n_clust = n_clust\n",
    "    while clust != n_clust:\n",
    "        new_height = np.mean(interval)\n",
    "        clust = cut_tree(linked, height=new_height).max()\n",
    "        if clust > n_clust:\n",
    "            interval[0] = new_height\n",
    "        elif clust < n_clust:\n",
    "            interval[1] = new_height\n",
    "\n",
    "\n",
    "    return new_height\n",
    "\n",
    "\n",
    "def find_plot_thr(linked, n_clust):\n",
    "    min_thr = _find_thr(linked, n_clust - 1)\n",
    "    return min_thr  \n"
   ]
  },
  {
   "cell_type": "code",
   "execution_count": null,
   "id": "6ffc5e00-d325-432f-bc10-8874dfc429f3",
   "metadata": {},
   "outputs": [],
   "source": [
    "def plot_clusters_dendro(traces, stim, linkage_mat, labels, dendrolims=(900, 30),\n",
    "                         thr=None, f_lim=2, gamma=1):\n",
    "    fig_clust, ax = plt.subplots(3, 1, figsize=(10, 10))\n",
    "    hexac = cluster_cols()\n",
    "\n",
    "    n_clust = labels.max() + 1\n",
    "\n",
    "    ##################\n",
    "    ### Dendrogram ###\n",
    "    # Compute and plot first dendrogram.\n",
    "    if thr is None:\n",
    "        thr = find_plot_thr(linkage_mat, n_clust)\n",
    "\n",
    "    set_link_color_palette(hexac)\n",
    "    \n",
    "    ax_dendro = ax[2]\n",
    "    ax_traces = ax[1]\n",
    "    ax_clusters = ax[0]\n",
    "    \n",
    "    panel_dendro = dendrogram(linkage_mat,\n",
    "                              color_threshold=thr,\n",
    "                              #orientation='left',\n",
    "                              distance_sort='descending',\n",
    "                              show_leaf_counts=False,\n",
    "                              no_labels=True,\n",
    "                              above_threshold_color='#%02x%02x%02x' % (\n",
    "                              120, 120, 120))\n",
    "    \n",
    "    ax_dendro.axhline(thr, linewidth=0.7, color=\"k\")\n",
    "    ax_dendro.axis(\"off\")\n",
    "\n",
    "    # Plot traces matrix.\n",
    "    im = ax_traces.imshow(traces[panel_dendro[\"leaves\"], :],\n",
    "                         aspect='auto', origin='lower', cmap=cm.RdBu_r,\n",
    "                         vmin=-f_lim, vmax=f_lim)\n",
    "    ax_traces.axes.spines['left'].set_visible(False)\n",
    "    ax_traces.set_yticks([])\n",
    "\n",
    "    # Time bar:\n",
    "    dt = stim[1, 0]\n",
    "    barlength = 10\n",
    "    bounds = np.array([traces.shape[1] - barlength / dt,\n",
    "                       traces.shape[1]])\n",
    "\n",
    "    ##################\n",
    "    # Cluster sizes ##\n",
    "    # Calculate size of each defined cluster to put colored labels on the side.\n",
    "    # Find indervals spanned by each cluster in the sorted traces matrix.\n",
    "    # Add percentages spanned by each cluster.\n",
    "    sizes = np.cumsum(np.array([np.sum(labels == i) for i in range(np.max(labels) + 1)]))\n",
    "    intervals = np.insert(sizes, 0, 0)\n",
    "\n",
    "    ##################\n",
    "    # Cluster means ##\n",
    "\n",
    "    for i in range(n_clust):\n",
    "        ax_clusters.plot(np.nanmean(traces[labels == i, :], 0) +\n",
    "                      i * 5, label=i, color=hexac[i])\n",
    "    ax_clusters.axes.spines['left'].set_visible(False)\n",
    "    ax_clusters.set_yticks([])\n",
    "\n",
    "    barlength = 10\n",
    "    ax_traces.axis(\"off\")\n",
    "    ax_clusters.axis(\"off\")\n",
    "\n",
    "    return fig_clust\n",
    "\n",
    "def cluster_cols():\n",
    "    color_list = [\"lightblue\", \"lightcoral\", \"orange\", \"springgreen\", \"deepskyblue\", \"mediumpurple\",\"gold\", \"cyan\", \"crimson\",\n",
    "              \"deeppink\", \"lawngreen\", \"darkviolet\", \"Darkgreen\", \"blue\", \"brown\", \"dodgerblue\", \"hotpink\", \"OliveDrab\", \"gray\", \"seagreen\"][0:k]\n",
    "    #color_list = [\"lightblue\", \"lightcoral\", \"orange\", \"springgreen\", \"deepskyblue\", \"mediumpurple\",\"gold\", \"cyan\", \"crimson\", \"deeppink\", \"lawngreen\", \"darkviolet\"]\n",
    "    return color_list"
   ]
  },
  {
   "cell_type": "code",
   "execution_count": null,
   "id": "06033893-e2e2-438a-bf1f-8428c8d619b7",
   "metadata": {},
   "outputs": [],
   "source": [
    "master_path =  Path(r\"Z:\\Hagar\\E0040\\v31\\pre ablation\")\n",
    "fish_list = list(master_path.glob(\"*f*\"))\n",
    "path = fish_list[3]\n",
    "print(path)"
   ]
  },
  {
   "cell_type": "code",
   "execution_count": null,
   "id": "99149a88-5eac-4a47-9b0d-beda0ccf94fc",
   "metadata": {},
   "outputs": [],
   "source": [
    "suite2p_brain = fl.load(path / \"data_from_suite2p_cells_brain.h5\")\n",
    "in_brain_idx = suite2p_brain['coords_idx']"
   ]
  },
  {
   "cell_type": "code",
   "execution_count": null,
   "id": "d606bd70-cd66-46ed-8284-18ac6eabde35",
   "metadata": {},
   "outputs": [],
   "source": [
    "traces = fl.load(path / \"filtered_traces.h5\", \"/detr\")[:, in_brain_idx]\n",
    "suite2p_data = fl.load(path / \"data_from_suite2p_cells.h5\")\n",
    "coords = suite2p_data['coords'][in_brain_idx]\n",
    "anatomy = suite2p_data['anatomy_stack']\n",
    "\n",
    "#df = fl.load(path / \"bouts_df.h5\")\n",
    "exp = LightsheetExperiment(path)\n",
    "fs = int(exp.fn)\n",
    "beh_df = exp.behavior_log"
   ]
  },
  {
   "cell_type": "code",
   "execution_count": null,
   "id": "dff5b397-2ad6-4191-b46c-7f96f4d9acbe",
   "metadata": {},
   "outputs": [],
   "source": [
    "t = np.arange(np.shape(traces)[1]) / fs\n",
    "len_rec, num_traces = np.shape(traces)\n",
    "print(\"num_traces: \", num_traces)\n",
    "print(\"len_rec: \", len_rec)\n",
    "print(\"sampling rate: \", fs)"
   ]
  },
  {
   "cell_type": "code",
   "execution_count": null,
   "id": "7d43ce9c-b1b3-4761-a9b1-fffe3777568f",
   "metadata": {},
   "outputs": [],
   "source": [
    "regs = fl.load(path / \"sensory_regressors.h5\", \"/regressors\")#[0]\n",
    "right = np.asarray(regs.iloc[:, 0])\n",
    "left = np.asarray(regs.iloc[:, 4])\n",
    "\n",
    "num_traces = np.shape(traces)[1]\n",
    "\n",
    "right_corr = np.zeros((num_traces))\n",
    "left_corr = np.zeros((num_traces))\n",
    "for i in range(num_traces):\n",
    "    right_corr[i] = np.corrcoef(right, traces[:, i])[0,1]\n",
    "    left_corr[i] = np.corrcoef(left, traces[:, i])[0,1]"
   ]
  },
  {
   "cell_type": "code",
   "execution_count": null,
   "id": "5ee5d5d6-a1c0-4536-b0bd-6463f8e1534d",
   "metadata": {},
   "outputs": [],
   "source": [
    "thresh = 0.5\n",
    "right_tuned = np.where(np.abs(right_corr) > thresh)[0]\n",
    "print(np.shape(right_tuned))\n",
    "n_right_tuned = np.shape(right_tuned)[0]\n",
    "\n",
    "left_tuned = np.where(np.abs(left_corr) > thresh)[0]\n",
    "print(np.shape(left_tuned))\n",
    "n_left_tuned = np.shape(left_tuned)[0]"
   ]
  },
  {
   "cell_type": "code",
   "execution_count": null,
   "id": "11907a07-50c6-4d14-8687-3f943be5caeb",
   "metadata": {},
   "outputs": [],
   "source": [
    "left_traces = traces[:, left_tuned].T\n",
    "right_traces = traces[:, right_tuned].T\n",
    "print(np.shape(left_traces))"
   ]
  },
  {
   "cell_type": "code",
   "execution_count": null,
   "id": "1525cee2-82bf-4753-9a65-33f11926d3cf",
   "metadata": {},
   "outputs": [],
   "source": []
  },
  {
   "cell_type": "code",
   "execution_count": null,
   "id": "b7dc4ab2-5202-4a63-84b7-6599b5ab44e6",
   "metadata": {},
   "outputs": [],
   "source": [
    "#### Getting a list of stimuli order: 0=right, 7=right-up\n",
    "#theta = fl.load(path / \"sensory_regressors.h5\", \"/theta\")\n",
    "#np.unique(theta)\n",
    "pause_duration = int(exp['stimulus']['protocol']['E0040_motions_cardinal']['v31_8dir_plus_hd']['pause_duration']) * fs\n",
    "stim_duration = int(exp['stimulus']['protocol']['E0040_motions_cardinal']['v31_8dir_plus_hd']['moving_duration']) * fs\n",
    "\n",
    "left_diff = np.diff(left)\n",
    "right_diff = np.diff(right)\n",
    "#left_start = argrelextrema(left_diff, np.greater)[0] - stim_duration - pause_duration\n",
    "#left_end = argrelextrema(left_diff, np.greater)[0] + stim_duration + pause_duration\n",
    "\n",
    "left_start = find_peaks(left_diff, height=0.1)[0] - stim_duration - pause_duration\n",
    "left_end = find_peaks(left_diff, height=0.1)[0] + stim_duration + pause_duration\n",
    "right_start = find_peaks(right_diff, height=0.1)[0] - stim_duration - pause_duration\n",
    "right_end = find_peaks(right_diff, height=0.1)[0] + stim_duration + pause_duration\n",
    "\n",
    "\n",
    "#left_start = left_start[left_start >  (20 * fs)]\n",
    "#left_end = left_end[left_end >  (40 * fs)]\n",
    "\n",
    "fig, ax = plt.subplots(1,1)\n",
    "#ax.plot(left)\n",
    "ax.plot(np.diff(left))\n",
    "ax.scatter(left_start, np.ones(np.shape(left_start))*0.15)\n",
    "ax.scatter(left_end, np.ones(np.shape(left_end))*0.17)\n",
    "\n",
    "ax.plot(np.diff(right))\n",
    "ax.scatter(right_start, np.ones(np.shape(right_start))*0.15)\n",
    "ax.scatter(right_end, np.ones(np.shape(right_start))*0.17)"
   ]
  },
  {
   "cell_type": "code",
   "execution_count": null,
   "id": "ae23072b-284a-4aff-89c8-17648ed9edca",
   "metadata": {},
   "outputs": [],
   "source": [
    "n_dir=8\n",
    "n_sessions = 4\n",
    "num_left_trials = np.shape(left_start)[0]\n",
    "num_right_trials = np.shape(right_start)[0]\n",
    "len_segment = (pause_duration + stim_duration) * 2\n",
    "print(len_segment)\n",
    "\n",
    "left_trials = np.zeros((n_dir, n_left_tuned, n_sessions, len_segment))\n",
    "right_trials = np.zeros((n_dir, n_right_tuned, n_sessions, len_segment))"
   ]
  },
  {
   "cell_type": "code",
   "execution_count": null,
   "id": "c0a7550b-88bd-4708-ac2f-7c18e945bcfc",
   "metadata": {},
   "outputs": [],
   "source": [
    "regs_array = np.asarray(regs)\n",
    "curr_session = np.zeros((n_dir), dtype=int)\n",
    "for i in range(num_left_trials):\n",
    "    t1 = left_start[i]\n",
    "    t2 = t1 + stim_duration\n",
    "    \n",
    "    curr_seg = np.nanmean(regs_array[t1:t2], axis=0)\n",
    "    \n",
    "    try:\n",
    "        curr_dir = np.where(curr_seg > 0.1)[0][0]\n",
    "    \n",
    "        t1 = left_start[i]\n",
    "        t2 = t1 + len_segment\n",
    "    \n",
    "        if curr_session[curr_dir] < n_sessions:\n",
    "            left_trials[curr_dir, :, curr_session[curr_dir], :] = left_traces[:, t1:t2]\n",
    "            curr_session[curr_dir] += 1\n",
    "    except:\n",
    "        print(\"Stupid trial\")\n",
    "        \n",
    "left_trials[left_trials == 0] = 'nan'"
   ]
  },
  {
   "cell_type": "code",
   "execution_count": null,
   "id": "12a5c283-82bb-4bd2-abb0-6e213aff2aa8",
   "metadata": {},
   "outputs": [],
   "source": [
    "n_col=4\n",
    "titles = ['right', 'backward right', 'backward', 'backward left', 'left', 'forward left', 'forward', 'forward right']\n",
    "fig1, ax1 = plt.subplots(2,n_col, figsize=(10,4))\n",
    "for i in range(8):\n",
    "    r = i // n_col\n",
    "    c = np.mod(i, n_col)\n",
    "    ax1[r,c].imshow(np.nanmean(left_trials[i], axis=1), cmap='coolwarm', vmin=-1, vmax=2, extent=[0,50,0,50])\n",
    "    ax1[r,c].set_title(titles[i])\n",
    "    ax1[r,c].axis('off')\n",
    "\n",
    "fig1.suptitle('Leftward tuned (n=' + str(n_left_tuned) + ')')"
   ]
  },
  {
   "cell_type": "code",
   "execution_count": null,
   "id": "cc2773d2-d054-46d0-806c-3fd2426efd16",
   "metadata": {},
   "outputs": [],
   "source": [
    "file_name = \"leftward tuned history dependence v31\" + str(thresh) + \".jpg\"\n",
    "fig1.savefig(path / file_name, dpi=300)"
   ]
  },
  {
   "cell_type": "code",
   "execution_count": null,
   "id": "af7c68a9-30bd-48e3-ba19-628ff7200052",
   "metadata": {},
   "outputs": [],
   "source": [
    "curr_session = np.zeros((n_dir), dtype=int)\n",
    "for i in range(num_right_trials):\n",
    "    t1 = right_start[i]\n",
    "    t2 = t1 + stim_duration\n",
    "    try:\n",
    "        curr_seg = np.nanmean(regs_array[t1:t2], axis=0)\n",
    "        curr_dir = np.where(curr_seg > 0.1)[0][0]\n",
    "\n",
    "        t1 = right_start[i]\n",
    "        t2 = t1 + len_segment\n",
    "    \n",
    "    \n",
    "        if curr_session[curr_dir] < n_sessions:\n",
    "            right_trials[curr_dir, :, curr_session[curr_dir], :] = right_traces[:, t1:t2]\n",
    "            curr_session[curr_dir] += 1\n",
    "    except:\n",
    "        print(\"Stupid trial\")\n",
    "        \n",
    "right_trials[right_trials == 0] = 'nan'"
   ]
  },
  {
   "cell_type": "code",
   "execution_count": null,
   "id": "6ad9fa79-00a7-429d-93d2-93643bce3e85",
   "metadata": {},
   "outputs": [],
   "source": [
    "fig2, ax2 = plt.subplots(2,n_col, figsize=(10,4))\n",
    "for i in range(n_dir):\n",
    "    r = i // n_col\n",
    "    c = np.mod(i, n_col)\n",
    "    ax2[r,c].imshow(np.nanmean(right_trials[i], axis=1), cmap='coolwarm', vmin=-1, vmax=2, extent=[0,50,0,50])\n",
    "    ax2[r,c].set_title(titles[i])\n",
    "    ax2[r,c].axis('off')\n",
    "\n",
    "fig2.suptitle('Rightward tuned (n=' + str(n_right_tuned) + ')')"
   ]
  },
  {
   "cell_type": "code",
   "execution_count": null,
   "id": "dae9a56a-028d-4f11-ad12-6b5499d16626",
   "metadata": {},
   "outputs": [],
   "source": [
    "file_name = \"rightward tuned history dependence v31\" + str(thresh) + \".jpg\"\n",
    "fig2.savefig(path / file_name, dpi=300)"
   ]
  },
  {
   "cell_type": "code",
   "execution_count": null,
   "id": "fdf1f9d1-324d-4743-a6b5-dd51a15034cf",
   "metadata": {},
   "outputs": [],
   "source": [
    "####### Concatenate average responses and cluster\n",
    "left_trials_concat = np.zeros((n_left_tuned, len_segment * n_dir))\n",
    "\n",
    "for i in range(n_dir):\n",
    "    lef_trials_avg = np.nanmean(left_trials[i], axis=1)\n",
    "    t1 = i * len_segment\n",
    "    t2 = t1 + len_segment\n",
    "    left_trials_concat[:, t1:t2] = lef_trials_avg\n",
    "\n",
    "    \n",
    "    \n",
    "    \n",
    "right_trials_concat = np.zeros((n_right_tuned, len_segment * n_dir))\n",
    "\n",
    "for i in range(n_dir):\n",
    "    right_trials_avg = np.nanmean(right_trials[i], axis=1)\n",
    "    t1 = i * len_segment\n",
    "    t2 = t1 + len_segment\n",
    "    right_trials_concat[:, t1:t2] = right_trials_avg\n"
   ]
  },
  {
   "cell_type": "code",
   "execution_count": null,
   "id": "cb03ba38-1047-4340-9ff0-4b3f4199d8d9",
   "metadata": {},
   "outputs": [],
   "source": [
    "fig3, ax3 = plt.subplots(2,1, figsize=(10,4))\n",
    "ax3[0].imshow(left_trials_concat, cmap='coolwarm', vmin=-1, vmax=2,extent=[0,50,0,10])\n",
    "ax3[1].imshow(right_trials_concat, cmap='coolwarm', vmin=-1, vmax=2,extent=[0,50,0,10])"
   ]
  },
  {
   "cell_type": "code",
   "execution_count": null,
   "id": "cd981638-91f4-46f3-a9cf-25b31aaca4b1",
   "metadata": {},
   "outputs": [],
   "source": [
    "file_name = \"right anf lest history dependence v31\" + str(thresh) + \".jpg\"\n",
    "fig3.savefig(path / file_name, dpi=300)"
   ]
  },
  {
   "cell_type": "code",
   "execution_count": null,
   "id": "82b3a416-e12c-47ca-a6c1-c0e3e1b279a6",
   "metadata": {},
   "outputs": [],
   "source": [
    "d = {\n",
    "    'concat_reordered_left_tuned_avg': left_trials_concat,\n",
    "     'concat_reordered_right_tuned_avg': right_trials_concat,\n",
    "    'reordered_trials_left_tuned': left_trials,\n",
    "    'reordered_trials_right_tuned': right_trials,\n",
    "}\n",
    "fl.save(path / 'reordered_traces.h5', d)"
   ]
  },
  {
   "cell_type": "code",
   "execution_count": null,
   "id": "fa866248-baa5-4c1e-a8dd-1997b09059fd",
   "metadata": {},
   "outputs": [],
   "source": []
  },
  {
   "cell_type": "code",
   "execution_count": null,
   "id": "86f4c40f-cc43-4264-8a50-e5721cc311c9",
   "metadata": {},
   "outputs": [],
   "source": []
  },
  {
   "cell_type": "code",
   "execution_count": null,
   "id": "39093919-12f0-4676-9c67-83b4b15e8ee5",
   "metadata": {},
   "outputs": [],
   "source": []
  },
  {
   "cell_type": "code",
   "execution_count": null,
   "id": "5c20df1a-df8c-463d-bacc-d525873c41ab",
   "metadata": {},
   "outputs": [],
   "source": []
  },
  {
   "cell_type": "code",
   "execution_count": null,
   "id": "3b0bfc23-8af6-4fd5-a8f3-3b048a5b8c1c",
   "metadata": {},
   "outputs": [],
   "source": []
  },
  {
   "cell_type": "code",
   "execution_count": null,
   "id": "08f0f29d-b69b-4544-b919-1e51659b9152",
   "metadata": {},
   "outputs": [],
   "source": []
  },
  {
   "cell_type": "code",
   "execution_count": null,
   "id": "ab58a911-b2d4-473f-9ada-5df14038819f",
   "metadata": {},
   "outputs": [],
   "source": [
    "norm_traces = right_trials_concat"
   ]
  },
  {
   "cell_type": "code",
   "execution_count": null,
   "id": "0edfb02d-726b-424a-ab41-8e4ac005435a",
   "metadata": {},
   "outputs": [],
   "source": [
    "# clustering \n",
    "linked = linkage(norm_traces, method='ward')\n",
    "dend = dendrogram(linked)"
   ]
  },
  {
   "cell_type": "code",
   "execution_count": null,
   "id": "04fee39e-24b7-46dd-94b4-f4fa98628e44",
   "metadata": {},
   "outputs": [],
   "source": [
    "k = 8\n",
    "cluster = AgglomerativeClustering(n_clusters=k, affinity='euclidean', linkage='ward')\n",
    "her_clustering = cluster.fit_predict(norm_traces)"
   ]
  },
  {
   "cell_type": "code",
   "execution_count": null,
   "id": "a87aa984-826f-4cbe-8993-0adcee3cea25",
   "metadata": {},
   "outputs": [],
   "source": [
    "plt.figure(figsize=(0.1, 0.1))  \n",
    "n_clust = k\n",
    "dendro = dendrogram(linked, n_clust, truncate_mode =\"lastp\")\n",
    "plt.close()\n",
    "cluster_ids = dendro[\"leaves\"]\n",
    "labels = find_trunc_dendro_clusters(linked, dendro)"
   ]
  },
  {
   "cell_type": "code",
   "execution_count": null,
   "id": "b4488b84-cb83-4ba0-8e2f-975e78d0722b",
   "metadata": {},
   "outputs": [],
   "source": [
    "meanresps = norm_traces\n",
    "base_sub_mean = (meanresps.T - np.nanmean(meanresps[:,:8], 1)).T\n",
    "X = base_sub_mean"
   ]
  },
  {
   "cell_type": "code",
   "execution_count": null,
   "id": "9651473b-8872-49b0-9944-f8a898c33c2f",
   "metadata": {},
   "outputs": [],
   "source": [
    "stim = np.asarray([[1, 2, 3, 4, 5, 6, 7], [1, 2, 3, 4, 5, 6, 7]])\n",
    "fig_clust = plot_clusters_dendro(meanresps, stim, linked, labels)#, dendrolims=(940, 0))"
   ]
  },
  {
   "cell_type": "code",
   "execution_count": null,
   "id": "25887a6d-f611-4f0e-b864-9e1145378e0e",
   "metadata": {},
   "outputs": [],
   "source": [
    "file_name = 'hierarchical clustering right tuned neurons concat k' + str(k) + 'thresh ' + str(thresh) +  '.jpg'\n",
    "fig_clust.savefig(str(path / file_name), dpi=300)"
   ]
  },
  {
   "cell_type": "code",
   "execution_count": null,
   "id": "6127f340-fb3b-4d9c-9ae2-ceab28612603",
   "metadata": {},
   "outputs": [],
   "source": [
    "coords_tuned = coords[right_tuned]"
   ]
  },
  {
   "cell_type": "code",
   "execution_count": null,
   "id": "1bbe6f09-e133-44cd-9d90-7098f51446c1",
   "metadata": {},
   "outputs": [],
   "source": [
    "z_res = 10\n",
    "fig2, ax2 = fig, axs = plt.subplots(2, 2, figsize=(8, 5), gridspec_kw={'width_ratios': [3, 1], 'height_ratios': [1, 3]})\n",
    "color_list = [\"lightblue\", \"lightcoral\", \"orange\", \"springgreen\", \"deepskyblue\", \"mediumpurple\",\"gold\", \"cyan\", \"crimson\",\n",
    "              \"deeppink\", \"lawngreen\", \"darkviolet\", \"Darkgreen\", \"blue\", \"brown\", \"dodgerblue\", \"hotpink\", \"OliveDrab\", \"gray\", \"seagreen\"][0:k]\n",
    "\n",
    "\n",
    "ax2[1,0].scatter(coords[:,2]*0.6, coords[:,1]*.6, c='lightgray', s=2)\n",
    "ax2[1,1].scatter(coords[:,0]*z_res, coords[:,1]*0.6, c='lightgray')\n",
    "ax2[0,0].scatter(coords[:,2]*0.6, coords[:,0]*z_res, c='lightgray')\n",
    "    \n",
    "for i in range(k): \n",
    "    tmp_coords = np.where(labels == i)[0]\n",
    "    ax2[1,0].scatter(coords_tuned[tmp_coords, 2]*0.6, coords_tuned[tmp_coords, 1]*.6, c=color_list[i], s=4)\n",
    "    ax2[1,1].scatter(coords_tuned[tmp_coords, 0]*z_res, coords_tuned[tmp_coords, 1]*0.6, c=color_list[i])\n",
    "    ax2[0,0].scatter(coords_tuned[tmp_coords, 2]*0.6, coords_tuned[tmp_coords, 0]*z_res, c=color_list[i])\n",
    "\n",
    "    \n",
    "for i in range(2):\n",
    "    ax2[i,0].spines['right'].set_visible(False)\n",
    "    ax2[i,0].spines['top'].set_visible(False)\n",
    "    ax2[0,i].spines['right'].set_visible(False)\n",
    "    ax2[0,i].spines['top'].set_visible(False)\n",
    "    \n",
    "ax2[0,1].axis('off')"
   ]
  },
  {
   "cell_type": "code",
   "execution_count": null,
   "id": "7a4d8725-7908-4a40-a2e6-f79a91e2cda9",
   "metadata": {},
   "outputs": [],
   "source": [
    "file_name = 'hrc right tuned k' + str(k) + 'thresh ' + str(thresh) + '.jpg'\n",
    "fig2.savefig(str(path / file_name), dpi=300)"
   ]
  },
  {
   "cell_type": "code",
   "execution_count": null,
   "id": "2298f750-8762-4bad-bd45-7c6a504b7b60",
   "metadata": {},
   "outputs": [],
   "source": []
  },
  {
   "cell_type": "code",
   "execution_count": null,
   "id": "274c167a-b99c-4314-ac7e-740ea8d403bd",
   "metadata": {},
   "outputs": [],
   "source": []
  },
  {
   "cell_type": "code",
   "execution_count": null,
   "id": "c6ba137d-8f7c-4d0a-9021-d3a91145eaa9",
   "metadata": {},
   "outputs": [],
   "source": []
  },
  {
   "cell_type": "code",
   "execution_count": null,
   "id": "30eb487e-44b3-4d6d-ac6c-55b19292c796",
   "metadata": {},
   "outputs": [],
   "source": []
  },
  {
   "cell_type": "code",
   "execution_count": null,
   "id": "13d31bd2-15ff-4d10-b5b6-524b6eb64cb2",
   "metadata": {},
   "outputs": [],
   "source": []
  },
  {
   "cell_type": "code",
   "execution_count": null,
   "id": "32bf4129-563b-45a1-b2ce-89b00680ad3a",
   "metadata": {},
   "outputs": [],
   "source": []
  },
  {
   "cell_type": "code",
   "execution_count": null,
   "id": "3b4d94cf-4eef-4d3d-abd2-e1ba013db70a",
   "metadata": {},
   "outputs": [],
   "source": []
  },
  {
   "cell_type": "code",
   "execution_count": null,
   "id": "0abbb883-08ab-43d2-a350-bc3c0b79a93f",
   "metadata": {},
   "outputs": [],
   "source": [
    "# getting stimulus information\n",
    "interp_theta = fl.load(path / \"sensory_regressors.h5\", \"/individual_theta_interp\")\n",
    "trial_duration = 10 # sec \n",
    "pause_duration = 10 # sec"
   ]
  },
  {
   "cell_type": "code",
   "execution_count": null,
   "id": "ced52488-cb5c-4748-9952-e82c1a24beef",
   "metadata": {},
   "outputs": [],
   "source": [
    "# start by choosing only left/ right tuned neurons \n",
    "\n",
    "left reg = \n",
    "left_right = "
   ]
  },
  {
   "cell_type": "code",
   "execution_count": null,
   "id": "e915230d-74a6-4122-a380-8cd772b7e326",
   "metadata": {},
   "outputs": [],
   "source": [
    "# getting the timing of trial start for each of the 8 direction\n",
    "# getting the number of trials "
   ]
  },
  {
   "cell_type": "code",
   "execution_count": null,
   "id": "2b0498f8-7eed-43d5-89be-0512cefb6a00",
   "metadata": {},
   "outputs": [],
   "source": [
    "######################### Part 2 - looking for neurons that reliably respond to the visual stimulus\n",
    "# selectnig reliable neruons \n",
    "\n",
    "stim_traces = np.copy(traces)\n",
    "new_len_rec = len_rec // (2 * n_blocks)\n",
    "print(np.shape(stim_traces))\n",
    "\n",
    "trial_traces = np.zeros((n_blocks, num_traces, new_len_rec))\n",
    "trial_traces = np.zeros((num_traces, n_blocks, new_len_rec))\n",
    "\n",
    "for i in range(n_blocks):\n",
    "    t1 = i * new_len_rec\n",
    "    t2 = t1 + new_len_rec\n",
    "    trial_traces[:, i] = stim_traces[:, t1:t2]"
   ]
  },
  {
   "cell_type": "code",
   "execution_count": null,
   "id": "b7f99429-4bcb-4e1d-bb38-1550ee74d163",
   "metadata": {},
   "outputs": [],
   "source": []
  },
  {
   "cell_type": "code",
   "execution_count": null,
   "id": "ca947f77-7480-471d-bf8d-51d2c69c43a5",
   "metadata": {},
   "outputs": [],
   "source": []
  },
  {
   "cell_type": "code",
   "execution_count": null,
   "id": "05b87938-ffac-40ce-b92e-42f54ed664e4",
   "metadata": {},
   "outputs": [],
   "source": []
  }
 ],
 "metadata": {
  "kernelspec": {
   "display_name": "Python 3",
   "language": "python",
   "name": "python3"
  },
  "language_info": {
   "codemirror_mode": {
    "name": "ipython",
    "version": 3
   },
   "file_extension": ".py",
   "mimetype": "text/x-python",
   "name": "python",
   "nbconvert_exporter": "python",
   "pygments_lexer": "ipython3",
   "version": "3.7.10"
  }
 },
 "nbformat": 4,
 "nbformat_minor": 5
}
