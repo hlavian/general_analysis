{
 "cells": [
  {
   "cell_type": "code",
   "execution_count": null,
   "id": "e649c927-f03d-461f-b28a-86915cb6c277",
   "metadata": {},
   "outputs": [],
   "source": [
    "import matplotlib\n",
    "%matplotlib widget\n",
    "\n",
    "import numpy as np\n",
    "from split_dataset import SplitDataset\n",
    "from pathlib import Path\n",
    "import flammkuchen as fl\n",
    "from tifffile import imread\n",
    "import matplotlib.pyplot as plt \n",
    "from fimpylab.core.lightsheet_experiment import LightsheetExperiment\n",
    "from bouterin.plots.stimulus_log_plot import get_paint_function\n",
    "\n",
    "from bouter.utilities import reliability \n",
    "from skimage.filters import threshold_otsu\n",
    "import xarray as xr\n",
    "from scipy.signal import detrend \n",
    "\n",
    "from motions.utilities import stim_vel_dir_dataframe, quantize_directions\n",
    "\n",
    "from scipy.signal import find_peaks"
   ]
  },
  {
   "cell_type": "code",
   "execution_count": null,
   "id": "abf896e8-4a73-4da6-a6a3-d8018c19ac18",
   "metadata": {},
   "outputs": [],
   "source": [
    "from scipy.cluster.hierarchy import dendrogram, cut_tree, set_link_color_palette\n",
    "from matplotlib import cm\n",
    "from bouterin.plots.stimulus_log_plot import get_paint_function"
   ]
  },
  {
   "cell_type": "code",
   "execution_count": null,
   "id": "06033893-e2e2-438a-bf1f-8428c8d619b7",
   "metadata": {},
   "outputs": [],
   "source": [
    "master_path =  Path(r\"Z:\\Hagar\\E0040\\ablations\\post\\v31\")\n",
    "fish_list = list(master_path.glob(\"*f*\"))\n",
    "path = fish_list[0]\n",
    "print(path)"
   ]
  },
  {
   "cell_type": "code",
   "execution_count": null,
   "id": "d606bd70-cd66-46ed-8284-18ac6eabde35",
   "metadata": {},
   "outputs": [],
   "source": [
    "traces = fl.load(path / \"filtered_traces.h5\", \"/detr\")\n",
    "coords = fl.load(path / \"data_from_suite2p_cells.h5\", \"/coords\")\n",
    "#coords = suite2p_data['coords']\n",
    "\n",
    "exp = LightsheetExperiment(path)\n",
    "fs = int(exp.fn)"
   ]
  },
  {
   "cell_type": "code",
   "execution_count": null,
   "id": "99149a88-5eac-4a47-9b0d-beda0ccf94fc",
   "metadata": {},
   "outputs": [],
   "source": [
    "suite2p_brain = fl.load(path / \"data_from_suite2p_cells_brain.h5\")\n",
    "in_brain_idx = suite2p_brain['coords_idx']\n",
    "\n",
    "traces = traces[:, in_brain_idx]\n",
    "coords = coords[in_brain_idx]"
   ]
  },
  {
   "cell_type": "code",
   "execution_count": null,
   "id": "dff5b397-2ad6-4191-b46c-7f96f4d9acbe",
   "metadata": {},
   "outputs": [],
   "source": [
    "t = np.arange(np.shape(traces)[1]) / fs\n",
    "len_rec, num_traces = np.shape(traces)\n",
    "print(\"num_traces: \", num_traces)\n",
    "print(\"len_rec: \", len_rec)\n",
    "print(\"sampling rate: \", fs)"
   ]
  },
  {
   "cell_type": "code",
   "execution_count": null,
   "id": "7d43ce9c-b1b3-4761-a9b1-fffe3777568f",
   "metadata": {},
   "outputs": [],
   "source": [
    "regs = fl.load(path / \"sensory_regressors.h5\", \"/regressors\")#[0]\n",
    "right = np.asarray(regs.iloc[:, 0])\n",
    "left = np.asarray(regs.iloc[:, 4])\n",
    "\n",
    "num_traces = np.shape(traces)[1]\n",
    "\n",
    "right_corr = np.zeros((num_traces))\n",
    "left_corr = np.zeros((num_traces))\n",
    "for i in range(num_traces):\n",
    "    right_corr[i] = np.corrcoef(right, traces[:, i])[0,1]\n",
    "    left_corr[i] = np.corrcoef(left, traces[:, i])[0,1]"
   ]
  },
  {
   "cell_type": "code",
   "execution_count": null,
   "id": "5ee5d5d6-a1c0-4536-b0bd-6463f8e1534d",
   "metadata": {},
   "outputs": [],
   "source": [
    "thresh = 0.15\n",
    "right_tuned = np.where(np.abs(right_corr) > thresh)[0]\n",
    "print(np.shape(right_tuned))\n",
    "n_right_tuned = np.shape(right_tuned)[0]\n",
    "\n",
    "left_tuned = np.where(np.abs(left_corr) > thresh)[0]\n",
    "print(np.shape(left_tuned))\n",
    "n_left_tuned = np.shape(left_tuned)[0]"
   ]
  },
  {
   "cell_type": "code",
   "execution_count": null,
   "id": "11907a07-50c6-4d14-8687-3f943be5caeb",
   "metadata": {},
   "outputs": [],
   "source": [
    "left_traces = traces[:, left_tuned].T\n",
    "right_traces = traces[:, right_tuned].T\n",
    "print(np.shape(left_traces))"
   ]
  },
  {
   "cell_type": "code",
   "execution_count": null,
   "id": "b7dc4ab2-5202-4a63-84b7-6599b5ab44e6",
   "metadata": {},
   "outputs": [],
   "source": [
    "#### Getting a list of stimuli order: 0=right, 7=right-up\n",
    "pause_duration = 10 * fs\n",
    "stim_duration = 10 * fs\n",
    "\n",
    "left_diff = np.diff(left)\n",
    "right_diff = np.diff(right)\n",
    "\n",
    "\n",
    "left_start = find_peaks(left_diff, height=0.1)[0]  - pause_duration\n",
    "left_end = find_peaks(left_diff, height=0.1)[0] + stim_duration \n",
    "right_start = find_peaks(right_diff, height=0.1)[0] - pause_duration\n",
    "right_end = find_peaks(right_diff, height=0.1)[0] + stim_duration "
   ]
  },
  {
   "cell_type": "code",
   "execution_count": null,
   "id": "ae23072b-284a-4aff-89c8-17648ed9edca",
   "metadata": {},
   "outputs": [],
   "source": [
    "n_dir=8\n",
    "n_sessions = 4\n",
    "num_left_trials = np.shape(left_start)[0]\n",
    "num_right_trials = np.shape(right_start)[0]\n",
    "len_segment = pause_duration + stim_duration\n",
    "print(len_segment)\n",
    "\n",
    "left_trials = np.zeros((n_left_tuned, n_dir, n_sessions, len_segment))\n",
    "right_trials = np.zeros((n_right_tuned, n_dir, n_sessions, len_segment))"
   ]
  },
  {
   "cell_type": "code",
   "execution_count": null,
   "id": "c0a7550b-88bd-4708-ac2f-7c18e945bcfc",
   "metadata": {},
   "outputs": [],
   "source": [
    "regs_array = np.asarray(regs)\n",
    "curr_session = np.zeros((n_dir), dtype=int)\n",
    "for i in range(num_left_trials):\n",
    "    t1 = left_start[i]  - stim_duration \n",
    "    t2 = t1 + stim_duration\n",
    "    \n",
    "    curr_seg = np.nanmean(regs_array[t1:t2], axis=0)\n",
    "    \n",
    "    try:\n",
    "        curr_dir = np.where(curr_seg > 0.1)[0][0]\n",
    "\n",
    "        t1 = left_start[i]\n",
    "        t2 = t1 + len_segment\n",
    "\n",
    "        if curr_session[curr_dir] < n_sessions:\n",
    "            left_trials[:, curr_dir, curr_session[curr_dir], :] = left_traces[:, t1:t2]\n",
    "            curr_session[curr_dir] += 1\n",
    "    except:\n",
    "        print(\"Stupid trial\")\n",
    "        \n",
    "print(np.unique(left_trials))\n",
    "#left_trials[left_trials == 0] = None\n",
    "print(np.unique(left_trials))"
   ]
  },
  {
   "cell_type": "code",
   "execution_count": null,
   "id": "af7c68a9-30bd-48e3-ba19-628ff7200052",
   "metadata": {},
   "outputs": [],
   "source": [
    "curr_session = np.zeros((n_dir), dtype=int)\n",
    "for i in range(num_right_trials):\n",
    "    t1 = right_start[i] - stim_duration \n",
    "    t2 = t1 + stim_duration\n",
    "    try:\n",
    "        curr_seg = np.nanmean(regs_array[t1:t2], axis=0)\n",
    "        curr_dir = np.where(curr_seg > 0.1)[0][0]\n",
    "\n",
    "        t1 = right_start[i]\n",
    "        t2 = t1 + len_segment\n",
    "        #print(t1,t2)\n",
    "    \n",
    "        if curr_session[curr_dir] < n_sessions:\n",
    "            right_trials[:, curr_dir, curr_session[curr_dir], :] = right_traces[:, t1:t2]\n",
    "            curr_session[curr_dir] += 1\n",
    "    except:\n",
    "        print(\"Stupid trial\")\n",
    "        \n",
    "right_trials[right_trials == 0] = None"
   ]
  },
  {
   "cell_type": "code",
   "execution_count": null,
   "id": "fdf1f9d1-324d-4743-a6b5-dd51a15034cf",
   "metadata": {},
   "outputs": [],
   "source": [
    "####### Concatenate average responses and cluster\n",
    "\n",
    "left_trials_avg = np.nanmean(left_trials, axis=2)\n",
    "right_trials_avg = np.nanmean(right_trials, axis=2)\n",
    "print(np.shape(left_trials_avg))\n",
    "    \n",
    "    \n",
    "dt = 1 / fs\n",
    "traces_xr = xr.DataArray(\n",
    "    data=left_trials_avg,                               #Adding the data\n",
    "    dims=['roi', 'block', 't'],                #Defining name of the dimensions\n",
    "    coords={                                   #Defining values at which each dimension wase valuated\n",
    "        'roi':np.arange(left_trials_avg.shape[0]), \n",
    "        'block':np.arange(n_dir),\n",
    "        't':np.arange(left_trials_avg.shape[2])*dt\n",
    "        }\n",
    "    )\n",
    "reliability_arr_left = reliability(np.swapaxes(traces_xr, 0, 2).values)\n",
    "\n",
    "\n",
    "traces_xr = xr.DataArray(\n",
    "    data=right_trials_avg,                               #Adding the data\n",
    "    dims=['roi', 'block', 't'],                #Defining name of the dimensions\n",
    "    coords={                                   #Defining values at which each dimension wase valuated\n",
    "        'roi':np.arange(right_trials_avg.shape[0]), \n",
    "        'block':np.arange(n_dir),\n",
    "        't':np.arange(right_trials_avg.shape[2])*dt\n",
    "        }\n",
    "    )\n",
    "reliability_arr_right = reliability(np.swapaxes(traces_xr, 0, 2).values)"
   ]
  },
  {
   "cell_type": "code",
   "execution_count": null,
   "id": "86f4c40f-cc43-4264-8a50-e5721cc311c9",
   "metadata": {},
   "outputs": [],
   "source": []
  },
  {
   "cell_type": "code",
   "execution_count": null,
   "id": "39093919-12f0-4676-9c67-83b4b15e8ee5",
   "metadata": {},
   "outputs": [],
   "source": []
  },
  {
   "cell_type": "code",
   "execution_count": null,
   "id": "5c20df1a-df8c-463d-bacc-d525873c41ab",
   "metadata": {},
   "outputs": [],
   "source": []
  },
  {
   "cell_type": "code",
   "execution_count": null,
   "id": "3b0bfc23-8af6-4fd5-a8f3-3b048a5b8c1c",
   "metadata": {},
   "outputs": [],
   "source": []
  },
  {
   "cell_type": "code",
   "execution_count": null,
   "id": "08f0f29d-b69b-4544-b919-1e51659b9152",
   "metadata": {},
   "outputs": [],
   "source": []
  },
  {
   "cell_type": "code",
   "execution_count": null,
   "id": "6127f340-fb3b-4d9c-9ae2-ceab28612603",
   "metadata": {},
   "outputs": [],
   "source": [
    "coords_right = coords[right_tuned]\n",
    "coords_left = coords[left_tuned]"
   ]
  },
  {
   "cell_type": "code",
   "execution_count": null,
   "id": "1bbe6f09-e133-44cd-9d90-7098f51446c1",
   "metadata": {},
   "outputs": [],
   "source": [
    "z_res = 10\n",
    "fig, axs = plt.subplots(2, 4, figsize=(12, 6), gridspec_kw={'width_ratios': [3, 2, 3, 2], 'height_ratios': [1, 2]})\n",
    "mp_ind_l = np.argsort(reliability_arr_left)\n",
    "mp_ind_l = np.arange(0, n_left_tuned)\n",
    "axs[1,0].scatter(coords[:,2]*0.6, coords[:,1]*.6, c='lightgray', s=2, alpha=0.8)\n",
    "axs[1,1].scatter(coords[:,0]*z_res, coords[:,1]*0.6, c='lightgray', alpha=0.8)\n",
    "axs[0,0].scatter(coords[:,2]*0.6, coords[:,0]*z_res, c='lightgray', alpha=0.8)\n",
    "\n",
    "axs[1,0].scatter(coords_left[mp_ind_l,2]*0.6, coords_left[mp_ind_l,1]*.6, c=reliability_arr_left[mp_ind_l], s=2, alpha=0.8, cmap='Reds', vmin=0, vmax=1)\n",
    "axs[1,1].scatter(coords_left[mp_ind_l,0]*z_res, coords_left[mp_ind_l,1]*0.6, c=reliability_arr_left[mp_ind_l], alpha=0.8, cmap='Reds', vmin=0, vmax=1)\n",
    "axs[0,0].scatter(coords_left[mp_ind_l,2]*0.6, coords_left[mp_ind_l,0]*z_res, c=reliability_arr_left[mp_ind_l], alpha=0.8, cmap='Reds', vmin=0, vmax=1)\n",
    "\n",
    "axs[0,0].spines['right'].set_visible(False)\n",
    "axs[0,0].spines['top'].set_visible(False)\n",
    "\n",
    "axs[1,1].spines['right'].set_visible(False)\n",
    "axs[1,1].spines['top'].set_visible(False)\n",
    "\n",
    "axs[1,0].spines['right'].set_visible(False)\n",
    "axs[1,0].spines['top'].set_visible(False)\n",
    "\n",
    "axs[0,1].axis('off')\n",
    "axs[0,3].axis('off')\n",
    "\n",
    "mp_ind_r = np.argsort(reliability_arr_right)\n",
    "mp_ind_r = np.arange(0, n_right_tuned)\n",
    "axs[1,2].scatter(coords[:,2]*0.6, coords[:,1]*.6, c='lightgray', s=2, alpha=0.8)\n",
    "axs[1,3].scatter(coords[:,0]*z_res, coords[:,1]*0.6, c='lightgray', alpha=0.8)\n",
    "axs[0,2].scatter(coords[:,2]*0.6, coords[:,0]*z_res, c='lightgray', alpha=0.8)\n",
    "\n",
    "axs[1,2].scatter(coords_right[mp_ind_r,2]*0.6, coords_right[mp_ind_r,1]*.6, c=reliability_arr_right[mp_ind_r], s=2, alpha=0.8, cmap='Reds', vmin=0, vmax=1)\n",
    "axs[1,3].scatter(coords_right[mp_ind_r,0]*z_res, coords_right[mp_ind_r,1]*0.6, c=reliability_arr_right[mp_ind_r], alpha=0.8, cmap='Reds', vmin=0, vmax=1)\n",
    "axs[0,2].scatter(coords_right[mp_ind_r,2]*0.6, coords_right[mp_ind_r,0]*z_res, c=reliability_arr_right[mp_ind_r], alpha=0.8, cmap='Reds', vmin=0, vmax=1)\n",
    "\n",
    "axs[0,2].spines['right'].set_visible(False)\n",
    "axs[0,2].spines['top'].set_visible(False)\n",
    "\n",
    "axs[1,3].spines['right'].set_visible(False)\n",
    "axs[1,3].spines['top'].set_visible(False)\n",
    "\n",
    "axs[1,2].spines['right'].set_visible(False)\n",
    "axs[1,2].spines['top'].set_visible(False)"
   ]
  },
  {
   "cell_type": "code",
   "execution_count": null,
   "id": "7a4d8725-7908-4a40-a2e6-f79a91e2cda9",
   "metadata": {},
   "outputs": [],
   "source": [
    "file_name = 'color reliability between different history stimuli (thresh ' + str(thresh) + ').jpg'\n",
    "fig.savefig(str(path / file_name), dpi=300)"
   ]
  },
  {
   "cell_type": "code",
   "execution_count": null,
   "id": "2298f750-8762-4bad-bd45-7c6a504b7b60",
   "metadata": {},
   "outputs": [],
   "source": []
  },
  {
   "cell_type": "code",
   "execution_count": null,
   "id": "274c167a-b99c-4314-ac7e-740ea8d403bd",
   "metadata": {},
   "outputs": [],
   "source": []
  },
  {
   "cell_type": "code",
   "execution_count": null,
   "id": "63fcdab2-06e0-4722-bfd5-6ec66e5a672c",
   "metadata": {},
   "outputs": [],
   "source": []
  },
  {
   "cell_type": "code",
   "execution_count": null,
   "id": "4416be05-fed7-495c-85d7-9f4cf00f5486",
   "metadata": {},
   "outputs": [],
   "source": []
  },
  {
   "cell_type": "code",
   "execution_count": null,
   "id": "984c121a-d0ad-45b2-95d9-c26f5bba42b9",
   "metadata": {},
   "outputs": [],
   "source": []
  },
  {
   "cell_type": "code",
   "execution_count": null,
   "id": "7a073933-4210-4763-97d4-47035a009d22",
   "metadata": {},
   "outputs": [],
   "source": []
  },
  {
   "cell_type": "code",
   "execution_count": null,
   "id": "f060f1b9-e49b-4d39-83f2-9da2b250713e",
   "metadata": {},
   "outputs": [],
   "source": []
  },
  {
   "cell_type": "code",
   "execution_count": null,
   "id": "31d9cfee-fe4c-429f-81fc-8860f79e31cb",
   "metadata": {},
   "outputs": [],
   "source": []
  },
  {
   "cell_type": "code",
   "execution_count": null,
   "id": "21a6f7df-ef5d-453b-bba2-af4f027a88a6",
   "metadata": {},
   "outputs": [],
   "source": []
  },
  {
   "cell_type": "code",
   "execution_count": null,
   "id": "2c4851fd-58ea-4332-941b-24dd73f671ba",
   "metadata": {},
   "outputs": [],
   "source": []
  },
  {
   "cell_type": "code",
   "execution_count": null,
   "id": "5846c123-6216-4ed4-8d05-e4a176ea3f43",
   "metadata": {},
   "outputs": [],
   "source": []
  }
 ],
 "metadata": {
  "kernelspec": {
   "display_name": "Python 3",
   "language": "python",
   "name": "python3"
  },
  "language_info": {
   "codemirror_mode": {
    "name": "ipython",
    "version": 3
   },
   "file_extension": ".py",
   "mimetype": "text/x-python",
   "name": "python",
   "nbconvert_exporter": "python",
   "pygments_lexer": "ipython3",
   "version": "3.7.10"
  }
 },
 "nbformat": 4,
 "nbformat_minor": 5
}
