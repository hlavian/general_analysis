{
 "cells": [
  {
   "cell_type": "code",
   "execution_count": 1,
   "id": "given-reach",
   "metadata": {},
   "outputs": [],
   "source": [
    "%matplotlib widget"
   ]
  },
  {
   "cell_type": "code",
   "execution_count": 2,
   "id": "conceptual-newspaper",
   "metadata": {},
   "outputs": [],
   "source": [
    "import numpy as np\n",
    "import matplotlib.pyplot as plt\n",
    "import random\n",
    "import tifffile as tiff\n",
    "from pathlib import Path\n",
    "from sympy import *\n",
    "import csv\n",
    "from scipy import ndimage"
   ]
  },
  {
   "cell_type": "code",
   "execution_count": 3,
   "id": "intellectual-genealogy",
   "metadata": {},
   "outputs": [],
   "source": [
    "import flammkuchen as fl"
   ]
  },
  {
   "cell_type": "code",
   "execution_count": 123,
   "id": "overhead-activation",
   "metadata": {},
   "outputs": [
    {
     "data": {
      "text/plain": [
       "WindowsPath('//Funes/Shared/experiments/E0071_lotr/full_ring/210314_f1')"
      ]
     },
     "execution_count": 123,
     "metadata": {},
     "output_type": "execute_result"
    }
   ],
   "source": [
    "master = Path(r\"\\\\Funes\\Shared\\experiments\\E0071_lotr\\full_ring\")\n",
    "fish_list = list(master.glob(\"*f[0-9]*\"))\n",
    "tmp_fish = 0\n",
    "fish_dir = fish_list[tmp_fish]\n",
    "fish_inner_dir = [fish_dir / \"210314_f1_natmov\", fish_dir / \"210601_f0_natmov_noeyes\", fish_dir / \"210601_f3_natmov_spont\", fish_dir / \"210715_f5_clol\"]\n",
    "fish_dir"
   ]
  },
  {
   "cell_type": "code",
   "execution_count": 124,
   "id": "acquired-award",
   "metadata": {},
   "outputs": [
    {
     "data": {
      "text/plain": [
       "[WindowsPath('//Funes/Shared/experiments/E0071_lotr/full_ring/210314_f1/210314_f1_natmov_traces_behavior_export.h5')]"
      ]
     },
     "execution_count": 124,
     "metadata": {},
     "output_type": "execute_result"
    }
   ],
   "source": [
    "file_list = list(fish_dir.glob(\"*export.h5*\"))\n",
    "file_list"
   ]
  },
  {
   "cell_type": "code",
   "execution_count": 125,
   "id": "thrown-toolbox",
   "metadata": {},
   "outputs": [],
   "source": [
    "fish = fl.load(file_list[0])\n",
    "fish.keys()\n",
    "ring_idxs = fish[\"ring_idxs\"]\n",
    "theta_turned = fish[\"theta_turned\"]"
   ]
  },
  {
   "cell_type": "code",
   "execution_count": 126,
   "id": "concerned-guitar",
   "metadata": {},
   "outputs": [
    {
     "data": {
      "text/plain": [
       "(8, 342, 360)"
      ]
     },
     "execution_count": 126,
     "metadata": {},
     "output_type": "execute_result"
    }
   ],
   "source": [
    "rois_data[\"anatomy_stack\"].shape"
   ]
  },
  {
   "cell_type": "code",
   "execution_count": 127,
   "id": "sensitive-thunder",
   "metadata": {},
   "outputs": [],
   "source": [
    "# Getting all ROIs coordinates from suite2p\n",
    "rois_data = fl.load(fish_inner_dir[tmp_fish] / \"data_from_suite2p_unfiltered.h5\")\n",
    "coords = rois_data['coords']"
   ]
  },
  {
   "cell_type": "code",
   "execution_count": 128,
   "id": "substantial-evening",
   "metadata": {},
   "outputs": [],
   "source": [
    "# Getting only the coordinates of the ring neurons \n",
    "ring_coords = coords[ring_idxs]"
   ]
  },
  {
   "cell_type": "code",
   "execution_count": 129,
   "id": "brilliant-shark",
   "metadata": {},
   "outputs": [
    {
     "data": {
      "application/vnd.jupyter.widget-view+json": {
       "model_id": "067e5708aec744e9979430a59b20ecee",
       "version_major": 2,
       "version_minor": 0
      },
      "text/plain": [
       "Canvas(toolbar=Toolbar(toolitems=[('Home', 'Reset original view', 'home', 'home'), ('Back', 'Back to previous …"
      ]
     },
     "metadata": {},
     "output_type": "display_data"
    }
   ],
   "source": [
    "fig, ax = plt.subplots(1,1)\n",
    "for i in range(8):\n",
    "    tmp_coords = np.where(coords[:]==i)[0].astype(int)\n",
    "    tmp_coords = coords[tmp_coords,:]\n",
    "    ax.scatter(tmp_coords[:,1], tmp_coords[:,2], c=\"gray\")\n",
    "\n",
    "for i in range(8):\n",
    "    tmp_coords = np.where(ring_coords[:]==i)[0].astype(int)\n",
    "    tmp_coords = ring_coords[tmp_coords,:]\n",
    "    ax.scatter(tmp_coords[:,1], tmp_coords[:,2])"
   ]
  },
  {
   "cell_type": "code",
   "execution_count": 130,
   "id": "organized-cotton",
   "metadata": {},
   "outputs": [],
   "source": [
    "anatomy_suite_2p = rois_data[\"anatomy_stack\"]\n",
    "anatomy_fimpy = tiff.imread(fish_dir / \"anatomy.tif\")"
   ]
  },
  {
   "cell_type": "code",
   "execution_count": 131,
   "id": "missing-fellowship",
   "metadata": {},
   "outputs": [
    {
     "data": {
      "application/vnd.jupyter.widget-view+json": {
       "model_id": "cac7323c6a1b4275be9b18d36ec96c72",
       "version_major": 2,
       "version_minor": 0
      },
      "text/plain": [
       "Canvas(toolbar=Toolbar(toolitems=[('Home', 'Reset original view', 'home', 'home'), ('Back', 'Back to previous …"
      ]
     },
     "metadata": {},
     "output_type": "display_data"
    }
   ],
   "source": [
    "fig, ax = plt.subplots(2,8, figsize=(15,5))\n",
    "\n",
    "for i in range(8):\n",
    "    tmp_coords = np.where(ring_coords[:]==i)[0].astype(int)\n",
    "    tmp_coords = ring_coords[tmp_coords,:]\n",
    "    tmp_anatomy = np.rot90(anatomy_fimpy[i],3)\n",
    "    ax[0, i].imshow(tmp_anatomy, cmap=\"gray_r\")\n",
    "    ax[0, i].scatter(tmp_coords[:,1], tmp_coords[:,2], s=1)\n",
    "    tmp_anatomy = np.rot90(anatomy_suite_2p[i],3)\n",
    "    ax[1, i].imshow(tmp_anatomy, cmap=\"gray_r\")\n",
    "    ax[1, i].scatter(tmp_coords[:,1], tmp_coords[:,2], s=1)\n",
    "    \n",
    "    ax[0, i].axis('off')\n",
    "    ax[1, i].axis('off')\n",
    "    ax[0, i].set_title('z' + str(i) + '(fimpy)')\n",
    "    ax[1, i].set_title('z' + str(i) + '(suite2p)')\n",
    "    ax[1, i].invert_yaxis()\n",
    "    ax[0, i].invert_yaxis()\n",
    "fig.tight_layout()"
   ]
  },
  {
   "cell_type": "code",
   "execution_count": 132,
   "id": "exempt-moscow",
   "metadata": {},
   "outputs": [],
   "source": [
    "file_name = 'anatomy_and_ring_labels.jpg'\n",
    "fig.savefig(str(fish_dir/file_name), dpi=300)"
   ]
  },
  {
   "cell_type": "code",
   "execution_count": 133,
   "id": "interracial-promotion",
   "metadata": {},
   "outputs": [],
   "source": [
    "anatomy_path = fish_dir / \"anatomy_suite_2p.tif\"\n",
    "tiff.imsave(anatomy_path, anatomy_suite_2p)"
   ]
  },
  {
   "cell_type": "code",
   "execution_count": null,
   "id": "dangerous-share",
   "metadata": {},
   "outputs": [],
   "source": []
  },
  {
   "cell_type": "code",
   "execution_count": null,
   "id": "protected-intro",
   "metadata": {},
   "outputs": [],
   "source": []
  }
 ],
 "metadata": {
  "kernelspec": {
   "display_name": "Python 3",
   "language": "python",
   "name": "python3"
  },
  "language_info": {
   "codemirror_mode": {
    "name": "ipython",
    "version": 3
   },
   "file_extension": ".py",
   "mimetype": "text/x-python",
   "name": "python",
   "nbconvert_exporter": "python",
   "pygments_lexer": "ipython3",
   "version": "3.7.10"
  }
 },
 "nbformat": 4,
 "nbformat_minor": 5
}
