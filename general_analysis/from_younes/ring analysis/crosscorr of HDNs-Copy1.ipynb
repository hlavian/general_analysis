{
 "cells": [
  {
   "cell_type": "code",
   "execution_count": 2,
   "id": "76889265-2c60-4a10-bcc0-e88bb9d9c6ac",
   "metadata": {},
   "outputs": [],
   "source": [
    "%matplotlib widget\n",
    "\n",
    "from pathlib import Path\n",
    "import numpy as np\n",
    "import flammkuchen as fl\n",
    "import pandas as pd\n",
    "\n",
    "import h5py\n",
    "import skimage as sk\n",
    "import json\n",
    "\n",
    "from bouter.utilities import reliability \n",
    "from skimage.filters import threshold_otsu\n",
    "import xarray as xr\n",
    "\n",
    "from matplotlib import  pyplot as plt\n",
    "import seaborn as sns\n",
    "sns.set(style=\"ticks\", palette=\"deep\")\n",
    "cols = sns.color_palette()\n",
    "\n",
    "from lotr.pca import pca_and_phase, fictive_heading_and_fit, fit_phase_neurons\n",
    "from lotr import LotrExperiment\n",
    "\n",
    "import lotr.plotting as pltltr\n",
    "COLS = pltltr.COLS\n",
    "\n",
    "from scipy import signal"
   ]
  },
  {
   "cell_type": "code",
   "execution_count": 16,
   "id": "3d6a9d94-630d-4cfb-9f57-459e6c58926f",
   "metadata": {},
   "outputs": [
    {
     "name": "stdout",
     "output_type": "stream",
     "text": [
      "\\\\funes\\Shared\\experiments\\E0040_motions_cardinal\\v21\\2p\\huc\\221017_f2\\suite2p\\0001\n"
     ]
    }
   ],
   "source": [
    "master =  Path(r\"\\\\funes\\Shared\\experiments\\E0040_motions_cardinal\\v21\\2p\\huc\")\n",
    "files = list(master.glob(\"*_f*\"))\n",
    "fish = files[3]\n",
    "path = fish / 'suite2p' / '0001'\n",
    "print(path)"
   ]
  },
  {
   "cell_type": "code",
   "execution_count": 17,
   "id": "7e0d9c9e-15fc-422a-b578-b99a298953bb",
   "metadata": {},
   "outputs": [],
   "source": [
    "# load fish data \n",
    "\n",
    "traces = fl.load(path / \"filtered_traces.h5\", \"/detr\")\n",
    "traces_full = fl.load(path / \"filtered_traces.h5\", \"/detr\")\n",
    "traces_full = traces_full.T\n",
    "\n",
    "suite2p_data = fl.load(path / \"data_from_suite2p_unfiltered.h5\")\n",
    "roi_map = suite2p_data['rois_stack']\n",
    "coords = suite2p_data['coords']\n",
    "anatomy = suite2p_data['anatomy_stack']\n",
    "\n",
    "df = fl.load(path / \"bouts_df.h5\")# exp.get_bout_properties()\n",
    "exp = LotrExperiment(path)\n",
    "fs = int(exp.fn)\n",
    "beh_df = exp.behavior_log\n",
    "\n",
    "t_start_s = 50\n",
    "t_lims = (t_start_s*exp.fn, exp.n_pts - 50)\n",
    "t_slice = slice(*t_lims)"
   ]
  },
  {
   "cell_type": "code",
   "execution_count": null,
   "id": "77e491dd-0bc2-47f3-aac3-59fc3bcc7dcb",
   "metadata": {},
   "outputs": [],
   "source": [
    "select"
   ]
  },
  {
   "cell_type": "code",
   "execution_count": null,
   "id": "131192e5-98a7-4174-9fad-eb9a3b3de39c",
   "metadata": {},
   "outputs": [],
   "source": []
  },
  {
   "cell_type": "code",
   "execution_count": 18,
   "id": "1ae77291-99b8-4324-92cd-2864c5fbaf8e",
   "metadata": {},
   "outputs": [],
   "source": [
    "# get xcorr function for all cells with one of the cells\n",
    "selected_neuron = 0\n",
    "\n",
    "n_neurons, len_rec = np.shape(traces_full)\n",
    "xcorr_all = np.zeros((n_neurons, (len_rec*2)-1))\n",
    "t = (np.arange(0,  (len_rec*2)-1) - len_rec) / fs\n",
    "for i in range(n_neurons):\n",
    "    xcorr_all[i] = signal.correlate(traces_full[selected_neuron], traces_full[i])"
   ]
  },
  {
   "cell_type": "code",
   "execution_count": 19,
   "id": "b14a9ec6-8686-4b40-9eed-daf769d33e54",
   "metadata": {},
   "outputs": [
    {
     "data": {
      "application/vnd.jupyter.widget-view+json": {
       "model_id": "864ea164b2c84470ade96f2e643ab408",
       "version_major": 2,
       "version_minor": 0
      },
      "text/plain": [
       "Canvas(toolbar=Toolbar(toolitems=[('Home', 'Reset original view', 'home', 'home'), ('Back', 'Back to previous …"
      ]
     },
     "metadata": {},
     "output_type": "display_data"
    },
    {
     "data": {
      "text/plain": [
       "<matplotlib.image.AxesImage at 0x23bc8e032c8>"
      ]
     },
     "execution_count": 19,
     "metadata": {},
     "output_type": "execute_result"
    }
   ],
   "source": [
    "# plot xcorr function \n",
    "fig, ax = plt.subplots(1, 1)\n",
    "ax.imshow(xcorr_all, extent=[t[0], t[-1], 0, 1000], cmap='coolwarm')"
   ]
  },
  {
   "cell_type": "code",
   "execution_count": 20,
   "id": "4d80294c-3df7-4039-aed6-b69afe4a80b0",
   "metadata": {},
   "outputs": [
    {
     "data": {
      "application/vnd.jupyter.widget-view+json": {
       "model_id": "0c3e529d2b25461b91c672c4ef94ee14",
       "version_major": 2,
       "version_minor": 0
      },
      "text/plain": [
       "Canvas(toolbar=Toolbar(toolitems=[('Home', 'Reset original view', 'home', 'home'), ('Back', 'Back to previous …"
      ]
     },
     "metadata": {},
     "output_type": "display_data"
    },
    {
     "data": {
      "text/plain": [
       "<matplotlib.image.AxesImage at 0x23bc934cf88>"
      ]
     },
     "execution_count": 20,
     "metadata": {},
     "output_type": "execute_result"
    }
   ],
   "source": [
    "sorted_xcorr = xcorr_all[xcorr_all[:, len_rec].argsort()]\n",
    "sorted_xcorr_show = sorted_xcorr[:, len_rec - 500:len_rec+500]\n",
    "fig1, ax1 = plt.subplots(1, 1)\n",
    "ax1.imshow(sorted_xcorr_show, extent=[-500, 500, 0, 1000], cmap='coolwarm')"
   ]
  },
  {
   "cell_type": "code",
   "execution_count": 21,
   "id": "2e6fcc32-c972-4900-86ca-30b460b20720",
   "metadata": {},
   "outputs": [
    {
     "data": {
      "text/plain": [
       "(5402, 449)"
      ]
     },
     "execution_count": 21,
     "metadata": {},
     "output_type": "execute_result"
    }
   ],
   "source": [
    "np.shape(traces)"
   ]
  },
  {
   "cell_type": "code",
   "execution_count": null,
   "id": "dd577cc5-8362-4636-ab5a-ae50c48d44a2",
   "metadata": {},
   "outputs": [],
   "source": []
  }
 ],
 "metadata": {
  "kernelspec": {
   "display_name": "Python 3",
   "language": "python",
   "name": "python3"
  },
  "language_info": {
   "codemirror_mode": {
    "name": "ipython",
    "version": 3
   },
   "file_extension": ".py",
   "mimetype": "text/x-python",
   "name": "python",
   "nbconvert_exporter": "python",
   "pygments_lexer": "ipython3",
   "version": "3.7.10"
  }
 },
 "nbformat": 4,
 "nbformat_minor": 5
}
