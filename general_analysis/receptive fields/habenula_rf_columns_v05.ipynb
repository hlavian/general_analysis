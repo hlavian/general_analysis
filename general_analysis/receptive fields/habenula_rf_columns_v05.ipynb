{
 "cells": [
  {
   "cell_type": "code",
   "execution_count": 1,
   "id": "animal-thermal",
   "metadata": {},
   "outputs": [],
   "source": [
    "%matplotlib widget"
   ]
  },
  {
   "cell_type": "code",
   "execution_count": 2,
   "id": "juvenile-filter",
   "metadata": {},
   "outputs": [],
   "source": [
    "from pathlib import Path\n",
    "import numpy as np\n",
    "import flammkuchen as fl\n",
    "import pandas as pd\n",
    "import tifffile as tiff\n",
    "\n",
    "from fimpylab import TwoPExperiment\n",
    "\n",
    "import matplotlib.pyplot as plt\n",
    "import json\n",
    "\n",
    "from scipy.interpolate import interp1d\n",
    "from scipy import signal"
   ]
  },
  {
   "cell_type": "code",
   "execution_count": 300,
   "id": "speaking-patrol",
   "metadata": {},
   "outputs": [
    {
     "data": {
      "text/plain": [
       "WindowsPath('//Funes/Shared/experiments/E0075/e0075_v05/220629_f1/suite2p/0007')"
      ]
     },
     "execution_count": 300,
     "metadata": {},
     "output_type": "execute_result"
    }
   ],
   "source": [
    "master = Path(r\"\\\\Funes\\Shared\\experiments\\E0075\\e0075_v05\")\n",
    "files = list(master.glob(\"*_f*\"))\n",
    "fish = files[2]\n",
    "path = fish / 'suite2p' / '0007'\n",
    "path"
   ]
  },
  {
   "cell_type": "code",
   "execution_count": 301,
   "id": "artificial-nashville",
   "metadata": {},
   "outputs": [
    {
     "ename": "OSError",
     "evalue": "``\\\\Funes\\Shared\\experiments\\E0075\\e0075_v05\\220629_f1\\suite2p\\0007\\data_from_suite2p_cells.h5`` does not exist",
     "output_type": "error",
     "traceback": [
      "\u001b[1;31m---------------------------------------------------------------------------\u001b[0m",
      "\u001b[1;31mOSError\u001b[0m                                   Traceback (most recent call last)",
      "\u001b[1;32m<ipython-input-301-10716b2c9957>\u001b[0m in \u001b[0;36m<module>\u001b[1;34m\u001b[0m\n\u001b[0;32m      1\u001b[0m \u001b[1;31m# loading suite2p data:\u001b[0m\u001b[1;33m\u001b[0m\u001b[1;33m\u001b[0m\u001b[1;33m\u001b[0m\u001b[0m\n\u001b[1;32m----> 2\u001b[1;33m \u001b[0msuite2p_data\u001b[0m \u001b[1;33m=\u001b[0m \u001b[0mfl\u001b[0m\u001b[1;33m.\u001b[0m\u001b[0mload\u001b[0m\u001b[1;33m(\u001b[0m\u001b[0mpath\u001b[0m \u001b[1;33m/\u001b[0m \u001b[1;34m'data_from_suite2p_cells.h5'\u001b[0m\u001b[1;33m)\u001b[0m\u001b[1;33m\u001b[0m\u001b[1;33m\u001b[0m\u001b[0m\n\u001b[0m\u001b[0;32m      3\u001b[0m \u001b[0mcoords\u001b[0m \u001b[1;33m=\u001b[0m \u001b[0msuite2p_data\u001b[0m\u001b[1;33m[\u001b[0m\u001b[1;34m\"coords\"\u001b[0m\u001b[1;33m]\u001b[0m\u001b[1;33m\u001b[0m\u001b[1;33m\u001b[0m\u001b[0m\n\u001b[0;32m      4\u001b[0m \u001b[0manat\u001b[0m \u001b[1;33m=\u001b[0m \u001b[0msuite2p_data\u001b[0m\u001b[1;33m[\u001b[0m\u001b[1;34m\"anatomy_stack\"\u001b[0m\u001b[1;33m]\u001b[0m\u001b[1;33m\u001b[0m\u001b[1;33m\u001b[0m\u001b[0m\n\u001b[0;32m      5\u001b[0m \u001b[0mtraces\u001b[0m \u001b[1;33m=\u001b[0m \u001b[0msuite2p_data\u001b[0m\u001b[1;33m[\u001b[0m\u001b[1;34m\"traces\"\u001b[0m\u001b[1;33m]\u001b[0m\u001b[1;33m\u001b[0m\u001b[1;33m\u001b[0m\u001b[0m\n",
      "\u001b[1;32m~\\anaconda3\\envs\\rplab\\lib\\site-packages\\flammkuchen\\hdf5io.py\u001b[0m in \u001b[0;36mload\u001b[1;34m(path, group, sel, unpack)\u001b[0m\n\u001b[0;32m    689\u001b[0m     \"\"\"\n\u001b[0;32m    690\u001b[0m     \u001b[0mpath\u001b[0m \u001b[1;33m=\u001b[0m \u001b[0mstr\u001b[0m\u001b[1;33m(\u001b[0m\u001b[0mpath\u001b[0m\u001b[1;33m)\u001b[0m  \u001b[1;31m# Allows for Path objects to be used\u001b[0m\u001b[1;33m\u001b[0m\u001b[1;33m\u001b[0m\u001b[0m\n\u001b[1;32m--> 691\u001b[1;33m     \u001b[1;32mwith\u001b[0m \u001b[0mtables\u001b[0m\u001b[1;33m.\u001b[0m\u001b[0mopen_file\u001b[0m\u001b[1;33m(\u001b[0m\u001b[0mpath\u001b[0m\u001b[1;33m,\u001b[0m \u001b[0mmode\u001b[0m\u001b[1;33m=\u001b[0m\u001b[1;34m'r'\u001b[0m\u001b[1;33m)\u001b[0m \u001b[1;32mas\u001b[0m \u001b[0mh5file\u001b[0m\u001b[1;33m:\u001b[0m\u001b[1;33m\u001b[0m\u001b[1;33m\u001b[0m\u001b[0m\n\u001b[0m\u001b[0;32m    692\u001b[0m         \u001b[0mpathtable\u001b[0m \u001b[1;33m=\u001b[0m \u001b[1;33m{\u001b[0m\u001b[1;33m}\u001b[0m  \u001b[1;31m# dict to keep track of objects already loaded\u001b[0m\u001b[1;33m\u001b[0m\u001b[1;33m\u001b[0m\u001b[0m\n\u001b[0;32m    693\u001b[0m         \u001b[1;32mif\u001b[0m \u001b[0mgroup\u001b[0m \u001b[1;32mis\u001b[0m \u001b[1;32mnot\u001b[0m \u001b[1;32mNone\u001b[0m\u001b[1;33m:\u001b[0m\u001b[1;33m\u001b[0m\u001b[1;33m\u001b[0m\u001b[0m\n",
      "\u001b[1;32m~\\anaconda3\\envs\\rplab\\lib\\site-packages\\tables\\file.py\u001b[0m in \u001b[0;36mopen_file\u001b[1;34m(filename, mode, title, root_uep, filters, **kwargs)\u001b[0m\n\u001b[0;32m    313\u001b[0m \u001b[1;33m\u001b[0m\u001b[0m\n\u001b[0;32m    314\u001b[0m     \u001b[1;31m# Finally, create the File instance, and return it\u001b[0m\u001b[1;33m\u001b[0m\u001b[1;33m\u001b[0m\u001b[1;33m\u001b[0m\u001b[0m\n\u001b[1;32m--> 315\u001b[1;33m     \u001b[1;32mreturn\u001b[0m \u001b[0mFile\u001b[0m\u001b[1;33m(\u001b[0m\u001b[0mfilename\u001b[0m\u001b[1;33m,\u001b[0m \u001b[0mmode\u001b[0m\u001b[1;33m,\u001b[0m \u001b[0mtitle\u001b[0m\u001b[1;33m,\u001b[0m \u001b[0mroot_uep\u001b[0m\u001b[1;33m,\u001b[0m \u001b[0mfilters\u001b[0m\u001b[1;33m,\u001b[0m \u001b[1;33m**\u001b[0m\u001b[0mkwargs\u001b[0m\u001b[1;33m)\u001b[0m\u001b[1;33m\u001b[0m\u001b[1;33m\u001b[0m\u001b[0m\n\u001b[0m\u001b[0;32m    316\u001b[0m \u001b[1;33m\u001b[0m\u001b[0m\n\u001b[0;32m    317\u001b[0m \u001b[1;33m\u001b[0m\u001b[0m\n",
      "\u001b[1;32m~\\anaconda3\\envs\\rplab\\lib\\site-packages\\tables\\file.py\u001b[0m in \u001b[0;36m__init__\u001b[1;34m(self, filename, mode, title, root_uep, filters, **kwargs)\u001b[0m\n\u001b[0;32m    776\u001b[0m \u001b[1;33m\u001b[0m\u001b[0m\n\u001b[0;32m    777\u001b[0m         \u001b[1;31m# Now, it is time to initialize the File extension\u001b[0m\u001b[1;33m\u001b[0m\u001b[1;33m\u001b[0m\u001b[1;33m\u001b[0m\u001b[0m\n\u001b[1;32m--> 778\u001b[1;33m         \u001b[0mself\u001b[0m\u001b[1;33m.\u001b[0m\u001b[0m_g_new\u001b[0m\u001b[1;33m(\u001b[0m\u001b[0mfilename\u001b[0m\u001b[1;33m,\u001b[0m \u001b[0mmode\u001b[0m\u001b[1;33m,\u001b[0m \u001b[1;33m**\u001b[0m\u001b[0mparams\u001b[0m\u001b[1;33m)\u001b[0m\u001b[1;33m\u001b[0m\u001b[1;33m\u001b[0m\u001b[0m\n\u001b[0m\u001b[0;32m    779\u001b[0m \u001b[1;33m\u001b[0m\u001b[0m\n\u001b[0;32m    780\u001b[0m         \u001b[1;31m# Check filters and set PyTables format version for new files.\u001b[0m\u001b[1;33m\u001b[0m\u001b[1;33m\u001b[0m\u001b[1;33m\u001b[0m\u001b[0m\n",
      "\u001b[1;32mtables/hdf5extension.pyx\u001b[0m in \u001b[0;36mtables.hdf5extension.File._g_new\u001b[1;34m()\u001b[0m\n",
      "\u001b[1;32m~\\anaconda3\\envs\\rplab\\lib\\site-packages\\tables\\utils.py\u001b[0m in \u001b[0;36mcheck_file_access\u001b[1;34m(filename, mode)\u001b[0m\n\u001b[0;32m    152\u001b[0m         \u001b[1;31m# The file should be readable.\u001b[0m\u001b[1;33m\u001b[0m\u001b[1;33m\u001b[0m\u001b[1;33m\u001b[0m\u001b[0m\n\u001b[0;32m    153\u001b[0m         \u001b[1;32mif\u001b[0m \u001b[1;32mnot\u001b[0m \u001b[0mos\u001b[0m\u001b[1;33m.\u001b[0m\u001b[0maccess\u001b[0m\u001b[1;33m(\u001b[0m\u001b[0mfilename\u001b[0m\u001b[1;33m,\u001b[0m \u001b[0mos\u001b[0m\u001b[1;33m.\u001b[0m\u001b[0mF_OK\u001b[0m\u001b[1;33m)\u001b[0m\u001b[1;33m:\u001b[0m\u001b[1;33m\u001b[0m\u001b[1;33m\u001b[0m\u001b[0m\n\u001b[1;32m--> 154\u001b[1;33m             \u001b[1;32mraise\u001b[0m \u001b[0mIOError\u001b[0m\u001b[1;33m(\u001b[0m\u001b[1;34m\"``%s`` does not exist\"\u001b[0m \u001b[1;33m%\u001b[0m \u001b[1;33m(\u001b[0m\u001b[0mfilename\u001b[0m\u001b[1;33m,\u001b[0m\u001b[1;33m)\u001b[0m\u001b[1;33m)\u001b[0m\u001b[1;33m\u001b[0m\u001b[1;33m\u001b[0m\u001b[0m\n\u001b[0m\u001b[0;32m    155\u001b[0m         \u001b[1;32mif\u001b[0m \u001b[1;32mnot\u001b[0m \u001b[0mos\u001b[0m\u001b[1;33m.\u001b[0m\u001b[0mpath\u001b[0m\u001b[1;33m.\u001b[0m\u001b[0misfile\u001b[0m\u001b[1;33m(\u001b[0m\u001b[0mfilename\u001b[0m\u001b[1;33m)\u001b[0m\u001b[1;33m:\u001b[0m\u001b[1;33m\u001b[0m\u001b[1;33m\u001b[0m\u001b[0m\n\u001b[0;32m    156\u001b[0m             \u001b[1;32mraise\u001b[0m \u001b[0mIOError\u001b[0m\u001b[1;33m(\u001b[0m\u001b[1;34m\"``%s`` is not a regular file\"\u001b[0m \u001b[1;33m%\u001b[0m \u001b[1;33m(\u001b[0m\u001b[0mfilename\u001b[0m\u001b[1;33m,\u001b[0m\u001b[1;33m)\u001b[0m\u001b[1;33m)\u001b[0m\u001b[1;33m\u001b[0m\u001b[1;33m\u001b[0m\u001b[0m\n",
      "\u001b[1;31mOSError\u001b[0m: ``\\\\Funes\\Shared\\experiments\\E0075\\e0075_v05\\220629_f1\\suite2p\\0007\\data_from_suite2p_cells.h5`` does not exist"
     ]
    }
   ],
   "source": [
    "# loading suite2p data:\n",
    "suite2p_data = fl.load(path / 'data_from_suite2p_cells.h5')\n",
    "coords = suite2p_data[\"coords\"]\n",
    "anat = suite2p_data[\"anatomy_stack\"]\n",
    "traces = suite2p_data[\"traces\"]"
   ]
  },
  {
   "cell_type": "code",
   "execution_count": 302,
   "id": "directed-julian",
   "metadata": {},
   "outputs": [],
   "source": [
    "# normalizing traces:\n",
    "traces = traces.T\n",
    "traces = ((traces - traces.mean(0)) / traces.std(0))\n",
    "traces = traces.T"
   ]
  },
  {
   "cell_type": "code",
   "execution_count": 289,
   "id": "tamil-implement",
   "metadata": {},
   "outputs": [],
   "source": [
    "num_rows = 16\n",
    "s_size = 1 / num_rows\n",
    "choices = []\n",
    "for x_pos in range(num_rows):\n",
    "    curr_choice = [x_pos / num_rows, 0, s_size, 1]\n",
    "    choices.append(curr_choice)\n",
    "    curr_choice = [0, x_pos / num_rows, 1, s_size]\n",
    "    choices.append(curr_choice)"
   ]
  },
  {
   "cell_type": "code",
   "execution_count": 290,
   "id": "joined-bhutan",
   "metadata": {},
   "outputs": [
    {
     "data": {
      "text/plain": [
       "640"
      ]
     },
     "execution_count": 290,
     "metadata": {},
     "output_type": "execute_result"
    }
   ],
   "source": [
    "# Getting stimulus information\n",
    "metadata_file = list(path.glob(\"*_metadata.json\"))[0]\n",
    "\n",
    "with open(str(metadata_file), \"r\") as f:\n",
    "     metadata = json.load(f)\n",
    "        \n",
    "stim = metadata[\"stimulus\"][\"log\"]\n",
    "len(stim)\n"
   ]
  },
  {
   "cell_type": "code",
   "execution_count": 291,
   "id": "stuck-starter",
   "metadata": {},
   "outputs": [],
   "source": [
    "# getting tail information:\n",
    "beh_file = list(path.glob(\"*_behavior*\"))[0]\n",
    "beh_log = fl.load(beh_file)['data']"
   ]
  },
  {
   "cell_type": "code",
   "execution_count": 292,
   "id": "dependent-experience",
   "metadata": {},
   "outputs": [
    {
     "name": "stdout",
     "output_type": "stream",
     "text": [
      "fs:  2\n",
      "pause:  2.0  sec\n",
      "stim:  4.0  sec\n"
     ]
    }
   ],
   "source": [
    "fs = int(metadata['imaging']['microscope_config']['scanning']['framerate'])\n",
    "print(\"fs: \", fs)\n",
    "\n",
    "pause_duration = stim[0]['duration'] * fs\n",
    "stim_duration = stim[1]['duration'] * fs\n",
    "print(\"pause: \", pause_duration / fs, \" sec\")\n",
    "print(\"stim: \", stim_duration / fs, \" sec\")"
   ]
  },
  {
   "cell_type": "code",
   "execution_count": 293,
   "id": "hungarian-coating",
   "metadata": {},
   "outputs": [
    {
     "name": "stdout",
     "output_type": "stream",
     "text": [
      "len recording:  3841\n",
      "639\n"
     ]
    }
   ],
   "source": [
    "n_options = 16 * 2\n",
    "n_rep = [metadata['stimulus']['protocol']['receptive_fields']['v05_rows_cols_flashes_8x8']['n_trials']][0]\n",
    "n_trials = (n_options * n_rep) \n",
    "position_list = np.zeros((n_trials, 4))\n",
    "for_regs = np.zeros((n_options, n_trials * 2 + 1))\n",
    "\n",
    "len_rec = np.shape(traces)[1]\n",
    "print(\"len recording: \", len_rec)\n",
    "regs = np.zeros((n_options, len_rec))\n",
    "t1 = pause_duration\n",
    "\n",
    "for i in range(1, n_trials * 2, 2):\n",
    "    curr_trial = stim[i]['clip_mask']\n",
    "    position_list[(i//2) - 1, :] = curr_trial\n",
    "    \n",
    "    for j in range(n_options):\n",
    "        if curr_trial == choices[j]:\n",
    "            for_regs[j, i-1] = 1\n",
    "            regs[j, t1:(t1 + stim_duration)] = 1\n",
    "    \n",
    "    t1 = t1 + stim_duration + pause_duration \n",
    "print(i)"
   ]
  },
  {
   "cell_type": "code",
   "execution_count": null,
   "id": "alternative-tolerance",
   "metadata": {},
   "outputs": [],
   "source": []
  },
  {
   "cell_type": "code",
   "execution_count": 294,
   "id": "strategic-effectiveness",
   "metadata": {},
   "outputs": [],
   "source": [
    "def exp_decay_kernel(tau, dt, len_rec):\n",
    "    upsample = 10\n",
    "    t = np.arange(len_rec * upsample) * dt / upsample\n",
    "    \n",
    "    decay = np.exp(-t / tau)\n",
    "    decay /= np.sum(decay)\n",
    "    return decay"
   ]
  },
  {
   "cell_type": "code",
   "execution_count": 295,
   "id": "waiting-question",
   "metadata": {},
   "outputs": [],
   "source": [
    "# making one big figure:\n",
    "from lotr.default_vals import REGRESSOR_TAU_S, TURN_BIAS\n",
    "\n",
    "dt_imaging = 1 / fs\n",
    "int_fact = 200\n",
    "t_imaging = np.arange(traces.shape[1])/fs\n",
    "num_traces, len_rec = np.shape(traces)\n",
    "\n",
    "tau_fs = REGRESSOR_TAU_S * fs\n",
    "kernel = np.exp(-np.arange(1000) / tau_fs)\n",
    "t_imaging_int = np.arange(traces.shape[1]*int_fact)*dt_imaging/int_fact"
   ]
  },
  {
   "cell_type": "code",
   "execution_count": 296,
   "id": "blessed-groove",
   "metadata": {},
   "outputs": [],
   "source": [
    "regs_conv = np.zeros((n_options, len_rec))\n",
    "regs_vals = np.zeros((n_options, num_traces))\n",
    "\n",
    "for i in range(n_options):\n",
    "    regs_conv[i] = np.convolve(regs[i], kernel)[:np.shape(traces)[1]]\n",
    "    \n",
    "    tmp_reg_vals = np.dot(traces, regs_conv[i]) - num_traces * np.mean(traces, 1) * np.mean(regs_conv[i])\n",
    "    tmp_reg_vals /= (traces.shape[1] - 1) * np.std(traces, 1) * np.std(regs_conv[i])\n",
    "    regs_vals[i] = tmp_reg_vals\n",
    "    "
   ]
  },
  {
   "cell_type": "code",
   "execution_count": 297,
   "id": "received-enclosure",
   "metadata": {},
   "outputs": [
    {
     "data": {
      "application/vnd.jupyter.widget-view+json": {
       "model_id": "35cbc2b825de4a71b1cbb6bccb5af49e",
       "version_major": 2,
       "version_minor": 0
      },
      "text/plain": [
       "Canvas(toolbar=Toolbar(toolitems=[('Home', 'Reset original view', 'home', 'home'), ('Back', 'Back to previous …"
      ]
     },
     "metadata": {},
     "output_type": "display_data"
    }
   ],
   "source": [
    "fig_regs, ax_regs = plt.subplots(2, 1, figsize=(8, 6))\n",
    "\n",
    "for i in range(n_options):\n",
    "    ax_regs[0].plot(regs_conv[i] + (i * 20))\n",
    "\n",
    "ax_regs[0].plot(beh_log.t * fs, beh_log.tail_sum*10 - 80, c='k')\n",
    "\n",
    "ax_regs[0].set_xlim(0, len_rec)    \n",
    "ax_regs[0].axis('off')\n",
    "ax_regs[1].axis('off')\n",
    "ax_regs[1].imshow(traces, extent=[0, 1500, 0, 500], cmap='coolwarm', vmin=-2, vmax=3)\n",
    "\n",
    "file_name = 'RF_regressors_and_traces.jpg'\n",
    "fig_regs.savefig(path / file_name, dpi=300)"
   ]
  },
  {
   "cell_type": "code",
   "execution_count": 298,
   "id": "guided-panic",
   "metadata": {},
   "outputs": [
    {
     "data": {
      "application/vnd.jupyter.widget-view+json": {
       "model_id": "fd81c061b0844187bcb996d1ee707b21",
       "version_major": 2,
       "version_minor": 0
      },
      "text/plain": [
       "Canvas(toolbar=Toolbar(toolitems=[('Home', 'Reset original view', 'home', 'home'), ('Back', 'Back to previous …"
      ]
     },
     "metadata": {},
     "output_type": "display_data"
    },
    {
     "name": "stdout",
     "output_type": "stream",
     "text": [
      "no plane\n",
      "no plane\n",
      "no plane\n",
      "no plane\n"
     ]
    }
   ],
   "source": [
    "num_row = 6\n",
    "fig_rf_reg, ax_rf_reg = plt.subplots(num_row, num_row, figsize=(10, 10), sharex=True, sharey=True)\n",
    "\n",
    "for i in range(num_row*num_row):\n",
    "    r = i // num_row\n",
    "    c = np.mod(i, num_row)\n",
    "    \n",
    "    try:\n",
    "        ax_rf_reg[r,c].scatter(coords[:, 1], coords[:, 2], c=regs_vals[i], cmap='coolwarm', s=2, vmin=-1, vmax=1)\n",
    "        ax_rf_reg[r,c].imshow(np.rot90(anat[0],3), cmap='gray_r')\n",
    "        ax_rf_reg[r,c].set_title('RF' + str(i))\n",
    "    except:\n",
    "        print(\"no plane\")\n",
    "    ax_rf_reg[r,c].axis('off')\n",
    "    \n",
    "    \n",
    "file_name = 'RF_regressors_rois.jpg'\n",
    "fig_rf_reg.savefig(path / file_name, dpi=300)\n"
   ]
  },
  {
   "cell_type": "code",
   "execution_count": 299,
   "id": "smaller-keeping",
   "metadata": {},
   "outputs": [
    {
     "data": {
      "application/vnd.jupyter.widget-view+json": {
       "model_id": "2073efd43e7e49c787c5f0fafd1edc2b",
       "version_major": 2,
       "version_minor": 0
      },
      "text/plain": [
       "Canvas(toolbar=Toolbar(toolitems=[('Home', 'Reset original view', 'home', 'home'), ('Back', 'Back to previous …"
      ]
     },
     "metadata": {},
     "output_type": "display_data"
    }
   ],
   "source": [
    "fig_regs2, ax_regs2 = plt.subplots(1, 1, figsize=(8, 8))\n",
    "\n",
    "for i in range(n_options):\n",
    "    ax_regs2.plot(regs_conv[i] + (i * 20), c='royalblue')\n",
    "    \n",
    "    max_corr = np.nanmax(regs_vals[i])\n",
    "    max_ind = np.argmax(regs_vals[i])\n",
    "    \n",
    "    ax_regs2.plot(traces[max_ind] + (i * 20), c='skyblue')\n",
    "\n",
    "ax_regs2.set_xlim(0, len_rec)    \n",
    "ax_regs2.axis('off')\n",
    "\n",
    "file_name = 'RF_regressors_and_maxcorr_traces.jpg'\n",
    "fig_regs2.savefig(path / file_name, dpi=300)\n",
    "\n",
    "    \n",
    "    "
   ]
  },
  {
   "cell_type": "code",
   "execution_count": null,
   "id": "complex-thickness",
   "metadata": {},
   "outputs": [],
   "source": []
  },
  {
   "cell_type": "code",
   "execution_count": null,
   "id": "mechanical-boulder",
   "metadata": {},
   "outputs": [],
   "source": []
  },
  {
   "cell_type": "code",
   "execution_count": null,
   "id": "cognitive-knitting",
   "metadata": {},
   "outputs": [],
   "source": []
  },
  {
   "cell_type": "code",
   "execution_count": null,
   "id": "crucial-praise",
   "metadata": {},
   "outputs": [],
   "source": []
  },
  {
   "cell_type": "code",
   "execution_count": null,
   "id": "global-component",
   "metadata": {},
   "outputs": [],
   "source": [
    "mot_reg = fl.load(path / 'motor_regressors.h5')"
   ]
  },
  {
   "cell_type": "code",
   "execution_count": null,
   "id": "individual-validity",
   "metadata": {},
   "outputs": [],
   "source": [
    "mot_reg"
   ]
  },
  {
   "cell_type": "code",
   "execution_count": null,
   "id": "excellent-consensus",
   "metadata": {},
   "outputs": [],
   "source": []
  },
  {
   "cell_type": "code",
   "execution_count": null,
   "id": "labeled-ferry",
   "metadata": {},
   "outputs": [],
   "source": [
    "############ Pooling across planes\n",
    "fish = files[0]\n",
    "num_row = 4\n",
    "fig_rf_reg, ax_rf_reg = plt.subplots(num_row, 4, figsize=(7, 8), sharex=True, sharey=True)\n",
    "path = fish / 'suite2p' / '0003'\n",
    "suite2p_data = fl.load(path / 'data_from_suite2p_cells.h5')\n",
    "anat = np.rot90(suite2p_data[\"anatomy_stack\"][0], 1)\n",
    "    \n",
    "for i in range(16):\n",
    "    r = i // num_row\n",
    "    c = np.mod(i, num_row)\n",
    "\n",
    "    ax_rf_reg[r,c].imshow(anat, cmap='gray_r')\n",
    "\n",
    "                                          \n",
    "dataset_path = fish / 'original'\n",
    "with open(dataset_path / \"stack_metadata.json\") as f:\n",
    "        stack_metadata = json.load(f)\n",
    "num_planes = stack_metadata[\"shape_full\"][1]\n",
    "\n",
    "for plane in range(num_planes):\n",
    "    \n",
    "    try:\n",
    "        plane_name = '000' + str(plane)\n",
    "        path = fish / 'suite2p' / plane_name\n",
    "        print(path)\n",
    "\n",
    "        # loading suite2p data:\n",
    "        suite2p_data = fl.load(path / 'data_from_suite2p_cells.h5')\n",
    "    except:\n",
    "        plane_name = '00' + str(plane)\n",
    "        path = fish / 'suite2p' / plane_name\n",
    "        print(path)\n",
    "\n",
    "        # loading suite2p data:\n",
    "        suite2p_data = fl.load(path / 'data_from_suite2p_cells.h5')\n",
    "    coords = suite2p_data[\"coords\"]\n",
    "    traces = suite2p_data[\"traces\"]\n",
    "\n",
    "    # normalizing traces:\n",
    "    traces = traces.T\n",
    "    traces = ((traces - traces.mean(0)) / traces.std(0))\n",
    "    traces = traces.T\n",
    "    \n",
    "    # Getting stimulus information\n",
    "    metadata_file = list(path.glob(\"*_metadata.json\"))[0]\n",
    "\n",
    "    with open(str(metadata_file), \"r\") as f:\n",
    "         metadata = json.load(f)\n",
    "\n",
    "    stim = metadata[\"stimulus\"][\"log\"]\n",
    "    \n",
    "    fs = int(metadata['imaging']['microscope_config']['scanning']['framerate'])\n",
    "\n",
    "    pause_duration = stim[0]['duration'] * fs\n",
    "    stim_duration = stim[1]['duration'] * fs\n",
    "    \n",
    "    n_options = 16\n",
    "    n_rep = [metadata['stimulus']['protocol']['receptive_fields']['v02_square_flashes']['n_trials']][0]\n",
    "    n_trials = (n_options * n_rep) \n",
    "    position_list = np.zeros((n_trials, 4))\n",
    "    for_regs = np.zeros((16, n_trials * 2 + 1))\n",
    "\n",
    "    len_rec = np.shape(traces)[1]\n",
    "    regs = np.zeros((16, len_rec))\n",
    "    t1 = pause_duration\n",
    "\n",
    "    for i in range(1, n_trials * 2, 2):\n",
    "        curr_trial = stim[i]['clip_mask']\n",
    "        position_list[(i//2) - 1, :] = curr_trial\n",
    "\n",
    "        for j in range(16):\n",
    "            if curr_trial == choices[j]:\n",
    "                for_regs[j, i-1] = 1\n",
    "                regs[j, t1:(t1 + stim_duration)] = 1\n",
    "\n",
    "        t1 = t1 + stim_duration + pause_duration \n",
    "    \n",
    "    dt_imaging = 1 / fs\n",
    "    int_fact = 200\n",
    "    t_imaging = np.arange(traces.shape[1])/fs\n",
    "    num_traces, len_rec = np.shape(traces)\n",
    "\n",
    "    tau_fs = REGRESSOR_TAU_S * fs\n",
    "    kernel = np.exp(-np.arange(1000) / tau_fs)\n",
    "    t_imaging_int = np.arange(traces.shape[1]*int_fact)*dt_imaging/int_fact\n",
    "    \n",
    "    regs_conv = np.zeros((16, len_rec))\n",
    "    regs_vals = np.zeros((16, num_traces))\n",
    "\n",
    "    for i in range(16):\n",
    "        regs_conv[i] = np.convolve(regs[i], kernel)[:np.shape(traces)[1]]\n",
    "\n",
    "        tmp_reg_vals = np.dot(traces, regs_conv[i]) - num_traces * np.mean(traces, 1) * np.mean(regs_conv[i])\n",
    "        tmp_reg_vals /= (traces.shape[1] - 1) * np.std(traces, 1) * np.std(regs_conv[i])\n",
    "        regs_vals[i] = tmp_reg_vals\n",
    "    \n",
    "\n",
    "    for i in range(16):\n",
    "        r = i // num_row\n",
    "        c = np.mod(i, num_row)\n",
    "        \n",
    "        selected_coords = np.where(abs(regs_vals[i]) > 0.1)[0]\n",
    "        try:\n",
    "            ax_rf_reg[r,c].scatter(coords[selected_coords, 1], coords[selected_coords, 2], c=regs_vals[i, selected_coords], cmap='coolwarm', s=2, vmin=-1, vmax=1)#, alpha=0.7)\n",
    "            ax_rf_reg[r,c].set_title('RF' + str(i))\n",
    "        except:\n",
    "            print(\"no plane\")\n",
    "        ax_rf_reg[r,c].axis('off')\n",
    "        \n",
    "    \n",
    "    \n",
    "file_name = 'RF_regressors_rois_all_planes_01.jpg'\n",
    "fig_rf_reg.savefig(fish / file_name, dpi=300)\n"
   ]
  },
  {
   "cell_type": "code",
   "execution_count": null,
   "id": "handled-illinois",
   "metadata": {},
   "outputs": [],
   "source": []
  }
 ],
 "metadata": {
  "kernelspec": {
   "display_name": "Python 3",
   "language": "python",
   "name": "python3"
  },
  "language_info": {
   "codemirror_mode": {
    "name": "ipython",
    "version": 3
   },
   "file_extension": ".py",
   "mimetype": "text/x-python",
   "name": "python",
   "nbconvert_exporter": "python",
   "pygments_lexer": "ipython3",
   "version": "3.7.10"
  }
 },
 "nbformat": 4,
 "nbformat_minor": 5
}
