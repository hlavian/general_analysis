{
 "cells": [
  {
   "cell_type": "code",
   "execution_count": 1,
   "id": "interested-donna",
   "metadata": {},
   "outputs": [],
   "source": [
    "%matplotlib widget\n",
    "\n",
    "from pathlib import Path\n",
    "import numpy as np\n",
    "import flammkuchen as fl\n",
    "import pandas as pd\n",
    "\n",
    "import skimage as sk\n",
    "import json\n",
    "\n",
    "from split_dataset import SplitDataset\n",
    "from bouterin.plots.stimulus_log_plot import get_paint_function\n",
    "from scipy.cluster.hierarchy import dendrogram, linkage, cut_tree, to_tree, set_link_color_palette\n",
    "from sklearn.cluster import AgglomerativeClustering\n",
    "from fimpylab.core.lightsheet_experiment import LightsheetExperiment\n",
    "\n",
    "from bouter.utilities import reliability \n",
    "from skimage.filters import threshold_otsu\n",
    "import xarray as xr\n",
    "\n",
    "from matplotlib import  pyplot as plt\n",
    "import seaborn as sns\n",
    "from tqdm import tqdm\n",
    "sns.set(style=\"ticks\", palette=\"deep\")\n",
    "cols = sns.color_palette()\n",
    "import ipywidgets as widgets\n",
    "\n",
    "from lotr.pca import pca_and_phase, fictive_heading_and_fit, fit_phase_neurons\n",
    "from circle_fit import hyper_fit\n",
    "from lotr import LotrExperiment, A_FISH\n",
    "\n",
    "import lotr.plotting as pltltr\n",
    "COLS = pltltr.COLS\n",
    "\n",
    "from lotr.utils import roll_columns_jit\n",
    "\n",
    "from general_analysis.helper_functions_behavior.tail_functions import nan_phase_jumps"
   ]
  },
  {
   "cell_type": "code",
   "execution_count": 2,
   "id": "painted-figure",
   "metadata": {},
   "outputs": [],
   "source": [
    "def nan_phase_jumps(phase_array):\n",
    "    out_array = phase_array.copy()\n",
    "    out_array[1:][np.abs(np.diff(out_array)) > np.pi] = np.nan\n",
    "    return out_array"
   ]
  },
  {
   "cell_type": "code",
   "execution_count": 76,
   "id": "conceptual-timeline",
   "metadata": {},
   "outputs": [],
   "source": [
    "master = Path(r\"Z:\\Hagar\\E0040\\2p ablations\\2p ablations near ipn\")\n",
    "fish_list = list(master.glob(\"*_v21*\"))\n",
    "path = fish_list[5]\n",
    "\n",
    "traces = fl.load(path / \"filtered_traces.h5\", \"/detr\")\n",
    "traces_full = fl.load(path / \"filtered_traces.h5\", \"/detr\")\n",
    "selected = fl.load(path / \"selected2.h5\")\n",
    "traces_hdn = traces_full[:, selected]\n",
    "\n",
    "suite2p_data = fl.load(path / \"data_from_suite2p_unfiltered.h5\")\n",
    "roi_map = suite2p_data['rois_stack']\n",
    "coords = suite2p_data['coords']\n",
    "anatomy = suite2p_data['anatomy_stack']\n",
    "\n",
    "df = fl.load(path / \"bouts_df.h5\")# exp.get_bout_properties()\n",
    "exp = LotrExperiment(path)\n",
    "fs = int(exp.fn)\n",
    "beh_df = exp.behavior_log\n",
    "\n",
    "t_start_s = 50\n",
    "t_lims = (t_start_s*exp.fn, exp.n_pts//2)\n",
    "t_slice = slice(*t_lims)"
   ]
  },
  {
   "cell_type": "code",
   "execution_count": 77,
   "id": "ruled-father",
   "metadata": {},
   "outputs": [],
   "source": [
    "pca_scores, angles, _, _ = pca_and_phase(traces[t_slice, selected].T, traces[t_slice, selected].T)\n",
    "pcaed, phase, _, _ = pca_and_phase(traces[t_slice, selected], traces[:, selected])"
   ]
  },
  {
   "cell_type": "code",
   "execution_count": 78,
   "id": "healthy-porcelain",
   "metadata": {},
   "outputs": [],
   "source": [
    "unwrapped_phase = np.unwrap(phase)\n",
    "traj, params = fictive_heading_and_fit(unwrapped_phase, df, min_bias=0.1) \n",
    "\n",
    "exp = LotrExperiment(path)\n",
    "coords = exp.coords_um[selected, 1:]\n",
    "\n",
    "sort_idxs = np.argsort(exp.rpc_angles)\n",
    "phase_shifts = (exp.network_phase / (2 * np.pi)) * (exp.n_hdns - 1)"
   ]
  },
  {
   "cell_type": "code",
   "execution_count": 79,
   "id": "fewer-spare",
   "metadata": {},
   "outputs": [
    {
     "name": "stdout",
     "output_type": "stream",
     "text": [
      "num_traces:  1955\n",
      "len_rec:  7200\n",
      "sampling rate:  3\n"
     ]
    }
   ],
   "source": [
    "t = np.arange(np.shape(traces)[1]) / fs\n",
    "len_rec, num_traces = np.shape(traces)\n",
    "print(\"num_traces: \", num_traces)\n",
    "print(\"len_rec: \", len_rec)\n",
    "print(\"sampling rate: \", fs)"
   ]
  },
  {
   "cell_type": "code",
   "execution_count": 80,
   "id": "academic-negative",
   "metadata": {},
   "outputs": [
    {
     "data": {
      "application/vnd.jupyter.widget-view+json": {
       "model_id": "f70a39eff63943188cbcc11abdf048f4",
       "version_major": 2,
       "version_minor": 0
      },
      "text/plain": [
       "Canvas(toolbar=Toolbar(toolitems=[('Home', 'Reset original view', 'home', 'home'), ('Back', 'Back to previous …"
      ]
     },
     "metadata": {},
     "output_type": "display_data"
    },
    {
     "data": {
      "text/plain": [
       "(0.0, 2400.0)"
      ]
     },
     "execution_count": 80,
     "metadata": {},
     "output_type": "execute_result"
    }
   ],
   "source": [
    "# figure 1 - HDN neurons\n",
    "xlim1 = 0\n",
    "xlim2 = len_rec // exp.fs #//2\n",
    "fig_hdn, ax_hdn = plt.subplots(2, 2, figsize=(8, 3), gridspec_kw={'width_ratios': [1, 2], 'height_ratios': [1, 6]}) \n",
    "\n",
    "############ Anatomy plot of HDNs:\n",
    "for i in range(2):\n",
    "    for j in range(2):\n",
    "        ax_hdn[i,j].axis('off')\n",
    "\n",
    "anatomy_layer = np.mean(anatomy, axis=0)\n",
    "anatomy_layer = np.rot90(anatomy_layer, k=2, axes=(1, 0))\n",
    "colored_rois = exp.color_rois_by(np.ones(len(selected))*5, indexes=selected, color_scheme='rainbow')\n",
    "colored_rois = exp.color_rois_by(angles, indexes=selected, color_scheme=COLS[\"phase\"])\n",
    "ax_hdn[1, 0].imshow(anatomy_layer, extent=exp.plane_ext_um, origin=\"upper\", cmap='gray_r')\n",
    "\n",
    "ax_hdn[1, 0].imshow(np.rot90(colored_rois.max(0), 3), extent=exp.plane_ext_um, origin=\"lower\", alpha=1)\n",
    "pltltr.add_anatomy_scalebar(ax_hdn[1, 0], pos=(-10,-10))\n",
    "\n",
    "############ Tail:\n",
    "t_beh = np.asarray(beh_df[\"t\"])\n",
    "t_beh[-1]\n",
    "ax_hdn[0, 1].plot(t_beh, beh_df[\"tail_sum\"], color=cols[7], label='Tail', rasterized=True)\n",
    "ax_hdn[0, 1].legend(loc=2, bbox_to_anchor=(0.8, 2), fontsize=7)\n",
    "ax_hdn[0, 1].set_aspect('auto')\n",
    "ax_hdn[0, 1].set_xlim(xlim1, xlim2)\n",
    "\n",
    "############ Sorted traces:\n",
    "N_BINS_RESAMPLED = 100\n",
    "resampling_base = np.linspace(-np.pi, np.pi, N_BINS_RESAMPLED)\n",
    "angle_resampled_traces = np.zeros((exp.n_pts, N_BINS_RESAMPLED))\n",
    "for i in range(exp.n_pts):\n",
    "    angle_resampled_traces[i, :] = np.interp(\n",
    "        resampling_base,\n",
    "        exp.rpc_angles[sort_idxs],\n",
    "        exp.traces[i, exp.hdn_indexes[sort_idxs]],\n",
    "    )\n",
    "\n",
    "phase_shifts_resamp = (exp.network_phase / (2 * np.pi)) * (N_BINS_RESAMPLED - 1)\n",
    "shifted_traces_resamp = roll_columns_jit(\n",
    "    angle_resampled_traces, -np.round(phase_shifts_resamp)\n",
    ")\n",
    "\n",
    "ax = ax_hdn[1, 1]\n",
    "im = ax.imshow(\n",
    "    angle_resampled_traces.T,\n",
    "    extent=[0, exp.time_arr[-1], -np.pi, np.pi],\n",
    "    aspect=\"auto\",\n",
    "    cmap=COLS[\"dff_plot\"],\n",
    "    vmin=-1.7,\n",
    "    vmax=2.0,\n",
    ")\n",
    "\n",
    "pltltr.add_dff_cbar(\n",
    "    im,\n",
    "    ax,\n",
    "    (1.07, 0.04, 0.03, 0.5),\n",
    "    title=\"ΔF (Z.)\",\n",
    "    titlesize=6,\n",
    "    labelsize=5,\n",
    "    ticklabels=None,\n",
    ")\n",
    "\n",
    "pltltr.despine(ax, [\"left\", \"right\", \"top\", \"bottom\"])\n",
    "ax.set(ylabel=\"ROI angle\", **pltltr.get_pi_labels(0.5, ax=\"y\"))\n",
    "\n",
    "line = nan_phase_jumps(phase_shifts) + exp.n_hdns / 3\n",
    "line = line - np.nanmin(line)\n",
    "line /=(np.nanmax(line))\n",
    "line *= np.pi * 2\n",
    "line -= np.pi\n",
    "\n",
    "t_line = np.arange(0, np.shape(line)[0]) / 3\n",
    "ax.plot(t_line, line, lw=1, c=cols[2], label=\"Network phase\")\n",
    "ax.legend(loc=2, bbox_to_anchor=(0.65, 1.15), fontsize=7)\n",
    "ax.set_xlim(xlim1, xlim2)\n"
   ]
  },
  {
   "cell_type": "code",
   "execution_count": 82,
   "id": "automotive-spencer",
   "metadata": {},
   "outputs": [],
   "source": [
    "file_name = path / \"HDN_sorted_e0040_v21 phase color2.jpg\"\n",
    "fig_hdn.savefig(file_name, dpi=300)"
   ]
  },
  {
   "cell_type": "code",
   "execution_count": null,
   "id": "awful-venezuela",
   "metadata": {},
   "outputs": [],
   "source": [
    "######################### Part 2 - looking for neurons that reliably respond to the visual stimulus\n",
    "# selectnig reliable neruons \n",
    "n_blocks = 4\n",
    "norm_traces = traces.T\n",
    "stim_traces = norm_traces[:, ((len_rec // 2)):]\n",
    "new_len_rec = len_rec // (2 * n_blocks)\n",
    "print(np.shape(stim_traces))\n",
    "\n",
    "trial_traces = np.zeros((n_blocks, num_traces, new_len_rec))\n",
    "trial_traces = np.zeros((num_traces, n_blocks, new_len_rec))\n",
    "trial_traces_corrected = np.zeros((num_traces, n_blocks, new_len_rec))\n",
    "\n",
    "for i in range(n_blocks):\n",
    "    t1 = i * new_len_rec\n",
    "    t2 = t1 + new_len_rec\n",
    "    trial_traces[:, i] = stim_traces[:, t1:t2]\n"
   ]
  },
  {
   "cell_type": "code",
   "execution_count": null,
   "id": "constitutional-scale",
   "metadata": {},
   "outputs": [],
   "source": [
    "dt = 0.33\n",
    "traces_xr = xr.DataArray(\n",
    "    data=trial_traces,                               #Adding the data\n",
    "    dims=['roi', 'block', 't'],                #Defining name of the dimensions\n",
    "    coords={                                   #Defining values at which each dimension wase valuated\n",
    "        'roi':np.arange(trial_traces.shape[0]), \n",
    "        'block':np.arange(n_blocks),\n",
    "        't':np.arange(trial_traces.shape[2])*dt\n",
    "        }\n",
    "    )\n",
    "reliability_arr = reliability(np.swapaxes(traces_xr, 0, 2).values)\n",
    "rel_thresh = threshold_otsu(reliability_arr)\n",
    "print(\"Reliability threshold: \", rel_thresh)\n",
    "\n",
    "rel_thresh_3 = np.round(rel_thresh * 1000)\n",
    "rel_thresh_3 /=1000\n",
    "\n"
   ]
  },
  {
   "cell_type": "code",
   "execution_count": null,
   "id": "logical-collect",
   "metadata": {},
   "outputs": [],
   "source": [
    "# figure 2 - visual responses\n",
    "xlim1 = 0\n",
    "xlim2 = len_rec\n",
    "fig_vis, ax_vis = plt.subplots(2, 2, figsize=(6, 3), gridspec_kw={'width_ratios': [1, 2], 'height_ratios': [1, 6]}) \n",
    "\n",
    "############ Anatomy plot of Visually responsive neurons:\n",
    "\n",
    "for i in range(2):\n",
    "    for j in range(2):\n",
    "        ax_vis[i,j].axis('off')\n",
    "    \n",
    "anatomy_layer = np.sum(anatomy, axis=0)\n",
    "anatomy_layer = np.rot90(anatomy_layer, k=3, axes=(1, 0))\n",
    "ax_vis[1, 0].imshow(anatomy_layer, extent=exp.plane_ext_um, origin=\"upper\", cmap='gray_r')#, vmin=9, vmax=100)\n",
    "colored_rois = exp.color_rois_by(np.ones(len(selected))*5, indexes=selected, color_scheme='rainbow')\n",
    "pltltr.add_anatomy_scalebar(ax_hdn[1, 0], pos=(-10,-10))\n",
    "\n",
    "############ Visual stimulus:\n",
    "ax_vis[0, 1].set_xlim(xlim1, xlim2)\n",
    "\n",
    "stimulus_log = exp.stimulus_log\n",
    "stim_value, t_values = get_paint_function(stimulus_log, 'E0040_motions_cardinal')\n",
    "stim_value = stim_value / 255\n",
    "num_stim = np.shape(stim_value)[0]\n",
    "\n",
    "t_values *= fs\n",
    "for i in range(num_stim):\n",
    "    ax_vis[0, 1].axvspan(\n",
    "        t_values[i, 0],\n",
    "        t_values[i, 1],\n",
    "        facecolor=[\n",
    "            stim_value[i, 0],\n",
    "            stim_value[i, 1],\n",
    "            stim_value[i, 2],\n",
    "        ],\n",
    "        alpha=0.7,\n",
    "    )\n",
    "    \n",
    "############ Traces (only visually responsive taces):\n",
    "tmp_traces = traces.T\n",
    "rel_ind = np.where(reliability_arr > rel_thresh_3)[0]\n",
    "vis_traces = tmp_traces[rel_ind, :]\n",
    "im = ax_vis[1,1].imshow(\n",
    "    vis_traces,\n",
    "    extent=[0, exp.time_arr[-1], -np.pi, np.pi],\n",
    "    aspect=\"auto\",\n",
    "    cmap=COLS[\"dff_plot\"],\n",
    "    vmin=-1.7,\n",
    "    vmax=2.0,\n",
    ")"
   ]
  },
  {
   "cell_type": "code",
   "execution_count": null,
   "id": "seasonal-armenia",
   "metadata": {},
   "outputs": [],
   "source": [
    "file_name = path / \"vis_neurons_e0040_v13.jpg\"\n",
    "fig_vis.savefig(file_name, dpi=300)"
   ]
  },
  {
   "cell_type": "code",
   "execution_count": null,
   "id": "agreed-jason",
   "metadata": {},
   "outputs": [],
   "source": []
  }
 ],
 "metadata": {
  "kernelspec": {
   "display_name": "Python 3",
   "language": "python",
   "name": "python3"
  },
  "language_info": {
   "codemirror_mode": {
    "name": "ipython",
    "version": 3
   },
   "file_extension": ".py",
   "mimetype": "text/x-python",
   "name": "python",
   "nbconvert_exporter": "python",
   "pygments_lexer": "ipython3",
   "version": "3.7.10"
  }
 },
 "nbformat": 4,
 "nbformat_minor": 5
}
