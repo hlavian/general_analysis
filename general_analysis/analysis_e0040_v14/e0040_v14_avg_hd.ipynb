{
 "cells": [
  {
   "cell_type": "code",
   "execution_count": null,
   "metadata": {},
   "outputs": [],
   "source": [
    "import matplotlib\n",
    "%matplotlib widget\n",
    "import matplotlib.pyplot as plt\n",
    "import h5py\n",
    "import numpy as nps\n",
    "from pathlib import Path\n",
    "import skimage as sk\n",
    "from skimage import io as skio\n",
    "import json\n",
    "import pandas as pd\n",
    "\n",
    "import flammkuchen as fl\n",
    "from split_dataset import SplitDataset\n",
    "from bouterin.plots.stimulus_log_plot import get_paint_function\n",
    "from fimpylab.core.twop_experiment import TwoPExperiment\n"
   ]
  },
  {
   "cell_type": "code",
   "execution_count": null,
   "metadata": {},
   "outputs": [],
   "source": [
    "master = Path(r\"\\\\Funes\\Shared\\experiments\\E0040_motions_cardinal\\v13_cw_ccw\\2p\\rf\")\n",
    "fish_list = list(master.glob(\"*f[0-9]*\"))\n",
    "num_fish = len(fish_list)\n",
    "fish_dir = fish_list[2]\n",
    "print(fish_dir)"
   ]
  },
  {
   "cell_type": "code",
   "execution_count": null,
   "metadata": {},
   "outputs": [],
   "source": [
    "# load traces:\n",
    "traces = fl.load(fish_dir / \"traces.h5\")['traces'][:, 0:-2]\n",
    "fs = 3\n",
    "t = np.arange(np.shape(traces)[1]) / fs\n",
    "num_traces, len_rec = np.shape(traces)\n",
    "print(\"num_traces: \", num_traces)\n",
    "print(\"len_rec: \", len_rec)\n",
    "new_len_rec = int(len_rec/3)"
   ]
  },
  {
   "cell_type": "code",
   "execution_count": null,
   "metadata": {},
   "outputs": [],
   "source": [
    "norm_traces = np.copy(traces)\n",
    "norm_traces=norm_traces.T# need to transpose it since the functions work like that \n",
    "sd=np.nanstd(norm_traces)\n",
    "mean=np.nanmean(norm_traces)\n",
    "norm_traces=norm_traces-mean #numerator in the formula for z-score \n",
    "norm_traces=norm_traces/sd\n",
    "norm_traces=norm_traces.T"
   ]
  },
  {
   "cell_type": "code",
   "execution_count": null,
   "metadata": {},
   "outputs": [],
   "source": [
    "trial_traces = np.zeros((3, num_traces, new_len_rec))\n",
    "for i in range(3):\n",
    "    t1 = i * new_len_rec\n",
    "    t2 = t1 + new_len_rec\n",
    "    trial_traces[i] = traces[:, t1:t2]\n",
    "avg_traces = np.nanmean(trial_traces, 0)"
   ]
  },
  {
   "cell_type": "code",
   "execution_count": null,
   "metadata": {},
   "outputs": [],
   "source": [
    "exp = TwoPExperiment(path=fish_dir)\n",
    "num_subtrials = 16\n",
    "num_rep = 3\n",
    "num_trials = num_rep * num_subtrials\n",
    "\n",
    "stimulus_log = exp.load_session_log(log_name='stimulus_log', session_idx=0)\n",
    "stim_value, t_values = get_paint_function(stimulus_log, 'E0040_motions_cardinal')\n",
    "stim_value = stim_value / 255\n",
    "num_stim = np.shape(stim_value)[0]"
   ]
  },
  {
   "cell_type": "code",
   "execution_count": null,
   "metadata": {},
   "outputs": [],
   "source": [
    "# Rois\n",
    "rois = fl.load(fish_dir / \"merged_rois.h5\")[\"stack\"][:,:,:]"
   ]
  },
  {
   "cell_type": "code",
   "execution_count": null,
   "metadata": {},
   "outputs": [],
   "source": []
  },
  {
   "cell_type": "code",
   "execution_count": null,
   "metadata": {},
   "outputs": [],
   "source": []
  },
  {
   "cell_type": "code",
   "execution_count": null,
   "metadata": {},
   "outputs": [],
   "source": [
    "from skimage import color\n",
    "import numpy as np\n",
    "from matplotlib import pyplot as plt\n",
    "from scipy.cluster.hierarchy import dendrogram, cut_tree, set_link_color_palette\n",
    "#import seaborn as sns\n",
    "from matplotlib.colors import LinearSegmentedColormap\n",
    "from matplotlib import cm"
   ]
  },
  {
   "cell_type": "markdown",
   "metadata": {},
   "source": [
    "### Create a figure of all ROIs colored by cluster:"
   ]
  },
  {
   "cell_type": "code",
   "execution_count": null,
   "metadata": {},
   "outputs": [],
   "source": [
    "### getting the indices for each fish:\n",
    "print(num_fish)\n",
    "num_rois = np.zeros(num_fish)\n",
    "for i in range(num_fish):\n",
    "    f = master / fish_list[i]\n",
    "    dir_traces = f / \"traces.h5\"\n",
    "    traces = fl.load(dir_traces)['traces']\n",
    "    num_traces = np.shape(traces)[0]\n",
    "    num_rois[i] = num_traces // 1\n",
    "    print(num_rois)"
   ]
  },
  {
   "cell_type": "code",
   "execution_count": null,
   "metadata": {},
   "outputs": [],
   "source": [
    "num_rois = num_rois.astype(int)"
   ]
  },
  {
   "cell_type": "code",
   "execution_count": null,
   "metadata": {},
   "outputs": [],
   "source": [
    "roi_map = np.copy(rois)\n",
    "\n",
    "roi_map_clustered = np.zeros_like(roi_map)\n",
    "for i in range(0, num_rois[current_fish]):\n",
    "    roi_map_clustered[np.where(roi_map == (i + 1))] = labels_fish[i] + 1\n"
   ]
  },
  {
   "cell_type": "code",
   "execution_count": null,
   "metadata": {},
   "outputs": [],
   "source": [
    "fig1, ax1 = plt.subplots(3, 4, figsize=(12, 12))\n",
    "\n",
    "color_list = [\"lightblue\", \"lightcoral\", \"orange\", \"springgreen\", \"deepskyblue\", \"mediumpurple\",\"gold\", \"cyan\", \"crimson\", \"deeppink\", \"lawngreen\", \"darkviolet\"][0:n_clust]\n",
    "color_list = [\"#ff5c67\", \"#af0006\", \"#ffa468\", \"#8c5f00\", \"#e4a400\", \"#d5c86f\", \"#939400\", \"#a7d380\", \"#138b00\", \"#42e087\", \"#00a86d\", \"#81c7a8\", \"#019a82\", \"#1eaaff\", \"#0268bb\", \"#5951d7\", \"#6b4570\", \"#ad20aa\", \"#ffa1e2\", \"#ff4a94\"][0:n_clust]\n",
    "color_list = [\"#cc566a\", \"#cd6c39\", \"#a39440\", \"#64ac48\", \"#4aac8d\", \"#688bcd\", \"#8562cc\", \"#c361aa\"]\n",
    "cm_roi = LinearSegmentedColormap.from_list(\"my_list\", color_list, N=n_clust)\n",
    "\n",
    "num_planes= np.shape(roi_map)[0]\n",
    "for i in range(num_planes):\n",
    "    r = i // 4\n",
    "    c = np.mod(i, 4)\n",
    "    \n",
    "    roi_layer = roi_map_clustered[i]\n",
    "    roi_layer[0, 1:(n_clust+1)] = [1, 2, 3, 4, 5, 6, 7, 8, 9, 10, 11, 12, 13, 14, 15, 16, 17, 18, 19, 20][0:n_clust]\n",
    "    roi_layer = np.ma.masked_where(roi_layer < 1, roi_layer)\n",
    "    roi_layer = np.rot90(roi_layer, k=1, axes=(1, 0))\n",
    "\n",
    "    ax1[r, c].imshow(roi_layer, cmap=cm_roi)#rainbow\")\n",
    "    ax1[r, c].axis('off')\n",
    "    ax1[r, c].set_title('z' + str(i))\n",
    "    #print(roi_layer)\n",
    "\n",
    "    \n",
    "plt.show()\n",
    "file_name = 'clusters_hrc_rois_210611_k' + str(n_clust) + '_2.jpg'\n",
    "fig1.savefig(str(fish_dir/file_name))"
   ]
  },
  {
   "cell_type": "code",
   "execution_count": null,
   "metadata": {},
   "outputs": [],
   "source": []
  },
  {
   "cell_type": "code",
   "execution_count": null,
   "metadata": {},
   "outputs": [],
   "source": []
  }
 ],
 "metadata": {
  "kernelspec": {
   "display_name": "Python 3 (ipykernel)",
   "language": "python",
   "name": "python3"
  },
  "language_info": {
   "codemirror_mode": {
    "name": "ipython",
    "version": 3
   },
   "file_extension": ".py",
   "mimetype": "text/x-python",
   "name": "python",
   "nbconvert_exporter": "python",
   "pygments_lexer": "ipython3",
   "version": "3.7.10"
  }
 },
 "nbformat": 4,
 "nbformat_minor": 4
}
