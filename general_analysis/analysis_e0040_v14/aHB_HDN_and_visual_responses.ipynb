{
 "cells": [
  {
   "cell_type": "code",
   "execution_count": 1,
   "id": "dynamic-stylus",
   "metadata": {},
   "outputs": [],
   "source": [
    "%matplotlib widget"
   ]
  },
  {
   "cell_type": "code",
   "execution_count": 2,
   "id": "common-noise",
   "metadata": {},
   "outputs": [],
   "source": [
    "from pathlib import Path\n",
    "import numpy as np\n",
    "import flammkuchen as fl\n",
    "import pandas as pd\n",
    "import tifffile as tiff\n",
    "\n",
    "from fimpylab import LightsheetExperiment\n",
    "\n",
    "import matplotlib.pyplot as plt\n",
    "import seaborn as sns\n",
    "from tqdm import tqdm\n",
    "sns.set(style=\"ticks\", palette=\"deep\")\n",
    "cols = sns.color_palette()\n",
    "import ipywidgets as widgets\n",
    "\n",
    "from lotr.utils import zscore\n",
    "from lotr.pca import pca_and_phase, get_fictive_heading, fictive_heading_and_fit, \\\n",
    "        fit_phase_neurons,qap_sorting_and_phase\n",
    "from circle_fit import hyper_fit\n",
    "from lotr.experiment_class import LotrExperiment\n",
    "import json\n",
    "\n",
    "from lotr.plotting.color_utils import get_n_colors\n",
    "from scipy.interpolate import interp1d\n",
    "from scipy import signal"
   ]
  },
  {
   "cell_type": "code",
   "execution_count": 3,
   "id": "pacific-single",
   "metadata": {},
   "outputs": [],
   "source": [
    "def exp_decay_kernel(tau, dt, len_rec):\n",
    "    upsample = 10\n",
    "    t = np.arange(len_rec * upsample) * dt / upsample\n",
    "    \n",
    "    decay = np.exp(-t / tau)\n",
    "    decay /= np.sum(decay)\n",
    "    return decay"
   ]
  },
  {
   "cell_type": "code",
   "execution_count": 4,
   "id": "radical-psychiatry",
   "metadata": {},
   "outputs": [
    {
     "name": "stdout",
     "output_type": "stream",
     "text": [
      "\\\\Funes\\Shared\\experiments\\E0071_lotr\\full_ring\\210314_f0\\210314_f0_natmov\n"
     ]
    }
   ],
   "source": [
    "path = Path(r\"\\\\Funes\\Shared\\experiments\\E0071_lotr\\full_ring\\210314_f1\\210314_f1_natmov\")\n",
    "master =  Path(r\"\\\\Funes\\Shared\\experiments\\E0071_lotr\\full_ring\")\n",
    "files = list(master.glob(\"*/*_f*\"))\n",
    "path = files[0] \n",
    "print(path)"
   ]
  },
  {
   "cell_type": "code",
   "execution_count": 5,
   "id": "relative-operation",
   "metadata": {
    "tags": []
   },
   "outputs": [],
   "source": [
    "traces = fl.load(path / \"filtered_traces.h5\", \"/detr\").T\n",
    "try:\n",
    "    selected = fl.load(path / \"selected.h5\")\n",
    "except:\n",
    "    print(\"no selected\")\n",
    "\n",
    "reg_df = fl.load(path / \"motor_regressors.h5\")\n",
    "cc_motor = reg_df[\"all_bias_abs\"].values\n",
    "cc_motor_integr = reg_df[\"all_bias_abs_dfdt\"].values\n",
    "try:\n",
    "    coords = fl.load(path / \"data_from_suite2p_unfiltered.h5\", \"/coords\")\n",
    "    anat = fl.load(path / \"data_from_suite2p_unfiltered.h5\", \"/anatomy_stack\")\n",
    "except:\n",
    "    coords = fl.load(path / \"data_from_suite2p_cells.h5\", \"/coords\")\n",
    "    anat = fl.load(path / \"data_from_suite2p_cells.h5\", \"/anatomy_stack\")\n",
    "\n",
    "df = fl.load(path / \"bouts_df.h5\")# exp.get_bout_properties()\n",
    "exp = LotrExperiment(path)\n",
    "fn = int(exp.fn)\n",
    "beh_df = exp.behavior_log\n",
    "\n",
    "t_start_s = 150\n",
    "t_lims = [150, -50]\n",
    "t_slice = slice(*t_lims)"
   ]
  },
  {
   "cell_type": "code",
   "execution_count": 6,
   "id": "endless-clearance",
   "metadata": {},
   "outputs": [
    {
     "data": {
      "text/plain": [
       "(471, 9900)"
      ]
     },
     "execution_count": 6,
     "metadata": {},
     "output_type": "execute_result"
    }
   ],
   "source": [
    "np.shape(traces)"
   ]
  },
  {
   "cell_type": "code",
   "execution_count": 7,
   "id": "separate-fireplace",
   "metadata": {},
   "outputs": [
    {
     "data": {
      "text/html": [
       "<div>\n",
       "<style scoped>\n",
       "    .dataframe tbody tr th:only-of-type {\n",
       "        vertical-align: middle;\n",
       "    }\n",
       "\n",
       "    .dataframe tbody tr th {\n",
       "        vertical-align: top;\n",
       "    }\n",
       "\n",
       "    .dataframe thead th {\n",
       "        text-align: right;\n",
       "    }\n",
       "</style>\n",
       "<table border=\"1\" class=\"dataframe\">\n",
       "  <thead>\n",
       "    <tr style=\"text-align: right;\">\n",
       "      <th></th>\n",
       "      <th>bg_x</th>\n",
       "      <th>bg_y</th>\n",
       "      <th>bg_theta</th>\n",
       "      <th>bg_current_phase</th>\n",
       "      <th>t</th>\n",
       "    </tr>\n",
       "  </thead>\n",
       "  <tbody>\n",
       "    <tr>\n",
       "      <th>0</th>\n",
       "      <td>227.266079</td>\n",
       "      <td>-102.809200</td>\n",
       "      <td>2.140722</td>\n",
       "      <td>0</td>\n",
       "      <td>80.012243</td>\n",
       "    </tr>\n",
       "    <tr>\n",
       "      <th>1</th>\n",
       "      <td>227.280363</td>\n",
       "      <td>-102.827771</td>\n",
       "      <td>2.146492</td>\n",
       "      <td>6</td>\n",
       "      <td>80.034231</td>\n",
       "    </tr>\n",
       "    <tr>\n",
       "      <th>2</th>\n",
       "      <td>227.290931</td>\n",
       "      <td>-102.833984</td>\n",
       "      <td>2.144406</td>\n",
       "      <td>9</td>\n",
       "      <td>80.051221</td>\n",
       "    </tr>\n",
       "    <tr>\n",
       "      <th>3</th>\n",
       "      <td>227.294517</td>\n",
       "      <td>-102.840270</td>\n",
       "      <td>2.148816</td>\n",
       "      <td>11</td>\n",
       "      <td>80.064214</td>\n",
       "    </tr>\n",
       "    <tr>\n",
       "      <th>4</th>\n",
       "      <td>227.311337</td>\n",
       "      <td>-102.857349</td>\n",
       "      <td>2.148339</td>\n",
       "      <td>14</td>\n",
       "      <td>80.082203</td>\n",
       "    </tr>\n",
       "    <tr>\n",
       "      <th>...</th>\n",
       "      <td>...</td>\n",
       "      <td>...</td>\n",
       "      <td>...</td>\n",
       "      <td>...</td>\n",
       "      <td>...</td>\n",
       "    </tr>\n",
       "    <tr>\n",
       "      <th>112815</th>\n",
       "      <td>227.755157</td>\n",
       "      <td>-119.819555</td>\n",
       "      <td>28.250523</td>\n",
       "      <td>53901</td>\n",
       "      <td>1979.922760</td>\n",
       "    </tr>\n",
       "    <tr>\n",
       "      <th>112816</th>\n",
       "      <td>227.755839</td>\n",
       "      <td>-119.833585</td>\n",
       "      <td>28.248184</td>\n",
       "      <td>53904</td>\n",
       "      <td>1979.936752</td>\n",
       "    </tr>\n",
       "    <tr>\n",
       "      <th>112817</th>\n",
       "      <td>227.754705</td>\n",
       "      <td>-119.842943</td>\n",
       "      <td>28.250142</td>\n",
       "      <td>53907</td>\n",
       "      <td>1979.953050</td>\n",
       "    </tr>\n",
       "    <tr>\n",
       "      <th>112818</th>\n",
       "      <td>227.753325</td>\n",
       "      <td>-119.847854</td>\n",
       "      <td>28.251980</td>\n",
       "      <td>53909</td>\n",
       "      <td>1979.964172</td>\n",
       "    </tr>\n",
       "    <tr>\n",
       "      <th>112819</th>\n",
       "      <td>227.756515</td>\n",
       "      <td>-119.859435</td>\n",
       "      <td>28.248801</td>\n",
       "      <td>53913</td>\n",
       "      <td>1979.984161</td>\n",
       "    </tr>\n",
       "  </tbody>\n",
       "</table>\n",
       "<p>112820 rows × 5 columns</p>\n",
       "</div>"
      ],
      "text/plain": [
       "              bg_x        bg_y   bg_theta  bg_current_phase            t\n",
       "0       227.266079 -102.809200   2.140722                 0    80.012243\n",
       "1       227.280363 -102.827771   2.146492                 6    80.034231\n",
       "2       227.290931 -102.833984   2.144406                 9    80.051221\n",
       "3       227.294517 -102.840270   2.148816                11    80.064214\n",
       "4       227.311337 -102.857349   2.148339                14    80.082203\n",
       "...            ...         ...        ...               ...          ...\n",
       "112815  227.755157 -119.819555  28.250523             53901  1979.922760\n",
       "112816  227.755839 -119.833585  28.248184             53904  1979.936752\n",
       "112817  227.754705 -119.842943  28.250142             53907  1979.953050\n",
       "112818  227.753325 -119.847854  28.251980             53909  1979.964172\n",
       "112819  227.756515 -119.859435  28.248801             53913  1979.984161\n",
       "\n",
       "[112820 rows x 5 columns]"
      ]
     },
     "execution_count": 7,
     "metadata": {},
     "output_type": "execute_result"
    }
   ],
   "source": [
    "stim_log = exp.stimulus_log\n",
    "beh_log = exp.behavior_log\n",
    "stim_log"
   ]
  },
  {
   "cell_type": "code",
   "execution_count": 532,
   "id": "fatty-barbados",
   "metadata": {},
   "outputs": [],
   "source": [
    "try:\n",
    "    theta = np.asarray(stim_log['bg_theta'])\n",
    "except:\n",
    "    theta1 = np.asarray(stim_log['open_loop_theta'])\n",
    "    theta1[np.where(np.isnan(theta1))[0]] = 0\n",
    "    theta2 = np.asarray(stim_log['closed_loop_theta'])\n",
    "    theta2[np.where(np.isnan(theta2))[0]] = 0\n",
    "    theta = theta1 + theta2\n",
    "#theta = np.asarray(stim_log['cl2D_vel'])\n",
    "stim_t = np.asarray(stim_log.t)\n",
    "\n",
    "theta_wrapped = np.mod(theta, np.pi * 2) - np.pi\n",
    "theta_diff = np.zeros_like(theta)\n",
    "theta_diff[1:] = np.diff(theta)\n",
    "theta_diff[theta_diff < -0.5] = 0\n",
    "theta_diff *= 50\n",
    "\n",
    "pos_theta = np.copy(theta_diff)\n",
    "pos_theta[pos_theta < 0] = 0\n",
    "\n",
    "neg_theta = np.copy(theta_diff)\n",
    "neg_theta[neg_theta > 0] = 0\n",
    "\n",
    "theta_off = np.zeros_like(theta)\n",
    "theta_off[1:] = np.diff(theta)"
   ]
  },
  {
   "cell_type": "code",
   "execution_count": 533,
   "id": "empty-tracker",
   "metadata": {},
   "outputs": [
    {
     "data": {
      "application/vnd.jupyter.widget-view+json": {
       "model_id": "044ce4a65c7c4d35ba009afabe7046d0",
       "version_major": 2,
       "version_minor": 0
      },
      "text/plain": [
       "Canvas(toolbar=Toolbar(toolitems=[('Home', 'Reset original view', 'home', 'home'), ('Back', 'Back to previous …"
      ]
     },
     "metadata": {},
     "output_type": "display_data"
    },
    {
     "data": {
      "text/plain": [
       "[<matplotlib.lines.Line2D at 0x25a18241ec8>]"
      ]
     },
     "execution_count": 533,
     "metadata": {},
     "output_type": "execute_result"
    }
   ],
   "source": [
    "fig, ax = plt.subplots(1,1)\n",
    "ax.plot(stim_t, (theta / 5)+ 5)\n",
    "ax.plot(stim_t, theta_wrapped)\n",
    "ax.plot(stim_t, (theta_diff)-10)\n",
    "ax.plot(beh_log.t, beh_log.tail_sum - 30)\n"
   ]
  },
  {
   "cell_type": "code",
   "execution_count": 534,
   "id": "similar-arlington",
   "metadata": {},
   "outputs": [
    {
     "name": "stdout",
     "output_type": "stream",
     "text": [
      "5\n"
     ]
    }
   ],
   "source": [
    "fs = exp.fn\n",
    "print(fs)\n",
    "dt_imaging = 1 / fs\n",
    "int_fact = 200\n",
    "t_imaging = np.arange(traces.shape[1])/fs\n",
    "num_traces, len_rec = np.shape(traces)\n",
    "\n",
    "ca_kernel = exp_decay_kernel(tau=0.8, dt=1/fs, len_rec=len_rec)\n",
    "ca_kernel = ca_kernel[0:500]"
   ]
  },
  {
   "cell_type": "code",
   "execution_count": 535,
   "id": "meaning-triumph",
   "metadata": {},
   "outputs": [],
   "source": [
    "# generating regressors\n",
    "from lotr.default_vals import REGRESSOR_TAU_S, TURN_BIAS\n",
    "\n",
    "tau_fs = REGRESSOR_TAU_S * fn\n",
    "kernel = np.exp(-np.arange(1000) / tau_fs)\n",
    "t_imaging_int = np.arange(traces.shape[1]*int_fact)*dt_imaging/int_fact\n",
    "\n",
    "theta_int = interp1d(stim_log.t, theta, bounds_error=False, fill_value=0)(t_imaging_int)\n",
    "theta_reg = signal.decimate(theta_int, int_fact, ftype=\"fir\")\n",
    "theta_reg_conv = np.convolve(theta_reg, ca_kernel, mode='full') * 2\n",
    "kernel_size = np.shape(ca_kernel)[0] - 1\n",
    "theta_reg_conv = theta_reg_conv[0:-kernel_size]\n",
    "\n",
    "theta_wrp_int = interp1d(stim_log.t, theta_wrapped, bounds_error=False, fill_value=0)(t_imaging_int)\n",
    "theta_wrp_reg = signal.decimate(theta_wrp_int, int_fact, ftype=\"fir\")\n",
    "theta_wrp_conv = np.convolve(theta_wrp_reg, ca_kernel, mode='full') * 2\n",
    "theta_wrp_conv = theta_wrp_conv[0:-kernel_size]\n",
    "\n",
    "theta_diff_int = interp1d(stim_log.t, theta_diff, bounds_error=False, fill_value=0)(t_imaging_int)\n",
    "theta_diff_reg = signal.decimate(theta_diff_int, int_fact, ftype=\"fir\")\n",
    "theta_diff_conv = np.convolve(theta_diff_reg, ca_kernel, mode='full') * 2\n",
    "theta_diff_conv = theta_diff_conv[0:-kernel_size]\n",
    "\n",
    "theta_off_int = interp1d(stim_log.t, theta_off, bounds_error=False, fill_value=0)(t_imaging_int)\n",
    "theta_off_reg = signal.decimate(theta_off_int, int_fact, ftype=\"fir\")\n",
    "theta_off_conv = np.convolve(theta_off_reg, ca_kernel, mode='full') * 2\n",
    "theta_off_conv = theta_off_conv[0:-kernel_size]"
   ]
  },
  {
   "cell_type": "code",
   "execution_count": 536,
   "id": "planned-edmonton",
   "metadata": {},
   "outputs": [
    {
     "data": {
      "application/vnd.jupyter.widget-view+json": {
       "model_id": "10822b8d1dbc4f68b786c9197d41aa45",
       "version_major": 2,
       "version_minor": 0
      },
      "text/plain": [
       "Canvas(toolbar=Toolbar(toolitems=[('Home', 'Reset original view', 'home', 'home'), ('Back', 'Back to previous …"
      ]
     },
     "metadata": {},
     "output_type": "display_data"
    },
    {
     "data": {
      "text/plain": [
       "(0.0, 1500.0, 0.0, 500.0)"
      ]
     },
     "execution_count": 536,
     "metadata": {},
     "output_type": "execute_result"
    }
   ],
   "source": [
    "fig, ax = plt.subplots(2,1)\n",
    "stim_t_conv = np.arange(np.shape(theta_reg_conv)[0]) / 5\n",
    "ax[0].plot(stim_t_conv, theta_reg_conv / 5 + 5)\n",
    "ax[0].plot(stim_t_conv, theta_wrp_conv)\n",
    "ax[0].plot(stim_t_conv, theta_diff_conv - 5)\n",
    "ax[0].plot(beh_log.t, beh_log.tail_sum - 15)\n",
    "ax[0].plot(stim_t_conv, traces[15] - 30)\n",
    "ax[0].plot(stim_t_conv, theta_off_conv/5 - 25)\n",
    "ax[0].set_xlim(0, stim_t_conv[-1])\n",
    "\n",
    "ax[1].imshow(traces, vmin=-1, vmax=2, extent=[0, 1500, 0, 500])\n",
    "ax[0].axis('off')\n",
    "ax[1].axis('off')"
   ]
  },
  {
   "cell_type": "code",
   "execution_count": 537,
   "id": "greater-insertion",
   "metadata": {},
   "outputs": [],
   "source": [
    "theta_traces = np.dot(traces, theta_reg_conv) - num_traces * np.mean(traces, 1) * np.mean(theta_reg_conv)\n",
    "theta_traces /= (traces.shape[1] - 1) * np.std(traces, 1) * np.std(theta_reg_conv)\n",
    "\n",
    "theta_wrp_traces = np.dot(traces, theta_wrp_conv) - num_traces * np.mean(traces, 1) * np.mean(theta_wrp_conv)\n",
    "theta_wrp_traces /= (traces.shape[1] - 1) * np.std(traces, 1) * np.std(theta_wrp_conv)\n",
    "\n",
    "theta_diff_traces = np.dot(traces, theta_diff_conv) - num_traces * np.mean(traces, 1) * np.mean(theta_diff_conv)\n",
    "theta_diff_traces /= (traces.shape[1] - 1) * np.std(traces, 1) * np.std(theta_diff_conv)\n",
    "\n",
    "theta_off_traces = np.dot(traces, theta_off_conv) - num_traces * np.mean(traces, 1) * np.mean(theta_diff_conv)\n",
    "theta_off_traces /= (traces.shape[1] - 1) * np.std(traces, 1) * np.std(theta_off_conv)"
   ]
  },
  {
   "cell_type": "code",
   "execution_count": 538,
   "id": "requested-briefs",
   "metadata": {},
   "outputs": [],
   "source": [
    "reg_values = {\n",
    "    'theta_reg': theta_traces,\n",
    "    'theta_wrp_reg': theta_wrp_traces,\n",
    "    'theta_diff_reg': theta_diff_traces,\n",
    "    'theta_off_reg': theta_off_traces,\n",
    "    }\n",
    "fl.save(str(path / 'stimulus_regression_values.h5'), reg_values)"
   ]
  },
  {
   "cell_type": "code",
   "execution_count": 539,
   "id": "increased-acceptance",
   "metadata": {},
   "outputs": [
    {
     "data": {
      "application/vnd.jupyter.widget-view+json": {
       "model_id": "b8536bd9bf7e44c89e2fde68eab2938f",
       "version_major": 2,
       "version_minor": 0
      },
      "text/plain": [
       "Canvas(toolbar=Toolbar(toolitems=[('Home', 'Reset original view', 'home', 'home'), ('Back', 'Back to previous …"
      ]
     },
     "metadata": {},
     "output_type": "display_data"
    }
   ],
   "source": [
    "fig_anatomy2, ax_anatomy2 = plt.subplots(1, 4, figsize=(9, 3))\n",
    "\n",
    "ax_anatomy2[0].scatter(coords[:, 1], coords[:, 2], c=theta_traces, cmap='coolwarm', s=3, vmin=-1, vmax=1)\n",
    "ax_anatomy2[0].axis('off')\n",
    "\n",
    "ax_anatomy2[1].scatter(coords[:, 1], coords[:, 2], c=theta_wrp_traces, cmap='coolwarm', s=3, vmin=-1, vmax=1)\n",
    "ax_anatomy2[1].axis('off')\n",
    "\n",
    "ax_anatomy2[2].scatter(coords[:, 1], coords[:, 2], c=theta_diff_traces, cmap='coolwarm', s=3, vmin=-1, vmax=1)\n",
    "ax_anatomy2[2].axis('off')\n",
    "\n",
    "ax_anatomy2[3].scatter(coords[:, 1], coords[:, 2], c=theta_off_traces, cmap='coolwarm', s=3, vmin=-1, vmax=1)\n",
    "ax_anatomy2[3].axis('off')\n",
    "\n",
    "file_name = 'theta_regressors_rois.jpg'\n",
    "fig_anatomy2.savefig(path / file_name)\n"
   ]
  },
  {
   "cell_type": "code",
   "execution_count": null,
   "id": "cheap-routine",
   "metadata": {},
   "outputs": [],
   "source": []
  },
  {
   "cell_type": "code",
   "execution_count": null,
   "id": "stone-costume",
   "metadata": {},
   "outputs": [],
   "source": []
  },
  {
   "cell_type": "code",
   "execution_count": null,
   "id": "offshore-arena",
   "metadata": {},
   "outputs": [],
   "source": []
  }
 ],
 "metadata": {
  "kernelspec": {
   "display_name": "Python 3",
   "language": "python",
   "name": "python3"
  },
  "language_info": {
   "codemirror_mode": {
    "name": "ipython",
    "version": 3
   },
   "file_extension": ".py",
   "mimetype": "text/x-python",
   "name": "python",
   "nbconvert_exporter": "python",
   "pygments_lexer": "ipython3",
   "version": "3.7.10"
  }
 },
 "nbformat": 4,
 "nbformat_minor": 5
}
