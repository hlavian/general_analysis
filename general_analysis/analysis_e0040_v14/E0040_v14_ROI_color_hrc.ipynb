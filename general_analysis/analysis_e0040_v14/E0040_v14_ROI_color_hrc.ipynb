{
 "cells": [
  {
   "cell_type": "code",
   "execution_count": 1,
   "metadata": {},
   "outputs": [],
   "source": [
    "import matplotlib\n",
    "%matplotlib widget\n",
    "import matplotlib.pyplot as plt\n",
    "import numpy as np\n",
    "from pathlib import Path\n",
    "import skimage as sk\n",
    "from skimage import io as skio\n",
    "import json\n",
    "import pandas as pd\n",
    "\n",
    "import flammkuchen as fl\n",
    "from split_dataset import SplitDataset\n",
    "from bouterin.plots.stimulus_log_plot import get_paint_function\n",
    "from scipy.cluster.hierarchy import dendrogram, linkage, cut_tree, to_tree, set_link_color_palette\n",
    "from sklearn.cluster import AgglomerativeClustering"
   ]
  },
  {
   "cell_type": "code",
   "execution_count": 25,
   "metadata": {},
   "outputs": [
    {
     "name": "stdout",
     "output_type": "stream",
     "text": [
      "\\\\Funes\\Shared\\experiments\\E0040_motions_cardinal\\v13_cw_ccw\\2p\\rf\\fixed\\210602_f1\n"
     ]
    }
   ],
   "source": [
    "master = Path(r\"\\\\Funes\\Shared\\experiments\\E0040_motions_cardinal\\v13_cw_ccw\\2p\\rf\\fixed\")\n",
    "all_fish = list(master.glob(\"*f[0-9]*\"))\n",
    "fish_dir = all_fish[1]\n",
    "print(fish_dir)"
   ]
  },
  {
   "cell_type": "markdown",
   "metadata": {},
   "source": [
    "## Load ROIs:"
   ]
  },
  {
   "cell_type": "code",
   "execution_count": 26,
   "metadata": {},
   "outputs": [
    {
     "name": "stdout",
     "output_type": "stream",
     "text": [
      "num planes: 10\n",
      "num ROIs: 508\n"
     ]
    }
   ],
   "source": [
    "num_planes = len(list(master.glob(\"*f[0-9]*\")))\n",
    "rois = fl.load(fish_dir / 'merged_rois.h5')\n",
    "roi_map = rois['stack']\n",
    "num_planes = np.shape(roi_map)[0]\n",
    "print(\"num planes:\", num_planes)\n",
    "\n",
    "traces = fl.load(fish_dir / \"traces.h5\")['traces']\n",
    "num_rois, len_rec = np.shape(traces)\n",
    "print(\"num ROIs:\", num_rois)"
   ]
  },
  {
   "cell_type": "code",
   "execution_count": 27,
   "metadata": {},
   "outputs": [
    {
     "data": {
      "application/vnd.jupyter.widget-view+json": {
       "model_id": "480618014cdc493ba6159b77e356c0cd",
       "version_major": 2,
       "version_minor": 0
      },
      "text/plain": [
       "Canvas(toolbar=Toolbar(toolitems=[('Home', 'Reset original view', 'home', 'home'), ('Back', 'Back to previous …"
      ]
     },
     "metadata": {},
     "output_type": "display_data"
    },
    {
     "name": "stdout",
     "output_type": "stream",
     "text": [
      "74\n",
      "147\n",
      "220\n",
      "291\n",
      "371\n",
      "414\n",
      "450\n",
      "474\n",
      "493\n",
      "508\n"
     ]
    }
   ],
   "source": [
    "fig0, ax0 = plt.subplots(3, 4, figsize=(12, 12))\n",
    "num_rois = 0\n",
    "for i in range(num_planes):\n",
    "    r = i // 4\n",
    "    c = np.mod(i, 4)\n",
    "    \n",
    "    roi_layer = roi_map[i]\n",
    "    roi_layer = np.ma.masked_where(roi_layer < 1, roi_layer)\n",
    "    roi_layer = np.rot90(roi_layer, k=1, axes=(1, 0))\n",
    "\n",
    "    ax0[r, c].imshow(roi_layer, cmap=\"rainbow\")\n",
    "    num_rois += np.shape(np.unique(roi_layer))[0] - 1\n",
    "    print(num_rois)\n",
    "    \n",
    "plt.show()\n",
    "#fig0.savefig(str(master/'all_rois.jpg'))"
   ]
  },
  {
   "cell_type": "markdown",
   "metadata": {},
   "source": [
    "## Cluster all traces:"
   ]
  },
  {
   "cell_type": "code",
   "execution_count": 28,
   "metadata": {},
   "outputs": [
    {
     "name": "stdout",
     "output_type": "stream",
     "text": [
      "(508, 2297)\n"
     ]
    }
   ],
   "source": [
    "norm_traces = np.copy(traces)\n",
    "norm_traces=norm_traces.T\n",
    "sd=np.nanstd(norm_traces, 0)\n",
    "mean=np.nanmean(norm_traces, 0)\n",
    "norm_traces=norm_traces-mean \n",
    "norm_traces=norm_traces/sd\n",
    "norm_traces=norm_traces.T\n",
    "print(np.shape(norm_traces))"
   ]
  },
  {
   "cell_type": "code",
   "execution_count": 29,
   "metadata": {},
   "outputs": [
    {
     "data": {
      "application/vnd.jupyter.widget-view+json": {
       "model_id": "5faf09529f0b42029b6e23c98a0b4c74",
       "version_major": 2,
       "version_minor": 0
      },
      "text/plain": [
       "Canvas(toolbar=Toolbar(toolitems=[('Home', 'Reset original view', 'home', 'home'), ('Back', 'Back to previous …"
      ]
     },
     "metadata": {},
     "output_type": "display_data"
    }
   ],
   "source": [
    "fig_xx, ax_xx = plt.subplots(1, 2, figsize=(10,7))\n",
    "ax_xx[0].imshow(norm_traces)\n",
    "ax_xx[1].imshow(traces)\n",
    "plt.show()\n"
   ]
  },
  {
   "cell_type": "code",
   "execution_count": 30,
   "metadata": {},
   "outputs": [],
   "source": [
    "##### Optional - average across repetitions before clustering:\n",
    "\n",
    "trial_len = 720 # 480\n",
    "norm_traces_avg = np.zeros((3, num_rois, trial_len))\n",
    "\n",
    "for i in range(3):\n",
    "    t1 = i * trial_len\n",
    "    t2 = t1 + trial_len\n",
    "    norm_traces_avg[i] = norm_traces[:, t1:t2]\n",
    "norm_traces_avg = np.nanmean(norm_traces_avg, 0)\n",
    "norm_traces = norm_traces_avg"
   ]
  },
  {
   "cell_type": "code",
   "execution_count": 31,
   "metadata": {},
   "outputs": [
    {
     "data": {
      "application/vnd.jupyter.widget-view+json": {
       "model_id": "e9f49821c23344908092c1d6b6942187",
       "version_major": 2,
       "version_minor": 0
      },
      "text/plain": [
       "Canvas(toolbar=Toolbar(toolitems=[('Home', 'Reset original view', 'home', 'home'), ('Back', 'Back to previous …"
      ]
     },
     "metadata": {},
     "output_type": "display_data"
    }
   ],
   "source": [
    "fig1 = plt.figure(figsize=(10,7))\n",
    "linked = linkage(norm_traces, method='ward')\n",
    "dend = dendrogram(linked)\n",
    "plt.show()\n",
    "# fig1.savefig(str(master / \"dendrogrm_210104.jpg\"))"
   ]
  },
  {
   "cell_type": "code",
   "execution_count": 32,
   "metadata": {},
   "outputs": [],
   "source": [
    "cluster = AgglomerativeClustering(n_clusters=12, affinity='euclidean', linkage='ward')\n",
    "her_clustering = cluster.fit_predict(norm_traces)"
   ]
  },
  {
   "cell_type": "markdown",
   "metadata": {},
   "source": [
    "### From Ot & Luigi"
   ]
  },
  {
   "cell_type": "code",
   "execution_count": 33,
   "metadata": {},
   "outputs": [],
   "source": [
    "def cluster_id_search(tree):\n",
    "    nodes_list = []\n",
    "    if tree.is_leaf():\n",
    "        nodes_list.append(tree.get_id())\n",
    "    else:\n",
    "        nodes_list += cluster_id_search(tree.get_left())\n",
    "        nodes_list += cluster_id_search(tree.get_right())\n",
    "        \n",
    "    return nodes_list\n",
    "\n",
    "def find_trunc_dendro_clusters(linkage_mat, dendro):\n",
    "    tree, branches = to_tree(linkage_mat, rd =True)\n",
    "    ids = np.empty(linkage_mat.shape[0]+1, dtype=int)\n",
    "    \n",
    "    for i, clust in enumerate(dendro[\"leaves\"]):\n",
    "        ids[cluster_id_search(branches[clust])] = i\n",
    "        \n",
    "    return ids"
   ]
  },
  {
   "cell_type": "code",
   "execution_count": 34,
   "metadata": {},
   "outputs": [
    {
     "data": {
      "application/vnd.jupyter.widget-view+json": {
       "model_id": "743a80102c1d441998fb81140cf84850",
       "version_major": 2,
       "version_minor": 0
      },
      "text/plain": [
       "Canvas(toolbar=Toolbar(toolitems=[('Home', 'Reset original view', 'home', 'home'), ('Back', 'Back to previous …"
      ]
     },
     "metadata": {},
     "output_type": "display_data"
    }
   ],
   "source": [
    "# make truncated tree to get clusters ids. \n",
    "# Ugly but necessary to get the same sequence of leaves as the cut.\n",
    "plt.figure(figsize=(0.1, 0.1))  \n",
    "n_clust = 12\n",
    "dendro = dendrogram(linked, n_clust, truncate_mode =\"lastp\")\n",
    "plt.close()\n",
    "cluster_ids = dendro[\"leaves\"]\n",
    "labels = find_trunc_dendro_clusters(linked, dendro)"
   ]
  },
  {
   "cell_type": "code",
   "execution_count": 35,
   "metadata": {},
   "outputs": [],
   "source": [
    "meanresps = norm_traces\n",
    "base_sub_mean = (meanresps.T - np.nanmean(meanresps[:,:8], 1)).T\n",
    "X = base_sub_mean\n",
    "\n",
    "#smooth_mean_resps = pd.DataFrame(meanresps.T).rolling(4, center=True).mean().as_matrix().T\n",
    "\n",
    "num_traces = np.shape(norm_traces)[0]\n",
    "traces_fixed = np.copy(norm_traces)\n",
    "traces_fixed[np.where(traces_fixed == 0)[0]] = None\n",
    "for i in range(num_traces):\n",
    "    tmp_cluster = traces_fixed[i]\n",
    "    tmp_cluster[np.where(tmp_cluster <= (np.min(tmp_cluster)+0.1))[0]] = None\n",
    "    #tmp_cluster = tmp_cluster + (i*5)\n",
    "    \n",
    "#meanresps = traces_fixed\n"
   ]
  },
  {
   "cell_type": "code",
   "execution_count": 36,
   "metadata": {},
   "outputs": [],
   "source": [
    "from skimage import color\n",
    "import numpy as np\n",
    "from matplotlib import pyplot as plt\n",
    "# from luminance_analysis import Data\n",
    "#from luminance_analysis.utilities import find_transitions, nanzscore\n",
    "from scipy.cluster.hierarchy import dendrogram, cut_tree, set_link_color_palette\n",
    "#from luminance_analysis.clustering import find_trunc_dendro_clusters\n",
    "#import seaborn as sns\n",
    "from matplotlib.colors import LinearSegmentedColormap\n",
    "from matplotlib import cm"
   ]
  },
  {
   "cell_type": "code",
   "execution_count": 37,
   "metadata": {},
   "outputs": [],
   "source": [
    "def shade_plot(stim, ax=None, gamma=1/6, shade_range=(0.6, 0.9)):\n",
    "    if type(stim) == list:  # these would be transitions\n",
    "        _shade_plot(stim, ax=ax, gamma=gamma, shade_range=shade_range)\n",
    "\n",
    "    elif type(stim) == Data:  # fish data\n",
    "        transitions = find_transitions(Data.resampled_stim, Data.time_im_rep)\n",
    "        _shade_plot(transitions, ax=ax, gamma=gamma, shade_range=shade_range)\n",
    "\n",
    "    elif type(stim) == np.ndarray:  # stimulus array\n",
    "        transitions = find_transitions(stim[:,1], stim[:,0])\n",
    "        _shade_plot(transitions, ax=ax, gamma=gamma, shade_range=shade_range)\n",
    "\n",
    "    elif type(stim) == tuple:  # time, lum tuple\n",
    "        transitions = find_transitions(stim[1], stim[0])\n",
    "        _shade_plot(transitions, ax=ax, gamma=gamma, shade_range=shade_range)\n",
    "\n",
    "\n",
    "def _shade_plot(lum_transitions, ax=None, gamma=1/6, shade_range=(0.6, 0.9)):\n",
    "\n",
    "    if ax is None:\n",
    "        ax = plt.gca()\n",
    "    shade = lum_transitions[0][1]\n",
    "    for i in range(len(lum_transitions)-1):\n",
    "        shade = shade + lum_transitions[i][1]\n",
    "        new_shade = shade_range[0] + np.power(np.abs(shade), gamma) * (shade_range[1] - shade_range[0])\n",
    "        ax.axvspan(lum_transitions[i][0], lum_transitions[i+1][0], color=(new_shade, )*3)\n",
    "        \n",
    "\n",
    "def _find_thr(linked, n_clust):\n",
    "    interval = [0, 2000]\n",
    "    new_height = np.mean(interval)\n",
    "    clust = 0\n",
    "    n_clust = n_clust\n",
    "    while clust != n_clust:\n",
    "        new_height = np.mean(interval)\n",
    "        clust = cut_tree(linked, height=new_height).max()\n",
    "        if clust > n_clust:\n",
    "            interval[0] = new_height\n",
    "        elif clust < n_clust:\n",
    "            interval[1] = new_height\n",
    "\n",
    "\n",
    "    return new_height\n",
    "\n",
    "\n",
    "def find_plot_thr(linked, n_clust):\n",
    "    min_thr = _find_thr(linked, n_clust - 1)\n",
    "    return min_thr  \n"
   ]
  },
  {
   "cell_type": "code",
   "execution_count": 38,
   "metadata": {},
   "outputs": [],
   "source": [
    "def plot_clusters_dendro(traces, stim, linkage_mat, labels, dendrolims=(900, 30),\n",
    "                         thr=None, f_lim=1.5, gamma=1):\n",
    "    fig_clust, ax = plt.subplots(3, 1, figsize=(15, 15))\n",
    "    hexac = cluster_cols()\n",
    "\n",
    "    n_clust = labels.max() + 1\n",
    "\n",
    "    ##################\n",
    "    ### Dendrogram ###\n",
    "    # Compute and plot first dendrogram.\n",
    "    if thr is None:\n",
    "        thr = find_plot_thr(linkage_mat, n_clust)\n",
    "\n",
    "    set_link_color_palette(hexac)\n",
    "    \n",
    "    ax_dendro = ax[2]\n",
    "    ax_traces = ax[1]\n",
    "    ax_clusters = ax[0]\n",
    "    \n",
    "    panel_dendro = dendrogram(linkage_mat,\n",
    "                              color_threshold=thr,\n",
    "                              #orientation='left',\n",
    "                              distance_sort='descending',\n",
    "                              show_leaf_counts=False,\n",
    "                              no_labels=True,\n",
    "                              above_threshold_color='#%02x%02x%02x' % (\n",
    "                              120, 120, 120))\n",
    "    \n",
    "    ax_dendro.axhline(thr, linewidth=0.7, color=\"k\")\n",
    "    ax_dendro.axis(\"off\")\n",
    "\n",
    "    # Plot traces matrix.\n",
    "    im = ax_traces.imshow(traces[panel_dendro[\"leaves\"], :],\n",
    "                         aspect='auto', origin='lower', cmap=\"gray_r\",\n",
    "                         vmin=-f_lim, vmax=f_lim)\n",
    "    ax_traces.axes.spines['left'].set_visible(False)\n",
    "    ax_traces.set_yticks([])\n",
    "\n",
    "    # Time bar:\n",
    "    dt = stim[1, 0]\n",
    "    barlength = 10\n",
    "    bounds = np.array([traces.shape[1] - barlength / dt,\n",
    "                       traces.shape[1]])\n",
    "\n",
    "    ##################\n",
    "    # Cluster sizes ##\n",
    "    # Calculate size of each defined cluster to put colored labels on the side.\n",
    "    # Find indervals spanned by each cluster in the sorted traces matrix.\n",
    "    # Add percentages spanned by each cluster.\n",
    "    sizes = np.cumsum(np.array([np.sum(labels == i) for i in range(np.max(labels) + 1)]))\n",
    "    intervals = np.insert(sizes, 0, 0)\n",
    "\n",
    "    ##################\n",
    "    # Cluster means ##\n",
    "\n",
    "    for i in range(n_clust):\n",
    "        ax_clusters.plot(np.nanmean(traces[labels == i, :], 0) +\n",
    "                      i * 2, label=i, color=hexac[i])\n",
    "    ax_clusters.axes.spines['left'].set_visible(False)\n",
    "    ax_clusters.set_yticks([])\n",
    "\n",
    "    barlength = 10\n",
    "    ax_traces.axis(\"off\")\n",
    "    ax_clusters.axis(\"off\")\n",
    "\n",
    "    return fig_clust\n",
    "\n",
    "def cluster_cols():\n",
    "    color_list = [\"lightblue\", \"lightcoral\", \"orange\", \"springgreen\", \"deepskyblue\", \"mediumpurple\",\"gold\", \"cyan\", \"crimson\", \"deeppink\", \"lawngreen\", \"darkviolet\"]\n",
    "    return color_list"
   ]
  },
  {
   "cell_type": "code",
   "execution_count": 39,
   "metadata": {},
   "outputs": [
    {
     "data": {
      "application/vnd.jupyter.widget-view+json": {
       "model_id": "b723454d538248b88ee2391a5007fa4b",
       "version_major": 2,
       "version_minor": 0
      },
      "text/plain": [
       "Canvas(toolbar=Toolbar(toolitems=[('Home', 'Reset original view', 'home', 'home'), ('Back', 'Back to previous …"
      ]
     },
     "metadata": {},
     "output_type": "display_data"
    }
   ],
   "source": [
    "stim = np.asarray([[1, 2, 3, 4, 5, 6, 7], [1, 2, 3, 4, 5, 6, 7]])\n",
    "fig_clust = plot_clusters_dendro(meanresps, stim, linked, labels)#, dendrolims=(940, 0))"
   ]
  },
  {
   "cell_type": "code",
   "execution_count": 40,
   "metadata": {},
   "outputs": [],
   "source": [
    "plt.show()\n",
    "fig_clust.savefig(str(fish_dir / \"hierarchical_clustering_221219_avg.jpg\"), dpi=300)"
   ]
  },
  {
   "cell_type": "code",
   "execution_count": 21,
   "metadata": {},
   "outputs": [
    {
     "name": "stdout",
     "output_type": "stream",
     "text": [
      "[ 3 11 11  7 10  7 11  7  8  7  5  6 11  5 11  3 10 11 11 10  3  3  8  8\n",
      "  5 11  1  1  1  9  8  5  3  5  7  5  7  5  1  1  5  3  1  1  1  5  9  1\n",
      " 11  1  2  2  2  9  1 11  9  9  2 11  5 10  5  2 10 11  8  1  7  7  0  1\n",
      "  9  1 11  5  9  7  0  0 11 11  9  4  4  1  1  4  2  1  3  1  1  1  0  5\n",
      "  9  8  8  9  2  8  8  3 11  2  4  3  4 10  3  3  3  1  2  9 11  5  5  9\n",
      " 11 10 11  9  1 10  5  1 10  3  3  1  3  7  7  9 11  4  1  2  9  2  5 11\n",
      "  9  4  2  7  9  9 11 11  3  4  5  2  6  6  1 11  5  6  5  8  5  8  6  6\n",
      "  5 11  6  7  9 11  6  6  0  1 10  7  2  8  7  7 11  3 11  6  6  6  1  6\n",
      "  0  6  8  6  6  7  5  9  8  8  1  6  6  9  9  6  6  3  2  6  8  9  9  9\n",
      "  2  6  6  6  6  6]\n",
      "[ 0  1  2  3  4  5  6  7  8  9 10 11]\n",
      "222\n",
      "222.0\n"
     ]
    }
   ],
   "source": [
    "print(labels)\n",
    "print(np.unique(labels))\n",
    "#fig, ax = plt.subplots(1,1)\n",
    "#ax.plot(labels)\n",
    "#plt.show()\n",
    "print(num_rois)\n",
    "print(np.max(roi_map))"
   ]
  },
  {
   "cell_type": "markdown",
   "metadata": {},
   "source": [
    "### Create a figure of all ROIs colored by cluster:"
   ]
  },
  {
   "cell_type": "code",
   "execution_count": 22,
   "metadata": {},
   "outputs": [
    {
     "name": "stdout",
     "output_type": "stream",
     "text": [
      "[ 0.  1.  2.  3.  4.  5.  6.  7.  8.  9. 10. 11. 12.]\n",
      "[2. 2. 2. ... 2. 2. 2.]\n"
     ]
    }
   ],
   "source": [
    "roi_map_clustered = np.zeros_like(roi_map)\n",
    "for i in range(0, num_rois):\n",
    "    roi_map_clustered[np.where(roi_map == (i + 1))] = labels[i] + 1\n",
    "print(np.unique(roi_map_clustered))\n",
    "print(roi_map_clustered[np.where(roi_map_clustered == 2)])"
   ]
  },
  {
   "cell_type": "code",
   "execution_count": 23,
   "metadata": {},
   "outputs": [
    {
     "data": {
      "application/vnd.jupyter.widget-view+json": {
       "model_id": "d6ca490633694b879088e75baccf4068",
       "version_major": 2,
       "version_minor": 0
      },
      "text/plain": [
       "Canvas(toolbar=Toolbar(toolitems=[('Home', 'Reset original view', 'home', 'home'), ('Back', 'Back to previous …"
      ]
     },
     "metadata": {},
     "output_type": "display_data"
    }
   ],
   "source": [
    "fig2, ax2 = plt.subplots(3, 4, figsize=(12, 12))\n",
    "#title_list = ['201007_f1', '201007_f2','201007_f3','201021_f1','201021_f2','201021_f3','201021_f2','201022_f2','201022_f3','201022_f4','201023_f0','201023_f3']\n",
    "color_list = [\"lightblue\", \"lightcoral\", \"orange\", \"springgreen\", \"deepskyblue\", \"mediumpurple\",\"gold\", \"cyan\", \"crimson\", \"deeppink\", \"lawngreen\", \"darkviolet\"]\n",
    "cm_roi = LinearSegmentedColormap.from_list(\"my_list\", color_list, N=12)\n",
    "\n",
    "#cm_roi='rainbow'\n",
    "for i in range(num_planes):\n",
    "    r = i // 4\n",
    "    c = np.mod(i, 4)\n",
    "    \n",
    "    roi_layer = roi_map_clustered[i]\n",
    "    roi_layer[0, 1:13] = [1, 2, 3, 4, 5, 6, 7, 8, 9, 10, 11, 12]\n",
    "    roi_layer = np.ma.masked_where(roi_layer < 1, roi_layer)\n",
    "    roi_layer = np.rot90(roi_layer, k=1, axes=(1, 0))\n",
    "\n",
    "    im = ax2[r, c].imshow(roi_layer, cmap=cm_roi)\n",
    "    ax2[r, c].axis('off')\n",
    "    #ax2[r, c].set_title(title_list[i])\n",
    "    \n",
    "fig2.colorbar(im, ax=ax2[2,3])\n",
    "plt.show()\n",
    "fig2.savefig(str(fish_dir/'clusters_rois_hrc_221219_avg.jpg'), dpi=300)"
   ]
  },
  {
   "cell_type": "code",
   "execution_count": 24,
   "metadata": {},
   "outputs": [],
   "source": [
    "fig2.savefig(str(fish_dir/'clusters_rois_hrc_221219_avg.jpg'), dpi=300)"
   ]
  },
  {
   "cell_type": "code",
   "execution_count": null,
   "metadata": {},
   "outputs": [],
   "source": [
    "\n",
    "### Adapt to hrc\n",
    "'''\n",
    "clusters_centers = kmeans.cluster_centers_\n",
    "fig3, ax3 = plt.subplots(1, 1, figsize=(12, 12))\n",
    "fs = 3\n",
    "trial_len = 30\n",
    "num_stim = 18\n",
    "\n",
    "color_list = plt.cm.tab20(np.linspace(0, 1, k))\n",
    "clusters_centers_fixed = np.copy(clusters_centers)\n",
    "clusters_centers_fixed[np.where(clusters_centers_fixed == 0)[0]] = None\n",
    "for i in range(k):\n",
    "    tmp_cluster = clusters_centers_fixed[i]\n",
    "    print(np.where(tmp_cluster <= (np.min(tmp_cluster)))[0])\n",
    "    tmp_cluster[np.where(tmp_cluster <= (np.min(tmp_cluster)+0.1))[0]] = None\n",
    "    ax3.plot(tmp_cluster + (i * 7), c=color_list[i])\n",
    "    \n",
    "    num_traces_in_cluster = np.shape(np.where(labels_k == i)[0])[0]\n",
    "    plt.text(-500,(i * 7),str(num_traces_in_cluster))\n",
    "\n",
    "    \n",
    "ax3.axvspan(0, (9 * trial_len * fs), facecolor=[0, 0.7, 0.9], alpha=0.2)\n",
    "\n",
    "for i in range(num_stim):\n",
    "    t1 = (9 * 3 * 30) + (i * 30 * 10 * 3)\n",
    "    t2 = t1 + (30 * 3)\n",
    "    ax3.axvspan(t1, t2, facecolor=[0, 0.7, 0.9], alpha=0.2)\n",
    "\n",
    "ax3.axvspan((10 * 30 * 3 * 9), (10 * 30 * 3 * 10) - 90, facecolor=[0, 0.7, 0.9], alpha=0.2)\n",
    "\n",
    "plt.show()\n",
    "#fig.savefig(str(master/'mean_traces_norm_for_rois.jpg'))\n",
    "'''"
   ]
  },
  {
   "cell_type": "code",
   "execution_count": null,
   "metadata": {},
   "outputs": [],
   "source": []
  }
 ],
 "metadata": {
  "kernelspec": {
   "display_name": "Python 3",
   "language": "python",
   "name": "python3"
  },
  "language_info": {
   "codemirror_mode": {
    "name": "ipython",
    "version": 3
   },
   "file_extension": ".py",
   "mimetype": "text/x-python",
   "name": "python",
   "nbconvert_exporter": "python",
   "pygments_lexer": "ipython3",
   "version": "3.7.10"
  }
 },
 "nbformat": 4,
 "nbformat_minor": 4
}
