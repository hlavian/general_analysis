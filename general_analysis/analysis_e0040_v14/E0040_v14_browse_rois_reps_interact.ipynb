{
 "cells": [
  {
   "cell_type": "code",
   "execution_count": null,
   "id": "sixth-copying",
   "metadata": {},
   "outputs": [],
   "source": [
    "import matplotlib\n",
    "%matplotlib widget\n",
    "\n",
    "import numpy as np\n",
    "from split_dataset import SplitDataset\n",
    "from pathlib import Path\n",
    "import flammkuchen as fl\n",
    "from tifffile import imread\n",
    "import matplotlib.pyplot as plt \n",
    "from fimpylab.core.twop_experiment import TwoPExperiment\n",
    "from bouterin.plots.stimulus_log_plot import get_paint_function"
   ]
  },
  {
   "cell_type": "code",
   "execution_count": null,
   "id": "magnetic-showcase",
   "metadata": {},
   "outputs": [],
   "source": [
    "from ipywidgets import interact, interactive, fixed, interact_manual\n",
    "import ipywidgets as widgets"
   ]
  },
  {
   "cell_type": "code",
   "execution_count": null,
   "id": "favorite-addition",
   "metadata": {},
   "outputs": [],
   "source": [
    "master = Path(r\"\\\\Funes\\Shared\\experiments\\E0040_motions_cardinal\\v13_cw_ccw\\2p\\rf\")\n",
    "fish_list = list(master.glob(\"*f[0-9]*\"))\n",
    "fish_dir = fish_list[2]\n",
    "# 0, 1, 2, 3, 4"
   ]
  },
  {
   "cell_type": "code",
   "execution_count": null,
   "id": "comic-academy",
   "metadata": {},
   "outputs": [],
   "source": [
    "traces = fl.load(fish_dir / \"traces.h5\")['traces'][:, 0:-2]\n",
    "fs = 3\n",
    "t = np.arange(np.shape(traces)[1]) / fs\n",
    "num_traces, len_rec = np.shape(traces)\n",
    "print(\"num_traces: \", num_traces)\n",
    "print(\"len_rec: \", len_rec)\n",
    "new_len_rec = int(len_rec/3)"
   ]
  },
  {
   "cell_type": "code",
   "execution_count": null,
   "id": "decent-anatomy",
   "metadata": {},
   "outputs": [],
   "source": [
    "norm_traces = np.copy(traces)\n",
    "norm_traces=norm_traces.T# need to transpose it since the functions work like that \n",
    "sd=np.nanstd(norm_traces)\n",
    "mean=np.nanmean(norm_traces)\n",
    "norm_traces=norm_traces-mean #numerator in the formula for z-score \n",
    "norm_traces=norm_traces/sd\n",
    "traces=norm_traces.T"
   ]
  },
  {
   "cell_type": "code",
   "execution_count": null,
   "id": "external-illinois",
   "metadata": {},
   "outputs": [],
   "source": [
    "trial_traces = np.zeros((3, num_traces, new_len_rec))\n",
    "for i in range(3):\n",
    "    t1 = i * new_len_rec\n",
    "    t2 = t1 + new_len_rec\n",
    "    trial_traces[i] = traces[:, t1:t2]\n",
    "avg_traces = np.nanmean(trial_traces, 0)"
   ]
  },
  {
   "cell_type": "code",
   "execution_count": null,
   "id": "annual-happiness",
   "metadata": {},
   "outputs": [],
   "source": [
    "num_rois = np.shape(avg_traces)[0]\n",
    "print(num_rois)"
   ]
  },
  {
   "cell_type": "code",
   "execution_count": null,
   "id": "accurate-april",
   "metadata": {},
   "outputs": [],
   "source": [
    "exp = TwoPExperiment(path=fish_dir)\n",
    "num_subtrials = 16\n",
    "num_rep = 3\n",
    "num_trials = num_rep * num_subtrials\n",
    "\n",
    "stimulus_log = exp.load_session_log(log_name='stimulus_log', session_idx=0)\n",
    "stim_value, t_values = get_paint_function(stimulus_log, 'E0040_motions_cardinal')\n",
    "stim_value = stim_value / 255\n",
    "num_stim = np.shape(stim_value)[0]"
   ]
  },
  {
   "cell_type": "code",
   "execution_count": null,
   "id": "organized-archive",
   "metadata": {},
   "outputs": [],
   "source": [
    "def show_trials(x, y, z):\n",
    "    ax1.cla()\n",
    "    for i in range(17):\n",
    "        ax1.axvspan(\n",
    "            t_values[i, 0],\n",
    "            t_values[i, 1],\n",
    "            facecolor=[stim_value[i, 0], stim_value[i, 1], stim_value[i, 2]],\n",
    "            alpha=0.5,\n",
    "        )\n",
    "    trace_ind = x + y + z\n",
    "    t_avg = t[0:new_len_rec]\n",
    "    for i in range(3):\n",
    "        ax1.plot(t_avg, trial_traces[i, trace_ind], c='gray')\n",
    "    \n",
    "    trace = avg_traces[x]\n",
    "    line = ax1.plot(t_avg, avg_traces[trace_ind], c='k')    \n",
    "    ax1.set_ylim(np.min(avg_traces[:,trace_ind]) - 2, np.max(trial_traces[:,trace_ind]) + 2)"
   ]
  },
  {
   "cell_type": "code",
   "execution_count": null,
   "id": "closed-payment",
   "metadata": {},
   "outputs": [],
   "source": [
    "fig1, ax1 = plt.subplots(figsize=(13,5))\n",
    "for i in range(17):\n",
    "    ax1.axvspan(\n",
    "        t_values[i, 0],\n",
    "        t_values[i, 1],\n",
    "        facecolor=[stim_value[i, 0], stim_value[i, 1], stim_value[i, 2]],\n",
    "        alpha=0.5,\n",
    "    )\n",
    "\n",
    "interact(show_trials, x=(0, num_rois-1, 100), y=(0, 90, 10), z=(0, 9, 1))"
   ]
  },
  {
   "cell_type": "code",
   "execution_count": null,
   "id": "hairy-retail",
   "metadata": {},
   "outputs": [],
   "source": [
    "fig_save, ax_save = plt.subplots(figsize=(13,5))\n",
    "for i in range(17):\n",
    "    ax_save.axvspan(\n",
    "        t_values[i, 0],\n",
    "        t_values[i, 1],\n",
    "        facecolor=[stim_value[i, 0], stim_value[i, 1], stim_value[i, 2]],\n",
    "        alpha=0.5,\n",
    "    )\n",
    "    \n",
    "t_avg = t[0:new_len_rec]\n",
    "ind_trace = 231\n",
    "\n",
    "for i in range(3):\n",
    "    ax_save.plot(t_avg, trial_traces[i, ind_trace], c='gray')\n",
    "ax_save.plot(t_avg, avg_traces[ind_trace], c='k')\n",
    "ax_save.set_ylim(-2,2)\n",
    "plt.show()\n",
    "\n",
    "file_name = \"roi\" + str(ind_trace) + \".jpg\"\n",
    "fig_save.savefig(fish_dir / file_name, dpi=300)"
   ]
  },
  {
   "cell_type": "code",
   "execution_count": null,
   "id": "hydraulic-hobby",
   "metadata": {},
   "outputs": [],
   "source": [
    "nice_inds = [1, 2, 3, 5, 7, 12, 14, 15, 16, 19, 27, 33, 36, 45, 48, 66, 67, 68, 74, 79, 80, 89, 90, 92, 97, 100, 111, 112, 114, 129, 132, 138, 140, 156, 165, 168, 169]\n",
    "reliable_inds = [9, 25, 46, 78, 101, 113, 143, 159, 176]\n",
    "ihnhib_resp_inds = [51, 84, 85, 134]"
   ]
  },
  {
   "cell_type": "code",
   "execution_count": null,
   "id": "fixed-answer",
   "metadata": {},
   "outputs": [],
   "source": [
    "len(nice_inds)"
   ]
  },
  {
   "cell_type": "code",
   "execution_count": null,
   "id": "cooperative-navigation",
   "metadata": {},
   "outputs": [],
   "source": [
    "a = np.array([[1, 2, 5, 1, 9, 5, 6], [8, 3, 4, 3, 2, 1, 7], [2, 1, 6, 3, 4, 9, 0]])\n",
    "print(a)\n",
    "b = [1, 0, 2]\n",
    "c = a[b, :]\n",
    "print(c)"
   ]
  },
  {
   "cell_type": "code",
   "execution_count": null,
   "id": "marked-connection",
   "metadata": {},
   "outputs": [],
   "source": [
    "max_vals = np.zeros((num_traces, 2, 8))\n",
    "\n",
    "for i in range(8):\n",
    "    t1 = (i * 15) + 5\n",
    "    t2 = t1 + (fs * 10)\n",
    "    tmp_traces = avg_traces[:, t1:t2]\n",
    "    tmp_max = np.amax(tmp_traces, axis=1)\n",
    "    max_vals[:, 0, i] = tmp_max\n",
    "    \n",
    "    t1 = ((8-i) * 15) + 5\n",
    "    t2 = t1 + (fs * 10)\n",
    "    tmp_traces = avg_traces[:, t1:t2]\n",
    "    tmp_max = np.amax(tmp_traces, axis=1)\n",
    "    max_vals[:, 1, 7-i] = tmp_max"
   ]
  },
  {
   "cell_type": "code",
   "execution_count": null,
   "id": "activated-surgery",
   "metadata": {},
   "outputs": [],
   "source": [
    "max_diff = max_vals[:, 1, :] - max_vals[:, 0, :]\n",
    "fig2, ax2 = plt.subplots(figsize=(13,5))\n",
    "ax2.imshow(max_diff, extent=[0,  1000, 0, 500])#, vmin=-20, vmax=1500)\n",
    "print(max_diff)"
   ]
  },
  {
   "cell_type": "code",
   "execution_count": null,
   "id": "enclosed-evans",
   "metadata": {},
   "outputs": [],
   "source": [
    "roi_map = fl.load(fish_dir / \"merged_rois.h5\")['stack'][0:12,:,:]\n",
    "fig3, ax3 = plt.subplots(3, 5, figsize=(12, 12))\n",
    "num_rois = num_traces\n",
    "num_planes = np.shape(roi_map)[0]\n",
    "\n",
    "for i in range(num_planes):\n",
    "    r = i // 5\n",
    "    c = np.mod(i, 5)\n",
    "    \n",
    "    roi_layer = roi_map[i]\n",
    "    roi_layer = np.ma.masked_where(roi_layer < 1, roi_layer)\n",
    "    roi_layer = np.rot90(roi_layer, k=1, axes=(1, 0))\n",
    "\n",
    "    ax3[r, c].imshow(roi_layer, cmap=\"rainbow\")\n",
    "    \n",
    "plt.show()"
   ]
  },
  {
   "cell_type": "code",
   "execution_count": null,
   "id": "pointed-instrumentation",
   "metadata": {},
   "outputs": [],
   "source": [
    "from matplotlib.colors import LinearSegmentedColormap"
   ]
  },
  {
   "cell_type": "code",
   "execution_count": null,
   "id": "intense-stations",
   "metadata": {},
   "outputs": [],
   "source": [
    "roi_map_max_diff = np.zeros_like(roi_map)\n",
    "roi_map_max_diff_pos = np.zeros_like(roi_map)\n",
    "roi_map_max_diff_neg = np.zeros_like(roi_map)\n",
    "\n",
    "roi_map_max_diff_pos_val = np.zeros_like(roi_map)\n",
    "roi_map_max_diff_neg_val = np.zeros_like(roi_map)\n",
    "\n",
    "roi_map_max_0 = np.zeros_like(roi_map)\n",
    "roi_map_max_1 = np.zeros_like(roi_map_max_0)\n",
    "roi_map_max_2 = np.zeros_like(roi_map_max_0)\n",
    "roi_map_max_3 = np.zeros_like(roi_map_max_0)\n",
    "roi_map_max_4 = np.zeros_like(roi_map_max_0)\n",
    "roi_map_max_5 = np.zeros_like(roi_map_max_0)\n",
    "roi_map_max_6 = np.zeros_like(roi_map_max_0)\n",
    "roi_map_max_7 = np.zeros_like(roi_map_max_0)\n",
    "\n",
    "max_diff_filtered = np.copy(max_diff)\n",
    "max_diff_filtered[np.where(abs(max_diff_filtered) < 200)[0]] = 0\n",
    "tmp_max = np.argmax(abs(max_diff), axis=1)\n",
    "tmp_max_pos = np.argmax(max_diff, axis=1)\n",
    "tmp_max_neg = np.argmax(max_diff * -1, axis=1)\n",
    "\n",
    "print(tmp_max)\n",
    "tmp_max_val = np.amax(abs(max_diff), axis=1)\n",
    "tmp_max_pos_val = np.amax(max_diff, axis=1)\n",
    "tmp_max_neg_val = np.amax(max_diff * -1, axis=1)\n",
    "\n",
    "#tmp_max[np.where(tmp_max_val < 200)[0]] = -1\n",
    "#tmp_max_pos[np.where(tmp_max_pos_val < 200)[0]] = -1\n",
    "#tmp_max_neg[np.where(tmp_max_neg_val < 200)[0]] = -1\n",
    "for i in range(0, num_rois):\n",
    "    \n",
    "    roi_map_max_diff[np.where(roi_map == (i + 1))] = tmp_max[i] + 1\n",
    "    roi_map_max_diff_pos[np.where(roi_map == (i + 1))] = tmp_max_pos[i] + 1\n",
    "    roi_map_max_diff_neg[np.where(roi_map == (i + 1))] = tmp_max_neg[i] + 1\n",
    "    \n",
    "    roi_map_max_diff_pos_val[np.where(roi_map == (i + 1))] = tmp_max_pos_val[i]\n",
    "    roi_map_max_diff_neg_val[np.where(roi_map == (i + 1))] = tmp_max_neg_val[i]\n",
    "    \n",
    "    roi_map_max_0[np.where(roi_map == (i + 1))] = max_diff[i, 0]\n",
    "    roi_map_max_1[np.where(roi_map == (i + 1))] = max_diff[i, 1]\n",
    "    roi_map_max_2[np.where(roi_map == (i + 1))] = max_diff[i, 2]\n",
    "    roi_map_max_3[np.where(roi_map == (i + 1))] = max_diff[i, 3]\n",
    "    roi_map_max_4[np.where(roi_map == (i + 1))] = max_diff[i, 4]\n",
    "    roi_map_max_5[np.where(roi_map == (i + 1))] = max_diff[i, 5]\n",
    "    roi_map_max_6[np.where(roi_map == (i + 1))] = max_diff[i, 6]\n",
    "    roi_map_max_7[np.where(roi_map == (i + 1))] = max_diff[i, 7]\n"
   ]
  },
  {
   "cell_type": "code",
   "execution_count": null,
   "id": "shared-century",
   "metadata": {},
   "outputs": [],
   "source": [
    "ind_sort = np.argsort(tmp_max_val)\n",
    "sorted_traces = avg_traces[ind_sort]\n",
    "np.shape(sorted_traces)\n",
    "fig10, ax10 = plt.subplots(1, 1, figsize=(12, 12))\n",
    "ax10.imshow(sorted_traces,extent=[0,  1000, 0, 1000])\n",
    "print(ind_sort)\n",
    "fig10.savefig(str(fish_dir/'traces_sorted_max_diff_abs.jpg'), dpi=300)"
   ]
  },
  {
   "cell_type": "code",
   "execution_count": null,
   "id": "twenty-philip",
   "metadata": {},
   "outputs": [],
   "source": [
    "fig4, ax4 = plt.subplots(3, 4, figsize=(12, 12))\n",
    "color_list = [\"lightskyblue\", \"turquoise\", \"lightgreen\", \"khaki\", \"gold\",\"pink\", \"plum\", \"violet\"]\n",
    "cm_roi = LinearSegmentedColormap.from_list(\"my_list\", color_list, N=8)\n",
    "\n",
    "for i in range(num_planes):\n",
    "    r = i // 4\n",
    "    c = np.mod(i, 4)\n",
    "    \n",
    "    roi_layer = roi_map_max_diff[i]\n",
    "    roi_layer[0, 1:9] = [1, 2, 3, 4, 5, 6, 7, 8]\n",
    "    roi_layer = np.ma.masked_where(roi_layer < 1, roi_layer)\n",
    "    roi_layer = np.rot90(roi_layer, k=1, axes=(1, 0))\n",
    "\n",
    "    #ax4[r, c].imshow(roi_layer, cmap=\"rainbow\")\n",
    "    ax4[r, c].imshow(roi_layer, cmap=cm_roi)\n",
    "    ax4[r, c].axis('off')\n",
    "    ax4[r, c].set_title(\"z\" + str(i))\n",
    "    #print(roi_layer)\n",
    "\n",
    "    \n",
    "plt.show()\n",
    "fig4.savefig(str(fish_dir/'rois_direction_of_max_abs_diff.jpg'))"
   ]
  },
  {
   "cell_type": "code",
   "execution_count": null,
   "id": "matched-prompt",
   "metadata": {},
   "outputs": [],
   "source": [
    "fig6, ax6 = plt.subplots(3, 4, figsize=(12, 12))\n",
    "color_list = [\"lightskyblue\", \"turquoise\", \"lightgreen\", \"khaki\", \"gold\",\"pink\", \"plum\", \"violet\"]\n",
    "cm_roi = LinearSegmentedColormap.from_list(\"my_list\", color_list, N=8)\n",
    "\n",
    "for i in range(num_planes):\n",
    "    r = i // 4\n",
    "    c = np.mod(i, 4)\n",
    "    \n",
    "    roi_layer = roi_map_max_diff_pos[i]\n",
    "    roi_layer[0, 1:9] = [1, 2, 3, 4, 5, 6, 7, 8]\n",
    "    roi_layer = np.ma.masked_where(roi_layer < 1, roi_layer)\n",
    "    roi_layer = np.rot90(roi_layer, k=1, axes=(1, 0))\n",
    "\n",
    "    #ax4[r, c].imshow(roi_layer, cmap=\"rainbow\")\n",
    "    ax6[r, c].imshow(roi_layer, cmap=cm_roi)\n",
    "    ax6[r, c].axis('off')\n",
    "    ax6[r, c].set_title(\"z\" + str(i))\n",
    "    #print(roi_layer)\n",
    "\n",
    "    \n",
    "plt.show()\n",
    "fig6.savefig(str(fish_dir/'rois_direction_of_max_diff_pos.jpg'))"
   ]
  },
  {
   "cell_type": "code",
   "execution_count": null,
   "id": "confidential-moses",
   "metadata": {},
   "outputs": [],
   "source": [
    "fig7, ax7 = plt.subplots(3, 4, figsize=(12, 12))\n",
    "color_list = [\"lightskyblue\", \"turquoise\", \"lightgreen\", \"khaki\", \"gold\",\"pink\", \"plum\", \"violet\"]\n",
    "cm_roi = LinearSegmentedColormap.from_list(\"my_list\", color_list, N=8)\n",
    "\n",
    "for i in range(num_planes):\n",
    "    r = i // 4\n",
    "    c = np.mod(i, 4)\n",
    "    \n",
    "    roi_layer = roi_map_max_diff_neg[i]\n",
    "    roi_layer[0, 1:9] = [1, 2, 3, 4, 5, 6, 7, 8]\n",
    "    roi_layer = np.ma.masked_where(roi_layer < 1, roi_layer)\n",
    "    roi_layer = np.rot90(roi_layer, k=1, axes=(1, 0))\n",
    "\n",
    "    #ax4[r, c].imshow(roi_layer, cmap=\"rainbow\")\n",
    "    ax7[r, c].imshow(roi_layer, cmap=cm_roi)\n",
    "    ax7[r, c].axis('off')\n",
    "    ax7[r, c].set_title(\"z\" + str(i))\n",
    "    #print(roi_layer)\n",
    "\n",
    "    \n",
    "plt.show()\n",
    "fig7.savefig(str(fish_dir/'rois_direction_of_max_abs_diff_neg.jpg'))"
   ]
  },
  {
   "cell_type": "code",
   "execution_count": null,
   "id": "incident-peoples",
   "metadata": {},
   "outputs": [],
   "source": [
    "fig8, ax8 = plt.subplots(3, 4, figsize=(12, 12))\n",
    "color_list = [\"lightskyblue\", \"turquoise\", \"lightgreen\", \"khaki\", \"gold\",\"pink\", \"plum\", \"violet\"]\n",
    "cm_roi = LinearSegmentedColormap.from_list(\"my_list\", color_list, N=8)\n",
    "\n",
    "for i in range(num_planes):\n",
    "    r = i // 4\n",
    "    c = np.mod(i, 4)\n",
    "    \n",
    "    roi_layer = roi_map_max_diff_pos_val[i]\n",
    "    roi_layer[0, 1:3] = [-5, 5]\n",
    "    roi_layer = np.rot90(roi_layer, k=1, axes=(1, 0))\n",
    "\n",
    "    ax8[r, c].imshow(roi_layer, cmap=\"bwr\")\n",
    "    ax8[r, c].axis('off')\n",
    "    ax8[r, c].set_title(\"z\" + str(i))\n",
    "\n",
    "    \n",
    "plt.show()\n",
    "fig8.savefig(str(fish_dir/'rois_max_pos_diff_value.jpg'))"
   ]
  },
  {
   "cell_type": "code",
   "execution_count": null,
   "id": "fresh-retrieval",
   "metadata": {},
   "outputs": [],
   "source": [
    "fig9, ax9 = plt.subplots(3, 4, figsize=(12, 12))\n",
    "\n",
    "for i in range(num_planes):\n",
    "    r = i // 4\n",
    "    c = np.mod(i, 4)\n",
    "    \n",
    "    roi_layer = roi_map_max_diff_neg_val[i]\n",
    "    roi_layer[0, 1:3] = [-5, 5]\n",
    "    #roi_layer = np.ma.masked_where(roi_layer < 1, roi_layer)\n",
    "    roi_layer = np.rot90(roi_layer, k=1, axes=(1, 0))\n",
    "\n",
    "    #ax4[r, c].imshow(roi_layer, cmap=\"rainbow\")\n",
    "    ax9[r, c].imshow(roi_layer, cmap=\"bwr\")\n",
    "    ax9[r, c].axis('off')\n",
    "    ax9[r, c].set_title(\"z\" + str(i))\n",
    "    #print(roi_layer)\n",
    "\n",
    "    \n",
    "plt.show()\n",
    "fig9.savefig(str(fish_dir/'rois_max_neg_diff_value.jpg'))"
   ]
  },
  {
   "cell_type": "code",
   "execution_count": null,
   "id": "private-tamil",
   "metadata": {},
   "outputs": [],
   "source": []
  },
  {
   "cell_type": "code",
   "execution_count": null,
   "id": "atlantic-given",
   "metadata": {},
   "outputs": [],
   "source": [
    "fig5, ax5 = plt.subplots(3, 5, figsize=(12, 12))\n",
    "\n",
    "for i in range(num_planes):\n",
    "    r = i // 5\n",
    "    c = np.mod(i, 5)\n",
    "    \n",
    "    roi_layer = roi_map_max_5[i]\n",
    "    roi_layer = np.rot90(roi_layer, k=1, axes=(1, 0))\n",
    "\n",
    "    ax5[r, c].imshow(roi_layer, cmap=\"bwr\")#rainbow\")\n",
    "    ax5[r, c].axis('off')\n",
    "    #print(roi_layer)\n",
    "\n",
    "    \n",
    "plt.show()"
   ]
  },
  {
   "cell_type": "code",
   "execution_count": null,
   "id": "jewish-satin",
   "metadata": {},
   "outputs": [],
   "source": []
  },
  {
   "cell_type": "code",
   "execution_count": null,
   "id": "eight-costs",
   "metadata": {},
   "outputs": [],
   "source": []
  }
 ],
 "metadata": {
  "kernelspec": {
   "display_name": "Python 3 (ipykernel)",
   "language": "python",
   "name": "python3"
  },
  "language_info": {
   "codemirror_mode": {
    "name": "ipython",
    "version": 3
   },
   "file_extension": ".py",
   "mimetype": "text/x-python",
   "name": "python",
   "nbconvert_exporter": "python",
   "pygments_lexer": "ipython3",
   "version": "3.7.10"
  }
 },
 "nbformat": 4,
 "nbformat_minor": 5
}
