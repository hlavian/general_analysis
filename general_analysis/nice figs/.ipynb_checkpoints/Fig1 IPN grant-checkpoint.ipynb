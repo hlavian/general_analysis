{
 "cells": [
  {
   "cell_type": "code",
   "execution_count": null,
   "id": "312bc28e-003c-4944-a386-4fd114b03d79",
   "metadata": {},
   "outputs": [],
   "source": [
    "%matplotlib widget"
   ]
  },
  {
   "cell_type": "code",
   "execution_count": null,
   "id": "2bfcd1e9-8692-4ce8-b729-046d74e180ae",
   "metadata": {},
   "outputs": [],
   "source": [
    "import matplotlib.pyplot as plt\n",
    "import numpy as np\n",
    "from scipy import signal\n",
    "from pathlib import Path\n",
    "from mycolorpy import colorlist as mcp\n",
    "\n",
    "from lotr.plotting.color_utils import get_continuous_colors, get_n_colors"
   ]
  },
  {
   "cell_type": "code",
   "execution_count": null,
   "id": "4ae5442b-a059-4089-af87-bb0a3dc885fb",
   "metadata": {},
   "outputs": [],
   "source": [
    "# Initializing figure\n",
    "fig, ax = plt.subplots(1,3, figsize=(8,3))\n",
    "ax[1].axis('off')\n",
    "ax[2].axis('off')\n",
    "\n",
    "ax[0].set_ylabel('Firing rate (Hz)')\n",
    "ax[0].set_xlabel('Heading direction (degrees)')\n",
    "ax[0].spines['top'].set_visible(False)\n",
    "ax[0].set_yticks([])\n",
    "ax[0].spines['right'].set_visible(False)\n",
    "fig.subplots_adjust(bottom=0.25)"
   ]
  },
  {
   "cell_type": "code",
   "execution_count": null,
   "id": "50dc0d80-e3b5-4263-90f3-d9b72c075484",
   "metadata": {},
   "outputs": [],
   "source": [
    "####### ring attractor network with tuning colors \n",
    "n = 16\n",
    "col_list = get_n_colors(n, lum=45, sat=70, hshift=90) / 255\n",
    "t_ = np.arange(0, n) / n\n",
    "x = np.sin(t_*2*np.pi)\n",
    "y = np.cos(t_*2*np.pi)\n",
    "ax[1].scatter(x, y, c=col_list)\n",
    "\n",
    "####### Fake HDNs\n",
    "\n",
    "t = np.arange(0, 360)\n",
    "for i in range(4):\n",
    "    window = signal.gaussian(360, std=15) * 30\n",
    "    window = np.roll(window, (90 * i) + 140)\n",
    "    ax[0].plot(t, window, c=col_list[i*4])\n",
    "    ax[0].set_yticks([])\n",
    "    \n",
    "    \n",
    "####### ring attractor network with tuning colors \n",
    "col_list = mcp.gen_color(cmap='hot',n=n-10)\n",
    "ax[2].scatter(x, y, c='k')\n",
    "for i in range(5):\n",
    "    ax[2].scatter(x[5-i], y[5-i], c=col_list[i])\n",
    "    ax[2].scatter(x[i-5], y[i-5], c=col_list[i])\n",
    "ax[2].scatter(x[0], y[0], c=col_list[5])\n"
   ]
  },
  {
   "cell_type": "code",
   "execution_count": null,
   "id": "da63b76f-f753-40a7-874c-2b2331d1a37b",
   "metadata": {},
   "outputs": [],
   "source": []
  },
  {
   "cell_type": "code",
   "execution_count": null,
   "id": "692f04ff-5983-40f8-964f-dee6dd29c8cc",
   "metadata": {},
   "outputs": [],
   "source": [
    "file_name = 'fig1_ipn_grant.pdf'\n",
    "fig.savefig(Path(r\"\\\\funes\\Shared\\Hagar\") / file_name, dpi=300)"
   ]
  },
  {
   "cell_type": "code",
   "execution_count": null,
   "id": "20d89a2a-4951-440b-b773-387c45761f8f",
   "metadata": {},
   "outputs": [],
   "source": []
  }
 ],
 "metadata": {
  "kernelspec": {
   "display_name": "Python 3",
   "language": "python",
   "name": "python3"
  },
  "language_info": {
   "codemirror_mode": {
    "name": "ipython",
    "version": 3
   },
   "file_extension": ".py",
   "mimetype": "text/x-python",
   "name": "python",
   "nbconvert_exporter": "python",
   "pygments_lexer": "ipython3",
   "version": "3.7.10"
  }
 },
 "nbformat": 4,
 "nbformat_minor": 5
}
