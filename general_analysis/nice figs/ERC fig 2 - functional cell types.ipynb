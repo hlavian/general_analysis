{
 "cells": [
  {
   "cell_type": "code",
   "execution_count": null,
   "id": "cdf1f7ff-51eb-4684-8db7-193d96d663ed",
   "metadata": {},
   "outputs": [],
   "source": [
    "%matplotlib widget"
   ]
  },
  {
   "cell_type": "code",
   "execution_count": null,
   "id": "30a7050a-a65d-4260-ab4b-921de42cadd4",
   "metadata": {},
   "outputs": [],
   "source": [
    "from glob import glob\n",
    "import numpy as np\n",
    "import pandas as pd\n",
    "import flammkuchen as fl\n",
    "from split_dataset import SplitDataset\n",
    "\n",
    "import colorspacious\n",
    "import matplotlib.pyplot as plt\n",
    "import json\n",
    "from pathlib import Path\n",
    "import tifffile as tiff"
   ]
  },
  {
   "cell_type": "code",
   "execution_count": null,
   "id": "cf632a36-3615-4ced-b2cb-c52626eea667",
   "metadata": {},
   "outputs": [],
   "source": [
    "master = Path(r\"Z:\\Hagar\\E0040\\v31\\pre ablation 2p\")\n",
    "fish_list = list(master.glob(\"*_f*\"))\n",
    "path = fish_list[0]\n",
    "print(path)"
   ]
  },
  {
   "cell_type": "code",
   "execution_count": null,
   "id": "b81f2442-05aa-4532-93f7-8d1ef73c4916",
   "metadata": {},
   "outputs": [],
   "source": [
    "suite2p_data = fl.load(path / \"data_from_suite2p_cells.h5\")\n",
    "anatomy = suite2p_data['anatomy_stack']\n",
    "traces = fl.load(path / \"filtered_traces.h5\", \"/detr\")\n",
    "coords = suite2p_data['coords']"
   ]
  },
  {
   "cell_type": "code",
   "execution_count": null,
   "id": "23c9bf51-d53b-403a-99cd-88dd0b9cda36",
   "metadata": {},
   "outputs": [],
   "source": [
    "ref_path = Path(r\"Z:\\Hagar\\mpin_zfish_1um_v1.1\\H2BGCaMP.tiff\")\n",
    "ref = tiff.imread(ref_path)"
   ]
  },
  {
   "cell_type": "code",
   "execution_count": null,
   "id": "7cd5526b-d177-4f41-86bb-c7c06320cd30",
   "metadata": {},
   "outputs": [],
   "source": [
    "fig, axs = plt.subplots(1, 2, figsize=(8,3), gridspec_kw={'width_ratios': [1,2]})"
   ]
  },
  {
   "cell_type": "code",
   "execution_count": null,
   "id": "6ad8166a-8fed-418b-8966-9e4125c09324",
   "metadata": {},
   "outputs": [],
   "source": [
    "axs[0].set_ylim(800, 0)"
   ]
  },
  {
   "cell_type": "code",
   "execution_count": null,
   "id": "24b037d9-f9c4-47a2-9828-d623e199a06d",
   "metadata": {},
   "outputs": [],
   "source": [
    "axs[0].imshow(np.sum(ref, axis=1), cmap=\"gray_r\", origin='upper')\n",
    "axs[0].axis('off')"
   ]
  },
  {
   "cell_type": "code",
   "execution_count": null,
   "id": "4e232507-4408-4601-addf-a8119082f144",
   "metadata": {},
   "outputs": [],
   "source": [
    "axs[1].text(0, 100, \"Heading direction neurons\", fontsize=9)\n",
    "axs[1].text(0, 60, \"Motor neurons\", fontsize=9)\n",
    "axs[1].text(0, 23, \"Sensory neurons\", fontsize=9)"
   ]
  },
  {
   "cell_type": "code",
   "execution_count": null,
   "id": "0b3ed503-415d-4fec-9210-91a9632efd8b",
   "metadata": {},
   "outputs": [],
   "source": []
  },
  {
   "cell_type": "code",
   "execution_count": null,
   "id": "7be05e41-ff6e-46de-a0ba-12d77508bb21",
   "metadata": {},
   "outputs": [],
   "source": []
  },
  {
   "cell_type": "code",
   "execution_count": null,
   "id": "a8c25a42-fa6d-4510-815d-ec96bb8b7a26",
   "metadata": {},
   "outputs": [],
   "source": [
    "file_name = \"aim2 with confocal ref legend.pdf\"\n",
    "fig.savefig(path / file_name, dpi=300)"
   ]
  },
  {
   "cell_type": "code",
   "execution_count": null,
   "id": "7d6f6ab6-19d2-40b0-9d6a-4dbea3e80048",
   "metadata": {},
   "outputs": [],
   "source": [
    "axs[0].imshow(np.sum(anatomy, axis=0), cmap=\"gray_r\", origin='lower')\n",
    "axs[0].axis('off')"
   ]
  },
  {
   "cell_type": "code",
   "execution_count": null,
   "id": "3a2f15f3-0993-4f82-a571-9fbdd5ec8b17",
   "metadata": {},
   "outputs": [],
   "source": [
    "file_name = \"aim2 with confocal anatomy.pdf\"\n",
    "fig.savefig(path / file_name, dpi=300)"
   ]
  },
  {
   "cell_type": "code",
   "execution_count": null,
   "id": "5fea8830-33c4-4a02-b19d-4d5333af0adc",
   "metadata": {},
   "outputs": [],
   "source": []
  },
  {
   "cell_type": "code",
   "execution_count": null,
   "id": "e1bcdbbd-c47f-4081-a190-942e0760dd14",
   "metadata": {},
   "outputs": [],
   "source": [
    "sens_regs = fl.load(path / \"sensory_regressors.h5\", \"/regressors\")\n",
    "left = np.asarray(sens_regs.iloc[:, 0])\n",
    "right = np.asarray(sens_regs.iloc[:, 4])\n",
    "num_traces = np.shape(traces)[1]\n",
    "\n",
    "reg_corr_left = np.zeros((num_traces))\n",
    "reg_corr_right = np.zeros((num_traces))\n",
    "\n",
    "for i in range(num_traces):\n",
    "    reg_corr_left[i] = np.corrcoef(left, traces[:, i])[0,1]\n",
    "    reg_corr_right[i] = np.corrcoef(right, traces[:, i])[0,1]\n",
    "\n",
    "\n",
    "mp_ind_l = np.argsort(np.abs(reg_corr_left))\n",
    "mp_ind_r = np.argsort(np.abs(reg_corr_right))"
   ]
  },
  {
   "cell_type": "code",
   "execution_count": null,
   "id": "b914b150-7132-419a-9c93-dd8b3dd4f9fb",
   "metadata": {},
   "outputs": [],
   "source": [
    "reg_corr_left[mp_ind_l]"
   ]
  },
  {
   "cell_type": "code",
   "execution_count": null,
   "id": "d2733542-f33b-4090-802e-769f92bfc8f8",
   "metadata": {},
   "outputs": [],
   "source": [
    "l_traces = traces[:, mp_ind_l[-5:]]\n",
    "r_traces = traces[:, mp_ind_r[-5:]]"
   ]
  },
  {
   "cell_type": "code",
   "execution_count": null,
   "id": "78a5c0f5-4b64-49b7-b654-d9273bf1c713",
   "metadata": {},
   "outputs": [],
   "source": [
    "t_sensory =  np.arange(0, np.shape(traces)[0]) / 2"
   ]
  },
  {
   "cell_type": "code",
   "execution_count": null,
   "id": "9ef916fb-2e47-48b4-90f7-c3cd9004aea2",
   "metadata": {},
   "outputs": [],
   "source": [
    "for i in range(2):\n",
    "    axs[1].plot(t_sensory, l_traces[:,i] + i*5, c='skyblue')\n",
    "    \n",
    "    axs[1].plot(t_sensory, r_traces[:,i] + i*5 + 10, c='skyblue')"
   ]
  },
  {
   "cell_type": "code",
   "execution_count": null,
   "id": "505ddf0c-c48f-482e-a5d2-98f146e4fdaf",
   "metadata": {},
   "outputs": [],
   "source": [
    "axs[1].set_xlim(0, 1800)"
   ]
  },
  {
   "cell_type": "code",
   "execution_count": null,
   "id": "2d43464e-eb3b-4f40-a6ad-d899279bc373",
   "metadata": {},
   "outputs": [],
   "source": [
    "axs[1].axis('off')"
   ]
  },
  {
   "cell_type": "code",
   "execution_count": null,
   "id": "4bfe4de4-decc-4e94-95cf-4a323fc35fab",
   "metadata": {},
   "outputs": [],
   "source": []
  },
  {
   "cell_type": "code",
   "execution_count": null,
   "id": "e3bb5b36-c324-4dbb-a2a4-791d070993a7",
   "metadata": {},
   "outputs": [],
   "source": []
  },
  {
   "cell_type": "code",
   "execution_count": null,
   "id": "78d3479e-791d-4502-8462-338cfa5f1402",
   "metadata": {},
   "outputs": [],
   "source": []
  },
  {
   "cell_type": "code",
   "execution_count": null,
   "id": "e6642a2d-5d43-48ce-a316-9f4cee03b77d",
   "metadata": {},
   "outputs": [],
   "source": [
    "hdns_path = Path(r\"\\\\funes2\\legacy\\experiments\\E0071_lotr\\full_ring\\210511_f0\\210511_f0b_natmov\")"
   ]
  },
  {
   "cell_type": "code",
   "execution_count": null,
   "id": "5a595865-ec50-488a-a1a5-d30a24d3fc11",
   "metadata": {},
   "outputs": [],
   "source": [
    "hdns_traces = fl.load(hdns_path / \"filtered_traces.h5\", \"/detr\")\n",
    "hdns_idx = fl.load(hdns_path / \"selected.h5\")\n",
    "hdns = hdns_traces[:,hdns_idx]"
   ]
  },
  {
   "cell_type": "code",
   "execution_count": null,
   "id": "9bdf5f2a-9832-43a7-a64f-4863ac797b1e",
   "metadata": {},
   "outputs": [],
   "source": [
    "t_hdn = np.arange(0, np.shape(hdns_traces)[0]) / 5"
   ]
  },
  {
   "cell_type": "code",
   "execution_count": null,
   "id": "5a81d50b-9252-4335-a98c-a72d615c84f1",
   "metadata": {},
   "outputs": [],
   "source": [
    "for i in range(2):\n",
    "    axs[1].plot(t_hdn, hdns[:,i] + i*5 + 80, c='orchid')\n",
    "    \n",
    "    axs[1].plot(t_hdn, hdns[:,i+20] + i*5 + 90, c='orchid')"
   ]
  },
  {
   "cell_type": "code",
   "execution_count": null,
   "id": "b2953483-931d-497c-a398-439e08f61bb0",
   "metadata": {},
   "outputs": [],
   "source": []
  },
  {
   "cell_type": "code",
   "execution_count": null,
   "id": "4a9f6165-0be8-46c5-a357-4150a2ee8ea0",
   "metadata": {},
   "outputs": [],
   "source": []
  },
  {
   "cell_type": "code",
   "execution_count": null,
   "id": "5800b4dd-1cb4-46e4-a55f-aab0ae6d2e21",
   "metadata": {},
   "outputs": [],
   "source": [
    "mot_regs = fl.load(hdns_path / \"motor_regressors.h5\")"
   ]
  },
  {
   "cell_type": "code",
   "execution_count": null,
   "id": "a555e8e7-fb08-40b8-8846-3c873f5f95a1",
   "metadata": {},
   "outputs": [],
   "source": [
    "reg_mot_left = np.asarray(mot_regs['left_bias'])\n",
    "reg_mot_right = np.asarray(mot_regs['right_bias'])"
   ]
  },
  {
   "cell_type": "code",
   "execution_count": null,
   "id": "4bd368b5-e1cd-4f32-920e-f36cd0148655",
   "metadata": {},
   "outputs": [],
   "source": [
    "mp_ind_lmot = np.argsort(np.abs(reg_mot_left))\n",
    "mp_ind_rmot = np.argsort(np.abs(reg_mot_right))\n",
    "\n",
    "l_mot_traces = hdns_traces[:, mp_ind_lmot[-5:]]\n",
    "r_mot_traces = hdns_traces[:, mp_ind_rmot[-5:]]"
   ]
  },
  {
   "cell_type": "code",
   "execution_count": null,
   "id": "1270a85c-6180-4068-833d-5e522e51c5a6",
   "metadata": {},
   "outputs": [],
   "source": [
    "for i in range(2):\n",
    "    axs[1].plot(t_hdn, l_mot_traces[:,i] + i*5 + 40, c='coral')\n",
    "    \n",
    "    axs[1].plot(t_hdn, r_mot_traces[:,i] + i*5 + 50, c='coral')"
   ]
  },
  {
   "cell_type": "code",
   "execution_count": null,
   "id": "397e72c9-8f9e-4f4e-b3e7-88b8c8e5b984",
   "metadata": {},
   "outputs": [],
   "source": []
  }
 ],
 "metadata": {
  "kernelspec": {
   "display_name": "Python 3",
   "language": "python",
   "name": "python3"
  },
  "language_info": {
   "codemirror_mode": {
    "name": "ipython",
    "version": 3
   },
   "file_extension": ".py",
   "mimetype": "text/x-python",
   "name": "python",
   "nbconvert_exporter": "python",
   "pygments_lexer": "ipython3",
   "version": "3.7.10"
  }
 },
 "nbformat": 4,
 "nbformat_minor": 5
}
