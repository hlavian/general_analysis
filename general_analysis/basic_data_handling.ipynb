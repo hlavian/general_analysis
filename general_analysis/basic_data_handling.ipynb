{
 "cells": [
  {
   "cell_type": "code",
   "execution_count": null,
   "id": "d5709698-9f7f-4449-b061-0088580962c8",
   "metadata": {},
   "outputs": [],
   "source": [
    "%matplotlib widget"
   ]
  },
  {
   "cell_type": "code",
   "execution_count": null,
   "id": "a4bdb8f7-6065-44fc-8095-41d5c0f55c80",
   "metadata": {},
   "outputs": [],
   "source": [
    "from pathlib import Path\n",
    "import numpy as np\n",
    "import flammkuchen as fl\n",
    "import pandas as pd\n",
    "\n",
    "from fimpylab import LightsheetExperiment\n",
    "\n",
    "from matplotlib import  pyplot as plt"
   ]
  },
  {
   "cell_type": "code",
   "execution_count": null,
   "id": "aabdea0c-2bdc-4433-93fc-98c3d5cfb8a2",
   "metadata": {},
   "outputs": [],
   "source": [
    "master =  Path(r\"\\\\funes\\Shared\\experiments\\E0040_motions_cardinal\\v21\\ls\\h2b_wb\")\n",
    "paths_list = list(master.glob(\"*_f*\"))\n",
    "path = paths_list[0]"
   ]
  },
  {
   "cell_type": "code",
   "execution_count": null,
   "id": "c02eaec2-ffb6-4ea7-8bbd-d6d3d1402b78",
   "metadata": {},
   "outputs": [],
   "source": [
    "suite2p_data = fl.load(path / \"data_from_suite2p_cells.h5\")\n",
    "roi_map = suite2p_data['rois_stack']\n",
    "coords = suite2p_data['coords']\n",
    "anatomy = suite2p_data['anatomy_stack']\n",
    "traces = suite2p_data['traces']"
   ]
  },
  {
   "cell_type": "code",
   "execution_count": null,
   "id": "c63e6988-3f8b-48da-abdc-8dbf31da5155",
   "metadata": {},
   "outputs": [],
   "source": [
    "# showing ROIs on anatomy \n",
    "fig, ax = plt.subplots(1, 2, figsize=(8, 4))\n",
    "anatomy_show = np.rot90(np.mean(anatomy, axis=0))\n",
    "ax[0].imshow(anatomy_show, cmap=\"gray_r\")\n",
    "ax[0].axis('off')"
   ]
  },
  {
   "cell_type": "code",
   "execution_count": null,
   "id": "dcdfb20a-2f30-4027-8292-a22bde522ebe",
   "metadata": {},
   "outputs": [],
   "source": [
    "# z scoring traces \n",
    "norm_traces = np.copy(traces).T\n",
    "sd=np.nanstd(norm_traces, 0)\n",
    "mean=np.nanmean(norm_traces, 0)\n",
    "norm_traces=norm_traces-mean \n",
    "norm_traces=norm_traces/sd\n",
    "norm_traces=norm_traces.T"
   ]
  },
  {
   "cell_type": "code",
   "execution_count": null,
   "id": "f7473fb3-bba4-4e88-81d1-37669698bce6",
   "metadata": {},
   "outputs": [],
   "source": [
    "# plotting traces \n",
    "ax[1].imshow(norm_traces, cmap=\"coolwarm\", vmin=-2, vmax=2, aspect='auto')"
   ]
  },
  {
   "cell_type": "code",
   "execution_count": null,
   "id": "f59488a5-2c06-4aa0-9e27-453f44d60aef",
   "metadata": {},
   "outputs": [],
   "source": []
  }
 ],
 "metadata": {
  "kernelspec": {
   "display_name": "Python 3",
   "language": "python",
   "name": "python3"
  },
  "language_info": {
   "codemirror_mode": {
    "name": "ipython",
    "version": 3
   },
   "file_extension": ".py",
   "mimetype": "text/x-python",
   "name": "python",
   "nbconvert_exporter": "python",
   "pygments_lexer": "ipython3",
   "version": "3.7.10"
  }
 },
 "nbformat": 4,
 "nbformat_minor": 5
}
