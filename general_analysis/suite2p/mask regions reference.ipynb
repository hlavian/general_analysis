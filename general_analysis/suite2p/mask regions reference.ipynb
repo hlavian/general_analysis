{
 "cells": [
  {
   "cell_type": "code",
   "execution_count": null,
   "id": "87cca1a6-9543-48ac-b1ad-6c9ad3c90728",
   "metadata": {},
   "outputs": [],
   "source": [
    "%matplotlib widget\n",
    "import matplotlib.pyplot as plt"
   ]
  },
  {
   "cell_type": "code",
   "execution_count": null,
   "id": "c8bad4e1-6632-4aa7-975b-794e4ae65086",
   "metadata": {},
   "outputs": [],
   "source": [
    "import numpy as np\n",
    "import flammkuchen as fl\n",
    "import napari\n",
    "from pathlib import Path\n",
    "\n",
    "from split_dataset import SplitDataset\n",
    "import json\n",
    "\n",
    "import flammkuchen as fl "
   ]
  },
  {
   "cell_type": "code",
   "execution_count": null,
   "id": "b72e03c0-110a-471f-8ef2-88474373f4fe",
   "metadata": {},
   "outputs": [],
   "source": [
    "ref_path =  Path(r\"Z:\\Hagar\\E0040\\v31\\pre ablation\\230424_f5_pre\\registration\\ref_mapped.h5\")\n",
    "ref = fl.load(ref_path)"
   ]
  },
  {
   "cell_type": "code",
   "execution_count": null,
   "id": "d828bda4-9607-40bd-b10d-801c5e97ff55",
   "metadata": {},
   "outputs": [],
   "source": [
    "viewer = napari.view_image(ref,  colormap=\"gray\")\n",
    "l_habenula = np.zeros(np.shape(ref), dtype=int)\n",
    "r_habenula = np.zeros(np.shape(ref), dtype=int)\n",
    "ahb = np.zeros(np.shape(ref), dtype=int)\n",
    "ipn = np.zeros(np.shape(ref), dtype=int)\n",
    "pretectum = np.zeros(np.shape(ref), dtype=int)\n",
    "\n",
    "labels_layer = viewer.add_labels(l_habenula, name='l_habenula')\n",
    "labels_layer = viewer.add_labels(r_habenula, name='r_habenula')\n",
    "labels_layer = viewer.add_labels(ahb, name='ahb')\n",
    "labels_layer = viewer.add_labels(ipn, name='ipn')\n",
    "labels_layer = viewer.add_labels(pretectum, name='pretectum')\n"
   ]
  },
  {
   "cell_type": "code",
   "execution_count": null,
   "id": "73918e67-74ea-4dfb-90a8-65fd971c96f6",
   "metadata": {},
   "outputs": [],
   "source": [
    "#### Run the next cells only after marking the regions you want to keep in napari"
   ]
  },
  {
   "cell_type": "code",
   "execution_count": null,
   "id": "ed74584f-12a4-4a5a-b841-bf5ec790c94d",
   "metadata": {},
   "outputs": [],
   "source": [
    "labels_l_habenula = viewer.layers[\"l_habenula\"].data\n",
    "labels_r_habenula = viewer.layers[\"r_habenula\"].data\n",
    "labels_ahb = viewer.layers[\"ahb\"].data\n",
    "labels_ipn = viewer.layers[\"ipn\"].data\n",
    "labels_caudal_hindbrain = viewer.layers[\"caudal_hindbrain\"].data"
   ]
  },
  {
   "cell_type": "code",
   "execution_count": null,
   "id": "b7abea15-b6d9-4fc5-8a9c-f6670504ea0c",
   "metadata": {},
   "outputs": [],
   "source": [
    "save_path =  Path(r\"Z:\\Hagar\\E0040\\v31\")\n",
    "\n",
    "d = {\n",
    "    'l_habenula': labels_l_habenula,\n",
    "    'r_habenula': labels_r_habenula,\n",
    "    'ahb': labels_ahb,\n",
    "    'ipn': labels_ipn,\n",
    "}\n",
    "fl.save(save_path / 'reference_masks_regions', d)\n"
   ]
  },
  {
   "cell_type": "code",
   "execution_count": null,
   "id": "7bcdef69-f4cf-486f-9992-1bf16158e405",
   "metadata": {},
   "outputs": [],
   "source": []
  },
  {
   "cell_type": "code",
   "execution_count": null,
   "id": "a87c57e2-d04a-41b3-92f2-b0d17e4ba34c",
   "metadata": {},
   "outputs": [],
   "source": []
  },
  {
   "cell_type": "code",
   "execution_count": null,
   "id": "1775e34e-fea9-4e7d-8ce4-4a50b35905b7",
   "metadata": {},
   "outputs": [],
   "source": []
  },
  {
   "cell_type": "code",
   "execution_count": null,
   "id": "ec606d03-c3f3-4340-88b1-58b7a3b602cf",
   "metadata": {},
   "outputs": [],
   "source": []
  },
  {
   "cell_type": "code",
   "execution_count": null,
   "id": "540c55e6-5a37-475f-9a89-5761d573b284",
   "metadata": {},
   "outputs": [],
   "source": []
  },
  {
   "cell_type": "code",
   "execution_count": null,
   "id": "e6f7e2a0-55d8-48e2-912e-33eea9b41ef7",
   "metadata": {},
   "outputs": [],
   "source": [
    "save_path =  Path(r\"Z:\\Hagar\\E0040\\v31\")\n",
    "d = fl.load(save_path / 'reference_masks_regions', '/l_habenula')"
   ]
  },
  {
   "cell_type": "code",
   "execution_count": null,
   "id": "33ae9635-963b-40c7-8a72-1b45996caa04",
   "metadata": {},
   "outputs": [],
   "source": [
    "labels_l_habenula = fl.load(save_path / 'reference_masks_regions', '/l_habenula')\n",
    "labels_r_habenula = fl.load(save_path / 'reference_masks_regions', '/r_habenula')\n",
    "labels_ahb = fl.load(save_path / 'reference_masks_regions', '/ahb')\n",
    "labels_ipn = fl.load(save_path / 'reference_masks_regions', '/ipn')"
   ]
  },
  {
   "cell_type": "code",
   "execution_count": null,
   "id": "663f1f9e-8038-46fa-b162-ff54ea9ab6dc",
   "metadata": {},
   "outputs": [],
   "source": [
    "labels_list = [labels_l_habenula, labels_r_habenula, labels_ahb, labels_ipn]\n",
    "regions = ['l_habenula', 'r_habenula', 'ahb', 'ipn']"
   ]
  },
  {
   "cell_type": "code",
   "execution_count": null,
   "id": "c59b3529-f7e3-47da-be9d-3b7e9e0d9c83",
   "metadata": {},
   "outputs": [],
   "source": [
    "################## save coords in region "
   ]
  },
  {
   "cell_type": "code",
   "execution_count": null,
   "id": "2b246907-0b88-465c-a8cc-c2303e390206",
   "metadata": {},
   "outputs": [],
   "source": [
    "master_path = Path(r\"Z:\\Hagar\\E0040\\v31\\post ablation 2p\")\n",
    "fish_list = list(master_path.glob(\"*f*\"))\n",
    "unexported = [f for f in fish_list if not (f / \"registration\" / \"ref_brain_regions.h5\").exists()]\n",
    "\n",
    "path = unexported[0]\n",
    "print(path)\n",
    "print(len(unexported))"
   ]
  },
  {
   "cell_type": "code",
   "execution_count": null,
   "id": "84072c3c-383e-4824-9505-c4bfefcfcaaf",
   "metadata": {},
   "outputs": [],
   "source": [
    "all_coords = fl.load(path / 'registration' / \"mov_coords_transformed.h5\")\n",
    "#anatomy = fl.load(path / 'registration' / \"230424_f0_pre_warp.h5\")"
   ]
  },
  {
   "cell_type": "code",
   "execution_count": null,
   "id": "8a93f26d-2fed-416d-8067-bee41a5fd197",
   "metadata": {},
   "outputs": [],
   "source": [
    "coords_to_keep_list = []"
   ]
  },
  {
   "cell_type": "code",
   "execution_count": null,
   "id": "8a6e4685-fa55-4f2d-99f8-b282c6100e3e",
   "metadata": {},
   "outputs": [],
   "source": [
    "for region in range(len(regions)):\n",
    "    coords_to_remove = []\n",
    "    coords_to_keep = []\n",
    "    num_cells = np.shape(all_coords)[0]\n",
    "    stupid_cells = 0\n",
    "    curr_labels = labels_list[region]\n",
    "    for i in range(num_cells):\n",
    "        try:\n",
    "            tmp_cell = curr_labels[int(all_coords[i, 0]), int(all_coords[i, 1]), int(all_coords[i, 2])]\n",
    "            if tmp_cell < 1:\n",
    "                coords_to_remove = coords_to_remove + [i]\n",
    "            else:\n",
    "                coords_to_keep = coords_to_keep + [i]\n",
    "        except:\n",
    "            stupid_cells += 1\n",
    "    coords_to_keep_list = coords_to_keep_list + [coords_to_keep]\n",
    "    print(\"stupid cells: \", stupid_cells)"
   ]
  },
  {
   "cell_type": "code",
   "execution_count": null,
   "id": "05683259-e246-48ea-b15a-80f1fc999260",
   "metadata": {},
   "outputs": [],
   "source": [
    "len(coords_to_keep_list)"
   ]
  },
  {
   "cell_type": "code",
   "execution_count": null,
   "id": "3458275f-6e63-4a0d-979b-d84bc76250c7",
   "metadata": {},
   "outputs": [],
   "source": [
    "coords_save = {\n",
    "    'l_habenula': coords_to_keep_list[0],\n",
    "    'r_habenula': coords_to_keep_list[1],\n",
    "    'ahb': coords_to_keep_list[2],\n",
    "    'ipn': coords_to_keep_list[3],\n",
    "}\n",
    "fl.save(path / 'registration' / 'ref_brain_regions.h5', coords_save)"
   ]
  },
  {
   "cell_type": "code",
   "execution_count": null,
   "id": "daae09db-9246-4089-8dd6-1021f0552772",
   "metadata": {},
   "outputs": [],
   "source": [
    "s = [1, 1]"
   ]
  },
  {
   "cell_type": "code",
   "execution_count": null,
   "id": "b3195502-eb5f-41c7-9945-854c21f9528a",
   "metadata": {},
   "outputs": [],
   "source": [
    "d = s"
   ]
  },
  {
   "cell_type": "code",
   "execution_count": null,
   "id": "f76993db-1c2b-42dc-84bf-04af04f8b7dd",
   "metadata": {},
   "outputs": [],
   "source": [
    "d = d + [s]"
   ]
  },
  {
   "cell_type": "code",
   "execution_count": null,
   "id": "f8a2bbaa-00a9-475d-86da-30f6144fe55f",
   "metadata": {},
   "outputs": [],
   "source": [
    "d"
   ]
  },
  {
   "cell_type": "code",
   "execution_count": null,
   "id": "8eb8ba3e-ebd5-4d4c-ac92-14dbf97d242d",
   "metadata": {},
   "outputs": [],
   "source": []
  },
  {
   "cell_type": "code",
   "execution_count": null,
   "id": "9c1c0453-c014-4c6f-b50f-b27c7fddf536",
   "metadata": {},
   "outputs": [],
   "source": []
  },
  {
   "cell_type": "code",
   "execution_count": null,
   "id": "12c60023-57df-4957-8abd-18a82267cb61",
   "metadata": {},
   "outputs": [],
   "source": [
    "fig = plt.figure()\n",
    "plt.imshow(np.nanmean(anatomy, axis=2), cmap='gray_r')"
   ]
  },
  {
   "cell_type": "code",
   "execution_count": null,
   "id": "9ebdd7ed-ba9f-4d7d-a5f5-5c4fefc7a11c",
   "metadata": {},
   "outputs": [],
   "source": [
    "curr_coords = all_coords[coords_to_keep]\n",
    "plt.scatter(curr_coords[:, 1], curr_coords[:, 0], s=2)"
   ]
  },
  {
   "cell_type": "code",
   "execution_count": null,
   "id": "1feca07d-83e9-42ad-869e-826a1ca7a378",
   "metadata": {},
   "outputs": [],
   "source": []
  }
 ],
 "metadata": {
  "kernelspec": {
   "display_name": "Python 3",
   "language": "python",
   "name": "python3"
  },
  "language_info": {
   "codemirror_mode": {
    "name": "ipython",
    "version": 3
   },
   "file_extension": ".py",
   "mimetype": "text/x-python",
   "name": "python",
   "nbconvert_exporter": "python",
   "pygments_lexer": "ipython3",
   "version": "3.7.10"
  }
 },
 "nbformat": 4,
 "nbformat_minor": 5
}
