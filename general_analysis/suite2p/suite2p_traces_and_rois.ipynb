{
 "cells": [
  {
   "cell_type": "code",
   "execution_count": null,
   "id": "intimate-venice",
   "metadata": {},
   "outputs": [],
   "source": [
    "# get traces and rois from suite2p\n",
    "%matplotlib widget"
   ]
  },
  {
   "cell_type": "code",
   "execution_count": null,
   "id": "requested-topic",
   "metadata": {},
   "outputs": [],
   "source": [
    "import json\n",
    "from pathlib import Path\n",
    "import numpy as np\n",
    "import flammkuchen as fl\n",
    "import matplotlib.pyplot as plt \n",
    "from fimpylab.core.lightsheet_experiment import LightsheetExperiment"
   ]
  },
  {
   "cell_type": "code",
   "execution_count": null,
   "id": "excellent-world",
   "metadata": {},
   "outputs": [],
   "source": [
    "master_path = Path(r\"\\\\Funes\\Shared\\experiments\\E0044_spontaneous\\gad1b\\ls\\e0044_v00\")\n",
    "master_path = Path(r\"\\\\Funes\\shared\\experiments\\E0040_motions_cardinal\\v13_cw_ccw\\ls_fixed\")\n",
    "master_path = Path(r\"\\\\Funes\\Shared\\experiments\\E0020_random_coherences\\v35_two_options_forward_ol\\h2b\")\n",
    "files = list(master_path.glob(\"*_f*\"))\n",
    "fish_dir = files[2] \n",
    "print(fish_dir)"
   ]
  },
  {
   "cell_type": "code",
   "execution_count": null,
   "id": "tested-limit",
   "metadata": {},
   "outputs": [],
   "source": [
    "suite2p_data = fl.load(fish_dir / \"data_from_suite2p_cells.h5\")\n",
    "coords = suite2p_data[\"coords\"]\n",
    "traces = suite2p_data[\"traces\"]\n",
    "#rois_stack = suite2p_data[\"rois_stack\"]\n",
    "print(coords)\n",
    "\n",
    "try:\n",
    "    with open(next(fish_dir.glob(\"*metadata.json\"))) as i:\n",
    "        metadata = json.load(i)\n",
    "    fish_id = metadata['general']['fish_id']\n",
    "except:\n",
    "    fish_id = \"\"\n",
    "print(fish_dir)\n",
    "print(fish_id)"
   ]
  },
  {
   "cell_type": "code",
   "execution_count": null,
   "id": "alleged-pioneer",
   "metadata": {},
   "outputs": [],
   "source": [
    "fs = 2\n",
    "exp = LightsheetExperiment(fish_dir)\n",
    "beh_log = exp.behavior_log\n",
    "tail = np.asarray(beh_log['tail_sum'])\n",
    "t = np.asarray(beh_log[\"t\"]) / fs"
   ]
  },
  {
   "cell_type": "code",
   "execution_count": null,
   "id": "mathematical-expression",
   "metadata": {},
   "outputs": [],
   "source": [
    "#cell_ind = np.load(f / 'iscell.npy')\n",
    "#all_traces = np.load(f / 'F.npy')\n",
    "#traces =all_traces[cell_ind[:,0]==1]"
   ]
  },
  {
   "cell_type": "code",
   "execution_count": null,
   "id": "stunning-deadline",
   "metadata": {},
   "outputs": [],
   "source": [
    "num_traces, len_rec = np.shape(traces)\n",
    "print(np.shape(traces))"
   ]
  },
  {
   "cell_type": "code",
   "execution_count": null,
   "id": "institutional-thesaurus",
   "metadata": {},
   "outputs": [],
   "source": [
    "fix_traces = np.copy(traces)\n",
    "# remove_ind = np.where(np.nanstd(traces, 0) == 0)\n",
    "# print(remove_ind)\n",
    "\n",
    "remove_ind = []\n",
    "for i in range(num_traces):\n",
    "    tmp_trace = fix_traces[i]\n",
    "    #print(tmp_trace)\n",
    "    if np.nanstd(tmp_trace) == 0:\n",
    "        remove_ind.append(i)\n",
    "print(remove_ind)\n",
    "\n",
    "#fix_traces = np.delete(fix_traces, (remove_ind), axis=0)"
   ]
  },
  {
   "cell_type": "code",
   "execution_count": null,
   "id": "aerial-kingston",
   "metadata": {},
   "outputs": [],
   "source": [
    "num_traces, len_rec = np.shape(fix_traces)\n",
    "print(np.shape(fix_traces))"
   ]
  },
  {
   "cell_type": "code",
   "execution_count": null,
   "id": "federal-planet",
   "metadata": {},
   "outputs": [],
   "source": [
    "norm_traces = np.copy(fix_traces)\n",
    "sd=np.nanstd(norm_traces, 0)\n",
    "mean=np.nanmean(norm_traces, 0)\n",
    "norm_traces=norm_traces-mean \n",
    "norm_traces=norm_traces/sd\n",
    "print(np.shape(norm_traces))"
   ]
  },
  {
   "cell_type": "code",
   "execution_count": null,
   "id": "welsh-anthropology",
   "metadata": {},
   "outputs": [],
   "source": [
    "## sort traces according to z location \n",
    "z = coords[:,0]\n",
    "print(z)"
   ]
  },
  {
   "cell_type": "code",
   "execution_count": null,
   "id": "satisfied-magnitude",
   "metadata": {},
   "outputs": [],
   "source": [
    "fig1 = plt.figure(figsize=(10,7))\n",
    "plt.imshow(fix_traces, aspect=\"auto\", vmin=np.percentile(fix_traces, 1), vmax=np.percentile(fix_traces, 99), cmap=\"coolwarm\")\n",
    "plt.title(fish_id)\n",
    "file_name = \"traces\" + fish_id + \".jpg\"\n",
    "fig1.savefig(str(fish_dir / file_name), dpi=300)\n",
    "\n"
   ]
  },
  {
   "cell_type": "code",
   "execution_count": null,
   "id": "moderate-acrobat",
   "metadata": {},
   "outputs": [],
   "source": [
    "print(np.percentile(norm_traces, 99))\n",
    "print(np.percentile(norm_traces, 5))"
   ]
  },
  {
   "cell_type": "code",
   "execution_count": null,
   "id": "eight-virgin",
   "metadata": {},
   "outputs": [],
   "source": [
    "fig2, (a0, a1) = plt.subplots(2, 1, gridspec_kw={'height_ratios': [1, 8]}, figsize=(10,5))\n",
    "a0.plot(t, tail, linewidth=1)\n",
    "a0.axis('off')\n",
    "a1.imshow(norm_traces, aspect=\"auto\", vmin=np.percentile(norm_traces, 1), vmax=np.percentile(norm_traces, 99), cmap=\"coolwarm\")\n",
    "plt.suptitle(fish_id)\n",
    "file_name = \"norm_traces\" + fish_id + \".jpg\"\n",
    "fig2.tight_layout()\n",
    "fig2.savefig(str(fish_dir / file_name), dpi=300)"
   ]
  },
  {
   "cell_type": "code",
   "execution_count": null,
   "id": "radical-theta",
   "metadata": {},
   "outputs": [],
   "source": [
    "corr_mat = np.corrcoef(norm_traces)\n"
   ]
  },
  {
   "cell_type": "code",
   "execution_count": null,
   "id": "grand-spare",
   "metadata": {},
   "outputs": [],
   "source": [
    "np.shape(corr_mat)"
   ]
  },
  {
   "cell_type": "code",
   "execution_count": null,
   "id": "preliminary-cliff",
   "metadata": {},
   "outputs": [],
   "source": [
    "fig3 = plt.figure(figsize=(10,7))\n",
    "plt.imshow(corr_mat, aspect=\"auto\", vmin=-0.3, vmax=0.3, cmap=\"coolwarm\")\n",
    "plt.title(fish_id)\n",
    "file_name = \"corrmat\" + fish_id + \"_211031.jpg\"\n",
    "fig3.savefig(str(fish_dir / file_name), dpi=300)"
   ]
  },
  {
   "cell_type": "code",
   "execution_count": null,
   "id": "taken-reservoir",
   "metadata": {},
   "outputs": [],
   "source": []
  }
 ],
 "metadata": {
  "kernelspec": {
   "display_name": "Python 3 (ipykernel)",
   "language": "python",
   "name": "python3"
  },
  "language_info": {
   "codemirror_mode": {
    "name": "ipython",
    "version": 3
   },
   "file_extension": ".py",
   "mimetype": "text/x-python",
   "name": "python",
   "nbconvert_exporter": "python",
   "pygments_lexer": "ipython3",
   "version": "3.7.10"
  }
 },
 "nbformat": 4,
 "nbformat_minor": 5
}
