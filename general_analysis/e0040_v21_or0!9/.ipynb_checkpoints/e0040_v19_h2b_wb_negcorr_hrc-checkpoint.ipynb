{
 "cells": [
  {
   "cell_type": "code",
   "execution_count": 1,
   "id": "thousand-joining",
   "metadata": {},
   "outputs": [],
   "source": [
    "%matplotlib widget"
   ]
  },
  {
   "cell_type": "code",
   "execution_count": 2,
   "id": "geographic-maker",
   "metadata": {},
   "outputs": [],
   "source": [
    "import numpy as np\n",
    "import tables\n",
    "import flammkuchen as fl\n",
    "from pathlib import Path\n",
    "from tqdm import tqdm\n",
    "from fimpylab.utils.suite2p_conv import export_suite2p\n",
    "import tifffile as tiff\n",
    "import matplotlib.pyplot as plt\n",
    "\n",
    "from fimpylab.core.lightsheet_experiment import LightsheetExperiment\n",
    "\n",
    "import json\n",
    "from scipy.optimize import quadratic_assignment\n",
    "from lotr.pca import qap_sorting_and_phase\n",
    "\n",
    "import statsmodels.api as sm"
   ]
  },
  {
   "cell_type": "code",
   "execution_count": 3,
   "id": "strong-kernel",
   "metadata": {},
   "outputs": [
    {
     "name": "stdout",
     "output_type": "stream",
     "text": [
      "10\n"
     ]
    }
   ],
   "source": [
    "master_path =  Path(r\"\\\\FUNES\\Shared\\experiments\\E0040_motions_cardinal\\v21\\ls\\h2b_wb\")\n",
    "files = list(master_path.glob(\"*_f*\"))\n",
    "print(len(files))"
   ]
  },
  {
   "cell_type": "code",
   "execution_count": 77,
   "id": "exposed-guidance",
   "metadata": {},
   "outputs": [
    {
     "name": "stdout",
     "output_type": "stream",
     "text": [
      "19849 4800\n"
     ]
    }
   ],
   "source": [
    "fish_dir = files[9]\n",
    "suite2p_data = fl.load(fish_dir / 'data_from_suite2p_cells.h5')\n",
    "roi_coords = suite2p_data['coords']\n",
    "\n",
    "traces = suite2p_data['traces']\n",
    "norm_traces = np.copy(traces)\n",
    "norm_traces = norm_traces.T\n",
    "sd = np.nanstd(norm_traces, 0)\n",
    "mean = np.nanmean(norm_traces, 0)\n",
    "norm_traces = norm_traces - mean\n",
    "norm_traces = norm_traces / sd\n",
    "\n",
    "\n",
    "norm_traces = fl.load(fish_dir / 'filtered_traces.h5')['detr']\n",
    "norm_traces = norm_traces.T\n",
    "\n",
    "num_rois, len_rec = np.shape(norm_traces)\n",
    "print(num_rois, len_rec)\n",
    "\n",
    "#norm_traces = norm_traces[:, 1000:2000]\n"
   ]
  },
  {
   "cell_type": "code",
   "execution_count": null,
   "id": "looking-mauritius",
   "metadata": {},
   "outputs": [],
   "source": [
    "bin_size = 600 # 5 minutes\n",
    "for i in range(8):\n",
    "    t1 = i * bin_size\n",
    "    t2 = t1 + bin_size\n",
    "    tmp_traces = norm_traces[:, t1:t2]\n",
    "    \n",
    "    corrmat = np.corrcoef(tmp_traces)\n",
    "    ng_corr_ind = np.unique(np.where(corrmat < corr_thresh)[0])\n",
    "    min_val = np.nanmin(corrmat, axis=0)\n"
   ]
  },
  {
   "cell_type": "code",
   "execution_count": 78,
   "id": "several-aquarium",
   "metadata": {},
   "outputs": [
    {
     "data": {
      "application/vnd.jupyter.widget-view+json": {
       "model_id": "5cbe84567324416a8edbf2bb1679bc86",
       "version_major": 2,
       "version_minor": 0
      },
      "text/plain": [
       "Canvas(toolbar=Toolbar(toolitems=[('Home', 'Reset original view', 'home', 'home'), ('Back', 'Back to previous …"
      ]
     },
     "metadata": {},
     "output_type": "display_data"
    }
   ],
   "source": [
    "corr_thresh = -0.65\n",
    "corrmat = np.corrcoef(norm_traces)\n",
    "\n",
    "corrmat[np.where(corrmat > 0.99)] = 0\n",
    "ng_corr_ind = np.unique(np.where(corrmat < corr_thresh)[0])\n",
    "pos_corr_ind = np.unique(np.where(corrmat > 0.9)[0])\n",
    "\n",
    "corrmat_neg = corrmat[ng_corr_ind]\n",
    "norm_traces_neg = norm_traces[ng_corr_ind]\n",
    "\n",
    "num_ng = np.shape(ng_corr_ind)[0]\n",
    "\n",
    "\n",
    "min_val = np.nanmin(corrmat, axis=0)\n",
    "max_val = np.nanmax(corrmat, axis=0)\n",
    "\n",
    "corrmat2 = np.zeros_like(corrmat)\n",
    "corrmat2[np.where(corrmat < corr_thresh)] = 1\n",
    "num_min_per_cell= np.sum(corrmat2, axis=1)\n",
    "\n",
    "\n",
    "anatomy = np.sum(suite2p_data['anatomy_stack'], 0)\n",
    "anatomy = np.rot90(anatomy, k=3)\n",
    "\n",
    "fig_all, ax = plt.subplots(3, 3, figsize=(8,12), sharex=True, sharey=True)\n",
    "ax[0,0].imshow(anatomy, cmap=\"gray_r\")\n",
    "ax[0,0].axis('off')\n",
    "ax[0,0].set_title('Anatomy')\n",
    "\n",
    "ax[0,1].scatter(roi_coords[:, 1], roi_coords[:, 2], c=min_val, cmap='hot', s=3, vmin=-1, vmax=0)\n",
    "ax[0,1].axis('off')\n",
    "ax[0,1].set_title('Minimal correlation')\n",
    "\n",
    "ax[0,2].scatter(roi_coords[ng_corr_ind, 1], roi_coords[ng_corr_ind, 2], c='k', s=3)\n",
    "ax[0,2].axis('off')\n",
    "ax[0,2].set_title('Minimal correlated neurons')\n",
    "\n",
    "ax[1,0].scatter(roi_coords[ng_corr_ind, 1], roi_coords[ng_corr_ind, 2], c=num_min_per_cell[ng_corr_ind], cmap='Greens', s=3, vmin=0, vmax=20)\n",
    "ax[1,0].axis('off')\n",
    "ax[1,0].set_title('Number of antcorrelated neurons')\n",
    "\n",
    "\n",
    "ax[1,1].scatter(roi_coords[:, 1], roi_coords[:, 2], c=max_val, cmap='hot', s=3, vmin=0, vmax=1)\n",
    "ax[1,1].axis('off')\n",
    "ax[1,1].set_title('Maximal correlation')\n",
    "\n",
    "ax[1,2].scatter(roi_coords[pos_corr_ind, 1], roi_coords[pos_corr_ind, 2], c='k', s=3)\n",
    "ax[1,2].axis('off')\n",
    "ax[1,2].set_title('Maximal correlated neurons')\n",
    "\n",
    "\n",
    "\n",
    "n_lags = 100\n",
    "norm_traces_neg_for_ac = norm_traces_neg.T\n",
    "num_traces_ng = np.shape(ng_corr_ind)[0]\n",
    "AC_all = np.zeros((n_lags+1, num_traces_ng))\n",
    "for i in range(num_traces_ng):\n",
    "    ys =  sm.tsa.acf(norm_traces_neg_for_ac[:,i], nlags=n_lags)\n",
    "    AC_all[:, i] = ys\n",
    "    \n",
    "ac_tau = AC_all[50, :]\n",
    "ax[2,1].scatter(roi_coords[ng_corr_ind, 1], roi_coords[ng_corr_ind, 2], c=ac_tau, cmap='Reds', s=3)\n",
    "ax[2,1].axis('off')\n",
    "ax[2,1].set_title('Autocorrelation at 50')\n",
    "\n",
    "ac_tau = AC_all[100, :]\n",
    "ax[2,2].scatter(roi_coords[ng_corr_ind, 1], roi_coords[ng_corr_ind, 2], c=ac_tau, cmap='Reds', s=3)\n",
    "ax[2,2].axis('off')\n",
    "ax[2,2].set_title('Autocorrelation at 100')\n",
    "\n",
    "ax[2,0].axis('off')\n",
    "\n",
    "\n",
    "file_name = 'ROI_maps_anticorr_220323.jpg'\n",
    "fig_all.savefig(fish_dir / file_name, dpi=300)\n"
   ]
  },
  {
   "cell_type": "code",
   "execution_count": 64,
   "id": "fantastic-girlfriend",
   "metadata": {},
   "outputs": [
    {
     "data": {
      "text/plain": [
       "array([0.69725049, 0.58775684, 0.52678792, ..., 0.50663329, 0.85824717,\n",
       "       0.43912212])"
      ]
     },
     "execution_count": 64,
     "metadata": {},
     "output_type": "execute_result"
    }
   ],
   "source": [
    "max_val"
   ]
  },
  {
   "cell_type": "code",
   "execution_count": 29,
   "id": "black-wireless",
   "metadata": {},
   "outputs": [
    {
     "name": "stdout",
     "output_type": "stream",
     "text": [
      "\\\\FUNES\\Shared\\experiments\\E0040_motions_cardinal\\v21\\ls\\h2b_wb\\220221_f0\n"
     ]
    },
    {
     "data": {
      "application/vnd.jupyter.widget-view+json": {
       "model_id": "9e65209114b946589e27339104300d01",
       "version_major": 2,
       "version_minor": 0
      },
      "text/plain": [
       "Canvas(toolbar=Toolbar(toolitems=[('Home', 'Reset original view', 'home', 'home'), ('Back', 'Back to previous …"
      ]
     },
     "metadata": {},
     "output_type": "display_data"
    },
    {
     "ename": "ValueError",
     "evalue": "Expected the given number of height ratios to match the number of rows of the grid",
     "output_type": "error",
     "traceback": [
      "\u001b[1;31m---------------------------------------------------------------------------\u001b[0m",
      "\u001b[1;31mValueError\u001b[0m                                Traceback (most recent call last)",
      "\u001b[1;32m<ipython-input-29-729079b389d6>\u001b[0m in \u001b[0;36m<module>\u001b[1;34m\u001b[0m\n\u001b[0;32m     18\u001b[0m     '''\n\u001b[0;32m     19\u001b[0m \u001b[1;33m\u001b[0m\u001b[0m\n\u001b[1;32m---> 20\u001b[1;33m     \u001b[0mfig_all\u001b[0m\u001b[1;33m,\u001b[0m \u001b[0max\u001b[0m \u001b[1;33m=\u001b[0m \u001b[0mplt\u001b[0m\u001b[1;33m.\u001b[0m\u001b[0msubplots\u001b[0m\u001b[1;33m(\u001b[0m\u001b[1;36m1\u001b[0m\u001b[1;33m,\u001b[0m \u001b[1;36m2\u001b[0m\u001b[1;33m,\u001b[0m \u001b[0mfigsize\u001b[0m\u001b[1;33m=\u001b[0m\u001b[1;33m(\u001b[0m\u001b[1;36m6\u001b[0m\u001b[1;33m,\u001b[0m\u001b[1;36m6\u001b[0m\u001b[1;33m)\u001b[0m\u001b[1;33m,\u001b[0m \u001b[0mgridspec_kw\u001b[0m\u001b[1;33m=\u001b[0m\u001b[1;33m{\u001b[0m\u001b[1;34m'height_ratios'\u001b[0m\u001b[1;33m:\u001b[0m \u001b[1;33m[\u001b[0m\u001b[1;36m1\u001b[0m\u001b[1;33m,\u001b[0m \u001b[1;36m3\u001b[0m\u001b[1;33m]\u001b[0m\u001b[1;33m}\u001b[0m\u001b[1;33m)\u001b[0m\u001b[1;33m\u001b[0m\u001b[1;33m\u001b[0m\u001b[0m\n\u001b[0m\u001b[0;32m     21\u001b[0m     \u001b[0max\u001b[0m\u001b[1;33m[\u001b[0m\u001b[1;36m0\u001b[0m\u001b[1;33m]\u001b[0m\u001b[1;33m.\u001b[0m\u001b[0mimshow\u001b[0m\u001b[1;33m(\u001b[0m\u001b[0manatomy\u001b[0m\u001b[1;33m,\u001b[0m \u001b[0mcmap\u001b[0m\u001b[1;33m=\u001b[0m\u001b[1;34m\"gray_r\"\u001b[0m\u001b[1;33m)\u001b[0m\u001b[1;33m\u001b[0m\u001b[1;33m\u001b[0m\u001b[0m\n\u001b[0;32m     22\u001b[0m     \u001b[0max\u001b[0m\u001b[1;33m[\u001b[0m\u001b[1;36m0\u001b[0m\u001b[1;33m]\u001b[0m\u001b[1;33m.\u001b[0m\u001b[0maxis\u001b[0m\u001b[1;33m(\u001b[0m\u001b[1;34m'off'\u001b[0m\u001b[1;33m)\u001b[0m\u001b[1;33m\u001b[0m\u001b[1;33m\u001b[0m\u001b[0m\n",
      "\u001b[1;32m~\\anaconda3\\envs\\rplab\\lib\\site-packages\\matplotlib\\cbook\\deprecation.py\u001b[0m in \u001b[0;36mwrapper\u001b[1;34m(*args, **kwargs)\u001b[0m\n\u001b[0;32m    449\u001b[0m                 \u001b[1;34m\"parameter will become keyword-only %(removal)s.\"\u001b[0m\u001b[1;33m,\u001b[0m\u001b[1;33m\u001b[0m\u001b[1;33m\u001b[0m\u001b[0m\n\u001b[0;32m    450\u001b[0m                 name=name, obj_type=f\"parameter of {func.__name__}()\")\n\u001b[1;32m--> 451\u001b[1;33m         \u001b[1;32mreturn\u001b[0m \u001b[0mfunc\u001b[0m\u001b[1;33m(\u001b[0m\u001b[1;33m*\u001b[0m\u001b[0margs\u001b[0m\u001b[1;33m,\u001b[0m \u001b[1;33m**\u001b[0m\u001b[0mkwargs\u001b[0m\u001b[1;33m)\u001b[0m\u001b[1;33m\u001b[0m\u001b[1;33m\u001b[0m\u001b[0m\n\u001b[0m\u001b[0;32m    452\u001b[0m \u001b[1;33m\u001b[0m\u001b[0m\n\u001b[0;32m    453\u001b[0m     \u001b[1;32mreturn\u001b[0m \u001b[0mwrapper\u001b[0m\u001b[1;33m\u001b[0m\u001b[1;33m\u001b[0m\u001b[0m\n",
      "\u001b[1;32m~\\anaconda3\\envs\\rplab\\lib\\site-packages\\matplotlib\\pyplot.py\u001b[0m in \u001b[0;36msubplots\u001b[1;34m(nrows, ncols, sharex, sharey, squeeze, subplot_kw, gridspec_kw, **fig_kw)\u001b[0m\n\u001b[0;32m   1288\u001b[0m     axs = fig.subplots(nrows=nrows, ncols=ncols, sharex=sharex, sharey=sharey,\n\u001b[0;32m   1289\u001b[0m                        \u001b[0msqueeze\u001b[0m\u001b[1;33m=\u001b[0m\u001b[0msqueeze\u001b[0m\u001b[1;33m,\u001b[0m \u001b[0msubplot_kw\u001b[0m\u001b[1;33m=\u001b[0m\u001b[0msubplot_kw\u001b[0m\u001b[1;33m,\u001b[0m\u001b[1;33m\u001b[0m\u001b[1;33m\u001b[0m\u001b[0m\n\u001b[1;32m-> 1290\u001b[1;33m                        gridspec_kw=gridspec_kw)\n\u001b[0m\u001b[0;32m   1291\u001b[0m     \u001b[1;32mreturn\u001b[0m \u001b[0mfig\u001b[0m\u001b[1;33m,\u001b[0m \u001b[0maxs\u001b[0m\u001b[1;33m\u001b[0m\u001b[1;33m\u001b[0m\u001b[0m\n\u001b[0;32m   1292\u001b[0m \u001b[1;33m\u001b[0m\u001b[0m\n",
      "\u001b[1;32m~\\anaconda3\\envs\\rplab\\lib\\site-packages\\matplotlib\\cbook\\deprecation.py\u001b[0m in \u001b[0;36mwrapper\u001b[1;34m(*args, **kwargs)\u001b[0m\n\u001b[0;32m    449\u001b[0m                 \u001b[1;34m\"parameter will become keyword-only %(removal)s.\"\u001b[0m\u001b[1;33m,\u001b[0m\u001b[1;33m\u001b[0m\u001b[1;33m\u001b[0m\u001b[0m\n\u001b[0;32m    450\u001b[0m                 name=name, obj_type=f\"parameter of {func.__name__}()\")\n\u001b[1;32m--> 451\u001b[1;33m         \u001b[1;32mreturn\u001b[0m \u001b[0mfunc\u001b[0m\u001b[1;33m(\u001b[0m\u001b[1;33m*\u001b[0m\u001b[0margs\u001b[0m\u001b[1;33m,\u001b[0m \u001b[1;33m**\u001b[0m\u001b[0mkwargs\u001b[0m\u001b[1;33m)\u001b[0m\u001b[1;33m\u001b[0m\u001b[1;33m\u001b[0m\u001b[0m\n\u001b[0m\u001b[0;32m    452\u001b[0m \u001b[1;33m\u001b[0m\u001b[0m\n\u001b[0;32m    453\u001b[0m     \u001b[1;32mreturn\u001b[0m \u001b[0mwrapper\u001b[0m\u001b[1;33m\u001b[0m\u001b[1;33m\u001b[0m\u001b[0m\n",
      "\u001b[1;32m~\\anaconda3\\envs\\rplab\\lib\\site-packages\\matplotlib\\figure.py\u001b[0m in \u001b[0;36msubplots\u001b[1;34m(self, nrows, ncols, sharex, sharey, squeeze, subplot_kw, gridspec_kw)\u001b[0m\n\u001b[0;32m   1520\u001b[0m         \u001b[1;32mif\u001b[0m \u001b[0mgridspec_kw\u001b[0m \u001b[1;32mis\u001b[0m \u001b[1;32mNone\u001b[0m\u001b[1;33m:\u001b[0m\u001b[1;33m\u001b[0m\u001b[1;33m\u001b[0m\u001b[0m\n\u001b[0;32m   1521\u001b[0m             \u001b[0mgridspec_kw\u001b[0m \u001b[1;33m=\u001b[0m \u001b[1;33m{\u001b[0m\u001b[1;33m}\u001b[0m\u001b[1;33m\u001b[0m\u001b[1;33m\u001b[0m\u001b[0m\n\u001b[1;32m-> 1522\u001b[1;33m         return (self.add_gridspec(nrows, ncols, figure=self, **gridspec_kw)\n\u001b[0m\u001b[0;32m   1523\u001b[0m                 .subplots(sharex=sharex, sharey=sharey, squeeze=squeeze,\n\u001b[0;32m   1524\u001b[0m                           subplot_kw=subplot_kw))\n",
      "\u001b[1;32m~\\anaconda3\\envs\\rplab\\lib\\site-packages\\matplotlib\\figure.py\u001b[0m in \u001b[0;36madd_gridspec\u001b[1;34m(self, nrows, ncols, **kwargs)\u001b[0m\n\u001b[0;32m   2802\u001b[0m \u001b[1;33m\u001b[0m\u001b[0m\n\u001b[0;32m   2803\u001b[0m         \u001b[0m_\u001b[0m \u001b[1;33m=\u001b[0m \u001b[0mkwargs\u001b[0m\u001b[1;33m.\u001b[0m\u001b[0mpop\u001b[0m\u001b[1;33m(\u001b[0m\u001b[1;34m'figure'\u001b[0m\u001b[1;33m,\u001b[0m \u001b[1;32mNone\u001b[0m\u001b[1;33m)\u001b[0m  \u001b[1;31m# pop in case user has added this...\u001b[0m\u001b[1;33m\u001b[0m\u001b[1;33m\u001b[0m\u001b[0m\n\u001b[1;32m-> 2804\u001b[1;33m         \u001b[0mgs\u001b[0m \u001b[1;33m=\u001b[0m \u001b[0mGridSpec\u001b[0m\u001b[1;33m(\u001b[0m\u001b[0mnrows\u001b[0m\u001b[1;33m=\u001b[0m\u001b[0mnrows\u001b[0m\u001b[1;33m,\u001b[0m \u001b[0mncols\u001b[0m\u001b[1;33m=\u001b[0m\u001b[0mncols\u001b[0m\u001b[1;33m,\u001b[0m \u001b[0mfigure\u001b[0m\u001b[1;33m=\u001b[0m\u001b[0mself\u001b[0m\u001b[1;33m,\u001b[0m \u001b[1;33m**\u001b[0m\u001b[0mkwargs\u001b[0m\u001b[1;33m)\u001b[0m\u001b[1;33m\u001b[0m\u001b[1;33m\u001b[0m\u001b[0m\n\u001b[0m\u001b[0;32m   2805\u001b[0m         \u001b[0mself\u001b[0m\u001b[1;33m.\u001b[0m\u001b[0m_gridspecs\u001b[0m\u001b[1;33m.\u001b[0m\u001b[0mappend\u001b[0m\u001b[1;33m(\u001b[0m\u001b[0mgs\u001b[0m\u001b[1;33m)\u001b[0m\u001b[1;33m\u001b[0m\u001b[1;33m\u001b[0m\u001b[0m\n\u001b[0;32m   2806\u001b[0m         \u001b[1;32mreturn\u001b[0m \u001b[0mgs\u001b[0m\u001b[1;33m\u001b[0m\u001b[1;33m\u001b[0m\u001b[0m\n",
      "\u001b[1;32m~\\anaconda3\\envs\\rplab\\lib\\site-packages\\matplotlib\\gridspec.py\u001b[0m in \u001b[0;36m__init__\u001b[1;34m(self, nrows, ncols, figure, left, bottom, right, top, wspace, hspace, width_ratios, height_ratios)\u001b[0m\n\u001b[0;32m    420\u001b[0m         GridSpecBase.__init__(self, nrows, ncols,\n\u001b[0;32m    421\u001b[0m                               \u001b[0mwidth_ratios\u001b[0m\u001b[1;33m=\u001b[0m\u001b[0mwidth_ratios\u001b[0m\u001b[1;33m,\u001b[0m\u001b[1;33m\u001b[0m\u001b[1;33m\u001b[0m\u001b[0m\n\u001b[1;32m--> 422\u001b[1;33m                               height_ratios=height_ratios)\n\u001b[0m\u001b[0;32m    423\u001b[0m \u001b[1;33m\u001b[0m\u001b[0m\n\u001b[0;32m    424\u001b[0m         \u001b[1;32mif\u001b[0m \u001b[0mself\u001b[0m\u001b[1;33m.\u001b[0m\u001b[0mfigure\u001b[0m \u001b[1;32mis\u001b[0m \u001b[1;32mNone\u001b[0m \u001b[1;32mor\u001b[0m \u001b[1;32mnot\u001b[0m \u001b[0mself\u001b[0m\u001b[1;33m.\u001b[0m\u001b[0mfigure\u001b[0m\u001b[1;33m.\u001b[0m\u001b[0mget_constrained_layout\u001b[0m\u001b[1;33m(\u001b[0m\u001b[1;33m)\u001b[0m\u001b[1;33m:\u001b[0m\u001b[1;33m\u001b[0m\u001b[1;33m\u001b[0m\u001b[0m\n",
      "\u001b[1;32m~\\anaconda3\\envs\\rplab\\lib\\site-packages\\matplotlib\\gridspec.py\u001b[0m in \u001b[0;36m__init__\u001b[1;34m(self, nrows, ncols, height_ratios, width_ratios)\u001b[0m\n\u001b[0;32m     52\u001b[0m                 f\"Number of columns must be a positive integer, not {ncols}\")\n\u001b[0;32m     53\u001b[0m         \u001b[0mself\u001b[0m\u001b[1;33m.\u001b[0m\u001b[0m_nrows\u001b[0m\u001b[1;33m,\u001b[0m \u001b[0mself\u001b[0m\u001b[1;33m.\u001b[0m\u001b[0m_ncols\u001b[0m \u001b[1;33m=\u001b[0m \u001b[0mnrows\u001b[0m\u001b[1;33m,\u001b[0m \u001b[0mncols\u001b[0m\u001b[1;33m\u001b[0m\u001b[1;33m\u001b[0m\u001b[0m\n\u001b[1;32m---> 54\u001b[1;33m         \u001b[0mself\u001b[0m\u001b[1;33m.\u001b[0m\u001b[0mset_height_ratios\u001b[0m\u001b[1;33m(\u001b[0m\u001b[0mheight_ratios\u001b[0m\u001b[1;33m)\u001b[0m\u001b[1;33m\u001b[0m\u001b[1;33m\u001b[0m\u001b[0m\n\u001b[0m\u001b[0;32m     55\u001b[0m         \u001b[0mself\u001b[0m\u001b[1;33m.\u001b[0m\u001b[0mset_width_ratios\u001b[0m\u001b[1;33m(\u001b[0m\u001b[0mwidth_ratios\u001b[0m\u001b[1;33m)\u001b[0m\u001b[1;33m\u001b[0m\u001b[1;33m\u001b[0m\u001b[0m\n\u001b[0;32m     56\u001b[0m \u001b[1;33m\u001b[0m\u001b[0m\n",
      "\u001b[1;32m~\\anaconda3\\envs\\rplab\\lib\\site-packages\\matplotlib\\gridspec.py\u001b[0m in \u001b[0;36mset_height_ratios\u001b[1;34m(self, height_ratios)\u001b[0m\n\u001b[0;32m    126\u001b[0m         \"\"\"\n\u001b[0;32m    127\u001b[0m         \u001b[1;32mif\u001b[0m \u001b[0mheight_ratios\u001b[0m \u001b[1;32mis\u001b[0m \u001b[1;32mnot\u001b[0m \u001b[1;32mNone\u001b[0m \u001b[1;32mand\u001b[0m \u001b[0mlen\u001b[0m\u001b[1;33m(\u001b[0m\u001b[0mheight_ratios\u001b[0m\u001b[1;33m)\u001b[0m \u001b[1;33m!=\u001b[0m \u001b[0mself\u001b[0m\u001b[1;33m.\u001b[0m\u001b[0m_nrows\u001b[0m\u001b[1;33m:\u001b[0m\u001b[1;33m\u001b[0m\u001b[1;33m\u001b[0m\u001b[0m\n\u001b[1;32m--> 128\u001b[1;33m             raise ValueError('Expected the given number of height ratios to '\n\u001b[0m\u001b[0;32m    129\u001b[0m                              'match the number of rows of the grid')\n\u001b[0;32m    130\u001b[0m         \u001b[0mself\u001b[0m\u001b[1;33m.\u001b[0m\u001b[0m_row_height_ratios\u001b[0m \u001b[1;33m=\u001b[0m \u001b[0mheight_ratios\u001b[0m\u001b[1;33m\u001b[0m\u001b[1;33m\u001b[0m\u001b[0m\n",
      "\u001b[1;31mValueError\u001b[0m: Expected the given number of height ratios to match the number of rows of the grid"
     ]
    }
   ],
   "source": [
    "for f in files:\n",
    "    fish_dir = f\n",
    "    print(fish_dir)\n",
    "    suite2p_data = fl.load(fish_dir / 'data_from_suite2p_cells.h5')\n",
    "    \n",
    "    norm_traces = traces = fl.load(fish_dir / 'filtered_traces.h5')['detr']\n",
    "    num_rois = np.shape(norm_traces)[0]\n",
    "    norm_traces = norm_traces.T\n",
    "    '''\n",
    "\n",
    "    corrmat = np.corrcoef(norm_traces)\n",
    "    ng_corr_ind = np.unique(np.where(corrmat < -0.6)[0])\n",
    "    corrmat_neg = corrmat[ng_corr_ind]\n",
    "    norm_traces_neg = norm_traces[ng_corr_ind]\n",
    "\n",
    "    num_ng = np.shape(ng_corr_ind)[0]\n",
    "    print(ng_corr_ind)\n",
    "    '''\n",
    "\n",
    "    fig_all, ax = plt.subplots(1, 2, figsize=(6,6), gridspec_kw={'height_ratios': [1, 3]})\n",
    "    ax[0].imshow(anatomy, cmap=\"gray_r\")\n",
    "    ax[0].axis('off')\n",
    "    ax[0].set_title('Tail')\n",
    "\n",
    "    ax[1].imshow(norm_traces, extent=[0, 500, 0, 500], cmap=\"coolwarm\", vmin=-2, vmax=2)\n",
    "    ax[1].axis('off')\n",
    "    ax[1].set_title('Normalized traces')\n",
    "\n",
    "    file_name = 'tail_and_norm_traces.jpg'\n",
    "    fig_all.savefig(fish_dir / file_name, dpi=300)"
   ]
  },
  {
   "cell_type": "code",
   "execution_count": null,
   "id": "fabulous-gibraltar",
   "metadata": {},
   "outputs": [],
   "source": []
  }
 ],
 "metadata": {
  "kernelspec": {
   "display_name": "Python 3",
   "language": "python",
   "name": "python3"
  },
  "language_info": {
   "codemirror_mode": {
    "name": "ipython",
    "version": 3
   },
   "file_extension": ".py",
   "mimetype": "text/x-python",
   "name": "python",
   "nbconvert_exporter": "python",
   "pygments_lexer": "ipython3",
   "version": "3.7.10"
  }
 },
 "nbformat": 4,
 "nbformat_minor": 5
}
