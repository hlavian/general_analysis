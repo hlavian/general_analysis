{
 "cells": [
  {
   "cell_type": "code",
   "execution_count": 2,
   "id": "located-entrepreneur",
   "metadata": {},
   "outputs": [],
   "source": [
    "%matplotlib widget"
   ]
  },
  {
   "cell_type": "code",
   "execution_count": 3,
   "id": "corresponding-badge",
   "metadata": {},
   "outputs": [],
   "source": [
    "import numpy as np\n",
    "import tables\n",
    "import flammkuchen as fl\n",
    "from pathlib import Path\n",
    "from tqdm import tqdm\n",
    "from fimpylab.utils.suite2p_conv import export_suite2p\n",
    "import tifffile as tiff\n",
    "import matplotlib.pyplot as plt\n",
    "\n",
    "from fimpylab.core.lightsheet_experiment import LightsheetExperiment\n",
    "\n",
    "import json\n",
    "from scipy.optimize import quadratic_assignment\n",
    "from lotr.pca import qap_sorting_and_phase\n",
    "\n",
    "import statsmodels.api as smLightsheetExperiment"
   ]
  },
  {
   "cell_type": "code",
   "execution_count": 4,
   "id": "demonstrated-durham",
   "metadata": {},
   "outputs": [
    {
     "name": "stdout",
     "output_type": "stream",
     "text": [
      "17\n"
     ]
    }
   ],
   "source": [
    "master_path =  Path(r\"\\\\FUNES\\Shared\\experiments\\E0040_motions_cardinal\\v26\\huc\")\n",
    "files = list(master_path.glob(\"*_f*\"))\n",
    "print(len(files))"
   ]
  },
  {
   "cell_type": "code",
   "execution_count": 50,
   "id": "amazing-tuning",
   "metadata": {},
   "outputs": [
    {
     "name": "stdout",
     "output_type": "stream",
     "text": [
      "10462 9000\n"
     ]
    },
    {
     "data": {
      "text/plain": [
       "WindowsPath('//FUNES/Shared/experiments/E0040_motions_cardinal/v26/huc/220428_f4')"
      ]
     },
     "execution_count": 50,
     "metadata": {},
     "output_type": "execute_result"
    }
   ],
   "source": [
    "fish_dir = files[15]\n",
    "suite2p_data = fl.load(fish_dir / 'data_from_suite2p_cells.h5')\n",
    "roi_coords = suite2p_data['coords']\n",
    "\n",
    "traces = suite2p_data['traces']\n",
    "norm_traces = np.copy(traces)\n",
    "norm_traces = norm_traces.T\n",
    "sd = np.nanstd(norm_traces, 0)\n",
    "mean = np.nanmean(norm_traces, 0)\n",
    "norm_traces = norm_traces - mean\n",
    "norm_traces = norm_traces / sd\n",
    "\n",
    "\n",
    "norm_traces = fl.load(fish_dir / 'filtered_traces.h5')['detr']\n",
    "norm_traces = norm_traces.T\n",
    "\n",
    "num_rois, len_rec = np.shape(norm_traces)\n",
    "print(num_rois, len_rec)\n",
    "\n",
    "#norm_traces = norm_traces[:, 1000:2000]\n",
    "fish_dir"
   ]
  },
  {
   "cell_type": "code",
   "execution_count": 51,
   "id": "elegant-strain",
   "metadata": {},
   "outputs": [],
   "source": [
    "corr_thresh=-0.5\n",
    "bin_size = 600 # 5 minutes\n",
    "for i in range(8):\n",
    "    t1 = i * bin_size\n",
    "    t2 = t1 + bin_size\n",
    "    tmp_traces = norm_traces[:, t1:t2]\n",
    "    \n",
    "    corrmat = np.corrcoef(tmp_traces)\n",
    "    ng_corr_ind = np.unique(np.where(corrmat < corr_thresh)[0])\n",
    "    min_val = np.nanmin(corrmat, axis=0)\n"
   ]
  },
  {
   "cell_type": "code",
   "execution_count": 52,
   "id": "latest-simpson",
   "metadata": {},
   "outputs": [
    {
     "data": {
      "application/vnd.jupyter.widget-view+json": {
       "model_id": "06ee994c38994220ac6c6fc7e2fcbc2b",
       "version_major": 2,
       "version_minor": 0
      },
      "text/plain": [
       "Canvas(toolbar=Toolbar(toolitems=[('Home', 'Reset original view', 'home', 'home'), ('Back', 'Back to previous …"
      ]
     },
     "metadata": {},
     "output_type": "display_data"
    }
   ],
   "source": [
    "corr_thresh = -0.45\n",
    "corrmat = np.corrcoef(norm_traces)\n",
    "\n",
    "corrmat[np.where(corrmat > 0.99)] = 0\n",
    "ng_corr_ind = np.unique(np.where(corrmat < corr_thresh)[0])\n",
    "pos_corr_ind = np.unique(np.where(corrmat > 0.9)[0])\n",
    "\n",
    "corrmat_neg = corrmat[ng_corr_ind]\n",
    "norm_traces_neg = norm_traces[ng_corr_ind]\n",
    "\n",
    "num_ng = np.shape(ng_corr_ind)[0]\n",
    "\n",
    "\n",
    "min_val = np.nanmin(corrmat, axis=0)\n",
    "max_val = np.nanmax(corrmat, axis=0)\n",
    "\n",
    "corrmat2 = np.zeros_like(corrmat)\n",
    "corrmat2[np.where(corrmat < corr_thresh)] = 1\n",
    "num_min_per_cell= np.sum(corrmat2, axis=1)\n",
    "\n",
    "\n",
    "anatomy = np.sum(suite2p_data['anatomy_stack'], 0)\n",
    "anatomy = np.rot90(anatomy, k=3)\n",
    "\n",
    "fig_all, ax = plt.subplots(3, 3, figsize=(8,12), sharex=True, sharey=True)\n",
    "ax[0,0].imshow(anatomy, cmap=\"gray_r\")\n",
    "ax[0,0].axis('off')\n",
    "ax[0,0].set_title('Anatomy')\n",
    "\n",
    "ax[0,1].scatter(roi_coords[:, 1], roi_coords[:, 2], c=min_val, cmap='hot', s=3, vmin=-1, vmax=0)\n",
    "ax[0,1].axis('off')\n",
    "ax[0,1].set_title('Minimal correlation')\n",
    "\n",
    "ax[0,2].scatter(roi_coords[ng_corr_ind, 1], roi_coords[ng_corr_ind, 2], c='k', s=3)\n",
    "ax[0,2].axis('off')\n",
    "ax[0,2].set_title('Minimal correlated neurons')\n",
    "\n",
    "ax[1,0].scatter(roi_coords[ng_corr_ind, 1], roi_coords[ng_corr_ind, 2], c=num_min_per_cell[ng_corr_ind], cmap='Greens', s=3, vmin=0, vmax=20)\n",
    "ax[1,0].axis('off')\n",
    "ax[1,0].set_title('Number of antcorrelated neurons')\n",
    "\n",
    "\n",
    "ax[1,1].scatter(roi_coords[:, 1], roi_coords[:, 2], c=max_val, cmap='hot', s=3, vmin=0, vmax=1)\n",
    "ax[1,1].axis('off')\n",
    "ax[1,1].set_title('Maximal correlation')\n",
    "\n",
    "ax[1,2].scatter(roi_coords[pos_corr_ind, 1], roi_coords[pos_corr_ind, 2], c='k', s=3)\n",
    "ax[1,2].axis('off')\n",
    "ax[1,2].set_title('Maximal correlated neurons')\n",
    "\n",
    "\n",
    "\n",
    "n_lags = 100\n",
    "norm_traces_neg_for_ac = norm_traces_neg.T\n",
    "num_traces_ng = np.shape(ng_corr_ind)[0]\n",
    "AC_all = np.zeros((n_lags+1, num_traces_ng))\n",
    "for i in range(num_traces_ng):\n",
    "    ys =  sm.tsa.acf(norm_traces_neg_for_ac[:,i], nlags=n_lags)\n",
    "    AC_all[:, i] = ys\n",
    "    \n",
    "ac_tau = AC_all[50, :]\n",
    "ax[2,1].scatter(roi_coords[ng_corr_ind, 1], roi_coords[ng_corr_ind, 2], c=ac_tau, cmap='Reds', s=3)\n",
    "ax[2,1].axis('off')\n",
    "ax[2,1].set_title('Autocorrelation at 50')\n",
    "\n",
    "ac_tau = AC_all[100, :]\n",
    "ax[2,2].scatter(roi_coords[ng_corr_ind, 1], roi_coords[ng_corr_ind, 2], c=ac_tau, cmap='Reds', s=3)\n",
    "ax[2,2].axis('off')\n",
    "ax[2,2].set_title('Autocorrelation at 100')\n",
    "\n",
    "ax[2,0].axis('off')\n",
    "\n",
    "\n",
    "file_name = 'ROI_maps_anticorr_220323.jpg'\n",
    "fig_all.savefig(fish_dir / file_name, dpi=300)\n"
   ]
  },
  {
   "cell_type": "code",
   "execution_count": 39,
   "id": "matched-nepal",
   "metadata": {},
   "outputs": [
    {
     "data": {
      "text/plain": [
       "array([0.81347526, 0.64554104, 0.4037379 , ..., 0.59676334, 0.57982287,\n",
       "       0.90458427])"
      ]
     },
     "execution_count": 39,
     "metadata": {},
     "output_type": "execute_result"
    }
   ],
   "source": [
    "max_val"
   ]
  },
  {
   "cell_type": "code",
   "execution_count": 53,
   "id": "monetary-journalism",
   "metadata": {},
   "outputs": [
    {
     "name": "stdout",
     "output_type": "stream",
     "text": [
      "\\\\FUNES\\Shared\\experiments\\E0040_motions_cardinal\\v26\\huc\\220427_f0\n"
     ]
    },
    {
     "data": {
      "application/vnd.jupyter.widget-view+json": {
       "model_id": "6b9e977762ee42759d9d47336c564b50",
       "version_major": 2,
       "version_minor": 0
      },
      "text/plain": [
       "Canvas(toolbar=Toolbar(toolitems=[('Home', 'Reset original view', 'home', 'home'), ('Back', 'Back to previous …"
      ]
     },
     "metadata": {},
     "output_type": "display_data"
    },
    {
     "name": "stdout",
     "output_type": "stream",
     "text": [
      "\\\\FUNES\\Shared\\experiments\\E0040_motions_cardinal\\v26\\huc\\220427_f0b\n"
     ]
    },
    {
     "data": {
      "application/vnd.jupyter.widget-view+json": {
       "model_id": "0aebd39c24874d568da6038aa4547a54",
       "version_major": 2,
       "version_minor": 0
      },
      "text/plain": [
       "Canvas(toolbar=Toolbar(toolitems=[('Home', 'Reset original view', 'home', 'home'), ('Back', 'Back to previous …"
      ]
     },
     "metadata": {},
     "output_type": "display_data"
    },
    {
     "name": "stdout",
     "output_type": "stream",
     "text": [
      "\\\\FUNES\\Shared\\experiments\\E0040_motions_cardinal\\v26\\huc\\220427_f1\n"
     ]
    },
    {
     "data": {
      "application/vnd.jupyter.widget-view+json": {
       "model_id": "6ced5aec3b74402caaa66e97c6817519",
       "version_major": 2,
       "version_minor": 0
      },
      "text/plain": [
       "Canvas(toolbar=Toolbar(toolitems=[('Home', 'Reset original view', 'home', 'home'), ('Back', 'Back to previous …"
      ]
     },
     "metadata": {},
     "output_type": "display_data"
    },
    {
     "name": "stdout",
     "output_type": "stream",
     "text": [
      "\\\\FUNES\\Shared\\experiments\\E0040_motions_cardinal\\v26\\huc\\220427_f2\n"
     ]
    },
    {
     "name": "stderr",
     "output_type": "stream",
     "text": [
      "C:\\Users\\lavian\\anaconda3\\envs\\rplab\\lib\\site-packages\\ipykernel_launcher.py:33: RuntimeWarning: More than 20 figures have been opened. Figures created through the pyplot interface (`matplotlib.pyplot.figure`) are retained until explicitly closed and may consume too much memory. (To control this warning, see the rcParam `figure.max_open_warning`).\n"
     ]
    },
    {
     "data": {
      "application/vnd.jupyter.widget-view+json": {
       "model_id": "dbf62a19aa564a6088f973d482889694",
       "version_major": 2,
       "version_minor": 0
      },
      "text/plain": [
       "Canvas(toolbar=Toolbar(toolitems=[('Home', 'Reset original view', 'home', 'home'), ('Back', 'Back to previous …"
      ]
     },
     "metadata": {},
     "output_type": "display_data"
    },
    {
     "name": "stdout",
     "output_type": "stream",
     "text": [
      "\\\\FUNES\\Shared\\experiments\\E0040_motions_cardinal\\v26\\huc\\220427_f2b\n"
     ]
    },
    {
     "data": {
      "application/vnd.jupyter.widget-view+json": {
       "model_id": "d385260bc55841369f1e2392e2dc14fd",
       "version_major": 2,
       "version_minor": 0
      },
      "text/plain": [
       "Canvas(toolbar=Toolbar(toolitems=[('Home', 'Reset original view', 'home', 'home'), ('Back', 'Back to previous …"
      ]
     },
     "metadata": {},
     "output_type": "display_data"
    },
    {
     "name": "stdout",
     "output_type": "stream",
     "text": [
      "\\\\FUNES\\Shared\\experiments\\E0040_motions_cardinal\\v26\\huc\\220427_f3\n"
     ]
    },
    {
     "data": {
      "application/vnd.jupyter.widget-view+json": {
       "model_id": "b3031738b41644fa911ea000b86b8476",
       "version_major": 2,
       "version_minor": 0
      },
      "text/plain": [
       "Canvas(toolbar=Toolbar(toolitems=[('Home', 'Reset original view', 'home', 'home'), ('Back', 'Back to previous …"
      ]
     },
     "metadata": {},
     "output_type": "display_data"
    },
    {
     "name": "stdout",
     "output_type": "stream",
     "text": [
      "\\\\FUNES\\Shared\\experiments\\E0040_motions_cardinal\\v26\\huc\\220427_f4\n"
     ]
    },
    {
     "data": {
      "application/vnd.jupyter.widget-view+json": {
       "model_id": "77eebab3c4ba4644a66fa06a856b89b0",
       "version_major": 2,
       "version_minor": 0
      },
      "text/plain": [
       "Canvas(toolbar=Toolbar(toolitems=[('Home', 'Reset original view', 'home', 'home'), ('Back', 'Back to previous …"
      ]
     },
     "metadata": {},
     "output_type": "display_data"
    },
    {
     "name": "stdout",
     "output_type": "stream",
     "text": [
      "\\\\FUNES\\Shared\\experiments\\E0040_motions_cardinal\\v26\\huc\\220427_f5\n"
     ]
    },
    {
     "data": {
      "application/vnd.jupyter.widget-view+json": {
       "model_id": "1ff1313e50934381aeebe99848d832fc",
       "version_major": 2,
       "version_minor": 0
      },
      "text/plain": [
       "Canvas(toolbar=Toolbar(toolitems=[('Home', 'Reset original view', 'home', 'home'), ('Back', 'Back to previous …"
      ]
     },
     "metadata": {},
     "output_type": "display_data"
    },
    {
     "name": "stdout",
     "output_type": "stream",
     "text": [
      "\\\\FUNES\\Shared\\experiments\\E0040_motions_cardinal\\v26\\huc\\220427_f5b\n"
     ]
    },
    {
     "data": {
      "application/vnd.jupyter.widget-view+json": {
       "model_id": "910c70ff126f4a2da695fa17f3031f69",
       "version_major": 2,
       "version_minor": 0
      },
      "text/plain": [
       "Canvas(toolbar=Toolbar(toolitems=[('Home', 'Reset original view', 'home', 'home'), ('Back', 'Back to previous …"
      ]
     },
     "metadata": {},
     "output_type": "display_data"
    },
    {
     "name": "stdout",
     "output_type": "stream",
     "text": [
      "\\\\FUNES\\Shared\\experiments\\E0040_motions_cardinal\\v26\\huc\\220427_f6\n"
     ]
    },
    {
     "data": {
      "application/vnd.jupyter.widget-view+json": {
       "model_id": "290037b9491b4edcb7931ae3e1c3c6c0",
       "version_major": 2,
       "version_minor": 0
      },
      "text/plain": [
       "Canvas(toolbar=Toolbar(toolitems=[('Home', 'Reset original view', 'home', 'home'), ('Back', 'Back to previous …"
      ]
     },
     "metadata": {},
     "output_type": "display_data"
    },
    {
     "name": "stdout",
     "output_type": "stream",
     "text": [
      "\\\\FUNES\\Shared\\experiments\\E0040_motions_cardinal\\v26\\huc\\220427_f7\n"
     ]
    },
    {
     "ename": "OSError",
     "evalue": "``\\\\FUNES\\Shared\\experiments\\E0040_motions_cardinal\\v26\\huc\\220427_f7\\data_from_suite2p_cells.h5`` does not exist",
     "output_type": "error",
     "traceback": [
      "\u001b[1;31m---------------------------------------------------------------------------\u001b[0m",
      "\u001b[1;31mOSError\u001b[0m                                   Traceback (most recent call last)",
      "\u001b[1;32m<ipython-input-53-5815a59f75a5>\u001b[0m in \u001b[0;36m<module>\u001b[1;34m\u001b[0m\n\u001b[0;32m      2\u001b[0m     \u001b[0mfish_dir\u001b[0m \u001b[1;33m=\u001b[0m \u001b[0mf\u001b[0m\u001b[1;33m\u001b[0m\u001b[1;33m\u001b[0m\u001b[0m\n\u001b[0;32m      3\u001b[0m     \u001b[0mprint\u001b[0m\u001b[1;33m(\u001b[0m\u001b[0mfish_dir\u001b[0m\u001b[1;33m)\u001b[0m\u001b[1;33m\u001b[0m\u001b[1;33m\u001b[0m\u001b[0m\n\u001b[1;32m----> 4\u001b[1;33m     \u001b[0msuite2p_data\u001b[0m \u001b[1;33m=\u001b[0m \u001b[0mfl\u001b[0m\u001b[1;33m.\u001b[0m\u001b[0mload\u001b[0m\u001b[1;33m(\u001b[0m\u001b[0mfish_dir\u001b[0m \u001b[1;33m/\u001b[0m \u001b[1;34m'data_from_suite2p_cells.h5'\u001b[0m\u001b[1;33m)\u001b[0m\u001b[1;33m\u001b[0m\u001b[1;33m\u001b[0m\u001b[0m\n\u001b[0m\u001b[0;32m      5\u001b[0m \u001b[1;33m\u001b[0m\u001b[0m\n\u001b[0;32m      6\u001b[0m     \u001b[1;32mtry\u001b[0m\u001b[1;33m:\u001b[0m\u001b[1;33m\u001b[0m\u001b[1;33m\u001b[0m\u001b[0m\n",
      "\u001b[1;32m~\\anaconda3\\envs\\rplab\\lib\\site-packages\\flammkuchen\\hdf5io.py\u001b[0m in \u001b[0;36mload\u001b[1;34m(path, group, sel, unpack)\u001b[0m\n\u001b[0;32m    689\u001b[0m     \"\"\"\n\u001b[0;32m    690\u001b[0m     \u001b[0mpath\u001b[0m \u001b[1;33m=\u001b[0m \u001b[0mstr\u001b[0m\u001b[1;33m(\u001b[0m\u001b[0mpath\u001b[0m\u001b[1;33m)\u001b[0m  \u001b[1;31m# Allows for Path objects to be used\u001b[0m\u001b[1;33m\u001b[0m\u001b[1;33m\u001b[0m\u001b[0m\n\u001b[1;32m--> 691\u001b[1;33m     \u001b[1;32mwith\u001b[0m \u001b[0mtables\u001b[0m\u001b[1;33m.\u001b[0m\u001b[0mopen_file\u001b[0m\u001b[1;33m(\u001b[0m\u001b[0mpath\u001b[0m\u001b[1;33m,\u001b[0m \u001b[0mmode\u001b[0m\u001b[1;33m=\u001b[0m\u001b[1;34m'r'\u001b[0m\u001b[1;33m)\u001b[0m \u001b[1;32mas\u001b[0m \u001b[0mh5file\u001b[0m\u001b[1;33m:\u001b[0m\u001b[1;33m\u001b[0m\u001b[1;33m\u001b[0m\u001b[0m\n\u001b[0m\u001b[0;32m    692\u001b[0m         \u001b[0mpathtable\u001b[0m \u001b[1;33m=\u001b[0m \u001b[1;33m{\u001b[0m\u001b[1;33m}\u001b[0m  \u001b[1;31m# dict to keep track of objects already loaded\u001b[0m\u001b[1;33m\u001b[0m\u001b[1;33m\u001b[0m\u001b[0m\n\u001b[0;32m    693\u001b[0m         \u001b[1;32mif\u001b[0m \u001b[0mgroup\u001b[0m \u001b[1;32mis\u001b[0m \u001b[1;32mnot\u001b[0m \u001b[1;32mNone\u001b[0m\u001b[1;33m:\u001b[0m\u001b[1;33m\u001b[0m\u001b[1;33m\u001b[0m\u001b[0m\n",
      "\u001b[1;32m~\\anaconda3\\envs\\rplab\\lib\\site-packages\\tables\\file.py\u001b[0m in \u001b[0;36mopen_file\u001b[1;34m(filename, mode, title, root_uep, filters, **kwargs)\u001b[0m\n\u001b[0;32m    313\u001b[0m \u001b[1;33m\u001b[0m\u001b[0m\n\u001b[0;32m    314\u001b[0m     \u001b[1;31m# Finally, create the File instance, and return it\u001b[0m\u001b[1;33m\u001b[0m\u001b[1;33m\u001b[0m\u001b[1;33m\u001b[0m\u001b[0m\n\u001b[1;32m--> 315\u001b[1;33m     \u001b[1;32mreturn\u001b[0m \u001b[0mFile\u001b[0m\u001b[1;33m(\u001b[0m\u001b[0mfilename\u001b[0m\u001b[1;33m,\u001b[0m \u001b[0mmode\u001b[0m\u001b[1;33m,\u001b[0m \u001b[0mtitle\u001b[0m\u001b[1;33m,\u001b[0m \u001b[0mroot_uep\u001b[0m\u001b[1;33m,\u001b[0m \u001b[0mfilters\u001b[0m\u001b[1;33m,\u001b[0m \u001b[1;33m**\u001b[0m\u001b[0mkwargs\u001b[0m\u001b[1;33m)\u001b[0m\u001b[1;33m\u001b[0m\u001b[1;33m\u001b[0m\u001b[0m\n\u001b[0m\u001b[0;32m    316\u001b[0m \u001b[1;33m\u001b[0m\u001b[0m\n\u001b[0;32m    317\u001b[0m \u001b[1;33m\u001b[0m\u001b[0m\n",
      "\u001b[1;32m~\\anaconda3\\envs\\rplab\\lib\\site-packages\\tables\\file.py\u001b[0m in \u001b[0;36m__init__\u001b[1;34m(self, filename, mode, title, root_uep, filters, **kwargs)\u001b[0m\n\u001b[0;32m    776\u001b[0m \u001b[1;33m\u001b[0m\u001b[0m\n\u001b[0;32m    777\u001b[0m         \u001b[1;31m# Now, it is time to initialize the File extension\u001b[0m\u001b[1;33m\u001b[0m\u001b[1;33m\u001b[0m\u001b[1;33m\u001b[0m\u001b[0m\n\u001b[1;32m--> 778\u001b[1;33m         \u001b[0mself\u001b[0m\u001b[1;33m.\u001b[0m\u001b[0m_g_new\u001b[0m\u001b[1;33m(\u001b[0m\u001b[0mfilename\u001b[0m\u001b[1;33m,\u001b[0m \u001b[0mmode\u001b[0m\u001b[1;33m,\u001b[0m \u001b[1;33m**\u001b[0m\u001b[0mparams\u001b[0m\u001b[1;33m)\u001b[0m\u001b[1;33m\u001b[0m\u001b[1;33m\u001b[0m\u001b[0m\n\u001b[0m\u001b[0;32m    779\u001b[0m \u001b[1;33m\u001b[0m\u001b[0m\n\u001b[0;32m    780\u001b[0m         \u001b[1;31m# Check filters and set PyTables format version for new files.\u001b[0m\u001b[1;33m\u001b[0m\u001b[1;33m\u001b[0m\u001b[1;33m\u001b[0m\u001b[0m\n",
      "\u001b[1;32mtables/hdf5extension.pyx\u001b[0m in \u001b[0;36mtables.hdf5extension.File._g_new\u001b[1;34m()\u001b[0m\n",
      "\u001b[1;32m~\\anaconda3\\envs\\rplab\\lib\\site-packages\\tables\\utils.py\u001b[0m in \u001b[0;36mcheck_file_access\u001b[1;34m(filename, mode)\u001b[0m\n\u001b[0;32m    152\u001b[0m         \u001b[1;31m# The file should be readable.\u001b[0m\u001b[1;33m\u001b[0m\u001b[1;33m\u001b[0m\u001b[1;33m\u001b[0m\u001b[0m\n\u001b[0;32m    153\u001b[0m         \u001b[1;32mif\u001b[0m \u001b[1;32mnot\u001b[0m \u001b[0mos\u001b[0m\u001b[1;33m.\u001b[0m\u001b[0maccess\u001b[0m\u001b[1;33m(\u001b[0m\u001b[0mfilename\u001b[0m\u001b[1;33m,\u001b[0m \u001b[0mos\u001b[0m\u001b[1;33m.\u001b[0m\u001b[0mF_OK\u001b[0m\u001b[1;33m)\u001b[0m\u001b[1;33m:\u001b[0m\u001b[1;33m\u001b[0m\u001b[1;33m\u001b[0m\u001b[0m\n\u001b[1;32m--> 154\u001b[1;33m             \u001b[1;32mraise\u001b[0m \u001b[0mIOError\u001b[0m\u001b[1;33m(\u001b[0m\u001b[1;34m\"``%s`` does not exist\"\u001b[0m \u001b[1;33m%\u001b[0m \u001b[1;33m(\u001b[0m\u001b[0mfilename\u001b[0m\u001b[1;33m,\u001b[0m\u001b[1;33m)\u001b[0m\u001b[1;33m)\u001b[0m\u001b[1;33m\u001b[0m\u001b[1;33m\u001b[0m\u001b[0m\n\u001b[0m\u001b[0;32m    155\u001b[0m         \u001b[1;32mif\u001b[0m \u001b[1;32mnot\u001b[0m \u001b[0mos\u001b[0m\u001b[1;33m.\u001b[0m\u001b[0mpath\u001b[0m\u001b[1;33m.\u001b[0m\u001b[0misfile\u001b[0m\u001b[1;33m(\u001b[0m\u001b[0mfilename\u001b[0m\u001b[1;33m)\u001b[0m\u001b[1;33m:\u001b[0m\u001b[1;33m\u001b[0m\u001b[1;33m\u001b[0m\u001b[0m\n\u001b[0;32m    156\u001b[0m             \u001b[1;32mraise\u001b[0m \u001b[0mIOError\u001b[0m\u001b[1;33m(\u001b[0m\u001b[1;34m\"``%s`` is not a regular file\"\u001b[0m \u001b[1;33m%\u001b[0m \u001b[1;33m(\u001b[0m\u001b[0mfilename\u001b[0m\u001b[1;33m,\u001b[0m\u001b[1;33m)\u001b[0m\u001b[1;33m)\u001b[0m\u001b[1;33m\u001b[0m\u001b[1;33m\u001b[0m\u001b[0m\n",
      "\u001b[1;31mOSError\u001b[0m: ``\\\\FUNES\\Shared\\experiments\\E0040_motions_cardinal\\v26\\huc\\220427_f7\\data_from_suite2p_cells.h5`` does not exist"
     ]
    }
   ],
   "source": [
    "for f in files:\n",
    "    fish_dir = f\n",
    "    print(fish_dir)\n",
    "    suite2p_data = fl.load(fish_dir / 'data_from_suite2p_cells.h5')\n",
    "    \n",
    "    try:\n",
    "        norm_traces = traces = fl.load(fish_dir / 'filtered_traces.h5')['detr']\n",
    "    except:\n",
    "        traces = suite2p_data['traces']\n",
    "        norm_traces = np.copy(traces)\n",
    "        norm_traces = norm_traces.T\n",
    "        sd = np.nanstd(norm_traces, 0)\n",
    "        mean = np.nanmean(norm_traces, 0)\n",
    "        norm_traces = norm_traces - mean\n",
    "        norm_traces = norm_traces / sd\n",
    "        \n",
    "    num_rois = np.shape(norm_traces)[0]\n",
    "    norm_traces = norm_traces.T\n",
    "    '''\n",
    "\n",
    "    corrmat = np.corrcoef(norm_traces)\n",
    "    ng_corr_ind = np.unique(np.where(corrmat < -0.6)[0])\n",
    "    corrmat_neg = corrmat[ng_corr_ind]\n",
    "    norm_traces_neg = norm_traces[ng_corr_ind]\n",
    "\n",
    "    num_ng = np.shape(ng_corr_ind)[0]\n",
    "    print(ng_corr_ind)\n",
    "    '''\n",
    "    \n",
    "    exp = LightsheetExperiment(fish_dir)\n",
    "    tail = exp.behavior_log['tail_sum']\n",
    "    \n",
    "    fig_all, ax = plt.subplots(2, 1, figsize=(6,6), gridspec_kw={'height_ratios': [1, 3]})\n",
    "    ax[0].plot(tail, c='gray')\n",
    "    ax[0].axis('off')\n",
    "    ax[0].set_title('Tail')\n",
    "\n",
    "    ax[1].imshow(norm_traces, extent=[0, 500, 0, 500], cmap=\"coolwarm\", vmin=-2, vmax=2)\n",
    "    ax[1].axis('off')\n",
    "    ax[1].set_title('Normalized traces')\n",
    "\n",
    "    file_name = 'tail_and_norm_traces.jpg'\n",
    "    fig_all.savefig(fish_dir / file_name, dpi=300)"
   ]
  },
  {
   "cell_type": "code",
   "execution_count": null,
   "id": "inner-satin",
   "metadata": {},
   "outputs": [],
   "source": []
  }
 ],
 "metadata": {
  "kernelspec": {
   "display_name": "Python 3",
   "language": "python",
   "name": "python3"
  },
  "language_info": {
   "codemirror_mode": {
    "name": "ipython",
    "version": 3
   },
   "file_extension": ".py",
   "mimetype": "text/x-python",
   "name": "python",
   "nbconvert_exporter": "python",
   "pygments_lexer": "ipython3",
   "version": "3.7.10"
  }
 },
 "nbformat": 4,
 "nbformat_minor": 5
}
