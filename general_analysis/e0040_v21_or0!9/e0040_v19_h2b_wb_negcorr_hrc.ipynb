{
 "cells": [
  {
   "cell_type": "code",
   "execution_count": 1,
   "id": "registered-texas",
   "metadata": {},
   "outputs": [],
   "source": [
    "%matplotlib widget"
   ]
  },
  {
   "cell_type": "code",
   "execution_count": 2,
   "id": "cultural-coordination",
   "metadata": {},
   "outputs": [],
   "source": [
    "import numpy as np\n",
    "import tables\n",
    "import flammkuchen as fl\n",
    "from pathlib import Path\n",
    "from tqdm import tqdm\n",
    "from fimpylab.utils.suite2p_conv import export_suite2p\n",
    "import tifffile as tiff\n",
    "import matplotlib.pyplot as plt\n",
    "\n",
    "from fimpylab.core.lightsheet_experiment import LightsheetExperiment\n",
    "\n",
    "import json\n",
    "from scipy.optimize import quadratic_assignment\n",
    "from lotr.pca import qap_sorting_and_phase\n",
    "\n",
    "import statsmodels.api as sm\n",
    "from scipy.cluster.hierarchy import dendrogram, cut_tree, set_link_color_palette\n",
    "from scipy.cluster.hierarchy import dendrogram, linkage, cut_tree, to_tree, set_link_color_palette\n",
    "from sklearn.cluster import AgglomerativeClustering"
   ]
  },
  {
   "cell_type": "code",
   "execution_count": 3,
   "id": "federal-transmission",
   "metadata": {},
   "outputs": [],
   "source": [
    "def cluster_id_search(tree):\n",
    "    nodes_list = []\n",
    "    if tree.is_leaf():\n",
    "        nodes_list.append(tree.get_id())\n",
    "    else:\n",
    "        nodes_list += cluster_id_search(tree.get_left())\n",
    "        nodes_list += cluster_id_search(tree.get_right())\n",
    "        \n",
    "    return nodes_list\n",
    "\n",
    "def find_trunc_dendro_clusters(linkage_mat, dendro):\n",
    "    tree, branches = to_tree(linkage_mat, rd =True)\n",
    "    ids = np.empty(linkage_mat.shape[0]+1, dtype=int)\n",
    "    \n",
    "    for i, clust in enumerate(dendro[\"leaves\"]):\n",
    "        ids[cluster_id_search(branches[clust])] = i\n",
    "        \n",
    "    return ids"
   ]
  },
  {
   "cell_type": "code",
   "execution_count": 3,
   "id": "proved-ebony",
   "metadata": {},
   "outputs": [
    {
     "name": "stdout",
     "output_type": "stream",
     "text": [
      "11\n"
     ]
    }
   ],
   "source": [
    "master_path =  Path(r\"\\\\funes\\Shared\\experiments\\E0040_motions_cardinal\\v29_29p1s\\ls\\1sec\")\n",
    "files = list(master_path.glob(\"*_f*\"))\n",
    "print(len(files))"
   ]
  },
  {
   "cell_type": "code",
   "execution_count": 4,
   "id": "infinite-guinea",
   "metadata": {},
   "outputs": [
    {
     "name": "stdout",
     "output_type": "stream",
     "text": [
      "32742 3600\n"
     ]
    }
   ],
   "source": [
    "fish_dir = files[2]\n",
    "suite2p_data = fl.load(fish_dir / 'data_from_suite2p_cells.h5')\n",
    "roi_coords = suite2p_data['coords']\n",
    "\n",
    "'''\n",
    "traces = suite2p_data['traces']\n",
    "norm_traces = np.copy(traces)\n",
    "norm_traces = norm_traces.T\n",
    "sd = np.nanstd(norm_traces, 0)\n",
    "mean = np.nanmean(norm_traces, 0)\n",
    "norm_traces = norm_traces - mean\n",
    "norm_traces = norm_traces / sd\n",
    "'''\n",
    "\n",
    "norm_traces = fl.load(fish_dir / 'filtered_traces.h5')['detr']\n",
    "norm_traces = norm_traces.T\n",
    "\n",
    "num_rois, len_rec = np.shape(norm_traces)\n",
    "print(num_rois, len_rec)\n",
    "\n",
    "t_start = 50\n",
    "norm_traces = norm_traces[:, t_start:]\n"
   ]
  },
  {
   "cell_type": "code",
   "execution_count": 5,
   "id": "cognitive-captain",
   "metadata": {},
   "outputs": [],
   "source": [
    "corr_thresh = -0.4\n",
    "corrmat = np.corrcoef(norm_traces)\n",
    "ng_corr_ind = np.unique(np.where(corrmat < corr_thresh)[0])\n",
    "\n",
    "corrmat_neg = corrmat[ng_corr_ind]\n",
    "norm_traces_neg = norm_traces[ng_corr_ind]\n",
    "\n",
    "num_ng = np.shape(ng_corr_ind)[0]\n",
    "min_val = np.nanmin(corrmat, axis=0)\n",
    "\n"
   ]
  },
  {
   "cell_type": "code",
   "execution_count": 6,
   "id": "vocational-queens",
   "metadata": {},
   "outputs": [
    {
     "data": {
      "application/vnd.jupyter.widget-view+json": {
       "model_id": "2b6ede654b0548b2b64531df9542a996",
       "version_major": 2,
       "version_minor": 0
      },
      "text/plain": [
       "Canvas(toolbar=Toolbar(toolitems=[('Home', 'Reset original view', 'home', 'home'), ('Back', 'Back to previous …"
      ]
     },
     "metadata": {},
     "output_type": "display_data"
    }
   ],
   "source": [
    "n_clust = 12\n",
    "fig_tmp = plt.figure()\n",
    "linked = linkage(norm_traces_neg, method='ward')\n",
    "dend = dendrogram(linked)\n",
    "cluster = AgglomerativeClustering(n_clusters=n_clust, affinity='euclidean', linkage='ward')\n",
    "her_clustering = cluster.fit_predict(norm_traces_neg)"
   ]
  },
  {
   "cell_type": "code",
   "execution_count": 7,
   "id": "center-frederick",
   "metadata": {},
   "outputs": [],
   "source": [
    "panel_dendro = dendrogram(linked,\n",
    "                          #orientation='left',\n",
    "                          distance_sort='descending',\n",
    "                          show_leaf_counts=False,\n",
    "                          no_labels=True,\n",
    "                          above_threshold_color='#%02x%02x%02x' % (\n",
    "                          120, 120, 120))"
   ]
  },
  {
   "cell_type": "code",
   "execution_count": 8,
   "id": "medium-fleece",
   "metadata": {},
   "outputs": [
    {
     "ename": "NameError",
     "evalue": "name 'find_trunc_dendro_clusters' is not defined",
     "output_type": "error",
     "traceback": [
      "\u001b[1;31m---------------------------------------------------------------------------\u001b[0m",
      "\u001b[1;31mNameError\u001b[0m                                 Traceback (most recent call last)",
      "\u001b[1;32m<ipython-input-8-fb089b35ee22>\u001b[0m in \u001b[0;36m<module>\u001b[1;34m\u001b[0m\n\u001b[0;32m      1\u001b[0m \u001b[0mcluster_ids\u001b[0m \u001b[1;33m=\u001b[0m \u001b[0mdend\u001b[0m\u001b[1;33m[\u001b[0m\u001b[1;34m\"leaves\"\u001b[0m\u001b[1;33m]\u001b[0m\u001b[1;33m\u001b[0m\u001b[1;33m\u001b[0m\u001b[0m\n\u001b[1;32m----> 2\u001b[1;33m \u001b[0mlabels\u001b[0m \u001b[1;33m=\u001b[0m \u001b[0mfind_trunc_dendro_clusters\u001b[0m\u001b[1;33m(\u001b[0m\u001b[0mlinked\u001b[0m\u001b[1;33m,\u001b[0m \u001b[0mdend\u001b[0m\u001b[1;33m)\u001b[0m\u001b[1;33m\u001b[0m\u001b[1;33m\u001b[0m\u001b[0m\n\u001b[0m",
      "\u001b[1;31mNameError\u001b[0m: name 'find_trunc_dendro_clusters' is not defined"
     ]
    }
   ],
   "source": [
    "cluster_ids = dend[\"leaves\"]\n",
    "labels = find_trunc_dendro_clusters(linked, dend)"
   ]
  },
  {
   "cell_type": "code",
   "execution_count": null,
   "id": "scientific-patient",
   "metadata": {},
   "outputs": [],
   "source": [
    "labels = cluster.labels_"
   ]
  },
  {
   "cell_type": "code",
   "execution_count": 108,
   "id": "champion-study",
   "metadata": {},
   "outputs": [
    {
     "data": {
      "application/vnd.jupyter.widget-view+json": {
       "model_id": "5baf05ec4e26479c8cfd224b0b762cf7",
       "version_major": 2,
       "version_minor": 0
      },
      "text/plain": [
       "Canvas(toolbar=Toolbar(toolitems=[('Home', 'Reset original view', 'home', 'home'), ('Back', 'Back to previous …"
      ]
     },
     "metadata": {},
     "output_type": "display_data"
    }
   ],
   "source": [
    "exp = LightsheetExperiment(fish_dir)\n",
    "tail = exp.behavior_log['tail_sum']\n",
    "roi_coords_neg = roi_coords[ng_corr_ind]\n",
    "\n",
    "fig_all, ax = plt.subplots(3, 2, figsize=(10,8), gridspec_kw={'width_ratios':[1, 3], 'height_ratios': [1, 6, 6]})\n",
    "\n",
    "ax[0,0].axis('off')\n",
    "ax[1,0].scatter(roi_coords[:, 1], roi_coords[:, 2], c=min_val, cmap='hot', s=3, vmin=-1, vmax=0)\n",
    "ax[1,0].axis('off')\n",
    "ax[1,0].set_title('Minimal correlation')\n",
    "\n",
    "ax[2,0].axis('off')\n",
    "ax[2,0].set_title('Minimal correlated neurons')\n",
    "\n",
    "ax[0,1].plot(tail, c='k')\n",
    "ax[0,1].set_xlim((t_start / 2 * 400, len(tail)))\n",
    "ax[0,1].axis('off')\n",
    "\n",
    "\n",
    "ax[1,1].imshow(norm_traces_neg[panel_dendro[\"leaves\"], :], cmap='coolwarm', vmin=-2, vmax=2, aspect='auto')\n",
    "ax[1,1].axis('off')\n",
    "\n",
    "\n",
    "col_list =  [\"lightblue\", \"lightcoral\", \"orange\", \"springgreen\", \"deepskyblue\", \"mediumpurple\",\"gold\", \"cyan\", \"crimson\",\n",
    "              \"deeppink\", \"lawngreen\", \"darkviolet\", \"Darkgreen\", \"blue\", \"brown\", \"dodgerblue\", \"hotpink\", \"OliveDrab\", \"gray\", \"seagreen\"][0:n_clust]\n",
    "for i in range(n_clust):\n",
    "    ax[2,0].scatter(roi_coords_neg[labels == i, 1], roi_coords_neg[labels == i, 2], c=col_list[i], s=3)\n",
    "    ax[2,1].plot(np.nanmean(norm_traces_neg[labels == i, :], 0) + i * 5, label=i, color=col_list[i])\n",
    "ax[2,1].axis('off')\n",
    "\n",
    "\n",
    "file_name = 'ROI_maps_anticorr_hrc_220324.jpg'\n",
    "fig_all.savefig(fish_dir / file_name, dpi=300)\n"
   ]
  },
  {
   "cell_type": "code",
   "execution_count": 109,
   "id": "coastal-stanford",
   "metadata": {},
   "outputs": [
    {
     "data": {
      "application/vnd.jupyter.widget-view+json": {
       "model_id": "0b64268dc23f4f9ca68ee333019bfc63",
       "version_major": 2,
       "version_minor": 0
      },
      "text/plain": [
       "Canvas(toolbar=Toolbar(toolitems=[('Home', 'Reset original view', 'home', 'home'), ('Back', 'Back to previous …"
      ]
     },
     "metadata": {},
     "output_type": "display_data"
    }
   ],
   "source": [
    "exp = LightsheetExperiment(fish_dir)\n",
    "tail = exp.behavior_log['tail_sum']\n",
    "roi_coords_neg = roi_coords[ng_corr_ind]\n",
    "\n",
    "fig_all2, ax2 = plt.subplots(3, 2, figsize=(10,8), gridspec_kw={'width_ratios':[1, 3], 'height_ratios': [1, 6, 6]})\n",
    "\n",
    "ax2[0,0].axis('off')\n",
    "ax2[1,0].scatter(roi_coords[:, 1], roi_coords[:, 2], c=min_val, cmap='hot', s=3, vmin=-1, vmax=0)\n",
    "ax2[1,0].axis('off')\n",
    "ax2[1,0].set_title('Minimal correlation')\n",
    "\n",
    "ax2[2,0].axis('off')\n",
    "ax[2,0].set_title('Minimal correlated neurons')\n",
    "\n",
    "ax2[0,1].plot(tail, c='k')\n",
    "ax2[0,1].set_xlim((t_start / 2 * 400, len(tail)))\n",
    "ax2[0,1].axis('off')\n",
    "\n",
    "\n",
    "norm_traces_0 = norm_traces_neg[labels == 0, :]\n",
    "norm_traces_5 = norm_traces_neg[labels == 5, :]\n",
    "norm_traces_05 = np.concatenate((norm_traces_0, norm_traces_5), axis=0)\n",
    "ax2[1,1].imshow(norm_traces_05, cmap='coolwarm', vmin=-2, vmax=2, aspect='auto')\n",
    "ax2[1,1].axis('off')\n",
    "\n",
    "\n",
    "col_list =  [\"lightblue\", \"lightcoral\", \"orange\", \"springgreen\", \"deepskyblue\", \"mediumpurple\",\"gold\", \"cyan\", \"crimson\",\n",
    "              \"deeppink\", \"lawngreen\", \"darkviolet\", \"Darkgreen\", \"blue\", \"brown\", \"dodgerblue\", \"hotpink\", \"OliveDrab\", \"gray\", \"seagreen\"][0:n_clust]\n",
    "for i in [0,5]:\n",
    "    ax2[2,0].scatter(roi_coords_neg[labels == i, 1], roi_coords_neg[labels == i, 2], c=col_list[i], s=3)\n",
    "    ax2[2,1].plot(np.nanmean(norm_traces_neg[labels == i, :], 0) + i, label=i, color=col_list[i])\n",
    "ax2[2,1].axis('off')\n",
    "ax2[2,0].set_ylim(0, 700)\n",
    "ax2[2,0].set_xlim(0, 700)\n",
    "\n",
    "file_name = 'ROI_maps_anticorr_hrc_220324_part.jpg'\n",
    "fig_all2.savefig(fish_dir / file_name, dpi=300)\n"
   ]
  },
  {
   "cell_type": "code",
   "execution_count": 110,
   "id": "complimentary-leisure",
   "metadata": {},
   "outputs": [],
   "source": [
    "data = {'selected': norm_traces_05}\n",
    "fl.save(fish_dir / 'selected_from_hrc.h5', data)"
   ]
  },
  {
   "cell_type": "code",
   "execution_count": 99,
   "id": "floating-still",
   "metadata": {},
   "outputs": [],
   "source": [
    "corrmat = np.corrcoef(norm_traces_05)\n",
    "norm_traces05_2 = norm_traces_05[np.unique(np.where(corrmat < -0.6)[0])]\n",
    "perm, com_phase = qap_sorting_and_phase(norm_traces_05.T)\n",
    "sorted_traces = norm_traces_05[perm]\n",
    "sorted_corrmat = np.corrcoef(sorted_traces)\n"
   ]
  },
  {
   "cell_type": "code",
   "execution_count": 100,
   "id": "lucky-particular",
   "metadata": {},
   "outputs": [
    {
     "data": {
      "application/vnd.jupyter.widget-view+json": {
       "model_id": "41080bf4d8704b3397b25f83560e55c1",
       "version_major": 2,
       "version_minor": 0
      },
      "text/plain": [
       "Canvas(toolbar=Toolbar(toolitems=[('Home', 'Reset original view', 'home', 'home'), ('Back', 'Back to previous …"
      ]
     },
     "metadata": {},
     "output_type": "display_data"
    }
   ],
   "source": [
    "fig_all_sort, ax_sort = plt.subplots(2, 1, figsize=(6,4), gridspec_kw={'height_ratios': [1, 6]})\n",
    "\n",
    "ax_sort[0].plot(tail, color='k')\n",
    "ax_sort[0].set_aspect('auto')\n",
    "ax_sort[0].axis('off')\n",
    "ax_sort[0].set_title('Tail sum')\n",
    "ax_sort[0].set_xlim((t_start / 2 * 400, len(tail)))\n",
    "\n",
    "ax_sort[1].imshow(sorted_traces, cmap=\"coolwarm\", vmin=-2, vmax=2, aspect='auto')\n",
    "ax_sort[1].axis('off')\n",
    "ax_sort[1].set_title('Negatively correlated traces')\n",
    "\n",
    "file_name = fish_dir / \"tail_sorted_traces_06.jpg\"\n",
    "fig_all_sort.savefig(str(file_name), dpi=300)"
   ]
  },
  {
   "cell_type": "code",
   "execution_count": 62,
   "id": "supreme-value",
   "metadata": {},
   "outputs": [
    {
     "name": "stderr",
     "output_type": "stream",
     "text": [
      "C:\\Users\\lavian\\anaconda3\\envs\\rplab\\lib\\site-packages\\ipykernel_launcher.py:1: RuntimeWarning: More than 20 figures have been opened. Figures created through the pyplot interface (`matplotlib.pyplot.figure`) are retained until explicitly closed and may consume too much memory. (To control this warning, see the rcParam `figure.max_open_warning`).\n",
      "  \"\"\"Entry point for launching an IPython kernel.\n"
     ]
    },
    {
     "data": {
      "application/vnd.jupyter.widget-view+json": {
       "model_id": "693fe26f23bb4063a9f4366faecee8fb",
       "version_major": 2,
       "version_minor": 0
      },
      "text/plain": [
       "Canvas(toolbar=Toolbar(toolitems=[('Home', 'Reset original view', 'home', 'home'), ('Back', 'Back to previous …"
      ]
     },
     "metadata": {},
     "output_type": "display_data"
    },
    {
     "name": "stdout",
     "output_type": "stream",
     "text": [
      "0 0\n",
      "0 1\n",
      "0 2\n",
      "0 3\n",
      "1 0\n",
      "1 1\n",
      "1 2\n",
      "1 3\n",
      "2 0\n",
      "2 1\n",
      "2 2\n",
      "2 3\n"
     ]
    }
   ],
   "source": [
    "fig5, ax5 = plt.subplots(3, 4, figsize=(12, 12), sharex=True, sharey=True)\n",
    "\n",
    "\n",
    "for i in range(n_clust): \n",
    "    r = i // 4\n",
    "    c = np.mod(i, 4)\n",
    "    print(r,c)\n",
    "    ax5[r, c].scatter(roi_coords_neg[labels == i, 1], roi_coords_neg[labels == i, 2], c=col_list[i], s=3)\n",
    "    ax5[r,c].axis('off')\n",
    "\n",
    "\n",
    "plt.show()\n",
    "file_name = 'clusters_rois_hrc_' + '_k' + str(n_clust) + '.jpg'\n",
    "fig5.savefig(str(fish_dir/file_name), dpi=300)"
   ]
  },
  {
   "cell_type": "code",
   "execution_count": null,
   "id": "organic-ontario",
   "metadata": {},
   "outputs": [],
   "source": []
  },
  {
   "cell_type": "code",
   "execution_count": null,
   "id": "dominant-permit",
   "metadata": {},
   "outputs": [],
   "source": []
  },
  {
   "cell_type": "code",
   "execution_count": null,
   "id": "subsequent-confidentiality",
   "metadata": {},
   "outputs": [],
   "source": []
  },
  {
   "cell_type": "code",
   "execution_count": null,
   "id": "neither-courage",
   "metadata": {},
   "outputs": [],
   "source": []
  }
 ],
 "metadata": {
  "kernelspec": {
   "display_name": "Python 3",
   "language": "python",
   "name": "python3"
  },
  "language_info": {
   "codemirror_mode": {
    "name": "ipython",
    "version": 3
   },
   "file_extension": ".py",
   "mimetype": "text/x-python",
   "name": "python",
   "nbconvert_exporter": "python",
   "pygments_lexer": "ipython3",
   "version": "3.7.10"
  }
 },
 "nbformat": 4,
 "nbformat_minor": 5
}
