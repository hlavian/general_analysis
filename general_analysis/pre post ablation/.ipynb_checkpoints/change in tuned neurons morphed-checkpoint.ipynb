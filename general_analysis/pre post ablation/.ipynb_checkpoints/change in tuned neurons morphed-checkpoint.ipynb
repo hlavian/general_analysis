{
 "cells": [
  {
   "cell_type": "code",
   "execution_count": null,
   "id": "fa74e05f-e446-4f68-be0d-9a5876507c66",
   "metadata": {},
   "outputs": [],
   "source": [
    "%matplotlib widget"
   ]
  },
  {
   "cell_type": "code",
   "execution_count": null,
   "id": "c85159ae-01b8-4d75-be6f-95f1897bc359",
   "metadata": {},
   "outputs": [],
   "source": [
    "import matplotlib.pyplot as plt\n",
    "import numpy as np\n",
    "from pathlib import Path\n",
    "import flammkuchen as fl\n",
    "\n",
    "from glob import glob\n",
    "import pandas as pd\n",
    "from bouter import Experiment\n",
    "import colorspacious\n",
    "import json\n",
    "from scipy import stats"
   ]
  },
  {
   "cell_type": "code",
   "execution_count": null,
   "id": "1e896c30-45af-4f9f-b342-a5f57bbcc461",
   "metadata": {},
   "outputs": [],
   "source": [
    "master_pre = Path(r\"Z:\\Hagar\\E0040\\v31\\pre ablation\")\n",
    "pre_list = list(master_pre.glob(\"*_f*\"))\n",
    "\n",
    "master_post = Path(r\"Z:\\Hagar\\E0040\\v31\\post ablation 2d\")\n",
    "post_list = list(master_post.glob(\"*_f*\"))\n",
    "\n",
    "num_fish = len(pre_list)"
   ]
  },
  {
   "cell_type": "code",
   "execution_count": null,
   "id": "f834513b-7cd5-4ff6-a53c-cb6c996488bf",
   "metadata": {},
   "outputs": [],
   "source": [
    "###### make a figure showing the drop per fish"
   ]
  },
  {
   "cell_type": "code",
   "execution_count": null,
   "id": "869cca72-7bf4-41c5-b05b-210cd114f64a",
   "metadata": {},
   "outputs": [],
   "source": [
    "regions = ['r_habenula', 'l_habenula', 'ahb', 'ipn']\n",
    "num_regions = len(regions)\n",
    "thresh = 0.33\n",
    "n_tuned_pre = np.zeros((num_regions, num_fish)) # habenula, aHB, IPN\n",
    "n_neurons_pre = np.zeros((num_regions, num_fish)) # habenula, aHB, IPN\n",
    "n_tuned_post = np.zeros((num_regions, num_fish)) # habenula, aHB, IPN\n",
    "n_neurons_post = np.zeros((num_regions, num_fish)) # habenula, aHB, IPN"
   ]
  },
  {
   "cell_type": "code",
   "execution_count": null,
   "id": "3668633e-9e7a-486d-8d34-fddf1da49f43",
   "metadata": {},
   "outputs": [],
   "source": [
    "bins = np.linspace(-1, 1, 100)    \n",
    "fig2, ax2 = plt.subplots(num_regions, num_fish, figsize=(12, 7))\n",
    "\n",
    "for fish in range(num_fish):\n",
    "    pre_fish = pre_list[fish]\n",
    "    exp = Experiment(pre_fish)\n",
    "    fish_id = exp.fish_id\n",
    "    print(fish_id)\n",
    "    \n",
    "    traces = fl.load(pre_fish / \"filtered_traces.h5\", \"/detr\")\n",
    "    sensory_regressors = fl.load(pre_fish / \"sensory_regressors.h5\", \"/regressors\")\n",
    "    coords_regions = fl.load(pre_fish / \"registration\" / \"ref_brain_regions.h5\")\n",
    "    \n",
    "    for region in range(num_regions):\n",
    "        print(regions[region])\n",
    "        region_idx = coords_regions[regions[region]]\n",
    "        num_traces = np.shape(region_idx)[0]\n",
    "        traces_region = traces[:, region_idx]\n",
    "\n",
    "        reg_corr = np.zeros((2, num_traces))\n",
    "\n",
    "        count=0\n",
    "        for direction in [0, 4]:\n",
    "            current_dir = np.asarray(sensory_regressors.iloc[:, direction])\n",
    "\n",
    "            for i in range(num_traces):\n",
    "                reg_corr[count, i] = np.corrcoef(current_dir, traces_region[:, i])[0,1]\n",
    "            count += 1\n",
    "        \n",
    "        n_neurons_pre[region, fish] = num_traces\n",
    "        n_tuned_pre[region, fish] = len(np.where(np.abs(reg_corr) > thresh)[0])\n",
    "        ax2[region, fish].hist(np.append(reg_corr[0], reg_corr[1]), bins, alpha=0.5, label='pre', density=False)\n",
    "        ax2[region, 0].set_ylabel(\"Count(\" + regions[region] + \")\")\n",
    "    \n",
    "    ax2[0, fish].set_title(fish_id)\n",
    "    ax2[0, fish].set_xlabel(\"Correlation\")\n",
    "    \n",
    "    #######################################\n",
    "    post_fish = post_list[fish]\n",
    "    \n",
    "    traces = fl.load(post_fish / \"filtered_traces.h5\", \"/detr\")\n",
    "    sensory_regressors = fl.load(post_fish / \"sensory_regressors.h5\", \"/regressors\")\n",
    "    coords_regions = fl.load(post_fish / \"registration\" / \"ref_brain_regions.h5\")\n",
    "        \n",
    "    for region in range(num_regions):\n",
    "        region_idx = coords_regions[regions[region]]\n",
    "        num_traces = np.shape(region_idx)[0]\n",
    "        traces_region = traces[:, region_idx]\n",
    "        \n",
    "        reg_corr = np.zeros((2, num_traces))\n",
    "        count=0\n",
    "        for direction in [0, 4]:\n",
    "            current_dir = np.asarray(sensory_regressors.iloc[:, direction])\n",
    "\n",
    "            for i in range(num_traces):\n",
    "                reg_corr[count, i] = np.corrcoef(current_dir, traces_region[:, i])[0,1]\n",
    "            count += 1\n",
    "\n",
    "        n_neurons_post[region, fish] = num_traces\n",
    "        n_tuned_post[region, fish] = len(np.where(np.abs(reg_corr) > thresh)[0])\n",
    "        ax2[region, fish].hist(np.append(reg_corr[0], reg_corr[1]), bins, alpha=0.5, label='post', density=False)\n",
    "        ax2[0, num_fish-1].legend(loc='upper right')\n",
    "        \n",
    "        ax2[region, fish].spines['right'].set_visible(False)\n",
    "        ax2[region, fish].spines['top'].set_visible(False)\n",
    "   "
   ]
  },
  {
   "cell_type": "code",
   "execution_count": null,
   "id": "e780dca4-0049-4b60-b155-53d56767706a",
   "metadata": {},
   "outputs": [],
   "source": [
    "fig2.subplots_adjust(left=0.05, wspace=0.3)\n"
   ]
  },
  {
   "cell_type": "code",
   "execution_count": null,
   "id": "a74506a4-2eaf-47bf-b3eb-462dd2b8e8d7",
   "metadata": {},
   "outputs": [],
   "source": [
    "file_name = \"corr histogram pre and post morphed masks.jpg\"\n",
    "fig2.savefig(master_pre / file_name, dpi=300)\n",
    "file_name = \"corr histogram pre and post morphed masks.pdf\"\n",
    "fig2.savefig(master_pre / file_name, dpi=300)\n"
   ]
  },
  {
   "cell_type": "code",
   "execution_count": null,
   "id": "ef2cee89-3b1d-41a6-ad74-3e83f5b48cc6",
   "metadata": {},
   "outputs": [],
   "source": [
    "titles = ['Left habenula', 'Right habenula', 'aHB', 'IPN']"
   ]
  },
  {
   "cell_type": "code",
   "execution_count": null,
   "id": "6459b569-4667-4f80-8434-c13e4298c90d",
   "metadata": {},
   "outputs": [],
   "source": [
    "fig3, ax3 = plt.subplots(2, num_regions, figsize=(8, 5))\n",
    "ylim=[[0.2, 0.1, 1, 0.4], [1,1,1,1]]\n",
    "for j in range(2):\n",
    "    for i in range(num_regions):\n",
    "        curr_plot = np.zeros((2, num_fish))\n",
    "        curr_plot[0] = n_tuned_pre[i] / n_neurons_pre[i] / 2\n",
    "        curr_plot[1] = n_tuned_post[i] / n_neurons_post[i] / 2\n",
    "        ax3[j, i].plot(curr_plot, c='skyblue')\n",
    "        x = np.mean(curr_plot, axis=1)\n",
    "        err = np.std(curr_plot) / num_fish\n",
    "        ax3[j, i].errorbar([0, 1], x, yerr=err, c='royalblue')\n",
    "\n",
    "\n",
    "        ax3[0, i].set_title(titles[i])\n",
    "        ax3[j, i].spines['right'].set_visible(False)\n",
    "        ax3[j, i].spines['top'].set_visible(False)\n",
    "\n",
    "        labels = [item.get_text() for item in ax3[j, i].get_xticklabels()]\n",
    "        labels[1] = 'Pre'\n",
    "        labels[2] = 'Post'\n",
    "\n",
    "        ax3[j, i].set_xticklabels(labels)\n",
    "        pval = round(stats.ttest_rel(curr_plot[0], curr_plot[1])[1], 4)\n",
    "        ax3[j, i].set_ylim(0, ylim[j][i])\n",
    "        ax3[j, i].text(0.3, ylim[j][i]*0.9, \"p=\" + str(pval), fontsize=9)\n",
    "\n",
    "\n",
    "    ax3[j, 0].set_ylabel('Tuned')\n",
    "fig3.subplots_adjust(wspace=0.5, hspace=0.5)"
   ]
  },
  {
   "cell_type": "code",
   "execution_count": null,
   "id": "73ff74f2-78be-4090-a8d3-ca7a0e116062",
   "metadata": {},
   "outputs": [],
   "source": [
    "file_name = \"precent change in tuned neurons new\" + str(thresh) + \" morphed masks.jpg\"\n",
    "fig3.savefig(master_pre / file_name, dpi=300)\n",
    "file_name = \"precent change in tuned neurons new\" + str(thresh) + \" morphed masks.pdf\"\n",
    "fig3.savefig(master_pre / file_name, dpi=300)"
   ]
  },
  {
   "cell_type": "code",
   "execution_count": null,
   "id": "ad214f2a-a337-4066-a912-dfeee1eaf1eb",
   "metadata": {},
   "outputs": [],
   "source": []
  },
  {
   "cell_type": "code",
   "execution_count": null,
   "id": "fde7bb69-6b9d-4aac-882c-0c6714d92b34",
   "metadata": {},
   "outputs": [],
   "source": []
  },
  {
   "cell_type": "code",
   "execution_count": null,
   "id": "c6bff52c-4516-4fbc-ba44-26d9fb18bd5f",
   "metadata": {},
   "outputs": [],
   "source": []
  },
  {
   "cell_type": "code",
   "execution_count": null,
   "id": "796795c0-a42d-49a4-9aac-a5e5872ccb3c",
   "metadata": {},
   "outputs": [],
   "source": [
    "for fish in range(1):\n",
    "    pre_fish = pre_list[fish]\n",
    "    exp = Experiment(pre_fish)\n",
    "    fish_id = exp.fish_id\n",
    "    print(fish_id)\n",
    "    \n",
    "    coords = fl.load(pre_fish / \"data_from_suite2p_cells.h5\", \"/coords\")\n",
    "    \n",
    "    trans_mat = fl.load(pre_fish / 'registration' / 'initial_transform_mapped.h5')\n",
    "    print(trans_mat)\n"
   ]
  },
  {
   "cell_type": "code",
   "execution_count": null,
   "id": "a9d57538-befc-4885-8e7b-4f7c22096fa8",
   "metadata": {},
   "outputs": [],
   "source": [
    "import tifffile as tiff"
   ]
  },
  {
   "cell_type": "code",
   "execution_count": null,
   "id": "c065857f-064c-4616-96db-30c9d5a70f46",
   "metadata": {},
   "outputs": [],
   "source": [
    "ref = tiff.imread(r\"Z:\\Hagar\\mpin_zfish_1um_v1.1\\H2BGCaMP.tiff\")"
   ]
  },
  {
   "cell_type": "code",
   "execution_count": null,
   "id": "b0c3c053-8b6d-4e1c-8a4a-b50b791b9e4f",
   "metadata": {},
   "outputs": [],
   "source": [
    "np.shape(ref)"
   ]
  },
  {
   "cell_type": "code",
   "execution_count": null,
   "id": "f703e597-ed1a-460a-b116-80681f0e0335",
   "metadata": {},
   "outputs": [],
   "source": [
    "ref2 = np.swapaxes(ref, 0,1)"
   ]
  },
  {
   "cell_type": "code",
   "execution_count": null,
   "id": "af89272b-f3dd-4504-a591-6a560250dada",
   "metadata": {},
   "outputs": [],
   "source": [
    "ref3 = np.rot90(ref2)"
   ]
  },
  {
   "cell_type": "code",
   "execution_count": null,
   "id": "1502601b-226e-43b0-82c2-da82e24fec81",
   "metadata": {},
   "outputs": [],
   "source": [
    "ref4 = ref3[:,:,:]"
   ]
  },
  {
   "cell_type": "code",
   "execution_count": null,
   "id": "7773052b-8ab8-4843-a38a-b4b06a56c791",
   "metadata": {},
   "outputs": [],
   "source": [
    "tiff.imsave(path / \"test.tiff\", ref3)"
   ]
  },
  {
   "cell_type": "code",
   "execution_count": null,
   "id": "ea484da1-b016-4520-b18f-5d649b019e15",
   "metadata": {},
   "outputs": [],
   "source": [
    "path = Path(r\"Z:\\Hagar\\mpin_zfish_1um_v1.1\")\n",
    "d = {'ref_mapped': ref}\n",
    "fl.save(path / \"ref_mapped.h5\", d)"
   ]
  },
  {
   "cell_type": "code",
   "execution_count": null,
   "id": "7f336f26-9947-4e11-8732-302a06c8d989",
   "metadata": {},
   "outputs": [],
   "source": []
  }
 ],
 "metadata": {
  "kernelspec": {
   "display_name": "Python 3",
   "language": "python",
   "name": "python3"
  },
  "language_info": {
   "codemirror_mode": {
    "name": "ipython",
    "version": 3
   },
   "file_extension": ".py",
   "mimetype": "text/x-python",
   "name": "python",
   "nbconvert_exporter": "python",
   "pygments_lexer": "ipython3",
   "version": "3.7.10"
  }
 },
 "nbformat": 4,
 "nbformat_minor": 5
}
