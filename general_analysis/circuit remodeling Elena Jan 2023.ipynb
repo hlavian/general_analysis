{
 "cells": [
  {
   "cell_type": "code",
   "execution_count": null,
   "id": "6b8e992c-df32-4389-8964-b7d3ee4d2963",
   "metadata": {},
   "outputs": [],
   "source": [
    "%matplotlib widget"
   ]
  },
  {
   "cell_type": "code",
   "execution_count": null,
   "id": "a54f27ab-0dde-4271-a5bf-2b9fa4790183",
   "metadata": {},
   "outputs": [],
   "source": [
    "import numpy as np\n",
    "import flammkuchen as fl\n",
    "import napari\n",
    "from pathlib import Path\n",
    "\n",
    "from split_dataset import SplitDataset\n",
    "import json\n",
    "\n",
    "import flammkuchen as fl \n",
    "import matplotlib.pyplot as plt"
   ]
  },
  {
   "cell_type": "code",
   "execution_count": null,
   "id": "2a4ed175-b5cf-42e4-887b-c061b0ce2dc1",
   "metadata": {},
   "outputs": [],
   "source": [
    "def exp_decay_kernel(upsample=1, tau, dt, len_rec):\n",
    "    t = np.arange(len_rec * upsample) * dt / upsample\n",
    "    \n",
    "    decay = np.exp(-t / tau)\n",
    "    decay /= np.sum(decay)\n",
    "    return decay"
   ]
  },
  {
   "cell_type": "code",
   "execution_count": null,
   "id": "df0edde3-e02c-4d6f-840e-b81a38d259f5",
   "metadata": {},
   "outputs": [],
   "source": [
    "master_path =  Path(r\"\\\\funes\\Shared\\Elena\\2022_11_17_ls_trb_red_lp650nm_3\\07\")\n",
    "#master_path =  Path(r\"\\\\funes\\Shared\\Elena\\2022_11_22_ls_trb_red_lp650nm_4\\07\")\n",
    "fish_list = list(master_path.glob(\"*f*\"))\n",
    "path = fish_list[7]\n",
    "print(path)\n"
   ]
  },
  {
   "cell_type": "code",
   "execution_count": null,
   "id": "9979a2a8-4cc0-4f64-9080-5312e1f471f6",
   "metadata": {},
   "outputs": [],
   "source": [
    "suite2p_data = fl.load(path / \"data_from_suite2p_cells_brain.h5\")\n",
    "traces = suite2p_data['traces']\n",
    "coords = suite2p_data['coords']\n",
    "np.shape(traces)\n"
   ]
  },
  {
   "cell_type": "code",
   "execution_count": null,
   "id": "95ac5794-555e-4097-9398-da37764007e1",
   "metadata": {},
   "outputs": [],
   "source": [
    "# normalize traces \n",
    "norm_traces = np.copy(traces)\n",
    "norm_traces=norm_traces.T\n",
    "sd=np.nanstd(norm_traces, 0)\n",
    "mean=np.nanmean(norm_traces, 0)\n",
    "norm_traces=norm_traces-mean \n",
    "norm_traces=norm_traces/sd\n",
    "traces=norm_traces.T"
   ]
  },
  {
   "cell_type": "code",
   "execution_count": null,
   "id": "dda15c9e-46e7-452a-a2f3-0041b74b04e3",
   "metadata": {},
   "outputs": [],
   "source": [
    "fs = 2\n",
    "num_traces, len_rec = np.shape(traces)\n",
    "stim_right = fl.load(path / \"stimulus_right.h5\")[0]\n",
    "stim_left = fl.load(path / \"stimulus_left.h5\")[0]\n",
    "\n",
    "ca_kernel = exp_decay_kernel(tau=1.8, dt=1/fs, len_rec=len_rec)\n",
    "ca_kernel = ca_kernel[0:500]"
   ]
  },
  {
   "cell_type": "code",
   "execution_count": null,
   "id": "1608109a-49ee-4426-947d-3a631dcf8d5a",
   "metadata": {},
   "outputs": [],
   "source": [
    "right_conv = np.convolve(stim_right, ca_kernel, mode='full')\n",
    "kernel_size = np.shape(ca_kernel)[0] - 1\n",
    "right_conv = right_conv[0:-kernel_size]"
   ]
  },
  {
   "cell_type": "code",
   "execution_count": null,
   "id": "d612029c-ef8b-425b-a9fb-a96782d645d4",
   "metadata": {},
   "outputs": [],
   "source": [
    "left_conv = np.convolve(stim_left, ca_kernel, mode='full')\n",
    "kernel_size = np.shape(ca_kernel)[0] - 1\n",
    "left_conv = left_conv[0:-kernel_size]"
   ]
  },
  {
   "cell_type": "code",
   "execution_count": null,
   "id": "a702e2ed-151d-499f-ab4f-01a42f78dbcc",
   "metadata": {},
   "outputs": [],
   "source": [
    "fig = plt.figure()\n",
    "plt.plot(left_conv)\n",
    "plt.plot(right_conv)"
   ]
  },
  {
   "cell_type": "code",
   "execution_count": null,
   "id": "bfafb8b4-8e13-43fb-87b3-39c7190d901d",
   "metadata": {},
   "outputs": [],
   "source": [
    "right_traces = np.dot(traces, right_conv) - num_traces * np.mean(traces, 1) * np.mean(right_conv)\n",
    "right_traces /= (traces.shape[1] - 1) * np.std(traces, 1) * np.std(right_conv)\n",
    "\n",
    "left_traces = np.dot(traces, left_conv) - num_traces * np.mean(traces, 1) * np.mean(left_conv)\n",
    "left_traces /= (traces.shape[1] - 1) * np.std(traces, 1) * np.std(left_conv)"
   ]
  },
  {
   "cell_type": "code",
   "execution_count": null,
   "id": "5867db86-10ac-474d-9d92-fac721fa9034",
   "metadata": {},
   "outputs": [],
   "source": [
    "directionality_i = right_traces - left_traces "
   ]
  },
  {
   "cell_type": "code",
   "execution_count": null,
   "id": "548f35e3-e76c-4874-8611-febab7818033",
   "metadata": {},
   "outputs": [],
   "source": [
    "fig, ax = plt.subplots(2, 2, figsize=(6, 6), gridspec_kw={'width_ratios': [1, 2], 'height_ratios': [1, 2]})\n",
    "\n",
    "ax[0,0].axis('off')\n",
    "ax[0,1].spines['right'].set_visible(False)\n",
    "ax[0,1].spines['top'].set_visible(False)\n",
    "\n",
    "ax[1,0].spines['right'].set_visible(False)\n",
    "ax[1,0].spines['top'].set_visible(False)\n",
    "\n",
    "ax[1,1].spines['right'].set_visible(False)\n",
    "ax[1,1].spines['top'].set_visible(False)\n",
    "\n",
    "ax[0, 1].scatter(coords[:, 2], coords[:, 0], c=directionality_i, cmap='PiYG', alpha=1, vmin=-0.8, vmax=0.8, s=2)\n",
    "ax[1, 1].scatter(coords[:, 2], coords[:, 1], c=directionality_i, cmap='PiYG', alpha=1, vmin=-0.8, vmax=0.8, s=2)\n",
    "ax[1, 0].scatter(coords[:, 0], coords[:, 1], c=directionality_i, cmap='PiYG', alpha=1, vmin=-0.8, vmax=0.8, s=2)\n"
   ]
  },
  {
   "cell_type": "code",
   "execution_count": null,
   "id": "57fbc5de-3a79-432c-9e13-d49bf07c51c9",
   "metadata": {},
   "outputs": [],
   "source": [
    "file_name = \"directionality index.jpg\"\n",
    "fig.savefig(path / file_name, dpi=300)"
   ]
  },
  {
   "cell_type": "code",
   "execution_count": null,
   "id": "3890ed11-879b-4528-bb42-e9201d44d687",
   "metadata": {},
   "outputs": [],
   "source": [
    "fig_r, ax_r = plt.subplots(2, 2, figsize=(6, 6), gridspec_kw={'width_ratios': [1, 2], 'height_ratios': [1, 2]})\n",
    "\n",
    "ax_r[0,0].axis('off')\n",
    "ax_r[0,1].spines['right'].set_visible(False)\n",
    "ax_r[0,1].spines['top'].set_visible(False)\n",
    "\n",
    "ax_r[1,0].spines['right'].set_visible(False)\n",
    "ax_r[1,0].spines['top'].set_visible(False)\n",
    "\n",
    "ax_r[1,1].spines['right'].set_visible(False)\n",
    "ax_r[1,1].spines['top'].set_visible(False)\n",
    "\n",
    "ax_r[0, 1].scatter(coords[:, 2], coords[:, 0], c=left_traces, cmap='coolwarm', alpha=0.7, s=2, vmin=-0.8, vmax=0.8)\n",
    "ax_r[1, 1].scatter(coords[:, 2], coords[:, 1], c=left_traces, cmap='coolwarm', alpha=0.7, s=2, vmin=-0.8, vmax=0.8)\n",
    "ax_r[1, 0].scatter(coords[:, 0], coords[:, 1], c=left_traces, cmap='coolwarm', alpha=0.7, s=2, vmin=-0.8, vmax=0.8)"
   ]
  },
  {
   "cell_type": "code",
   "execution_count": null,
   "id": "33bb3b6c-6f45-428e-be14-1a34b353ade9",
   "metadata": {},
   "outputs": [],
   "source": [
    "file_name = \"corr with left regressor.jpg\"\n",
    "fig_r.savefig(path / file_name, dpi=300)"
   ]
  },
  {
   "cell_type": "code",
   "execution_count": null,
   "id": "5de0d1b9-be4b-4116-a7d7-7b06645eebc0",
   "metadata": {},
   "outputs": [],
   "source": []
  },
  {
   "cell_type": "code",
   "execution_count": null,
   "id": "1b655f5d-1653-4cc6-bcd1-a0b27df7e109",
   "metadata": {},
   "outputs": [],
   "source": [
    "dir_path = path / 'beh'\n",
    "with open(next(Path(dir_path).glob(\"*metadata.json\")), \"r\") as f:\n",
    "    metadata = json.load(f)\n",
    "lsconfig = metadata[\"imaging\"][\"microscope_config\"]['lightsheet']['scanning']\n",
    "z_tot_span = lsconfig[\"z\"][\"piezo_max\"] - lsconfig[\"z\"][\"piezo_min\"]\n",
    "n_planes = lsconfig[\"triggering\"][\"n_planes\"]\n",
    "z_res = z_tot_span / n_planes"
   ]
  },
  {
   "cell_type": "code",
   "execution_count": null,
   "id": "90193dcb-a40b-41d5-a591-a5b1eb45ef72",
   "metadata": {},
   "outputs": [],
   "source": [
    "mp_ind = np.argsort(np.abs(directionality_i))\n",
    "mp_ind"
   ]
  },
  {
   "cell_type": "code",
   "execution_count": null,
   "id": "d0c4db40-8593-4740-8b62-3f98523330f0",
   "metadata": {},
   "outputs": [],
   "source": [
    "fig_mp, ax_mp = plt.subplots(2, 2, figsize=(6, 6), gridspec_kw={'width_ratios': [1, 2], 'height_ratios': [1, 2]})\n",
    "\n",
    "ax_mp[0,0].axis('off')\n",
    "ax_mp[0,1].spines['right'].set_visible(False)\n",
    "ax_mp[0,1].spines['top'].set_visible(False)\n",
    "\n",
    "ax_mp[1,0].spines['right'].set_visible(False)\n",
    "ax_mp[1,0].spines['top'].set_visible(False)\n",
    "\n",
    "ax_mp[1,1].spines['right'].set_visible(False)\n",
    "ax_mp[1,1].spines['top'].set_visible(False)\n",
    "\n",
    "ax_mp[0, 1].scatter(coords[mp_ind, 2] * 0.6, coords[mp_ind, 0] * z_res, c=directionality_i[mp_ind], cmap='PiYG', alpha=1, vmin=-2, vmax=2, s=2)\n",
    "ax_mp[1, 1].scatter(coords[mp_ind, 2] * 0.6, coords[mp_ind, 1] * 0.6, c=directionality_i[mp_ind], cmap='PiYG', alpha=1, vmin=-2, vmax=2, s=2)\n",
    "ax_mp[1, 0].scatter(coords[mp_ind, 0] * z_res, coords[mp_ind, 1] * 0.6, c=directionality_i[mp_ind], cmap='PiYG', alpha=1, vmin=-2, vmax=2, s=2)\n"
   ]
  },
  {
   "cell_type": "code",
   "execution_count": null,
   "id": "ff8a0c21-c8d3-492d-9558-2e6b231aecdf",
   "metadata": {},
   "outputs": [],
   "source": [
    "file_name = \"directionality index max proj.png\"\n",
    "fig_mp.savefig(path / file_name, dpi=300)"
   ]
  },
  {
   "cell_type": "code",
   "execution_count": null,
   "id": "e834d9ff-458d-49af-bafe-4120673f177f",
   "metadata": {},
   "outputs": [],
   "source": [
    "ax_mp[0,1].axis('off')\n",
    "ax_mp[1,0].axis('off')\n",
    "ax_mp[1,1].axis('off')"
   ]
  },
  {
   "cell_type": "code",
   "execution_count": null,
   "id": "4772fe46-bca6-4871-a528-66ff6c99a5e2",
   "metadata": {},
   "outputs": [],
   "source": [
    "file_name = \"directionality index max proj no axes.png\"\n",
    "fig_mp.savefig(path / file_name, dpi=300)"
   ]
  },
  {
   "cell_type": "code",
   "execution_count": null,
   "id": "e15e2b3f-cec0-4652-b88d-9cce5e9a9274",
   "metadata": {},
   "outputs": [],
   "source": []
  },
  {
   "cell_type": "code",
   "execution_count": null,
   "id": "97e6daec-2196-4ead-bb42-5a15d8b36081",
   "metadata": {},
   "outputs": [],
   "source": []
  },
  {
   "cell_type": "code",
   "execution_count": null,
   "id": "e7fe4c58-51d1-456b-8465-9041eb3658c8",
   "metadata": {},
   "outputs": [],
   "source": []
  },
  {
   "cell_type": "code",
   "execution_count": null,
   "id": "429f5d04-0113-494e-baf8-f25cca61353c",
   "metadata": {},
   "outputs": [],
   "source": []
  },
  {
   "cell_type": "code",
   "execution_count": null,
   "id": "186ff88f-6a1b-48da-85e1-9c9889d87165",
   "metadata": {},
   "outputs": [],
   "source": []
  }
 ],
 "metadata": {
  "kernelspec": {
   "display_name": "Python 3",
   "language": "python",
   "name": "python3"
  },
  "language_info": {
   "codemirror_mode": {
    "name": "ipython",
    "version": 3
   },
   "file_extension": ".py",
   "mimetype": "text/x-python",
   "name": "python",
   "nbconvert_exporter": "python",
   "pygments_lexer": "ipython3",
   "version": "3.7.10"
  }
 },
 "nbformat": 4,
 "nbformat_minor": 5
}
