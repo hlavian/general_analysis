{
 "cells": [
  {
   "cell_type": "code",
   "execution_count": null,
   "id": "detailed-raising",
   "metadata": {},
   "outputs": [],
   "source": [
    "import bg_atlasapi\n",
    "from bg_atlasapi.bg_atlas import BrainGlobeAtlas\n",
    "import nrrd\n",
    "import tifffile as tiff\n",
    "from pathlib import Path"
   ]
  },
  {
   "cell_type": "code",
   "execution_count": null,
   "id": "indian-today",
   "metadata": {},
   "outputs": [],
   "source": [
    "bg_atlasapi.show_atlases()"
   ]
  },
  {
   "cell_type": "code",
   "execution_count": null,
   "id": "interior-shopping",
   "metadata": {},
   "outputs": [],
   "source": [
    "atlas = BrainGlobeAtlas(\"mpin_zfish_1um\")"
   ]
  },
  {
   "cell_type": "code",
   "execution_count": null,
   "id": "terminal-israel",
   "metadata": {},
   "outputs": [],
   "source": [
    "\"resolution\": [1.0, 1.0, 1.0], \"orientation\": \"asr\""
   ]
  },
  {
   "cell_type": "code",
   "execution_count": null,
   "id": "headed-female",
   "metadata": {},
   "outputs": [],
   "source": [
    "# savning mpin reference \n",
    "dir_path = Path(r\"\\\\funes\\Shared\\morphing\\references\\mpin_reference\")\n",
    "mpin_ref = tiff.imread(dir_path / \"reference.tiff\")\n",
    "file_name = Path(dir_path) / 'mpin_reference.nrrd'\n",
    "header = {'kinds': ['domain', 'domain', 'domain'], 'units': ['microns', 'microns', 'microns'], 'spacings': [1., 1., 1.], 'space': 'anterior-superior-right'}\n",
    "nrrd.write(str(file_name), mpin_ref, header, index_order='C')"
   ]
  },
  {
   "cell_type": "code",
   "execution_count": null,
   "id": "hazardous-antique",
   "metadata": {},
   "outputs": [],
   "source": [
    "# savning mpin reference (from Inbal) \n",
    "dir_path = Path(r\"\\\\funes\\Shared\\Hagar\")\n",
    "mpin_ref = tiff.imread(dir_path / \"final_HCR_standard_atlas_space.tif\")\n",
    "file_name = Path(dir_path) / 'mpin_reference_inbal.nrrd'\n",
    "header = {'kinds': ['domain', 'domain', 'domain'], 'units': ['microns', 'microns', 'microns'], 'spacings': [1., 1., 1.]}\n",
    "nrrd.write(str(file_name), mpin_ref, header, index_order='C')"
   ]
  },
  {
   "cell_type": "code",
   "execution_count": null,
   "id": "breeding-salon",
   "metadata": {},
   "outputs": [],
   "source": [
    "# savning one of our confocal fish \n",
    "dir_path = Path(r\"\\\\funes\\Shared\\experiments\\E0038_confocal\\v004_ipn_reference\\211108_h2b-mcherry_gad1b-gfp\\f1\")\n",
    "anatomy = tiff.imread(dir_path / \"C1-Experiment-864_x20.tif\")\n",
    "file_name = Path(dir_path) / 'confocal_f1.nrrd'\n",
    "header = {'kinds': ['domain', 'domain', 'domain'], 'units': ['microns', 'microns', 'microns'], 'spacings': [1., 0.6, 0.6]}\n",
    "nrrd.write(str(file_name), anatomy, header, index_order='C')"
   ]
  },
  {
   "cell_type": "code",
   "execution_count": null,
   "id": "professional-despite",
   "metadata": {},
   "outputs": [],
   "source": [
    "# savning one of our confocal fish \n",
    "dir_path = Path(r\"\\\\funes\\Shared\\experiments\\E0038_confocal\\v004_ipn_reference\\211108_h2b-mcherry_gad1b-gfp\\f2\")\n",
    "anatomy = tiff.imread(dir_path / \"C1-Experiment-863_x20.tif\")\n",
    "file_name = Path(dir_path) / 'confocal_f2.nrrd'\n",
    "header = {'kinds': ['domain', 'domain', 'domain'], 'units': ['microns', 'microns', 'microns'], 'spacings': [1., 0.6, 0.6]}\n",
    "nrrd.write(str(file_name), anatomy, header, index_order='C')"
   ]
  },
  {
   "cell_type": "code",
   "execution_count": null,
   "id": "anticipated-saskatchewan",
   "metadata": {},
   "outputs": [],
   "source": [
    "# savning one of our confocal fish \n",
    "dir_path = Path(r\"\\\\funes\\Shared\\experiments\\E0038_confocal\\v004_ipn_reference\\211108_h2b-mcherry_gad1b-gfp\\f3\")\n",
    "anatomy = tiff.imread(dir_path / \"C1-Experiment-865.tif\")\n",
    "file_name = Path(dir_path) / 'confocal_f3.nrrd'\n",
    "header = {'kinds': ['domain', 'domain', 'domain'], 'units': ['microns', 'microns', 'microns'], 'spacings': [1., 0.6, 0.6]}\n",
    "nrrd.write(str(file_name), anatomy, header, index_order='C')"
   ]
  },
  {
   "cell_type": "code",
   "execution_count": null,
   "id": "blond-oriental",
   "metadata": {},
   "outputs": [],
   "source": [
    "# savning one of our confocal fish \n",
    "dir_path = Path(r\"\\\\funes\\Shared\\experiments\\E0038_confocal\\v004_ipn_reference\\211108_h2b-mcherry_gad1b-gfp\\f0\")\n",
    "anatomy = tiff.imread(dir_path / \"C1-Experiment-8602.tif\")\n",
    "file_name = Path(dir_path) / 'confocal_f3.nrrd'\n",
    "header = {'kinds': ['domain', 'domain', 'domain'], 'units': ['microns', 'microns', 'microns'], 'spacings': [1., 0.26, 0.26]}\n",
    "nrrd.write(str(file_name), anatomy, header, index_order='C')"
   ]
  },
  {
   "cell_type": "code",
   "execution_count": null,
   "id": "prospective-reviewer",
   "metadata": {},
   "outputs": [],
   "source": [
    "# savning one of our confocal fish \n",
    "dir_path = Path(r\"C:\\Users\\lavian\\Desktop\\registration\\gad1b 2p to gad1b mpin ref\")\n",
    "anatomy = tiff.imread(dir_path / \"avg_brain_2p_dendra.tif\")\n",
    "file_name = Path(dir_path) / 'avg_dendra_2p_res.nrrd'\n",
    "header = {'kinds': ['domain', 'domain', 'domain'], 'units': ['microns', 'microns', 'microns'], 'spacings': [0.5, 0.2, 0.2]}\n",
    "nrrd.write(str(file_name), anatomy, header, index_order='C')\n",
    "    "
   ]
  },
  {
   "cell_type": "code",
   "execution_count": null,
   "id": "listed-review",
   "metadata": {},
   "outputs": [],
   "source": []
  }
 ],
 "metadata": {
  "kernelspec": {
   "display_name": "Python 3 (ipykernel)",
   "language": "python",
   "name": "python3"
  },
  "language_info": {
   "codemirror_mode": {
    "name": "ipython",
    "version": 3
   },
   "file_extension": ".py",
   "mimetype": "text/x-python",
   "name": "python",
   "nbconvert_exporter": "python",
   "pygments_lexer": "ipython3",
   "version": "3.7.10"
  }
 },
 "nbformat": 4,
 "nbformat_minor": 5
}
