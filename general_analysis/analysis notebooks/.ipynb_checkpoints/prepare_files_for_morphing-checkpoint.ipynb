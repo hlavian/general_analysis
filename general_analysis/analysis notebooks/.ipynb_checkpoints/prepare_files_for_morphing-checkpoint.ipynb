{
 "cells": [
  {
   "cell_type": "code",
   "execution_count": 1,
   "id": "worst-circular",
   "metadata": {},
   "outputs": [
    {
     "ename": "ModuleNotFoundError",
     "evalue": "No module named 'nrrd'",
     "output_type": "error",
     "traceback": [
      "\u001b[1;31m---------------------------------------------------------------------------\u001b[0m",
      "\u001b[1;31mModuleNotFoundError\u001b[0m                       Traceback (most recent call last)",
      "\u001b[1;32m~\\AppData\\Local\\Temp/ipykernel_16476/2664867691.py\u001b[0m in \u001b[0;36m<module>\u001b[1;34m\u001b[0m\n\u001b[0;32m      1\u001b[0m \u001b[1;32mimport\u001b[0m \u001b[0mnumpy\u001b[0m \u001b[1;32mas\u001b[0m \u001b[0mnp\u001b[0m\u001b[1;33m\u001b[0m\u001b[1;33m\u001b[0m\u001b[0m\n\u001b[1;32m----> 2\u001b[1;33m \u001b[1;32mimport\u001b[0m \u001b[0mnrrd\u001b[0m\u001b[1;33m\u001b[0m\u001b[1;33m\u001b[0m\u001b[0m\n\u001b[0m\u001b[0;32m      3\u001b[0m \u001b[1;32mimport\u001b[0m \u001b[0mtifffile\u001b[0m \u001b[1;32mas\u001b[0m \u001b[0mtiff\u001b[0m\u001b[1;33m\u001b[0m\u001b[1;33m\u001b[0m\u001b[0m\n\u001b[0;32m      4\u001b[0m \u001b[1;32mfrom\u001b[0m \u001b[0mpathlib\u001b[0m \u001b[1;32mimport\u001b[0m \u001b[0mPath\u001b[0m\u001b[1;33m\u001b[0m\u001b[1;33m\u001b[0m\u001b[0m\n\u001b[0;32m      5\u001b[0m \u001b[1;32mimport\u001b[0m \u001b[0mflammkuchen\u001b[0m \u001b[1;32mas\u001b[0m \u001b[0mfl\u001b[0m\u001b[1;33m\u001b[0m\u001b[1;33m\u001b[0m\u001b[0m\n",
      "\u001b[1;31mModuleNotFoundError\u001b[0m: No module named 'nrrd'"
     ]
    }
   ],
   "source": [
    "import numpy as np\n",
    "import nrrd\n",
    "import tifffile as tiff\n",
    "from pathlib import Path\n",
    "import flammkuchen as fl\n",
    "import os.path\n",
    "import json"
   ]
  },
  {
   "cell_type": "code",
   "execution_count": null,
   "id": "cathedral-jason",
   "metadata": {},
   "outputs": [],
   "source": [
    "master =  Path(r\"\\\\Funes\\Shared\\experiments\\E0020_random_coherences\\v35_two_options_forward_ol\\h2b\")"
   ]
  },
  {
   "cell_type": "code",
   "execution_count": 19,
   "id": "minor-highway",
   "metadata": {},
   "outputs": [
    {
     "data": {
      "text/plain": [
       "[WindowsPath('//funes/Shared/Hagar/hagar/211118_f0c_spont/data_from_suite2p_unfiltered.h5'),\n",
       " WindowsPath('//funes/Shared/Hagar/hagar/211118_f1_spont/data_from_suite2p_unfiltered.h5'),\n",
       " WindowsPath('//funes/Shared/Hagar/hagar/211118_f2_spont/data_from_suite2p_unfiltered.h5'),\n",
       " WindowsPath('//funes/Shared/Hagar/hagar/211118_f3b_spont/data_from_suite2p_unfiltered.h5'),\n",
       " WindowsPath('//funes/Shared/Hagar/hagar/211118_f3_spont/data_from_suite2p_unfiltered.h5'),\n",
       " WindowsPath('//funes/Shared/Hagar/hagar/211118_f4_natmov/data_from_suite2p_unfiltered.h5'),\n",
       " WindowsPath('//funes/Shared/Hagar/hagar/211118_f4_spont/data_from_suite2p_unfiltered.h5'),\n",
       " WindowsPath('//funes/Shared/Hagar/hagar/211119_f0_natmov/data_from_suite2p_unfiltered.h5'),\n",
       " WindowsPath('//funes/Shared/Hagar/hagar/211119_f1_spont/data_from_suite2p_unfiltered.h5'),\n",
       " WindowsPath('//funes/Shared/Hagar/hagar/211119_f3_natmov/data_from_suite2p_unfiltered.h5'),\n",
       " WindowsPath('//funes/Shared/Hagar/hagar/211119_f3_spont/data_from_suite2p_unfiltered.h5')]"
      ]
     },
     "execution_count": 19,
     "metadata": {},
     "output_type": "execute_result"
    }
   ],
   "source": [
    "# find suite2p files: \n",
    "files_path = list(master.glob(\"*_f*/**/anatomy.tif\"))\n",
    "files_path = list(master.glob(\"*_f*/data_from_suite2p_unfiltered.h5\"))\n",
    "files_path"
   ]
  },
  {
   "cell_type": "code",
   "execution_count": null,
   "id": "competitive-powder",
   "metadata": {},
   "outputs": [],
   "source": [
    "# For a single fish\n",
    "suite2p_file = fl.load(files_path[0])\n",
    "anatomy = suite2p_file['anatomy_stack']\n",
    "dir_path = os.path.dirname(str(files_path[0]))\n",
    "file_name = Path(dir_path) / 'anatomy_suite2p.tiff'\n",
    "tiff.imsave(file_name, anatomy)\n",
    "\n",
    "file_name = Path(dir_path) / 'anatomy_suite2p.nrrd'\n",
    "nrrd.write(str(file_name), anatomy, index_order='C')\n"
   ]
  },
  {
   "cell_type": "code",
   "execution_count": null,
   "id": "attended-radiation",
   "metadata": {},
   "outputs": [],
   "source": [
    "file_name = Path(dir_path) / 'anatomy_suite2p.nrrd'\n",
    "file_name\n",
    "with open(next(Path(dir_path).glob(\"*metadata.json\")), \"r\") as f:\n",
    "        metadata = json.load(f)\n",
    "lsconfig = metadata[\"imaging\"][\"microscope_config\"]['lightsheet']['scanning']\n",
    "z_tot_span = lsconfig[\"z\"][\"piezo_max\"] - lsconfig[\"z\"][\"piezo_min\"]\n",
    "n_planes = lsconfig[\"triggering\"][\"n_planes\"]\n",
    "z_res = z_tot_span / n_planes\n",
    "#\n",
    "header = {'kinds': ['domain', 'domain', 'domain'], 'units': ['microns', 'microns', 'microns'], 'spacings': [z_res, 0.6, 0.6]}\n",
    "nrrd.write(str(file_name), anatomy, header, index_order='C')"
   ]
  },
  {
   "cell_type": "code",
   "execution_count": null,
   "id": "finished-dominant",
   "metadata": {},
   "outputs": [],
   "source": []
  },
  {
   "cell_type": "code",
   "execution_count": 22,
   "id": "opposite-struggle",
   "metadata": {},
   "outputs": [
    {
     "name": "stdout",
     "output_type": "stream",
     "text": [
      "\\\\funes\\Shared\\Hagar\\hagar\\211118_f0c_spont\\data_from_suite2p_unfiltered.h5\n",
      "\\\\funes\\Shared\\Hagar\\hagar\\211118_f1_spont\\data_from_suite2p_unfiltered.h5\n",
      "\\\\funes\\Shared\\Hagar\\hagar\\211118_f2_spont\\data_from_suite2p_unfiltered.h5\n",
      "\\\\funes\\Shared\\Hagar\\hagar\\211118_f3b_spont\\data_from_suite2p_unfiltered.h5\n",
      "\\\\funes\\Shared\\Hagar\\hagar\\211118_f3_spont\\data_from_suite2p_unfiltered.h5\n",
      "\\\\funes\\Shared\\Hagar\\hagar\\211118_f4_natmov\\data_from_suite2p_unfiltered.h5\n",
      "\\\\funes\\Shared\\Hagar\\hagar\\211118_f4_spont\\data_from_suite2p_unfiltered.h5\n",
      "\\\\funes\\Shared\\Hagar\\hagar\\211119_f0_natmov\\data_from_suite2p_unfiltered.h5\n",
      "\\\\funes\\Shared\\Hagar\\hagar\\211119_f1_spont\\data_from_suite2p_unfiltered.h5\n",
      "\\\\funes\\Shared\\Hagar\\hagar\\211119_f3_natmov\\data_from_suite2p_unfiltered.h5\n",
      "\\\\funes\\Shared\\Hagar\\hagar\\211119_f3_spont\\data_from_suite2p_unfiltered.h5\n"
     ]
    }
   ],
   "source": [
    "# For all fish in master \n",
    "for f in files_path:\n",
    "    print(f)\n",
    "    \n",
    "    suite2p_file = fl.load(f)\n",
    "    anatomy = suite2p_file['anatomy_stack']\n",
    "    dir_path = os.path.dirname(str(f))\n",
    "    file_name = Path(dir_path) / 'anatomy_suite2p.tiff'\n",
    "    tiff.imsave(file_name, anatomy)\n",
    "    \n",
    "    file_name = Path(dir_path) / 'registration' / 'anatomy_suite2p_res.nrrd'\n",
    "    with open(next(Path(dir_path).glob(\"*metadata.json\")), \"r\") as f:\n",
    "        metadata = json.load(f)\n",
    "    lsconfig = metadata[\"imaging\"][\"microscope_config\"]['lightsheet']['scanning']\n",
    "    z_tot_span = lsconfig[\"z\"][\"piezo_max\"] - lsconfig[\"z\"][\"piezo_min\"]\n",
    "    n_planes = lsconfig[\"triggering\"][\"n_planes\"]\n",
    "    z_res = z_tot_span / n_planes\n",
    "    \n",
    "    #anatomy_fimpy = tiff.imread(Path(dir_path) / \"anatomy.tif\")\n",
    "    file_name = Path(dir_path) / 'anatomy_fimpy_res.nrrd'\n",
    "    header = {'kinds': ['domain', 'domain', 'domain'], 'units': ['microns', 'microns', 'microns'], 'spacings': [0.6, 0.6, z_res]}\n",
    "    nrrd.write(str(file_name), anatomy, header, index_order='C')"
   ]
  },
  {
   "cell_type": "code",
   "execution_count": null,
   "id": "sacred-sight",
   "metadata": {},
   "outputs": [],
   "source": []
  },
  {
   "cell_type": "code",
   "execution_count": null,
   "id": "boolean-revelation",
   "metadata": {},
   "outputs": [],
   "source": []
  },
  {
   "cell_type": "code",
   "execution_count": null,
   "id": "becoming-preview",
   "metadata": {},
   "outputs": [],
   "source": []
  }
 ],
 "metadata": {
  "kernelspec": {
   "display_name": "Python 3 (ipykernel)",
   "language": "python",
   "name": "python3"
  },
  "language_info": {
   "codemirror_mode": {
    "name": "ipython",
    "version": 3
   },
   "file_extension": ".py",
   "mimetype": "text/x-python",
   "name": "python",
   "nbconvert_exporter": "python",
   "pygments_lexer": "ipython3",
   "version": "3.7.10"
  }
 },
 "nbformat": 4,
 "nbformat_minor": 5
}
