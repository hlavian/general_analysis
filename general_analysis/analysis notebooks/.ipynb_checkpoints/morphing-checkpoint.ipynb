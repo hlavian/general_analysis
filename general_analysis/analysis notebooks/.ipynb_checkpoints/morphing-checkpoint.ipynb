{
 "cells": [
  {
   "cell_type": "code",
   "execution_count": null,
   "id": "fabulous-skating",
   "metadata": {},
   "outputs": [],
   "source": [
    "cd C:\\Users\\lavian\\Desktop\\registration"
   ]
  },
  {
   "cell_type": "code",
   "execution_count": 7,
   "id": "theoretical-junior",
   "metadata": {},
   "outputs": [
    {
     "name": "stdout",
     "output_type": "stream",
     "text": [
      "Microsoft Windows [Version 10.0.19042.1348]\n",
      "(c) Microsoft Corporation. All rights reserved.\n",
      "\n",
      "(rplab) C:\\Users\\lavian\\python\\analysis notebooks>cd C:\\Users\\lavian\\Desktop\\registration\n",
      "\n",
      "(rplab) C:\\Users\\lavian\\Desktop\\registration>registration --initxlate --dofs 6,9 --auto-multi-levels 4 -o f1_to_inbalref_affine.xform mpin_reference_inbal.nrrd confocal_f1.nrrd\n",
      "\n",
      "(rplab) C:\\Users\\lavian\\Desktop\\registration>reformatx -o f1_to_inbalref_affine.nrrd --floating confocal_f1.nrrd mpin_reference_inbal.nrrd f1_to_inbalref_affine.xform\n",
      "\n",
      "(rplab) C:\\Users\\lavian\\Desktop\\registration>\n",
      "(rplab) C:\\Users\\lavian\\Desktop\\registration>reformatx -o f1_to_inbalref_warp.nrrd --floating f1_to_inbalref_affine.nrrd mpin_reference_inbal.nrrd f1_to_inbalref_warp.xform\n",
      "\n",
      "(rplab) C:\\Users\\lavian\\Desktop\\registration>"
     ]
    },
    {
     "name": "stderr",
     "output_type": "stream",
     "text": [
      "WARNING: image does not have valid orientation meta information; cannot reorient.\n",
      "WARNING: image does not have valid orientation meta information; cannot reorient.\n",
      "WARNING: image does not have valid orientation meta information; cannot reorient.\n",
      "WARNING: image does not have valid orientation meta information; cannot reorient.\n",
      "WARNING: trying to change image coordinate space, but no current space is defined. Coordinate system of the resulting image is very likely incorrect.\n",
      "WARNING: image does not have valid orientation meta information; cannot reorient.\n",
      "WARNING: no pixel spacings in Nrrd for axis 0; setting to 1.0\n",
      "WARNING: no pixel spacings in Nrrd for axis 1; setting to 1.0\n",
      "WARNING: no pixel spacings in Nrrd for axis 2; setting to 1.0\n",
      "WARNING: image does not have valid orientation meta information; cannot reorient.\n",
      "WARNING: trying to change image coordinate space, but no current space is defined. Coordinate system of the resulting image is very likely incorrect.\n"
     ]
    }
   ],
   "source": [
    "%%cmd\n",
    "cd C:\\Users\\lavian\\Desktop\\registration\n",
    "registration --initxlate --dofs 6,9 --auto-multi-levels 4 -o f1_to_inbalref_affine.xform mpin_reference_inbal.nrrd confocal_f1.nrrd\n",
    "reformatx -o f1_to_inbalref_affine.nrrd --floating confocal_f1.nrrd mpin_reference_inbal.nrrd f1_to_inbalref_affine.xform\n",
    "\n",
    "warp -o f1_to_inbalref_warp.xform --grid-spacing 160 --exploration 60 --energy-weight 1e-0 --refine 6 --initial f1_to_inbalref_affine.xform mpin_reference_inbal.nrrd f1_to_inbalref_affine.nrrd\n",
    "reformatx -o f1_to_inbalref_warp.nrrd --floating f1_to_inbalref_affine.nrrd mpin_reference_inbal.nrrd f1_to_inbalref_warp.xform"
   ]
  },
  {
   "cell_type": "code",
   "execution_count": 5,
   "id": "interim-joint",
   "metadata": {},
   "outputs": [
    {
     "name": "stdout",
     "output_type": "stream",
     "text": [
      "Process is interrupted.\n"
     ]
    }
   ],
   "source": [
    "%%cmd\n",
    "cd C:\\Users\\lavian\\Desktop\\registration\n",
    "registration --initxlate --dofs 6,9 --auto-multi-levels 4 -o f2_to_inbalref_affine.xform mpin_reference_inbal.nrrd confocal_f2.nrrd\n",
    "reformatx -o f2_to_inbalref_affine.nrrd --floating confocal_f2.nrrd mpin_reference_inbal.nrrd f2_to_inbalref_affine.xform\n",
    "\n",
    "warp -o f2_to_inbalref_warp.xform --grid-spacing 160 --exploration 60 --energy-weight 1e-0 --refine 6 --initial f2_to_inbalref_affine.xform mpin_reference_inbal.nrrd f2_to_inbalref_affine.nrrd\n",
    "reformatx -o f2_to_inbalref_warp.nrrd --floating f2_to_inbalref_affine.nrrd mpin_reference_inbal.nrrd f2_to_inbalref_warp.xform"
   ]
  },
  {
   "cell_type": "code",
   "execution_count": 11,
   "id": "incorrect-tower",
   "metadata": {},
   "outputs": [
    {
     "name": "stdout",
     "output_type": "stream",
     "text": [
      "Microsoft Windows [Version 10.0.19042.1348]\n",
      "(c) Microsoft Corporation. All rights reserved.\n",
      "\n",
      "(rplab) C:\\Users\\lavian\\python\\analysis notebooks>cd C:\\Users\\lavian\\Desktop\\registration\n",
      "\n",
      "(rplab) C:\\Users\\lavian\\Desktop\\registration>registration --initxlate --dofs 6,9 --auto-multi-levels 6 -o f3_to_inbalref_affine.xform mpin_reference_inbal.nrrd confocal_f3.nrrd\n",
      "\n",
      "(rplab) C:\\Users\\lavian\\Desktop\\registration>reformatx -o f3_to_inbalref_affine.nrrd --floating confocal_f3.nrrd mpin_reference_inbal.nrrd f3_to_inbalref_affine.xform\n",
      "\n",
      "(rplab) C:\\Users\\lavian\\Desktop\\registration>"
     ]
    },
    {
     "name": "stderr",
     "output_type": "stream",
     "text": [
      "WARNING: image does not have valid orientation meta information; cannot reorient.\n",
      "WARNING: image does not have valid orientation meta information; cannot reorient.\n",
      "WARNING: image does not have valid orientation meta information; cannot reorient.\n",
      "WARNING: image does not have valid orientation meta information; cannot reorient.\n",
      "WARNING: trying to change image coordinate space, but no current space is defined. Coordinate system of the resulting image is very likely incorrect.\n"
     ]
    }
   ],
   "source": [
    "%%cmd\n",
    "cd C:\\Users\\lavian\\Desktop\\registration\n",
    "registration --initxlate --dofs 6,9 --auto-multi-levels 6 -o f3_to_inbalref_affine.xform mpin_reference_inbal.nrrd confocal_f3.nrrd\n",
    "reformatx -o f3_to_inbalref_affine.nrrd --floating confocal_f3.nrrd mpin_reference_inbal.nrrd f3_to_inbalref_affine.xform\n"
   ]
  },
  {
   "cell_type": "code",
   "execution_count": 9,
   "id": "amber-graduation",
   "metadata": {},
   "outputs": [
    {
     "name": "stdout",
     "output_type": "stream",
     "text": [
      "Microsoft Windows [Version 10.0.19042.1348]\n",
      "(c) Microsoft Corporation. All rights reserved.\n",
      "\n",
      "(rplab) C:\\Users\\lavian\\python\\analysis notebooks>cd C:\\Users\\lavian\\Desktop\\registration\n",
      "\n",
      "(rplab) C:\\Users\\lavian\\Desktop\\registration>reformatx -o f1_to_inbalref_warp.nrrd --floating f1_to_inbalref_affine.nrrd mpin_reference_inbal.nrrd f1_to_inbalref_warp.xform\n",
      "\n",
      "(rplab) C:\\Users\\lavian\\Desktop\\registration>reformatx -o f2_to_inbalref_warp.nrrd --floating f2_to_inbalref_affine.nrrd mpin_reference_inbal.nrrd f2_to_inbalref_warp.xform\n",
      "\n",
      "(rplab) C:\\Users\\lavian\\Desktop\\registration>reformatx -o f3_to_inbalref_warp.nrrd --floating f3_to_inbalref_affine.nrrd mpin_reference_inbal.nrrd f3_to_inbalref_warp.xform\n",
      "\n",
      "(rplab) C:\\Users\\lavian\\Desktop\\registration>"
     ]
    },
    {
     "name": "stderr",
     "output_type": "stream",
     "text": [
      "WARNING: image does not have valid orientation meta information; cannot reorient.\n",
      "WARNING: no pixel spacings in Nrrd for axis 0; setting to 1.0\n",
      "WARNING: no pixel spacings in Nrrd for axis 1; setting to 1.0\n",
      "WARNING: no pixel spacings in Nrrd for axis 2; setting to 1.0\n",
      "WARNING: image does not have valid orientation meta information; cannot reorient.\n",
      "WARNING: trying to change image coordinate space, but no current space is defined. Coordinate system of the resulting image is very likely incorrect.\n",
      "WARNING: image does not have valid orientation meta information; cannot reorient.\n",
      "WARNING: no pixel spacings in Nrrd for axis 0; setting to 1.0\n",
      "WARNING: no pixel spacings in Nrrd for axis 1; setting to 1.0\n",
      "WARNING: no pixel spacings in Nrrd for axis 2; setting to 1.0\n",
      "WARNING: image does not have valid orientation meta information; cannot reorient.\n",
      "WARNING: trying to change image coordinate space, but no current space is defined. Coordinate system of the resulting image is very likely incorrect.\n",
      "WARNING: image does not have valid orientation meta information; cannot reorient.\n",
      "WARNING: no pixel spacings in Nrrd for axis 0; setting to 1.0\n",
      "WARNING: no pixel spacings in Nrrd for axis 1; setting to 1.0\n",
      "WARNING: no pixel spacings in Nrrd for axis 2; setting to 1.0\n",
      "WARNING: image does not have valid orientation meta information; cannot reorient.\n",
      "WARNING: trying to change image coordinate space, but no current space is defined. Coordinate system of the resulting image is very likely incorrect.\n"
     ]
    }
   ],
   "source": [
    "%%cmd\n",
    "cd C:\\Users\\lavian\\Desktop\\registration\n",
    "reformatx -o f1_to_inbalref_warp.nrrd --floating f1_to_inbalref_affine.nrrd mpin_reference_inbal.nrrd f1_to_inbalref_warp.xform\n",
    "reformatx -o f2_to_inbalref_warp.nrrd --floating f2_to_inbalref_affine.nrrd mpin_reference_inbal.nrrd f2_to_inbalref_warp.xform\n",
    "reformatx -o f3_to_inbalref_warp.nrrd --floating f3_to_inbalref_affine.nrrd mpin_reference_inbal.nrrd f3_to_inbalref_warp.xform"
   ]
  },
  {
   "cell_type": "code",
   "execution_count": 13,
   "id": "fewer-isolation",
   "metadata": {},
   "outputs": [
    {
     "name": "stdout",
     "output_type": "stream",
     "text": [
      "Microsoft Windows [Version 10.0.19042.1348]\n",
      "(c) Microsoft Corporation. All rights reserved.\n",
      "\n",
      "(rplab) C:\\Users\\lavian\\python\\analysis notebooks>cd C:\\Users\\lavian\\Desktop\\registration\n",
      "\n",
      "(rplab) C:\\Users\\lavian\\Desktop\\registration>registration --initxlate --dofs 6,9 --auto-multi-levels 4 -o f0_to_inbalref_affine.xform mpin_reference_inbal.nrrd confocal_f0.nrrd\n",
      "\n",
      "(rplab) C:\\Users\\lavian\\Desktop\\registration>reformatx -o f0_to_inbalref_affine.nrrd --floating confocal_f0.nrrd mpin_reference_inbal.nrrd f0_to_inbalref_affine.xform\n",
      "\n",
      "(rplab) C:\\Users\\lavian\\Desktop\\registration>"
     ]
    },
    {
     "name": "stderr",
     "output_type": "stream",
     "text": [
      "ERROR: nrrd library returned error '[nrrd] nrrdLoad: trouble reading \"mpin_reference_inbal.nrrd\"\n",
      "[nrrd] nrrdRead: trouble\n",
      "[nrrd] _nrrdRead: trouble reading NRRD file\n",
      "[nrrd] _nrrdFormatNRRD_read: couldn't allocate memory for data\n",
      "[nrrd] _nrrdCalloc: couldn't allocate 208750602 things of size 1\n",
      "'\n",
      "ERROR: could not read image geometry from mpin_reference_inbal.nrrd\n",
      "The file/directory f0_to_inbalref_affine.xform does not exist or cannot be read\n"
     ]
    }
   ],
   "source": [
    "%%cmd\n",
    "cd C:\\Users\\lavian\\Desktop\\registration\n",
    "registration --initxlate --dofs 6,9 --auto-multi-levels 4 -o f0_to_inbalref_affine.xform mpin_reference_inbal.nrrd confocal_f0.nrrd\n",
    "reformatx -o f0_to_inbalref_affine.nrrd --floating confocal_f0.nrrd mpin_reference_inbal.nrrd f0_to_inbalref_affine.xform\n"
   ]
  },
  {
   "cell_type": "code",
   "execution_count": 14,
   "id": "charming-charger",
   "metadata": {},
   "outputs": [
    {
     "name": "stdout",
     "output_type": "stream",
     "text": [
      "Microsoft Windows [Version 10.0.19042.1348]\n",
      "(c) Microsoft Corporation. All rights reserved.\n",
      "\n",
      "(rplab) C:\\Users\\lavian\\python\\analysis notebooks>cd C:\\Users\\lavian\\Desktop\\registration\n",
      "\n",
      "(rplab) C:\\Users\\lavian\\Desktop\\registration>reformatx -o f1_gad1b_to_inbalref_affine.nrrd --floating confocal_gad1b_f1.nrrd mpin_reference_inbal.nrrd f1_to_inbalref_affine.xform\n",
      "\n",
      "(rplab) C:\\Users\\lavian\\Desktop\\registration>reformatx -o f2_gad1b_to_inbalref_affine.nrrd --floating confocal_gad1b_f2.nrrd mpin_reference_inbal.nrrd f2_to_inbalref_affine.xform\n",
      "\n",
      "(rplab) C:\\Users\\lavian\\Desktop\\registration>reformatx -o f3_gad1b_to_inbalref_affine.nrrd --floating confocal_gad1b_f3.nrrd mpin_reference_inbal.nrrd f3_to_inbalref_affine.xform\n",
      "\n",
      "(rplab) C:\\Users\\lavian\\Desktop\\registration>"
     ]
    },
    {
     "name": "stderr",
     "output_type": "stream",
     "text": [
      "ERROR: nrrd library returned error '[nrrd] nrrdLoad: trouble reading \"mpin_reference_inbal.nrrd\"\n",
      "[nrrd] nrrdRead: trouble\n",
      "[nrrd] _nrrdRead: trouble reading NRRD file\n",
      "[nrrd] _nrrdFormatNRRD_read: couldn't allocate memory for data\n",
      "[nrrd] _nrrdCalloc: couldn't allocate 208750602 things of size 1\n",
      "'\n",
      "ERROR: could not read image geometry from mpin_reference_inbal.nrrd\n",
      "ERROR: could not read image from mpin_reference_inbal.nrrd\n",
      "ERROR: nrrd library returned error '[nrrd] nrrdLoad: trouble reading \"mpin_reference_inbal.nrrd\"\n",
      "[nrrd] nrrdRead: trouble\n",
      "[nrrd] _nrrdRead: trouble reading NRRD file\n",
      "[nrrd] _nrrdFormatNRRD_read: couldn't allocate memory for data\n",
      "[nrrd] _nrrdCalloc: couldn't allocate 208750602 things of size 1\n",
      "'\n",
      "ERROR: could not read image geometry from mpin_reference_inbal.nrrd\n",
      "ERROR: could not read image from mpin_reference_inbal.nrrd\n",
      "ERROR: nrrd library returned error '[nrrd] nrrdLoad: trouble reading \"mpin_reference_inbal.nrrd\"\n",
      "[nrrd] nrrdRead: trouble\n",
      "[nrrd] _nrrdRead: trouble reading NRRD file\n",
      "[nrrd] _nrrdFormatNRRD_read: couldn't allocate memory for data\n",
      "[nrrd] _nrrdCalloc: couldn't allocate 208750602 things of size 1\n",
      "'\n",
      "ERROR: could not read image geometry from mpin_reference_inbal.nrrd\n",
      "ERROR: could not read image from mpin_reference_inbal.nrrd\n"
     ]
    }
   ],
   "source": [
    "%%cmd\n",
    "cd C:\\Users\\lavian\\Desktop\\registration\n",
    "reformatx -o f1_gad1b_to_inbalref_affine.nrrd --floating confocal_gad1b_f1.nrrd mpin_reference_inbal.nrrd f1_to_inbalref_affine.xform\n",
    "reformatx -o f2_gad1b_to_inbalref_affine.nrrd --floating confocal_gad1b_f2.nrrd mpin_reference_inbal.nrrd f2_to_inbalref_affine.xform\n",
    "reformatx -o f3_gad1b_to_inbalref_affine.nrrd --floating confocal_gad1b_f3.nrrd mpin_reference_inbal.nrrd f3_to_inbalref_affine.xform"
   ]
  },
  {
   "cell_type": "code",
   "execution_count": null,
   "id": "bright-customer",
   "metadata": {},
   "outputs": [],
   "source": []
  }
 ],
 "metadata": {
  "kernelspec": {
   "display_name": "Python 3",
   "language": "python",
   "name": "python3"
  },
  "language_info": {
   "codemirror_mode": {
    "name": "ipython",
    "version": 3
   },
   "file_extension": ".py",
   "mimetype": "text/x-python",
   "name": "python",
   "nbconvert_exporter": "python",
   "pygments_lexer": "ipython3",
   "version": "3.7.10"
  }
 },
 "nbformat": 4,
 "nbformat_minor": 5
}
