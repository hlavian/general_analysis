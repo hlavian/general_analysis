{
 "cells": [
  {
   "cell_type": "code",
   "execution_count": null,
   "id": "brutal-wheel",
   "metadata": {},
   "outputs": [],
   "source": [
    "%%cmd\n",
    "cd C:\\Users\\lavian\\Desktop\\registration\\h2b_e0020_to_inbal_mpin_ref\n",
    "registration --initxlate --dofs 6,9 --auto-multi-levels 2 -o anatomy_to_inbalref_affine.xform mpin_reference_inbal.nrrd anatomy_suite2p_res_rot.nrrd\n",
    "reformatx -o anatomy_to_inbalref_affine.nrrd --floating anatomy_suite2p_res_rot.nrrd mpin_reference_inbal.nrrd anatomy_to_inbalref_affine.xform"
   ]
  },
  {
   "cell_type": "code",
   "execution_count": null,
   "id": "closing-cycling",
   "metadata": {},
   "outputs": [],
   "source": [
    "%%cmd\n",
    "cd C:\\Users\\lavian\\Desktop\\registration\\h2b_e0020_to_inbal_mpin_ref\n",
    "warp -o anatomy_to_inbalref_warp.xform --grid-spacing 160 --exploration 60 --energy-weight 1e-0 --refine 6 --initial anatomy_to_inbalref_affine.xform mpin_reference_inbal.nrrd anatomy_to_inbalref_affine.nrrd\n",
    "reformatx -o anatomy_to_inbalref_warp.nrrd --floating anatomy_to_inbalref_affine.nrrd mpin_reference_inbal.nrrd anatomy_to_inbalref_warp.xform"
   ]
  },
  {
   "cell_type": "code",
   "execution_count": null,
   "id": "363e0733-edde-427e-86b1-8a627f0b9ce0",
   "metadata": {},
   "outputs": [],
   "source": []
  }
 ],
 "metadata": {
  "kernelspec": {
   "display_name": "Python 3 (ipykernel)",
   "language": "python",
   "name": "python3"
  },
  "language_info": {
   "codemirror_mode": {
    "name": "ipython",
    "version": 3
   },
   "file_extension": ".py",
   "mimetype": "text/x-python",
   "name": "python",
   "nbconvert_exporter": "python",
   "pygments_lexer": "ipython3",
   "version": "3.7.10"
  }
 },
 "nbformat": 4,
 "nbformat_minor": 5
}
