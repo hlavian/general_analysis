{
 "cells": [
  {
   "cell_type": "code",
   "execution_count": null,
   "id": "requested-puppy",
   "metadata": {},
   "outputs": [],
   "source": [
    "%matplotlib widget"
   ]
  },
  {
   "cell_type": "code",
   "execution_count": null,
   "id": "muslim-mixer",
   "metadata": {},
   "outputs": [],
   "source": [
    "from pathlib import Path\n",
    "import numpy as np\n",
    "import flammkuchen as fl\n",
    "import pandas as pd\n",
    "import tifffile as tiff\n",
    "\n",
    "from fimpylab import LightsheetExperiment\n",
    "\n",
    "import matplotlib.pyplot as plt\n",
    "import seaborn as sns\n",
    "from tqdm import tqdm\n",
    "sns.set(style=\"ticks\", palette=\"deep\")\n",
    "cols = sns.color_palette()\n",
    "import ipywidgets as widgets\n",
    "\n",
    "from lotr.utils import zscore\n",
    "from lotr.pca import pca_and_phase, get_fictive_heading, fictive_heading_and_fit, \\\n",
    "        fit_phase_neurons,qap_sorting_and_phase\n",
    "from circle_fit import hyper_fit\n",
    "from lotr.experiment_class import LotrExperiment\n",
    "import json\n",
    "\n",
    "from lotr.plotting.color_utils import get_n_colors\n",
    "\n",
    "import statsmodels.api as sm\n",
    "\n",
    "from ipywidgets import interact, fixed\n",
    "import ipywidgets as widgets\n",
    "\n",
    "from general_analysis.helper_functions_imaging.general_imaging import normalize_traces"
   ]
  },
  {
   "cell_type": "code",
   "execution_count": null,
   "id": "correct-inflation",
   "metadata": {},
   "outputs": [],
   "source": [
    "master = Path(r\"\\\\funes\\Shared\\experiments\\E0040_motions_cardinal\\v26\\huc\")\n",
    "files = list(master.glob(\"*_f*\"))\n",
    "path = files[0]\n",
    "path"
   ]
  },
  {
   "cell_type": "code",
   "execution_count": null,
   "id": "earlier-kazakhstan",
   "metadata": {},
   "outputs": [],
   "source": [
    "suite2p_data = fl.load(path / \"data_from_suite2p_cells.h5\")\n",
    "coords = suite2p_data[\"coords\"]\n",
    "anat = suite2p_data[\"anatomy_stack\"]\n",
    "\n",
    "try:\n",
    "    traces = fl.load(path / \"filtered_traces.h5\", \"/detr\")\n",
    "except:\n",
    "    traces = suite2p_data['traces']\n",
    "    traces = normalize_traces(traces)\n",
    "\n",
    "#df = fl.load(path / \"bouts_df.h5\")\n",
    "exp = LotrExperiment(path)\n",
    "fn = int(exp.fn)\n",
    "beh_df = exp.behavior_log\n",
    "\n",
    "t_start_s = 150\n",
    "t_lims = (150, np.shape(traces)[1]-1)\n",
    "t_slice = slice(*t_lims)\n",
    "t_slice\n",
    "\n",
    "anat_crop = np.copy(anat)"
   ]
  },
  {
   "cell_type": "code",
   "execution_count": null,
   "id": "reverse-lease",
   "metadata": {},
   "outputs": [],
   "source": [
    "fig, ax = plt.subplots(1, 3, figsize=(9, 6))\n",
    "ax[0].imshow(anat.mean(0), vmax=250, vmin=160)\n",
    "ax[1].imshow(anat[6], vmax=250, vmin=160) # 6-16\n",
    "s1 = 300\n",
    "s2 = 600\n",
    "ax[0].axvline(s1)\n",
    "ax[0].axvline(s2)\n",
    "\n",
    "s3 = 180\n",
    "s4 = 480\n",
    "ax[0].axhline(s3)\n",
    "ax[0].axhline(s4)\n",
    "\n",
    "anat_crop = anat[6:, s3:s4, s1:s2]\n",
    "ax[2].imshow(anat_crop.mean(0), vmax=250, vmin=160)\n",
    "\n",
    "\n",
    "ax[0].scatter(coords[6:,2], coords[6:,1], s=1)\n",
    "s5 = 6\n",
    "s6 = 16\n",
    "\n",
    "\n",
    "new_ind = np.where((coords[:,0] >= s5) & (coords[:,0] <= s6) & (coords[:,2] > s1) & (coords[:,2] < s2) & (coords[:,1] > s3) & (coords[:,1] < s4))\n",
    "coords_cropped = coords[new_ind]\n",
    "ax[1].scatter(coords_cropped[6:,2], coords_cropped[6:,1], s=1)"
   ]
  },
  {
   "cell_type": "code",
   "execution_count": null,
   "id": "worthy-scratch",
   "metadata": {},
   "outputs": [],
   "source": [
    "np.shape(indx)"
   ]
  },
  {
   "cell_type": "code",
   "execution_count": null,
   "id": "academic-florence",
   "metadata": {},
   "outputs": [],
   "source": [
    "suite2p_data['suite2p_idxs']"
   ]
  },
  {
   "cell_type": "code",
   "execution_count": null,
   "id": "hungry-essence",
   "metadata": {},
   "outputs": [],
   "source": []
  }
 ],
 "metadata": {
  "kernelspec": {
   "display_name": "Python 3",
   "language": "python",
   "name": "python3"
  },
  "language_info": {
   "codemirror_mode": {
    "name": "ipython",
    "version": 3
   },
   "file_extension": ".py",
   "mimetype": "text/x-python",
   "name": "python",
   "nbconvert_exporter": "python",
   "pygments_lexer": "ipython3",
   "version": "3.7.10"
  }
 },
 "nbformat": 4,
 "nbformat_minor": 5
}
