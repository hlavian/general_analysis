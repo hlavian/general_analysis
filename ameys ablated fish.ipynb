{
 "cells": [
  {
   "cell_type": "code",
   "execution_count": 1,
   "id": "ba290fa7-525d-4366-8508-cd8a8b49b5a3",
   "metadata": {},
   "outputs": [],
   "source": [
    "%matplotlib widget"
   ]
  },
  {
   "cell_type": "code",
   "execution_count": 2,
   "id": "c1c02762-9e7e-4a2f-9d86-6e2e8bf7ddb9",
   "metadata": {},
   "outputs": [],
   "source": [
    "from glob import glob\n",
    "import numpy as np\n",
    "import pandas as pd\n",
    "import flammkuchen as fl\n",
    "from scipy.interpolate import interp1d \n",
    "import json\n",
    "import matplotlib.pyplot as plt\n",
    "\n",
    "from scipy.interpolate import interp1d \n",
    "from scipy.signal import convolve2d\n",
    "from fimpylab.core.lightsheet_experiment import LightsheetExperiment\n",
    "\n",
    "from pathlib import Path"
   ]
  },
  {
   "cell_type": "code",
   "execution_count": 3,
   "id": "0c420cb3-3b9d-4b3f-820e-9b4820c0dfbb",
   "metadata": {},
   "outputs": [
    {
     "name": "stdout",
     "output_type": "stream",
     "text": [
      "Z:\\Hagar\\E0040\\2p ablations\\e0040v10\\230321_f10\n"
     ]
    }
   ],
   "source": [
    "master = Path(r\"Z:\\Hagar\\E0040\\2p ablations\\e0040v10\")\n",
    "fish_list = list(master.glob(\"*f*\"))\n",
    "path = fish_list[1]\n",
    "print(path)"
   ]
  },
  {
   "cell_type": "code",
   "execution_count": 126,
   "id": "8364aa5a-214b-411e-8a78-5c35f6a104bb",
   "metadata": {},
   "outputs": [],
   "source": [
    "traces = fl.load(path / \"filtered_traces.h5\", \"/undetr\")\n",
    "coords = fl.load(path / \"data_from_suite2p_unfiltered.h5\", \"/coords\")\n",
    "#suite2p_brain = fl.load(path / \"data_from_suite2p_cells_brain.h5\")\n",
    "#in_brain_idx = suite2p_brain['coords_idx']"
   ]
  },
  {
   "cell_type": "code",
   "execution_count": 127,
   "id": "7abd4436-9edc-4315-be02-1a900ed8a59a",
   "metadata": {},
   "outputs": [],
   "source": [
    "exp = LightsheetExperiment(path)\n",
    "fs = exp.fn\n",
    "stim_log = exp.stimulus_log"
   ]
  },
  {
   "cell_type": "code",
   "execution_count": 128,
   "id": "cf1ff6ca-3ecd-4386-b165-a3d4ce6e83d5",
   "metadata": {},
   "outputs": [],
   "source": [
    "coherence = np.asarray(stim_log.random_dots_coherence)\n",
    "frozen = np.asarray(stim_log.random_dots_frozen)\n",
    "stim_t = np.asarray(stim_log.t)"
   ]
  },
  {
   "cell_type": "code",
   "execution_count": 129,
   "id": "113cc638-0577-45c0-911c-4f2c01858fad",
   "metadata": {},
   "outputs": [
    {
     "data": {
      "application/vnd.jupyter.widget-view+json": {
       "model_id": "7132832cbdbf4566a9164119f2ec9d61",
       "version_major": 2,
       "version_minor": 0
      },
      "text/plain": [
       "Canvas(toolbar=Toolbar(toolitems=[('Home', 'Reset original view', 'home', 'home'), ('Back', 'Back to previous …"
      ]
     },
     "metadata": {},
     "output_type": "display_data"
    },
    {
     "data": {
      "text/plain": [
       "[<matplotlib.lines.Line2D at 0x2333f6d1508>]"
      ]
     },
     "execution_count": 129,
     "metadata": {},
     "output_type": "execute_result"
    }
   ],
   "source": [
    "fig, ax = plt.subplots(1,1)\n",
    "ax.plot(stim_t, coherence)\n",
    "#ax.plot(stim_t, frozen)"
   ]
  },
  {
   "cell_type": "code",
   "execution_count": 130,
   "id": "2ae0779a-fda6-48bb-b2a1-f996d4fc87b9",
   "metadata": {},
   "outputs": [
    {
     "data": {
      "application/vnd.jupyter.widget-view+json": {
       "model_id": "08ef713fc1b049ebb2228870aaa84a1e",
       "version_major": 2,
       "version_minor": 0
      },
      "text/plain": [
       "Canvas(toolbar=Toolbar(toolitems=[('Home', 'Reset original view', 'home', 'home'), ('Back', 'Back to previous …"
      ]
     },
     "metadata": {},
     "output_type": "display_data"
    }
   ],
   "source": [
    "fig2, ax2 = plt.subplots(1,1)\n",
    "coherence_values = [-1, -0.3, 0.3, 1]\n",
    "regressors = np.zeros((4, np.shape(stim_t)[0]))\n",
    "for i in range(4):\n",
    "    curr_coh = coherence_values[i]\n",
    "    ind = np.where(coherence == curr_coh)[0]\n",
    "    regressors[i, ind] = 1\n",
    "    ax2.plot(regressors[i])"
   ]
  },
  {
   "cell_type": "code",
   "execution_count": 131,
   "id": "997d21c4-50ac-49fc-90ec-44f2a6fbd41c",
   "metadata": {},
   "outputs": [],
   "source": [
    "sampling = 1 / fs\n",
    "upsampling = 5\n",
    "\n",
    "dt_upsampled = sampling / upsampling\n",
    "t_imaging_up = np.arange(0, stim_log.t.values[-1], dt_upsampled)\n",
    "reg_up = interp1d(stim_log.t.values, regressors, axis=1, fill_value=\"extrapolate\")(\n",
    "    t_imaging_up\n",
    ")\n",
    "\n",
    "# 6s kernel\n",
    "u_steps = t_imaging_up.shape[0]\n",
    "u_time = np.arange(u_steps) * dt_upsampled\n",
    "decay = np.exp(-u_time / (1.5 / np.log(2)))\n",
    "kernel = decay / np.sum(decay)\n",
    "\n",
    "convolved = convolve2d(reg_up, kernel[None, :])[:, 0:u_steps]\n",
    "reg_sensory = convolved[:, ::upsampling]"
   ]
  },
  {
   "cell_type": "code",
   "execution_count": 132,
   "id": "cd2a1097-d24e-40d7-97a8-8f1795d4b908",
   "metadata": {},
   "outputs": [
    {
     "data": {
      "application/vnd.jupyter.widget-view+json": {
       "model_id": "43d5cef1e96d433bb2492c1ab61c2029",
       "version_major": 2,
       "version_minor": 0
      },
      "text/plain": [
       "Canvas(toolbar=Toolbar(toolitems=[('Home', 'Reset original view', 'home', 'home'), ('Back', 'Back to previous …"
      ]
     },
     "metadata": {},
     "output_type": "display_data"
    }
   ],
   "source": [
    "fig3, ax3 = plt.subplots(1,1)\n",
    "for i in range(4):\n",
    "    ax3.plot(reg_sensory[i])"
   ]
  },
  {
   "cell_type": "code",
   "execution_count": 133,
   "id": "e7ddb8f7-b4b1-4af4-9439-9d93079f8c7d",
   "metadata": {},
   "outputs": [],
   "source": [
    "traces_ib = traces#[:, in_brain_idx]\n",
    "coords_ib = coords#[in_brain_idx]"
   ]
  },
  {
   "cell_type": "code",
   "execution_count": 134,
   "id": "f0e50d27-1c4e-41cf-855d-df322538a75d",
   "metadata": {},
   "outputs": [],
   "source": [
    "regi = reg_sensory @ traces_ib[:, :]"
   ]
  },
  {
   "cell_type": "code",
   "execution_count": 135,
   "id": "8b31ccf9-3f9f-4353-85a2-6645c4e3aae2",
   "metadata": {},
   "outputs": [],
   "source": [
    "with open(next(Path(path).glob(\"*metadata.json\")), \"r\") as f:\n",
    "        metadata = json.load(f)\n",
    "lsconfig = metadata[\"imaging\"][\"microscope_config\"]['lightsheet']['scanning']\n",
    "z_tot_span = lsconfig[\"z\"][\"piezo_max\"] - lsconfig[\"z\"][\"piezo_min\"]\n",
    "n_planes = lsconfig[\"triggering\"][\"n_planes\"]\n",
    "z_res = z_tot_span / n_planes"
   ]
  },
  {
   "cell_type": "code",
   "execution_count": 136,
   "id": "4f70aabe-909e-422c-b00b-bf9818aa07a8",
   "metadata": {},
   "outputs": [
    {
     "name": "stdout",
     "output_type": "stream",
     "text": [
      "38491\n"
     ]
    }
   ],
   "source": [
    "num_traces = np.shape(traces_ib)[1]\n",
    "print(num_traces)\n",
    "reg_corr = np.zeros((num_traces))\n",
    "for i in range(num_traces):\n",
    "    reg_corr[i] = np.corrcoef(reg_sensory[0,:], traces_ib[:,i])[0,1]"
   ]
  },
  {
   "cell_type": "code",
   "execution_count": 137,
   "id": "12ff8b07-0d56-4aa7-abeb-a83249c14eb6",
   "metadata": {},
   "outputs": [],
   "source": [
    "colors = reg_corr"
   ]
  },
  {
   "cell_type": "code",
   "execution_count": 138,
   "id": "a234115f-389b-4f3e-9119-ed9531a8ea75",
   "metadata": {},
   "outputs": [
    {
     "data": {
      "application/vnd.jupyter.widget-view+json": {
       "model_id": "d0d0f278e7da4ce693c0c10a576e26e9",
       "version_major": 2,
       "version_minor": 0
      },
      "text/plain": [
       "Canvas(toolbar=Toolbar(toolitems=[('Home', 'Reset original view', 'home', 'home'), ('Back', 'Back to previous …"
      ]
     },
     "metadata": {},
     "output_type": "display_data"
    }
   ],
   "source": [
    "fig, axs = plt.subplots(2, 4, figsize=(12, 6), gridspec_kw={'width_ratios': [5, 2, 5, 2], 'height_ratios': [1, 3]})\n",
    "mp_ind = np.argsort(np.abs(colors))\n",
    "axs[1,0].scatter(coords_ib[mp_ind,2]*0.6, coords_ib[mp_ind,1]*.6, c=colors[mp_ind], s=2, alpha=0.8, cmap='coolwarm', vmin=-1, vmax=1)\n",
    "axs[1,1].scatter(coords_ib[mp_ind,0]*z_res, coords_ib[mp_ind,1]*0.6, c=colors[mp_ind], alpha=0.8, cmap='coolwarm', vmin=-1, vmax=1)\n",
    "axs[0,0].scatter(coords_ib[mp_ind,2]*0.6, coords_ib[mp_ind,0]*z_res, c=colors[mp_ind], alpha=0.8, cmap='coolwarm', vmin=-1, vmax=1)\n",
    "\n",
    "axs[0,0].spines['right'].set_visible(False)\n",
    "axs[0,0].spines['top'].set_visible(False)\n",
    "\n",
    "axs[1,1].spines['right'].set_visible(False)\n",
    "axs[1,1].spines['top'].set_visible(False)\n",
    "\n",
    "axs[1,0].spines['right'].set_visible(False)\n",
    "axs[1,0].spines['top'].set_visible(False)\n",
    "\n",
    "axs[0,1].axis('off')\n",
    "axs[0,3].axis('off')\n",
    "\n",
    "axs[1,2].scatter(coords_ib[:,2]*0.6, coords_ib[:,1]*.6, c=colors[:], s=2, alpha=0.8, cmap='coolwarm', vmin=-1, vmax=1)\n",
    "axs[1,3].scatter(coords_ib[:,0]*z_res, coords_ib[:,1]*0.6, c=colors[:], alpha=0.8, cmap='coolwarm', vmin=-1, vmax=1)\n",
    "axs[0,2].scatter(coords_ib[:,2]*0.6, coords_ib[:,0]*z_res, c=colors[:], alpha=0.8, cmap='coolwarm', vmin=-1, vmax=1)\n",
    "\n",
    "axs[0,2].spines['right'].set_visible(False)\n",
    "axs[0,2].spines['top'].set_visible(False)\n",
    "\n",
    "axs[1,3].spines['right'].set_visible(False)\n",
    "axs[1,3].spines['top'].set_visible(False)\n",
    "\n",
    "axs[1,2].spines['right'].set_visible(False)\n",
    "axs[1,2].spines['top'].set_visible(False)"
   ]
  },
  {
   "cell_type": "code",
   "execution_count": 139,
   "id": "1cb98de3-edf6-43c8-a106-64f86785c566",
   "metadata": {},
   "outputs": [],
   "source": [
    "fig.savefig(path / \"negative_coherence 1.jpg\", dpi=300)"
   ]
  },
  {
   "cell_type": "code",
   "execution_count": null,
   "id": "f616c3bf-a659-4bc9-8225-e5b429f211dd",
   "metadata": {},
   "outputs": [],
   "source": []
  }
 ],
 "metadata": {
  "kernelspec": {
   "display_name": "Python 3",
   "language": "python",
   "name": "python3"
  },
  "language_info": {
   "codemirror_mode": {
    "name": "ipython",
    "version": 3
   },
   "file_extension": ".py",
   "mimetype": "text/x-python",
   "name": "python",
   "nbconvert_exporter": "python",
   "pygments_lexer": "ipython3",
   "version": "3.7.10"
  }
 },
 "nbformat": 4,
 "nbformat_minor": 5
}
