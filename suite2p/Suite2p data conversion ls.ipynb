{
 "cells": [
  {
   "cell_type": "code",
   "execution_count": null,
   "metadata": {},
   "outputs": [],
   "source": [
    "from matplotlib import pyplot as plt\n",
    "import numpy as np\n",
    "import tables\n",
    "import flammkuchen as fl\n",
    "from pathlib import Path\n",
    "from tqdm import tqdm\n",
    "from scipy.ndimage import morphology\n",
    "from fimpylab.utils.suite2p_conv import export_suite2p\n",
    "import tifffile as tiff"
   ]
  },
  {
   "cell_type": "code",
   "execution_count": null,
   "metadata": {},
   "outputs": [],
   "source": [
    "master =  Path(r\"Z:\\Hagar\\older fish\\h2b\")"
   ]
  },
  {
   "cell_type": "code",
   "execution_count": null,
   "metadata": {},
   "outputs": [],
   "source": [
    "paths_list = list(master.glob(\"*f*/suite2p/combined\"))\n",
    "unexported = [f for f in paths_list if not (f.parent.parent / \"data_from_suite2p_unfiltered.h5\").exists()]\n",
    "print(len(paths_list))\n",
    "unexported\n"
   ]
  },
  {
   "cell_type": "code",
   "execution_count": null,
   "metadata": {},
   "outputs": [],
   "source": [
    "for path in tqdm(unexported):\n",
    "    print(path.parent.parent)\n",
    "    #export_suite2p(path, path.parent.parent / \"data_from_suite2p_cells.h5\", include_all_rois=False)\n",
    "    ## or\n",
    "    export_suite2p(path, path.parent.parent / \"data_from_suite2p_unfiltered.h5\", include_all_rois=True)"
   ]
  },
  {
   "cell_type": "code",
   "execution_count": null,
   "metadata": {},
   "outputs": [],
   "source": [
    "# try loading\n",
    "fish_dir = unexported[0]\n",
    "print(fish_dir)\n",
    "suite2p_data = fl.load(fish_dir.parent.parent / \"data_from_suite2p_cells.h5\")"
   ]
  },
  {
   "cell_type": "code",
   "execution_count": null,
   "metadata": {},
   "outputs": [],
   "source": []
  },
  {
   "cell_type": "code",
   "execution_count": null,
   "metadata": {},
   "outputs": [],
   "source": [
    "np.shape(suite2p_data['traces'])"
   ]
  },
  {
   "cell_type": "code",
   "execution_count": null,
   "metadata": {},
   "outputs": [],
   "source": [
    "suite2p_data.keys()"
   ]
  },
  {
   "cell_type": "code",
   "execution_count": null,
   "metadata": {},
   "outputs": [],
   "source": [
    "# saving an anatomy tiff file\n",
    "for f in unexported:\n",
    "    print(f)\n",
    "    fish_dir = f.parent.parent\n",
    "    suite2p_data = fl.load(fish_dir / \"data_from_suite2p_cells.h5\")\n",
    "    anatomy = suite2p_data['anatomy_stack']\n",
    "    tiff.imsave(f / \"anatomy_suite2p.tif\", anatomy)\n"
   ]
  }
 ],
 "metadata": {
  "kernelspec": {
   "display_name": "Python 3",
   "language": "python",
   "name": "python3"
  },
  "language_info": {
   "codemirror_mode": {
    "name": "ipython",
    "version": 3
   },
   "file_extension": ".py",
   "mimetype": "text/x-python",
   "name": "python",
   "nbconvert_exporter": "python",
   "pygments_lexer": "ipython3",
   "version": "3.7.10"
  }
 },
 "nbformat": 4,
 "nbformat_minor": 4
}
