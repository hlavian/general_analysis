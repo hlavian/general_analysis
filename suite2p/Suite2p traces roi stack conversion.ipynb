{
 "cells": [
  {
   "cell_type": "code",
   "execution_count": 1,
   "metadata": {},
   "outputs": [],
   "source": [
    "from matplotlib import pyplot as plt\n",
    "import numpy as np\n",
    "import tables\n",
    "import flammkuchen as fl\n",
    "from pathlib import Path\n",
    "from tqdm import tqdm\n",
    "from scipy.ndimage import morphology\n",
    "from fimpylab.utils.suite2p_conv import export_suite2p\n",
    "import tifffile as tiff"
   ]
  },
  {
   "cell_type": "code",
   "execution_count": 2,
   "metadata": {},
   "outputs": [],
   "source": [
    "master = Path(r\"\\\\Funes\\Shared\\experiments\\E0040_motions_cardinal\\v13_cw_ccw\\ls_fixed\")\n",
    "master = Path(r\"\\\\Funes\\Shared\\experiments\\E0040_motions_cardinal\\v13_cw_ccw\\ls_fixed\\spont_plus_v13\\h2b\\new\")\n",
    "master = Path(r\"\\\\Funes\\Shared\\experiments\\E0020_random_coherences\\v35_two_options_forward_ol\\ls\\new\")\n",
    "master =  Path(r\"\\\\funes\\Shared\\experiments\\E0040_motions_cardinal\\v21\\2p\\huc\")"
   ]
  },
  {
   "cell_type": "code",
   "execution_count": 4,
   "metadata": {},
   "outputs": [
    {
     "name": "stdout",
     "output_type": "stream",
     "text": [
      "9\n"
     ]
    }
   ],
   "source": [
    "#paths_list = list(master.glob(\"*_f*/suite2p/combined\"))\n",
    "paths_list = list(master.glob(\"*_f*/suite2p/*00*\"))\n",
    "#print(paths_list)\n",
    "unexported = [f for f in paths_list if not (f / \"data_from_suite2p_cells.h5\").exists()]\n",
    "#unexported = paths_list\n",
    "print(len(unexported))\n",
    "#for f in unexported:\n",
    "#    print(f)"
   ]
  },
  {
   "cell_type": "code",
   "execution_count": 5,
   "metadata": {},
   "outputs": [
    {
     "data": {
      "text/plain": [
       "[WindowsPath('//funes/Shared/experiments/E0040_motions_cardinal/v21/2p/huc/221017_f0/suite2p/0000'),\n",
       " WindowsPath('//funes/Shared/experiments/E0040_motions_cardinal/v21/2p/huc/221017_f0/suite2p/0001'),\n",
       " WindowsPath('//funes/Shared/experiments/E0040_motions_cardinal/v21/2p/huc/221017_f0/suite2p/0002'),\n",
       " WindowsPath('//funes/Shared/experiments/E0040_motions_cardinal/v21/2p/huc/221017_f0/suite2p/0003'),\n",
       " WindowsPath('//funes/Shared/experiments/E0040_motions_cardinal/v21/2p/huc/221017_f1/suite2p/0000'),\n",
       " WindowsPath('//funes/Shared/experiments/E0040_motions_cardinal/v21/2p/huc/221017_f1/suite2p/0001'),\n",
       " WindowsPath('//funes/Shared/experiments/E0040_motions_cardinal/v21/2p/huc/221017_f1/suite2p/0002'),\n",
       " WindowsPath('//funes/Shared/experiments/E0040_motions_cardinal/v21/2p/huc/221017_f2/suite2p/0000'),\n",
       " WindowsPath('//funes/Shared/experiments/E0040_motions_cardinal/v21/2p/huc/221017_f2/suite2p/0001')]"
      ]
     },
     "execution_count": 5,
     "metadata": {},
     "output_type": "execute_result"
    }
   ],
   "source": [
    "unexported"
   ]
  },
  {
   "cell_type": "code",
   "execution_count": 7,
   "metadata": {},
   "outputs": [
    {
     "name": "stderr",
     "output_type": "stream",
     "text": [
      "  0%|                                                                                            | 0/9 [00:00<?, ?it/s]"
     ]
    },
    {
     "name": "stdout",
     "output_type": "stream",
     "text": [
      "\\\\funes\\Shared\\experiments\\E0040_motions_cardinal\\v21\\2p\\huc\\221017_f0\\suite2p\\0000\\plane0\n"
     ]
    },
    {
     "name": "stderr",
     "output_type": "stream",
     "text": [
      " 11%|█████████▎                                                                          | 1/9 [00:22<03:03, 22.89s/it]"
     ]
    },
    {
     "name": "stdout",
     "output_type": "stream",
     "text": [
      "\\\\funes\\Shared\\experiments\\E0040_motions_cardinal\\v21\\2p\\huc\\221017_f0\\suite2p\\0001\\plane0\n"
     ]
    },
    {
     "name": "stderr",
     "output_type": "stream",
     "text": [
      " 22%|██████████████████▋                                                                 | 2/9 [00:39<02:14, 19.25s/it]"
     ]
    },
    {
     "name": "stdout",
     "output_type": "stream",
     "text": [
      "\\\\funes\\Shared\\experiments\\E0040_motions_cardinal\\v21\\2p\\huc\\221017_f0\\suite2p\\0002\\plane0\n"
     ]
    },
    {
     "name": "stderr",
     "output_type": "stream",
     "text": [
      " 33%|████████████████████████████                                                        | 3/9 [00:51<01:35, 15.89s/it]"
     ]
    },
    {
     "name": "stdout",
     "output_type": "stream",
     "text": [
      "\\\\funes\\Shared\\experiments\\E0040_motions_cardinal\\v21\\2p\\huc\\221017_f0\\suite2p\\0003\\plane0\n"
     ]
    },
    {
     "name": "stderr",
     "output_type": "stream",
     "text": [
      " 44%|█████████████████████████████████████▎                                              | 4/9 [01:04<01:13, 14.69s/it]"
     ]
    },
    {
     "name": "stdout",
     "output_type": "stream",
     "text": [
      "\\\\funes\\Shared\\experiments\\E0040_motions_cardinal\\v21\\2p\\huc\\221017_f1\\suite2p\\0000\\plane0\n"
     ]
    },
    {
     "name": "stderr",
     "output_type": "stream",
     "text": [
      " 56%|██████████████████████████████████████████████▋                                     | 5/9 [01:14<00:52, 13.10s/it]"
     ]
    },
    {
     "name": "stdout",
     "output_type": "stream",
     "text": [
      "\\\\funes\\Shared\\experiments\\E0040_motions_cardinal\\v21\\2p\\huc\\221017_f1\\suite2p\\0001\\plane0\n"
     ]
    },
    {
     "name": "stderr",
     "output_type": "stream",
     "text": [
      " 67%|████████████████████████████████████████████████████████                            | 6/9 [01:24<00:36, 12.14s/it]"
     ]
    },
    {
     "name": "stdout",
     "output_type": "stream",
     "text": [
      "\\\\funes\\Shared\\experiments\\E0040_motions_cardinal\\v21\\2p\\huc\\221017_f1\\suite2p\\0002\\plane0\n"
     ]
    },
    {
     "name": "stderr",
     "output_type": "stream",
     "text": [
      " 78%|█████████████████████████████████████████████████████████████████▎                  | 7/9 [01:32<00:21, 10.81s/it]"
     ]
    },
    {
     "name": "stdout",
     "output_type": "stream",
     "text": [
      "\\\\funes\\Shared\\experiments\\E0040_motions_cardinal\\v21\\2p\\huc\\221017_f2\\suite2p\\0000\\plane0\n"
     ]
    },
    {
     "name": "stderr",
     "output_type": "stream",
     "text": [
      " 89%|██████████████████████████████████████████████████████████████████████████▋         | 8/9 [01:43<00:10, 10.78s/it]"
     ]
    },
    {
     "name": "stdout",
     "output_type": "stream",
     "text": [
      "\\\\funes\\Shared\\experiments\\E0040_motions_cardinal\\v21\\2p\\huc\\221017_f2\\suite2p\\0001\\plane0\n"
     ]
    },
    {
     "name": "stderr",
     "output_type": "stream",
     "text": [
      "100%|████████████████████████████████████████████████████████████████████████████████████| 9/9 [01:54<00:00, 12.71s/it]\n"
     ]
    }
   ],
   "source": [
    "for path in tqdm(unexported):\n",
    "    path = path / 'plane0'\n",
    "    print(path)\n",
    "    export_suite2p(path, path.parent / \"data_from_suite2p_cells.h5\", include_all_rois=False)\n",
    "    export_suite2p(path, path.parent / \"data_from_suite2p_unfiltered.h5\", include_all_rois=True)"
   ]
  },
  {
   "cell_type": "code",
   "execution_count": null,
   "metadata": {},
   "outputs": [],
   "source": [
    "# try loading\n",
    "fish_dir = paths_list[0]\n",
    "suite2p_data = fl.load(fish_dir.parent.parent / \"data_from_suite2p_unfiltered.h5\")"
   ]
  },
  {
   "cell_type": "code",
   "execution_count": null,
   "metadata": {},
   "outputs": [],
   "source": [
    "suite2p_data"
   ]
  },
  {
   "cell_type": "code",
   "execution_count": null,
   "metadata": {},
   "outputs": [],
   "source": [
    "suite2p_data.keys()"
   ]
  },
  {
   "cell_type": "code",
   "execution_count": null,
   "metadata": {},
   "outputs": [],
   "source": [
    "for f in unexported:\n",
    "    print(f)\n",
    "    fish_dir = f.parent.parent\n",
    "    suite2p_data = fl.load(fish_dir / \"data_from_suite2p_cells.h5\")\n",
    "    anatomy = suite2p_data['anatomy_stack']\n",
    "    tiff.imsave(f / \"anatomy_suite2p.tif\", anatomy)\n"
   ]
  },
  {
   "cell_type": "code",
   "execution_count": null,
   "metadata": {},
   "outputs": [],
   "source": [
    "import json"
   ]
  },
  {
   "cell_type": "code",
   "execution_count": null,
   "metadata": {},
   "outputs": [],
   "source": [
    "#Saving anatomy stacks for 2p data\n",
    "files = list(master.glob(\"*_f*\"))\n",
    "for f in files:\n",
    "    print(f)\n",
    "    dataset_path = f / 'original'\n",
    "    with open(dataset_path / \"stack_metadata.json\") as ff:\n",
    "            stack_metadata = json.load(ff)\n",
    "    n_planes, n_x, n_y = stack_metadata[\"shape_full\"][1:]    \n",
    "    \n",
    "    anatomy_stack = np.zeros((n_planes, n_x, n_y))\n",
    "    for plane in range(n_planes):\n",
    "        try:\n",
    "            plane_name = '000' + str(plane)\n",
    "            path = f / 'suite2p' / plane_name\n",
    "\n",
    "            # loading suite2p data:\n",
    "            suite2p_data = fl.load(path / 'data_from_suite2p_cells.h5')\n",
    "        except:\n",
    "            plane_name = '00' + str(plane)\n",
    "            path = f / 'suite2p' / plane_name\n",
    "            suite2p_data = fl.load(path / \"data_from_suite2p_cells.h5\")\n",
    "            \n",
    "        anatomy = suite2p_data['anatomy_stack'][0]\n",
    "        anatomy_stack[plane] = anatomy\n",
    "    print(np.shape(anatomy_stack))\n",
    "    #tiff.imsave(f / \"anatomy_suite2p.tif\", anatomy_stack)\n"
   ]
  },
  {
   "cell_type": "markdown",
   "metadata": {},
   "source": [
    "# traces = suite2p_data[\"traces\"]\n",
    "coords = suite2p_data[\"coords\"]\n",
    "rois_stack = suite2p_data[\"rois_stack\"]12"
   ]
  },
  {
   "cell_type": "code",
   "execution_count": null,
   "metadata": {},
   "outputs": [],
   "source": [
    "suite2p_data.keys()"
   ]
  },
  {
   "cell_type": "code",
   "execution_count": null,
   "metadata": {},
   "outputs": [],
   "source": [
    "paths_list_exported = list(master.glob(\"*_f*/suite2p/*00*\"))"
   ]
  },
  {
   "cell_type": "code",
   "execution_count": null,
   "metadata": {},
   "outputs": [],
   "source": []
  }
 ],
 "metadata": {
  "kernelspec": {
   "display_name": "Python 3",
   "language": "python",
   "name": "python3"
  },
  "language_info": {
   "codemirror_mode": {
    "name": "ipython",
    "version": 3
   },
   "file_extension": ".py",
   "mimetype": "text/x-python",
   "name": "python",
   "nbconvert_exporter": "python",
   "pygments_lexer": "ipython3",
   "version": "3.7.10"
  }
 },
 "nbformat": 4,
 "nbformat_minor": 4
}
