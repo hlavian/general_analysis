{
 "cells": [
  {
   "cell_type": "code",
   "execution_count": null,
   "id": "c8bad4e1-6632-4aa7-975b-794e4ae65086",
   "metadata": {},
   "outputs": [],
   "source": [
    "import numpy as np\n",
    "import flammkuchen as fl\n",
    "import napari\n",
    "from pathlib import Path\n",
    "\n",
    "from split_dataset import SplitDataset\n",
    "import json\n",
    "\n",
    "import flammkuchen as fl \n",
    "import tifffile as tiff"
   ]
  },
  {
   "cell_type": "code",
   "execution_count": null,
   "id": "b72e03c0-110a-471f-8ef2-88474373f4fe",
   "metadata": {},
   "outputs": [],
   "source": [
    "#master_path =  Path(r\"Z:\\Hagar\\E0040\\ablations\\pre\\v13\")\n",
    "master_path = Path(r\"Z:\\Hagar\\E0040\\v31\\post ablation 2d\")\n",
    "fish_list = list(master_path.glob(\"*f*\"))\n",
    "\n",
    "\n",
    "unexported = [f for f in fish_list if not (f / \"data_from_suite2p_cells_left_habenula.h5\").exists()]\n",
    "\n",
    "path = unexported[0]\n",
    "print(path)\n",
    "print(len(unexported))\n",
    "\n"
   ]
  },
  {
   "cell_type": "code",
   "execution_count": null,
   "id": "5ac16aa3-292e-474f-9469-453d8a8d20aa",
   "metadata": {},
   "outputs": [],
   "source": [
    "suite2p_data = fl.load(path / \"data_from_suite2p_cells.h5\")\n",
    "traces = suite2p_data['traces']\n",
    "roi_stack = suite2p_data['rois_stack']\n",
    "all_coords = suite2p_data['coords']"
   ]
  },
  {
   "cell_type": "code",
   "execution_count": null,
   "id": "5f875723-c451-4873-8a4f-4a0374d67966",
   "metadata": {},
   "outputs": [],
   "source": [
    "anatomy = suite2p_data['anatomy_stack']\n",
    "#tiff.imsave(path / \"anatomy_suite2p.tif\", anatomy)"
   ]
  },
  {
   "cell_type": "code",
   "execution_count": null,
   "id": "d828bda4-9607-40bd-b10d-801c5e97ff55",
   "metadata": {},
   "outputs": [],
   "source": [
    "viewer = napari.view_image(anatomy,  colormap=\"gray\")\n",
    "#viewer.add_image(roi_stack, colormap=\"red\", blending=\"additive\")\n",
    "brain_area = np.zeros(np.shape(anatomy))\n",
    "labels_layer = viewer.add_labels(brain_area, name='brain_area')"
   ]
  },
  {
   "cell_type": "code",
   "execution_count": null,
   "id": "73918e67-74ea-4dfb-90a8-65fd971c96f6",
   "metadata": {},
   "outputs": [],
   "source": [
    "#### Run the next cells only after marking the regions you want to keep in napari"
   ]
  },
  {
   "cell_type": "code",
   "execution_count": null,
   "id": "ed74584f-12a4-4a5a-b841-bf5ec790c94d",
   "metadata": {},
   "outputs": [],
   "source": [
    "labels = viewer.layers[\"brain_area\"].data"
   ]
  },
  {
   "cell_type": "code",
   "execution_count": null,
   "id": "4cb2a5ae-7993-4a12-a854-d3e6ca762a1e",
   "metadata": {},
   "outputs": [],
   "source": [
    "coords_to_remove = []\n",
    "coords_to_keep = []\n",
    "num_cells = np.shape(all_coords)[0]\n",
    "for i in range(num_cells):\n",
    "    tmp_cell = labels[int(all_coords[i, 0]), int(all_coords[i, 1]), int(all_coords[i, 2])]\n",
    "    if tmp_cell < 1:\n",
    "        coords_to_remove = coords_to_remove + [i]\n",
    "    else:\n",
    "        coords_to_keep = coords_to_keep + [i]"
   ]
  },
  {
   "cell_type": "code",
   "execution_count": null,
   "id": "42d450e1-031d-4f4c-972b-83e2816c97ee",
   "metadata": {},
   "outputs": [],
   "source": [
    "print(len(coords_to_remove))\n",
    "print(len(coords_to_keep))"
   ]
  },
  {
   "cell_type": "code",
   "execution_count": null,
   "id": "bc1d1bd4-d6ec-4a00-9c0a-72a09fd2bebc",
   "metadata": {},
   "outputs": [],
   "source": [
    "traces_ib = traces[np.asarray(coords_to_keep)]\n",
    "coords_ib = all_coords[np.asarray(coords_to_keep)]"
   ]
  },
  {
   "cell_type": "code",
   "execution_count": null,
   "id": "b7abea15-b6d9-4fc5-8a9c-f6670504ea0c",
   "metadata": {},
   "outputs": [],
   "source": [
    "d = {\n",
    "    'traces': traces_ib,\n",
    "    'coords': coords_ib,\n",
    "    #'rois_stack': rois_stack_ib,\n",
    "    'coords_idx': coords_to_keep,\n",
    "    'coords_removed': coords_to_remove,\n",
    "}\n",
    "fl.save(path / 'data_from_suite2p_cells_aHB.h5', d)\n"
   ]
  },
  {
   "cell_type": "code",
   "execution_count": null,
   "id": "8ca5c52e-24ce-4752-8fad-a1aa6a6b0ccb",
   "metadata": {},
   "outputs": [],
   "source": [
    "anatomy = 0"
   ]
  },
  {
   "cell_type": "code",
   "execution_count": null,
   "id": "7d07e434-196c-4ac8-8141-3b8b191dc1a8",
   "metadata": {},
   "outputs": [],
   "source": []
  },
  {
   "cell_type": "code",
   "execution_count": null,
   "id": "8390737a-e5ca-4c6e-8666-245cb0840776",
   "metadata": {},
   "outputs": [],
   "source": []
  }
 ],
 "metadata": {
  "kernelspec": {
   "display_name": "Python 3",
   "language": "python",
   "name": "python3"
  },
  "language_info": {
   "codemirror_mode": {
    "name": "ipython",
    "version": 3
   },
   "file_extension": ".py",
   "mimetype": "text/x-python",
   "name": "python",
   "nbconvert_exporter": "python",
   "pygments_lexer": "ipython3",
   "version": "3.7.10"
  }
 },
 "nbformat": 4,
 "nbformat_minor": 5
}
