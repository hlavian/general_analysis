{
 "cells": [
  {
   "cell_type": "code",
   "execution_count": null,
   "metadata": {},
   "outputs": [],
   "source": [
    "from matplotlib import pyplot as plt\n",
    "import numpy as np\n",
    "import tables\n",
    "import flammkuchen as fl\n",
    "from pathlib import Path\n",
    "from tqdm import tqdm\n",
    "from scipy.ndimage import morphology\n",
    "from fimpylab.utils.suite2p_conv import export_suite2p\n",
    "import tifffile as tiff"
   ]
  },
  {
   "cell_type": "code",
   "execution_count": null,
   "metadata": {},
   "outputs": [],
   "source": [
    "master = Path(r\"\\\\Funes\\Shared\\experiments\\E0040_motions_cardinal\\v13_cw_ccw\\ls_fixed\")\n",
    "master = Path(r\"\\\\Funes\\Shared\\experiments\\E0040_motions_cardinal\\v13_cw_ccw\\ls_fixed\\spont_plus_v13\\h2b\\new\")\n",
    "master = Path(r\"\\\\Funes\\Shared\\experiments\\E0020_random_coherences\\v35_two_options_forward_ol\\ls\\new\")\n",
    "master =  Path(r\"\\\\funes\\Shared\\Hagar\\tumelsc\\group1\")"
   ]
  },
  {
   "cell_type": "code",
   "execution_count": null,
   "metadata": {},
   "outputs": [],
   "source": [
    "paths_list = list(master.glob(\"*_f*/suite2p/combined\"))\n",
    "#paths_list = list(master.glob(\"*_f*/suite2p/*00*\"))\n",
    "#print(paths_list)\n",
    "unexported = [f for f in paths_list if not (f / \"data_from_suite2p_cells.h5\").exists()]\n",
    "#unexported = paths_list\n",
    "print(len(unexported))\n",
    "#for f in unexported:\n",
    "#    print(f)"
   ]
  },
  {
   "cell_type": "code",
   "execution_count": null,
   "metadata": {},
   "outputs": [],
   "source": [
    "unexported"
   ]
  },
  {
   "cell_type": "code",
   "execution_count": null,
   "metadata": {},
   "outputs": [],
   "source": [
    "for path in tqdm(unexported):\n",
    "    #path = path / 'plane0'\n",
    "    print(path)\n",
    "    export_suite2p(path, path.parent / \"data_from_suite2p_cells.h5\", include_all_rois=False)"
   ]
  },
  {
   "cell_type": "code",
   "execution_count": null,
   "metadata": {},
   "outputs": [],
   "source": [
    "# try loading\n",
    "fish_dir = paths_list[0]\n",
    "suite2p_data = fl.load(fish_dir.parent.parent / \"data_from_suite2p_unfiltered.h5\")"
   ]
  },
  {
   "cell_type": "code",
   "execution_count": null,
   "metadata": {},
   "outputs": [],
   "source": [
    "suite2p_data"
   ]
  },
  {
   "cell_type": "code",
   "execution_count": null,
   "metadata": {},
   "outputs": [],
   "source": [
    "suite2p_data.keys()"
   ]
  },
  {
   "cell_type": "code",
   "execution_count": null,
   "metadata": {},
   "outputs": [],
   "source": [
    "for f in unexported:\n",
    "    print(f)\n",
    "    fish_dir = f.parent.parent\n",
    "    suite2p_data = fl.load(fish_dir / \"data_from_suite2p_cells.h5\")\n",
    "    anatomy = suite2p_data['anatomy_stack']\n",
    "    tiff.imsave(f / \"anatomy_suite2p.tif\", anatomy)\n"
   ]
  },
  {
   "cell_type": "code",
   "execution_count": null,
   "metadata": {},
   "outputs": [],
   "source": [
    "import json"
   ]
  },
  {
   "cell_type": "code",
   "execution_count": null,
   "metadata": {},
   "outputs": [],
   "source": [
    "#Saving anatomy stacks for 2p data\n",
    "files = list(master.glob(\"*_f*\"))\n",
    "for f in files:\n",
    "    print(f)\n",
    "    dataset_path = f / 'original'\n",
    "    with open(dataset_path / \"stack_metadata.json\") as ff:\n",
    "            stack_metadata = json.load(ff)\n",
    "    n_planes, n_x, n_y = stack_metadata[\"shape_full\"][1:]    \n",
    "    \n",
    "    anatomy_stack = np.zeros((n_planes, n_x, n_y))\n",
    "    for plane in range(n_planes):\n",
    "        try:\n",
    "            plane_name = '000' + str(plane)\n",
    "            path = f / 'suite2p' / plane_name\n",
    "\n",
    "            # loading suite2p data:\n",
    "            suite2p_data = fl.load(path / 'data_from_suite2p_cells.h5')\n",
    "        except:\n",
    "            plane_name = '00' + str(plane)\n",
    "            path = f / 'suite2p' / plane_name\n",
    "            suite2p_data = fl.load(path / \"data_from_suite2p_cells.h5\")\n",
    "            \n",
    "        anatomy = suite2p_data['anatomy_stack'][0]\n",
    "        anatomy_stack[plane] = anatomy\n",
    "    print(np.shape(anatomy_stack))\n",
    "    #tiff.imsave(f / \"anatomy_suite2p.tif\", anatomy_stack)\n"
   ]
  },
  {
   "cell_type": "markdown",
   "metadata": {},
   "source": [
    "# traces = suite2p_data[\"traces\"]\n",
    "coords = suite2p_data[\"coords\"]\n",
    "rois_stack = suite2p_data[\"rois_stack\"]12"
   ]
  },
  {
   "cell_type": "code",
   "execution_count": null,
   "metadata": {},
   "outputs": [],
   "source": [
    "suite2p_data.keys()"
   ]
  },
  {
   "cell_type": "code",
   "execution_count": null,
   "metadata": {},
   "outputs": [],
   "source": [
    "paths_list_exported = list(master.glob(\"*_f*/suite2p/*00*\"))"
   ]
  },
  {
   "cell_type": "code",
   "execution_count": null,
   "metadata": {},
   "outputs": [],
   "source": []
  }
 ],
 "metadata": {
  "kernelspec": {
   "display_name": "Python 3",
   "language": "python",
   "name": "python3"
  },
  "language_info": {
   "codemirror_mode": {
    "name": "ipython",
    "version": 3
   },
   "file_extension": ".py",
   "mimetype": "text/x-python",
   "name": "python",
   "nbconvert_exporter": "python",
   "pygments_lexer": "ipython3",
   "version": "3.7.10"
  }
 },
 "nbformat": 4,
 "nbformat_minor": 4
}
