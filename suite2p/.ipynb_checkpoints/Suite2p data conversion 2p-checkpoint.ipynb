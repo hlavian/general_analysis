{
 "cells": [
  {
   "cell_type": "code",
   "execution_count": null,
   "metadata": {},
   "outputs": [],
   "source": [
    "from matplotlib import pyplot as plt\n",
    "import numpy as np\n",
    "import tables\n",
    "import flammkuchen as fl\n",
    "from pathlib import Path\n",
    "from tqdm import tqdm\n",
    "from scipy.ndimage import morphology\n",
    "from fimpylab.utils.suite2p_conv import export_suite2p\n",
    "import tifffile as tiff\n",
    "import json"
   ]
  },
  {
   "cell_type": "code",
   "execution_count": null,
   "metadata": {},
   "outputs": [],
   "source": [
    "master =  Path(r\"\\\\funes\\Shared\\Lisa\\heading direction project\\pilot - finding the ring in the 2p (single planes)\\fish_files\")"
   ]
  },
  {
   "cell_type": "code",
   "execution_count": null,
   "metadata": {},
   "outputs": [],
   "source": [
    "paths_list = list(master.glob(\"*_f*/suite2p/*00*\"))\n",
    "unexported = [f for f in paths_list if not (f.parent.parent / \"data_from_suite2p_cells.h5\").exists()]\n",
    "print(len(unexported))"
   ]
  },
  {
   "cell_type": "code",
   "execution_count": null,
   "metadata": {},
   "outputs": [],
   "source": [
    "for path in tqdm(unexported[:1]):\n",
    "    path = path / 'plane0'\n",
    "    print(path)\n",
    "    export_suite2p(path, path.parent / \"data_from_suite2p_cells.h5\", include_all_rois=False)\n",
    "    export_suite2p(path, path.parent / \"data_from_suite2p_unfiltered.h5\", include_all_rois=True)"
   ]
  },
  {
   "cell_type": "code",
   "execution_count": null,
   "metadata": {},
   "outputs": [],
   "source": [
    "# try loading\n",
    "fish_dir = unexported[0] \n",
    "suite2p_data = fl.load(fish_dir / \"data_from_suite2p_unfiltered.h5\")"
   ]
  },
  {
   "cell_type": "code",
   "execution_count": null,
   "metadata": {},
   "outputs": [],
   "source": [
    "suite2p_data.keys()"
   ]
  },
  {
   "cell_type": "code",
   "execution_count": null,
   "metadata": {},
   "outputs": [],
   "source": [
    "#Saving anatomy stacks for 2p data\n",
    "files = list(master.glob(\"*_f*\"))\n",
    "for f in files:\n",
    "    print(f)\n",
    "    dataset_path = f / 'original'\n",
    "    with open(dataset_path / \"stack_metadata.json\") as ff:\n",
    "            stack_metadata = json.load(ff)\n",
    "    n_planes, n_x, n_y = stack_metadata[\"shape_full\"][1:]    \n",
    "    \n",
    "    anatomy_stack = np.zeros((n_planes, n_x, n_y))\n",
    "    for plane in range(n_planes):\n",
    "        try:\n",
    "            plane_name = '000' + str(plane)\n",
    "            path = f / 'suite2p' / plane_name\n",
    "\n",
    "            # loading suite2p data:\n",
    "            suite2p_data = fl.load(path / 'data_from_suite2p_cells.h5')\n",
    "        except:\n",
    "            plane_name = '00' + str(plane)\n",
    "            path = f / 'suite2p' / plane_name\n",
    "            suite2p_data = fl.load(path / \"data_from_suite2p_cells.h5\")\n",
    "            \n",
    "        anatomy = suite2p_data['anatomy_stack'][0]\n",
    "        anatomy_stack[plane] = anatomy\n",
    "    print(np.shape(anatomy_stack))\n",
    "    tiff.imsave(f / \"anatomy_suite2p.tif\", anatomy_stack)\n"
   ]
  }
 ],
 "metadata": {
  "kernelspec": {
   "display_name": "Python 3",
   "language": "python",
   "name": "python3"
  },
  "language_info": {
   "codemirror_mode": {
    "name": "ipython",
    "version": 3
   },
   "file_extension": ".py",
   "mimetype": "text/x-python",
   "name": "python",
   "nbconvert_exporter": "python",
   "pygments_lexer": "ipython3",
   "version": "3.7.10"
  }
 },
 "nbformat": 4,
 "nbformat_minor": 4
}
