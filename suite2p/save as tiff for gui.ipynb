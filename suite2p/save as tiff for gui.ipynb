{
 "cells": [
  {
   "cell_type": "code",
   "execution_count": null,
   "id": "745421f1-4f24-4098-b6ad-3e9455fb0a54",
   "metadata": {},
   "outputs": [],
   "source": [
    "import flammkuchen as fl\n",
    "import tifffile as tiff\n",
    "from pathlib import Path\n",
    "from split_dataset import SplitDataset\n",
    "import numpy as np"
   ]
  },
  {
   "cell_type": "code",
   "execution_count": null,
   "id": "15b06ac4-ab19-4e92-a3dc-0cc8e329a03b",
   "metadata": {},
   "outputs": [],
   "source": [
    "path =  Path(r\"\\\\funes2\\legacy\\experiments\\E0075\\e0075_v02\\hab\\220910_f2_hab\\original\")\n",
    "path =  Path(r\"Z:\\Hagar\\E0040\\2p ablations\\gad1b + habenula\\230608_f2_notablated_v13\\original\")\n"
   ]
  },
  {
   "cell_type": "code",
   "execution_count": null,
   "id": "34938b9e-bb87-44a0-9945-3aa205937867",
   "metadata": {},
   "outputs": [],
   "source": [
    "h5file = SplitDataset(path)[:,0,:,:]"
   ]
  },
  {
   "cell_type": "code",
   "execution_count": null,
   "id": "c294c3a8-1445-4a48-ba9e-7db4d5de71c0",
   "metadata": {},
   "outputs": [],
   "source": [
    "tiff_file = tiff.imsave(path / \"z0.tiff\", h5file)"
   ]
  },
  {
   "cell_type": "code",
   "execution_count": null,
   "id": "c08edac6-6520-40a5-8415-cba36f695628",
   "metadata": {},
   "outputs": [],
   "source": []
  },
  {
   "cell_type": "code",
   "execution_count": null,
   "id": "0645fb70-7441-4aaf-88c7-c5f47416fcdf",
   "metadata": {},
   "outputs": [],
   "source": [
    "ops_path = Path(r\"Z:\\Hagar\\suite2p params\")"
   ]
  },
  {
   "cell_type": "code",
   "execution_count": null,
   "id": "2be705e2-89ee-45b7-a9e9-fdebfebfc3be",
   "metadata": {},
   "outputs": [],
   "source": [
    "#print saved ops\n",
    "file1 = np.load(str(ops_path / \"cytosolic g6s 2p.npy\"), allow_pickle=True)\n",
    "file2 = np.load(str(ops_path / \"h2b g6s ls.npy\"), allow_pickle=True)"
   ]
  },
  {
   "cell_type": "code",
   "execution_count": null,
   "id": "b1d4728f-1cef-472c-aac3-0a8d1a195ef5",
   "metadata": {},
   "outputs": [],
   "source": [
    "file1"
   ]
  },
  {
   "cell_type": "code",
   "execution_count": null,
   "id": "cc2678cf-9b3a-4305-80a3-8ead7b6a6f9a",
   "metadata": {},
   "outputs": [],
   "source": [
    "file2"
   ]
  },
  {
   "cell_type": "code",
   "execution_count": null,
   "id": "c55fead7-fe20-4ad3-bec5-6e1cc1cd665b",
   "metadata": {},
   "outputs": [],
   "source": []
  }
 ],
 "metadata": {
  "kernelspec": {
   "display_name": "Python 3",
   "language": "python",
   "name": "python3"
  },
  "language_info": {
   "codemirror_mode": {
    "name": "ipython",
    "version": 3
   },
   "file_extension": ".py",
   "mimetype": "text/x-python",
   "name": "python",
   "nbconvert_exporter": "python",
   "pygments_lexer": "ipython3",
   "version": "3.7.10"
  }
 },
 "nbformat": 4,
 "nbformat_minor": 5
}
