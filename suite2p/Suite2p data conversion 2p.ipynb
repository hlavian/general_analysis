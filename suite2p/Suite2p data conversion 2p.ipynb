{
 "cells": [
  {
   "cell_type": "code",
   "execution_count": 1,
   "metadata": {},
   "outputs": [],
   "source": [
    "from matplotlib import pyplot as plt\n",
    "import numpy as np\n",
    "import tables\n",
    "import flammkuchen as fl\n",
    "from pathlib import Path\n",
    "from tqdm import tqdm\n",
    "from scipy.ndimage import morphology\n",
    "from fimpylab.utils.suite2p_conv import export_suite2p\n",
    "import tifffile as tiff\n",
    "import json"
   ]
  },
  {
   "cell_type": "code",
   "execution_count": 2,
   "metadata": {},
   "outputs": [],
   "source": [
    "master =  Path(r\"\\\\FUNES\\Shared\\experiments\\E0075\\e0075_v05\")"
   ]
  },
  {
   "cell_type": "code",
   "execution_count": 3,
   "metadata": {},
   "outputs": [
    {
     "name": "stdout",
     "output_type": "stream",
     "text": [
      "20\n"
     ]
    }
   ],
   "source": [
    "paths_list = list(master.glob(\"*_f*/suite2p/*00*\"))\n",
    "unexported = [f for f in paths_list if not (f.parent.parent / \"data_from_suite2p_cells.h5\").exists()]\n",
    "print(len(unexported))"
   ]
  },
  {
   "cell_type": "code",
   "execution_count": 5,
   "metadata": {},
   "outputs": [
    {
     "name": "stderr",
     "output_type": "stream",
     "text": [
      "  0%|                                                                                           | 0/20 [00:00<?, ?it/s]"
     ]
    },
    {
     "name": "stdout",
     "output_type": "stream",
     "text": [
      "\\\\FUNES\\Shared\\experiments\\E0075\\e0075_v05\\220628_f0\\suite2p\\0000\\plane0\n"
     ]
    },
    {
     "name": "stderr",
     "output_type": "stream",
     "text": [
      "  5%|████▏                                                                              | 1/20 [00:00<00:10,  1.74it/s]"
     ]
    },
    {
     "name": "stdout",
     "output_type": "stream",
     "text": [
      "\\\\FUNES\\Shared\\experiments\\E0075\\e0075_v05\\220628_f0\\suite2p\\0001\\plane0\n"
     ]
    },
    {
     "name": "stderr",
     "output_type": "stream",
     "text": [
      " 10%|████████▎                                                                          | 2/20 [00:01<00:12,  1.49it/s]"
     ]
    },
    {
     "name": "stdout",
     "output_type": "stream",
     "text": [
      "\\\\FUNES\\Shared\\experiments\\E0075\\e0075_v05\\220628_f0\\suite2p\\0002\\plane0\n"
     ]
    },
    {
     "name": "stderr",
     "output_type": "stream",
     "text": [
      " 15%|████████████▍                                                                      | 3/20 [00:02<00:12,  1.42it/s]"
     ]
    },
    {
     "name": "stdout",
     "output_type": "stream",
     "text": [
      "\\\\FUNES\\Shared\\experiments\\E0075\\e0075_v05\\220628_f0\\suite2p\\0003\\plane0\n"
     ]
    },
    {
     "name": "stderr",
     "output_type": "stream",
     "text": [
      " 20%|████████████████▌                                                                  | 4/20 [00:02<00:11,  1.41it/s]"
     ]
    },
    {
     "name": "stdout",
     "output_type": "stream",
     "text": [
      "\\\\FUNES\\Shared\\experiments\\E0075\\e0075_v05\\220628_f0\\suite2p\\0004\\plane0\n"
     ]
    },
    {
     "name": "stderr",
     "output_type": "stream",
     "text": [
      " 25%|████████████████████▊                                                              | 5/20 [00:03<00:10,  1.38it/s]"
     ]
    },
    {
     "name": "stdout",
     "output_type": "stream",
     "text": [
      "\\\\FUNES\\Shared\\experiments\\E0075\\e0075_v05\\220628_f1\\suite2p\\0000\\plane0\n"
     ]
    },
    {
     "name": "stderr",
     "output_type": "stream",
     "text": [
      " 30%|████████████████████████▉                                                          | 6/20 [00:04<00:09,  1.40it/s]"
     ]
    },
    {
     "name": "stdout",
     "output_type": "stream",
     "text": [
      "\\\\FUNES\\Shared\\experiments\\E0075\\e0075_v05\\220628_f1\\suite2p\\0001\\plane0\n"
     ]
    },
    {
     "name": "stderr",
     "output_type": "stream",
     "text": [
      " 35%|█████████████████████████████                                                      | 7/20 [00:04<00:09,  1.41it/s]"
     ]
    },
    {
     "name": "stdout",
     "output_type": "stream",
     "text": [
      "\\\\FUNES\\Shared\\experiments\\E0075\\e0075_v05\\220628_f1\\suite2p\\0002\\plane0\n"
     ]
    },
    {
     "name": "stderr",
     "output_type": "stream",
     "text": [
      " 40%|█████████████████████████████████▏                                                 | 8/20 [00:05<00:08,  1.44it/s]"
     ]
    },
    {
     "name": "stdout",
     "output_type": "stream",
     "text": [
      "\\\\FUNES\\Shared\\experiments\\E0075\\e0075_v05\\220628_f1\\suite2p\\0003\\plane0\n"
     ]
    },
    {
     "name": "stderr",
     "output_type": "stream",
     "text": [
      " 45%|█████████████████████████████████████▎                                             | 9/20 [00:06<00:07,  1.45it/s]"
     ]
    },
    {
     "name": "stdout",
     "output_type": "stream",
     "text": [
      "\\\\FUNES\\Shared\\experiments\\E0075\\e0075_v05\\220628_f1\\suite2p\\0004\\plane0\n"
     ]
    },
    {
     "name": "stderr",
     "output_type": "stream",
     "text": [
      " 50%|█████████████████████████████████████████                                         | 10/20 [00:06<00:06,  1.47it/s]"
     ]
    },
    {
     "name": "stdout",
     "output_type": "stream",
     "text": [
      "\\\\FUNES\\Shared\\experiments\\E0075\\e0075_v05\\220628_f1\\suite2p\\0005\\plane0\n"
     ]
    },
    {
     "name": "stderr",
     "output_type": "stream",
     "text": [
      " 55%|█████████████████████████████████████████████                                     | 11/20 [00:07<00:06,  1.49it/s]"
     ]
    },
    {
     "name": "stdout",
     "output_type": "stream",
     "text": [
      "\\\\FUNES\\Shared\\experiments\\E0075\\e0075_v05\\220628_f1\\suite2p\\0006\\plane0\n"
     ]
    },
    {
     "name": "stderr",
     "output_type": "stream",
     "text": [
      " 60%|█████████████████████████████████████████████████▏                                | 12/20 [00:08<00:05,  1.49it/s]"
     ]
    },
    {
     "name": "stdout",
     "output_type": "stream",
     "text": [
      "\\\\FUNES\\Shared\\experiments\\E0075\\e0075_v05\\220628_f1\\suite2p\\0007\\plane0\n"
     ]
    },
    {
     "name": "stderr",
     "output_type": "stream",
     "text": [
      " 65%|█████████████████████████████████████████████████████▎                            | 13/20 [00:08<00:04,  1.49it/s]"
     ]
    },
    {
     "name": "stdout",
     "output_type": "stream",
     "text": [
      "\\\\FUNES\\Shared\\experiments\\E0075\\e0075_v05\\220629_f1\\suite2p\\0000\\plane0\n"
     ]
    },
    {
     "name": "stderr",
     "output_type": "stream",
     "text": [
      " 70%|█████████████████████████████████████████████████████████▍                        | 14/20 [00:09<00:04,  1.34it/s]"
     ]
    },
    {
     "name": "stdout",
     "output_type": "stream",
     "text": [
      "\\\\FUNES\\Shared\\experiments\\E0075\\e0075_v05\\220629_f1\\suite2p\\0001\\plane0\n"
     ]
    },
    {
     "name": "stderr",
     "output_type": "stream",
     "text": [
      " 75%|█████████████████████████████████████████████████████████████▌                    | 15/20 [00:10<00:04,  1.22it/s]"
     ]
    },
    {
     "name": "stdout",
     "output_type": "stream",
     "text": [
      "\\\\FUNES\\Shared\\experiments\\E0075\\e0075_v05\\220629_f1\\suite2p\\0002\\plane0\n"
     ]
    },
    {
     "name": "stderr",
     "output_type": "stream",
     "text": [
      " 80%|█████████████████████████████████████████████████████████████████▌                | 16/20 [00:11<00:03,  1.19it/s]"
     ]
    },
    {
     "name": "stdout",
     "output_type": "stream",
     "text": [
      "\\\\FUNES\\Shared\\experiments\\E0075\\e0075_v05\\220629_f1\\suite2p\\0003\\plane0\n"
     ]
    },
    {
     "name": "stderr",
     "output_type": "stream",
     "text": [
      " 85%|█████████████████████████████████████████████████████████████████████▋            | 17/20 [00:12<00:02,  1.15it/s]"
     ]
    },
    {
     "name": "stdout",
     "output_type": "stream",
     "text": [
      "\\\\FUNES\\Shared\\experiments\\E0075\\e0075_v05\\220629_f1\\suite2p\\0004\\plane0\n"
     ]
    },
    {
     "name": "stderr",
     "output_type": "stream",
     "text": [
      " 90%|█████████████████████████████████████████████████████████████████████████▊        | 18/20 [00:13<00:01,  1.11it/s]"
     ]
    },
    {
     "name": "stdout",
     "output_type": "stream",
     "text": [
      "\\\\FUNES\\Shared\\experiments\\E0075\\e0075_v05\\220629_f1\\suite2p\\0005\\plane0\n"
     ]
    },
    {
     "name": "stderr",
     "output_type": "stream",
     "text": [
      " 95%|█████████████████████████████████████████████████████████████████████████████▉    | 19/20 [00:14<00:00,  1.10it/s]"
     ]
    },
    {
     "name": "stdout",
     "output_type": "stream",
     "text": [
      "\\\\FUNES\\Shared\\experiments\\E0075\\e0075_v05\\220629_f1\\suite2p\\0006\\plane0\n"
     ]
    },
    {
     "name": "stderr",
     "output_type": "stream",
     "text": [
      "100%|██████████████████████████████████████████████████████████████████████████████████| 20/20 [00:15<00:00,  1.31it/s]\n"
     ]
    }
   ],
   "source": [
    "for path in tqdm(unexported):\n",
    "    path = path / 'plane0'\n",
    "    print(path)\n",
    "    export_suite2p(path, path.parent / \"data_from_suite2p_cells.h5\", include_all_rois=False)\n",
    "    #export_suite2p(path, path.parent / \"data_from_suite2p_unfiltered.h5\", include_all_rois=True)"
   ]
  },
  {
   "cell_type": "code",
   "execution_count": null,
   "metadata": {},
   "outputs": [],
   "source": [
    "# try loading\n",
    "fish_dir = unexported[0] \n",
    "suite2p_data = fl.load(fish_dir / \"data_from_suite2p_unfiltered.h5\")"
   ]
  },
  {
   "cell_type": "code",
   "execution_count": null,
   "metadata": {},
   "outputs": [],
   "source": [
    "suite2p_data.keys()"
   ]
  },
  {
   "cell_type": "code",
   "execution_count": null,
   "metadata": {},
   "outputs": [],
   "source": [
    "#Saving anatomy stacks for 2p data\n",
    "files = list(master.glob(\"*_f*\"))\n",
    "for f in files:\n",
    "    print(f)\n",
    "    dataset_path = f / 'original'\n",
    "    with open(dataset_path / \"stack_metadata.json\") as ff:\n",
    "            stack_metadata = json.load(ff)\n",
    "    n_planes, n_x, n_y = stack_metadata[\"shape_full\"][1:]    \n",
    "    \n",
    "    anatomy_stack = np.zeros((n_planes, n_x, n_y))\n",
    "    for plane in range(n_planes):\n",
    "        try:\n",
    "            plane_name = '000' + str(plane)\n",
    "            path = f / 'suite2p' / plane_name\n",
    "\n",
    "            # loading suite2p data:\n",
    "            suite2p_data = fl.load(path / 'data_from_suite2p_cells.h5')\n",
    "        except:\n",
    "            plane_name = '00' + str(plane)\n",
    "            path = f / 'suite2p' / plane_name\n",
    "            suite2p_data = fl.load(path / \"data_from_suite2p_cells.h5\")\n",
    "            \n",
    "        anatomy = suite2p_data['anatomy_stack'][0]\n",
    "        anatomy_stack[plane] = anatomy\n",
    "    print(np.shape(anatomy_stack))\n",
    "    tiff.imsave(f / \"anatomy_suite2p.tif\", anatomy_stack)\n"
   ]
  }
 ],
 "metadata": {
  "kernelspec": {
   "display_name": "Python 3",
   "language": "python",
   "name": "python3"
  },
  "language_info": {
   "codemirror_mode": {
    "name": "ipython",
    "version": 3
   },
   "file_extension": ".py",
   "mimetype": "text/x-python",
   "name": "python",
   "nbconvert_exporter": "python",
   "pygments_lexer": "ipython3",
   "version": "3.7.10"
  }
 },
 "nbformat": 4,
 "nbformat_minor": 4
}
