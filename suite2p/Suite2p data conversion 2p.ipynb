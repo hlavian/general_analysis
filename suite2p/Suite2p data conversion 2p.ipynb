{
 "cells": [
  {
   "cell_type": "code",
   "execution_count": 1,
   "metadata": {},
   "outputs": [],
   "source": [
    "from matplotlib import pyplot as plt\n",
    "import numpy as np\n",
    "import tables\n",
    "import flammkuchen as fl\n",
    "from pathlib import Path\n",
    "from tqdm import tqdm\n",
    "from scipy.ndimage import morphology\n",
    "from fimpylab.utils.suite2p_conv import export_suite2p\n",
    "import tifffile as tiff\n",
    "import json"
   ]
  },
  {
   "cell_type": "code",
   "execution_count": 2,
   "metadata": {},
   "outputs": [],
   "source": [
    "master =  Path(r\"\\\\funes\\shared\\experiments\\E0040_motions_cardinal\\v13_cw_ccw\\2p\\rf\\fixed\")"
   ]
  },
  {
   "cell_type": "code",
   "execution_count": 3,
   "metadata": {},
   "outputs": [
    {
     "name": "stdout",
     "output_type": "stream",
     "text": [
      "64\n"
     ]
    }
   ],
   "source": [
    "paths_list = list(master.glob(\"*_f*/suite2p/*00*\"))\n",
    "unexported = [f for f in paths_list if not (f.parent.parent / \"data_from_suite2p_cells.h5\").exists()]\n",
    "print(len(unexported))"
   ]
  },
  {
   "cell_type": "code",
   "execution_count": 4,
   "metadata": {},
   "outputs": [
    {
     "name": "stderr",
     "output_type": "stream",
     "text": [
      "  0%|                                                                                           | 0/64 [00:00<?, ?it/s]"
     ]
    },
    {
     "name": "stdout",
     "output_type": "stream",
     "text": [
      "\\\\funes\\shared\\experiments\\E0040_motions_cardinal\\v13_cw_ccw\\2p\\rf\\fixed\\210602_f0\\suite2p\\0000\\plane0\n"
     ]
    },
    {
     "name": "stderr",
     "output_type": "stream",
     "text": [
      "  2%|█▎                                                                                 | 1/64 [00:07<07:25,  7.07s/it]"
     ]
    },
    {
     "name": "stdout",
     "output_type": "stream",
     "text": [
      "\\\\funes\\shared\\experiments\\E0040_motions_cardinal\\v13_cw_ccw\\2p\\rf\\fixed\\210602_f0\\suite2p\\0001\\plane0\n"
     ]
    },
    {
     "name": "stderr",
     "output_type": "stream",
     "text": [
      "  3%|██▌                                                                                | 2/64 [00:10<05:23,  5.21s/it]"
     ]
    },
    {
     "name": "stdout",
     "output_type": "stream",
     "text": [
      "\\\\funes\\shared\\experiments\\E0040_motions_cardinal\\v13_cw_ccw\\2p\\rf\\fixed\\210602_f0\\suite2p\\0002\\plane0\n"
     ]
    },
    {
     "name": "stderr",
     "output_type": "stream",
     "text": [
      "  5%|███▉                                                                               | 3/64 [00:15<04:49,  4.75s/it]"
     ]
    },
    {
     "name": "stdout",
     "output_type": "stream",
     "text": [
      "\\\\funes\\shared\\experiments\\E0040_motions_cardinal\\v13_cw_ccw\\2p\\rf\\fixed\\210602_f0\\suite2p\\0003\\plane0\n"
     ]
    },
    {
     "name": "stderr",
     "output_type": "stream",
     "text": [
      "  6%|█████▏                                                                             | 4/64 [00:18<04:11,  4.19s/it]"
     ]
    },
    {
     "name": "stdout",
     "output_type": "stream",
     "text": [
      "\\\\funes\\shared\\experiments\\E0040_motions_cardinal\\v13_cw_ccw\\2p\\rf\\fixed\\210602_f0\\suite2p\\0004\\plane0\n"
     ]
    },
    {
     "name": "stderr",
     "output_type": "stream",
     "text": [
      "  8%|██████▍                                                                            | 5/64 [00:22<04:09,  4.24s/it]"
     ]
    },
    {
     "name": "stdout",
     "output_type": "stream",
     "text": [
      "\\\\funes\\shared\\experiments\\E0040_motions_cardinal\\v13_cw_ccw\\2p\\rf\\fixed\\210602_f0\\suite2p\\0005\\plane0\n"
     ]
    },
    {
     "name": "stderr",
     "output_type": "stream",
     "text": [
      "  9%|███████▊                                                                           | 6/64 [00:26<04:02,  4.18s/it]"
     ]
    },
    {
     "name": "stdout",
     "output_type": "stream",
     "text": [
      "\\\\funes\\shared\\experiments\\E0040_motions_cardinal\\v13_cw_ccw\\2p\\rf\\fixed\\210602_f0\\suite2p\\0006\\plane0\n"
     ]
    },
    {
     "name": "stderr",
     "output_type": "stream",
     "text": [
      " 11%|█████████                                                                          | 7/64 [00:31<04:01,  4.24s/it]"
     ]
    },
    {
     "name": "stdout",
     "output_type": "stream",
     "text": [
      "\\\\funes\\shared\\experiments\\E0040_motions_cardinal\\v13_cw_ccw\\2p\\rf\\fixed\\210602_f0\\suite2p\\0007\\plane0\n"
     ]
    },
    {
     "name": "stderr",
     "output_type": "stream",
     "text": [
      " 12%|██████████▍                                                                        | 8/64 [00:35<03:59,  4.28s/it]"
     ]
    },
    {
     "name": "stdout",
     "output_type": "stream",
     "text": [
      "\\\\funes\\shared\\experiments\\E0040_motions_cardinal\\v13_cw_ccw\\2p\\rf\\fixed\\210602_f0\\suite2p\\0008\\plane0\n"
     ]
    },
    {
     "name": "stderr",
     "output_type": "stream",
     "text": [
      " 14%|███████████▋                                                                       | 9/64 [00:40<04:00,  4.37s/it]"
     ]
    },
    {
     "name": "stdout",
     "output_type": "stream",
     "text": [
      "\\\\funes\\shared\\experiments\\E0040_motions_cardinal\\v13_cw_ccw\\2p\\rf\\fixed\\210602_f1\\suite2p\\0000\\plane0\n"
     ]
    },
    {
     "name": "stderr",
     "output_type": "stream",
     "text": [
      " 16%|████████████▊                                                                     | 10/64 [00:44<03:52,  4.31s/it]"
     ]
    },
    {
     "name": "stdout",
     "output_type": "stream",
     "text": [
      "\\\\funes\\shared\\experiments\\E0040_motions_cardinal\\v13_cw_ccw\\2p\\rf\\fixed\\210602_f1\\suite2p\\0001\\plane0\n"
     ]
    },
    {
     "name": "stderr",
     "output_type": "stream",
     "text": [
      " 17%|██████████████                                                                    | 11/64 [00:48<03:46,  4.27s/it]"
     ]
    },
    {
     "name": "stdout",
     "output_type": "stream",
     "text": [
      "\\\\funes\\shared\\experiments\\E0040_motions_cardinal\\v13_cw_ccw\\2p\\rf\\fixed\\210602_f1\\suite2p\\0002\\plane0\n"
     ]
    },
    {
     "name": "stderr",
     "output_type": "stream",
     "text": [
      " 19%|███████████████▍                                                                  | 12/64 [00:52<03:40,  4.24s/it]"
     ]
    },
    {
     "name": "stdout",
     "output_type": "stream",
     "text": [
      "\\\\funes\\shared\\experiments\\E0040_motions_cardinal\\v13_cw_ccw\\2p\\rf\\fixed\\210602_f1\\suite2p\\0003\\plane0\n"
     ]
    },
    {
     "name": "stderr",
     "output_type": "stream",
     "text": [
      " 20%|████████████████▋                                                                 | 13/64 [00:56<03:35,  4.23s/it]"
     ]
    },
    {
     "name": "stdout",
     "output_type": "stream",
     "text": [
      "\\\\funes\\shared\\experiments\\E0040_motions_cardinal\\v13_cw_ccw\\2p\\rf\\fixed\\210602_f1\\suite2p\\0004\\plane0\n"
     ]
    },
    {
     "name": "stderr",
     "output_type": "stream",
     "text": [
      " 22%|█████████████████▉                                                                | 14/64 [01:01<03:32,  4.25s/it]"
     ]
    },
    {
     "name": "stdout",
     "output_type": "stream",
     "text": [
      "\\\\funes\\shared\\experiments\\E0040_motions_cardinal\\v13_cw_ccw\\2p\\rf\\fixed\\210602_f1\\suite2p\\0005\\plane0\n"
     ]
    },
    {
     "name": "stderr",
     "output_type": "stream",
     "text": [
      " 23%|███████████████████▏                                                              | 15/64 [01:05<03:26,  4.21s/it]"
     ]
    },
    {
     "name": "stdout",
     "output_type": "stream",
     "text": [
      "\\\\funes\\shared\\experiments\\E0040_motions_cardinal\\v13_cw_ccw\\2p\\rf\\fixed\\210602_f1\\suite2p\\0006\\plane0\n"
     ]
    },
    {
     "name": "stderr",
     "output_type": "stream",
     "text": [
      " 25%|████████████████████▌                                                             | 16/64 [01:09<03:21,  4.21s/it]"
     ]
    },
    {
     "name": "stdout",
     "output_type": "stream",
     "text": [
      "\\\\funes\\shared\\experiments\\E0040_motions_cardinal\\v13_cw_ccw\\2p\\rf\\fixed\\210602_f1\\suite2p\\0007\\plane0\n"
     ]
    },
    {
     "name": "stderr",
     "output_type": "stream",
     "text": [
      " 27%|█████████████████████▊                                                            | 17/64 [01:13<03:20,  4.27s/it]"
     ]
    },
    {
     "name": "stdout",
     "output_type": "stream",
     "text": [
      "\\\\funes\\shared\\experiments\\E0040_motions_cardinal\\v13_cw_ccw\\2p\\rf\\fixed\\210602_f1\\suite2p\\0008\\plane0\n"
     ]
    },
    {
     "name": "stderr",
     "output_type": "stream",
     "text": [
      " 28%|███████████████████████                                                           | 18/64 [01:18<03:19,  4.33s/it]"
     ]
    },
    {
     "name": "stdout",
     "output_type": "stream",
     "text": [
      "\\\\funes\\shared\\experiments\\E0040_motions_cardinal\\v13_cw_ccw\\2p\\rf\\fixed\\210602_f1\\suite2p\\0009\\plane0\n"
     ]
    },
    {
     "name": "stderr",
     "output_type": "stream",
     "text": [
      " 30%|████████████████████████▎                                                         | 19/64 [01:22<03:16,  4.36s/it]"
     ]
    },
    {
     "name": "stdout",
     "output_type": "stream",
     "text": [
      "\\\\funes\\shared\\experiments\\E0040_motions_cardinal\\v13_cw_ccw\\2p\\rf\\fixed\\210602_f2\\suite2p\\0000\\plane0\n"
     ]
    },
    {
     "name": "stderr",
     "output_type": "stream",
     "text": [
      " 31%|█████████████████████████▋                                                        | 20/64 [01:26<03:05,  4.21s/it]"
     ]
    },
    {
     "name": "stdout",
     "output_type": "stream",
     "text": [
      "\\\\funes\\shared\\experiments\\E0040_motions_cardinal\\v13_cw_ccw\\2p\\rf\\fixed\\210602_f2\\suite2p\\0001\\plane0\n"
     ]
    },
    {
     "name": "stderr",
     "output_type": "stream",
     "text": [
      " 33%|██████████████████████████▉                                                       | 21/64 [01:30<02:56,  4.11s/it]"
     ]
    },
    {
     "name": "stdout",
     "output_type": "stream",
     "text": [
      "\\\\funes\\shared\\experiments\\E0040_motions_cardinal\\v13_cw_ccw\\2p\\rf\\fixed\\210602_f2\\suite2p\\0002\\plane0\n"
     ]
    },
    {
     "name": "stderr",
     "output_type": "stream",
     "text": [
      " 34%|████████████████████████████▏                                                     | 22/64 [01:34<02:50,  4.06s/it]"
     ]
    },
    {
     "name": "stdout",
     "output_type": "stream",
     "text": [
      "\\\\funes\\shared\\experiments\\E0040_motions_cardinal\\v13_cw_ccw\\2p\\rf\\fixed\\210602_f2\\suite2p\\0003\\plane0\n"
     ]
    },
    {
     "name": "stderr",
     "output_type": "stream",
     "text": [
      " 36%|█████████████████████████████▍                                                    | 23/64 [01:38<02:45,  4.05s/it]"
     ]
    },
    {
     "name": "stdout",
     "output_type": "stream",
     "text": [
      "\\\\funes\\shared\\experiments\\E0040_motions_cardinal\\v13_cw_ccw\\2p\\rf\\fixed\\210602_f2\\suite2p\\0004\\plane0\n"
     ]
    },
    {
     "name": "stderr",
     "output_type": "stream",
     "text": [
      " 38%|██████████████████████████████▊                                                   | 24/64 [01:42<02:40,  4.01s/it]"
     ]
    },
    {
     "name": "stdout",
     "output_type": "stream",
     "text": [
      "\\\\funes\\shared\\experiments\\E0040_motions_cardinal\\v13_cw_ccw\\2p\\rf\\fixed\\210602_f2\\suite2p\\0005\\plane0\n"
     ]
    },
    {
     "name": "stderr",
     "output_type": "stream",
     "text": [
      " 39%|████████████████████████████████                                                  | 25/64 [01:46<02:34,  3.96s/it]"
     ]
    },
    {
     "name": "stdout",
     "output_type": "stream",
     "text": [
      "\\\\funes\\shared\\experiments\\E0040_motions_cardinal\\v13_cw_ccw\\2p\\rf\\fixed\\210602_f2\\suite2p\\0006\\plane0\n"
     ]
    },
    {
     "name": "stderr",
     "output_type": "stream",
     "text": [
      " 41%|█████████████████████████████████▎                                                | 26/64 [01:50<02:30,  3.96s/it]"
     ]
    },
    {
     "name": "stdout",
     "output_type": "stream",
     "text": [
      "\\\\funes\\shared\\experiments\\E0040_motions_cardinal\\v13_cw_ccw\\2p\\rf\\fixed\\210602_f2\\suite2p\\0007\\plane0\n"
     ]
    },
    {
     "name": "stderr",
     "output_type": "stream",
     "text": [
      " 42%|██████████████████████████████████▌                                               | 27/64 [01:54<02:27,  3.99s/it]"
     ]
    },
    {
     "name": "stdout",
     "output_type": "stream",
     "text": [
      "\\\\funes\\shared\\experiments\\E0040_motions_cardinal\\v13_cw_ccw\\2p\\rf\\fixed\\210602_f2\\suite2p\\0008\\plane0\n"
     ]
    },
    {
     "name": "stderr",
     "output_type": "stream",
     "text": [
      " 44%|███████████████████████████████████▉                                              | 28/64 [01:58<02:22,  3.97s/it]"
     ]
    },
    {
     "name": "stdout",
     "output_type": "stream",
     "text": [
      "\\\\funes\\shared\\experiments\\E0040_motions_cardinal\\v13_cw_ccw\\2p\\rf\\fixed\\210602_f2\\suite2p\\0009\\plane0\n"
     ]
    },
    {
     "name": "stderr",
     "output_type": "stream",
     "text": [
      " 45%|█████████████████████████████████████▏                                            | 29/64 [02:02<02:19,  3.99s/it]"
     ]
    },
    {
     "name": "stdout",
     "output_type": "stream",
     "text": [
      "\\\\funes\\shared\\experiments\\E0040_motions_cardinal\\v13_cw_ccw\\2p\\rf\\fixed\\210602_f2\\suite2p\\0010\\plane0\n"
     ]
    },
    {
     "name": "stderr",
     "output_type": "stream",
     "text": [
      " 47%|██████████████████████████████████████▍                                           | 30/64 [02:06<02:16,  4.02s/it]"
     ]
    },
    {
     "name": "stdout",
     "output_type": "stream",
     "text": [
      "\\\\funes\\shared\\experiments\\E0040_motions_cardinal\\v13_cw_ccw\\2p\\rf\\fixed\\210602_f2\\suite2p\\0011\\plane0\n"
     ]
    },
    {
     "name": "stderr",
     "output_type": "stream",
     "text": [
      " 48%|███████████████████████████████████████▋                                          | 31/64 [02:10<02:13,  4.04s/it]"
     ]
    },
    {
     "name": "stdout",
     "output_type": "stream",
     "text": [
      "\\\\funes\\shared\\experiments\\E0040_motions_cardinal\\v13_cw_ccw\\2p\\rf\\fixed\\210602_f2\\suite2p\\0012\\plane0\n"
     ]
    },
    {
     "name": "stderr",
     "output_type": "stream",
     "text": [
      " 50%|█████████████████████████████████████████                                         | 32/64 [02:14<02:10,  4.07s/it]"
     ]
    },
    {
     "name": "stdout",
     "output_type": "stream",
     "text": [
      "\\\\funes\\shared\\experiments\\E0040_motions_cardinal\\v13_cw_ccw\\2p\\rf\\fixed\\210604_f2\\suite2p\\0000\\plane0\n"
     ]
    },
    {
     "name": "stderr",
     "output_type": "stream",
     "text": [
      " 52%|██████████████████████████████████████████▎                                       | 33/64 [02:18<02:07,  4.10s/it]"
     ]
    },
    {
     "name": "stdout",
     "output_type": "stream",
     "text": [
      "\\\\funes\\shared\\experiments\\E0040_motions_cardinal\\v13_cw_ccw\\2p\\rf\\fixed\\210604_f2\\suite2p\\0001\\plane0\n"
     ]
    },
    {
     "name": "stderr",
     "output_type": "stream",
     "text": [
      " 53%|███████████████████████████████████████████▌                                      | 34/64 [02:22<02:03,  4.10s/it]"
     ]
    },
    {
     "name": "stdout",
     "output_type": "stream",
     "text": [
      "\\\\funes\\shared\\experiments\\E0040_motions_cardinal\\v13_cw_ccw\\2p\\rf\\fixed\\210604_f2\\suite2p\\0002\\plane0\n"
     ]
    },
    {
     "name": "stderr",
     "output_type": "stream",
     "text": [
      " 55%|████████████████████████████████████████████▊                                     | 35/64 [02:27<02:00,  4.14s/it]"
     ]
    },
    {
     "name": "stdout",
     "output_type": "stream",
     "text": [
      "\\\\funes\\shared\\experiments\\E0040_motions_cardinal\\v13_cw_ccw\\2p\\rf\\fixed\\210604_f2\\suite2p\\0003\\plane0\n"
     ]
    },
    {
     "name": "stderr",
     "output_type": "stream",
     "text": [
      " 56%|██████████████████████████████████████████████▏                                   | 36/64 [02:31<01:55,  4.12s/it]"
     ]
    },
    {
     "name": "stdout",
     "output_type": "stream",
     "text": [
      "\\\\funes\\shared\\experiments\\E0040_motions_cardinal\\v13_cw_ccw\\2p\\rf\\fixed\\210604_f2\\suite2p\\0004\\plane0\n"
     ]
    },
    {
     "name": "stderr",
     "output_type": "stream",
     "text": [
      " 58%|███████████████████████████████████████████████▍                                  | 37/64 [02:35<01:51,  4.12s/it]"
     ]
    },
    {
     "name": "stdout",
     "output_type": "stream",
     "text": [
      "\\\\funes\\shared\\experiments\\E0040_motions_cardinal\\v13_cw_ccw\\2p\\rf\\fixed\\210604_f2\\suite2p\\0005\\plane0\n"
     ]
    },
    {
     "name": "stderr",
     "output_type": "stream",
     "text": [
      " 59%|████████████████████████████████████████████████▋                                 | 38/64 [02:39<01:47,  4.12s/it]"
     ]
    },
    {
     "name": "stdout",
     "output_type": "stream",
     "text": [
      "\\\\funes\\shared\\experiments\\E0040_motions_cardinal\\v13_cw_ccw\\2p\\rf\\fixed\\210604_f2\\suite2p\\0006\\plane0\n"
     ]
    },
    {
     "name": "stderr",
     "output_type": "stream",
     "text": [
      " 61%|█████████████████████████████████████████████████▉                                | 39/64 [02:43<01:42,  4.10s/it]"
     ]
    },
    {
     "name": "stdout",
     "output_type": "stream",
     "text": [
      "\\\\funes\\shared\\experiments\\E0040_motions_cardinal\\v13_cw_ccw\\2p\\rf\\fixed\\210604_f2\\suite2p\\0007\\plane0\n"
     ]
    },
    {
     "name": "stderr",
     "output_type": "stream",
     "text": [
      " 62%|███████████████████████████████████████████████████▎                              | 40/64 [02:47<01:38,  4.09s/it]"
     ]
    },
    {
     "name": "stdout",
     "output_type": "stream",
     "text": [
      "\\\\funes\\shared\\experiments\\E0040_motions_cardinal\\v13_cw_ccw\\2p\\rf\\fixed\\210604_f2\\suite2p\\0008\\plane0\n"
     ]
    },
    {
     "name": "stderr",
     "output_type": "stream",
     "text": [
      " 64%|████████████████████████████████████████████████████▌                             | 41/64 [02:51<01:34,  4.10s/it]"
     ]
    },
    {
     "name": "stdout",
     "output_type": "stream",
     "text": [
      "\\\\funes\\shared\\experiments\\E0040_motions_cardinal\\v13_cw_ccw\\2p\\rf\\fixed\\210604_f2\\suite2p\\0009\\plane0\n"
     ]
    },
    {
     "name": "stderr",
     "output_type": "stream",
     "text": [
      " 66%|█████████████████████████████████████████████████████▊                            | 42/64 [02:55<01:30,  4.13s/it]"
     ]
    },
    {
     "name": "stdout",
     "output_type": "stream",
     "text": [
      "\\\\funes\\shared\\experiments\\E0040_motions_cardinal\\v13_cw_ccw\\2p\\rf\\fixed\\210617_f0\\suite2p\\0000\\plane0\n"
     ]
    },
    {
     "name": "stderr",
     "output_type": "stream",
     "text": [
      " 67%|███████████████████████████████████████████████████████                           | 43/64 [02:59<01:26,  4.10s/it]"
     ]
    },
    {
     "name": "stdout",
     "output_type": "stream",
     "text": [
      "\\\\funes\\shared\\experiments\\E0040_motions_cardinal\\v13_cw_ccw\\2p\\rf\\fixed\\210617_f0\\suite2p\\0001\\plane0\n"
     ]
    },
    {
     "name": "stderr",
     "output_type": "stream",
     "text": [
      " 69%|████████████████████████████████████████████████████████▍                         | 44/64 [03:03<01:20,  4.04s/it]"
     ]
    },
    {
     "name": "stdout",
     "output_type": "stream",
     "text": [
      "\\\\funes\\shared\\experiments\\E0040_motions_cardinal\\v13_cw_ccw\\2p\\rf\\fixed\\210617_f0\\suite2p\\0002\\plane0\n"
     ]
    },
    {
     "name": "stderr",
     "output_type": "stream",
     "text": [
      " 70%|█████████████████████████████████████████████████████████▋                        | 45/64 [03:07<01:16,  4.00s/it]"
     ]
    },
    {
     "name": "stdout",
     "output_type": "stream",
     "text": [
      "\\\\funes\\shared\\experiments\\E0040_motions_cardinal\\v13_cw_ccw\\2p\\rf\\fixed\\210617_f0\\suite2p\\0003\\plane0\n"
     ]
    },
    {
     "name": "stderr",
     "output_type": "stream",
     "text": [
      " 72%|██████████████████████████████████████████████████████████▉                       | 46/64 [03:11<01:12,  4.03s/it]"
     ]
    },
    {
     "name": "stdout",
     "output_type": "stream",
     "text": [
      "\\\\funes\\shared\\experiments\\E0040_motions_cardinal\\v13_cw_ccw\\2p\\rf\\fixed\\210617_f0\\suite2p\\0004\\plane0\n"
     ]
    },
    {
     "name": "stderr",
     "output_type": "stream",
     "text": [
      " 73%|████████████████████████████████████████████████████████████▏                     | 47/64 [03:16<01:09,  4.08s/it]"
     ]
    },
    {
     "name": "stdout",
     "output_type": "stream",
     "text": [
      "\\\\funes\\shared\\experiments\\E0040_motions_cardinal\\v13_cw_ccw\\2p\\rf\\fixed\\210617_f0\\suite2p\\0005\\plane0\n"
     ]
    },
    {
     "name": "stderr",
     "output_type": "stream",
     "text": [
      " 75%|█████████████████████████████████████████████████████████████▌                    | 48/64 [03:20<01:05,  4.09s/it]"
     ]
    },
    {
     "name": "stdout",
     "output_type": "stream",
     "text": [
      "\\\\funes\\shared\\experiments\\E0040_motions_cardinal\\v13_cw_ccw\\2p\\rf\\fixed\\210617_f0\\suite2p\\0006\\plane0\n"
     ]
    },
    {
     "name": "stderr",
     "output_type": "stream",
     "text": [
      " 77%|██████████████████████████████████████████████████████████████▊                   | 49/64 [03:24<01:01,  4.09s/it]"
     ]
    },
    {
     "name": "stdout",
     "output_type": "stream",
     "text": [
      "\\\\funes\\shared\\experiments\\E0040_motions_cardinal\\v13_cw_ccw\\2p\\rf\\fixed\\210617_f0\\suite2p\\0007\\plane0\n"
     ]
    },
    {
     "name": "stderr",
     "output_type": "stream",
     "text": [
      " 78%|████████████████████████████████████████████████████████████████                  | 50/64 [03:28<00:57,  4.08s/it]"
     ]
    },
    {
     "name": "stdout",
     "output_type": "stream",
     "text": [
      "\\\\funes\\shared\\experiments\\E0040_motions_cardinal\\v13_cw_ccw\\2p\\rf\\fixed\\210617_f0\\suite2p\\0008\\plane0\n"
     ]
    },
    {
     "name": "stderr",
     "output_type": "stream",
     "text": [
      " 80%|█████████████████████████████████████████████████████████████████▎                | 51/64 [03:32<00:53,  4.10s/it]"
     ]
    },
    {
     "name": "stdout",
     "output_type": "stream",
     "text": [
      "\\\\funes\\shared\\experiments\\E0040_motions_cardinal\\v13_cw_ccw\\2p\\rf\\fixed\\210617_f0\\suite2p\\0009\\plane0\n"
     ]
    },
    {
     "name": "stderr",
     "output_type": "stream",
     "text": [
      " 81%|██████████████████████████████████████████████████████████████████▋               | 52/64 [03:36<00:49,  4.10s/it]"
     ]
    },
    {
     "name": "stdout",
     "output_type": "stream",
     "text": [
      "\\\\funes\\shared\\experiments\\E0040_motions_cardinal\\v13_cw_ccw\\2p\\rf\\fixed\\210617_f0\\suite2p\\0010\\plane0\n"
     ]
    },
    {
     "name": "stderr",
     "output_type": "stream",
     "text": [
      " 83%|███████████████████████████████████████████████████████████████████▉              | 53/64 [03:40<00:45,  4.13s/it]"
     ]
    },
    {
     "name": "stdout",
     "output_type": "stream",
     "text": [
      "\\\\funes\\shared\\experiments\\E0040_motions_cardinal\\v13_cw_ccw\\2p\\rf\\fixed\\210618_f0\\suite2p\\0000\\plane0\n"
     ]
    },
    {
     "name": "stderr",
     "output_type": "stream",
     "text": [
      " 84%|█████████████████████████████████████████████████████████████████████▏            | 54/64 [03:44<00:41,  4.12s/it]"
     ]
    },
    {
     "name": "stdout",
     "output_type": "stream",
     "text": [
      "\\\\funes\\shared\\experiments\\E0040_motions_cardinal\\v13_cw_ccw\\2p\\rf\\fixed\\210618_f0\\suite2p\\0001\\plane0\n"
     ]
    },
    {
     "name": "stderr",
     "output_type": "stream",
     "text": [
      " 86%|██████████████████████████████████████████████████████████████████████▍           | 55/64 [03:48<00:36,  4.10s/it]"
     ]
    },
    {
     "name": "stdout",
     "output_type": "stream",
     "text": [
      "\\\\funes\\shared\\experiments\\E0040_motions_cardinal\\v13_cw_ccw\\2p\\rf\\fixed\\210618_f0\\suite2p\\0002\\plane0\n"
     ]
    },
    {
     "name": "stderr",
     "output_type": "stream",
     "text": [
      " 88%|███████████████████████████████████████████████████████████████████████▊          | 56/64 [03:53<00:32,  4.12s/it]"
     ]
    },
    {
     "name": "stdout",
     "output_type": "stream",
     "text": [
      "\\\\funes\\shared\\experiments\\E0040_motions_cardinal\\v13_cw_ccw\\2p\\rf\\fixed\\210618_f0\\suite2p\\0003\\plane0\n"
     ]
    },
    {
     "name": "stderr",
     "output_type": "stream",
     "text": [
      " 89%|█████████████████████████████████████████████████████████████████████████         | 57/64 [03:57<00:28,  4.14s/it]"
     ]
    },
    {
     "name": "stdout",
     "output_type": "stream",
     "text": [
      "\\\\funes\\shared\\experiments\\E0040_motions_cardinal\\v13_cw_ccw\\2p\\rf\\fixed\\210618_f0\\suite2p\\0004\\plane0\n"
     ]
    },
    {
     "name": "stderr",
     "output_type": "stream",
     "text": [
      " 91%|██████████████████████████████████████████████████████████████████████████▎       | 58/64 [04:01<00:24,  4.12s/it]"
     ]
    },
    {
     "name": "stdout",
     "output_type": "stream",
     "text": [
      "\\\\funes\\shared\\experiments\\E0040_motions_cardinal\\v13_cw_ccw\\2p\\rf\\fixed\\210618_f0\\suite2p\\0005\\plane0\n"
     ]
    },
    {
     "name": "stderr",
     "output_type": "stream",
     "text": [
      " 92%|███████████████████████████████████████████████████████████████████████████▌      | 59/64 [04:05<00:20,  4.11s/it]"
     ]
    },
    {
     "name": "stdout",
     "output_type": "stream",
     "text": [
      "\\\\funes\\shared\\experiments\\E0040_motions_cardinal\\v13_cw_ccw\\2p\\rf\\fixed\\210618_f0\\suite2p\\0006\\plane0\n"
     ]
    },
    {
     "name": "stderr",
     "output_type": "stream",
     "text": [
      " 94%|████████████████████████████████████████████████████████████████████████████▉     | 60/64 [04:09<00:16,  4.08s/it]"
     ]
    },
    {
     "name": "stdout",
     "output_type": "stream",
     "text": [
      "\\\\funes\\shared\\experiments\\E0040_motions_cardinal\\v13_cw_ccw\\2p\\rf\\fixed\\210618_f0\\suite2p\\0007\\plane0\n"
     ]
    },
    {
     "name": "stderr",
     "output_type": "stream",
     "text": [
      " 95%|██████████████████████████████████████████████████████████████████████████████▏   | 61/64 [04:13<00:12,  4.03s/it]"
     ]
    },
    {
     "name": "stdout",
     "output_type": "stream",
     "text": [
      "\\\\funes\\shared\\experiments\\E0040_motions_cardinal\\v13_cw_ccw\\2p\\rf\\fixed\\210618_f0\\suite2p\\0008\\plane0\n"
     ]
    },
    {
     "name": "stderr",
     "output_type": "stream",
     "text": [
      " 97%|███████████████████████████████████████████████████████████████████████████████▍  | 62/64 [04:17<00:07,  4.00s/it]"
     ]
    },
    {
     "name": "stdout",
     "output_type": "stream",
     "text": [
      "\\\\funes\\shared\\experiments\\E0040_motions_cardinal\\v13_cw_ccw\\2p\\rf\\fixed\\210618_f0\\suite2p\\0009\\plane0\n"
     ]
    },
    {
     "name": "stderr",
     "output_type": "stream",
     "text": [
      " 98%|████████████████████████████████████████████████████████████████████████████████▋ | 63/64 [04:21<00:03,  3.98s/it]"
     ]
    },
    {
     "name": "stdout",
     "output_type": "stream",
     "text": [
      "\\\\funes\\shared\\experiments\\E0040_motions_cardinal\\v13_cw_ccw\\2p\\rf\\fixed\\210618_f0\\suite2p\\0010\\plane0\n"
     ]
    },
    {
     "name": "stderr",
     "output_type": "stream",
     "text": [
      "100%|██████████████████████████████████████████████████████████████████████████████████| 64/64 [04:25<00:00,  4.14s/it]\n"
     ]
    }
   ],
   "source": [
    "for path in tqdm(unexported):\n",
    "    path = path / 'plane0'\n",
    "    print(path)\n",
    "    #export_suite2p(path, path.parent / \"data_from_suite2p_cells.h5\", include_all_rois=False)\n",
    "    export_suite2p(path, path.parent / \"data_from_suite2p_unfiltered.h5\", include_all_rois=True)"
   ]
  },
  {
   "cell_type": "code",
   "execution_count": null,
   "metadata": {},
   "outputs": [],
   "source": [
    "# try loading\n",
    "fish_dir = unexported[0] \n",
    "suite2p_data = fl.load(fish_dir / \"data_from_suite2p_unfiltered.h5\")"
   ]
  },
  {
   "cell_type": "code",
   "execution_count": null,
   "metadata": {},
   "outputs": [],
   "source": [
    "suite2p_data.keys()"
   ]
  },
  {
   "cell_type": "code",
   "execution_count": null,
   "metadata": {},
   "outputs": [],
   "source": [
    "#Saving anatomy stacks for 2p data\n",
    "files = list(master.glob(\"*_f*\"))\n",
    "for f in files:\n",
    "    print(f)\n",
    "    dataset_path = f / 'original'\n",
    "    with open(dataset_path / \"stack_metadata.json\") as ff:\n",
    "            stack_metadata = json.load(ff)\n",
    "    n_planes, n_x, n_y = stack_metadata[\"shape_full\"][1:]    \n",
    "    \n",
    "    anatomy_stack = np.zeros((n_planes, n_x, n_y))\n",
    "    for plane in range(n_planes):\n",
    "        try:\n",
    "            plane_name = '000' + str(plane)\n",
    "            path = f / 'suite2p' / plane_name\n",
    "\n",
    "            # loading suite2p data:\n",
    "            suite2p_data = fl.load(path / 'data_from_suite2p_cells.h5')\n",
    "        except:\n",
    "            plane_name = '00' + str(plane)\n",
    "            path = f / 'suite2p' / plane_name\n",
    "            suite2p_data = fl.load(path / \"data_from_suite2p_cells.h5\")\n",
    "            \n",
    "        anatomy = suite2p_data['anatomy_stack'][0]\n",
    "        anatomy_stack[plane] = anatomy\n",
    "    print(np.shape(anatomy_stack))\n",
    "    tiff.imsave(f / \"anatomy_suite2p.tif\", anatomy_stack)\n"
   ]
  }
 ],
 "metadata": {
  "kernelspec": {
   "display_name": "Python 3",
   "language": "python",
   "name": "python3"
  },
  "language_info": {
   "codemirror_mode": {
    "name": "ipython",
    "version": 3
   },
   "file_extension": ".py",
   "mimetype": "text/x-python",
   "name": "python",
   "nbconvert_exporter": "python",
   "pygments_lexer": "ipython3",
   "version": "3.7.10"
  }
 },
 "nbformat": 4,
 "nbformat_minor": 4
}
