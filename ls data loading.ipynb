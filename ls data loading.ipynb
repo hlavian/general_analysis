{
 "cells": [
  {
   "cell_type": "code",
   "execution_count": null,
   "id": "2f4601ff-af8b-4b29-b128-be269169d493",
   "metadata": {},
   "outputs": [],
   "source": [
    "import numpy as np\n",
    "import flammkuchen as fl\n",
    "from fimpylab.core.lightsheet_experiment import LightsheetExperiment\n",
    "from pathlib import Path"
   ]
  },
  {
   "cell_type": "code",
   "execution_count": null,
   "id": "5f702955-f458-4e62-bdb1-55227feea032",
   "metadata": {},
   "outputs": [],
   "source": [
    "fish = Path(r\"\\\\funes\\shared\\experiments\\E0071_lotr\\full_ring\\210314_f0\\210314_f0_natmov\")"
   ]
  },
  {
   "cell_type": "code",
   "execution_count": null,
   "id": "52b767df-2505-46fa-988d-76f84dbed0a0",
   "metadata": {},
   "outputs": [],
   "source": [
    "# Loading imaging data (suite2p output)\n",
    "suite2p_data = fl.load(fish / \"data_from_suite2p_unfiltered.h5\")\n",
    "traces = suite2p_data['traces']\n",
    "coords = suite2p_data['coords']\n",
    "anatomy = suite2p_data['anatomy_stack']"
   ]
  },
  {
   "cell_type": "code",
   "execution_count": null,
   "id": "76177f00-a453-4b46-8ebb-169c74e01c20",
   "metadata": {},
   "outputs": [],
   "source": [
    "# If you want to get preprocessed traces\n",
    "traces = fl.load(fish / 'filtered_traces.h5')['detr']"
   ]
  },
  {
   "cell_type": "code",
   "execution_count": null,
   "id": "9ac06c2f-8877-41fd-b642-7078b7689919",
   "metadata": {},
   "outputs": [],
   "source": [
    "# Getting indices of HDNs\n",
    "selected = fl.load(fish / 'selected.h5')"
   ]
  },
  {
   "cell_type": "code",
   "execution_count": null,
   "id": "a5328bd4-f4a0-4658-a4ed-291819f3e5f9",
   "metadata": {},
   "outputs": [],
   "source": [
    "# Creating a fimpy ls experiment \n",
    "exp = LightsheetExperiment(fish)\n",
    "fs = exp.fn"
   ]
  },
  {
   "cell_type": "code",
   "execution_count": null,
   "id": "6d98fd74-d284-4854-bd79-c3a93e81a23e",
   "metadata": {},
   "outputs": [],
   "source": [
    "# Loading motor and stimulus related data\n",
    "beh_log = exp.behavior_log\n",
    "stim_log = exp.stimulus_log\n",
    "bouts_df = fl.load(fish / \"bouts_df.h5\")"
   ]
  },
  {
   "cell_type": "code",
   "execution_count": null,
   "id": "615c7717-a847-45ca-a03b-b9639745b14d",
   "metadata": {},
   "outputs": [],
   "source": [
    "num_bouts = len(bouts_df)\n",
    "tail = beh_log['tail_sum']"
   ]
  },
  {
   "cell_type": "code",
   "execution_count": null,
   "id": "a2f57a31-afc4-4c45-8481-cbe753be4b47",
   "metadata": {},
   "outputs": [],
   "source": [
    "# For HDN data, the LotrExperiment class there are some extra properties and functions:"
   ]
  },
  {
   "cell_type": "code",
   "execution_count": null,
   "id": "f333e41f-82bb-47af-95c7-c6399575a43c",
   "metadata": {},
   "outputs": [],
   "source": [
    "from lotr import LotrExperiment"
   ]
  },
  {
   "cell_type": "code",
   "execution_count": null,
   "id": "758aede9-119c-4d8e-9abd-e3f952dedde6",
   "metadata": {},
   "outputs": [],
   "source": [
    "exp = LotrExperiment(fish)\n",
    "rpc_angles = exp.rpc_angles\n",
    "phase = exp.network_phase"
   ]
  }
 ],
 "metadata": {
  "kernelspec": {
   "display_name": "Python 3",
   "language": "python",
   "name": "python3"
  },
  "language_info": {
   "codemirror_mode": {
    "name": "ipython",
    "version": 3
   },
   "file_extension": ".py",
   "mimetype": "text/x-python",
   "name": "python",
   "nbconvert_exporter": "python",
   "pygments_lexer": "ipython3",
   "version": "3.7.10"
  }
 },
 "nbformat": 4,
 "nbformat_minor": 5
}
