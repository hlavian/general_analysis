{
 "cells": [
  {
   "cell_type": "code",
   "execution_count": 1,
   "id": "beneficial-observation",
   "metadata": {},
   "outputs": [],
   "source": [
    "%matplotlib widget"
   ]
  },
  {
   "cell_type": "code",
   "execution_count": 2,
   "id": "atlantic-packing",
   "metadata": {},
   "outputs": [],
   "source": [
    "from pathlib import Path\n",
    "import numpy as np\n",
    "import flammkuchen as fl\n",
    "import pandas as pd\n",
    "import tifffile as tiff\n",
    "\n",
    "from fimpylab import LightsheetExperiment\n",
    "\n",
    "import matplotlib.pyplot as plt\n",
    "import seaborn as sns\n",
    "from tqdm import tqdm\n",
    "sns.set(style=\"ticks\", palette=\"deep\")\n",
    "cols = sns.color_palette()\n",
    "import ipywidgets as widgets\n",
    "\n",
    "from lotr.utils import zscore\n",
    "from lotr.pca import pca_and_phase, get_fictive_heading, fictive_heading_and_fit, \\\n",
    "        fit_phase_neurons,qap_sorting_and_phase\n",
    "from circle_fit import hyper_fit\n",
    "from lotr.experiment_class import LotrExperiment\n",
    "import json\n",
    "\n",
    "from lotr.plotting.color_utils import get_n_colors\n",
    "\n",
    "import statsmodels.api as sm\n",
    "\n",
    "import scipy"
   ]
  },
  {
   "cell_type": "code",
   "execution_count": 3,
   "id": "bored-rwanda",
   "metadata": {},
   "outputs": [],
   "source": [
    "from lotr.utils import pearson_regressors"
   ]
  },
  {
   "cell_type": "code",
   "execution_count": 101,
   "id": "automatic-momentum",
   "metadata": {},
   "outputs": [
    {
     "data": {
      "text/plain": [
       "WindowsPath('//funes/Shared/experiments/E0040_motions_cardinal/v26_/huc/220504_f2')"
      ]
     },
     "execution_count": 101,
     "metadata": {},
     "output_type": "execute_result"
    }
   ],
   "source": [
    "master = Path(r\"\\\\FUNES\\Shared\\experiments\\E0071_lotr\\full_ring\")\n",
    "files = list(master.glob(\"*/*f[0-9]_*\"))\n",
    "\n",
    "master = Path(r\"\\\\funes\\Shared\\experiments\\E0040_motions_cardinal\\v26_\\huc\")\n",
    "#master = Path(r\"\\\\FUNES\\Shared\\experiments\\E0040_motions_cardinal\\v21\\ls\\h2b_wb\")\n",
    "\n",
    "files = list(master.glob(\"*_f*\"))\n",
    "\n",
    "path = files[2]\n",
    "path_save = path #/ 'autocorrelation'\n",
    "path"
   ]
  },
  {
   "cell_type": "code",
   "execution_count": 102,
   "id": "unable-familiar",
   "metadata": {},
   "outputs": [],
   "source": [
    "traces = fl.load(path / \"filtered_traces.h5\", \"/detr\")\n",
    "#coords = fl.load(path / \"data_from_suite2p_unfiltered.h5\", \"/coords\")\n",
    "#anat = fl.load(path / \"data_from_suite2p_unfiltered.h5\", \"/anatomy_stack\")\n",
    "\n",
    "coords = fl.load(path / \"data_from_suite2p_cells.h5\", \"/coords\")\n",
    "anat = fl.load(path / \"data_from_suite2p_cells.h5\", \"/anatomy_stack\")\n",
    "\n",
    "#traces[np.isnan(traces)] = 0\n",
    "\n",
    "df = fl.load(path / \"bouts_df.h5\")# exp.get_bout_properties()\n",
    "exp = LotrExperiment(path)\n",
    "fn = int(exp.fn)\n",
    "beh_df = exp.behavior_log\n",
    "\n",
    "t_start_s = 150\n",
    "'''\n",
    "time_slices_dict = {\"natmov\": (t_start_s*exp.fn, exp.n_pts - t_start_s*exp.fn), \n",
    "                        \"clol\": (t_start_s*exp.fn, exp.n_pts - t_start_s*exp.fn), \n",
    "                        \"cwccw\": (500, exp.n_pts // 2),\n",
    "                        \"2dvr\": (t_start_s*exp.fn, 2000*exp.fn),\n",
    "                        \"2d\": (t_start_s*exp.fn, 2000*exp.fn),\n",
    "                        \"spont\": (t_start_s*exp.fn, exp.n_pts - t_start_s*exp.fn),\n",
    "                        \"gainmod\": (t_start_s*exp.fn, exp.n_pts - t_start_s*exp.fn)}\n",
    "'''\n",
    "t_lims = (150, exp.n_pts)#[-1]\n",
    "t_slice = slice(*t_lims)\n",
    "t_slice\n",
    "traces_spont = traces[0:t_lims[1], :]"
   ]
  },
  {
   "cell_type": "code",
   "execution_count": 103,
   "id": "atlantic-tobacco",
   "metadata": {},
   "outputs": [
    {
     "name": "stdout",
     "output_type": "stream",
     "text": [
      "220504_f2\n"
     ]
    }
   ],
   "source": [
    "try:\n",
    "    with open(next(path.glob(\"*metadata.json\"))) as i:\n",
    "        metadata = json.load(i)\n",
    "    fish_id = metadata['general']['fish_id']\n",
    "except:\n",
    "    fish_id = \"\"\n",
    "print(fish_id)"
   ]
  },
  {
   "cell_type": "code",
   "execution_count": 104,
   "id": "posted-cambodia",
   "metadata": {},
   "outputs": [
    {
     "data": {
      "text/plain": [
       "(7200, 16985)"
      ]
     },
     "execution_count": 104,
     "metadata": {},
     "output_type": "execute_result"
    }
   ],
   "source": [
    "np.shape(traces)"
   ]
  },
  {
   "cell_type": "code",
   "execution_count": 105,
   "id": "ruled-validity",
   "metadata": {},
   "outputs": [
    {
     "data": {
      "text/plain": [
       "(7200, 16985)"
      ]
     },
     "execution_count": 105,
     "metadata": {},
     "output_type": "execute_result"
    }
   ],
   "source": [
    "fictive_trajectory = get_fictive_heading(np.shape(traces)[0], df, min_bias=0.1)\n",
    "phase_traj = np.mod(fictive_trajectory, np.pi * 2) * (180 / np.pi)\n",
    "\n",
    "#fictive_trajectory = fictive_trajectory[0:t_lims[1]]\n",
    "#phase_traj = phase_traj[0:t_lims[1]]\n",
    "#traces = traces_spont\n",
    "np.shape(traces_spont)"
   ]
  },
  {
   "cell_type": "code",
   "execution_count": 106,
   "id": "banner-serbia",
   "metadata": {},
   "outputs": [],
   "source": [
    "num_bins = 4\n",
    "bin_size = 360 / num_bins\n",
    "binned_traj = np.floor(phase_traj / bin_size) * bin_size # 8 directions"
   ]
  },
  {
   "cell_type": "code",
   "execution_count": 107,
   "id": "opponent-resistance",
   "metadata": {},
   "outputs": [],
   "source": [
    "# generating regressors\n",
    "from lotr.default_vals import REGRESSOR_TAU_S, TURN_BIAS\n",
    "regs = np.zeros((num_bins, np.shape(traces)[0]))\n",
    "\n",
    "tau_fs = REGRESSOR_TAU_S * fn\n",
    "kernel = np.exp(-np.arange(1000) / tau_fs)\n",
    "\n",
    "\n",
    "for i in range(num_bins):\n",
    "    tmp_val = i * bin_size\n",
    "    tmp_reg = np.where(binned_traj == tmp_val)[0]\n",
    "    regs[i, tmp_reg] = 1\n",
    "    \n",
    "    regs[i] = np.convolve(regs[i], kernel)[:np.shape(traces)[0]]"
   ]
  },
  {
   "cell_type": "code",
   "execution_count": 108,
   "id": "chief-hobby",
   "metadata": {},
   "outputs": [
    {
     "data": {
      "text/plain": [
       "(7200,)"
      ]
     },
     "execution_count": 108,
     "metadata": {},
     "output_type": "execute_result"
    }
   ],
   "source": [
    "np.shape(fictive_trajectory)"
   ]
  },
  {
   "cell_type": "code",
   "execution_count": 109,
   "id": "fiscal-adult",
   "metadata": {
    "tags": []
   },
   "outputs": [
    {
     "data": {
      "application/vnd.jupyter.widget-view+json": {
       "model_id": "15448cc3ee3d442db47dcf29f2ae8549",
       "version_major": 2,
       "version_minor": 0
      },
      "text/plain": [
       "Canvas(toolbar=Toolbar(toolitems=[('Home', 'Reset original view', 'home', 'home'), ('Back', 'Back to previous …"
      ]
     },
     "metadata": {},
     "output_type": "display_data"
    }
   ],
   "source": [
    "fig_sum, ax_sum = plt.subplots(3, 1, figsize=(7,8))\n",
    "color_list = get_n_colors(num_bins) / 255\n",
    "\n",
    "ax_sum[0].plot(np.arange(len(fictive_trajectory[:])) / 3, -fictive_trajectory)\n",
    "ax_sum[1].plot(np.arange(len(fictive_trajectory[:])) / 3, phase_traj)\n",
    "ax_sum[1].plot(np.arange(len(fictive_trajectory[:])) / 3, binned_traj)\n",
    "\n",
    "for i in range(num_bins):\n",
    "    ax_sum[2].plot(np.arange(len(fictive_trajectory[:])) / 3, regs[i] + (i*50), c=color_list[i])\n",
    "    \n",
    "    \n",
    "title_list = ['Heading', 'Binned wrapped heading', 'Heading regressors']\n",
    "for i in range(3):\n",
    "    ax_sum[i].axis('off')\n",
    "    ax_sum[i].set_title(title_list[i])\n",
    "    \n",
    "plt.subplots_adjust(hspace=0.5)\n",
    "file_name = 'spont_heading_regressors_' + str(num_bins) + '_' + fish_id + '.jpg'\n",
    "fig_sum.savefig(path_save / file_name)"
   ]
  },
  {
   "cell_type": "code",
   "execution_count": 110,
   "id": "arabic-insulation",
   "metadata": {},
   "outputs": [],
   "source": [
    "if num_bins == 8:\n",
    "    fig_size = (15,7)\n",
    "else:\n",
    "    fig_size = (5,7)"
   ]
  },
  {
   "cell_type": "code",
   "execution_count": 111,
   "id": "quick-martin",
   "metadata": {},
   "outputs": [],
   "source": [
    "# getting regression values for all traces\n",
    "reg_mat = pearson_regressors(traces, regs.T).T"
   ]
  },
  {
   "cell_type": "code",
   "execution_count": 112,
   "id": "partial-valve",
   "metadata": {},
   "outputs": [
    {
     "data": {
      "application/vnd.jupyter.widget-view+json": {
       "model_id": "9d31b193d7d04121a5e26b852a689c78",
       "version_major": 2,
       "version_minor": 0
      },
      "text/plain": [
       "Canvas(toolbar=Toolbar(toolitems=[('Home', 'Reset original view', 'home', 'home'), ('Back', 'Back to previous …"
      ]
     },
     "metadata": {},
     "output_type": "display_data"
    },
    {
     "name": "stdout",
     "output_type": "stream",
     "text": [
      "0 0\n",
      "0 1\n",
      "1 0\n",
      "1 1\n"
     ]
    }
   ],
   "source": [
    "\n",
    "nm_row = 2\n",
    "nm_col = num_bins // nm_row\n",
    "fig_anatomy2, ax_anatomy2 = plt.subplots(nm_row, nm_col, figsize=fig_size)\n",
    "\n",
    "\n",
    "for i in range(num_bins):\n",
    "    r = i // nm_col\n",
    "    c = np.mod(i, nm_col)\n",
    "    print(r, c)\n",
    "    vmax = np.nanmax(reg_mat[:,i])\n",
    "    ax_anatomy2[r, c].scatter(coords[:, 1], coords[:, 2], c=reg_mat[:,i], cmap='coolwarm', s=3, vmin=-vmax, vmax=vmax)\n",
    "    ax_anatomy2[r, c].axis('off')\n",
    "sbar_len = np.round(np.shape(anat)[2] / 8) / 100\n",
    "file_name = 'heading_regressors_rois_' + str(num_bins) + '_' + fish_id + '.jpg'\n",
    "fig_anatomy2.savefig(path_save / file_name)\n",
    "\n"
   ]
  },
  {
   "cell_type": "code",
   "execution_count": 113,
   "id": "unlikely-seating",
   "metadata": {},
   "outputs": [
    {
     "data": {
      "application/vnd.jupyter.widget-view+json": {
       "model_id": "b03746592fa34a6daa890d6872743de3",
       "version_major": 2,
       "version_minor": 0
      },
      "text/plain": [
       "Canvas(toolbar=Toolbar(toolitems=[('Home', 'Reset original view', 'home', 'home'), ('Back', 'Back to previous …"
      ]
     },
     "metadata": {},
     "output_type": "display_data"
    },
    {
     "name": "stdout",
     "output_type": "stream",
     "text": [
      "0 0\n",
      "0 1\n",
      "1 0\n",
      "1 1\n"
     ]
    }
   ],
   "source": [
    "nm_row = 2\n",
    "nm_col = num_bins // nm_row\n",
    "fig_anatomy, ax_anatomy = plt.subplots(nm_row, nm_col, figsize=fig_size)\n",
    "\n",
    "\n",
    "try:\n",
    "    for i in range(num_bins):\n",
    "        r = i // nm_col\n",
    "        c = np.mod(i, nm_col)\n",
    "        print(r, c)\n",
    "\n",
    "        labels = reg_mat[:,i]\n",
    "        labels_fix = np.copy(reg_mat)\n",
    "        new_ind = np.where((labels > 0.1) | (labels < -0.1))\n",
    "        labels_fix = labels[new_ind]\n",
    "        coords_fix = coords[new_ind]\n",
    "\n",
    "        vmax = np.nanmax(labels_fix)\n",
    "        ax_anatomy[r, c].scatter(coords_fix[:, 1], coords_fix[:, 2], c=labels_fix, cmap='coolwarm', s=3, vmin=-vmax, vmax=vmax)\n",
    "        ax_anatomy[r, c].axis('off')\n",
    "        \n",
    "except:\n",
    "    pass\n",
    "    \n",
    "sbar_len = np.round(np.shape(anat)[2] / 8) / 100\n",
    "file_name = 'heading_regressors_rois_filt_' + str(num_bins) + '_' + fish_id + '.jpg'\n",
    "fig_anatomy.savefig(path_save / file_name)"
   ]
  },
  {
   "cell_type": "code",
   "execution_count": null,
   "id": "fifth-sitting",
   "metadata": {},
   "outputs": [],
   "source": []
  },
  {
   "cell_type": "code",
   "execution_count": 114,
   "id": "hungarian-drive",
   "metadata": {},
   "outputs": [
    {
     "data": {
      "text/plain": [
       "(7200, 2431)"
      ]
     },
     "execution_count": 114,
     "metadata": {},
     "output_type": "execute_result"
    }
   ],
   "source": [
    "# filter traces with negative correlation threshhold\n",
    "corrmat = np.corrcoef(traces.T)\n",
    "ng_corr_ind = np.unique(np.where(corrmat < -0.5)[0])\n",
    "corrmat_neg = corrmat[ng_corr_ind]\n",
    "traces_selected = traces[:, ng_corr_ind]\n",
    "np.shape(traces_selected)"
   ]
  },
  {
   "cell_type": "code",
   "execution_count": 115,
   "id": "least-aviation",
   "metadata": {},
   "outputs": [
    {
     "data": {
      "application/vnd.jupyter.widget-view+json": {
       "model_id": "17891b0c8aef4efbaaec31cce47c63d8",
       "version_major": 2,
       "version_minor": 0
      },
      "text/plain": [
       "Canvas(toolbar=Toolbar(toolitems=[('Home', 'Reset original view', 'home', 'home'), ('Back', 'Back to previous …"
      ]
     },
     "metadata": {},
     "output_type": "display_data"
    },
    {
     "name": "stdout",
     "output_type": "stream",
     "text": [
      "0 0\n",
      "0.5224888397706672\n",
      "0 1\n",
      "0.4235590297081664\n",
      "1 0\n",
      "0.4829447540673524\n",
      "1 1\n",
      "0.44905387263116975\n"
     ]
    }
   ],
   "source": [
    "nm_row = 2\n",
    "nm_col = num_bins // nm_row\n",
    "fig_anatomy3, ax_anatomy3 = plt.subplots(nm_row, nm_col, figsize=fig_size)\n",
    "\n",
    "\n",
    "for i in range(num_bins):\n",
    "    r = i // nm_col\n",
    "    c = np.mod(i, nm_col)\n",
    "    print(r, c)\n",
    "    \n",
    "    labels = reg_mat[:,i]\n",
    "    labels_fix = np.copy(reg_mat)\n",
    "    \n",
    "    labels_fix = labels[ng_corr_ind]\n",
    "    coords_fix = coords[ng_corr_ind]\n",
    "    vmax = np.nanmax(labels_fix)\n",
    "    print(vmax)\n",
    "    ax_anatomy3[r, c].scatter(coords_fix[:, 1], coords_fix[:, 2], c=labels_fix, cmap='coolwarm', s=3, vmin=-vmax, vmax=vmax)\n",
    "    ax_anatomy3[r, c].axis('off')\n",
    "sbar_len = np.round(np.shape(anat)[2] / 8) / 100\n",
    "file_name = 'spont_neg_corr_rois_filt_' + str(num_bins) + '_' + fish_id + '.jpg'\n",
    "fig_anatomy3.savefig(path / file_name)"
   ]
  },
  {
   "cell_type": "markdown",
   "id": "engaged-indication",
   "metadata": {},
   "source": [
    "# np.shape(traces)"
   ]
  },
  {
   "cell_type": "code",
   "execution_count": 116,
   "id": "widespread-commissioner",
   "metadata": {},
   "outputs": [],
   "source": [
    "############### autocorrelation time constant"
   ]
  },
  {
   "cell_type": "code",
   "execution_count": 117,
   "id": "united-contact",
   "metadata": {},
   "outputs": [],
   "source": [
    "def monoExp(x, m, t, b):\n",
    "    return m * np.exp(-t * x) + b"
   ]
  },
  {
   "cell_type": "code",
   "execution_count": 118,
   "id": "entitled-swimming",
   "metadata": {},
   "outputs": [],
   "source": [
    "try:\n",
    "    with open(path / \"*metadata.json\") as f:\n",
    "        metadata = json.load(f)\n",
    "\n",
    "    fs = int(metadata[\"imaging\"][\"microscope_config\"][\"lightsheet\"][\"scanning\"][\"z\"][\"frequency\"]) # sampling frequency\n",
    "except:\n",
    "    fs = 3"
   ]
  },
  {
   "cell_type": "code",
   "execution_count": 119,
   "id": "headed-playing",
   "metadata": {},
   "outputs": [
    {
     "name": "stdout",
     "output_type": "stream",
     "text": [
      "(7200, 16985)\n"
     ]
    },
    {
     "name": "stderr",
     "output_type": "stream",
     "text": [
      "C:\\Users\\lavian\\anaconda3\\envs\\rplab\\lib\\site-packages\\statsmodels\\tsa\\stattools.py:671: FutureWarning: fft=True will become the default after the release of the 0.12 release of statsmodels. To suppress this warning, explicitly set fft=False.\n",
      "  FutureWarning,\n"
     ]
    }
   ],
   "source": [
    "num_traces = np.shape(traces)[1]\n",
    "n_lags = 1000 # np.shape(traces)[0]\n",
    "M_all = traces\n",
    "print(np.shape(traces))\n",
    "AC_all = np.zeros((n_lags+1, num_traces))\n",
    "for i in range(num_traces):\n",
    "    ys =  sm.tsa.acf(M_all[:,i], nlags=n_lags)\n",
    "    AC_all[:, i] = ys"
   ]
  },
  {
   "cell_type": "code",
   "execution_count": 120,
   "id": "secondary-symposium",
   "metadata": {},
   "outputs": [
    {
     "data": {
      "application/vnd.jupyter.widget-view+json": {
       "model_id": "ef19bb2b7c6c43e6912d9c56a03fbde5",
       "version_major": 2,
       "version_minor": 0
      },
      "text/plain": [
       "Canvas(toolbar=Toolbar(toolitems=[('Home', 'Reset original view', 'home', 'home'), ('Back', 'Back to previous …"
      ]
     },
     "metadata": {},
     "output_type": "display_data"
    }
   ],
   "source": [
    "ac=sm.tsa.acf(traces[:, 300], nlags = n_lags)\n",
    "ac_len = len(ac)\n",
    "fig_ac, ax_ac = plt.subplots(2, 2, figsize=fig_size, gridspec_kw={'width_ratios': [3, 1]})\n",
    "\n",
    "for i in range(100):\n",
    "    ax_ac[0, 0].plot(AC_all[:, i])\n",
    "    ax_ac[0, 1].plot(AC_all[:200, i])\n",
    "\n",
    "ax_ac[1, 0].imshow(AC_all.T, cmap = 'coolwarm', aspect='auto')      \n",
    "ax_ac[1, 1].imshow(AC_all.T[:, :200], cmap = 'coolwarm', aspect='auto')      \n",
    "\n",
    "for i in range(2):\n",
    "    ax_ac[0, i].axis('off')\n",
    "    ax_ac[1, i].axis('off')\n",
    "    \n",
    "file_name = 'ac_tau_traces_' + fish_id + '.jpg'\n",
    "fig_ac.savefig(path_save / file_name)"
   ]
  },
  {
   "cell_type": "code",
   "execution_count": 121,
   "id": "preliminary-state",
   "metadata": {},
   "outputs": [
    {
     "name": "stderr",
     "output_type": "stream",
     "text": [
      "C:\\Users\\lavian\\anaconda3\\envs\\rplab\\lib\\site-packages\\statsmodels\\tsa\\stattools.py:671: FutureWarning: fft=True will become the default after the release of the 0.12 release of statsmodels. To suppress this warning, explicitly set fft=False.\n",
      "  FutureWarning,\n"
     ]
    },
    {
     "name": "stdout",
     "output_type": "stream",
     "text": [
      "26\n"
     ]
    }
   ],
   "source": [
    "\n",
    "All_ac = np.empty((len(ac),M_all.shape[1]))\n",
    "All_ac[:] = np.nan\n",
    "\n",
    "ac_len = 101\n",
    "xs = (1 / fs)*np.arange(ac_len)\n",
    "\n",
    "All_Tau =  np.empty((M_all.shape[1]))\n",
    "All_Tau[:] = np.nan\n",
    "\n",
    "All_mag =  np.empty((M_all.shape[1]))\n",
    "All_mag[:] = np.nan\n",
    "\n",
    "All_b =  np.empty((M_all.shape[1]))\n",
    "All_b[:] = np.nan\n",
    "\n",
    "\n",
    "error_count=0\n",
    "p0 = (1, .1, 0) # start with values near those we expect\n",
    "for i in range(M_all.shape[1]):\n",
    "    ys =  sm.tsa.acf(M_all[:,i], nlags=100)\n",
    "    try:\n",
    "        params, cv = scipy.optimize.curve_fit(monoExp, xs, ys, p0)\n",
    "        m, t, b = params    \n",
    "        All_mag[i] = m\n",
    "        All_b[i] = b\n",
    "        tauSec = (1 / t) / fs\n",
    "        All_Tau[i] = t\n",
    "    except:\n",
    "        All_Tau[i] = None\n",
    "        error_count += 1\n",
    "print(error_count)"
   ]
  },
  {
   "cell_type": "code",
   "execution_count": 122,
   "id": "national-compression",
   "metadata": {},
   "outputs": [
    {
     "data": {
      "application/vnd.jupyter.widget-view+json": {
       "model_id": "3f029609856d4aafb8a72ab974428b54",
       "version_major": 2,
       "version_minor": 0
      },
      "text/plain": [
       "Canvas(toolbar=Toolbar(toolitems=[('Home', 'Reset original view', 'home', 'home'), ('Back', 'Back to previous …"
      ]
     },
     "metadata": {},
     "output_type": "display_data"
    }
   ],
   "source": [
    "fig_anatomy4, ax_anatomy4 = plt.subplots(1, 4, figsize=(8, 2))\n",
    "lags = np.asarray([5, 10, 20, 50]) * fs\n",
    "\n",
    "for i in range(4):\n",
    "    ax_anatomy4[i].scatter(coords[:, 1], coords[:, 2], c=AC_all[lags[i], :], cmap='Greens', s=3, vmin=0, vmax=1)\n",
    "    ax_anatomy4[i].axis('off')\n",
    "    ax_anatomy4[i].set_title('lag ' + str(lags[i] // fs) + ' sec')\n",
    "\n",
    "file_name = 'ac_rois_corr_at_lag_' + fish_id + '.jpg'\n",
    "fig_anatomy4.savefig(path_save / file_name)"
   ]
  },
  {
   "cell_type": "code",
   "execution_count": null,
   "id": "opposed-outside",
   "metadata": {},
   "outputs": [],
   "source": []
  },
  {
   "cell_type": "code",
   "execution_count": 123,
   "id": "laden-incidence",
   "metadata": {},
   "outputs": [
    {
     "data": {
      "application/vnd.jupyter.widget-view+json": {
       "model_id": "7f77f7c69abd43d09b0e686e320fb530",
       "version_major": 2,
       "version_minor": 0
      },
      "text/plain": [
       "Canvas(toolbar=Toolbar(toolitems=[('Home', 'Reset original view', 'home', 'home'), ('Back', 'Back to previous …"
      ]
     },
     "metadata": {},
     "output_type": "display_data"
    }
   ],
   "source": [
    "fig_anatomy5, ax_anatomy5 = plt.subplots(1, 1, figsize=(3,3))\n",
    "ax_anatomy5.scatter(coords[:, 1], coords[:, 2], c=All_Tau, cmap='hot', s=3, vmin=0, vmax=0.4)\n",
    "ax_anatomy5.axis('off')\n",
    "\n",
    "file_name = 'ac_rois_tau_' + fish_id + '.jpg'\n",
    "fig_anatomy5.savefig(path_save / file_name)"
   ]
  },
  {
   "cell_type": "raw",
   "id": "destroyed-advance",
   "metadata": {},
   "source": [
    "All_Tau"
   ]
  },
  {
   "cell_type": "code",
   "execution_count": null,
   "id": "determined-intent",
   "metadata": {},
   "outputs": [],
   "source": []
  },
  {
   "cell_type": "code",
   "execution_count": null,
   "id": "automated-hanging",
   "metadata": {},
   "outputs": [],
   "source": []
  },
  {
   "cell_type": "code",
   "execution_count": null,
   "id": "gothic-briefs",
   "metadata": {},
   "outputs": [],
   "source": []
  },
  {
   "cell_type": "code",
   "execution_count": null,
   "id": "israeli-english",
   "metadata": {},
   "outputs": [],
   "source": [
    "                                        "
   ]
  },
  {
   "cell_type": "code",
   "execution_count": null,
   "id": "fundamental-airport",
   "metadata": {},
   "outputs": [],
   "source": []
  },
  {
   "cell_type": "code",
   "execution_count": null,
   "id": "angry-comfort",
   "metadata": {},
   "outputs": [],
   "source": []
  }
 ],
 "metadata": {
  "kernelspec": {
   "display_name": "Python 3",
   "language": "python",
   "name": "python3"
  },
  "language_info": {
   "codemirror_mode": {
    "name": "ipython",
    "version": 3
   },
   "file_extension": ".py",
   "mimetype": "text/x-python",
   "name": "python",
   "nbconvert_exporter": "python",
   "pygments_lexer": "ipython3",
   "version": "3.7.10"
  }
 },
 "nbformat": 4,
 "nbformat_minor": 5
}
