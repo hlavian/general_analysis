{
 "cells": [
  {
   "cell_type": "code",
   "execution_count": null,
   "id": "grand-found",
   "metadata": {},
   "outputs": [],
   "source": [
    "import matplotlib\n",
    "%matplotlib widget\n",
    "\n",
    "import numpy as np\n",
    "from split_dataset import SplitDataset\n",
    "from pathlib import Path\n",
    "import flammkuchen as fl\n",
    "import matplotlib.pyplot as plt \n",
    "\n",
    "from bouter.utilities import reliability \n",
    "from skimage.filters import threshold_otsu\n",
    "import xarray as xr\n",
    "from scipy.signal import detrend "
   ]
  },
  {
   "cell_type": "code",
   "execution_count": null,
   "id": "delayed-switzerland",
   "metadata": {},
   "outputs": [],
   "source": [
    "master = Path(r\"\\\\Funes\\Shared\\experiments\\E0040_motions_cardinal\\v13_cw_ccw\\2p\\rf\\fixed\")\n",
    "fish_list = list(master.glob(\"*f[0-9]*\"))\n",
    "fish_dir = fish_list[3]\n",
    "\n",
    "try:\n",
    "    with open(next(fish_dir.glob(\"*metadata.json\"))) as i:\n",
    "        metadata = json.load(i)\n",
    "    fish_id = metadata['general']['fish_id']\n",
    "except:\n",
    "    fish_id = \"\"\n",
    "print(fish_dir)\n",
    "print(fish_id)"
   ]
  },
  {
   "cell_type": "code",
   "execution_count": null,
   "id": "lonely-sheriff",
   "metadata": {},
   "outputs": [],
   "source": [
    "traces = fl.load(fish_dir / \"traces.h5\")['traces'][:, 0:-2]\n",
    "fs = 3\n",
    "t = np.arange(np.shape(traces)[1]) / fs\n",
    "num_traces, len_rec = np.shape(traces)\n",
    "print(\"num_traces: \", num_traces)\n",
    "print(\"len_rec: \", len_rec)\n",
    "new_len_rec = int(len_rec/3)"
   ]
  },
  {
   "cell_type": "code",
   "execution_count": null,
   "id": "alternate-potential",
   "metadata": {},
   "outputs": [],
   "source": [
    "norm_traces = np.copy(traces)\n",
    "norm_traces=norm_traces.T# need to transpose it since the functions work like that \n",
    "sd=np.nanstd(norm_traces)\n",
    "mean=np.nanmean(norm_traces)\n",
    "norm_traces=norm_traces-mean #numerator in the formula for z-score \n",
    "norm_traces=norm_traces/sd\n",
    "norm_traces=norm_traces.T"
   ]
  },
  {
   "cell_type": "code",
   "execution_count": null,
   "id": "olive-television",
   "metadata": {},
   "outputs": [],
   "source": [
    "#for i in range(num_traces):\n",
    "#    norm_traces[i] =  norm_traces[i] +np.linspace(0, 10, len_rec)"
   ]
  },
  {
   "cell_type": "code",
   "execution_count": null,
   "id": "special-reminder",
   "metadata": {},
   "outputs": [],
   "source": [
    "norm_traces[np.where(np.isnan(norm_traces))] = 0\n",
    "#corrected_traces = np.zeros_like(norm_traces)\n",
    "#for i in range(num_traces):\n",
    "#    corrected_traces[i] = detrend(norm_traces[i], overwrite_data=False, type='linear')\n",
    "corrected_traces = detrend(norm_traces, axis=1, overwrite_data=False, type='linear')\n",
    "fig, ax = plt.subplots(2, 1, figsize=(10,15))\n",
    "ax[0].imshow(norm_traces, aspect=\"auto\")\n",
    "ax[1].imshow(corrected_traces,  aspect=\"auto\")"
   ]
  },
  {
   "cell_type": "code",
   "execution_count": null,
   "id": "parental-association",
   "metadata": {},
   "outputs": [],
   "source": [
    "trial_traces = np.zeros((3, num_traces, new_len_rec))\n",
    "trial_traces = np.zeros((num_traces, 3, new_len_rec))\n",
    "trial_traces_corrected = np.zeros((num_traces, 3, new_len_rec))\n",
    "\n",
    "for i in range(3):\n",
    "    t1 = i * new_len_rec\n",
    "    t2 = t1 + new_len_rec\n",
    "    trial_traces[:, i] = traces[:, t1:t2]\n",
    "    trial_traces_corrected[:, i] = corrected_traces[:, t1:t2]\n",
    "avg_traces = np.nanmean(trial_traces_corrected, 1)\n",
    "print(np.shape(trial_traces))"
   ]
  },
  {
   "cell_type": "code",
   "execution_count": null,
   "id": "broken-pottery",
   "metadata": {},
   "outputs": [],
   "source": [
    "n_blocks = 3\n",
    "dt = 0.33\n",
    "traces_xr = xr.DataArray(\n",
    "    data=trial_traces,                               #Adding the data\n",
    "    dims=['roi', 'block', 't'],                #Defining name of the dimensions\n",
    "    coords={                                   #Defining values at which each dimension wase valuated\n",
    "        'roi':np.arange(trial_traces.shape[0]), \n",
    "        'block':np.arange(n_blocks),\n",
    "        't':np.arange(trial_traces.shape[2])*dt\n",
    "        }\n",
    "    )\n",
    "reliability_arr = reliability(np.swapaxes(traces_xr, 0, 2).values)\n",
    "rel_thresh = threshold_otsu(reliability_arr)\n",
    "print(\"Reliability threshold: \", rel_thresh)\n",
    "\n",
    "rel_thresh_3 = np.round(rel_thresh * 1000)\n",
    "rel_thresh_3 /=1000\n",
    "\n",
    "traces_xr_det = xr.DataArray(\n",
    "    data=trial_traces_corrected,                               #Adding the data\n",
    "    dims=['roi', 'block', 't'],                #Defining name of the dimensions\n",
    "    coords={                                   #Defining values at which each dimension wase valuated\n",
    "        'roi':np.arange(trial_traces_corrected.shape[0]), \n",
    "        'block':np.arange(n_blocks),\n",
    "        't':np.arange(trial_traces_corrected.shape[2])*dt\n",
    "        }\n",
    "    )\n",
    "reliability_arr_det = reliability(np.swapaxes(traces_xr_det, 0, 2).values)\n",
    "rel_thresh_det = threshold_otsu(reliability_arr_det)\n",
    "print(\"Reliability threshold: \", rel_thresh_det)\n",
    "\n",
    "rel_thresh_3_det = np.round(rel_thresh_det * 1000)\n",
    "rel_thresh_3_det /=1000\n",
    "print(np.shape(reliability_arr_det))"
   ]
  },
  {
   "cell_type": "code",
   "execution_count": null,
   "id": "compound-charger",
   "metadata": {},
   "outputs": [],
   "source": [
    "#Visualize\n",
    "fig, ax = plt.subplots(1, 2, figsize=(8,5))\n",
    "ax[0].hist(reliability_arr, bins=50, density=True);\n",
    "ax[0].axvline(rel_thresh, c='red', ls='--')\n",
    "\n",
    "ax[0].set_xlim([-1,1])\n",
    "ax[0].set_xlabel('Average correlation between reps')\n",
    "ax[0].set_ylabel('Density')\n",
    "ax[0].set_title(\"Reliability threshold: \" + str(rel_thresh_3))\n",
    "plt.tight_layout()\n",
    "\n",
    "ax[1].hist(reliability_arr_det, bins=50, density=True);\n",
    "ax[1].axvline(rel_thresh_det, c='red', ls='--')\n",
    "ax[1].set_xlim([-1,1])\n",
    "ax[1].set_xlabel('Average correlation between reps')\n",
    "ax[1].set_ylabel('Density')\n",
    "ax[1].set_title(\"Detrend, Reliability threshold: \" + str(rel_thresh_3_det))\n",
    "plt.tight_layout()\n",
    "\n",
    "file_name = \"reliability index \" + fish_id\n",
    "fig.savefig(str(fish_dir/file_name))"
   ]
  },
  {
   "cell_type": "code",
   "execution_count": null,
   "id": "speaking-observer",
   "metadata": {},
   "outputs": [],
   "source": [
    "## removing unreliable traces:\n",
    "\n",
    "ind_reliable = np.where(reliability_arr_det >= rel_thresh_3_det)\n",
    "print(np.shape(ind_reliable))\n",
    "num_reliable_traces = np.shape(ind_reliable)[1]\n",
    "reliable_traces = norm_traces.T[ind_reliable]\n",
    "print(np.shape(reliable_traces))"
   ]
  },
  {
   "cell_type": "code",
   "execution_count": null,
   "id": "loose-likelihood",
   "metadata": {},
   "outputs": [],
   "source": [
    "## save reliable traces:\n",
    "\n",
    "reliable_traces_save = "
   ]
  },
  {
   "cell_type": "code",
   "execution_count": null,
   "id": "narrative-flexibility",
   "metadata": {},
   "outputs": [],
   "source": [
    "all_rois = fl.load(merged_rois)\n",
    "reliable_rois = np,zeros_like(all_rois) \n",
    "new_count=1\n",
    "for i in range(0, num_traces):\n",
    "    if i is in ind_reliable:\n",
    "        reliable_rois[np.where(roi_map == (i))] = new_count\n",
    "        new_count += 1\n",
    "        \n",
    "reliable_rois_save = "
   ]
  }
 ],
 "metadata": {
  "kernelspec": {
   "display_name": "Python 3 (ipykernel)",
   "language": "python",
   "name": "python3"
  },
  "language_info": {
   "codemirror_mode": {
    "name": "ipython",
    "version": 3
   },
   "file_extension": ".py",
   "mimetype": "text/x-python",
   "name": "python",
   "nbconvert_exporter": "python",
   "pygments_lexer": "ipython3",
   "version": "3.7.10"
  }
 },
 "nbformat": 4,
 "nbformat_minor": 5
}
