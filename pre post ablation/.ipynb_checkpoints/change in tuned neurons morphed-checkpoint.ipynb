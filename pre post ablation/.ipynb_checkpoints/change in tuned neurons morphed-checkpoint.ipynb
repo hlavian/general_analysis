{
 "cells": [
  {
   "cell_type": "code",
   "execution_count": 1,
   "id": "fa74e05f-e446-4f68-be0d-9a5876507c66",
   "metadata": {},
   "outputs": [],
   "source": [
    "%matplotlib widget"
   ]
  },
  {
   "cell_type": "code",
   "execution_count": 31,
   "id": "c85159ae-01b8-4d75-be6f-95f1897bc359",
   "metadata": {},
   "outputs": [],
   "source": [
    "import matplotlib.pyplot as plt\n",
    "import numpy as np\n",
    "from pathlib import Path\n",
    "import flammkuchen as fl\n",
    "\n",
    "from glob import glob\n",
    "import pandas as pd\n",
    "from bouter import Experiment\n",
    "import colorspacious\n",
    "import json\n",
    "from scipy import stats"
   ]
  },
  {
   "cell_type": "code",
   "execution_count": 3,
   "id": "1e896c30-45af-4f9f-b342-a5f57bbcc461",
   "metadata": {},
   "outputs": [],
   "source": [
    "master_pre = Path(r\"Z:\\Hagar\\E0040\\v31\\pre ablation\")\n",
    "pre_list = list(master_pre.glob(\"*_f*\"))\n",
    "\n",
    "master_post = Path(r\"Z:\\Hagar\\E0040\\v31\\post ablation 2d\")\n",
    "post_list = list(master_post.glob(\"*_f*\"))\n",
    "\n",
    "num_fish = len(pre_list)"
   ]
  },
  {
   "cell_type": "code",
   "execution_count": 119,
   "id": "a22ab998-ada5-4eab-85c4-0e9ddcbf6276",
   "metadata": {},
   "outputs": [
    {
     "data": {
      "application/vnd.jupyter.widget-view+json": {
       "model_id": "8f4c35b6c677416aa6741d033fa38469",
       "version_major": 2,
       "version_minor": 0
      },
      "text/plain": [
       "Canvas(toolbar=Toolbar(toolitems=[('Home', 'Reset original view', 'home', 'home'), ('Back', 'Back to previous …"
      ]
     },
     "metadata": {},
     "output_type": "display_data"
    },
    {
     "name": "stdout",
     "output_type": "stream",
     "text": [
      "0\n",
      "4\n",
      "0\n",
      "4\n"
     ]
    },
    {
     "data": {
      "application/vnd.jupyter.widget-view+json": {
       "model_id": "5bf6887f28a540eebbf8c8b96fa193c3",
       "version_major": 2,
       "version_minor": 0
      },
      "text/plain": [
       "Canvas(toolbar=Toolbar(toolitems=[('Home', 'Reset original view', 'home', 'home'), ('Back', 'Back to previous …"
      ]
     },
     "metadata": {},
     "output_type": "display_data"
    },
    {
     "name": "stdout",
     "output_type": "stream",
     "text": [
      "0\n",
      "4\n",
      "0\n",
      "4\n"
     ]
    },
    {
     "data": {
      "application/vnd.jupyter.widget-view+json": {
       "model_id": "c7efdacd2fd44fa9babd2bb538d0b162",
       "version_major": 2,
       "version_minor": 0
      },
      "text/plain": [
       "Canvas(toolbar=Toolbar(toolitems=[('Home', 'Reset original view', 'home', 'home'), ('Back', 'Back to previous …"
      ]
     },
     "metadata": {},
     "output_type": "display_data"
    },
    {
     "name": "stdout",
     "output_type": "stream",
     "text": [
      "0\n",
      "4\n",
      "0\n",
      "4\n"
     ]
    },
    {
     "data": {
      "application/vnd.jupyter.widget-view+json": {
       "model_id": "016894d31937461f87f7255e9b0e68e2",
       "version_major": 2,
       "version_minor": 0
      },
      "text/plain": [
       "Canvas(toolbar=Toolbar(toolitems=[('Home', 'Reset original view', 'home', 'home'), ('Back', 'Back to previous …"
      ]
     },
     "metadata": {},
     "output_type": "display_data"
    },
    {
     "name": "stdout",
     "output_type": "stream",
     "text": [
      "0\n",
      "4\n",
      "0\n",
      "4\n"
     ]
    },
    {
     "data": {
      "application/vnd.jupyter.widget-view+json": {
       "model_id": "836560e4f16b40a4b277996b5026aad0",
       "version_major": 2,
       "version_minor": 0
      },
      "text/plain": [
       "Canvas(toolbar=Toolbar(toolitems=[('Home', 'Reset original view', 'home', 'home'), ('Back', 'Back to previous …"
      ]
     },
     "metadata": {},
     "output_type": "display_data"
    },
    {
     "name": "stdout",
     "output_type": "stream",
     "text": [
      "0\n",
      "4\n",
      "0\n",
      "4\n"
     ]
    },
    {
     "data": {
      "application/vnd.jupyter.widget-view+json": {
       "model_id": "9aa629992d4e490f9f851f774123bbee",
       "version_major": 2,
       "version_minor": 0
      },
      "text/plain": [
       "Canvas(toolbar=Toolbar(toolitems=[('Home', 'Reset original view', 'home', 'home'), ('Back', 'Back to previous …"
      ]
     },
     "metadata": {},
     "output_type": "display_data"
    },
    {
     "name": "stdout",
     "output_type": "stream",
     "text": [
      "0\n",
      "4\n",
      "0\n",
      "4\n"
     ]
    },
    {
     "data": {
      "application/vnd.jupyter.widget-view+json": {
       "model_id": "2c860119c882478b907417bf59df9ba2",
       "version_major": 2,
       "version_minor": 0
      },
      "text/plain": [
       "Canvas(toolbar=Toolbar(toolitems=[('Home', 'Reset original view', 'home', 'home'), ('Back', 'Back to previous …"
      ]
     },
     "metadata": {},
     "output_type": "display_data"
    },
    {
     "name": "stdout",
     "output_type": "stream",
     "text": [
      "0\n",
      "4\n",
      "0\n",
      "4\n"
     ]
    }
   ],
   "source": [
    "##### make a nice tuning plot \n",
    "for fish in range(num_fish):\n",
    "    # Generating the figure: \n",
    "    fig, axs = plt.subplots(2, 8, figsize=(15, 5), gridspec_kw={'width_ratios': [6, 2, 6, 2, 6, 2, 6, 2], 'height_ratios': [1, 3]})\n",
    "    \n",
    "    \n",
    "    #### for pre\n",
    "    pre_fish = pre_list[fish]\n",
    "    exp = Experiment(pre_fish)\n",
    "    fish_id = exp.fish_id\n",
    "    \n",
    "    with open(next(Path(pre_fish).glob(\"*metadata.json\")), \"r\") as f:\n",
    "        metadata = json.load(f)\n",
    "    lsconfig = metadata[\"imaging\"][\"microscope_config\"]['lightsheet']['scanning']\n",
    "    z_tot_span = lsconfig[\"z\"][\"piezo_max\"] - lsconfig[\"z\"][\"piezo_min\"]\n",
    "    n_planes = lsconfig[\"triggering\"][\"n_planes\"]\n",
    "    z_res = z_tot_span / n_planes\n",
    "\n",
    "    suite2p_brain = fl.load(pre_fish / \"data_from_suite2p_cells_brain.h5\")\n",
    "    in_brain_idx = suite2p_brain['coords_idx']\n",
    "    num_traces = np.shape(in_brain_idx)[0]\n",
    "    traces = fl.load(pre_fish / \"filtered_traces.h5\", \"/detr\")[:, in_brain_idx]\n",
    "    \n",
    "    coords = fl.load(pre_fish / \"data_from_suite2p_cells.h5\", \"/coords\")[in_brain_idx]\n",
    "    \n",
    "    sensory_regressors = fl.load(pre_fish / \"sensory_regressors.h5\", \"/regressors\")\n",
    "    \n",
    "    for direction in [0, 4]:\n",
    "        print(direction)\n",
    "        current_dir = np.asarray(sensory_regressors.iloc[:, direction])\n",
    "        num_traces = np.shape(traces)[1]\n",
    "\n",
    "        reg_corr = np.zeros((num_traces))\n",
    "        for i in range(num_traces):\n",
    "            reg_corr[i] = np.corrcoef(current_dir, traces[:, i])[0,1]\n",
    "\n",
    "        mp_ind = np.argsort(np.abs(reg_corr))\n",
    "\n",
    "        axs[1,direction].scatter(coords[mp_ind,2]*0.6, coords[mp_ind,1]*.6, c=reg_corr[mp_ind], s=2, alpha=0.8, cmap='coolwarm', vmin=-1, vmax=1)\n",
    "        axs[1,direction+1].scatter(coords[mp_ind,0]*z_res, coords[mp_ind,1]*0.6, c=reg_corr[mp_ind], s=2, alpha=0.8, cmap='coolwarm', vmin=-1, vmax=1)\n",
    "        axs[0,direction].scatter(coords[mp_ind,2]*0.6, coords[mp_ind,0]*z_res, c=reg_corr[mp_ind], s=2, alpha=0.8, cmap='coolwarm', vmin=-1, vmax=1)\n",
    "\n",
    "        axs[0,direction].spines['right'].set_visible(False)\n",
    "        axs[0,direction].spines['top'].set_visible(False)\n",
    "\n",
    "        axs[1,direction+1].spines['right'].set_visible(False)\n",
    "        axs[1,direction+1].spines['top'].set_visible(False)\n",
    "\n",
    "        axs[1,direction].spines['right'].set_visible(False)\n",
    "        axs[1,direction].spines['top'].set_visible(False)\n",
    "        \n",
    "        axs[0,direction+1].axis('off')\n",
    "        axs[1,direction].axis('off')\n",
    "        axs[1,direction+1].axis('off')\n",
    "        \n",
    "        if direction > 0:\n",
    "            axs[0,direction].axis('off')\n",
    "            \n",
    "        \n",
    "        \n",
    "    #### for post\n",
    "    post_fish = post_list[fish]\n",
    "    \n",
    "    with open(next(Path(post_fish).glob(\"*metadata.json\")), \"r\") as f:\n",
    "        metadata = json.load(f)\n",
    "    lsconfig = metadata[\"imaging\"][\"microscope_config\"]['lightsheet']['scanning']\n",
    "    z_tot_span = lsconfig[\"z\"][\"piezo_max\"] - lsconfig[\"z\"][\"piezo_min\"]\n",
    "    n_planes = lsconfig[\"triggering\"][\"n_planes\"]\n",
    "    z_res = z_tot_span / n_planes\n",
    "\n",
    "    suite2p_brain = fl.load(post_fish / \"data_from_suite2p_cells_brain.h5\")\n",
    "    in_brain_idx = suite2p_brain['coords_idx']\n",
    "    num_traces = np.shape(in_brain_idx)[0]\n",
    "    traces = fl.load(post_fish / \"filtered_traces.h5\", \"/detr\")[:, in_brain_idx]\n",
    "    coords = fl.load(post_fish / \"data_from_suite2p_cells.h5\", \"/coords\")[in_brain_idx]\n",
    "    \n",
    "    sensory_regressors = fl.load(post_fish / \"sensory_regressors.h5\", \"/regressors\")\n",
    "    \n",
    "    for direction in [0, 4]:\n",
    "        print(direction)\n",
    "        current_dir = np.asarray(sensory_regressors.iloc[:, direction])\n",
    "        num_traces = np.shape(traces)[1]\n",
    "\n",
    "        reg_corr = np.zeros((num_traces))\n",
    "        for i in range(num_traces):\n",
    "            reg_corr[i] = np.corrcoef(current_dir, traces[:, i])[0,1]\n",
    "\n",
    "        mp_ind = np.argsort(np.abs(reg_corr))\n",
    "        \n",
    "        \n",
    "        axs[1,direction+2].scatter(coords[mp_ind,2]*0.6, coords[mp_ind,1]*.6, c=reg_corr[mp_ind], s=2, alpha=0.8, cmap='coolwarm', vmin=-1, vmax=1)\n",
    "        axs[1,direction+1+2].scatter(coords[mp_ind,0]*z_res, coords[mp_ind,1]*0.6, c=reg_corr[mp_ind], s=2, alpha=0.8, cmap='coolwarm', vmin=-1, vmax=1)\n",
    "        axs[0,direction+2].scatter(coords[mp_ind,2]*0.6, coords[mp_ind,0]*z_res, c=reg_corr[mp_ind], s=2, alpha=0.8, cmap='coolwarm', vmin=-1, vmax=1)\n",
    "\n",
    "        axs[0,direction+2].spines['right'].set_visible(False)\n",
    "        axs[0,direction+2].spines['top'].set_visible(False)\n",
    "\n",
    "        axs[1,direction+1+2].spines['right'].set_visible(False)\n",
    "        axs[1,direction+1+2].spines['top'].set_visible(False)\n",
    "\n",
    "        axs[1,direction+2].spines['right'].set_visible(False)\n",
    "        axs[1,direction+2].spines['top'].set_visible(False)\n",
    "\n",
    "        axs[0,direction+1+2].axis('off')\n",
    "        axs[1,direction+1+2].axis('off')\n",
    "        axs[0,direction+2].axis('off')\n",
    "        axs[1,direction+2].axis('off')\n",
    "    \n",
    "    axs[0,0].set_title('Right (pre)')\n",
    "    axs[0,2].set_title('Right (post)')\n",
    "    axs[0,4].set_title('Left (pre)')\n",
    "    axs[0,6].set_title('Left (post)')\n",
    "    \n",
    "    fig.suptitle(fish_id)\n",
    "    fig.subplots_adjust(left=0.05, wspace=0.1)\n",
    "    file_name = \"corr map pre and post \" + fish_id + \".jpg\"\n",
    "    fig.savefig(pre_fish / file_name, dpi=300)\n",
    "    file_name = \"corr map pre and post \" + fish_id + \".pdf\"\n",
    "    fig.savefig(pre_fish / file_name, dpi=300)"
   ]
  },
  {
   "cell_type": "code",
   "execution_count": null,
   "id": "131e15c1-71d1-4ef6-a4ce-08ca3d42cb7c",
   "metadata": {},
   "outputs": [],
   "source": []
  },
  {
   "cell_type": "code",
   "execution_count": null,
   "id": "15a5a2b3-cd91-41ed-a1e4-cefc53a8392d",
   "metadata": {},
   "outputs": [],
   "source": []
  },
  {
   "cell_type": "code",
   "execution_count": null,
   "id": "696c62f8-1ac8-433b-82b4-7f995519e912",
   "metadata": {},
   "outputs": [],
   "source": []
  },
  {
   "cell_type": "code",
   "execution_count": 124,
   "id": "4503eef1-82e5-4245-82f4-ec1e10b9bb4d",
   "metadata": {},
   "outputs": [
    {
     "data": {
      "application/vnd.jupyter.widget-view+json": {
       "model_id": "bd2b7a93d5dc4b6f9c1a3267bbaaa2ca",
       "version_major": 2,
       "version_minor": 0
      },
      "text/plain": [
       "Canvas(toolbar=Toolbar(toolitems=[('Home', 'Reset original view', 'home', 'home'), ('Back', 'Back to previous …"
      ]
     },
     "metadata": {},
     "output_type": "display_data"
    },
    {
     "name": "stdout",
     "output_type": "stream",
     "text": [
      "0\n",
      "4\n",
      "0\n",
      "4\n"
     ]
    },
    {
     "data": {
      "application/vnd.jupyter.widget-view+json": {
       "model_id": "198b45aa5711419e9d6c39a6ab0ae9d7",
       "version_major": 2,
       "version_minor": 0
      },
      "text/plain": [
       "Canvas(toolbar=Toolbar(toolitems=[('Home', 'Reset original view', 'home', 'home'), ('Back', 'Back to previous …"
      ]
     },
     "metadata": {},
     "output_type": "display_data"
    },
    {
     "name": "stdout",
     "output_type": "stream",
     "text": [
      "0\n",
      "4\n",
      "0\n",
      "4\n"
     ]
    },
    {
     "data": {
      "application/vnd.jupyter.widget-view+json": {
       "model_id": "12ad6c8057304d048138dacc1318b1fe",
       "version_major": 2,
       "version_minor": 0
      },
      "text/plain": [
       "Canvas(toolbar=Toolbar(toolitems=[('Home', 'Reset original view', 'home', 'home'), ('Back', 'Back to previous …"
      ]
     },
     "metadata": {},
     "output_type": "display_data"
    },
    {
     "name": "stdout",
     "output_type": "stream",
     "text": [
      "0\n",
      "4\n",
      "0\n",
      "4\n"
     ]
    },
    {
     "data": {
      "application/vnd.jupyter.widget-view+json": {
       "model_id": "db4c0b815b7f4c809aa04a4c29b0ec4b",
       "version_major": 2,
       "version_minor": 0
      },
      "text/plain": [
       "Canvas(toolbar=Toolbar(toolitems=[('Home', 'Reset original view', 'home', 'home'), ('Back', 'Back to previous …"
      ]
     },
     "metadata": {},
     "output_type": "display_data"
    },
    {
     "name": "stdout",
     "output_type": "stream",
     "text": [
      "0\n",
      "4\n",
      "0\n",
      "4\n"
     ]
    },
    {
     "data": {
      "application/vnd.jupyter.widget-view+json": {
       "model_id": "5289058e9c5b499ba215270ae464b18e",
       "version_major": 2,
       "version_minor": 0
      },
      "text/plain": [
       "Canvas(toolbar=Toolbar(toolitems=[('Home', 'Reset original view', 'home', 'home'), ('Back', 'Back to previous …"
      ]
     },
     "metadata": {},
     "output_type": "display_data"
    },
    {
     "name": "stdout",
     "output_type": "stream",
     "text": [
      "0\n",
      "4\n",
      "0\n",
      "4\n"
     ]
    },
    {
     "data": {
      "application/vnd.jupyter.widget-view+json": {
       "model_id": "daa988f4d20d4635b8f726349f25c4dc",
       "version_major": 2,
       "version_minor": 0
      },
      "text/plain": [
       "Canvas(toolbar=Toolbar(toolitems=[('Home', 'Reset original view', 'home', 'home'), ('Back', 'Back to previous …"
      ]
     },
     "metadata": {},
     "output_type": "display_data"
    },
    {
     "name": "stdout",
     "output_type": "stream",
     "text": [
      "0\n",
      "4\n",
      "0\n",
      "4\n"
     ]
    },
    {
     "data": {
      "application/vnd.jupyter.widget-view+json": {
       "model_id": "dacbc701474a4ec28bf86ce7b187df98",
       "version_major": 2,
       "version_minor": 0
      },
      "text/plain": [
       "Canvas(toolbar=Toolbar(toolitems=[('Home', 'Reset original view', 'home', 'home'), ('Back', 'Back to previous …"
      ]
     },
     "metadata": {},
     "output_type": "display_data"
    },
    {
     "name": "stdout",
     "output_type": "stream",
     "text": [
      "0\n",
      "4\n",
      "0\n",
      "4\n"
     ]
    }
   ],
   "source": [
    "##### make a nice tuning plot - morphed data \n",
    "for fish in range(num_fish):\n",
    "    # Generating the figure: \n",
    "    fig, axs = plt.subplots(2, 8, figsize=(15, 5), gridspec_kw={'width_ratios': [6, 2, 6, 2, 6, 2, 6, 2], 'height_ratios': [1, 3]})\n",
    "    \n",
    "    \n",
    "    #### for pre\n",
    "    pre_fish = pre_list[fish]\n",
    "    exp = Experiment(pre_fish)\n",
    "    fish_id = exp.fish_id\n",
    "    \n",
    "    with open(next(Path(pre_fish).glob(\"*metadata.json\")), \"r\") as f:\n",
    "        metadata = json.load(f)\n",
    "    lsconfig = metadata[\"imaging\"][\"microscope_config\"]['lightsheet']['scanning']\n",
    "    z_tot_span = lsconfig[\"z\"][\"piezo_max\"] - lsconfig[\"z\"][\"piezo_min\"]\n",
    "    n_planes = lsconfig[\"triggering\"][\"n_planes\"]\n",
    "    z_res = z_tot_span / n_planes\n",
    "    res = [z_res, 0.6, 0.6]\n",
    "    \n",
    "    suite2p_brain = fl.load(pre_fish / \"data_from_suite2p_cells_brain.h5\")\n",
    "    in_brain_idx = suite2p_brain['coords_idx']\n",
    "    num_traces = np.shape(in_brain_idx)[0]\n",
    "    traces = fl.load(pre_fish / \"filtered_traces.h5\", \"/detr\")[:, in_brain_idx]\n",
    "    \n",
    "    #coords = fl.load(post_fish / \"data_from_suite2p_cells.h5\", \"/coords\")[in_brain_idx]\n",
    "    coords = fl.load(pre_fish / 'registration' / \"mov_coords_transformed.h5\")[in_brain_idx]\n",
    "    \n",
    "    sensory_regressors = fl.load(pre_fish / \"sensory_regressors.h5\", \"/regressors\")\n",
    "    \n",
    "    for direction in [0, 4]:\n",
    "        print(direction)\n",
    "        current_dir = np.asarray(sensory_regressors.iloc[:, direction])\n",
    "        num_traces = np.shape(traces)[1]\n",
    "\n",
    "        reg_corr = np.zeros((num_traces))\n",
    "        for i in range(num_traces):\n",
    "            reg_corr[i] = np.corrcoef(current_dir, traces[:, i])[0,1]\n",
    "\n",
    "        mp_ind = np.argsort(np.abs(reg_corr))\n",
    "\n",
    "        # horizontal\n",
    "        axs[1,direction].scatter(coords[mp_ind,0]*res[0], coords[mp_ind,1]*res[1], c=reg_corr[mp_ind], s=2, alpha=0.8, cmap='coolwarm', vmin=-1, vmax=1)\n",
    "        # sagittal\n",
    "        axs[1,direction+1].scatter(coords[mp_ind,2]*res[2], coords[mp_ind,1]*res[1], c=reg_corr[mp_ind], s=2, alpha=0.8, cmap='coolwarm', vmin=-1, vmax=1)\n",
    "        # frontal\n",
    "        axs[0,direction].scatter(coords[mp_ind,0]*res[0], coords[mp_ind,2]*res[2], c=reg_corr[mp_ind], s=2, alpha=0.8, cmap='coolwarm', vmin=-1, vmax=1)\n",
    "\n",
    "        axs[0,direction].spines['right'].set_visible(False)\n",
    "        axs[0,direction].spines['top'].set_visible(False)\n",
    "\n",
    "        axs[1,direction+1].spines['right'].set_visible(False)\n",
    "        axs[1,direction+1].spines['top'].set_visible(False)\n",
    "\n",
    "        axs[1,direction].spines['right'].set_visible(False)\n",
    "        axs[1,direction].spines['top'].set_visible(False)\n",
    "\n",
    "        axs[0,direction+1].axis('off')\n",
    "        \n",
    "        axs[1,direction].invert_yaxis()\n",
    "        axs[1,direction+1].invert_yaxis()\n",
    "        \n",
    "    #### for post\n",
    "    post_fish = post_list[fish]\n",
    "    \n",
    "    with open(next(Path(post_fish).glob(\"*metadata.json\")), \"r\") as f:\n",
    "        metadata = json.load(f)\n",
    "    lsconfig = metadata[\"imaging\"][\"microscope_config\"]['lightsheet']['scanning']\n",
    "    z_tot_span = lsconfig[\"z\"][\"piezo_max\"] - lsconfig[\"z\"][\"piezo_min\"]\n",
    "    n_planes = lsconfig[\"triggering\"][\"n_planes\"]\n",
    "    z_res = z_tot_span / n_planes\n",
    "\n",
    "    suite2p_brain = fl.load(post_fish / \"data_from_suite2p_cells_brain.h5\")\n",
    "    in_brain_idx = suite2p_brain['coords_idx']\n",
    "    num_traces = np.shape(in_brain_idx)[0]\n",
    "    traces = fl.load(post_fish / \"filtered_traces.h5\", \"/detr\")[:, in_brain_idx]\n",
    "    #coords = fl.load(post_fish / \"data_from_suite2p_cells.h5\", \"/coords\")[in_brain_idx]\n",
    "    coords = fl.load(post_fish / 'registration' / \"mov_coords_transformed.h5\")[in_brain_idx]\n",
    "    \n",
    "    sensory_regressors = fl.load(post_fish / \"sensory_regressors.h5\", \"/regressors\")\n",
    "    \n",
    "    for direction in [0, 4]:\n",
    "        print(direction)\n",
    "        current_dir = np.asarray(sensory_regressors.iloc[:, direction])\n",
    "        num_traces = np.shape(traces)[1]\n",
    "\n",
    "        reg_corr = np.zeros((num_traces))\n",
    "        for i in range(num_traces):\n",
    "            reg_corr[i] = np.corrcoef(current_dir, traces[:, i])[0,1]\n",
    "\n",
    "        mp_ind = np.argsort(np.abs(reg_corr))\n",
    "        \n",
    "        # horizontal\n",
    "        axs[1,direction+2].scatter(coords[mp_ind,0]*res[0], coords[mp_ind,1]*res[1], c=reg_corr[mp_ind], s=2, alpha=0.8, cmap='coolwarm', vmin=-1, vmax=1)\n",
    "        # sagittal\n",
    "        axs[1,direction+1+2].scatter(coords[mp_ind,2]*res[2], coords[mp_ind,1]*res[1], c=reg_corr[mp_ind], s=2, alpha=0.8, cmap='coolwarm', vmin=-1, vmax=1)\n",
    "        # frontal\n",
    "        axs[0,direction+2].scatter(coords[mp_ind,0]*res[0], coords[mp_ind,2]*res[2], c=reg_corr[mp_ind], s=2, alpha=0.8, cmap='coolwarm', vmin=-1, vmax=1)\n",
    "\n",
    "        axs[0,direction+2].spines['right'].set_visible(False)\n",
    "        axs[0,direction+2].spines['top'].set_visible(False)\n",
    "\n",
    "        axs[1,direction+1+2].spines['right'].set_visible(False)\n",
    "        axs[1,direction+1+2].spines['top'].set_visible(False)\n",
    "\n",
    "        axs[1,direction+2].spines['right'].set_visible(False)\n",
    "        axs[1,direction+2].spines['top'].set_visible(False)\n",
    "\n",
    "        axs[0,direction+1+2].axis('off')\n",
    "        axs[1,direction+2].invert_yaxis()\n",
    "        axs[1,direction+1+2].invert_yaxis()\n",
    "        \n",
    "    \n",
    "    axs[0,0].set_title('Right (pre)')\n",
    "    axs[0,2].set_title('Right (post)')\n",
    "    axs[0,4].set_title('Left (pre)')\n",
    "    axs[0,6].set_title('Left (post)')\n",
    "    \n",
    "    fig.suptitle(fish_id)\n",
    "    fig.subplots_adjust(left=0.05, wspace=0.3)\n",
    "    file_name = \"corr map pre and post morphed\" + fish_id + \".jpg\"\n",
    "    fig.savefig(pre_fish / file_name, dpi=300)\n",
    "    file_name = \"corr map pre and post morphed\" + fish_id + \".pdf\"\n",
    "    fig.savefig(pre_fish / file_name, dpi=300)"
   ]
  },
  {
   "cell_type": "code",
   "execution_count": null,
   "id": "7d7b3f84-b2c0-4b06-9348-76a4d304af54",
   "metadata": {},
   "outputs": [],
   "source": []
  },
  {
   "cell_type": "code",
   "execution_count": null,
   "id": "b7786306-e61a-4292-a63f-3881772d58ef",
   "metadata": {},
   "outputs": [],
   "source": []
  },
  {
   "cell_type": "code",
   "execution_count": null,
   "id": "f834513b-7cd5-4ff6-a53c-cb6c996488bf",
   "metadata": {},
   "outputs": [],
   "source": [
    "###### make a figure showing the drop per fish"
   ]
  },
  {
   "cell_type": "code",
   "execution_count": 68,
   "id": "869cca72-7bf4-41c5-b05b-210cd114f64a",
   "metadata": {},
   "outputs": [],
   "source": [
    "regions = ['habenula', 'left_habenula', 'aHB', 'IPN']\n",
    "num_regions = 4\n",
    "thresh = 0.33\n",
    "n_tuned_pre = np.zeros((num_regions, num_fish)) # habenula, aHB, IPN\n",
    "n_neurons_pre = np.zeros((num_regions, num_fish)) # habenula, aHB, IPN\n",
    "n_tuned_post = np.zeros((num_regions, num_fish)) # habenula, aHB, IPN\n",
    "n_neurons_post = np.zeros((num_regions, num_fish)) # habenula, aHB, IPN"
   ]
  },
  {
   "cell_type": "code",
   "execution_count": 69,
   "id": "3668633e-9e7a-486d-8d34-fddf1da49f43",
   "metadata": {},
   "outputs": [
    {
     "data": {
      "application/vnd.jupyter.widget-view+json": {
       "model_id": "510b9e6092834ed983a06a3e8401521b",
       "version_major": 2,
       "version_minor": 0
      },
      "text/plain": [
       "Canvas(toolbar=Toolbar(toolitems=[('Home', 'Reset original view', 'home', 'home'), ('Back', 'Back to previous …"
      ]
     },
     "metadata": {},
     "output_type": "display_data"
    },
    {
     "name": "stdout",
     "output_type": "stream",
     "text": [
      "230424_f0\n",
      "habenula\n",
      "left_habenula\n",
      "aHB\n",
      "IPN\n",
      "habenula\n"
     ]
    },
    {
     "name": "stderr",
     "output_type": "stream",
     "text": [
      "No handles with labels found to put in legend.\n"
     ]
    },
    {
     "name": "stdout",
     "output_type": "stream",
     "text": [
      "left_habenula\n"
     ]
    },
    {
     "name": "stderr",
     "output_type": "stream",
     "text": [
      "No handles with labels found to put in legend.\n"
     ]
    },
    {
     "name": "stdout",
     "output_type": "stream",
     "text": [
      "aHB\n"
     ]
    },
    {
     "name": "stderr",
     "output_type": "stream",
     "text": [
      "No handles with labels found to put in legend.\n"
     ]
    },
    {
     "name": "stdout",
     "output_type": "stream",
     "text": [
      "IPN\n"
     ]
    },
    {
     "name": "stderr",
     "output_type": "stream",
     "text": [
      "No handles with labels found to put in legend.\n"
     ]
    },
    {
     "name": "stdout",
     "output_type": "stream",
     "text": [
      "230424_f1\n",
      "habenula\n",
      "left_habenula\n",
      "aHB\n",
      "IPN\n",
      "habenula\n"
     ]
    },
    {
     "name": "stderr",
     "output_type": "stream",
     "text": [
      "No handles with labels found to put in legend.\n"
     ]
    },
    {
     "name": "stdout",
     "output_type": "stream",
     "text": [
      "left_habenula\n"
     ]
    },
    {
     "name": "stderr",
     "output_type": "stream",
     "text": [
      "No handles with labels found to put in legend.\n"
     ]
    },
    {
     "name": "stdout",
     "output_type": "stream",
     "text": [
      "aHB\n"
     ]
    },
    {
     "name": "stderr",
     "output_type": "stream",
     "text": [
      "No handles with labels found to put in legend.\n"
     ]
    },
    {
     "name": "stdout",
     "output_type": "stream",
     "text": [
      "IPN\n"
     ]
    },
    {
     "name": "stderr",
     "output_type": "stream",
     "text": [
      "No handles with labels found to put in legend.\n"
     ]
    },
    {
     "name": "stdout",
     "output_type": "stream",
     "text": [
      "230424_f2\n",
      "habenula\n",
      "left_habenula\n",
      "aHB\n",
      "IPN\n",
      "habenula\n"
     ]
    },
    {
     "name": "stderr",
     "output_type": "stream",
     "text": [
      "No handles with labels found to put in legend.\n"
     ]
    },
    {
     "name": "stdout",
     "output_type": "stream",
     "text": [
      "left_habenula\n"
     ]
    },
    {
     "name": "stderr",
     "output_type": "stream",
     "text": [
      "No handles with labels found to put in legend.\n"
     ]
    },
    {
     "name": "stdout",
     "output_type": "stream",
     "text": [
      "aHB\n"
     ]
    },
    {
     "name": "stderr",
     "output_type": "stream",
     "text": [
      "No handles with labels found to put in legend.\n"
     ]
    },
    {
     "name": "stdout",
     "output_type": "stream",
     "text": [
      "IPN\n"
     ]
    },
    {
     "name": "stderr",
     "output_type": "stream",
     "text": [
      "No handles with labels found to put in legend.\n"
     ]
    },
    {
     "name": "stdout",
     "output_type": "stream",
     "text": [
      "230424_f3\n",
      "habenula\n",
      "left_habenula\n",
      "aHB\n",
      "IPN\n",
      "habenula\n"
     ]
    },
    {
     "name": "stderr",
     "output_type": "stream",
     "text": [
      "No handles with labels found to put in legend.\n"
     ]
    },
    {
     "name": "stdout",
     "output_type": "stream",
     "text": [
      "left_habenula\n"
     ]
    },
    {
     "name": "stderr",
     "output_type": "stream",
     "text": [
      "No handles with labels found to put in legend.\n"
     ]
    },
    {
     "name": "stdout",
     "output_type": "stream",
     "text": [
      "aHB\n"
     ]
    },
    {
     "name": "stderr",
     "output_type": "stream",
     "text": [
      "No handles with labels found to put in legend.\n"
     ]
    },
    {
     "name": "stdout",
     "output_type": "stream",
     "text": [
      "IPN\n"
     ]
    },
    {
     "name": "stderr",
     "output_type": "stream",
     "text": [
      "No handles with labels found to put in legend.\n"
     ]
    },
    {
     "name": "stdout",
     "output_type": "stream",
     "text": [
      "230424_f4\n",
      "habenula\n",
      "left_habenula\n",
      "aHB\n",
      "IPN\n",
      "habenula\n"
     ]
    },
    {
     "name": "stderr",
     "output_type": "stream",
     "text": [
      "No handles with labels found to put in legend.\n"
     ]
    },
    {
     "name": "stdout",
     "output_type": "stream",
     "text": [
      "left_habenula\n"
     ]
    },
    {
     "name": "stderr",
     "output_type": "stream",
     "text": [
      "No handles with labels found to put in legend.\n"
     ]
    },
    {
     "name": "stdout",
     "output_type": "stream",
     "text": [
      "aHB\n"
     ]
    },
    {
     "name": "stderr",
     "output_type": "stream",
     "text": [
      "No handles with labels found to put in legend.\n"
     ]
    },
    {
     "name": "stdout",
     "output_type": "stream",
     "text": [
      "IPN\n"
     ]
    },
    {
     "name": "stderr",
     "output_type": "stream",
     "text": [
      "No handles with labels found to put in legend.\n"
     ]
    },
    {
     "name": "stdout",
     "output_type": "stream",
     "text": [
      "230424_f5\n",
      "habenula\n",
      "left_habenula\n",
      "aHB\n",
      "IPN\n",
      "habenula\n"
     ]
    },
    {
     "name": "stderr",
     "output_type": "stream",
     "text": [
      "No handles with labels found to put in legend.\n"
     ]
    },
    {
     "name": "stdout",
     "output_type": "stream",
     "text": [
      "left_habenula\n"
     ]
    },
    {
     "name": "stderr",
     "output_type": "stream",
     "text": [
      "No handles with labels found to put in legend.\n"
     ]
    },
    {
     "name": "stdout",
     "output_type": "stream",
     "text": [
      "aHB\n"
     ]
    },
    {
     "name": "stderr",
     "output_type": "stream",
     "text": [
      "No handles with labels found to put in legend.\n"
     ]
    },
    {
     "name": "stdout",
     "output_type": "stream",
     "text": [
      "IPN\n"
     ]
    },
    {
     "name": "stderr",
     "output_type": "stream",
     "text": [
      "No handles with labels found to put in legend.\n"
     ]
    },
    {
     "name": "stdout",
     "output_type": "stream",
     "text": [
      "230424_f6\n",
      "habenula\n",
      "left_habenula\n",
      "aHB\n",
      "IPN\n",
      "habenula\n",
      "left_habenula\n",
      "aHB\n",
      "IPN\n"
     ]
    }
   ],
   "source": [
    "bins = np.linspace(-1, 1, 100)    \n",
    "fig2, ax2 = plt.subplots(num_regions, num_fish, figsize=(12, 7))\n",
    "\n",
    "for fish in range(num_fish):\n",
    "    pre_fish = pre_list[fish]\n",
    "    exp = Experiment(pre_fish)\n",
    "    fish_id = exp.fish_id\n",
    "    print(fish_id)\n",
    "    \n",
    "    traces = fl.load(pre_fish / \"filtered_traces.h5\", \"/detr\")\n",
    "    sensory_regressors = fl.load(pre_fish / \"sensory_regressors.h5\", \"/regressors\")\n",
    "    \n",
    "    for region in range(num_regions):\n",
    "        print(regions[region])\n",
    "        file_name =  \"data_from_suite2p_cells_\" + regions[region] + \".h5\"\n",
    "        suite2p_region = fl.load(pre_fish / file_name)\n",
    "        in_brain_idx = suite2p_region['coords_idx']\n",
    "        num_traces = np.shape(in_brain_idx)[0]\n",
    "        traces_region = traces[:, in_brain_idx]\n",
    "\n",
    "        reg_corr = np.zeros((2, num_traces))\n",
    "\n",
    "        count=0\n",
    "        for direction in [0, 4]:\n",
    "            current_dir = np.asarray(sensory_regressors.iloc[:, direction])\n",
    "\n",
    "            for i in range(num_traces):\n",
    "                reg_corr[count, i] = np.corrcoef(current_dir, traces_region[:, i])[0,1]\n",
    "            count += 1\n",
    "        \n",
    "        n_neurons_pre[region, fish] = num_traces\n",
    "        n_tuned_pre[region, fish] = len(np.where(np.abs(reg_corr) > thresh)[0])\n",
    "        ax2[region, fish].hist(np.append(reg_corr[0], reg_corr[1]), bins, alpha=0.5, label='pre', density=True)\n",
    "        ax2[region, 0].set_ylabel(\"Count(\" + regions[region] + \")\")\n",
    "    \n",
    "    ax2[0, fish].set_title(fish_id)\n",
    "    ax2[0, fish].set_xlabel(\"Correlation\")\n",
    "    \n",
    "    #######################################\n",
    "    post_fish = post_list[fish]\n",
    "    \n",
    "    traces = fl.load(post_fish / \"filtered_traces.h5\", \"/detr\")\n",
    "    sensory_regressors = fl.load(post_fish / \"sensory_regressors.h5\", \"/regressors\")\n",
    "    \n",
    "        \n",
    "    for region in range(num_regions):\n",
    "        file_name =  \"data_from_suite2p_cells_\" + regions[region] + \".h5\"\n",
    "        print(regions[region])\n",
    "        suite2p_region = fl.load(post_fish / file_name)\n",
    "        in_brain_idx = suite2p_region['coords_idx']\n",
    "        num_traces = np.shape(in_brain_idx)[0]\n",
    "        traces_region = traces[:, in_brain_idx]\n",
    "        \n",
    "        reg_corr = np.zeros((2, num_traces))\n",
    "        count=0\n",
    "        for direction in [0, 4]:\n",
    "            current_dir = np.asarray(sensory_regressors.iloc[:, direction])\n",
    "\n",
    "            for i in range(num_traces):\n",
    "                reg_corr[count, i] = np.corrcoef(current_dir, traces_region[:, i])[0,1]\n",
    "            count += 1\n",
    "\n",
    "        n_neurons_post[region, fish] = num_traces\n",
    "        n_tuned_post[region, fish] = len(np.where(np.abs(reg_corr) > thresh)[0])\n",
    "        ax2[region, fish].hist(np.append(reg_corr[0], reg_corr[1]), bins, alpha=0.5, label='post', density=True)\n",
    "        ax2[0, num_fish-1].legend(loc='upper right')\n",
    "        \n",
    "        ax2[region, fish].spines['right'].set_visible(False)\n",
    "        ax2[region, fish].spines['top'].set_visible(False)\n",
    "   "
   ]
  },
  {
   "cell_type": "code",
   "execution_count": 70,
   "id": "e780dca4-0049-4b60-b155-53d56767706a",
   "metadata": {},
   "outputs": [],
   "source": [
    "fig2.subplots_adjust(left=0.05, wspace=0.3)\n"
   ]
  },
  {
   "cell_type": "code",
   "execution_count": 71,
   "id": "a74506a4-2eaf-47bf-b3eb-462dd2b8e8d7",
   "metadata": {},
   "outputs": [],
   "source": [
    "file_name = \"corr histogram pre and post norm new.jpg\"\n",
    "fig2.savefig(master_pre / file_name, dpi=300)\n",
    "file_name = \"corr histogram pre and post norm new.pdf\"\n",
    "fig2.savefig(master_pre / file_name, dpi=300)\n"
   ]
  },
  {
   "cell_type": "code",
   "execution_count": 85,
   "id": "6459b569-4667-4f80-8434-c13e4298c90d",
   "metadata": {},
   "outputs": [
    {
     "data": {
      "application/vnd.jupyter.widget-view+json": {
       "model_id": "89b0f65bf8824b039d182a0fc0bafa0b",
       "version_major": 2,
       "version_minor": 0
      },
      "text/plain": [
       "Canvas(toolbar=Toolbar(toolitems=[('Home', 'Reset original view', 'home', 'home'), ('Back', 'Back to previous …"
      ]
     },
     "metadata": {},
     "output_type": "display_data"
    },
    {
     "name": "stderr",
     "output_type": "stream",
     "text": [
      "C:\\Users\\lavian\\anaconda3\\envs\\rplab\\lib\\site-packages\\ipykernel_launcher.py:22: UserWarning: FixedFormatter should only be used together with FixedLocator\n",
      "C:\\Users\\lavian\\anaconda3\\envs\\rplab\\lib\\site-packages\\ipykernel_launcher.py:22: UserWarning: FixedFormatter should only be used together with FixedLocator\n",
      "C:\\Users\\lavian\\anaconda3\\envs\\rplab\\lib\\site-packages\\ipykernel_launcher.py:22: UserWarning: FixedFormatter should only be used together with FixedLocator\n",
      "C:\\Users\\lavian\\anaconda3\\envs\\rplab\\lib\\site-packages\\ipykernel_launcher.py:22: UserWarning: FixedFormatter should only be used together with FixedLocator\n",
      "C:\\Users\\lavian\\anaconda3\\envs\\rplab\\lib\\site-packages\\ipykernel_launcher.py:22: UserWarning: FixedFormatter should only be used together with FixedLocator\n",
      "C:\\Users\\lavian\\anaconda3\\envs\\rplab\\lib\\site-packages\\ipykernel_launcher.py:22: UserWarning: FixedFormatter should only be used together with FixedLocator\n",
      "C:\\Users\\lavian\\anaconda3\\envs\\rplab\\lib\\site-packages\\ipykernel_launcher.py:22: UserWarning: FixedFormatter should only be used together with FixedLocator\n",
      "C:\\Users\\lavian\\anaconda3\\envs\\rplab\\lib\\site-packages\\ipykernel_launcher.py:22: UserWarning: FixedFormatter should only be used together with FixedLocator\n"
     ]
    }
   ],
   "source": [
    "fig3, ax3 = plt.subplots(2, num_regions, figsize=(8, 5))\n",
    "ylim=[[0.1, 0.2, 1, 0.4], [1,1,1,1]]\n",
    "for j in range(2):\n",
    "    for i in range(num_regions):\n",
    "        curr_plot = np.zeros((2, num_fish))\n",
    "        curr_plot[0] = n_tuned_pre[i] / n_neurons_pre[i] / 2\n",
    "        curr_plot[1] = n_tuned_post[i] / n_neurons_post[i] / 2\n",
    "        ax3[j, i].plot(curr_plot, c='skyblue')\n",
    "        x = np.mean(curr_plot, axis=1)\n",
    "        err = np.std(curr_plot) / num_fish\n",
    "        ax3[j, i].errorbar([0, 1], x, yerr=err, c='royalblue')\n",
    "\n",
    "\n",
    "        ax3[0, i].set_title(regions[i])\n",
    "        ax3[j, i].spines['right'].set_visible(False)\n",
    "        ax3[j, i].spines['top'].set_visible(False)\n",
    "\n",
    "        labels = [item.get_text() for item in ax3[j, i].get_xticklabels()]\n",
    "        labels[1] = 'Pre'\n",
    "        labels[2] = 'Post'\n",
    "\n",
    "        ax3[j, i].set_xticklabels(labels)\n",
    "        pval = round(stats.ttest_rel(curr_plot[0], curr_plot[1])[1], 4)\n",
    "        ax3[j, i].set_ylim(0, ylim[j][i])\n",
    "        ax3[j, i].text(0.3, ylim[j][i]*0.9, \"p=\" + str(pval), fontsize=9)\n",
    "\n",
    "\n",
    "    ax3[j, 0].set_ylabel('Tuned')\n",
    "fig3.subplots_adjust(wspace=0.5, hspace=0.5)"
   ]
  },
  {
   "cell_type": "code",
   "execution_count": 86,
   "id": "73ff74f2-78be-4090-a8d3-ca7a0e116062",
   "metadata": {},
   "outputs": [],
   "source": [
    "file_name = \"precent change in tuned neurons new\" + str(thresh) + \".jpg\"\n",
    "fig3.savefig(master_pre / file_name, dpi=300)\n",
    "file_name = \"precent change in tuned neurons new\" + str(thresh) + \".pdf\"\n",
    "fig3.savefig(master_pre / file_name, dpi=300)"
   ]
  },
  {
   "cell_type": "code",
   "execution_count": 29,
   "id": "4ee45ae0-0b53-47a1-b23c-81eb29f22c20",
   "metadata": {},
   "outputs": [
    {
     "data": {
      "text/plain": [
       "array([0.        , 0.        , 0.02222222, 0.03968254, 0.12224939,\n",
       "       0.05343511, 0.        ])"
      ]
     },
     "execution_count": 29,
     "metadata": {},
     "output_type": "execute_result"
    }
   ],
   "source": [
    "curr_plot[0]"
   ]
  },
  {
   "cell_type": "code",
   "execution_count": 81,
   "id": "10dcd373-b396-40c7-9955-edee08f3173f",
   "metadata": {},
   "outputs": [
    {
     "data": {
      "text/plain": [
       "0.1"
      ]
     },
     "execution_count": 81,
     "metadata": {},
     "output_type": "execute_result"
    }
   ],
   "source": [
    "ylim[j][i]"
   ]
  },
  {
   "cell_type": "code",
   "execution_count": null,
   "id": "ef6c548a-b338-4642-9373-535d4855a057",
   "metadata": {},
   "outputs": [],
   "source": []
  },
  {
   "cell_type": "code",
   "execution_count": 88,
   "id": "23cb6342-61ac-4b2c-9390-802db137a2a3",
   "metadata": {},
   "outputs": [
    {
     "ename": "NameError",
     "evalue": "name 'path' is not defined",
     "output_type": "error",
     "traceback": [
      "\u001b[1;31m---------------------------------------------------------------------------\u001b[0m",
      "\u001b[1;31mNameError\u001b[0m                                 Traceback (most recent call last)",
      "\u001b[1;32m<ipython-input-88-012ab3a6b187>\u001b[0m in \u001b[0;36m<module>\u001b[1;34m\u001b[0m\n\u001b[1;32m----> 1\u001b[1;33m \u001b[0mpath\u001b[0m\u001b[1;33m\u001b[0m\u001b[1;33m\u001b[0m\u001b[0m\n\u001b[0m",
      "\u001b[1;31mNameError\u001b[0m: name 'path' is not defined"
     ]
    }
   ],
   "source": [
    "path"
   ]
  },
  {
   "cell_type": "code",
   "execution_count": null,
   "id": "be927be9-ec36-4179-8b2e-8365b9885e36",
   "metadata": {},
   "outputs": [],
   "source": []
  },
  {
   "cell_type": "code",
   "execution_count": null,
   "id": "ad214f2a-a337-4066-a912-dfeee1eaf1eb",
   "metadata": {},
   "outputs": [],
   "source": []
  },
  {
   "cell_type": "code",
   "execution_count": null,
   "id": "fde7bb69-6b9d-4aac-882c-0c6714d92b34",
   "metadata": {},
   "outputs": [],
   "source": []
  },
  {
   "cell_type": "code",
   "execution_count": null,
   "id": "c6bff52c-4516-4fbc-ba44-26d9fb18bd5f",
   "metadata": {},
   "outputs": [],
   "source": []
  },
  {
   "cell_type": "code",
   "execution_count": 90,
   "id": "796795c0-a42d-49a4-9aac-a5e5872ccb3c",
   "metadata": {},
   "outputs": [
    {
     "name": "stdout",
     "output_type": "stream",
     "text": [
      "230424_f0\n",
      "[[ 8.73623388e-01 -4.64943531e-02 -2.30999630e-02 -2.36872900e+01]\n",
      " [ 1.15950053e-02  9.93257537e-01  1.37209535e-01 -1.27431027e+02]\n",
      " [ 2.40065541e-03 -1.17106349e-01  1.08772746e+00 -7.19318644e+01]]\n"
     ]
    }
   ],
   "source": [
    "for fish in range(1):\n",
    "    pre_fish = pre_list[fish]\n",
    "    exp = Experiment(pre_fish)\n",
    "    fish_id = exp.fish_id\n",
    "    print(fish_id)\n",
    "    \n",
    "    coords = fl.load(pre_fish / \"data_from_suite2p_cells.h5\", \"/coords\")\n",
    "    \n",
    "    trans_mat = fl.load(pre_fish / 'registration' / 'initial_transform_mapped.h5')\n",
    "    print(trans_mat)\n"
   ]
  },
  {
   "cell_type": "code",
   "execution_count": 91,
   "id": "a9d57538-befc-4885-8e7b-4f7c22096fa8",
   "metadata": {},
   "outputs": [],
   "source": [
    "import tifffile as tiff"
   ]
  },
  {
   "cell_type": "code",
   "execution_count": 92,
   "id": "c065857f-064c-4616-96db-30c9d5a70f46",
   "metadata": {},
   "outputs": [],
   "source": [
    "ref = tiff.imread(r\"Z:\\Hagar\\mpin_zfish_1um_v1.1\\H2BGCaMP.tiff\")"
   ]
  },
  {
   "cell_type": "code",
   "execution_count": 101,
   "id": "b0c3c053-8b6d-4e1c-8a4a-b50b791b9e4f",
   "metadata": {},
   "outputs": [
    {
     "data": {
      "text/plain": [
       "(974, 359, 597)"
      ]
     },
     "execution_count": 101,
     "metadata": {},
     "output_type": "execute_result"
    }
   ],
   "source": [
    "np.shape(ref)"
   ]
  },
  {
   "cell_type": "code",
   "execution_count": 108,
   "id": "f703e597-ed1a-460a-b116-80681f0e0335",
   "metadata": {},
   "outputs": [],
   "source": [
    "ref2 = np.swapaxes(ref, 0,1)"
   ]
  },
  {
   "cell_type": "code",
   "execution_count": 111,
   "id": "af89272b-f3dd-4504-a591-6a560250dada",
   "metadata": {},
   "outputs": [],
   "source": [
    "ref3 = np.rot90(ref2)"
   ]
  },
  {
   "cell_type": "code",
   "execution_count": null,
   "id": "1502601b-226e-43b0-82c2-da82e24fec81",
   "metadata": {},
   "outputs": [],
   "source": [
    "ref4 = ref3[:,:,:]"
   ]
  },
  {
   "cell_type": "code",
   "execution_count": 112,
   "id": "7773052b-8ab8-4843-a38a-b4b06a56c791",
   "metadata": {},
   "outputs": [],
   "source": [
    "tiff.imsave(path / \"test.tiff\", ref3)"
   ]
  },
  {
   "cell_type": "code",
   "execution_count": 98,
   "id": "ea484da1-b016-4520-b18f-5d649b019e15",
   "metadata": {},
   "outputs": [],
   "source": [
    "path = Path(r\"Z:\\Hagar\\mpin_zfish_1um_v1.1\")\n",
    "d = {'ref_mapped': ref}\n",
    "fl.save(path / \"ref_mapped.h5\", d)"
   ]
  },
  {
   "cell_type": "code",
   "execution_count": null,
   "id": "7f336f26-9947-4e11-8732-302a06c8d989",
   "metadata": {},
   "outputs": [],
   "source": []
  }
 ],
 "metadata": {
  "kernelspec": {
   "display_name": "Python 3",
   "language": "python",
   "name": "python3"
  },
  "language_info": {
   "codemirror_mode": {
    "name": "ipython",
    "version": 3
   },
   "file_extension": ".py",
   "mimetype": "text/x-python",
   "name": "python",
   "nbconvert_exporter": "python",
   "pygments_lexer": "ipython3",
   "version": "3.7.10"
  }
 },
 "nbformat": 4,
 "nbformat_minor": 5
}
