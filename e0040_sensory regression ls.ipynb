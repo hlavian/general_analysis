{
 "cells": [
  {
   "cell_type": "code",
   "execution_count": 1,
   "id": "56d5ef39-0fcd-4f6b-8862-c1c6b9316da6",
   "metadata": {},
   "outputs": [],
   "source": [
    "%matplotlib widget"
   ]
  },
  {
   "cell_type": "code",
   "execution_count": 2,
   "id": "e83c6aaf-20d9-40c5-9655-4e436c40b386",
   "metadata": {},
   "outputs": [],
   "source": [
    "from glob import glob\n",
    "import numpy as np\n",
    "import pandas as pd\n",
    "import flammkuchen as fl\n",
    "from split_dataset import SplitDataset\n",
    "from bouter import Experiment\n",
    "from fimpy.pipeline.general import calc_f0, dff\n",
    "from motions.utilities import stim_vel_dir_dataframe, quantize_directions\n",
    "from scipy.interpolate import interp1d \n",
    "from scipy.signal import convolve2d\n",
    "import colorspacious\n",
    "import matplotlib.pyplot as plt\n",
    "import json\n",
    "from pathlib import Path"
   ]
  },
  {
   "cell_type": "code",
   "execution_count": 170,
   "id": "4488866d-506f-41d8-9ac7-577bc5a5511d",
   "metadata": {},
   "outputs": [
    {
     "name": "stdout",
     "output_type": "stream",
     "text": [
      "Z:\\Hagar\\E0040\\v31\\post ablation 2d\\230426_f0_post\n"
     ]
    }
   ],
   "source": [
    "master = Path(r\"Z:\\Hagar\\E0040\\v31\\post ablation 2d\")\n",
    "fish_list = list(master.glob(\"*_f*\"))\n",
    "path = fish_list[0]\n",
    "print(path)\n"
   ]
  },
  {
   "cell_type": "code",
   "execution_count": 171,
   "id": "745b5ffe-2b40-47f1-97b8-b1b0bab2320e",
   "metadata": {},
   "outputs": [],
   "source": [
    "exp = glob(str(path / \"*behavior*\"))[0]\n",
    "traces = fl.load(path / \"filtered_traces.h5\", \"/undetr\")"
   ]
  },
  {
   "cell_type": "code",
   "execution_count": 172,
   "id": "b4b2400d-eddb-4342-b48e-877306682a15",
   "metadata": {},
   "outputs": [],
   "source": [
    "coords = fl.load(path / \"data_from_suite2p_cells.h5\", \"/coords\")\n",
    "suite2p_brain = fl.load(path / \"data_from_suite2p_cells_brain.h5\")\n",
    "in_brain_idx = suite2p_brain['coords_idx']"
   ]
  },
  {
   "cell_type": "code",
   "execution_count": 173,
   "id": "1df1372c-664a-41b5-91fa-62d04744596a",
   "metadata": {},
   "outputs": [],
   "source": [
    "with open(next(Path(path).glob(\"*metadata.json\")), \"r\") as f:\n",
    "        metadata = json.load(f)\n",
    "lsconfig = metadata[\"imaging\"][\"microscope_config\"]['lightsheet']['scanning']\n",
    "z_tot_span = lsconfig[\"z\"][\"piezo_max\"] - lsconfig[\"z\"][\"piezo_min\"]\n",
    "n_planes = lsconfig[\"triggering\"][\"n_planes\"]\n",
    "z_res = z_tot_span / n_planes\n",
    "res = [0.6, 0.6, z_res]"
   ]
  },
  {
   "cell_type": "code",
   "execution_count": 174,
   "id": "5f9206dd-3bba-43bb-8a58-0f2a4bda7e9d",
   "metadata": {},
   "outputs": [],
   "source": [
    "sensory_regressors = fl.load(path / \"sensory_regressors.h5\", \"/regressors\")\n",
    "titles = ['right', 'backward right', 'backward', 'backward left', 'left', 'forward left', 'forward', 'forward right', ]"
   ]
  },
  {
   "cell_type": "code",
   "execution_count": 175,
   "id": "4b87895b-a265-4942-98ff-81d247ad8387",
   "metadata": {},
   "outputs": [
    {
     "data": {
      "text/html": [
       "<div>\n",
       "<style scoped>\n",
       "    .dataframe tbody tr th:only-of-type {\n",
       "        vertical-align: middle;\n",
       "    }\n",
       "\n",
       "    .dataframe tbody tr th {\n",
       "        vertical-align: top;\n",
       "    }\n",
       "\n",
       "    .dataframe thead th {\n",
       "        text-align: right;\n",
       "    }\n",
       "</style>\n",
       "<table border=\"1\" class=\"dataframe\">\n",
       "  <thead>\n",
       "    <tr style=\"text-align: right;\">\n",
       "      <th></th>\n",
       "      <th>motion_0</th>\n",
       "      <th>motion_1</th>\n",
       "      <th>motion_2</th>\n",
       "      <th>motion_3</th>\n",
       "      <th>motion_4</th>\n",
       "      <th>motion_5</th>\n",
       "      <th>motion_6</th>\n",
       "      <th>motion_7</th>\n",
       "    </tr>\n",
       "  </thead>\n",
       "  <tbody>\n",
       "    <tr>\n",
       "      <th>0</th>\n",
       "      <td>0.000000</td>\n",
       "      <td>0.000000e+00</td>\n",
       "      <td>0.000000e+00</td>\n",
       "      <td>0.000000e+00</td>\n",
       "      <td>0.000000e+00</td>\n",
       "      <td>0.000000e+00</td>\n",
       "      <td>0.000000e+00</td>\n",
       "      <td>0.000000e+00</td>\n",
       "    </tr>\n",
       "    <tr>\n",
       "      <th>1</th>\n",
       "      <td>0.000000</td>\n",
       "      <td>0.000000e+00</td>\n",
       "      <td>0.000000e+00</td>\n",
       "      <td>0.000000e+00</td>\n",
       "      <td>0.000000e+00</td>\n",
       "      <td>0.000000e+00</td>\n",
       "      <td>0.000000e+00</td>\n",
       "      <td>0.000000e+00</td>\n",
       "    </tr>\n",
       "    <tr>\n",
       "      <th>2</th>\n",
       "      <td>0.000000</td>\n",
       "      <td>0.000000e+00</td>\n",
       "      <td>0.000000e+00</td>\n",
       "      <td>0.000000e+00</td>\n",
       "      <td>0.000000e+00</td>\n",
       "      <td>0.000000e+00</td>\n",
       "      <td>0.000000e+00</td>\n",
       "      <td>0.000000e+00</td>\n",
       "    </tr>\n",
       "    <tr>\n",
       "      <th>3</th>\n",
       "      <td>0.000000</td>\n",
       "      <td>0.000000e+00</td>\n",
       "      <td>0.000000e+00</td>\n",
       "      <td>0.000000e+00</td>\n",
       "      <td>0.000000e+00</td>\n",
       "      <td>0.000000e+00</td>\n",
       "      <td>0.000000e+00</td>\n",
       "      <td>0.000000e+00</td>\n",
       "    </tr>\n",
       "    <tr>\n",
       "      <th>4</th>\n",
       "      <td>0.000000</td>\n",
       "      <td>0.000000e+00</td>\n",
       "      <td>0.000000e+00</td>\n",
       "      <td>0.000000e+00</td>\n",
       "      <td>0.000000e+00</td>\n",
       "      <td>0.000000e+00</td>\n",
       "      <td>0.000000e+00</td>\n",
       "      <td>0.000000e+00</td>\n",
       "    </tr>\n",
       "    <tr>\n",
       "      <th>...</th>\n",
       "      <td>...</td>\n",
       "      <td>...</td>\n",
       "      <td>...</td>\n",
       "      <td>...</td>\n",
       "      <td>...</td>\n",
       "      <td>...</td>\n",
       "      <td>...</td>\n",
       "      <td>...</td>\n",
       "    </tr>\n",
       "    <tr>\n",
       "      <th>3875</th>\n",
       "      <td>0.969769</td>\n",
       "      <td>2.037189e-52</td>\n",
       "      <td>2.734777e-12</td>\n",
       "      <td>2.588547e-20</td>\n",
       "      <td>2.842649e-08</td>\n",
       "      <td>2.462895e-28</td>\n",
       "      <td>2.161375e-44</td>\n",
       "      <td>1.906141e-60</td>\n",
       "    </tr>\n",
       "    <tr>\n",
       "      <th>3876</th>\n",
       "      <td>0.976006</td>\n",
       "      <td>1.616918e-52</td>\n",
       "      <td>2.170594e-12</td>\n",
       "      <td>2.054531e-20</td>\n",
       "      <td>2.256212e-08</td>\n",
       "      <td>1.954801e-28</td>\n",
       "      <td>1.715484e-44</td>\n",
       "      <td>1.512905e-60</td>\n",
       "    </tr>\n",
       "    <tr>\n",
       "      <th>3877</th>\n",
       "      <td>0.980956</td>\n",
       "      <td>1.283349e-52</td>\n",
       "      <td>1.722802e-12</td>\n",
       "      <td>1.630682e-20</td>\n",
       "      <td>1.790756e-08</td>\n",
       "      <td>1.551526e-28</td>\n",
       "      <td>1.361581e-44</td>\n",
       "      <td>1.200793e-60</td>\n",
       "    </tr>\n",
       "    <tr>\n",
       "      <th>3878</th>\n",
       "      <td>0.984885</td>\n",
       "      <td>1.018594e-52</td>\n",
       "      <td>1.367389e-12</td>\n",
       "      <td>1.294273e-20</td>\n",
       "      <td>1.421324e-08</td>\n",
       "      <td>1.231447e-28</td>\n",
       "      <td>1.080687e-44</td>\n",
       "      <td>9.530703e-61</td>\n",
       "    </tr>\n",
       "    <tr>\n",
       "      <th>3879</th>\n",
       "      <td>0.988003</td>\n",
       "      <td>8.084589e-53</td>\n",
       "      <td>1.085297e-12</td>\n",
       "      <td>1.027265e-20</td>\n",
       "      <td>1.128106e-08</td>\n",
       "      <td>9.774004e-29</td>\n",
       "      <td>8.577421e-45</td>\n",
       "      <td>7.564524e-61</td>\n",
       "    </tr>\n",
       "  </tbody>\n",
       "</table>\n",
       "<p>3880 rows × 8 columns</p>\n",
       "</div>"
      ],
      "text/plain": [
       "      motion_0      motion_1      motion_2      motion_3      motion_4  \\\n",
       "0     0.000000  0.000000e+00  0.000000e+00  0.000000e+00  0.000000e+00   \n",
       "1     0.000000  0.000000e+00  0.000000e+00  0.000000e+00  0.000000e+00   \n",
       "2     0.000000  0.000000e+00  0.000000e+00  0.000000e+00  0.000000e+00   \n",
       "3     0.000000  0.000000e+00  0.000000e+00  0.000000e+00  0.000000e+00   \n",
       "4     0.000000  0.000000e+00  0.000000e+00  0.000000e+00  0.000000e+00   \n",
       "...        ...           ...           ...           ...           ...   \n",
       "3875  0.969769  2.037189e-52  2.734777e-12  2.588547e-20  2.842649e-08   \n",
       "3876  0.976006  1.616918e-52  2.170594e-12  2.054531e-20  2.256212e-08   \n",
       "3877  0.980956  1.283349e-52  1.722802e-12  1.630682e-20  1.790756e-08   \n",
       "3878  0.984885  1.018594e-52  1.367389e-12  1.294273e-20  1.421324e-08   \n",
       "3879  0.988003  8.084589e-53  1.085297e-12  1.027265e-20  1.128106e-08   \n",
       "\n",
       "          motion_5      motion_6      motion_7  \n",
       "0     0.000000e+00  0.000000e+00  0.000000e+00  \n",
       "1     0.000000e+00  0.000000e+00  0.000000e+00  \n",
       "2     0.000000e+00  0.000000e+00  0.000000e+00  \n",
       "3     0.000000e+00  0.000000e+00  0.000000e+00  \n",
       "4     0.000000e+00  0.000000e+00  0.000000e+00  \n",
       "...            ...           ...           ...  \n",
       "3875  2.462895e-28  2.161375e-44  1.906141e-60  \n",
       "3876  1.954801e-28  1.715484e-44  1.512905e-60  \n",
       "3877  1.551526e-28  1.361581e-44  1.200793e-60  \n",
       "3878  1.231447e-28  1.080687e-44  9.530703e-61  \n",
       "3879  9.774004e-29  8.577421e-45  7.564524e-61  \n",
       "\n",
       "[3880 rows x 8 columns]"
      ]
     },
     "execution_count": 175,
     "metadata": {},
     "output_type": "execute_result"
    }
   ],
   "source": [
    "sensory_regressors"
   ]
  },
  {
   "cell_type": "code",
   "execution_count": 176,
   "id": "7aa53abf-2e13-4c10-9585-60f6799b5092",
   "metadata": {},
   "outputs": [
    {
     "data": {
      "application/vnd.jupyter.widget-view+json": {
       "model_id": "d393dbec0e454169a1ffefef07b303af",
       "version_major": 2,
       "version_minor": 0
      },
      "text/plain": [
       "Canvas(toolbar=Toolbar(toolitems=[('Home', 'Reset original view', 'home', 'home'), ('Back', 'Back to previous …"
      ]
     },
     "metadata": {},
     "output_type": "display_data"
    }
   ],
   "source": [
    "fig, axs = plt.subplots(2, 8, figsize=(15, 5), gridspec_kw={'width_ratios': [6, 2, 6, 2, 6, 2, 6, 2], 'height_ratios': [1, 3]})"
   ]
  },
  {
   "cell_type": "code",
   "execution_count": 177,
   "id": "9d7aa228-305f-4859-8a44-9c6eebcf27a2",
   "metadata": {},
   "outputs": [
    {
     "name": "stdout",
     "output_type": "stream",
     "text": [
      "0\n",
      "2\n",
      "4\n",
      "6\n"
     ]
    }
   ],
   "source": [
    "for direction in range(0, 8, 2):\n",
    "    print(direction)\n",
    "    #traces = traces[:1600]\n",
    "    current_dir = np.asarray(sensory_regressors.iloc[:, direction])\n",
    "    #reg_values = current_dir @ traces[:, :] \n",
    "    num_traces = np.shape(traces)[1]\n",
    "        \n",
    "    reg_corr = np.zeros((num_traces))\n",
    "    for i in range(num_traces):\n",
    "        reg_corr[i] = np.corrcoef(current_dir, traces[:, i])[0,1]\n",
    "       \n",
    "    coords_ib = coords[in_brain_idx]\n",
    "    reg_corr_ib = reg_corr[in_brain_idx]\n",
    "        \n",
    "    mp_ind = np.argsort(np.abs(reg_corr_ib))\n",
    "    \n",
    "    axs[1,direction].scatter(coords_ib[mp_ind,2]*res[0], coords_ib[mp_ind,1]*res[1], c=reg_corr_ib[mp_ind], s=2, alpha=0.8, cmap='coolwarm', vmin=-1, vmax=1)\n",
    "    axs[1,direction+1].scatter(coords_ib[mp_ind,0]*res[2], coords_ib[mp_ind,1]*res[1], c=reg_corr_ib[mp_ind], s=2, alpha=0.8, cmap='coolwarm', vmin=-1, vmax=1)\n",
    "    axs[0,direction].scatter(coords_ib[mp_ind,2]*res[0], coords_ib[mp_ind,0]*res[2], c=reg_corr_ib[mp_ind], s=2, alpha=0.8, cmap='coolwarm', vmin=-1, vmax=1)\n",
    "\n",
    "    axs[0,direction].spines['right'].set_visible(False)\n",
    "    axs[0,direction].spines['top'].set_visible(False)\n",
    "\n",
    "    axs[1,direction+1].spines['right'].set_visible(False)\n",
    "    axs[1,direction+1].spines['top'].set_visible(False)\n",
    "\n",
    "    axs[1,direction].spines['right'].set_visible(False)\n",
    "    axs[1,direction].spines['top'].set_visible(False)\n",
    "\n",
    "    axs[0,direction+1].axis('off')\n",
    "\n",
    "    axs[0,direction].set_title(titles[direction])\n"
   ]
  },
  {
   "cell_type": "code",
   "execution_count": 178,
   "id": "16ddb511-dac3-486f-8518-743fdf9c506c",
   "metadata": {},
   "outputs": [],
   "source": [
    "fig.subplots_adjust(left=0.05, wspace=0.3)"
   ]
  },
  {
   "cell_type": "code",
   "execution_count": 179,
   "id": "9412d70e-f34d-4853-89fc-5d89a9b9f555",
   "metadata": {},
   "outputs": [],
   "source": [
    "file_name = \"corr map all directions.jpg\"\n",
    "fig.savefig(path / file_name, dpi=300)"
   ]
  },
  {
   "cell_type": "code",
   "execution_count": 180,
   "id": "3e2b000e-f629-4382-84ca-6ebf8f5a1ead",
   "metadata": {},
   "outputs": [
    {
     "data": {
      "text/plain": [
       "(3880,)"
      ]
     },
     "execution_count": 180,
     "metadata": {},
     "output_type": "execute_result"
    }
   ],
   "source": [
    "np.shape(current_dir)"
   ]
  },
  {
   "cell_type": "code",
   "execution_count": null,
   "id": "f6281ede-6323-4e2f-90ca-fbc695d58103",
   "metadata": {},
   "outputs": [],
   "source": []
  },
  {
   "cell_type": "code",
   "execution_count": null,
   "id": "37ac1d57-30bd-4a3d-8aeb-3fed965dfcfd",
   "metadata": {},
   "outputs": [],
   "source": [
    "reg_values = current_dir @ traces[:, :] "
   ]
  },
  {
   "cell_type": "code",
   "execution_count": null,
   "id": "688b67d4-93e7-40ef-a1f5-5a18fc4cf180",
   "metadata": {},
   "outputs": [],
   "source": [
    "num_traces = np.shape(traces)[1]\n",
    "print(num_traces)\n",
    "reg_corr = np.zeros((num_traces))\n",
    "for i in range(num_traces):\n",
    "    reg_corr[i] = np.corrcoef(current_dir, traces[:, i])[0,1]"
   ]
  },
  {
   "cell_type": "code",
   "execution_count": null,
   "id": "d82cdf65-1449-43bc-b241-5cb9c6cca32c",
   "metadata": {},
   "outputs": [],
   "source": [
    "coords_ib = coords[in_brain_idx]\n",
    "reg_values_ib = reg_values[in_brain_idx]\n",
    "reg_corr_ib = reg_corr[in_brain_idx]"
   ]
  },
  {
   "cell_type": "code",
   "execution_count": null,
   "id": "88fd03e4-8953-4c8f-b20c-394824cd4508",
   "metadata": {},
   "outputs": [],
   "source": []
  },
  {
   "cell_type": "code",
   "execution_count": null,
   "id": "eafea5b8-3de2-41a8-b922-63bc041a97e7",
   "metadata": {},
   "outputs": [],
   "source": [
    "titles = ['right', 'backward right', 'backward', 'backward left', 'left', 'forward left', 'forward', 'forward right', ]"
   ]
  },
  {
   "cell_type": "code",
   "execution_count": null,
   "id": "7b1a872c-67f0-43b8-8467-7f2de11ed3d9",
   "metadata": {},
   "outputs": [],
   "source": [
    "fig, axs = plt.subplots(2, 2, figsize=(6, 6), gridspec_kw={'width_ratios': [6, 2], 'height_ratios': [1, 2]})\n",
    "mp_ind = np.argsort(np.abs(reg_corr_ib))\n",
    "axs[1,0].scatter(coords_ib[mp_ind,2]*0.6, coords_ib[mp_ind,1]*.6, c=reg_corr_ib[mp_ind], s=2, alpha=0.8, cmap='coolwarm', vmin=-1, vmax=1)\n",
    "axs[1,1].scatter(coords_ib[mp_ind,0]*z_res, coords_ib[mp_ind,1]*0.6, c=reg_corr_ib[mp_ind], alpha=0.8, cmap='coolwarm', vmin=-1, vmax=1)\n",
    "axs[0,0].scatter(coords_ib[mp_ind,2]*0.6, coords_ib[mp_ind,0]*z_res, c=reg_corr_ib[mp_ind], alpha=0.8, cmap='coolwarm', vmin=-1, vmax=1)\n",
    "\n",
    "axs[0,0].spines['right'].set_visible(False)\n",
    "axs[0,0].spines['top'].set_visible(False)\n",
    "\n",
    "axs[1,1].spines['right'].set_visible(False)\n",
    "axs[1,1].spines['top'].set_visible(False)\n",
    "\n",
    "axs[1,0].spines['right'].set_visible(False)\n",
    "axs[1,0].spines['top'].set_visible(False)\n",
    "\n",
    "axs[0,1].axis('off')\n",
    "\n",
    "fig.suptitle(titles[direction])"
   ]
  },
  {
   "cell_type": "code",
   "execution_count": null,
   "id": "b6be7650-4d80-4c2a-a56b-83b5e2e9d6ba",
   "metadata": {},
   "outputs": [],
   "source": [
    "file_name = \"corr map \" + titles[direction] + \".jpg\"\n",
    "fig.savefig(path / file_name, dpi=300)"
   ]
  },
  {
   "cell_type": "code",
   "execution_count": null,
   "id": "e6053ee1-0167-408e-94d6-6bf53d990c2b",
   "metadata": {},
   "outputs": [],
   "source": []
  },
  {
   "cell_type": "code",
   "execution_count": null,
   "id": "49b4fd03-797c-4f3a-a03e-afc90b940713",
   "metadata": {},
   "outputs": [],
   "source": []
  },
  {
   "cell_type": "code",
   "execution_count": null,
   "id": "3d797f39-27a3-44be-924e-20b337289218",
   "metadata": {},
   "outputs": [],
   "source": []
  },
  {
   "cell_type": "code",
   "execution_count": null,
   "id": "9b2bdae4-f53d-4268-8893-509e43da8aeb",
   "metadata": {},
   "outputs": [],
   "source": []
  },
  {
   "cell_type": "code",
   "execution_count": null,
   "id": "a71e7f29-1bfe-4091-81c3-97992fd8d30c",
   "metadata": {},
   "outputs": [],
   "source": []
  },
  {
   "cell_type": "code",
   "execution_count": null,
   "id": "c25f8f6c-f619-4564-904c-29b7f19e4ccb",
   "metadata": {},
   "outputs": [],
   "source": []
  },
  {
   "cell_type": "code",
   "execution_count": null,
   "id": "b112a579-d2cc-4b15-ad68-8f2267f9286f",
   "metadata": {},
   "outputs": [],
   "source": []
  }
 ],
 "metadata": {
  "kernelspec": {
   "display_name": "Python 3",
   "language": "python",
   "name": "python3"
  },
  "language_info": {
   "codemirror_mode": {
    "name": "ipython",
    "version": 3
   },
   "file_extension": ".py",
   "mimetype": "text/x-python",
   "name": "python",
   "nbconvert_exporter": "python",
   "pygments_lexer": "ipython3",
   "version": "3.7.10"
  }
 },
 "nbformat": 4,
 "nbformat_minor": 5
}
