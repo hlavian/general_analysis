{
 "cells": [
  {
   "cell_type": "code",
   "execution_count": null,
   "id": "valued-learning",
   "metadata": {},
   "outputs": [],
   "source": [
    "%load_ext autoreload"
   ]
  },
  {
   "cell_type": "code",
   "execution_count": null,
   "id": "medium-stick",
   "metadata": {},
   "outputs": [],
   "source": [
    "from pathlib import Path\n",
    "import numpy as np\n",
    "import matplotlib.pyplot as plt\n",
    "import pandas as pd\n",
    "import json\n",
    "from bouter.embedded import EmbeddedExperiment\n",
    "%matplotlib notebook\n",
    "\n",
    "%autoreload"
   ]
  },
  {
   "cell_type": "code",
   "execution_count": null,
   "id": "communist-probe",
   "metadata": {},
   "outputs": [],
   "source": [
    "fish_dir = Path(r\"\\\\Funes\\Shared\\experiments\\E0020_random_coherences\\v30_two_options_with_multiple_forward_tests_embedded_ls\\2p\\gad1b-6s\\v33\\210513_f1\\test\")"
   ]
  },
  {
   "cell_type": "code",
   "execution_count": null,
   "id": "champion-meter",
   "metadata": {},
   "outputs": [],
   "source": [
    "meta_data = json.load(open(fish_dir.glob(\"*metadata.json*\")))\n",
    "beh_log_file = fish_dir.glob(*'_behavior_log.csv')\n",
    "beh_log = pd.read_csv(beh_log_file, sep=';')\n",
    "\n",
    "stim_log_file = fish_dir.glob(*'_stimulus_log.csv')\n",
    "stim_log = pd.read_csv(stim_log_file, sep=';')"
   ]
  },
  {
   "cell_type": "code",
   "execution_count": null,
   "id": "stretch-motor",
   "metadata": {},
   "outputs": [],
   "source": [
    "exp = EmbeddedExperiment(fish_dir)\n",
    "beh_log = exp.behavior_log"
   ]
  },
  {
   "cell_type": "code",
   "execution_count": null,
   "id": "subsequent-passion",
   "metadata": {},
   "outputs": [],
   "source": [
    "beh_log"
   ]
  },
  {
   "cell_type": "code",
   "execution_count": null,
   "id": "going-montana",
   "metadata": {},
   "outputs": [],
   "source": [
    "beh_log.tail_sum"
   ]
  },
  {
   "cell_type": "code",
   "execution_count": null,
   "id": "compound-minutes",
   "metadata": {},
   "outputs": [],
   "source": [
    "t_beh = np.asarray(beh_log['t'])\n",
    "tail = np.asarray(beh_log['tail_sum'])"
   ]
  },
  {
   "cell_type": "code",
   "execution_count": null,
   "id": "liable-compensation",
   "metadata": {},
   "outputs": [],
   "source": [
    "fig, ax = plt.subplots(1, 1)\n",
    "ax.plot(t_beh, tail)\n",
    "plt.show()"
   ]
  },
  {
   "cell_type": "code",
   "execution_count": null,
   "id": "instant-career",
   "metadata": {},
   "outputs": [],
   "source": [
    "stim_log = exp.stimulus_log\n",
    "stim_log"
   ]
  },
  {
   "cell_type": "code",
   "execution_count": null,
   "id": "guided-landscape",
   "metadata": {},
   "outputs": [],
   "source": []
  }
 ],
 "metadata": {
  "kernelspec": {
   "display_name": "Python 3 (ipykernel)",
   "language": "python",
   "name": "python3"
  },
  "language_info": {
   "codemirror_mode": {
    "name": "ipython",
    "version": 3
   },
   "file_extension": ".py",
   "mimetype": "text/x-python",
   "name": "python",
   "nbconvert_exporter": "python",
   "pygments_lexer": "ipython3",
   "version": "3.7.10"
  }
 },
 "nbformat": 4,
 "nbformat_minor": 5
}
