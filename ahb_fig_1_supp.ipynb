{
 "cells": [
  {
   "cell_type": "code",
   "execution_count": 20,
   "id": "arranged-dairy",
   "metadata": {},
   "outputs": [],
   "source": [
    "%matplotlib widget\n",
    "from pathlib import Path\n",
    "\n",
    "import numpy as np\n",
    "from lotr import A_FISH, FIGURES_LOCATION, LotrExperiment, dataset_folders\n",
    "\n",
    "from matplotlib import cm\n",
    "from matplotlib import pyplot as plt\n",
    "from scipy.optimize import curve_fit\n",
    "from scipy.stats import mannwhitneyu\n",
    "from tqdm import tqdm\n",
    "import flammkuchen as fl\n",
    "import scipy \n",
    "import statsmodels.api as sm"
   ]
  },
  {
   "cell_type": "code",
   "execution_count": 6,
   "id": "written-composition",
   "metadata": {},
   "outputs": [],
   "source": [
    "def monoExp(x, m, t, b):\n",
    "    return m * np.exp(-t * x) + b"
   ]
  },
  {
   "cell_type": "code",
   "execution_count": 26,
   "id": "seven-marina",
   "metadata": {},
   "outputs": [
    {
     "data": {
      "application/vnd.jupyter.widget-view+json": {
       "model_id": "366cd3e4254b4c059cd910bc3fef3dbe",
       "version_major": 2,
       "version_minor": 0
      },
      "text/plain": [
       "Canvas(toolbar=Toolbar(toolitems=[('Home', 'Reset original view', 'home', 'home'), ('Back', 'Back to previous …"
      ]
     },
     "metadata": {},
     "output_type": "display_data"
    }
   ],
   "source": [
    "fig, ax = plt.subplots(7, 5, figsize=(8, 10), sharey=True, sharex=True)\n",
    "\n",
    "i=0\n",
    "for path in dataset_folders:\n",
    "    r = i // 5\n",
    "    c = np.mod(i, 5)\n",
    "    \n",
    "    exp = LotrExperiment(path)\n",
    "    fs = exp.fs\n",
    "    \n",
    "    suit2p_data = fl.load(path / 'data_from_suite2p_unfiltered.h5')\n",
    "    traces = fl.load(path / \"filtered_traces.h5\", \"/detr\")\n",
    "    selected = fl.load(path / 'selected.h5')\n",
    "    coords = suit2p_data['coords']\n",
    "    \n",
    "    n_lags = 1000\n",
    "    num_traces = np.shape(traces)[1]\n",
    "    ac_all = np.zeros((n_lags + 1, num_traces))\n",
    "    all_tau = np.zeros(num_traces)\n",
    "    ac_len = n_lags + 1\n",
    "    xs = (1 / fs)*np.arange(ac_len)\n",
    "\n",
    "\n",
    "    all_mag =  np.empty(num_traces)\n",
    "    all_b =  np.empty(num_traces)\n",
    "\n",
    "    p0 = (1, .1, 0) # start with values near those we expect\n",
    "    for trace in range(num_traces):\n",
    "        # Get autocoorrelation function \n",
    "        ac_all[:, trace] = sm.tsa.acf(traces[:,trace], nlags=n_lags)\n",
    "\n",
    "        # Fit AC and get time constant \n",
    "        try:\n",
    "            params, cv = scipy.optimize.curve_fit(monoExp, xs, ac_all[:, trace], p0)\n",
    "            m, t, b = params    \n",
    "            all_mag[i] = m\n",
    "            all_b[i] = b\n",
    "            tauSec = (1 / t) / fs\n",
    "            all_tau[trace] = t\n",
    "        except:\n",
    "            all_tau[trace] = None\n",
    "\n",
    "    ax[r, c].scatter(coords[:, 1], coords[:, 2], c=all_tau, cmap='hot', s=3, vmin=0, vmax=0.35)\n",
    "    ax[r, c].axis('off')\n",
    "    i += 1\n",
    "    \n",
    "    "
   ]
  },
  {
   "cell_type": "code",
   "execution_count": null,
   "id": "according-walnut",
   "metadata": {},
   "outputs": [],
   "source": [
    "fig, all_axs = plt.subplots(11,\n",
    "    12,\n",
    "    figsize=(9, 12),\n",
    "    gridspec_kw=dict(\n",
    "        top=0.88,\n",
    "        right=1,\n",
    "        bottom=0.01,\n",
    "        hspace=0.3,\n",
    "        wspace=0,\n",
    "        width_ratios=[1, 1, 1, 0.3] * 3,\n",
    "    ),\n",
    "    sharey=True,\n",
    "    sharex=True,\n",
    ")\n"
   ]
  },
  {
   "cell_type": "code",
   "execution_count": null,
   "id": "referenced-enlargement",
   "metadata": {},
   "outputs": [],
   "source": []
  },
  {
   "cell_type": "code",
   "execution_count": null,
   "id": "settled-associate",
   "metadata": {},
   "outputs": [],
   "source": []
  },
  {
   "cell_type": "code",
   "execution_count": null,
   "id": "visible-cisco",
   "metadata": {},
   "outputs": [],
   "source": []
  }
 ],
 "metadata": {
  "kernelspec": {
   "display_name": "Python 3",
   "language": "python",
   "name": "python3"
  },
  "language_info": {
   "codemirror_mode": {
    "name": "ipython",
    "version": 3
   },
   "file_extension": ".py",
   "mimetype": "text/x-python",
   "name": "python",
   "nbconvert_exporter": "python",
   "pygments_lexer": "ipython3",
   "version": "3.7.10"
  }
 },
 "nbformat": 4,
 "nbformat_minor": 5
}
