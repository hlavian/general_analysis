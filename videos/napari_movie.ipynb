{
 "cells": [
  {
   "cell_type": "code",
   "execution_count": 1,
   "id": "bound-vertical",
   "metadata": {},
   "outputs": [],
   "source": [
    "#%gui qt\n",
    "import napari\n",
    "from pathlib import Path\n",
    "import tifffile\n",
    "from napari_animation import AnimationWidget\n",
    "from split_dataset import SplitDataset\n",
    "import numpy as np\n",
    "from naparimovie import Movie\n",
    "%gui qt5"
   ]
  },
  {
   "cell_type": "code",
   "execution_count": 3,
   "id": "tutorial-condition",
   "metadata": {},
   "outputs": [],
   "source": [
    "stack_path = Path(r\"C:\\Users\\lavian\\Desktop\\data\\v33\\210513_f2\")\n",
    "stack_path = Path(r\"C:\\Users\\lavian\\Desktop\\data\\v44_spontaneous\\210630_f0\")\n",
    "#stack_path = Path(r\"\\\\FUNES\\Shared\\experiments\\E0040_motions_cardinal\\v17_2d_vr\\210506_f4ipn_2dvr\")\n",
    "#stack_path = Path(r\"C:\\Users\\lavian\\Desktop\\data\\v44_spontaneous\\210616_f1\")\n",
    "#stack_path = Path(r\"C:\\Users\\lavian\\Desktop\\data\\e0040_V13\\rf\\fixed\\210604_f2\")\n",
    "#stack_path = Path(r\"C:\\Users\\lavian\\Desktop\\data\\v44_spontaneous\\210616_f1\")\n",
    "#stack_path = Path(r\"\\\\Funes\\shared\\experiments\\E0044_spontaneous\\gad1b\\ls\\e0044_v00\\210701_f1\")\n",
    "stack_path = Path(r\"C:\\Users\\lavian\\Desktop\\data\\v33\\210630_f0\")\n",
    "stack_path = Path(r\"C:\\Users\\lavian\\Desktop\\data\\anatomy2p\\dendra\\round2\")\n",
    "stack_path = Path(r\"\\\\Funes\\Shared\\experiments\\E0044_spontaneous\\itpr1b\\cerebellum\\210831_f3_v13\")\n",
    "#stack = SplitDataset(stack_path / \"aligned\")[:,:,:,:]\n",
    "stack_path = Path(r\"C:\\Users\\lavian\\Desktop\\morphing\\f1_210728\")\n",
    "master_path = Path(r\"Z:\\Hagar\\older fish\\gad1b\")\n",
    "files = list(master_path.glob(\"*_f*\"))\n",
    "stack_path = files[0]\n",
    "#stack = SplitDataset(stack_path / \"aligned\")[:,:,:,:]\n",
    "#stack_path = Path(r\"C:\\Users\\lavian\\Desktop\\morphing\\Inbal\\old files\")\n",
    "\n",
    "#stack = tifffile.imread(stack_path / \"anatomy.tif\")"
   ]
  },
  {
   "cell_type": "code",
   "execution_count": 4,
   "id": "distinguished-scanner",
   "metadata": {},
   "outputs": [],
   "source": [
    "stack = SplitDataset(stack_path / 'aligned')"
   ]
  },
  {
   "cell_type": "code",
   "execution_count": null,
   "id": "stock-grill",
   "metadata": {},
   "outputs": [],
   "source": [
    "stack = tifffile.imread(stack_path / \"tectum_mask_cropped.tif\")[:,350:650,350:650]\n",
    "stack2 = tifffile.imread(stack_path / \"sphere_mask_grid_final2.tif\")[:,350:650,350:650]"
   ]
  },
  {
   "cell_type": "code",
   "execution_count": null,
   "id": "interim-gilbert",
   "metadata": {},
   "outputs": [],
   "source": [
    "#create napari viewer\n",
    "viewer = napari.Viewer(ndisplay=3)\n",
    "viewer.add_image(stack2, scale=(1,1,1))\n",
    "\n",
    "#create naparimovie object\n",
    "movie = Movie(myviewer=viewer)\n",
    "movie.create_state_dict_from_script('moviecommands2.txt')\n",
    "movie.inter_steps = 100\n",
    "movie.make_movie(name = 'sphere_8th.mp4', resolution = 300, fps = 60)"
   ]
  },
  {
   "cell_type": "code",
   "execution_count": null,
   "id": "private-headset",
   "metadata": {},
   "outputs": [],
   "source": [
    "#create napari viewer\n",
    "viewer = napari.Viewer(ndisplay=3)\n",
    "viewer.add_image(stack, scale=(1,1,1))\n",
    "\n",
    "#create naparimovie object\n",
    "movie = Movie(myviewer=viewer)\n",
    "movie.create_state_dict_from_script('moviecommands2.txt')\n",
    "movie.inter_steps = 100\n",
    "movie.make_movie(name = 'tectum_mask.mp4', resolution = 300, fps = 60)"
   ]
  },
  {
   "cell_type": "code",
   "execution_count": null,
   "id": "selected-murray",
   "metadata": {},
   "outputs": [],
   "source": [
    "from scipy import ndimage"
   ]
  },
  {
   "cell_type": "code",
   "execution_count": null,
   "id": "commercial-geometry",
   "metadata": {},
   "outputs": [],
   "source": [
    "stack = tifffile.imread(stack_path / \"gene_6.tif\")[:,350:650,350:650]\n",
    "stack=ndimage.gaussian_filter(stack,1,order=0)\n",
    "#viewer = napari.view_image(stack, colormap=\"bop blue\")\n",
    "stack_w = tifffile.imread(stack_path / \"gene12_warp.tif\")[:,350:650,350:650]\n",
    "stack_w[np.where(stack_w>0.1)] = 1\n",
    "stack_w[np.where(stack_w<0.1)] = 0\n",
    "stack_w=ndimage.gaussian_filter(stack_w,1,order=0)\n",
    "#viewer.add_image(stack, colormap=\"bop orange\", blending=\"additive\")"
   ]
  },
  {
   "cell_type": "code",
   "execution_count": null,
   "id": "unlikely-robin",
   "metadata": {},
   "outputs": [],
   "source": [
    "#stack_w = tifffile.imread(stack_path / \"gene0_warp.tif\")[:,350:650,350:650]\n",
    "#np.unique(stack_w)"
   ]
  },
  {
   "cell_type": "code",
   "execution_count": null,
   "id": "criminal-wisdom",
   "metadata": {},
   "outputs": [],
   "source": [
    "#create napari viewer\n",
    "viewer = napari.Viewer(ndisplay=3)\n",
    "viewer.add_image(stack_w, scale=(1,1,1), colormap=\"gray_r\")\n",
    "\n",
    "#create naparimovie object\n",
    "movie = Movie(myviewer=viewer)\n",
    "movie.create_state_dict_from_script('moviecommands2.txt')\n",
    "movie.inter_steps = 100\n",
    "movie.make_movie(name = 'gene12_rev.mp4', resolution = 300, fps = 60)"
   ]
  },
  {
   "cell_type": "code",
   "execution_count": null,
   "id": "public-rider",
   "metadata": {},
   "outputs": [],
   "source": [
    "#create napari viewer\n",
    "viewer = napari.Viewer(ndisplay=3)\n",
    "viewer.add_image(stack_w, scale=(1,1,1), colormap=\"red\")\n",
    "\n",
    "#create naparimovie object\n",
    "movie = Movie(myviewer=viewer)\n",
    "movie.create_state_dict_from_script('moviecommands2.txt')\n",
    "movie.inter_steps = 100\n",
    "movie.make_movie(name = 'gene6_wrap.mp4', resolution = 300, fps = 60)"
   ]
  },
  {
   "cell_type": "code",
   "execution_count": null,
   "id": "retained-vermont",
   "metadata": {},
   "outputs": [],
   "source": [
    "#stack_reshaped = np.reshape(stack, (np.shape(stack)[0], np.shape(stack)[1], np.shape(stack)[2]*np.shape(stack)[3]))\n",
    "#stack_reshaped = ((stack_reshaped - stack_reshaped.mean(0)) / stack_reshaped.std(0))\n",
    "#norm_stack = np.reshape(stack, (np.shape(stack)[0], np.shape(stack)[1], np.shape(stack)[2], np.shape(stack)[3]))\n",
    "norm_stack = stack - np.mean(stack, 0)\n",
    "#norm_stack = stack"
   ]
  },
  {
   "cell_type": "code",
   "execution_count": null,
   "id": "classical-folder",
   "metadata": {},
   "outputs": [],
   "source": []
  },
  {
   "cell_type": "code",
   "execution_count": null,
   "id": "awful-brief",
   "metadata": {},
   "outputs": [],
   "source": [
    "#corrmap = tifffile.imread(stack_path / \"anatomy4.tif\")\n",
    "viewer = napari.Viewer(ndisplay=3)\n",
    "cmap = [\"gray\", \"bop orange\", \"bop blue\", \"bop purple\", \"magenta\", \"yellow\", \"red\", \"green\", \"cyan\", \"blue\", \"gray\", \"green\", \"yellow\", \"cyan\"]\n",
    "stack = tifffile.imread(stack_path / \"gene_0.tif\")[:,350:650,350:650]\n",
    "for i in range(0,10):\n",
    "    file_name = \"gene\" + str(i) + \"_warp.tif\"\n",
    "    stack = tifffile.imread(stack_path /file_name)\n",
    "    stack = stack[:,350:650,350:650]\n",
    "    viewer.add_image(stack, colormap=cmap[i], blending=\"additive\")"
   ]
  },
  {
   "cell_type": "code",
   "execution_count": null,
   "id": "spoken-scheduling",
   "metadata": {},
   "outputs": [],
   "source": [
    "movie = Movie(myviewer=viewer)\n",
    "movie.create_state_dict_from_script('moviecommands2.txt')\n",
    "movie.inter_steps = 100\n",
    "movie.make_movie(name = 'all_genes_warp.mp4', resolution = 300, fps = 60)"
   ]
  },
  {
   "cell_type": "code",
   "execution_count": null,
   "id": "digital-there",
   "metadata": {},
   "outputs": [],
   "source": [
    "file_list = [\"anatomy_1_cwccw.tif\", \"f1bclol_2_f1cwccw_affine.tif\", \"f1bcwccw_2_f1cwccw_affine.tif\", \"f1clol_2_f1cwccw_affine.tif\"]\n",
    "file_list = [\"anatomy_210715_f5.tif\", \"f0_210601_warp.tif\", \"f3_210601_warp.tif\", \"f1_210314_warp.tif\"]\n",
    "cmap = [\"bop purple\", \"bop blue\", \"bop orange\", \"bop purple\"]\n",
    "stack = tifffile.imread(stack_path / file_list[0])\n",
    "viewer = napari.view_image(stack, scale=(10, 1, 1), colormap=\"cyan\")\n",
    "for i in range(1,4):\n",
    "    stack = tifffile.imread(stack_path / file_list[i])\n",
    "    viewer.add_image(stack, scale=(10, 1, 1), colormap=cmap[i], blending=\"additive\")"
   ]
  },
  {
   "cell_type": "code",
   "execution_count": null,
   "id": "exempt-gather",
   "metadata": {},
   "outputs": [],
   "source": [
    "viewer = napari.view_image(norm_stack, scale=(1, 7, 1, 1), colormap='coolwarm')"
   ]
  },
  {
   "cell_type": "code",
   "execution_count": null,
   "id": "maritime-divorce",
   "metadata": {},
   "outputs": [],
   "source": [
    "#stack = stack - np.mean(stack)\n",
    "sample_data = [stack[min(2, stack.shape[0] - 1) : min(7, stack.shape[0]), :, :, :]]\n",
    "contrast_limits = (np.percentile(sample_data, 0.01), np.percentile(sample_data, 99.99))\n",
    "#contrast_limits = None"
   ]
  },
  {
   "cell_type": "code",
   "execution_count": null,
   "id": "synthetic-tower",
   "metadata": {},
   "outputs": [],
   "source": [
    "stack = SplitDataset(stack_path / 'aligned')\n",
    "rois = \n",
    "num_planes = np.shape(stack)[1]\n",
    "masked_stack = np.copy(stack)\n",
    "for i in range(num_planes):\n",
    "    tmp_plane = stack[:, i]\n",
    "    tmp_rois = rois[i]\n",
    "    masked_stack[:, i] = np.ma.masked_where(tmp_rois<1, tmp_plane)\n",
    "viewer = napari.view_image(stack, contrast_limits=contrast_limits, colormap='gray_r')"
   ]
  },
  {
   "cell_type": "code",
   "execution_count": null,
   "id": "subject-strap",
   "metadata": {},
   "outputs": [],
   "source": [
    "animation_widget = AnimationWidget(viewer)\n",
    "viewer.window.add_dock_widget(animation_widget, area='right')"
   ]
  },
  {
   "cell_type": "code",
   "execution_count": null,
   "id": "finnish-institution",
   "metadata": {},
   "outputs": [],
   "source": []
  },
  {
   "cell_type": "code",
   "execution_count": null,
   "id": "cubic-neighbor",
   "metadata": {},
   "outputs": [],
   "source": []
  },
  {
   "cell_type": "code",
   "execution_count": null,
   "id": "pressed-plant",
   "metadata": {},
   "outputs": [],
   "source": []
  },
  {
   "cell_type": "code",
   "execution_count": null,
   "id": "pleased-hobby",
   "metadata": {},
   "outputs": [],
   "source": [
    "movie = napari.Movie(myviewer=viewer)"
   ]
  },
  {
   "cell_type": "code",
   "execution_count": null,
   "id": "temporal-antenna",
   "metadata": {},
   "outputs": [],
   "source": [
    "movie.inter_steps = 40"
   ]
  },
  {
   "cell_type": "code",
   "execution_count": null,
   "id": "cubic-allah",
   "metadata": {},
   "outputs": [],
   "source": [
    "movie.make_movie(name = 'movie_210513_f2.gif', resolution = 300, fps = 20)\n"
   ]
  },
  {
   "cell_type": "code",
   "execution_count": null,
   "id": "associate-atlantic",
   "metadata": {},
   "outputs": [],
   "source": []
  }
 ],
 "metadata": {
  "kernelspec": {
   "display_name": "Python 3",
   "language": "python",
   "name": "python3"
  },
  "language_info": {
   "codemirror_mode": {
    "name": "ipython",
    "version": 3
   },
   "file_extension": ".py",
   "mimetype": "text/x-python",
   "name": "python",
   "nbconvert_exporter": "python",
   "pygments_lexer": "ipython3",
   "version": "3.7.10"
  }
 },
 "nbformat": 4,
 "nbformat_minor": 5
}
