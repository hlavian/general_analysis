{
 "cells": [
  {
   "cell_type": "code",
   "execution_count": null,
   "id": "honest-winning",
   "metadata": {},
   "outputs": [],
   "source": [
    "#%gui qt\n",
    "import napari\n",
    "from pathlib import Path\n",
    "import tifffile\n",
    "from napari_animation import AnimationWidget\n",
    "from split_dataset import SplitDataset\n",
    "import numpy as np\n",
    "from naparimovie import Movie\n",
    "from scipy import ndimage\n",
    "%gui qt5"
   ]
  },
  {
   "cell_type": "code",
   "execution_count": null,
   "id": "warming-snapshot",
   "metadata": {},
   "outputs": [],
   "source": [
    "master = Path(r\"\\\\funes2\\legacy\\experiments\\E0040_motions_cardinal\\v13_cw_ccw\\2p\\habenula\")\n",
    "\n",
    "files = list(master.glob(\"*_f*\"))\n",
    "fish_dir = files[0] \n",
    "stack = SplitDataset(fish_dir / \"aligned\")[:,:,:,:]\n",
    "#stack2 = tifffile.imread(fish_dir / \"anatomy.tif\")"
   ]
  },
  {
   "cell_type": "code",
   "execution_count": null,
   "id": "damaged-ticket",
   "metadata": {},
   "outputs": [],
   "source": [
    "norm_stack = stack - np.mean(stack, 0)"
   ]
  },
  {
   "cell_type": "code",
   "execution_count": null,
   "id": "southern-conditioning",
   "metadata": {},
   "outputs": [],
   "source": [
    "viewer = napari.view_image(stack, scale=(1, 1, 1, 1), colormap='gray_r')"
   ]
  },
  {
   "cell_type": "code",
   "execution_count": null,
   "id": "given-authorization",
   "metadata": {},
   "outputs": [],
   "source": [
    "sample_data = [stack[min(2, stack.shape[0] - 1) : min(7, stack.shape[0]), :, :, :]]\n",
    "contrast_limits = (np.percentile(sample_data, 0.01), np.percentile(sample_data, 99.99))\n",
    "#contrast_limits = None"
   ]
  },
  {
   "cell_type": "code",
   "execution_count": null,
   "id": "immediate-carry",
   "metadata": {},
   "outputs": [],
   "source": [
    "#stack = SplitDataset(stack_path / 'aligned')\n",
    "num_planes = np.shape(stack)[1]\n",
    "tmp_plane = np.sum(stack[:, 2:8], axis=1)\n",
    "viewer = napari.view_image(tmp_plane, colormap='coolwarm')\n"
   ]
  },
  {
   "cell_type": "code",
   "execution_count": null,
   "id": "talented-phoenix",
   "metadata": {},
   "outputs": [],
   "source": [
    "animation_widget = AnimationWidget(viewer)\n",
    "viewer.window.add_dock_widget(animation_widget, area='right')"
   ]
  },
  {
   "cell_type": "code",
   "execution_count": null,
   "id": "generic-stanley",
   "metadata": {},
   "outputs": [],
   "source": [
    "#create napari viewer\n",
    "viewer = napari.Viewer(ndisplay=3)\n",
    "viewer.add_image(stack2, scale=(1,1,1))\n",
    "\n",
    "#create naparimovie object\n",
    "movie = Movie(myviewer=viewer)\n",
    "movie.create_state_dict_from_script('moviecommands2.txt')\n",
    "movie.inter_steps = 100\n",
    "movie.make_movie(name = 'sphere_8th.mp4', resolution = 300, fps = 60)"
   ]
  },
  {
   "cell_type": "code",
   "execution_count": null,
   "id": "hazardous-addiction",
   "metadata": {},
   "outputs": [],
   "source": []
  },
  {
   "cell_type": "code",
   "execution_count": null,
   "id": "solved-savannah",
   "metadata": {},
   "outputs": [],
   "source": []
  },
  {
   "cell_type": "code",
   "execution_count": null,
   "id": "valued-westminster",
   "metadata": {},
   "outputs": [],
   "source": []
  },
  {
   "cell_type": "code",
   "execution_count": null,
   "id": "driven-dress",
   "metadata": {},
   "outputs": [],
   "source": [
    "movie = napari.Movie(myviewer=viewer)"
   ]
  },
  {
   "cell_type": "code",
   "execution_count": null,
   "id": "civil-uniform",
   "metadata": {},
   "outputs": [],
   "source": [
    "movie.inter_steps = 40"
   ]
  },
  {
   "cell_type": "code",
   "execution_count": null,
   "id": "nuclear-header",
   "metadata": {},
   "outputs": [],
   "source": [
    "movie.make_movie(name = 'movie_210513_f2.gif', resolution = 300, fps = 20)\n"
   ]
  },
  {
   "cell_type": "code",
   "execution_count": null,
   "id": "automatic-brass",
   "metadata": {},
   "outputs": [],
   "source": []
  }
 ],
 "metadata": {
  "kernelspec": {
   "display_name": "Python 3",
   "language": "python",
   "name": "python3"
  },
  "language_info": {
   "codemirror_mode": {
    "name": "ipython",
    "version": 3
   },
   "file_extension": ".py",
   "mimetype": "text/x-python",
   "name": "python",
   "nbconvert_exporter": "python",
   "pygments_lexer": "ipython3",
   "version": "3.7.10"
  }
 },
 "nbformat": 4,
 "nbformat_minor": 5
}
