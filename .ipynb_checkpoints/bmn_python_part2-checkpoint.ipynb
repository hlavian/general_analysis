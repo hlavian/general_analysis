{
 "cells": [
  {
   "cell_type": "code",
   "execution_count": null,
   "id": "confident-ottawa",
   "metadata": {},
   "outputs": [],
   "source": [
    "%matplotlib widget"
   ]
  },
  {
   "cell_type": "code",
   "execution_count": null,
   "id": "minus-affair",
   "metadata": {},
   "outputs": [],
   "source": [
    "import numpy as np\n",
    "import matplotlib.pyplot as plt\n",
    "import tifffile as tiff\n",
    "from pathlib import Path\n",
    "from scipy.stats import zscore\n",
    "from PIL import Image, ImageDraw"
   ]
  },
  {
   "cell_type": "code",
   "execution_count": null,
   "id": "marked-reason",
   "metadata": {},
   "outputs": [],
   "source": [
    "# Loading two 3D image stacks \n",
    "master = Path(r\"\\\\Funes\\Shared\\experiments\\E0038_confocal\\v004_ipn_reference\\211108_h2b-mcherry_gad1b-gfp\\f1\")\n",
    "\n",
    "# This stack shows nuclear localized expression of RFP in all neurons of a zebrafish brain:\n",
    "anatomy_file1 = tiff.imread(master / 'C1-Experiment-864_x20.tif')\n",
    "# This stack shows expression of GFP in all GABAergic neurons in a zebrafish brain:\n",
    "anatomy_file = tiff.imread(master / 'C2-Experiment-864_x20.tif')"
   ]
  },
  {
   "cell_type": "code",
   "execution_count": null,
   "id": "included-flash",
   "metadata": {},
   "outputs": [],
   "source": [
    "# Generating a figure with multiple subplots, controling the size of the figure and the width ratio:\n",
    "fig_anatomy, ax_anatomy = plt.subplots(1, 2, figsize=(6,5), gridspec_kw={'width_ratios':[4,1]})\n",
    "\n",
    "tmp_view = np.nanmean(anatomy_file1, axis=0)\n",
    "ax_anatomy[0].imshow(tmp_view, cmap=\"gray_r\", vmin=5, vmax=90, extent=[0,100,0,100])\n",
    "ax_anatomy[0].axis('off')\n",
    "\n",
    "# Here, using alpha we can merge two images\n",
    "tmp_view = np.nanmean(anatomy_file, axis=0)\n",
    "ax_anatomy[0].imshow(tmp_view, cmap=\"Blues\", vmin=2, vmax=20, extent=[0,100,0,100], alpha=0.5)\n",
    "\n",
    "tmp_view = np.nanmean(anatomy_file1, axis=2).T\n",
    "ax_anatomy[1].imshow(tmp_view, cmap=\"gray_r\", vmin=5, vmax=90, extent=[0,25,0,100])\n",
    "ax_anatomy[1].axis('off')\n",
    "\n",
    "tmp_view = np.nanmean(anatomy_file, axis=2).T\n",
    "ax_anatomy[1].imshow(tmp_view, cmap=\"Blues\", alpha=0.5, vmin=2, vmax=20, extent=[0,25,0,100])\n",
    "fig_anatomy.tight_layout()\n",
    "plt.show()"
   ]
  },
  {
   "cell_type": "code",
   "execution_count": null,
   "id": "textile-ethnic",
   "metadata": {},
   "outputs": [],
   "source": [
    "# Masking out the eyes of the fish"
   ]
  },
  {
   "cell_type": "code",
   "execution_count": null,
   "id": "increasing-source",
   "metadata": {},
   "outputs": [],
   "source": [
    "# creating a polygon mask:\n",
    "num_planes, nx, ny = np.shape(anatomy_file)\n",
    "img = Image.new(\"L\", [nx, ny], 0)\n",
    "x1 = 300\n",
    "y2 = 650\n",
    "y1 = 400\n",
    "x2 = 300\n",
    "ImageDraw.Draw(img).polygon([(x1, 0), (x1, y1), (0, y2), (0, 700), (x2, 1024), (1024-x2, 1024), (1024, 700), (1024, y2), (1024-x1, y1), (1024-x1, 0)], outline=1, fill=1)\n",
    "mask = np.array(img)\n",
    "print(np.shape(mask))"
   ]
  },
  {
   "cell_type": "code",
   "execution_count": null,
   "id": "racial-copying",
   "metadata": {},
   "outputs": [],
   "source": [
    "# Vieweing the mask\n",
    "fig_mask, ax_mask = plt.subplots(1, 2, figsize=(5,5))\n",
    "fig_anatomy.tight_layout()\n",
    "\n",
    "tmp_view = np.nanmean(anatomy_file1, axis=0)\n",
    "ax_mask[0].imshow(tmp_view, cmap=\"gray_r\", vmin=5, vmax=90, extent=[0,100,0,100])\n",
    "\n",
    "ax_mask[1].imshow(tmp_view, cmap=\"gray_r\", vmin=5, vmax=90)\n",
    "ax_mask[1].imshow(mask)\n",
    "\n",
    "plt.show()"
   ]
  },
  {
   "cell_type": "code",
   "execution_count": null,
   "id": "considered-evening",
   "metadata": {},
   "outputs": [],
   "source": [
    "# Masking the eyes\n",
    "gad1b_masked = np.zeros_like(anatomy_file, dtype=float)\n",
    "for i in range(num_planes):\n",
    "    tmp_plane = anatomy_file[i] * mask\n",
    "    gad1b_masked[i] = tmp_plane\n"
   ]
  },
  {
   "cell_type": "code",
   "execution_count": null,
   "id": "normal-tunnel",
   "metadata": {},
   "outputs": [],
   "source": [
    "fig_anatomy, ax_anatomy = plt.subplots(1, 2, figsize=(6,5), gridspec_kw={'width_ratios':[4,1]})\n",
    "fig_anatomy.tight_layout()\n",
    "\n",
    "\n",
    "tmp_view = np.nanmean(anatomy_file1, axis=0)\n",
    "ax_anatomy[0].imshow(tmp_view, cmap=\"gray_r\", vmin=5, vmax=80, extent=[0,100,0,100])\n",
    "ax_anatomy[0].axis('off')\n",
    "\n",
    "tmp_view = np.nanmean(gad1b_masked, axis=0)\n",
    "ax_anatomy[0].imshow(tmp_view, cmap=\"Blues\", alpha=0.5, vmin=2, vmax=20, extent=[0,100,0,100])\n",
    "\n",
    "tmp_view = np.nanmean(anatomy_file1, axis=2).T\n",
    "ax_anatomy[1].imshow(tmp_view, cmap=\"gray_r\", vmin=5, vmax=80, extent=[0,25,0,100])\n",
    "ax_anatomy[1].axis('off')\n",
    "\n",
    "tmp_view = np.nanmean(gad1b_masked, axis=2).T\n",
    "ax_anatomy[1].imshow(tmp_view, cmap=\"Blues\", alpha=0.5, vmin=2, vmax=20, extent=[0,25,0,100])\n",
    "fig_anatomy.tight_layout()\n",
    "plt.show()"
   ]
  },
  {
   "cell_type": "code",
   "execution_count": null,
   "id": "stable-miracle",
   "metadata": {},
   "outputs": [],
   "source": []
  }
 ],
 "metadata": {
  "kernelspec": {
   "display_name": "Python 3",
   "language": "python",
   "name": "python3"
  },
  "language_info": {
   "codemirror_mode": {
    "name": "ipython",
    "version": 3
   },
   "file_extension": ".py",
   "mimetype": "text/x-python",
   "name": "python",
   "nbconvert_exporter": "python",
   "pygments_lexer": "ipython3",
   "version": "3.7.10"
  }
 },
 "nbformat": 4,
 "nbformat_minor": 5
}
