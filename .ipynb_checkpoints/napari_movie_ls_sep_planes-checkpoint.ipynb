{
 "cells": [
  {
   "cell_type": "code",
   "execution_count": null,
   "id": "naval-creator",
   "metadata": {},
   "outputs": [],
   "source": [
    "#%gui qt\n",
    "import napari\n",
    "from pathlib import Path\n",
    "import tifffile as tiff\n",
    "from napari_animation import AnimationWidget\n",
    "from split_dataset import SplitDataset\n",
    "import numpy as np\n",
    "from naparimovie import Movie\n",
    "%gui qt5"
   ]
  },
  {
   "cell_type": "code",
   "execution_count": null,
   "id": "automatic-school",
   "metadata": {},
   "outputs": [],
   "source": [
    "master_path = Path(r\"\\\\Funes\\Shared\\experiments\\E0020_random_coherences\\v35_two_options_forward_ol\\h2b\")\n",
    "#master_path = Path(r\"\\\\Funes\\Shared\\experiments\\E0020_random_coherences\\v35_two_options_forward_ol\\ls\\fix\")\n",
    "files = list(master_path.glob(\"*_f*\"))\n",
    "fish = files[12]\n",
    "print(fish)"
   ]
  },
  {
   "cell_type": "code",
   "execution_count": null,
   "id": "provincial-penny",
   "metadata": {},
   "outputs": [],
   "source": [
    "stack = SplitDataset(fish / \"aligned\")\n",
    "num_planes = np.shape(stack)[1]\n",
    "np.shape(stack)"
   ]
  },
  {
   "cell_type": "code",
   "execution_count": null,
   "id": "decent-infrared",
   "metadata": {},
   "outputs": [],
   "source": [
    "corrmap = 0"
   ]
  },
  {
   "cell_type": "code",
   "execution_count": null,
   "id": "animated-packet",
   "metadata": {},
   "outputs": [],
   "source": [
    "#create napari viewer\n",
    "#viewer = napari.Viewer(ndisplay=3)\n",
    "viewer = napari.Viewer()\n",
    "for i in range(2, num_planes):\n",
    "    print(i)\n",
    "    tmp_plane = stack[:,i,:,:]\n",
    "    #tmp_plane = int(np.mean(tmp_plane))\n",
    "    viewer.add_image(tmp_plane, colormap=\"gray_r\")\n"
   ]
  },
  {
   "cell_type": "code",
   "execution_count": null,
   "id": "quarterly-execution",
   "metadata": {},
   "outputs": [],
   "source": [
    "#create napari viewer\n",
    "#viewer = napari.Viewer(ndisplay=3)\n",
    "#viewer.add_image(np.sum(corrmap,axis=0), colormap=\"gray\")\n",
    "tmp_plane = stack[:7400,1,:,:]\n",
    "for i in range(2, num_planes):\n",
    "    print(i)\n",
    "    tmp_plane += stack[:7400,i,:,:]\n",
    "    \n",
    "tmp_plane /= (num_planes - 1) \n",
    "viewer = napari.Viewer()\n",
    "viewer.add_image(tmp_plane, colormap=\"gray_r\")\n"
   ]
  },
  {
   "cell_type": "code",
   "execution_count": null,
   "id": "attended-antarctica",
   "metadata": {},
   "outputs": [],
   "source": [
    "animation_widget = AnimationWidget(viewer)\n",
    "viewer.window.add_dock_widget(animation_widget, area='right')"
   ]
  },
  {
   "cell_type": "code",
   "execution_count": null,
   "id": "worst-mayor",
   "metadata": {},
   "outputs": [],
   "source": []
  }
 ],
 "metadata": {
  "kernelspec": {
   "display_name": "Python 3 (ipykernel)",
   "language": "python",
   "name": "python3"
  },
  "language_info": {
   "codemirror_mode": {
    "name": "ipython",
    "version": 3
   },
   "file_extension": ".py",
   "mimetype": "text/x-python",
   "name": "python",
   "nbconvert_exporter": "python",
   "pygments_lexer": "ipython3",
   "version": "3.7.10"
  }
 },
 "nbformat": 4,
 "nbformat_minor": 5
}
