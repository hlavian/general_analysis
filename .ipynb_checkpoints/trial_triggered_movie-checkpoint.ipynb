{
 "cells": [
  {
   "cell_type": "code",
   "execution_count": null,
   "id": "comparable-keeping",
   "metadata": {},
   "outputs": [],
   "source": [
    "%matplotlib widget"
   ]
  },
  {
   "cell_type": "code",
   "execution_count": null,
   "id": "classical-glory",
   "metadata": {},
   "outputs": [],
   "source": [
    "import numpy as np\n",
    "import tifffile as tiff\n",
    "from pathlib import Path\n",
    "from matplotlib import pyplot as plt\n",
    "import flammkuchen as fl\n",
    "import napari\n",
    "from napari_animation import AnimationWidget\n",
    "from split_dataset import SplitDataset\n",
    "from fimpylab.core.lightsheet_experiment import LightsheetExperiment\n",
    "%gui qt5"
   ]
  },
  {
   "cell_type": "code",
   "execution_count": null,
   "id": "combined-winning",
   "metadata": {},
   "outputs": [],
   "source": [
    "master = Path(r\"\\\\Funes\\Shared\\experiments\\E0020_random_coherences\\v35_two_options_forward_ol\\ls\")\n",
    "master = Path(r\"\\\\Funes\\Shared\\experiments\\E0020_random_coherences\\v35_two_options_forward_ol\\h2b\")\n",
    "\n",
    "files = list(master.glob(\"*_f*\"))\n",
    "fish = files[0]\n",
    "print(fish)"
   ]
  },
  {
   "cell_type": "code",
   "execution_count": null,
   "id": "overhead-county",
   "metadata": {},
   "outputs": [],
   "source": [
    "# Getting stimulus information\n",
    "exp = LightsheetExperiment(path=fish)\n",
    "stim_log = getattr(exp, \"stimulus_log\")\n",
    "\n",
    "stim_log.random_dots_dot_color\n",
    "stim_log.random_dots_coherence"
   ]
  },
  {
   "cell_type": "code",
   "execution_count": null,
   "id": "curious-commercial",
   "metadata": {},
   "outputs": [],
   "source": [
    "# classifying trials \n",
    "num_subtrials = 2\n",
    "num_trials = 80* num_subtrials\n",
    "dot_color_full = np.zeros(num_trials)\n",
    "tail_full = []\n",
    "\n",
    "stimulus_log = exp.stimulus_log\n",
    "dot_color =  np.asarray(stimulus_log.random_dots_dot_color)\n",
    "stim_t = np.asarray(stimulus_log.t)\n",
    "\n",
    "trial_len = (len(dot_color)//num_trials)\n",
    "#print(dot_color[1:500])\n",
    "dot_color = dot_color[0:(trial_len * num_trials)]\n",
    "trial_type = np.reshape(dot_color,  (num_trials, trial_len))\n",
    "trial_type = trial_type[:, 400:800]\n",
    "trial_type = (np.mean(trial_type, 1))\n",
    "dot_color_full = trial_type\n",
    "dot_color_full = np.round(trial_type)\n",
    "print(trial_type)\n",
    "print(dot_color_full)\n"
   ]
  },
  {
   "cell_type": "code",
   "execution_count": null,
   "id": "theoretical-message",
   "metadata": {},
   "outputs": [],
   "source": [
    "# Loading imaging data (aligned)\n",
    "aligned_stack = SplitDataset(fish / \"aligned\")\n",
    "num_planes, x_pix, y_pix = np.shape(aligned_stack)[1:4]\n",
    "np.shape(aligned_stack)\n",
    "fs = 2"
   ]
  },
  {
   "cell_type": "code",
   "execution_count": null,
   "id": "alternative-legend",
   "metadata": {},
   "outputs": [],
   "source": [
    "np.shape(aligned_stack)\n",
    "print(np.max(forward_trials_red))"
   ]
  },
  {
   "cell_type": "code",
   "execution_count": null,
   "id": "corrected-cameroon",
   "metadata": {},
   "outputs": [],
   "source": [
    "# averaging imaging data according to the different trial types \n",
    "len_segment = fs * 30 # (frozen + dot motion)\n",
    "#left_trials = np.zeros((len_segment, num_planes, x_pix, y_pix))\n",
    "#right_trials = np.zeros((len_segment, num_planes, x_pix, y_pix))\n",
    "#red_trials_beginning = np.zeros((len_segment, num_planes, x_pix, y_pix))\n",
    "#black_trials_beginning = np.zeros((len_segment, num_planes, x_pix, y_pix))\n",
    "\n",
    "forward_trials_red = np.zeros((8, len_segment, num_planes, x_pix, y_pix))\n",
    "#forward_trials_black = np.zeros((8, len_segment, num_planes, x_pix, y_pix))"
   ]
  },
  {
   "cell_type": "code",
   "execution_count": null,
   "id": "serious-breath",
   "metadata": {},
   "outputs": [],
   "source": [
    "forward_trials = [18, 19, 38, 39, 58, 59, 78, 79, 98, 99, 118, 119, 138, 139, 158, 159]\n",
    "count_r = 0\n",
    "count_b = 0\n",
    "count = 0\n",
    "for trial in forward_trials:\n",
    "    #print(t1, t2)\n",
    "    t1 = 20 + (trial * 30) * fs\n",
    "    t2 = t1 + (fs*30)\n",
    "    print(dot_color_full[trial])\n",
    "    if dot_color_full[trial] >0.5:\n",
    "        forward_trials_red[count_r] = aligned_stack[t1:t2]\n",
    "        count_r += 1\n",
    "    else:\n",
    "        #forward_trials_black[count_b] = aligned_stack[t1:t2]\n",
    "        print(\"F\")\n",
    "        count_b += 1\n",
    "    count += 0"
   ]
  },
  {
   "cell_type": "code",
   "execution_count": null,
   "id": "opened-commons",
   "metadata": {},
   "outputs": [],
   "source": [
    "forward_trials = list(np.arange(0, 20)) + [38, 39, 58, 59, 78, 79, 98, 99, 118, 119, 138, 139, 158, 159]\n",
    "for trial in range(num_trials):\n",
    "    t1 = 20 + (trial * 30) * fs\n",
    "    t2 = t1 + (fs*30)\n",
    "    #print(t1,t2)\n",
    "    #print(np.shape(aligned_stack[t1:t2]))\n",
    "    if trial in forward_trials:\n",
    "        #print(trial)\n",
    "        if dot_color_full[trial] >0.5:\n",
    "            red_trials_beginning += aligned_stack[t1:t2]\n",
    "        else:\n",
    "            black_trials_beginning += aligned_stack[t1:t2]\n",
    "    else:\n",
    "        if dot_color_full[trial] >0.5:\n",
    "            #print(\"j\")\n",
    "            left_trials += aligned_stack[t1:t2]\n",
    "        else:\n",
    "            #print(\"Y\")\n",
    "            right_trials += aligned_stack[t1:t2]\n",
    "                "
   ]
  },
  {
   "cell_type": "code",
   "execution_count": null,
   "id": "isolated-spouse",
   "metadata": {},
   "outputs": [],
   "source": [
    "# Generating videos of trial triggered activity:\n",
    "viewer = napari.Viewer()\n",
    "for i in range(num_planes):\n",
    "    stack = forward_trials_red[:,i,:,:]\n",
    "    viewer.add_image(stack, colormap=\"gray_r\")\n",
    "animation_widget = AnimationWidget(viewer)\n",
    "viewer.window.add_dock_widget(animation_widget, area='right')"
   ]
  },
  {
   "cell_type": "code",
   "execution_count": null,
   "id": "engaged-timothy",
   "metadata": {},
   "outputs": [],
   "source": []
  },
  {
   "cell_type": "code",
   "execution_count": null,
   "id": "rational-blake",
   "metadata": {},
   "outputs": [],
   "source": [
    "# Generating videos of trial triggered activity:\n",
    "viewer = napari.Viewer()\n",
    "for i in range(8):\n",
    "    stack = forward_trials_red[i,:,:,:]\n",
    "    viewer.add_image(stack, colormap=\"gray_r\")\n",
    "animation_widget = AnimationWidget(viewer)\n",
    "viewer.window.add_dock_widget(animation_widget, area='right')"
   ]
  },
  {
   "cell_type": "code",
   "execution_count": null,
   "id": "suspended-simpson",
   "metadata": {},
   "outputs": [],
   "source": []
  }
 ],
 "metadata": {
  "kernelspec": {
   "display_name": "Python 3",
   "language": "python",
   "name": "python3"
  },
  "language_info": {
   "codemirror_mode": {
    "name": "ipython",
    "version": 3
   },
   "file_extension": ".py",
   "mimetype": "text/x-python",
   "name": "python",
   "nbconvert_exporter": "python",
   "pygments_lexer": "ipython3",
   "version": "3.7.10"
  }
 },
 "nbformat": 4,
 "nbformat_minor": 5
}
