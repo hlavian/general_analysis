{
 "cells": [
  {
   "cell_type": "code",
   "execution_count": null,
   "id": "freelance-sound",
   "metadata": {},
   "outputs": [],
   "source": [
    "%matplotlib widget"
   ]
  },
  {
   "cell_type": "code",
   "execution_count": null,
   "id": "annual-shock",
   "metadata": {},
   "outputs": [],
   "source": [
    "import numpy as np\n",
    "import matplotlib.pyplot as plt\n",
    "import tifffile as tiff\n",
    "from pathlib import Path"
   ]
  },
  {
   "cell_type": "code",
   "execution_count": null,
   "id": "differential-canadian",
   "metadata": {},
   "outputs": [],
   "source": [
    "master = Path(r\"\\\\Funes\\Shared\\experiments\\E0044_spontaneous\\gad1b\\2p_anatomy\\dendra\\morphed anatomy files\\round2  - to avg1 from round1b\")\n",
    "anatomy_file = tiff.imread(master / 'avg_brain_round2.tif')\n",
    "\n",
    "master = Path(r\"\\\\Funes\\Shared\\experiments\\E0044_spontaneous\\gad1b\\2p_anatomy\\dendra\\morphed anatomy files\\round2  - to avg1 from round1b\")\n",
    "anatomy_file = tiff.imread(master / 'avg_brain_round2.tif')"
   ]
  },
  {
   "cell_type": "code",
   "execution_count": null,
   "id": "affiliated-vertical",
   "metadata": {},
   "outputs": [],
   "source": [
    "fig_anatomy, ax_anatomy = plt.subplots(1, 3, figsize=(15,5))\n",
    "fig_anatomy.tight_layout()\n",
    "title_list = ['Horizontal', 'Sagittal', 'Coronal']\n",
    "\n",
    "k = [3, 6, 2]\n",
    "for i in range(3):\n",
    "    tmp_view = np.nansum(anatomy_file, axis=i)\n",
    "    tmp_view = np.rot90(tmp_view, k=k[i])\n",
    "    ax_anatomy[i].imshow(tmp_view, cmap=\"gray_r\", vmin=50000, vmax=900000)\n",
    "    ax_anatomy[i].set_title(title_list[i])\n",
    "    ax_anatomy[i].axis('off')\n",
    "\n",
    "plt.show()\n",
    "file_name = 'anatomy_figure_211108_f1.jpg'\n",
    "fig_anatomy.savefig(str(master / file_name))"
   ]
  },
  {
   "cell_type": "code",
   "execution_count": null,
   "id": "focused-appliance",
   "metadata": {},
   "outputs": [],
   "source": [
    "files = list(master.glob(\"*_f*\"))\n",
    "fish_dir = files[1] \n",
    "anatomy_file = tiff.imread(fish_dir)\n",
    "print(fish_dir)"
   ]
  },
  {
   "cell_type": "code",
   "execution_count": null,
   "id": "empirical-dayton",
   "metadata": {},
   "outputs": [],
   "source": [
    "fig_anatomy, ax_anatomy = plt.subplots(1, 3, figsize=(15,5))\n",
    "fig_anatomy.tight_layout()\n",
    "title_list = ['Horizontal', 'Sagittal', 'Coronal']\n",
    "\n",
    "k = [3, 6, 2]\n",
    "for i in range(3):\n",
    "    tmp_view = np.nansum(anatomy_file, axis=i)\n",
    "    tmp_view = np.rot90(tmp_view, k=k[i])\n",
    "    ax_anatomy[i].imshow(tmp_view, cmap=\"gray_r\", vmin=50000, vmax=450000)\n",
    "    ax_anatomy[i].set_title(title_list[i])\n",
    "    ax_anatomy[i].axis('off')\n",
    "\n",
    "fig_anatomy.tight_layout() \n",
    "plt.show()\n",
    "file_name = 'anatomy_figure_confocal_211108_f1.jpg'\n",
    "fig_anatomy.savefig(str(master / file_name))"
   ]
  },
  {
   "cell_type": "code",
   "execution_count": null,
   "id": "touched-authorization",
   "metadata": {},
   "outputs": [],
   "source": []
  }
 ],
 "metadata": {
  "kernelspec": {
   "display_name": "Python 3 (ipykernel)",
   "language": "python",
   "name": "python3"
  },
  "language_info": {
   "codemirror_mode": {
    "name": "ipython",
    "version": 3
   },
   "file_extension": ".py",
   "mimetype": "text/x-python",
   "name": "python",
   "nbconvert_exporter": "python",
   "pygments_lexer": "ipython3",
   "version": "3.7.10"
  }
 },
 "nbformat": 4,
 "nbformat_minor": 5
}
