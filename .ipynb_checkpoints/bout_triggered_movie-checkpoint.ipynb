{
 "cells": [
  {
   "cell_type": "code",
   "execution_count": null,
   "id": "experimental-vegetable",
   "metadata": {},
   "outputs": [],
   "source": [
    "%matplotlib widget"
   ]
  },
  {
   "cell_type": "code",
   "execution_count": null,
   "id": "strategic-hungarian",
   "metadata": {},
   "outputs": [],
   "source": [
    "import numpy as np\n",
    "import tifffile as tiff\n",
    "from pathlib import Path\n",
    "from matplotlib import pyplot as plt\n",
    "import flammkuchen as fl\n",
    "import napari\n",
    "from napari_animation import AnimationWidget\n",
    "from split_dataset import SplitDataset\n",
    "from fimpylab.core.lightsheet_experiment import LightsheetExperiment\n",
    "from bouter.embedded import EmbeddedExperiment\n",
    "%gui qt5"
   ]
  },
  {
   "cell_type": "code",
   "execution_count": null,
   "id": "significant-annual",
   "metadata": {},
   "outputs": [],
   "source": [
    "master = Path(r\"\\\\Funes\\Shared\\experiments\\E0020_random_coherences\\v35_two_options_forward_ol\\ls\")\n",
    "files = list(master.glob(\"*_f*\"))\n",
    "fish = files[2]\n",
    "print(fish)"
   ]
  },
  {
   "cell_type": "code",
   "execution_count": null,
   "id": "southern-furniture",
   "metadata": {},
   "outputs": [],
   "source": [
    "# Getting all bouts \n",
    "exp = EmbeddedExperiment(path=fish)\n",
    "beh_log = getattr(exp, \"behavior_log\")\n",
    "bouts = exp.get_bout_properties()"
   ]
  },
  {
   "cell_type": "code",
   "execution_count": null,
   "id": "arabic-teach",
   "metadata": {},
   "outputs": [],
   "source": [
    "bouts_ang = np.histogram(bouts.bias)\n",
    "bouts_ang\n",
    "num_bouts = len(bouts)\n",
    "print(num_bouts)\n",
    "bouts.loc[0].t_start"
   ]
  },
  {
   "cell_type": "code",
   "execution_count": null,
   "id": "collective-cleveland",
   "metadata": {},
   "outputs": [],
   "source": [
    "#bouts_type = \n",
    "# classifying bouts "
   ]
  },
  {
   "cell_type": "code",
   "execution_count": null,
   "id": "varying-weather",
   "metadata": {},
   "outputs": [],
   "source": [
    "# Loading imaging data (aligned)\n",
    "aligned_stack = SplitDataset(fish / \"aligned\")\n",
    "num_planes, x_pix, y_pix = np.shape(aligned_stack)[1:4]\n",
    "np.shape(aligned_stack)\n",
    "fs = 3\n"
   ]
  },
  {
   "cell_type": "code",
   "execution_count": null,
   "id": "adjustable-queue",
   "metadata": {},
   "outputs": [],
   "source": [
    "# averaging imaging data according to the different bout types \n",
    "len_segment = fs * 25 \n",
    "left_bouts = np.zeros((len_segment, num_planes, x_pix, y_pix))\n",
    "right_bouts = np.zeros((len_segment, num_planes, x_pix, y_pix))\n",
    "forward_bouts = np.zeros((len_segment, num_planes, x_pix, y_pix))\n"
   ]
  },
  {
   "cell_type": "code",
   "execution_count": null,
   "id": "colonial-viking",
   "metadata": {},
   "outputs": [],
   "source": [
    "br = 0\n",
    "bl = 0\n",
    "for i in range(num_bouts):\n",
    "    tmp_bout = bouts.loc[i]\n",
    "    t1 = int((tmp_bout.t_start - 5) * fs)\n",
    "    t2 = t1 + (fs * 25)\n",
    "    bout_type = tmp_bout.bias_total\n",
    "    if bout_type < -0.2:\n",
    "        br += 1\n",
    "        right_bouts += aligned_stack[t1:t2]\n",
    "    elif bout_type > 0.2:\n",
    "        bl += 1\n",
    "        left_bouts += aligned_stack[t1:t2]\n",
    "    else:\n",
    "        forward_bouts += aligned_stack[t1:t2]\n",
    "print(br,bl)"
   ]
  },
  {
   "cell_type": "code",
   "execution_count": null,
   "id": "fabulous-legend",
   "metadata": {},
   "outputs": [],
   "source": [
    "print(br,bl)"
   ]
  },
  {
   "cell_type": "code",
   "execution_count": null,
   "id": "equivalent-postage",
   "metadata": {},
   "outputs": [],
   "source": [
    "# Generating videos of trial triggered activity:\n",
    "viewer = napari.Viewer()\n",
    "for i in range(num_planes):\n",
    "    stack = forward_bouts[:,i,:,:]\n",
    "    viewer.add_image(stack, colormap=\"gray_r\")\n",
    "animation_widget = AnimationWidget(viewer)\n",
    "viewer.window.add_dock_widget(animation_widget, area='right')"
   ]
  },
  {
   "cell_type": "code",
   "execution_count": null,
   "id": "homeless-workstation",
   "metadata": {},
   "outputs": [],
   "source": []
  }
 ],
 "metadata": {
  "kernelspec": {
   "display_name": "Python 3",
   "language": "python",
   "name": "python3"
  },
  "language_info": {
   "codemirror_mode": {
    "name": "ipython",
    "version": 3
   },
   "file_extension": ".py",
   "mimetype": "text/x-python",
   "name": "python",
   "nbconvert_exporter": "python",
   "pygments_lexer": "ipython3",
   "version": "3.7.10"
  }
 },
 "nbformat": 4,
 "nbformat_minor": 5
}
