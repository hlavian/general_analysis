{
 "cells": [
  {
   "cell_type": "code",
   "execution_count": null,
   "id": "heavy-minimum",
   "metadata": {},
   "outputs": [],
   "source": [
    "%matplotlib widget"
   ]
  },
  {
   "cell_type": "code",
   "execution_count": null,
   "id": "cooked-prior",
   "metadata": {},
   "outputs": [],
   "source": [
    "import numpy as np\n",
    "import matplotlib.pyplot as plt\n",
    "import tifffile as tiff\n",
    "from pathlib import Path\n",
    "import nrrd1\n",
    "from scipy.stats import zscore\n",
    "from skimage import exposure\n",
    "from PIL import Image, ImageDraw"
   ]
  },
  {
   "cell_type": "code",
   "execution_count": null,
   "id": "celtic-transparency",
   "metadata": {},
   "outputs": [],
   "source": [
    "master = Path(r\"\\\\Funes\\Shared\\experiments\\E0038_confocal\\v004_ipn_reference\\211108_h2b-mcherry_gad1b-gfp\\f1\")\n",
    "anatomy_file1 = tiff.imread(list(master.glob(\"*C1-Experiment*\"))[1])\n",
    "anatomy_file = tiff.imread(list(master.glob(\"*C2-Experiment*\"))[1])"
   ]
  },
  {
   "cell_type": "code",
   "execution_count": null,
   "id": "saved-marketing",
   "metadata": {},
   "outputs": [],
   "source": [
    "# creating a mask:\n",
    "num_planes, nx, ny = np.shape(anatomy_file)\n",
    "img = Image.new(\"L\", [nx, ny], 0)\n",
    "x1 = 300\n",
    "y2 = 650\n",
    "y1 = 400\n",
    "x2 = 300\n",
    "ImageDraw.Draw(img).polygon([(x1, 0), (x1, y1), (0, y2), (0, 700), (x2, 1024), (1024-x2, 1024), (1024, 700), (1024, y2), (1024-x1, y1), (1024-x1, 0)], outline=1, fill=1)\n",
    "mask = np.array(img)\n",
    "print(np.shape(mask))"
   ]
  },
  {
   "cell_type": "code",
   "execution_count": null,
   "id": "superior-spirituality",
   "metadata": {},
   "outputs": [],
   "source": [
    "fig_mask, ax_mask = plt.subplots(1, 2, figsize=(5,5))\n",
    "fig_anatomy.tight_layout()\n",
    "\n",
    "\n",
    "tmp_view = np.nanmean(anatomy_file1, axis=0)\n",
    "ax_mask[0].imshow(tmp_view, cmap=\"gray_r\", vmin=5, vmax=90, extent=[0,100,0,100])\n",
    "\n",
    "ax_mask[1].imshow(tmp_view, cmap=\"gray_r\", vmin=5, vmax=90)\n",
    "ax_mask[1].imshow(mask)\n",
    "\n",
    "#ax_mask.axis('off')\n",
    "\n",
    "\n",
    "plt.show()"
   ]
  },
  {
   "cell_type": "code",
   "execution_count": null,
   "id": "fresh-reset",
   "metadata": {},
   "outputs": [],
   "source": [
    "fig_anatomy, ax_anatomy = plt.subplots(1, 3, figsize=(15,5))\n",
    "fig_anatomy.tight_layout()\n",
    "title_list = ['Horizontal', 'Coronal', 'Sagittal']\n",
    "\n",
    "k = [0, 6, 2]\n",
    "extent=[100, 30, 100]\n",
    "for i in range(3):\n",
    "    tmp_view = np.nanmean(anatomy_file1, axis=i)\n",
    "    tmp_view = np.rot90(tmp_view, k=k[i])\n",
    "    ax_anatomy[i].imshow(tmp_view, cmap=\"gray_r\", vmin=5, vmax=90, extent=[0,100,0,extent[i]])\n",
    "    ax_anatomy[i].set_title(title_list[i])\n",
    "    ax_anatomy[i].axis('off')\n",
    "    \n",
    "    tmp_view = np.nanmean(anatomy_file, axis=i)\n",
    "    tmp_view = np.rot90(tmp_view, k=k[i])\n",
    "    tmp_view = np.ma.masked_where(tmp_view < 0, tmp_view)\n",
    "    ax_anatomy[i].imshow(tmp_view, cmap=\"Blues\", alpha=0.5, vmin=5, vmax=20, extent=[0,100,0,extent[i]])\n",
    "\n",
    "plt.show()\n",
    "file_name = 'anatomy_figure_211108_f1.jpg'\n",
    "fig_anatomy.savefig(str(master / file_name))"
   ]
  },
  {
   "cell_type": "code",
   "execution_count": null,
   "id": "institutional-metallic",
   "metadata": {},
   "outputs": [],
   "source": [
    "gad1b_norm2 = np.copy(anatomy_file)\n",
    "for i in range(num_planes):\n",
    "    tmp_plane = anatomy_file[i]\n",
    "    gad1b_norm2[i] = exposure.adjust_gamma(tmp_plane, 1.5)\n",
    "    #gad1b_norm2[i] = tmp_plane"
   ]
  },
  {
   "cell_type": "code",
   "execution_count": null,
   "id": "floral-football",
   "metadata": {},
   "outputs": [],
   "source": [
    "gad1b_norm = np.zeros_like(gad1b_norm2, dtype=float)\n",
    "for i in range(num_planes):\n",
    "    tmp_plane = zscore(gad1b_norm2[i])\n",
    "    tmp_plane *= mask\n",
    "    gad1b_norm[i] = tmp_plane #* i/50"
   ]
  },
  {
   "cell_type": "code",
   "execution_count": null,
   "id": "interior-service",
   "metadata": {},
   "outputs": [],
   "source": []
  },
  {
   "cell_type": "code",
   "execution_count": null,
   "id": "attempted-average",
   "metadata": {},
   "outputs": [],
   "source": [
    "fig_anatomy, ax_anatomy = plt.subplots(1, 2, figsize=(6,5), gridspec_kw={'width_ratios':[4,1]})\n",
    "fig_anatomy.tight_layout()\n",
    "\n",
    "\n",
    "tmp_view = np.nanmean(anatomy_file1, axis=0)\n",
    "ax_anatomy[0].imshow(tmp_view, cmap=\"gray_r\", vmin=5, vmax=80, extent=[0,100,0,100])\n",
    "ax_anatomy[0].axis('off')\n",
    "\n",
    "tmp_view = np.nanmean(gad1b_norm, axis=0)\n",
    "ax_anatomy[0].imshow(tmp_view, cmap=\"Blues\", alpha=0.5, vmin=0, vmax=1., extent=[0,100,0,100])\n",
    "\n",
    "tmp_view = np.nanmean(anatomy_file1, axis=2).T\n",
    "ax_anatomy[1].imshow(tmp_view, cmap=\"gray_r\", vmin=5, vmax=80, extent=[0,25,0,100])\n",
    "ax_anatomy[1].axis('off')\n",
    "\n",
    "tmp_view = np.nanmean(gad1b_norm, axis=2).T\n",
    "ax_anatomy[1].imshow(tmp_view, cmap=\"Blues\", alpha=0.5, vmin=0, vmax=1., extent=[0,25,0,100])\n",
    "fig_anatomy.tight_layout()\n",
    "plt.show()\n",
    "file_name = 'anatomy_figure_211108_f1_zscore_masked.jpg'\n",
    "fig_anatomy.savefig(str(master / file_name))"
   ]
  },
  {
   "cell_type": "code",
   "execution_count": null,
   "id": "prerequisite-miami",
   "metadata": {},
   "outputs": [],
   "source": [
    "files = list(master.glob(\"*_f*\"))\n",
    "fish_dir = files[1] \n",
    "anatomy_file = tiff.imread(fish_dir)\n",
    "print(fish_dir)"
   ]
  },
  {
   "cell_type": "code",
   "execution_count": null,
   "id": "partial-bumper",
   "metadata": {},
   "outputs": [],
   "source": [
    "fig_anatomy, ax_anatomy = plt.subplots(1, 3, figsize=(15,5))\n",
    "fig_anatomy.tight_layout()\n",
    "title_list = ['Horizontal', 'Sagittal', 'Coronal']\n",
    "\n",
    "k = [3, 6, 2]\n",
    "for i in range(3):\n",
    "    tmp_view = np.nansum(anatomy_file, axis=i)\n",
    "    tmp_view = np.rot90(tmp_view, k=k[i])\n",
    "    ax_anatomy[i].imshow(tmp_view, cmap=\"gray_r\", vmin=50000, vmax=450000)\n",
    "    ax_anatomy[i].set_title(title_list[i])\n",
    "    ax_anatomy[i].axis('off')\n",
    "\n",
    "fig_anatomy.tight_layout() \n",
    "plt.show()\n",
    "file_name = 'anatomy_figure_confocal_211108_f1.jpg'\n",
    "fig_anatomy.savefig(str(master / file_name))"
   ]
  },
  {
   "cell_type": "code",
   "execution_count": null,
   "id": "legitimate-holmes",
   "metadata": {},
   "outputs": [],
   "source": []
  }
 ],
 "metadata": {
  "kernelspec": {
   "display_name": "Python 3 (ipykernel)",
   "language": "python",
   "name": "python3"
  },
  "language_info": {
   "codemirror_mode": {
    "name": "ipython",
    "version": 3
   },
   "file_extension": ".py",
   "mimetype": "text/x-python",
   "name": "python",
   "nbconvert_exporter": "python",
   "pygments_lexer": "ipython3",
   "version": "3.7.10"
  }
 },
 "nbformat": 4,
 "nbformat_minor": 5
}
