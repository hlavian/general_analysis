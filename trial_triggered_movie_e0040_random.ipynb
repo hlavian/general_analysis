{
 "cells": [
  {
   "cell_type": "code",
   "execution_count": null,
   "id": "comparable-keeping",
   "metadata": {},
   "outputs": [],
   "source": [
    "%matplotlib widget"
   ]
  },
  {
   "cell_type": "code",
   "execution_count": null,
   "id": "classical-glory",
   "metadata": {},
   "outputs": [],
   "source": [
    "import numpy as np\n",
    "import tifffile as tiff\n",
    "from pathlib import Path\n",
    "from matplotlib import pyplot as plt\n",
    "import flammkuchen as fl\n",
    "import napari\n",
    "from napari_animation import AnimationWidget\n",
    "from split_dataset import SplitDataset\n",
    "from fimpylab.core.lightsheet_experiment import LightsheetExperiment\n",
    "%gui qt5"
   ]
  },
  {
   "cell_type": "code",
   "execution_count": null,
   "id": "combined-winning",
   "metadata": {},
   "outputs": [],
   "source": [
    "master = Path(r\"Z:\\Hagar\\crazy fish\\e0040_v10\")\n",
    "\n",
    "fish = Path(r\"Z:\\Hagar\\crazy fish\\230302_f0\\e0040_v10\")"
   ]
  },
  {
   "cell_type": "code",
   "execution_count": null,
   "id": "overhead-county",
   "metadata": {},
   "outputs": [],
   "source": [
    "# Getting stimulus information\n",
    "exp = LightsheetExperiment(path=fish)\n",
    "stim_log = getattr(exp, \"stimulus_log\")\n",
    "fs = exp.fn\n",
    "\n",
    "stim_regressors = fl.load(fish / \"sensory_regressors.h5\")\n",
    "stim_t = stim_log.t.values"
   ]
  },
  {
   "cell_type": "code",
   "execution_count": null,
   "id": "34c9e7a2-fd57-447c-ace3-5bd6e3c66c90",
   "metadata": {},
   "outputs": [],
   "source": [
    "stim_regressors.keys()"
   ]
  },
  {
   "cell_type": "code",
   "execution_count": null,
   "id": "56d211ce-01e0-4e76-a941-cbc8542cde29",
   "metadata": {},
   "outputs": [],
   "source": [
    "individual_theta = stim_regressors['individual_theta_interp']\n",
    "np.shape(individual_theta)"
   ]
  },
  {
   "cell_type": "code",
   "execution_count": null,
   "id": "theoretical-message",
   "metadata": {},
   "outputs": [],
   "source": [
    "# Loading imaging data (aligned)\n",
    "aligned_stack = SplitDataset(fish / \"aligned\")\n",
    "len_rec_original, num_planes, x_pix, y_pix = np.shape(aligned_stack)\n",
    "np.shape(aligned_stack)\n",
    "\n",
    "n_trials = np.shape(np.where(np.diff(individual_theta[2]) > 0))[1] // 2\n",
    "\n",
    "print(n_trials)"
   ]
  },
  {
   "cell_type": "code",
   "execution_count": null,
   "id": "146a6851-ccc9-40f1-96e3-c07667c641c5",
   "metadata": {},
   "outputs": [],
   "source": [
    "triggered_data_timing = np.zeros((8, n_trials), dtype=int)\n",
    "for i in range(8):\n",
    "    temp_theta = individual_theta[i]\n",
    "    diff_theta = np.where(np.diff(temp_theta) > 0)[0][::2]\n",
    "    print(diff_theta)\n",
    "    triggered_data_timing[i,:] = diff_theta"
   ]
  },
  {
   "cell_type": "code",
   "execution_count": null,
   "id": "e2426283-439d-46c8-a6a4-a9f37124dbb1",
   "metadata": {},
   "outputs": [],
   "source": [
    "#triggered_data = np.zeros((8, int(15*fs), num_planes, x_pix, y_pix)) \n",
    "for direction in range(5, 8):\n",
    "    print(\"direction: \", direction)\n",
    "    for trial in range(n_trials):\n",
    "        t_start = int(triggered_data_timing[direction,trial])\n",
    "        t_end = int(t_start + (15*fs))\n",
    "        print(\"t_start: \", t_start)\n",
    "        triggered_data[direction,:,:,:] += aligned_stack[t_start:t_end]"
   ]
  },
  {
   "cell_type": "code",
   "execution_count": null,
   "id": "isolated-spouse",
   "metadata": {},
   "outputs": [],
   "source": [
    "# Generating videos of trial triggered activity:\n",
    "viewer = napari.Viewer()\n",
    "for i in range(8):\n",
    "    viewer.add_image(triggered_data[i,:,:,:], colormap=\"gray_r\")\n",
    "\n"
   ]
  },
  {
   "cell_type": "code",
   "execution_count": null,
   "id": "engaged-timothy",
   "metadata": {},
   "outputs": [],
   "source": [
    "animation_widget = AnimationWidget(viewer)\n",
    "viewer.window.add_dock_widget(animation_widget, area='right')"
   ]
  },
  {
   "cell_type": "code",
   "execution_count": null,
   "id": "rational-blake",
   "metadata": {},
   "outputs": [],
   "source": [
    "# Generating videos of trial triggered activity (planes):\n",
    "viewer = napari.Viewer()\n",
    "for i in range(8):\n",
    "    stack = forward_trials_red[i,:,:,:]\n",
    "    viewer.add_image(stack, colormap=\"gray_r\")\n",
    "animation_widget = AnimationWidget(viewer)\n",
    "viewer.window.add_dock_widget(animation_widget, area='right')"
   ]
  },
  {
   "cell_type": "code",
   "execution_count": null,
   "id": "suspended-simpson",
   "metadata": {},
   "outputs": [],
   "source": []
  }
 ],
 "metadata": {
  "kernelspec": {
   "display_name": "Python 3 (ipykernel)",
   "language": "python",
   "name": "python3"
  },
  "language_info": {
   "codemirror_mode": {
    "name": "ipython",
    "version": 3
   },
   "file_extension": ".py",
   "mimetype": "text/x-python",
   "name": "python",
   "nbconvert_exporter": "python",
   "pygments_lexer": "ipython3",
   "version": "3.7.10"
  }
 },
 "nbformat": 4,
 "nbformat_minor": 5
}
