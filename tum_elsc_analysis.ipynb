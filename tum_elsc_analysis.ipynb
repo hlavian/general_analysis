{
 "cells": [
  {
   "cell_type": "code",
   "execution_count": 65,
   "id": "5a4785bd-bf96-4196-9812-de9de257069c",
   "metadata": {},
   "outputs": [],
   "source": [
    "%matplotlib widget"
   ]
  },
  {
   "cell_type": "code",
   "execution_count": 29,
   "id": "a7b5f501-5d03-4830-aedf-7a176400bb14",
   "metadata": {},
   "outputs": [],
   "source": [
    "from pathlib import Path\n",
    "import flammkuchen as fl\n",
    "import numpy as np\n",
    "import pandas as pd \n",
    "from fimpylab.core.lightsheet_experiment import LightsheetExperiment\n",
    "\n",
    "import matplotlib.pyplot as plt"
   ]
  },
  {
   "cell_type": "code",
   "execution_count": 22,
   "id": "dc6279d3-961b-4fd1-8758-46984f56e8db",
   "metadata": {},
   "outputs": [],
   "source": [
    "path = Path(r\"\\\\funes\\Shared\\Hagar\\tumelsc\\group1\\220919_f1\")"
   ]
  },
  {
   "cell_type": "code",
   "execution_count": 100,
   "id": "28c2ac25-a33f-427f-9e30-d9d85a307307",
   "metadata": {},
   "outputs": [],
   "source": [
    "directions = np.arange(0, 8) * np.pi * 2 / 8\n",
    "\n",
    "single_trial = [6, 7, 0, 1, 2, 3, 4, 5, 6, 6, 5, 4, 3, 2, 1, 0, 7]"
   ]
  },
  {
   "cell_type": "code",
   "execution_count": 102,
   "id": "d5e3f764-614a-499d-acb9-f833a01f4e30",
   "metadata": {},
   "outputs": [
    {
     "data": {
      "text/plain": [
       "array([  0.,  45.,  90., 135., 180., 225., 270., 315.])"
      ]
     },
     "execution_count": 102,
     "metadata": {},
     "output_type": "execute_result"
    }
   ],
   "source": [
    "np.rad2deg(directions)"
   ]
  },
  {
   "cell_type": "code",
   "execution_count": 23,
   "id": "917b2835-db61-4e21-8df2-244a26d5e5a7",
   "metadata": {},
   "outputs": [],
   "source": [
    "exp = LightsheetExperiment(path)"
   ]
  },
  {
   "cell_type": "code",
   "execution_count": 24,
   "id": "57a4608a-1f5a-49c2-a475-9fcb7d95aa9b",
   "metadata": {},
   "outputs": [
    {
     "data": {
      "text/html": [
       "<div>\n",
       "<style scoped>\n",
       "    .dataframe tbody tr th:only-of-type {\n",
       "        vertical-align: middle;\n",
       "    }\n",
       "\n",
       "    .dataframe tbody tr th {\n",
       "        vertical-align: top;\n",
       "    }\n",
       "\n",
       "    .dataframe thead th {\n",
       "        text-align: right;\n",
       "    }\n",
       "</style>\n",
       "<table border=\"1\" class=\"dataframe\">\n",
       "  <thead>\n",
       "    <tr style=\"text-align: right;\">\n",
       "      <th></th>\n",
       "      <th>bg_x</th>\n",
       "      <th>bg_y</th>\n",
       "      <th>bg_theta</th>\n",
       "      <th>bg_current_phase</th>\n",
       "      <th>t</th>\n",
       "    </tr>\n",
       "  </thead>\n",
       "  <tbody>\n",
       "    <tr>\n",
       "      <th>0</th>\n",
       "      <td>0.00000</td>\n",
       "      <td>0.00000</td>\n",
       "      <td>0</td>\n",
       "      <td>0</td>\n",
       "      <td>0.012993</td>\n",
       "    </tr>\n",
       "    <tr>\n",
       "      <th>1</th>\n",
       "      <td>0.00000</td>\n",
       "      <td>0.00000</td>\n",
       "      <td>0</td>\n",
       "      <td>0</td>\n",
       "      <td>0.013992</td>\n",
       "    </tr>\n",
       "    <tr>\n",
       "      <th>2</th>\n",
       "      <td>0.00000</td>\n",
       "      <td>0.00000</td>\n",
       "      <td>0</td>\n",
       "      <td>0</td>\n",
       "      <td>0.024986</td>\n",
       "    </tr>\n",
       "    <tr>\n",
       "      <th>3</th>\n",
       "      <td>0.00000</td>\n",
       "      <td>0.00000</td>\n",
       "      <td>0</td>\n",
       "      <td>0</td>\n",
       "      <td>0.024986</td>\n",
       "    </tr>\n",
       "    <tr>\n",
       "      <th>4</th>\n",
       "      <td>0.00000</td>\n",
       "      <td>0.00000</td>\n",
       "      <td>0</td>\n",
       "      <td>0</td>\n",
       "      <td>0.028984</td>\n",
       "    </tr>\n",
       "    <tr>\n",
       "      <th>...</th>\n",
       "      <td>...</td>\n",
       "      <td>...</td>\n",
       "      <td>...</td>\n",
       "      <td>...</td>\n",
       "      <td>...</td>\n",
       "    </tr>\n",
       "    <tr>\n",
       "      <th>58984</th>\n",
       "      <td>-0.81636</td>\n",
       "      <td>0.11325</td>\n",
       "      <td>0</td>\n",
       "      <td>95</td>\n",
       "      <td>959.942175</td>\n",
       "    </tr>\n",
       "    <tr>\n",
       "      <th>58985</th>\n",
       "      <td>-0.62644</td>\n",
       "      <td>0.11325</td>\n",
       "      <td>0</td>\n",
       "      <td>95</td>\n",
       "      <td>959.961167</td>\n",
       "    </tr>\n",
       "    <tr>\n",
       "      <th>58986</th>\n",
       "      <td>-0.47655</td>\n",
       "      <td>0.11325</td>\n",
       "      <td>0</td>\n",
       "      <td>95</td>\n",
       "      <td>959.976156</td>\n",
       "    </tr>\n",
       "    <tr>\n",
       "      <th>58987</th>\n",
       "      <td>-0.38661</td>\n",
       "      <td>0.11325</td>\n",
       "      <td>0</td>\n",
       "      <td>95</td>\n",
       "      <td>959.985150</td>\n",
       "    </tr>\n",
       "    <tr>\n",
       "      <th>58988</th>\n",
       "      <td>-0.24668</td>\n",
       "      <td>0.11325</td>\n",
       "      <td>0</td>\n",
       "      <td>95</td>\n",
       "      <td>959.999143</td>\n",
       "    </tr>\n",
       "  </tbody>\n",
       "</table>\n",
       "<p>58989 rows × 5 columns</p>\n",
       "</div>"
      ],
      "text/plain": [
       "          bg_x     bg_y  bg_theta  bg_current_phase           t\n",
       "0      0.00000  0.00000         0                 0    0.012993\n",
       "1      0.00000  0.00000         0                 0    0.013992\n",
       "2      0.00000  0.00000         0                 0    0.024986\n",
       "3      0.00000  0.00000         0                 0    0.024986\n",
       "4      0.00000  0.00000         0                 0    0.028984\n",
       "...        ...      ...       ...               ...         ...\n",
       "58984 -0.81636  0.11325         0                95  959.942175\n",
       "58985 -0.62644  0.11325         0                95  959.961167\n",
       "58986 -0.47655  0.11325         0                95  959.976156\n",
       "58987 -0.38661  0.11325         0                95  959.985150\n",
       "58988 -0.24668  0.11325         0                95  959.999143\n",
       "\n",
       "[58989 rows x 5 columns]"
      ]
     },
     "execution_count": 24,
     "metadata": {},
     "output_type": "execute_result"
    }
   ],
   "source": [
    "stim_log = exp.stimulus_log\n",
    "stim_log"
   ]
  },
  {
   "cell_type": "code",
   "execution_count": 34,
   "id": "1a2c703e-ce47-4d81-8222-b7959d05c2a8",
   "metadata": {},
   "outputs": [],
   "source": [
    "from motions.utilities import stim_vel_dir_dataframe, quantize_directions\n"
   ]
  },
  {
   "cell_type": "code",
   "execution_count": 13,
   "id": "0f04d6df-9cc8-45a1-a0ac-58449017d6ce",
   "metadata": {},
   "outputs": [
    {
     "data": {
      "text/plain": [
       "array([-1. , -0.8, -0.3,  0. ,  0.3,  0.8,  1. ])"
      ]
     },
     "execution_count": 13,
     "metadata": {},
     "output_type": "execute_result"
    }
   ],
   "source": [
    "np.unique(coherence)"
   ]
  },
  {
   "cell_type": "code",
   "execution_count": 46,
   "id": "88c6ecb0-cd99-492d-90ce-f25350d4bf41",
   "metadata": {},
   "outputs": [],
   "source": [
    "stimulus = {\n",
    "    't': np.asarray(stim_log.t)[:-4],\n",
    "    'theta': np.asarray(stim.theta),\n",
    "}\n",
    "fl.save(path / 'stimulus_files.h5', stimulus)"
   ]
  },
  {
   "cell_type": "code",
   "execution_count": 15,
   "id": "63c6222a-d058-4766-b869-4c928aa02e1d",
   "metadata": {},
   "outputs": [],
   "source": [
    "test = fl.load(path / 'stimulus_files.h5')"
   ]
  },
  {
   "cell_type": "code",
   "execution_count": 35,
   "id": "8bcbf4d1-3f7d-4e52-ada4-0e0e23632fc1",
   "metadata": {},
   "outputs": [],
   "source": [
    "stim = stim_vel_dir_dataframe(exp)\n",
    "bin_centres, dir_bins = quantize_directions(stim.theta)"
   ]
  },
  {
   "cell_type": "code",
   "execution_count": 47,
   "id": "b8393d9c-94ec-4edf-a6cb-6f7b750e37c1",
   "metadata": {},
   "outputs": [],
   "source": [
    "suite2p_data = fl.load(path/ \"suite2p\" / \"data_from_suite2p_cells.h5\")\n",
    "traces = suite2p_data['traces']"
   ]
  },
  {
   "cell_type": "code",
   "execution_count": 50,
   "id": "78b8549c-629c-422b-b7e5-17351797b589",
   "metadata": {},
   "outputs": [],
   "source": [
    "int_fact = 200\n",
    "fs = 2\n",
    "dt_imaging = 1 / fs\n",
    "t_imaging_int = np.arange(traces.shape[1]*int_fact)*dt_imaging/int_fact"
   ]
  },
  {
   "cell_type": "code",
   "execution_count": 53,
   "id": "a2efdeae-8286-4746-bf55-e69d46baef0e",
   "metadata": {},
   "outputs": [],
   "source": [
    "from scipy import signal\n",
    "from scipy.interpolate import interp1d"
   ]
  },
  {
   "cell_type": "code",
   "execution_count": 51,
   "id": "d936beb4-36ad-4fb6-8d17-e662a6a88b63",
   "metadata": {},
   "outputs": [],
   "source": [
    "t_imaging = np.arange(traces.shape[1])/fs\n",
    "t_stim = np.asarray(stim_log.t)[:-4]\n",
    "theta_full = np.asarray(stim.theta)"
   ]
  },
  {
   "cell_type": "code",
   "execution_count": 62,
   "id": "67b62b86-d033-41d0-9614-9c31506250fc",
   "metadata": {},
   "outputs": [],
   "source": [
    "theta = interp1d(t_stim, theta_full, bounds_error=False, fill_value=0)(t_imaging_int)\n",
    "theta_reg = signal.decimate(theta, int_fact, ftype=\"fir\")\n",
    "\n",
    "theta_reg = signal.resample(theta, np.shape(t_imaging)[0])"
   ]
  },
  {
   "cell_type": "code",
   "execution_count": 95,
   "id": "797e160b-5a5c-4986-8922-b3177a81853c",
   "metadata": {},
   "outputs": [],
   "source": [
    "theta_test = theta[0:-1:200]"
   ]
  },
  {
   "cell_type": "code",
   "execution_count": 96,
   "id": "bbad2ed6-c46d-4d01-996a-ae250fa4c933",
   "metadata": {},
   "outputs": [
    {
     "data": {
      "text/plain": [
       "(1920,)"
      ]
     },
     "execution_count": 96,
     "metadata": {},
     "output_type": "execute_result"
    }
   ],
   "source": [
    "np.shape(theta_test)"
   ]
  },
  {
   "cell_type": "code",
   "execution_count": 99,
   "id": "2407cef2-f1dc-496b-9113-551ba9285a50",
   "metadata": {},
   "outputs": [],
   "source": [
    "stimulus = {\n",
    "    'theta_full': theta_full,\n",
    "    'theta': theta_test,\n",
    "}\n",
    "fl.save(path / 'stimulus_file.h5', stimulus)"
   ]
  },
  {
   "cell_type": "code",
   "execution_count": 77,
   "id": "432360f2-5f83-489c-b180-902063033229",
   "metadata": {},
   "outputs": [
    {
     "data": {
      "text/plain": [
       "(22325, 1920)"
      ]
     },
     "execution_count": 77,
     "metadata": {},
     "output_type": "execute_result"
    }
   ],
   "source": [
    "check = fl.load(path / 'stimulus_file.5')\n",
    "t_check = check['t"
   ]
  },
  {
   "cell_type": "code",
   "execution_count": 45,
   "id": "20abe306-18b5-4984-a002-6ff7c595a1d1",
   "metadata": {},
   "outputs": [
    {
     "data": {
      "text/plain": [
       "[<matplotlib.lines.Line2D at 0x23f7e896f48>]"
      ]
     },
     "execution_count": 45,
     "metadata": {},
     "output_type": "execute_result"
    },
    {
     "data": {
      "image/png": "[encoded data removed]",
      "text/plain": [
       "<Figure size 432x288 with 1 Axes>"
      ]
     },
     "metadata": {
      "needs_background": "light"
     },
     "output_type": "display_data"
    }
   ],
   "source": [
    "plt.plot(np.asarray(stim_log.t)[:-4], np.asarray(stim.theta))"
   ]
  },
  {
   "cell_type": "code",
   "execution_count": 97,
   "id": "b400e57a-8682-45c2-8f0b-43f1065845d9",
   "metadata": {},
   "outputs": [
    {
     "data": {
      "application/vnd.jupyter.widget-view+json": {
       "model_id": "3c588d84ffe7404fb2729e320b754c46",
       "version_major": 2,
       "version_minor": 0
      },
      "text/plain": [
       "Canvas(toolbar=Toolbar(toolitems=[('Home', 'Reset original view', 'home', 'home'), ('Back', 'Back to previous …"
      ]
     },
     "metadata": {},
     "output_type": "display_data"
    },
    {
     "data": {
      "text/plain": [
       "[<matplotlib.lines.Line2D at 0x23f1eca5088>]"
      ]
     },
     "execution_count": 97,
     "metadata": {},
     "output_type": "execute_result"
    }
   ],
   "source": [
    "fig = plt.figure()\n",
    "plt.plot(theta_test)"
   ]
  },
  {
   "cell_type": "code",
   "execution_count": null,
   "id": "d026790e-4ce6-4fae-ae90-a5dac38618e9",
   "metadata": {},
   "outputs": [],
   "source": []
  },
  {
   "cell_type": "code",
   "execution_count": 25,
   "id": "e56a937a-62f4-4b22-b18a-33c8d4237292",
   "metadata": {},
   "outputs": [],
   "source": [
    "directions = np.arange(0, 8) * np.pi * 2 / 8\n",
    "\n",
    "single_trial = [6, 7, 0, 1, 2, 3, 4, 5, 6, 6, 5, 4, 3, 2, 1, 0, 7]\n",
    "direction_order = np.concatenate([np.asarray(single_trial)\n",
    "                             for _ in range(8)])"
   ]
  },
  {
   "cell_type": "code",
   "execution_count": 27,
   "id": "c0e4b246-6f5b-494e-b400-f584e12962c4",
   "metadata": {},
   "outputs": [
    {
     "data": {
      "text/plain": [
       "array([0.        , 0.78539816, 1.57079633, 2.35619449, 3.14159265,\n",
       "       3.92699082, 4.71238898, 5.49778714])"
      ]
     },
     "execution_count": 27,
     "metadata": {},
     "output_type": "execute_result"
    }
   ],
   "source": [
    "directions"
   ]
  },
  {
   "cell_type": "code",
   "execution_count": 20,
   "id": "27a8070b-c24d-4165-b6b7-4bdbacc9aa6c",
   "metadata": {},
   "outputs": [],
   "source": [
    "exp_test = LotrExperiment(path)"
   ]
  },
  {
   "cell_type": "code",
   "execution_count": 21,
   "id": "75553b82-22cd-4036-adda-c75d8d7f0803",
   "metadata": {},
   "outputs": [
    {
     "data": {
      "text/plain": [
       "2"
      ]
     },
     "execution_count": 21,
     "metadata": {},
     "output_type": "execute_result"
    }
   ],
   "source": [
    "exp_test.fs"
   ]
  },
  {
   "cell_type": "code",
   "execution_count": null,
   "id": "475e731a-f282-4f5c-b03a-1f875d96a5d0",
   "metadata": {},
   "outputs": [],
   "source": []
  }
 ],
 "metadata": {
  "kernelspec": {
   "display_name": "Python 3",
   "language": "python",
   "name": "python3"
  },
  "language_info": {
   "codemirror_mode": {
    "name": "ipython",
    "version": 3
   },
   "file_extension": ".py",
   "mimetype": "text/x-python",
   "name": "python",
   "nbconvert_exporter": "python",
   "pygments_lexer": "ipython3",
   "version": "3.7.10"
  }
 },
 "nbformat": 4,
 "nbformat_minor": 5
}
