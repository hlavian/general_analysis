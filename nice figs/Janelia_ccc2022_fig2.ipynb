{
 "cells": [
  {
   "cell_type": "code",
   "execution_count": null,
   "id": "c788d616-936e-4feb-adc0-e0703766da60",
   "metadata": {},
   "outputs": [],
   "source": [
    "%matplotlib widget"
   ]
  },
  {
   "cell_type": "code",
   "execution_count": null,
   "id": "9a9879b1-f2e2-48ec-a893-c684268e66c1",
   "metadata": {},
   "outputs": [],
   "source": [
    "from pathlib import Path\n",
    "import numpy as np\n",
    "import flammkuchen as fl\n",
    "import pandas as pd\n",
    "\n",
    "from fimpylab import LightsheetExperiment\n",
    "\n",
    "from matplotlib import  pyplot as plt\n",
    "import seaborn as sns\n",
    "from tqdm import tqdm\n",
    "sns.set(style=\"ticks\", palette=\"deep\")\n",
    "cols = sns.color_palette()\n",
    "import ipywidgets as widgets\n",
    "import tifffile as tiff\n",
    "\n",
    "from lotr.utils import zscore\n",
    "from lotr.pca import pca_and_phase, get_fictive_heading, fictive_heading_and_fit, \\\n",
    "        fit_phase_neurons\n",
    "from circle_fit import hyper_fit\n",
    "from lotr import LotrExperiment, A_FISH\n",
    "\n",
    "import lotr.plotting as pltltr\n",
    "COLS = pltltr.COLS\n",
    "\n",
    "from lotr.utils import interpolate, roll_columns_jit, zscore\n",
    "\n",
    "import imageio"
   ]
  },
  {
   "cell_type": "code",
   "execution_count": null,
   "id": "41fba2ff-c7c5-4620-ac80-804457e4b7f8",
   "metadata": {},
   "outputs": [],
   "source": [
    "master = Path(r\"\\\\Funes\\Shared\\Hagar\")\n",
    "save_dir = Path(r\"C:\\Users\\lavian\\Desktop\\CCC 2022\")"
   ]
  },
  {
   "cell_type": "code",
   "execution_count": null,
   "id": "e1888e43-e171-42ea-9578-ef53ffde2dfb",
   "metadata": {},
   "outputs": [],
   "source": [
    "pink_noise = imageio.imread(master / \"pink_noise_norm.png\")"
   ]
  },
  {
   "cell_type": "code",
   "execution_count": null,
   "id": "cc3365d4-e67d-44d1-bd61-8c22dba7360f",
   "metadata": {},
   "outputs": [],
   "source": [
    "##### upper panel - protocol illustration and example ROIs "
   ]
  },
  {
   "cell_type": "code",
   "execution_count": null,
   "id": "0705716e-5b25-4f07-b7ec-358d20633712",
   "metadata": {},
   "outputs": [],
   "source": [
    "fig, axs = plt.subplots(1, 3, figsize=(8, 4))\n",
    "\n",
    "axs[0].imshow(pink_noise*-1, cmap=\"Reds\", alpha=1)\n",
    "axs[0].axis('off')\n",
    "\n",
    "axs[1].imshow(pink_noise*-1, cmap=\"Reds\", alpha=0.5)\n",
    "axs[1].axis('off')\n",
    "\n",
    "axs[2].imshow(pink_noise*-1, cmap=\"Reds\", alpha=0.2)\n",
    "axs[2].axis('off')"
   ]
  },
  {
   "cell_type": "code",
   "execution_count": null,
   "id": "37d668a1-a536-4f21-9197-219e15bbe811",
   "metadata": {},
   "outputs": [],
   "source": [
    "file_name = 'pink_noise.png'\n",
    "fig.savefig(str(save_dir/file_name), dpi=300)"
   ]
  },
  {
   "cell_type": "code",
   "execution_count": null,
   "id": "08c15338-8138-4ebc-89d7-50b00738937c",
   "metadata": {},
   "outputs": [],
   "source": [
    "fig2, axs2 = plt.subplots(1, 2, figsize=(8, 4),)\n",
    "\n",
    "axs[0].imshow(pink_noise*-1, cmap=\"Reds\", alpha=1)\n",
    "axs[0].axis('off')\n",
    "\n",
    "axs[1].imshow(pink_noise*-1, cmap=\"Reds\", alpha=0.5)\n",
    "axs[1].axis('off')\n",
    "\n",
    "axs[2].imshow(pink_noise*-1, cmap=\"Reds\", alpha=0.2)\n",
    "axs[2].axis('off')"
   ]
  },
  {
   "cell_type": "code",
   "execution_count": null,
   "id": "74d2f141-177c-4bd0-8d88-b2131a237af2",
   "metadata": {},
   "outputs": [],
   "source": []
  },
  {
   "cell_type": "code",
   "execution_count": null,
   "id": "9f02db9d-965f-4fc3-a916-1eabdfba1eeb",
   "metadata": {},
   "outputs": [],
   "source": []
  },
  {
   "cell_type": "code",
   "execution_count": null,
   "id": "d2afce50-c4f6-4385-8c45-3ce9363892df",
   "metadata": {},
   "outputs": [],
   "source": [
    "##### bottom panel - HDNs are not visually responsive "
   ]
  },
  {
   "cell_type": "code",
   "execution_count": null,
   "id": "f8f4f672-a996-4698-90a0-2375abadebac",
   "metadata": {},
   "outputs": [],
   "source": []
  }
 ],
 "metadata": {
  "kernelspec": {
   "display_name": "Python 3",
   "language": "python",
   "name": "python3"
  },
  "language_info": {
   "codemirror_mode": {
    "name": "ipython",
    "version": 3
   },
   "file_extension": ".py",
   "mimetype": "text/x-python",
   "name": "python",
   "nbconvert_exporter": "python",
   "pygments_lexer": "ipython3",
   "version": "3.7.10"
  }
 },
 "nbformat": 4,
 "nbformat_minor": 5
}
