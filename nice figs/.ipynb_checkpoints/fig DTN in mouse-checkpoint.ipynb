{
 "cells": [
  {
   "cell_type": "code",
   "execution_count": null,
   "id": "47441c71-8fbe-4140-b3c5-01dafa627a4e",
   "metadata": {},
   "outputs": [],
   "source": [
    "import matplotlib.pyplot as plt\n",
    "import numpy as np\n",
    "from pathlib import Path\n",
    "from bg_atlasapi import show_atlases\n",
    "from bg_atlasapi.bg_atlas import BrainGlobeAtlas\n",
    "from vedo import embedWindow "
   ]
  },
  {
   "cell_type": "code",
   "execution_count": null,
   "id": "d54b4dc7-9534-4215-b367-b4675077d893",
   "metadata": {},
   "outputs": [],
   "source": [
    "import brainrender\n",
    "from brainrender import Scene  # Scene handles the creation of your rendering!"
   ]
  },
  {
   "cell_type": "code",
   "execution_count": null,
   "id": "c5a759c6-f748-4889-b1ad-3c56bace25cb",
   "metadata": {},
   "outputs": [],
   "source": [
    "show_atlases()"
   ]
  },
  {
   "cell_type": "code",
   "execution_count": null,
   "id": "67bf8ea5-075a-43cf-8034-816168ca9a14",
   "metadata": {},
   "outputs": [],
   "source": [
    "atlas = BrainGlobeAtlas(\"allen_mouse_25um\")\n",
    "atlas_fish = BrainGlobeAtlas(\"mpin_zfish_1um\")"
   ]
  },
  {
   "cell_type": "code",
   "execution_count": null,
   "id": "c0991a85-f35c-4401-8f8b-56fa82b66a34",
   "metadata": {},
   "outputs": [],
   "source": [
    "embedWindow(None)\n",
    "screenshot_folder = Path(r\"C:\\Users\\lavian\\Desktop\\DFG grant\")"
   ]
  },
  {
   "cell_type": "code",
   "execution_count": null,
   "id": "7afa9fb7-d438-4e62-8819-42ec90b88fa2",
   "metadata": {},
   "outputs": [],
   "source": [
    "#brainrender.SHADER_STYLE = \"XXX\"\n",
    "brainrender.SHADER_STYLE = 'XXX'\n",
    "brainrender.ROOT_ALPHA = .1\n",
    "\n",
    "brainrender.settings.WHOLE_SCREEN = False\n",
    "brainrender.settings.SHADER_STYLE = \"ambient\"\n",
    "#brainrender.settings.ROOT_ALPHA = 0\n",
    "brainrender.settings.SHOW_AXES = True"
   ]
  },
  {
   "cell_type": "code",
   "execution_count": null,
   "id": "cf84a8ab-ff92-4a37-9a24-eacb349d9d93",
   "metadata": {},
   "outputs": [],
   "source": [
    "scene = Scene(title='Mouse', atlas_name=\"allen_mouse_25um\", inset=True, screenshots_folder=screenshot_folder)  # create an instance of scene\n",
    "\n",
    "# Adding brain regions\n",
    "#scene.add_brain_region('DTN', 'LM', 'AD', 'POST', 'ENT', 'RSP', alpha=1)\n",
    "scene.add_brain_region('DTN', alpha=1, color='lightgreen')\n",
    "scene.add_brain_region('LM', alpha=1, color='gold')\n",
    "scene.add_brain_region('AD', alpha=1, color='orchid')\n",
    "scene.add_brain_region('POST', alpha=1, color='salmon')\n",
    "scene.add_brain_region('ENT', alpha=1, color='skyblue')\n",
    "scene.add_brain_region('RSP', alpha=1, color='pink')"
   ]
  },
  {
   "cell_type": "code",
   "execution_count": null,
   "id": "6639f92a-1547-4c97-b7f4-1ea303bf7eaa",
   "metadata": {},
   "outputs": [],
   "source": [
    "scene.render()"
   ]
  },
  {
   "cell_type": "code",
   "execution_count": null,
   "id": "096705f9-622d-4709-a512-e7339e4118d9",
   "metadata": {},
   "outputs": [],
   "source": []
  },
  {
   "cell_type": "code",
   "execution_count": null,
   "id": "2b6ea439-8502-436b-8f75-b09957bc7952",
   "metadata": {},
   "outputs": [],
   "source": []
  },
  {
   "cell_type": "code",
   "execution_count": null,
   "id": "bd5887e8-46e9-4ce5-b08f-1fa8151f2133",
   "metadata": {},
   "outputs": [],
   "source": [
    "scene.slice(\"sagittal\")\n",
    "\n",
    "# Set up a camera. Can use string, such as \"sagittal\".\n",
    "# During render runtime, press \"c\" to print the current camera parameters.\n",
    "camera = {\n",
    "    \"pos\": (8777, 1878, -44032),\n",
    "    \"viewup\": (0, -1, 0),\n",
    "    \"clippingRange\": (24852, 54844),\n",
    "    \"focalPoint\": (7718, 4290, -3507),\n",
    "    \"distance\": 40610,\n",
    "}\n",
    "zoom = 1.5\n",
    "\n",
    "# If you only want a screenshot and don't want to move the camera\n",
    "# around the scene, set interactive to False.\n",
    "scene.render(interactive=False, camera=camera, zoom=zoom)\n",
    "\n",
    "# Set the scale, which will be used for screenshot resolution.\n",
    "# Any value > 1 increases resolution, the default is in brainrender.settings.\n",
    "# It is easiest integer scales (non-integer can cause crashes).\n",
    "scale = 2\n",
    "\n",
    "# Take a screenshot - passing no name uses current time\n",
    "# Screenshots can be also created during runtime by pressing \"s\"\n",
    "scene.screenshot(name=\"example_brainrender_shot\", scale=scale)"
   ]
  },
  {
   "cell_type": "code",
   "execution_count": null,
   "id": "dad02697-b42f-4530-8ff3-d6a4d03a7619",
   "metadata": {},
   "outputs": [],
   "source": [
    "print(df)"
   ]
  },
  {
   "cell_type": "code",
   "execution_count": null,
   "id": "4ab777de-8e28-4479-b2fa-4747ac17ae7c",
   "metadata": {},
   "outputs": [],
   "source": [
    "# Import Scene\n",
    "from brainrender import Scene  # Scene handles the creation of your rendering!\n",
    "\n",
    "scene = Scene(title='zebrafish', atlas_name=\"mpin_zfish_1um\")  # create an instance of scene\n",
    "'''\n",
    "If you want to use any of the atlases supported by BrainGlobe's AtlasAPI,\n",
    "specify the atlas name when creating an instance of `Scene`!\n",
    "'''\n",
    "\n",
    "# Adding brain regions\n",
    "scene.add_brain_region('ipn', 'habenula', alpha=.5)"
   ]
  },
  {
   "cell_type": "code",
   "execution_count": null,
   "id": "0bc4f5ae-d54a-488b-be11-f6bd84a94e77",
   "metadata": {},
   "outputs": [],
   "source": [
    "atlas.lookup_df.head(18)"
   ]
  },
  {
   "cell_type": "code",
   "execution_count": null,
   "id": "e3b79d51-4f25-42ad-a782-728d402fdc89",
   "metadata": {},
   "outputs": [],
   "source": [
    "df = scene.atlas.lookup_df"
   ]
  },
  {
   "cell_type": "code",
   "execution_count": null,
   "id": "66301e6b-eed7-4d9d-b2bd-0fd180eca81a",
   "metadata": {},
   "outputs": [],
   "source": [
    "print(df)"
   ]
  },
  {
   "cell_type": "code",
   "execution_count": null,
   "id": "097bf884-4636-4730-aedf-a1c19677e858",
   "metadata": {},
   "outputs": [],
   "source": [
    "atlas.structures"
   ]
  },
  {
   "cell_type": "code",
   "execution_count": null,
   "id": "6157ee75-675e-4100-832b-c78857671e9a",
   "metadata": {},
   "outputs": [],
   "source": [
    "atlas.structures[\"RSP\"]"
   ]
  },
  {
   "cell_type": "code",
   "execution_count": null,
   "id": "996fea65-0f26-4d3f-af71-fd6b736ec877",
   "metadata": {},
   "outputs": [],
   "source": []
  }
 ],
 "metadata": {
  "kernelspec": {
   "display_name": "Python 3",
   "language": "python",
   "name": "python3"
  },
  "language_info": {
   "codemirror_mode": {
    "name": "ipython",
    "version": 3
   },
   "file_extension": ".py",
   "mimetype": "text/x-python",
   "name": "python",
   "nbconvert_exporter": "python",
   "pygments_lexer": "ipython3",
   "version": "3.7.10"
  }
 },
 "nbformat": 4,
 "nbformat_minor": 5
}
