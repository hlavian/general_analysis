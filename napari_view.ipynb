{
 "cells": [
  {
   "cell_type": "code",
   "execution_count": null,
   "id": "annoying-encounter",
   "metadata": {},
   "outputs": [],
   "source": [
    "import numpy as np\n",
    "from split_dataset import SplitDataset\n",
    "from pathlib import Path\n",
    "import flammkuchen as fl\n",
    "from tifffile import imread"
   ]
  },
  {
   "cell_type": "code",
   "execution_count": null,
   "id": "elder-religious",
   "metadata": {},
   "outputs": [],
   "source": [
    "%gui qt5\n",
    "import napari"
   ]
  },
  {
   "cell_type": "code",
   "execution_count": null,
   "id": "gross-flesh",
   "metadata": {},
   "outputs": [],
   "source": [
    "path = Path(r'\\\\Funes\\Shared\\experiments\\E0020_random_coherences\\v27_imaging\\lightsheet\\200820_f2')\n",
    "path = Path(r'\\\\Funes\\Shared\\experiments\\E0020_random_coherences\\v27_imaging\\lightsheet\\200820_f0')\n",
    "\n",
    "anatomy = imread(path / \"anatomy.tif\")\n",
    "corrmap = imread(path / \"corrmap.tif\")\n",
    "dataset = SplitDataset(path / \"aligned\")"
   ]
  },
  {
   "cell_type": "code",
   "execution_count": null,
   "id": "accessory-india",
   "metadata": {},
   "outputs": [],
   "source": [
    "sample_data = [dataset[min(2, dataset.shape[0] - 1) : min(7, dataset.shape[0]), :, :, :]]\n",
    "contrast_limits = (np.percentile(sample_data, 0.01), np.percentile(sample_data, 99.99))"
   ]
  },
  {
   "cell_type": "code",
   "execution_count": null,
   "id": "structural-trout",
   "metadata": {},
   "outputs": [],
   "source": [
    "viewer_3d = napari.Viewer(title='Viewer 3D')\n",
    "viewer_3d.add_image(anatomy, scale=[15,1,1])\n",
    "viewer_3d.add_image(corrmap, scale=[15,1,1])\n",
    "#viewer_3d.add_image(dataset, scale=[1,15,1,1], contrast_limits=contrast_limits)"
   ]
  },
  {
   "cell_type": "code",
   "execution_count": null,
   "id": "moved-prague",
   "metadata": {},
   "outputs": [],
   "source": []
  }
 ],
 "metadata": {
  "kernelspec": {
   "display_name": "Python 3 (ipykernel)",
   "language": "python",
   "name": "python3"
  },
  "language_info": {
   "codemirror_mode": {
    "name": "ipython",
    "version": 3
   },
   "file_extension": ".py",
   "mimetype": "text/x-python",
   "name": "python",
   "nbconvert_exporter": "python",
   "pygments_lexer": "ipython3",
   "version": "3.7.10"
  }
 },
 "nbformat": 4,
 "nbformat_minor": 5
}
