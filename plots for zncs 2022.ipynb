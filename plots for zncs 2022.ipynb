{
 "cells": [
  {
   "cell_type": "code",
   "execution_count": 1,
   "id": "generous-thing",
   "metadata": {},
   "outputs": [],
   "source": [
    "%matplotlib widget\n",
    "\n",
    "from pathlib import Path\n",
    "import numpy as np\n",
    "import flammkuchen as fl\n",
    "import pandas as pd\n",
    "\n",
    "from fimpylab import LightsheetExperiment\n",
    "\n",
    "from matplotlib import  pyplot as plt\n",
    "import seaborn as sns\n",
    "from tqdm import tqdm\n",
    "sns.set(style=\"ticks\", palette=\"deep\")\n",
    "cols = sns.color_palette()\n",
    "import ipywidgets as widgets\n",
    "\n",
    "from lotr.utils import zscore\n",
    "from lotr.pca import pca_and_phase, get_fictive_heading, fictive_heading_and_fit, \\\n",
    "        fit_phase_neurons,qap_sorting_and_phase\n",
    "from circle_fit import hyper_fit\n",
    "from lotr.experiment_class import LotrExperiment\n",
    "\n",
    "import lotr.plotting as pltltr\n",
    "COLS = pltltr.COLS\n",
    "from lotr.utils import interpolate, roll_columns_jit, zscore\n"
   ]
  },
  {
   "cell_type": "code",
   "execution_count": 2,
   "id": "personalized-botswana",
   "metadata": {},
   "outputs": [],
   "source": [
    "def nan_phase_jumps(phase_array):\n",
    "    out_array = phase_array.copy()\n",
    "    out_array[1:][np.abs(np.diff(out_array)) > np.pi] = np.nan\n",
    "    return out_array"
   ]
  },
  {
   "cell_type": "code",
   "execution_count": 3,
   "id": "adequate-romance",
   "metadata": {},
   "outputs": [],
   "source": [
    "plt.close(\"all\")\n",
    "path = Path(r\"\\\\funes\\Shared\\experiments\\E0071_lotr\\full_ring\\210314_f1\\210314_f1_natmov\")\n",
    "\n",
    "traces = fl.load(path / \"filtered_traces.h5\", \"/detr\")\n",
    "\n",
    "reg_df = fl.load(path / \"motor_regressors.h5\")\n",
    "cc_motor = reg_df[\"all_bias_abs\"].values\n",
    "cc_motor_integr = reg_df[\"all_bias_abs_dfdt\"].values\n",
    "coords = fl.load(path / \"data_from_suite2p_unfiltered.h5\", \"/coords\")\n",
    "anat = fl.load(path / \"data_from_suite2p_unfiltered.h5\", \"/anatomy_stack\")\n",
    "traces[np.isnan(traces)] = 0\n",
    "\n",
    "df = fl.load(path / \"bouts_df.h5\")# exp.get_bout_properties()\n",
    "exp = LotrExperiment(path)\n",
    "fn = int(exp.fn)\n",
    "beh_df = exp.behavior_log\n",
    "\n",
    "t_start_s = 50\n",
    "\n",
    "t_lims = (t_start_s*exp.fn, exp.n_pts - t_start_s*exp.fn)\n",
    "t_slice = slice(*t_lims)"
   ]
  },
  {
   "cell_type": "code",
   "execution_count": 15,
   "id": "binary-joshua",
   "metadata": {},
   "outputs": [
    {
     "data": {
      "text/plain": [
       "5"
      ]
     },
     "execution_count": 15,
     "metadata": {},
     "output_type": "execute_result"
    }
   ],
   "source": [
    "fn"
   ]
  },
  {
   "cell_type": "code",
   "execution_count": 5,
   "id": "occasional-keyboard",
   "metadata": {},
   "outputs": [],
   "source": [
    "selected = fl.load(path / \"selected.h5\")\n",
    "pcaed_t, phase_t, _, _ = pca_and_phase(traces[t_slice, selected].T, traces[t_slice, selected].T)\n",
    "hf_c = hyper_fit(pcaed_t)\n",
    "pcaed_t_all, _, _, _ = pca_and_phase(traces[t_slice, selected].T, traces[t_slice, :].T)\n",
    "\n",
    "pcaed, phase, _, _ = pca_and_phase(traces[t_slice, selected], traces[:, selected])\n",
    "mot_t_slice = slice(traces.shape[0] // 2, traces.shape[0])"
   ]
  },
  {
   "cell_type": "code",
   "execution_count": 6,
   "id": "sexual-damages",
   "metadata": {},
   "outputs": [],
   "source": [
    "exp = LotrExperiment(path)"
   ]
  },
  {
   "cell_type": "code",
   "execution_count": 7,
   "id": "unexpected-amino",
   "metadata": {},
   "outputs": [
    {
     "name": "stderr",
     "output_type": "stream",
     "text": [
      "100%|███████████████████████████████████████████████████████████████████████████████| 100/100 [00:00<00:00, 204.50it/s]"
     ]
    },
    {
     "name": "stdout",
     "output_type": "stream",
     "text": [
      "Wall time: 19.6 s\n"
     ]
    },
    {
     "name": "stderr",
     "output_type": "stream",
     "text": [
      "\n"
     ]
    },
    {
     "data": {
      "text/plain": [
       "1"
      ]
     },
     "execution_count": 7,
     "metadata": {},
     "output_type": "execute_result"
    }
   ],
   "source": [
    "%%time\n",
    "import os\n",
    "perm, com_phase = qap_sorting_and_phase(traces[:, selected], t_lims=t_lims)\n",
    "\n",
    "phases_neuron, _ = fit_phase_neurons(traces[t_slice, selected], phase[t_slice])\n",
    "perm_pca = np.argsort(phases_neuron)\n",
    "os.system('say \"Fit completed\"')"
   ]
  },
  {
   "cell_type": "code",
   "execution_count": 8,
   "id": "wanted-directive",
   "metadata": {},
   "outputs": [],
   "source": [
    "unwrapped_phase = np.unwrap(phase)\n",
    "unwrapped_com_phase = np.unwrap(com_phase)\n",
    "traj, params = fictive_heading_and_fit(unwrapped_phase, df, min_bias=0.1)\n",
    "\n",
    "\n",
    "angles = phase_t\n",
    "pca_scores = pcaed_t\n",
    "\n",
    "\n",
    "sort_idxs = np.argsort(exp.rpc_angles)\n",
    "sorted_traces = exp.traces[:, exp.hdn_indexes[sort_idxs]]\n",
    "phase_shifts = (exp.network_phase / (2 * np.pi)) * (exp.n_hdns - 1)\n",
    "shifted_traces = roll_columns_jit(sorted_traces, -np.round(phase_shifts))"
   ]
  },
  {
   "cell_type": "code",
   "execution_count": 97,
   "id": "confident-minimum",
   "metadata": {},
   "outputs": [
    {
     "data": {
      "application/vnd.jupyter.widget-view+json": {
       "model_id": "6bd005f8e2d0485184b3f3002c3471fb",
       "version_major": 2,
       "version_minor": 0
      },
      "text/plain": [
       "Canvas(toolbar=Toolbar(toolitems=[('Home', 'Reset original view', 'home', 'home'), ('Back', 'Back to previous …"
      ]
     },
     "metadata": {},
     "output_type": "display_data"
    }
   ],
   "source": [
    "# generating a summary figure \n",
    "fig_sum, ax_sum = plt.subplots(2, 1, figsize=(6,4.5), gridspec_kw={'height_ratios': [1,3]})\n",
    "\n",
    "t_beh = np.asarray(beh_df[\"t\"]*fn)\n",
    "t_beh[-1]\n",
    "ax_sum[0].plot(beh_df[\"t\"]*fn, beh_df[\"tail_sum\"], color=cols[7], label='Tail', rasterized=True)\n",
    "ax_sum[0].legend(loc=2, bbox_to_anchor=(0.8, 2), fontsize=7)\n",
    "ax_sum[0].set_aspect('auto')\n",
    "ax_sum[0].set_xlim(0, 5000)\n",
    "ax_sum[0].axis('off')\n",
    "\n",
    "#ax_sum[1,1].axis(\"equal\")\n",
    "\n",
    "N_BINS_RESAMPLED = 100\n",
    "resampling_base = np.linspace(-np.pi, np.pi, N_BINS_RESAMPLED)\n",
    "angle_resampled_traces = np.zeros((exp.n_pts, N_BINS_RESAMPLED))\n",
    "for i in range(exp.n_pts):\n",
    "    angle_resampled_traces[i, :] = np.interp(\n",
    "        resampling_base,\n",
    "        exp.rpc_angles[sort_idxs],\n",
    "        exp.traces[i, exp.hdn_indexes[sort_idxs]],\n",
    "    )\n",
    "\n",
    "phase_shifts_resamp = (exp.network_phase / (2 * np.pi)) * (N_BINS_RESAMPLED - 1)\n",
    "shifted_traces_resamp = roll_columns_jit(\n",
    "    angle_resampled_traces, -np.round(phase_shifts_resamp)\n",
    ")\n",
    "\n",
    "line = nan_phase_jumps(phase_shifts) + exp.n_hdns / 2\n",
    "line = line - np.nanmin(line)\n",
    "line /=(np.nanmax(line))\n",
    "line *= np.pi * 2\n",
    "line -= np.pi\n",
    "t_line = np.arange(0, np.shape(line)[0]) / fn\n",
    "\n",
    "ax_head = ax_sum[1]\n",
    "ax_phase = ax_head.twinx()\n",
    "\n",
    "\n",
    "#unwrapped_com_phase = line\n",
    "ax_head.plot(np.arange(len(traj[:])) / fn, -traj, c=cols[8])\n",
    "ax_head.set(ylabel=\"Heading (rad)\", **pltltr.get_pi_labels(0.5, ax=\"y\", coefs=(0, 5, 10, 15)))\n",
    "ax_head.set_xlim(0, 1000)\n",
    "pltltr.despine(ax_head, [\"top\"])\n",
    "pltltr.despine(ax_phase, [\"top\"])\n",
    "ax_head.set_ylim(-10, 50)\n",
    "ax_head.yaxis.label.set_color(cols[8])\n",
    "ax_head.set_xlabel('Time (s)')\n",
    "ax_phase.set(ylabel=\"Unwrapped phase (rad)\", **pltltr.get_pi_labels(0.5, ax=\"y\", coefs=(-4, -2, 0)))\n",
    "ax_phase.set_xlim(0, 1000)\n",
    "ax_phase.invert_yaxis()\n",
    "\n",
    "ax_phase.yaxis.label.set_color(cols[2])\n",
    "ax_phase.set_ylim(2, -15)\n",
    "\n",
    "fig_sum.savefig(path / 'heading_alone_220511.jpg')\n",
    "\n",
    "ax_phase.plot(np.arange(len(unwrapped_com_phase)) / fn, -unwrapped_com_phase, c=cols[2])\n",
    "\n",
    "\n",
    "\n",
    "\n",
    "\n",
    "fig_sum.savefig(path / 'heading_220511.jpg')\n",
    "#pltltr.savefig(path / \"fig4_det2.pdf\")"
   ]
  },
  {
   "cell_type": "code",
   "execution_count": null,
   "id": "hired-atlanta",
   "metadata": {},
   "outputs": [],
   "source": []
  },
  {
   "cell_type": "code",
   "execution_count": 59,
   "id": "respective-calculation",
   "metadata": {},
   "outputs": [
    {
     "data": {
      "text/plain": [
       "-0.06963709685634187"
      ]
     },
     "execution_count": 59,
     "metadata": {},
     "output_type": "execute_result"
    }
   ],
   "source": [
    "np.min(unwrapped_com_phase)"
   ]
  },
  {
   "cell_type": "code",
   "execution_count": null,
   "id": "cheap-fifth",
   "metadata": {},
   "outputs": [],
   "source": []
  },
  {
   "cell_type": "code",
   "execution_count": 4,
   "id": "agricultural-escape",
   "metadata": {},
   "outputs": [],
   "source": [
    "from scipy import signal"
   ]
  },
  {
   "cell_type": "code",
   "execution_count": 12,
   "id": "affiliated-highlight",
   "metadata": {},
   "outputs": [
    {
     "data": {
      "application/vnd.jupyter.widget-view+json": {
       "model_id": "f84d8bfcbfa94e8e869189613a6ae701",
       "version_major": 2,
       "version_minor": 0
      },
      "text/plain": [
       "Canvas(toolbar=Toolbar(toolitems=[('Home', 'Reset original view', 'home', 'home'), ('Back', 'Back to previous …"
      ]
     },
     "metadata": {},
     "output_type": "display_data"
    }
   ],
   "source": [
    "######### Fake HD cells for introduction:\n",
    "fig, ax = plt.subplots(1,1, figsize=(2.5,2.5))\n",
    "ax.set_ylabel('Firing rate (Hz)')\n",
    "ax.set_xlabel('Heading direction (degrees)')\n",
    "ax.spines['top'].set_visible(False)\n",
    "ax.set_yticks([])\n",
    "ax.spines['right'].set_visible(False)\n",
    "\n",
    "c_list = ['Dodgerblue', 'blueviolet', 'orange', 'lightseagreen']\n",
    "t = np.arange(0, 360)\n",
    "for i in range(4):\n",
    "    window = signal.gaussian(360, std=15) * 30\n",
    "    window = np.roll(window, (90 * i) + 140)\n",
    "    ax.plot(t, window, c=c_list[i])\n",
    "    ax.set_yticks([])\n",
    "    \n",
    "    file_name = 'HDN_gaus_' + str(i) + '_2.jpg'\n",
    "    fig.savefig(Path(r\"\\\\funes\\Shared\\Hagar\") / file_name, dpi=300)\n",
    "fig.subplots_adjust(bottom=0.25)"
   ]
  },
  {
   "cell_type": "code",
   "execution_count": null,
   "id": "liquid-chart",
   "metadata": {},
   "outputs": [],
   "source": []
  }
 ],
 "metadata": {
  "kernelspec": {
   "display_name": "Python 3",
   "language": "python",
   "name": "python3"
  },
  "language_info": {
   "codemirror_mode": {
    "name": "ipython",
    "version": 3
   },
   "file_extension": ".py",
   "mimetype": "text/x-python",
   "name": "python",
   "nbconvert_exporter": "python",
   "pygments_lexer": "ipython3",
   "version": "3.7.10"
  }
 },
 "nbformat": 4,
 "nbformat_minor": 5
}
