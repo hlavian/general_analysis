{
 "cells": [
  {
   "cell_type": "code",
   "execution_count": null,
   "id": "inner-interim",
   "metadata": {},
   "outputs": [],
   "source": [
    "# get traces and rois from suite2p\n",
    "%matplotlib widget"
   ]
  },
  {
   "cell_type": "code",
   "execution_count": null,
   "id": "macro-wisconsin",
   "metadata": {},
   "outputs": [],
   "source": [
    "import json\n",
    "from pathlib import Path\n",
    "import numpy as np\n",
    "import flammkuchen as fl\n",
    "import matplotlib.pyplot as plt \n",
    "from fimpylab.core.lightsheet_experiment import LightsheetExperiment"
   ]
  },
  {
   "cell_type": "code",
   "execution_count": null,
   "id": "entitled-diabetes",
   "metadata": {},
   "outputs": [],
   "source": [
    "master_path = Path(r\"\\\\Funes\\shared\\experiments\\E0040_motions_cardinal\\v13_cw_ccw\\ls_fixed\")\n",
    "master_path = Path(r\"\\\\Funes\\Shared\\experiments\\E0040_motions_cardinal\\v13_cw_ccw\\ls_fixed\\spont_plus_v13\\h2b\\new\")"
   ]
  },
  {
   "cell_type": "code",
   "execution_count": null,
   "id": "understanding-archives",
   "metadata": {},
   "outputs": [],
   "source": [
    "files = list(master_path.glob(\"*_f*\"))\n",
    "fish_dir = files[1] \n",
    "suite2p_data = fl.load(fish_dir / \"data_from_suite2p_cells.h5\")\n",
    "coords = suite2p_data[\"coords\"]\n",
    "traces = suite2p_data[\"traces\"]\n",
    "rois_stack = suite2p_data[\"rois_stack\"]\n",
    "\n",
    "try:\n",
    "    with open(next(fish_dir.glob(\"*metadata.json\"))) as i:\n",
    "        metadata = json.load(i)\n",
    "    fish_id = metadata['general']['fish_id']\n",
    "except:\n",
    "    fish_id = \"\"\n",
    "print(fish_dir)\n",
    "print(fish_id)"
   ]
  },
  {
   "cell_type": "code",
   "execution_count": null,
   "id": "informational-hacker",
   "metadata": {},
   "outputs": [],
   "source": [
    "exp = LightsheetExperiment(fish_dir)\n",
    "beh_log = exp.behavior_log\n",
    "tail = np.asarray(beh_log['tail_sum'])\n",
    "t = np.asarray(beh_log[\"t\"]) / 3"
   ]
  },
  {
   "cell_type": "code",
   "execution_count": null,
   "id": "patent-flexibility",
   "metadata": {},
   "outputs": [],
   "source": [
    "num_traces, len_rec = np.shape(traces)\n",
    "print(np.shape(traces))"
   ]
  },
  {
   "cell_type": "code",
   "execution_count": null,
   "id": "increasing-encounter",
   "metadata": {},
   "outputs": [],
   "source": [
    "\n",
    "fix_traces = np.copy(traces)\n",
    "# remove_ind = np.where(np.nanstd(traces, 0) == 0)\n",
    "# print(remove_ind)\n",
    "\n",
    "remove_ind = []\n",
    "for i in range(num_traces):\n",
    "    tmp_trace = fix_traces[i]\n",
    "    #print(tmp_trace)\n",
    "    if np.nanstd(tmp_trace) == 0:\n",
    "        remove_ind.append(i)\n",
    "print(remove_ind)\n",
    "\n",
    "fix_traces = np.delete(fix_traces, (remove_ind), axis=0)\n"
   ]
  },
  {
   "cell_type": "code",
   "execution_count": null,
   "id": "instrumental-electric",
   "metadata": {},
   "outputs": [],
   "source": [
    "num_traces, len_rec = np.shape(fix_traces)\n",
    "print(np.shape(fix_traces))"
   ]
  },
  {
   "cell_type": "code",
   "execution_count": null,
   "id": "buried-parish",
   "metadata": {},
   "outputs": [],
   "source": [
    "norm_traces = np.copy(fix_traces)\n",
    "sd=np.nanstd(norm_traces, 0)\n",
    "mean=np.nanmean(norm_traces, 0)\n",
    "norm_traces=norm_traces-mean \n",
    "norm_traces=norm_traces/sd\n",
    "print(np.shape(norm_traces))"
   ]
  },
  {
   "cell_type": "code",
   "execution_count": null,
   "id": "legitimate-ground",
   "metadata": {},
   "outputs": [],
   "source": [
    "## find IPN traces with square mask\n",
    "# step 1 - remove dorsal planes\n",
    "ipn_traces = np.copy(norm_traces)\n",
    "ipn_rois = np.zeros_like(rois_stack)\n",
    "ipn_traces_z = np.where((coords[:,0] < 10))\n",
    "ipn_traces_y = np.where((coords[:,2] > 130))\n",
    "ipn_traces_x = np.where((coords[:,1] > 110) & ((coords[:,1] < 200)))\n",
    "\n",
    "ipn_ind = []\n",
    "for i in range(num_traces):\n",
    "    if i in ipn_traces_z[0]:\n",
    "        if i in ipn_traces_x[0]:\n",
    "            if i in ipn_traces_y[0]:\n",
    "                ipn_ind.append(i)\n",
    "                tmp_stack = np.where(rois_stack == i)\n",
    "                ipn_rois[tmp_stack] = i\n",
    "print(ipn_ind)\n",
    "ipn_traces = norm_traces[ipn_ind]\n",
    "fig, ax = plt.subplots(1,3,figsize=(12,4))\n",
    "\n",
    "num_planes = np.shape(rois_stack)[0]\n",
    "print(num_planes)\n",
    "for i in range(num_planes):\n",
    "    ipn_layer = ipn_rois[i]\n",
    "    ipn_layer = np.ma.masked_where(ipn_layer < 1, ipn_layer)\n",
    "    ipn_layer = np.rot90(ipn_layer, k=-1, axes=(1, 0))\n",
    "    ax[1].axis('off')\n",
    "    ax[1].set_title(\"ipn rois\")\n",
    "    ax[1].imshow(ipn_layer, aspect='auto', cmap=\"rainbow\")\n",
    "    \n",
    "    \n",
    "    all_layer = rois_stack[i]\n",
    "    all_layer = np.ma.masked_where(all_layer < 1, all_layer)\n",
    "    all_layer = np.rot90(all_layer, k=-1, axes=(1, 0))\n",
    "    ax[0].axis('off')\n",
    "    ax[0].set_title(\"all rois\")\n",
    "    ax[0].imshow(all_layer, aspect='auto', cmap=\"rainbow\")\n",
    "plt.show()"
   ]
  },
  {
   "cell_type": "code",
   "execution_count": null,
   "id": "expressed-appointment",
   "metadata": {},
   "outputs": [],
   "source": [
    "## find IPN traces with square mask\n",
    "# step 1 - remove dorsal planes\n",
    "ahb_traces = np.copy(norm_traces)\n",
    "ahb_rois = np.zeros_like(rois_stack)\n",
    "ahb_traces_z = np.where((coords[:,0] > 6))\n",
    "ahb_traces_y = np.where((coords[:,2] < 200) & ((coords[:,2] > 20)))\n",
    "ahb_traces_x = np.where((coords[:,1] < 250) & ((coords[:,1] > 20)))\n",
    "\n",
    "ahb_ind = []\n",
    "for i in range(num_traces):\n",
    "    if i in ahb_traces_z[0]:\n",
    "        if i in ahb_traces_x[0]:\n",
    "            if i in ahb_traces_y[0]:\n",
    "                ahb_ind.append(i)\n",
    "                tmp_stack = np.where(rois_stack == i)\n",
    "                ahb_rois[tmp_stack] = i\n",
    "ahb_traces = norm_traces[ahb_ind]\n",
    "\n",
    "fig, ax = plt.subplots(1,3,figsize=(12,4))\n",
    "\n",
    "num_planes = np.shape(rois_stack)[0]\n",
    "print(num_planes)\n",
    "for i in range(num_planes):\n",
    "    ipn_layer = ipn_rois[i]\n",
    "    ipn_layer = np.ma.masked_where(ipn_layer < 1, ipn_layer)\n",
    "    ipn_layer = np.rot90(ipn_layer, k=-1, axes=(1, 0))\n",
    "    ax[1].axis('off')\n",
    "    ax[1].set_title(\"ipn rois\")\n",
    "    ax[1].imshow(ipn_layer, aspect='auto', cmap=\"rainbow\")\n",
    "    \n",
    "    ahb_layer = ahb_rois[i]\n",
    "    ahb_layer = np.ma.masked_where(ahb_layer < 1, ahb_layer)\n",
    "    ahb_layer = np.rot90(ahb_layer, k=-1, axes=(1, 0))\n",
    "    ax[2].axis('off')\n",
    "    ax[2].set_title(\"aHB rois\")\n",
    "    ax[2].imshow(ahb_layer, aspect='auto', cmap=\"rainbow\")\n",
    "    \n",
    "    \n",
    "    all_layer = rois_stack[i]\n",
    "    all_layer = np.ma.masked_where(all_layer < 1, all_layer)\n",
    "    all_layer = np.rot90(all_layer, k=-1, axes=(1, 0))\n",
    "    ax[0].axis('off')\n",
    "    ax[0].set_title(\"all rois\")\n",
    "    ax[0].imshow(all_layer, aspect='auto', cmap=\"rainbow\")\n",
    "plt.show()\n",
    "\n",
    "file_name = \"separating_rois_\" + fish_id + \"_210718.jpg\"\n",
    "fig.savefig(str(fish_dir / file_name), dpi=300)"
   ]
  },
  {
   "cell_type": "code",
   "execution_count": null,
   "id": "convinced-spencer",
   "metadata": {},
   "outputs": [],
   "source": [
    "concatenated_traces = np.concatenate((ipn_traces, ahb_traces), axis=0)"
   ]
  },
  {
   "cell_type": "code",
   "execution_count": null,
   "id": "unexpected-berkeley",
   "metadata": {},
   "outputs": [],
   "source": [
    "fig1 = plt.figure(figsize=(10,7))\n",
    "plt.imshow(fix_traces, aspect=\"auto\", vmin=np.percentile(fix_traces, 1), vmax=np.percentile(fix_traces, 99), cmap=\"coolwarm\")\n",
    "plt.title(fish_id)\n",
    "file_name = \"traces\" + fish_id + \".jpg\"\n",
    "fig1.savefig(str(fish_dir / file_name), dpi=300)\n",
    "\n"
   ]
  },
  {
   "cell_type": "code",
   "execution_count": null,
   "id": "objective-target",
   "metadata": {},
   "outputs": [],
   "source": [
    "print(np.percentile(norm_traces, 99))\n",
    "print(np.percentile(norm_traces, 5))"
   ]
  },
  {
   "cell_type": "code",
   "execution_count": null,
   "id": "early-tennis",
   "metadata": {},
   "outputs": [],
   "source": [
    "fig2, (a0, a1) = plt.subplots(2, 1, gridspec_kw={'height_ratios': [1, 8]}, figsize=(10,5))\n",
    "a0.plot(t, tail, linewidth=1)\n",
    "a0.axis('off')\n",
    "a1.imshow(norm_traces, aspect=\"auto\", vmin=np.percentile(norm_traces, 1), vmax=np.percentile(norm_traces, 99), cmap=\"coolwarm\")\n",
    "plt.suptitle(fish_id)\n",
    "file_name = \"norm_traces\" + fish_id + \".jpg\"\n",
    "fig2.tight_layout()\n",
    "fig2.savefig(str(fish_dir / file_name), dpi=300)"
   ]
  },
  {
   "cell_type": "code",
   "execution_count": null,
   "id": "surgical-singapore",
   "metadata": {},
   "outputs": [],
   "source": [
    "corr_mat = np.corrcoef(concatenated_traces)\n"
   ]
  },
  {
   "cell_type": "code",
   "execution_count": null,
   "id": "japanese-atlanta",
   "metadata": {},
   "outputs": [],
   "source": [
    "print(fish_id)"
   ]
  },
  {
   "cell_type": "code",
   "execution_count": null,
   "id": "traditional-version",
   "metadata": {},
   "outputs": [],
   "source": [
    "num_ipn_neurons = np.shape(ipn_traces)[0]\n",
    "fig3 = plt.figure(figsize=(10,7))\n",
    "plt.imshow(corr_mat, aspect=\"auto\", vmin=-1, vmax=1, cmap=\"coolwarm\")\n",
    "title = fish_id + \" num ipn neurons: \" + str(num_ipn_neurons)\n",
    "plt.title(title)\n",
    "file_name = \"corrmat_sorted_\" + fish_id + \"_210718.jpg\"\n",
    "fig3.savefig(str(fish_dir / file_name), dpi=300)"
   ]
  },
  {
   "cell_type": "code",
   "execution_count": null,
   "id": "least-triangle",
   "metadata": {},
   "outputs": [],
   "source": [
    "corr_mat = np.corrcoef(norm_traces)"
   ]
  },
  {
   "cell_type": "code",
   "execution_count": null,
   "id": "stretch-pocket",
   "metadata": {},
   "outputs": [],
   "source": []
  },
  {
   "cell_type": "code",
   "execution_count": null,
   "id": "encouraging-vocabulary",
   "metadata": {},
   "outputs": [],
   "source": []
  }
 ],
 "metadata": {
  "kernelspec": {
   "display_name": "Python 3 (ipykernel)",
   "language": "python",
   "name": "python3"
  },
  "language_info": {
   "codemirror_mode": {
    "name": "ipython",
    "version": 3
   },
   "file_extension": ".py",
   "mimetype": "text/x-python",
   "name": "python",
   "nbconvert_exporter": "python",
   "pygments_lexer": "ipython3",
   "version": "3.7.10"
  }
 },
 "nbformat": 4,
 "nbformat_minor": 5
}
