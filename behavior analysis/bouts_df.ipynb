{
 "cells": [
  {
   "cell_type": "code",
   "execution_count": null,
   "id": "cd58b63f-a0b1-4af8-b06b-1d5af9ca62b5",
   "metadata": {},
   "outputs": [],
   "source": [
    "from pathlib import Path\n",
    "import numpy as np\n",
    "import flammkuchen as fl\n",
    "import pandas as pd\n",
    "\n",
    "import json\n",
    "\n",
    "from bouter import EmbeddedExperiment\n",
    "from bouter.utilities import predictive_tail_fill\n",
    "TURN_BIAS = 0.239"
   ]
  },
  {
   "cell_type": "code",
   "execution_count": null,
   "id": "be1fbce3-8352-4036-a00f-39e8925d2a54",
   "metadata": {},
   "outputs": [],
   "source": [
    "master_path =  Path(r\"\\\\funes\\Shared\\experiments\\E0040_motions_cardinal\\v28\\2d\")\n",
    "master_path =  Path(r\"\\\\funes\\Shared\\experiments\\E0040_motions_cardinal\\v29_29p1s\\2sec\")\n",
    "fish_list = list(master_path.glob(\"*_f*\"))"
   ]
  },
  {
   "cell_type": "code",
   "execution_count": null,
   "id": "69946fc3-818f-4819-a620-d22cfed625b6",
   "metadata": {},
   "outputs": [],
   "source": [
    "for fish in fish_list:\n",
    "    print(fish)\n",
    "    try:\n",
    "        if not (fish / \"bouts_df.h5\").exists():\n",
    "            exp = EmbeddedExperiment(fish)\n",
    "            beh_df = exp.behavior_log\n",
    "            #theta_mat = beh_df.loc[:, [f\"theta_0{i}\" for i in range(9)]].values\n",
    "            theta_mat = beh_df.iloc[:, 1:-1].values\n",
    "\n",
    "            n_segments = np.shape(theta_mat)[1]\n",
    "            beh_df.loc[:, [f\"theta_0{i}\" for i in range(n_segments)]] = predictive_tail_fill(\n",
    "                theta_mat\n",
    "            )\n",
    "\n",
    "            try:\n",
    "                beh_df[\"tail_sum\"] = (beh_df[\"theta_07\"] + beh_df[\"theta_08\"]) - (\n",
    "                    beh_df[\"theta_00\"] + beh_df[\"theta_01\"]\n",
    "                )\n",
    "            except:\n",
    "                try:\n",
    "                    beh_df[\"tail_sum\"] = (beh_df[\"theta_07\"] + beh_df[\"theta_06\"]) - (\n",
    "                        beh_df[\"theta_00\"] + beh_df[\"theta_01\"]\n",
    "                    )\n",
    "                except:\n",
    "                    beh_df[\"tail_sum\"] = (beh_df[\"theta_05\"] + beh_df[\"theta_04\"]) - (\n",
    "                    beh_df[\"theta_00\"] + beh_df[\"theta_01\"]\n",
    "                )\n",
    "\n",
    "            bouts_df = exp.get_bout_properties()\n",
    "            # Compute bout index in behavior trace:\n",
    "            bouts_df[\"idx\"] = [\n",
    "                np.argmin((beh_df[\"t\"] - bouts_df.loc[i, \"t_start\"]).abs())\n",
    "                for i in bouts_df.index\n",
    "            ]\n",
    "            bouts_df[\"fid\"] = fish.name\n",
    "\n",
    "            #bouts_df[\"idx_imaging\"] = np.round(bouts_df[\"t_start\"] * fn).astype(np.int)\n",
    "\n",
    "            bouts_df[\"direction\"] = \"fw\"\n",
    "            bouts_df.loc[(bouts_df[\"bias\"] > TURN_BIAS), \"direction\"] = \"rt\"\n",
    "            bouts_df.loc[(bouts_df[\"bias\"] < -TURN_BIAS), \"direction\"] = \"lf\"\n",
    "\n",
    "            fl.save(fish / \"bouts_df.h5\", bouts_df)\n",
    "    except:\n",
    "        print(\"Error. Stupid fish wasting my time.\")"
   ]
  },
  {
   "cell_type": "code",
   "execution_count": null,
   "id": "15663971-8d5f-41a7-8d8f-f839e09f1561",
   "metadata": {},
   "outputs": [],
   "source": [
    "theta_mat = beh_df.iloc[:, 1:-1]"
   ]
  },
  {
   "cell_type": "code",
   "execution_count": null,
   "id": "dd2fa618-afe5-4819-a70c-791fae2f2290",
   "metadata": {},
   "outputs": [],
   "source": [
    "beh_df"
   ]
  },
  {
   "cell_type": "code",
   "execution_count": null,
   "id": "e2cb5991-388f-4f65-a3a3-648951ad2c18",
   "metadata": {},
   "outputs": [],
   "source": [
    "bouts_df"
   ]
  },
  {
   "cell_type": "code",
   "execution_count": null,
   "id": "261351ff-5249-480f-829d-231f74a073f9",
   "metadata": {},
   "outputs": [],
   "source": []
  }
 ],
 "metadata": {
  "kernelspec": {
   "display_name": "Python 3",
   "language": "python",
   "name": "python3"
  },
  "language_info": {
   "codemirror_mode": {
    "name": "ipython",
    "version": 3
   },
   "file_extension": ".py",
   "mimetype": "text/x-python",
   "name": "python",
   "nbconvert_exporter": "python",
   "pygments_lexer": "ipython3",
   "version": "3.7.10"
  }
 },
 "nbformat": 4,
 "nbformat_minor": 5
}
