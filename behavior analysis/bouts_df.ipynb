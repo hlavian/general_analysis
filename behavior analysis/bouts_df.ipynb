{
 "cells": [
  {
   "cell_type": "code",
   "execution_count": 1,
   "id": "cd58b63f-a0b1-4af8-b06b-1d5af9ca62b5",
   "metadata": {},
   "outputs": [],
   "source": [
    "from pathlib import Path\n",
    "import numpy as np\n",
    "import flammkuchen as fl\n",
    "import pandas as pd\n",
    "\n",
    "import json\n",
    "\n",
    "from bouter import EmbeddedExperiment\n",
    "from fimpylab.core.lightsheet_experiment import LightsheetExperiment\n",
    "from bouter.utilities import predictive_tail_fill\n",
    "TURN_BIAS = 0.239\n",
    "\n",
    "from bouterin.plots.stimulus_log_plot import get_paint_function"
   ]
  },
  {
   "cell_type": "code",
   "execution_count": 2,
   "id": "de085b6f-0b1c-4f8e-963f-551e2ce52a4b",
   "metadata": {},
   "outputs": [],
   "source": [
    "%matplotlib widget\n",
    "import matplotlib.pyplot as plt"
   ]
  },
  {
   "cell_type": "code",
   "execution_count": 3,
   "id": "be1fbce3-8352-4036-a00f-39e8925d2a54",
   "metadata": {},
   "outputs": [
    {
     "data": {
      "text/plain": [
       "[WindowsPath('Z:/Hagar/older fish/h2b/230501_f3_v13'),\n",
       " WindowsPath('Z:/Hagar/older fish/h2b/230501_f3_v19'),\n",
       " WindowsPath('Z:/Hagar/older fish/h2b/230501_f4_v13'),\n",
       " WindowsPath('Z:/Hagar/older fish/h2b/230501_f4_v19'),\n",
       " WindowsPath('Z:/Hagar/older fish/h2b/230501_f5_v13'),\n",
       " WindowsPath('Z:/Hagar/older fish/h2b/230501_f5_v19'),\n",
       " WindowsPath('Z:/Hagar/older fish/h2b/230501_f6_v13'),\n",
       " WindowsPath('Z:/Hagar/older fish/h2b/230501_f6_v19'),\n",
       " WindowsPath('Z:/Hagar/older fish/h2b/230502_f0_v13'),\n",
       " WindowsPath('Z:/Hagar/older fish/h2b/230502_f0_v19'),\n",
       " WindowsPath('Z:/Hagar/older fish/h2b/230502_f1_v13'),\n",
       " WindowsPath('Z:/Hagar/older fish/h2b/230502_f1_v19'),\n",
       " WindowsPath('Z:/Hagar/older fish/h2b/230502_f2_v13'),\n",
       " WindowsPath('Z:/Hagar/older fish/h2b/230502_f2_v19'),\n",
       " WindowsPath('Z:/Hagar/older fish/h2b/230502_f3_v13'),\n",
       " WindowsPath('Z:/Hagar/older fish/h2b/230502_f3_v19'),\n",
       " WindowsPath('Z:/Hagar/older fish/h2b/230502_f4_v13'),\n",
       " WindowsPath('Z:/Hagar/older fish/h2b/230502_f4_v19'),\n",
       " WindowsPath('Z:/Hagar/older fish/h2b/230502_f5_v13'),\n",
       " WindowsPath('Z:/Hagar/older fish/h2b/230502_f5_v19')]"
      ]
     },
     "execution_count": 3,
     "metadata": {},
     "output_type": "execute_result"
    }
   ],
   "source": [
    "master_path =  Path(r\"\\\\funes\\Shared\\experiments\\E0040_motions_cardinal\\v28\\2d\")\n",
    "master_path =  Path(r\"\\\\funes\\Shared\\experiments\\E0040_motions_cardinal\\v13_cw_ccw\\ls_fixed\\spont_plus_v13\\huc\")\n",
    "master_path =  Path(r\"\\\\funes\\shared\\experiments\\E0040_motions_cardinal\\v29_29p1s\\ls\\2sec\")\n",
    "master_path = Path(r\"Z:\\Hagar\\older fish\\h2b\")\n",
    "\n",
    "fish_list = list(master_path.glob(\"*_f*\"))\n",
    "fish_list"
   ]
  },
  {
   "cell_type": "code",
   "execution_count": 4,
   "id": "69946fc3-818f-4819-a620-d22cfed625b6",
   "metadata": {},
   "outputs": [
    {
     "name": "stdout",
     "output_type": "stream",
     "text": [
      "Z:\\Hagar\\older fish\\h2b\\230501_f3_v13\n",
      "Z:\\Hagar\\older fish\\h2b\\230501_f3_v19\n",
      "Z:\\Hagar\\older fish\\h2b\\230501_f4_v13\n",
      "Z:\\Hagar\\older fish\\h2b\\230501_f4_v19\n",
      "Z:\\Hagar\\older fish\\h2b\\230501_f5_v13\n",
      "Z:\\Hagar\\older fish\\h2b\\230501_f5_v19\n",
      "Z:\\Hagar\\older fish\\h2b\\230501_f6_v13\n",
      "Z:\\Hagar\\older fish\\h2b\\230501_f6_v19\n",
      "Z:\\Hagar\\older fish\\h2b\\230502_f0_v13\n",
      "T\n",
      "7\n"
     ]
    },
    {
     "name": "stderr",
     "output_type": "stream",
     "text": [
      "C:\\Users\\lavian\\anaconda3\\envs\\rplab\\lib\\site-packages\\ipykernel_launcher.py:42: DeprecationWarning: `np.int` is a deprecated alias for the builtin `int`. To silence this warning, use `int` by itself. Doing this will not modify any behavior and is safe. When replacing `np.int`, you may wish to use e.g. `np.int64` or `np.int32` to specify the precision. If you wish to review your current use, check the release note link for additional information.\n",
      "Deprecated in NumPy 1.20; for more details and guidance: https://numpy.org/devdocs/release/1.20.0-notes.html#deprecations\n"
     ]
    },
    {
     "name": "stdout",
     "output_type": "stream",
     "text": [
      "Z:\\Hagar\\older fish\\h2b\\230502_f0_v19\n",
      "T\n",
      "7\n"
     ]
    },
    {
     "name": "stderr",
     "output_type": "stream",
     "text": [
      "C:\\Users\\lavian\\anaconda3\\envs\\rplab\\lib\\site-packages\\ipykernel_launcher.py:42: DeprecationWarning: `np.int` is a deprecated alias for the builtin `int`. To silence this warning, use `int` by itself. Doing this will not modify any behavior and is safe. When replacing `np.int`, you may wish to use e.g. `np.int64` or `np.int32` to specify the precision. If you wish to review your current use, check the release note link for additional information.\n",
      "Deprecated in NumPy 1.20; for more details and guidance: https://numpy.org/devdocs/release/1.20.0-notes.html#deprecations\n"
     ]
    },
    {
     "name": "stdout",
     "output_type": "stream",
     "text": [
      "Z:\\Hagar\\older fish\\h2b\\230502_f1_v13\n",
      "T\n",
      "7\n"
     ]
    },
    {
     "name": "stderr",
     "output_type": "stream",
     "text": [
      "C:\\Users\\lavian\\anaconda3\\envs\\rplab\\lib\\site-packages\\ipykernel_launcher.py:42: DeprecationWarning: `np.int` is a deprecated alias for the builtin `int`. To silence this warning, use `int` by itself. Doing this will not modify any behavior and is safe. When replacing `np.int`, you may wish to use e.g. `np.int64` or `np.int32` to specify the precision. If you wish to review your current use, check the release note link for additional information.\n",
      "Deprecated in NumPy 1.20; for more details and guidance: https://numpy.org/devdocs/release/1.20.0-notes.html#deprecations\n"
     ]
    },
    {
     "name": "stdout",
     "output_type": "stream",
     "text": [
      "Z:\\Hagar\\older fish\\h2b\\230502_f1_v19\n",
      "T\n",
      "7\n"
     ]
    },
    {
     "name": "stderr",
     "output_type": "stream",
     "text": [
      "C:\\Users\\lavian\\anaconda3\\envs\\rplab\\lib\\site-packages\\ipykernel_launcher.py:42: DeprecationWarning: `np.int` is a deprecated alias for the builtin `int`. To silence this warning, use `int` by itself. Doing this will not modify any behavior and is safe. When replacing `np.int`, you may wish to use e.g. `np.int64` or `np.int32` to specify the precision. If you wish to review your current use, check the release note link for additional information.\n",
      "Deprecated in NumPy 1.20; for more details and guidance: https://numpy.org/devdocs/release/1.20.0-notes.html#deprecations\n"
     ]
    },
    {
     "name": "stdout",
     "output_type": "stream",
     "text": [
      "Z:\\Hagar\\older fish\\h2b\\230502_f2_v13\n",
      "T\n",
      "7\n"
     ]
    },
    {
     "name": "stderr",
     "output_type": "stream",
     "text": [
      "C:\\Users\\lavian\\anaconda3\\envs\\rplab\\lib\\site-packages\\ipykernel_launcher.py:42: DeprecationWarning: `np.int` is a deprecated alias for the builtin `int`. To silence this warning, use `int` by itself. Doing this will not modify any behavior and is safe. When replacing `np.int`, you may wish to use e.g. `np.int64` or `np.int32` to specify the precision. If you wish to review your current use, check the release note link for additional information.\n",
      "Deprecated in NumPy 1.20; for more details and guidance: https://numpy.org/devdocs/release/1.20.0-notes.html#deprecations\n"
     ]
    },
    {
     "name": "stdout",
     "output_type": "stream",
     "text": [
      "Z:\\Hagar\\older fish\\h2b\\230502_f2_v19\n",
      "T\n",
      "7\n"
     ]
    },
    {
     "name": "stderr",
     "output_type": "stream",
     "text": [
      "C:\\Users\\lavian\\anaconda3\\envs\\rplab\\lib\\site-packages\\ipykernel_launcher.py:42: DeprecationWarning: `np.int` is a deprecated alias for the builtin `int`. To silence this warning, use `int` by itself. Doing this will not modify any behavior and is safe. When replacing `np.int`, you may wish to use e.g. `np.int64` or `np.int32` to specify the precision. If you wish to review your current use, check the release note link for additional information.\n",
      "Deprecated in NumPy 1.20; for more details and guidance: https://numpy.org/devdocs/release/1.20.0-notes.html#deprecations\n"
     ]
    },
    {
     "name": "stdout",
     "output_type": "stream",
     "text": [
      "Z:\\Hagar\\older fish\\h2b\\230502_f3_v13\n",
      "T\n",
      "7\n"
     ]
    },
    {
     "name": "stderr",
     "output_type": "stream",
     "text": [
      "C:\\Users\\lavian\\anaconda3\\envs\\rplab\\lib\\site-packages\\ipykernel_launcher.py:42: DeprecationWarning: `np.int` is a deprecated alias for the builtin `int`. To silence this warning, use `int` by itself. Doing this will not modify any behavior and is safe. When replacing `np.int`, you may wish to use e.g. `np.int64` or `np.int32` to specify the precision. If you wish to review your current use, check the release note link for additional information.\n",
      "Deprecated in NumPy 1.20; for more details and guidance: https://numpy.org/devdocs/release/1.20.0-notes.html#deprecations\n"
     ]
    },
    {
     "name": "stdout",
     "output_type": "stream",
     "text": [
      "Z:\\Hagar\\older fish\\h2b\\230502_f3_v19\n",
      "T\n",
      "7\n"
     ]
    },
    {
     "name": "stderr",
     "output_type": "stream",
     "text": [
      "C:\\Users\\lavian\\anaconda3\\envs\\rplab\\lib\\site-packages\\ipykernel_launcher.py:42: DeprecationWarning: `np.int` is a deprecated alias for the builtin `int`. To silence this warning, use `int` by itself. Doing this will not modify any behavior and is safe. When replacing `np.int`, you may wish to use e.g. `np.int64` or `np.int32` to specify the precision. If you wish to review your current use, check the release note link for additional information.\n",
      "Deprecated in NumPy 1.20; for more details and guidance: https://numpy.org/devdocs/release/1.20.0-notes.html#deprecations\n"
     ]
    },
    {
     "name": "stdout",
     "output_type": "stream",
     "text": [
      "Z:\\Hagar\\older fish\\h2b\\230502_f4_v13\n",
      "T\n",
      "7\n"
     ]
    },
    {
     "name": "stderr",
     "output_type": "stream",
     "text": [
      "C:\\Users\\lavian\\anaconda3\\envs\\rplab\\lib\\site-packages\\ipykernel_launcher.py:42: DeprecationWarning: `np.int` is a deprecated alias for the builtin `int`. To silence this warning, use `int` by itself. Doing this will not modify any behavior and is safe. When replacing `np.int`, you may wish to use e.g. `np.int64` or `np.int32` to specify the precision. If you wish to review your current use, check the release note link for additional information.\n",
      "Deprecated in NumPy 1.20; for more details and guidance: https://numpy.org/devdocs/release/1.20.0-notes.html#deprecations\n"
     ]
    },
    {
     "name": "stdout",
     "output_type": "stream",
     "text": [
      "Z:\\Hagar\\older fish\\h2b\\230502_f4_v19\n",
      "T\n",
      "7\n"
     ]
    },
    {
     "name": "stderr",
     "output_type": "stream",
     "text": [
      "C:\\Users\\lavian\\anaconda3\\envs\\rplab\\lib\\site-packages\\ipykernel_launcher.py:42: DeprecationWarning: `np.int` is a deprecated alias for the builtin `int`. To silence this warning, use `int` by itself. Doing this will not modify any behavior and is safe. When replacing `np.int`, you may wish to use e.g. `np.int64` or `np.int32` to specify the precision. If you wish to review your current use, check the release note link for additional information.\n",
      "Deprecated in NumPy 1.20; for more details and guidance: https://numpy.org/devdocs/release/1.20.0-notes.html#deprecations\n"
     ]
    },
    {
     "name": "stdout",
     "output_type": "stream",
     "text": [
      "Z:\\Hagar\\older fish\\h2b\\230502_f5_v13\n",
      "T\n",
      "7\n"
     ]
    },
    {
     "name": "stderr",
     "output_type": "stream",
     "text": [
      "C:\\Users\\lavian\\anaconda3\\envs\\rplab\\lib\\site-packages\\ipykernel_launcher.py:42: DeprecationWarning: `np.int` is a deprecated alias for the builtin `int`. To silence this warning, use `int` by itself. Doing this will not modify any behavior and is safe. When replacing `np.int`, you may wish to use e.g. `np.int64` or `np.int32` to specify the precision. If you wish to review your current use, check the release note link for additional information.\n",
      "Deprecated in NumPy 1.20; for more details and guidance: https://numpy.org/devdocs/release/1.20.0-notes.html#deprecations\n"
     ]
    },
    {
     "name": "stdout",
     "output_type": "stream",
     "text": [
      "Z:\\Hagar\\older fish\\h2b\\230502_f5_v19\n",
      "T\n",
      "7\n"
     ]
    },
    {
     "name": "stderr",
     "output_type": "stream",
     "text": [
      "C:\\Users\\lavian\\anaconda3\\envs\\rplab\\lib\\site-packages\\ipykernel_launcher.py:42: DeprecationWarning: `np.int` is a deprecated alias for the builtin `int`. To silence this warning, use `int` by itself. Doing this will not modify any behavior and is safe. When replacing `np.int`, you may wish to use e.g. `np.int64` or `np.int32` to specify the precision. If you wish to review your current use, check the release note link for additional information.\n",
      "Deprecated in NumPy 1.20; for more details and guidance: https://numpy.org/devdocs/release/1.20.0-notes.html#deprecations\n"
     ]
    }
   ],
   "source": [
    "for fish in fish_list:\n",
    "    print(fish)\n",
    "    try:\n",
    "        #fn = 2\n",
    "        if not (fish / \"bouts_df.h5\").exists():\n",
    "            #exp = EmbeddedExperiment(fish)\n",
    "            exp = LightsheetExperiment(fish)\n",
    "            fn = exp.fn\n",
    "            beh_df = exp.behavior_log\n",
    "            print(\"T\")\n",
    "            #theta_mat = beh_df.loc[:, [f\"theta_0{i}\" for i in range(9)]].values\n",
    "            theta_mat = beh_df.iloc[:, 1:-1].values\n",
    "\n",
    "            n_segments = np.shape(theta_mat)[1]\n",
    "            beh_df.loc[:, [f\"theta_0{i}\" for i in range(n_segments)]] = predictive_tail_fill(\n",
    "                theta_mat\n",
    "            )\n",
    "            print(n_segments)\n",
    "\n",
    "            try:\n",
    "                beh_df[\"tail_sum\"] = (beh_df[\"theta_07\"] + beh_df[\"theta_08\"]) - (\n",
    "                    beh_df[\"theta_00\"] + beh_df[\"theta_01\"]\n",
    "                )\n",
    "            except:\n",
    "                try:\n",
    "                    beh_df[\"tail_sum\"] = (beh_df[\"theta_07\"] + beh_df[\"theta_06\"]) - (\n",
    "                        beh_df[\"theta_00\"] + beh_df[\"theta_01\"]\n",
    "                    )\n",
    "                except:\n",
    "                    beh_df[\"tail_sum\"] = (beh_df[\"theta_05\"] + beh_df[\"theta_04\"]) - (\n",
    "                    beh_df[\"theta_00\"] + beh_df[\"theta_01\"]\n",
    "                )\n",
    "\n",
    "            bouts_df = exp.get_bout_properties(vigor_threshold=0.05)\n",
    "            # Compute bout index in behavior trace:\n",
    "            bouts_df[\"idx\"] = [\n",
    "                np.argmin((beh_df[\"t\"] - bouts_df.loc[i, \"t_start\"]).abs())\n",
    "                for i in bouts_df.index\n",
    "            ]\n",
    "            bouts_df[\"fid\"] = fish.name\n",
    "\n",
    "            bouts_df[\"idx_imaging\"] = np.round(bouts_df[\"t_start\"] * fn).astype(np.int)\n",
    "\n",
    "            bouts_df[\"direction\"] = \"fw\"\n",
    "            bouts_df.loc[(bouts_df[\"bias\"] > TURN_BIAS), \"direction\"] = \"rt\"\n",
    "            bouts_df.loc[(bouts_df[\"bias\"] < -TURN_BIAS), \"direction\"] = \"lf\"\n",
    "\n",
    "            fl.save(fish / \"bouts_df.h5\", bouts_df)\n",
    "    except:\n",
    "        print(\"Error. Stupid fish wasting my time.\")"
   ]
  },
  {
   "cell_type": "code",
   "execution_count": null,
   "id": "15663971-8d5f-41a7-8d8f-f839e09f1561",
   "metadata": {},
   "outputs": [],
   "source": [
    "theta_mat = beh_df.iloc[:, 1:-1]"
   ]
  },
  {
   "cell_type": "code",
   "execution_count": null,
   "id": "dd2fa618-afe5-4819-a70c-791fae2f2290",
   "metadata": {},
   "outputs": [],
   "source": [
    "beh_df"
   ]
  },
  {
   "cell_type": "code",
   "execution_count": null,
   "id": "7752b154-c56c-47bf-839f-6fec6ca925ea",
   "metadata": {},
   "outputs": [],
   "source": []
  },
  {
   "cell_type": "code",
   "execution_count": null,
   "id": "e2cb5991-388f-4f65-a3a3-648951ad2c18",
   "metadata": {},
   "outputs": [],
   "source": []
  },
  {
   "cell_type": "code",
   "execution_count": null,
   "id": "2e1b34be-66e1-48a4-98d5-7268db692eb7",
   "metadata": {},
   "outputs": [],
   "source": [
    "master_path = Path(r\"Z:\\Hagar\\E0040\\v31\\pre ablation\")\n",
    "fish_list = list(master_path.glob(\"*_f*\"))"
   ]
  },
  {
   "cell_type": "code",
   "execution_count": 5,
   "id": "261351ff-5249-480f-829d-231f74a073f9",
   "metadata": {},
   "outputs": [
    {
     "name": "stdout",
     "output_type": "stream",
     "text": [
      "Z:\\Hagar\\older fish\\h2b\\230501_f3_v13\n",
      "Z:\\Hagar\\older fish\\h2b\\230501_f3_v19\n",
      "Z:\\Hagar\\older fish\\h2b\\230501_f4_v13\n",
      "Z:\\Hagar\\older fish\\h2b\\230501_f4_v19\n",
      "Z:\\Hagar\\older fish\\h2b\\230501_f5_v13\n",
      "Z:\\Hagar\\older fish\\h2b\\230501_f5_v19\n",
      "Z:\\Hagar\\older fish\\h2b\\230501_f6_v13\n",
      "Z:\\Hagar\\older fish\\h2b\\230501_f6_v19\n",
      "Z:\\Hagar\\older fish\\h2b\\230502_f0_v13\n"
     ]
    },
    {
     "data": {
      "application/vnd.jupyter.widget-view+json": {
       "model_id": "d2f61938a4314e4dbea4ef908f9debe5",
       "version_major": 2,
       "version_minor": 0
      },
      "text/plain": [
       "Canvas(toolbar=Toolbar(toolitems=[('Home', 'Reset original view', 'home', 'home'), ('Back', 'Back to previous …"
      ]
     },
     "metadata": {},
     "output_type": "display_data"
    },
    {
     "name": "stdout",
     "output_type": "stream",
     "text": [
      "Z:\\Hagar\\older fish\\h2b\\230502_f0_v19\n"
     ]
    },
    {
     "data": {
      "application/vnd.jupyter.widget-view+json": {
       "model_id": "b4c5cb0d728c4e5dbacfff9606184bb8",
       "version_major": 2,
       "version_minor": 0
      },
      "text/plain": [
       "Canvas(toolbar=Toolbar(toolitems=[('Home', 'Reset original view', 'home', 'home'), ('Back', 'Back to previous …"
      ]
     },
     "metadata": {},
     "output_type": "display_data"
    },
    {
     "name": "stdout",
     "output_type": "stream",
     "text": [
      "Z:\\Hagar\\older fish\\h2b\\230502_f1_v13\n"
     ]
    },
    {
     "data": {
      "application/vnd.jupyter.widget-view+json": {
       "model_id": "0a0b78edf2934085bf5a90c735c38e4b",
       "version_major": 2,
       "version_minor": 0
      },
      "text/plain": [
       "Canvas(toolbar=Toolbar(toolitems=[('Home', 'Reset original view', 'home', 'home'), ('Back', 'Back to previous …"
      ]
     },
     "metadata": {},
     "output_type": "display_data"
    },
    {
     "name": "stdout",
     "output_type": "stream",
     "text": [
      "Z:\\Hagar\\older fish\\h2b\\230502_f1_v19\n"
     ]
    },
    {
     "data": {
      "application/vnd.jupyter.widget-view+json": {
       "model_id": "cb4bb329d0de444796136daba1092e4f",
       "version_major": 2,
       "version_minor": 0
      },
      "text/plain": [
       "Canvas(toolbar=Toolbar(toolitems=[('Home', 'Reset original view', 'home', 'home'), ('Back', 'Back to previous …"
      ]
     },
     "metadata": {},
     "output_type": "display_data"
    },
    {
     "name": "stdout",
     "output_type": "stream",
     "text": [
      "Z:\\Hagar\\older fish\\h2b\\230502_f2_v13\n"
     ]
    },
    {
     "data": {
      "application/vnd.jupyter.widget-view+json": {
       "model_id": "a98f803bb4494450af665b77154f0412",
       "version_major": 2,
       "version_minor": 0
      },
      "text/plain": [
       "Canvas(toolbar=Toolbar(toolitems=[('Home', 'Reset original view', 'home', 'home'), ('Back', 'Back to previous …"
      ]
     },
     "metadata": {},
     "output_type": "display_data"
    },
    {
     "name": "stdout",
     "output_type": "stream",
     "text": [
      "Z:\\Hagar\\older fish\\h2b\\230502_f2_v19\n"
     ]
    },
    {
     "data": {
      "application/vnd.jupyter.widget-view+json": {
       "model_id": "29340a1dddb24404845de998e7cbcc7c",
       "version_major": 2,
       "version_minor": 0
      },
      "text/plain": [
       "Canvas(toolbar=Toolbar(toolitems=[('Home', 'Reset original view', 'home', 'home'), ('Back', 'Back to previous …"
      ]
     },
     "metadata": {},
     "output_type": "display_data"
    },
    {
     "name": "stdout",
     "output_type": "stream",
     "text": [
      "Z:\\Hagar\\older fish\\h2b\\230502_f3_v13\n"
     ]
    },
    {
     "data": {
      "application/vnd.jupyter.widget-view+json": {
       "model_id": "a8042730f3564de1aff21617bfb92e14",
       "version_major": 2,
       "version_minor": 0
      },
      "text/plain": [
       "Canvas(toolbar=Toolbar(toolitems=[('Home', 'Reset original view', 'home', 'home'), ('Back', 'Back to previous …"
      ]
     },
     "metadata": {},
     "output_type": "display_data"
    },
    {
     "name": "stdout",
     "output_type": "stream",
     "text": [
      "Z:\\Hagar\\older fish\\h2b\\230502_f3_v19\n"
     ]
    },
    {
     "data": {
      "application/vnd.jupyter.widget-view+json": {
       "model_id": "43fcf164a4ee43a7b76989e9b95a2470",
       "version_major": 2,
       "version_minor": 0
      },
      "text/plain": [
       "Canvas(toolbar=Toolbar(toolitems=[('Home', 'Reset original view', 'home', 'home'), ('Back', 'Back to previous …"
      ]
     },
     "metadata": {},
     "output_type": "display_data"
    },
    {
     "name": "stdout",
     "output_type": "stream",
     "text": [
      "Z:\\Hagar\\older fish\\h2b\\230502_f4_v13\n"
     ]
    },
    {
     "data": {
      "application/vnd.jupyter.widget-view+json": {
       "model_id": "0882f31ca7bb420aa12b976c72fe7ec5",
       "version_major": 2,
       "version_minor": 0
      },
      "text/plain": [
       "Canvas(toolbar=Toolbar(toolitems=[('Home', 'Reset original view', 'home', 'home'), ('Back', 'Back to previous …"
      ]
     },
     "metadata": {},
     "output_type": "display_data"
    },
    {
     "name": "stdout",
     "output_type": "stream",
     "text": [
      "Z:\\Hagar\\older fish\\h2b\\230502_f4_v19\n"
     ]
    },
    {
     "data": {
      "application/vnd.jupyter.widget-view+json": {
       "model_id": "2725418ec41d48f0b90920765532e062",
       "version_major": 2,
       "version_minor": 0
      },
      "text/plain": [
       "Canvas(toolbar=Toolbar(toolitems=[('Home', 'Reset original view', 'home', 'home'), ('Back', 'Back to previous …"
      ]
     },
     "metadata": {},
     "output_type": "display_data"
    },
    {
     "name": "stdout",
     "output_type": "stream",
     "text": [
      "Z:\\Hagar\\older fish\\h2b\\230502_f5_v13\n"
     ]
    },
    {
     "data": {
      "application/vnd.jupyter.widget-view+json": {
       "model_id": "4af5449fa58348408a907e00612420f0",
       "version_major": 2,
       "version_minor": 0
      },
      "text/plain": [
       "Canvas(toolbar=Toolbar(toolitems=[('Home', 'Reset original view', 'home', 'home'), ('Back', 'Back to previous …"
      ]
     },
     "metadata": {},
     "output_type": "display_data"
    },
    {
     "name": "stdout",
     "output_type": "stream",
     "text": [
      "Z:\\Hagar\\older fish\\h2b\\230502_f5_v19\n"
     ]
    },
    {
     "data": {
      "application/vnd.jupyter.widget-view+json": {
       "model_id": "d8fbe7f55b744013a4de2090cf8e65e0",
       "version_major": 2,
       "version_minor": 0
      },
      "text/plain": [
       "Canvas(toolbar=Toolbar(toolitems=[('Home', 'Reset original view', 'home', 'home'), ('Back', 'Back to previous …"
      ]
     },
     "metadata": {},
     "output_type": "display_data"
    }
   ],
   "source": [
    "for fish in fish_list:\n",
    "    print(fish)\n",
    "    #try:\n",
    "    if not (fish / \"tail_trace.jpg\").exists():\n",
    "        #exp = EmbeddedExperiment(fish)\n",
    "        exp = LightsheetExperiment(fish)\n",
    "        beh_df = exp.behavior_log\n",
    "        fig = plt.figure(figsize=(12,3))\n",
    "        plt.plot(beh_df.t, beh_df.tail_sum, color='k')\n",
    "        plt.xlabel('Time (sec)')\n",
    "        fig.savefig(fish / \"tail_trace.jpg\")\n",
    "            \n",
    "    #except:\n",
    "    #    print(\"Error. Stupid fish wasting my time.\")"
   ]
  },
  {
   "cell_type": "code",
   "execution_count": null,
   "id": "da09e6ba-2eda-486d-9629-4ab588d72a68",
   "metadata": {},
   "outputs": [],
   "source": []
  },
  {
   "cell_type": "code",
   "execution_count": null,
   "id": "e9d65d6c-9b95-4ef6-8bbb-dd4f73fdfba8",
   "metadata": {},
   "outputs": [],
   "source": []
  },
  {
   "cell_type": "code",
   "execution_count": null,
   "id": "fedc835e-6322-4770-86e7-19b6507b3dbe",
   "metadata": {},
   "outputs": [],
   "source": []
  },
  {
   "cell_type": "code",
   "execution_count": null,
   "id": "247a15d0-ca50-433d-aed9-56aecb913044",
   "metadata": {},
   "outputs": [],
   "source": []
  },
  {
   "cell_type": "code",
   "execution_count": null,
   "id": "7a48eb80-ce8a-44b0-8c7c-4ee85c5b724a",
   "metadata": {},
   "outputs": [],
   "source": [
    "master_path = Path(r\"Z:\\Hagar\\E0040\\2p ablations\\E0040V13\")\n",
    "fish_list = list(master_path.glob(\"*_f*\"))"
   ]
  },
  {
   "cell_type": "code",
   "execution_count": null,
   "id": "23379ba1-79e3-43de-af4b-83ceac6cc22b",
   "metadata": {},
   "outputs": [],
   "source": [
    "for fish in fish_list:\n",
    "    print(fish)\n",
    "    #try:\n",
    "    if not (fish / \"tail trace with stim.jpg\").exists():\n",
    "        #exp = EmbeddedExperiment(fish)\n",
    "        exp = LightsheetExperiment(fish)\n",
    "        beh_df = exp.behavior_log\n",
    "        fig = plt.figure(figsize=(12,3))\n",
    "        \n",
    "        stimulus_log = exp.stimulus_log\n",
    "        stim_value, t_values = get_paint_function(stimulus_log, 'E0040_motions_cardinal')\n",
    "        stim_value = stim_value / 255\n",
    "        num_stim = np.shape(stim_value)[0]\n",
    "\n",
    "        #t_values *= exp.fn\n",
    "        for i in range(num_stim):\n",
    "            plt.axvspan(\n",
    "                t_values[i, 0],\n",
    "                t_values[i, 1],\n",
    "                facecolor=[\n",
    "                    stim_value[i, 0],\n",
    "                    stim_value[i, 1],\n",
    "                    stim_value[i, 2],\n",
    "                ],\n",
    "                alpha=0.7,\n",
    "            )\n",
    "    \n",
    "        plt.plot(beh_df.t, beh_df.tail_sum, color='k')\n",
    "        plt.xlabel('Time (sec)')\n",
    "        fig.savefig(fish / \"tail trace with stim.jpg\")\n",
    "            \n",
    "    #except:\n",
    "    #    print(\"Error. Stupid fish wasting my time.\")"
   ]
  },
  {
   "cell_type": "code",
   "execution_count": null,
   "id": "688a7f02-218b-4ed0-9a03-6e975e66324e",
   "metadata": {},
   "outputs": [],
   "source": []
  }
 ],
 "metadata": {
  "kernelspec": {
   "display_name": "Python 3",
   "language": "python",
   "name": "python3"
  },
  "language_info": {
   "codemirror_mode": {
    "name": "ipython",
    "version": 3
   },
   "file_extension": ".py",
   "mimetype": "text/x-python",
   "name": "python",
   "nbconvert_exporter": "python",
   "pygments_lexer": "ipython3",
   "version": "3.7.10"
  }
 },
 "nbformat": 4,
 "nbformat_minor": 5
}
