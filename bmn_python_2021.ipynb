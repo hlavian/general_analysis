{
 "cells": [
  {
   "cell_type": "code",
   "execution_count": null,
   "id": "challenging-packaging",
   "metadata": {},
   "outputs": [],
   "source": [
    "%matplotlib widget"
   ]
  },
  {
   "cell_type": "code",
   "execution_count": null,
   "id": "piano-rogers",
   "metadata": {},
   "outputs": [],
   "source": [
    "import numpy as np\n",
    "import matplotlib.pyplot as plt\n",
    "import tifffile as tiff\n",
    "from pathlib import Path"
   ]
  },
  {
   "cell_type": "code",
   "execution_count": null,
   "id": "conservative-morrison",
   "metadata": {},
   "outputs": [],
   "source": [
    "# Loading a 3d image\n",
    "img_path = Path(r\"\\\\funes\\Shared\\morphing\\references\\mpin_reference\\reference.tiff\")\n",
    "img = tiff.imread(img_path)"
   ]
  },
  {
   "cell_type": "code",
   "execution_count": null,
   "id": "alleged-mechanism",
   "metadata": {},
   "outputs": [],
   "source": [
    "# Getting the shape of the image. In this case the dimensions are: y, z, x\n",
    "np.shape(img)"
   ]
  },
  {
   "cell_type": "code",
   "execution_count": null,
   "id": "coastal-railway",
   "metadata": {},
   "outputs": [],
   "source": [
    "# Ploting am image of  single plane\n",
    "fig = plt.figure()\n",
    "plt.imshow(img[:,100])\n",
    "plt.show()"
   ]
  },
  {
   "cell_type": "code",
   "execution_count": null,
   "id": "gross-quilt",
   "metadata": {},
   "outputs": [],
   "source": [
    "# Plotting the sum of the image over different axes\n",
    "fig, ax = plt.subplots(1,3)\n",
    "planes_sum1 = np.sum(img,axis=0)\n",
    "ax[0].imshow(planes_sum1)\n",
    "planes_sum2 = np.sum(img,axis=1)\n",
    "ax[1].imshow(planes_sum2)\n",
    "planes_sum3 = np.sum(img,axis=2)\n",
    "ax[2].imshow(planes_sum3)"
   ]
  },
  {
   "cell_type": "code",
   "execution_count": null,
   "id": "immune-tours",
   "metadata": {},
   "outputs": [],
   "source": [
    "# Image processing - masking, rotations, colormaps \n",
    "fig1, ax1 = plt.subplots(1,1)\n",
    "planes_sum1 = np.sum(img,axis=1)\n",
    "\n",
    "# Rotating an image by 90 degrees\n",
    "planes_sum1 = np.rot90(planes_sum1, k=1)\n",
    "\n",
    "# Masking low values \n",
    "planes_sum1 = np.ma.masked_where(planes_sum1 < 5000, planes_sum1)\n",
    "\n",
    "# Choosing a specific colormaps\n",
    "ax1.imshow(planes_sum1, cmap=\"gray_r\")\n",
    "ax1.axis('off')\n",
    "\n",
    "# Saving the figure \n",
    "fig1.savefig('my_figure.jpg', dpi=300)"
   ]
  },
  {
   "cell_type": "code",
   "execution_count": null,
   "id": "favorite-insider",
   "metadata": {},
   "outputs": [],
   "source": []
  }
 ],
 "metadata": {
  "kernelspec": {
   "display_name": "Python 3 (ipykernel)",
   "language": "python",
   "name": "python3"
  },
  "language_info": {
   "codemirror_mode": {
    "name": "ipython",
    "version": 3
   },
   "file_extension": ".py",
   "mimetype": "text/x-python",
   "name": "python",
   "nbconvert_exporter": "python",
   "pygments_lexer": "ipython3",
   "version": "3.7.10"
  }
 },
 "nbformat": 4,
 "nbformat_minor": 5
}
