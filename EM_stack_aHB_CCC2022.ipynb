{
 "cells": [
  {
   "cell_type": "code",
   "execution_count": null,
   "id": "552f7617-a743-4807-ba16-f889602ccd3b",
   "metadata": {},
   "outputs": [],
   "source": [
    "%load_ext autoreload\n",
    "%matplotlib widget"
   ]
  },
  {
   "cell_type": "code",
   "execution_count": null,
   "id": "9a406efc-dbc5-485a-b6dc-9eba06d1e9f8",
   "metadata": {},
   "outputs": [],
   "source": [
    "%autoreload\n",
    "from pathlib import Path\n",
    "import numpy as np\n",
    "%autoreload\n",
    "from bg_atlasapi.bg_atlas import BrainGlobeAtlas\n",
    "from bg_space import AnatomicalSpace\n",
    "from em_reconstruction.loading import load_kzip, load_nodes\n",
    "from em_reconstruction.plotting import get_mpiref_coords\n",
    "import numpy as np\n",
    "import matplotlib.pyplot as plt"
   ]
  },
  {
   "cell_type": "code",
   "execution_count": null,
   "id": "dcf8ff03-87e8-422d-9296-bb57c1be65be",
   "metadata": {},
   "outputs": [],
   "source": [
    "# where k.zip files are stored\n",
    "data_dir = Path(r\"\\\\funes\\Shared\\Hagar\")\n",
    "\n",
    "# where plots will be saved as png files\n",
    "save_dir = Path(r\"C:\\Users\\lavian\\Desktop\\EM plots\")\n",
    "save_dir.mkdir(exist_ok=True)"
   ]
  },
  {
   "cell_type": "code",
   "execution_count": null,
   "id": "01972664-96b1-47ba-b6a2-b1329055d27e",
   "metadata": {},
   "outputs": [],
   "source": [
    "cells = {} # key: file name or cell name, value: coordinates of the cell in mpi reference\n",
    "\n",
    "for f in data_dir.glob(\"*.k.zip\"):\n",
    "    datatype, output = load_kzip(f)\n",
    "    \n",
    "    # if the k.zip contains mesh files, there should be only one cell\n",
    "    if datatype == \"mesh\":\n",
    "        cells[f.stem.split(\".\")[0]] = get_mpiref_coords(datatype, output)\n",
    "        \n",
    "    # if there is no mesh, the annotation file may contain multiple cells\n",
    "    elif datatype == \"annotation\":\n",
    "        for cell in output:\n",
    "            cell_id, nodes = load_nodes(cell)\n",
    "            cells[cell_id] = get_mpiref_coords(datatype, nodes)"
   ]
  },
  {
   "cell_type": "code",
   "execution_count": null,
   "id": "d903e760-a414-4aca-9157-0b8722997590",
   "metadata": {},
   "outputs": [],
   "source": [
    "# load MPI reference\n",
    "mpi = BrainGlobeAtlas(\"mpin_zfish_1um\")\n",
    "ref = mpi.reference\n",
    "\n",
    "# mask for the IPN\n",
    "ipn = mpi.annotation\n",
    "ipn[ipn!=869] = 0\n",
    "\n",
    "# the orientation for plotting\n",
    "space_imshow = AnatomicalSpace(\"pil\", shape=ref.shape)\n",
    "space_ref = AnatomicalSpace(mpi.orientation, shape=ref.shape)\n",
    "ref = space_ref.map_stack_to(space_imshow, ref)\n",
    "ipn = space_ref.map_stack_to(space_imshow, ipn)\n",
    "\n",
    "# parameters for plotting coronal, horizontal, and sagittal planes\n",
    "locs = [(0,0), (1,0), (1,1)]\n",
    "x = [2, 2, 1]\n",
    "y = [1, 0, 0]\n",
    "ref_planes = [ref.mean(i) for i in range(3)]\n",
    "ipn_planes = [np.where(ipn.max(i) > 0, 1, np.nan) for i in range(3)]"
   ]
  },
  {
   "cell_type": "code",
   "execution_count": null,
   "id": "01ab4a3f-d796-438f-9967-e0d225877c65",
   "metadata": {},
   "outputs": [],
   "source": [
    "fig, ax = plt.subplots(1, 3, figsize=(8, 4), constrained_layout=True)\n",
    "col_list = [\"#107C10\", \"#002050\", \"#A80000\", \"#5C2D91\", \"#004B50\", \"#0078D7\", \"#D83B01\", \"#B4009E\", \"#01B8AA\", \"#F2C80F\", \"#8AD4EB\", \"#FE9666\", \"#A66999\", \"#73B761\", \"#CD4C46\", \"#71AFE2\", \"#8D6FD1\", \"#EE9E64\", \"#95DABB\", \"#4A8DDC\", \"#4C5D8A\", \"#F3C911\", \"#DC5B57\", \n",
    "            \"#33AE81\", \"#95C8F0\", \"#DD915F\", \"#9A64A0\", \"#B6B0FF\", \"#3049AD\", \"#FF994E\", \"#C83D95\", \"#FFBBED\", \"#42F9F9\", \"#00B2D9\", \"#FFD86C\", \"#009292\", \"#FE6DB6\", \"#FEB5DA\", \"#480091\",\n",
    "            \"#B66DFF\", \"#B5DAFE\", \"#6DB6FF\", \"#4A8DDC\", \"#4C5D8A\", \"#F3C911\", \"#DC5B57\", \"#33AE81\", \"#95C8F0\", \"#DD915F\", \"#9A64A0\",\n",
    "            \"#107C10\", \"#002050\", \"#A80000\", \"#5C2D91\", \"#004B50\", \"#0078D7\", \"#D83B01\", \"#B4009E\", \"#01B8AA\", \"#F2C80F\", \"#8AD4EB\", \"#FE9666\", \"#A66999\", \"#73B761\", \"#CD4C46\", \"#71AFE2\", \"#8D6FD1\", \"#EE9E64\", \"#95DABB\", \"#4A8DDC\", \"#4C5D8A\", \"#F3C911\", \"#DC5B57\", \n",
    "            \"#33AE81\", \"#95C8F0\", \"#DD915F\", \"#9A64A0\", \"#B6B0FF\", \"#3049AD\", \"#FF994E\", \"#C83D95\", \"#FFBBED\", \"#42F9F9\", \"#00B2D9\", \"#FFD86C\", \"#009292\", \"#FE6DB6\", \"#FEB5DA\", \"#480091\",\n",
    "            \"#B66DFF\", \"#B5DAFE\", \"#6DB6FF\", \"#4A8DDC\", \"#4C5D8A\", \"#F3C911\", \"#DC5B57\", \"#33AE81\", \"#95C8F0\", \"#DD915F\", \"#9A64A0\"]\n",
    "\n",
    "for i in range(3):\n",
    "        ax[i].imshow(ipn_planes[i], cmap=\"gray\", origin=\"lower\")\n",
    "        ax[i].axis(\"off\")\n",
    "        \n",
    "count = 0\n",
    "for cell, coords in cells.items():\n",
    "    cc = space_ref.map_points_to(space_imshow, coords)\n",
    "    \n",
    "    for i, (xi, yi) in enumerate(zip(x, y)):\n",
    "        ax[i].scatter(cc[:,xi], cc[:,yi], s=0.01, c=col_list[count])\n",
    "   \n",
    "    count += 1\n",
    "    \n",
    "#plt.savefig(save_dir/\"all_cells.eps\", dpi=300)\n",
    "#plt.close(fig)"
   ]
  },
  {
   "cell_type": "code",
   "execution_count": null,
   "id": "110ce3e7-acfc-4fce-a24f-0b16d7084c86",
   "metadata": {},
   "outputs": [],
   "source": [
    "%autoreload\n",
    "\n",
    "from lotr import plotting as pltltr\n",
    "from lotr import DATASET_LOCATION\n",
    "from bg_atlasapi.core import Atlas\n",
    "COLS = pltltr.COLS\n",
    "\n",
    "atlas = Atlas(DATASET_LOCATION.parent / \"anatomy\" / \"ipn_zfish_0.5_um_v1.6\")"
   ]
  },
  {
   "cell_type": "code",
   "execution_count": null,
   "id": "42cbe63f-98a7-429c-9588-6f335e85b858",
   "metadata": {},
   "outputs": [],
   "source": [
    "col_list = [\"#107C10\", \"#002050\", \"#A80000\", \"#5C2D91\", \"#004B50\", \"#0078D7\", \"#D83B01\", \"#B4009E\", \"#01B8AA\", \"#F2C80F\", \"#8AD4EB\", \"#FE9666\", \"#A66999\", \"#73B761\", \"#CD4C46\", \"#71AFE2\", \"#8D6FD1\", \"#EE9E64\", \"#95DABB\", \"#4A8DDC\", \"#4C5D8A\", \"#F3C911\", \"#DC5B57\", \n",
    "            \"#33AE81\", \"#95C8F0\", \"#DD915F\", \"#9A64A0\", \"#B6B0FF\", \"#3049AD\", \"#FF994E\", \"#C83D95\", \"#FFBBED\", \"#42F9F9\", \"#00B2D9\", \"#FFD86C\", \"#009292\", \"#FE6DB6\", \"#FEB5DA\", \"#480091\",\n",
    "            \"#B66DFF\", \"#B5DAFE\", \"#6DB6FF\", \"#4A8DDC\", \"#4C5D8A\", \"#F3C911\", \"#DC5B57\", \"#33AE81\", \"#95C8F0\", \"#DD915F\", \"#9A64A0\",\n",
    "            \"#107C10\", \"#002050\", \"#A80000\", \"#5C2D91\", \"#004B50\", \"#0078D7\", \"#D83B01\", \"#B4009E\", \"#01B8AA\", \"#F2C80F\", \"#8AD4EB\", \"#FE9666\", \"#A66999\", \"#73B761\", \"#CD4C46\", \"#71AFE2\", \"#8D6FD1\", \"#EE9E64\", \"#95DABB\", \"#4A8DDC\", \"#4C5D8A\", \"#F3C911\", \"#DC5B57\", \n",
    "            \"#33AE81\", \"#95C8F0\", \"#DD915F\", \"#9A64A0\", \"#B6B0FF\", \"#3049AD\", \"#FF994E\", \"#C83D95\", \"#FFBBED\", \"#42F9F9\", \"#00B2D9\", \"#FFD86C\", \"#009292\", \"#FE6DB6\", \"#FEB5DA\", \"#480091\",\n",
    "            \"#B66DFF\", \"#B5DAFE\", \"#6DB6FF\", \"#4A8DDC\", \"#4C5D8A\", \"#F3C911\", \"#DC5B57\", \"#33AE81\", \"#95C8F0\", \"#DD915F\", \"#9A64A0\"]\n"
   ]
  },
  {
   "cell_type": "code",
   "execution_count": null,
   "id": "6e9202b2-912a-484b-82e8-5a110130b911",
   "metadata": {},
   "outputs": [],
   "source": [
    "#  Specify axes limits over all dimensions:\n",
    "bs = dict(frontal=(0, 200), vertical=(-4, 170), sagittal=(-50, 200))\n",
    "#bs = dict(frontal=(-1000, 2000), vertical=(-1000, 1000), sagittal=(-1000, 2000))\n",
    "\n",
    "\n",
    "plotter = pltltr.AtlasPlotter(\n",
    "    atlas=atlas,\n",
    "    structures=[\"ipn\", \"dors_ipn\"],\n",
    "    mask_slices=dict(frontal=slice(0, 120)),\n",
    "    bounds_dict=dict(\n",
    "        frontal=[bs[\"vertical\"], bs[\"frontal\"]],\n",
    "        horizontal=[bs[\"sagittal\"], bs[\"frontal\"]],\n",
    "        sagittal=[bs[\"vertical\"], bs[\"sagittal\"]],\n",
    "    ),\n",
    ")"
   ]
  },
  {
   "cell_type": "code",
   "execution_count": null,
   "id": "81454a98-c0de-41dc-b154-7dbacef4a2ed",
   "metadata": {},
   "outputs": [],
   "source": [
    "f, axs = plotter.generate_projection_plots()"
   ]
  },
  {
   "cell_type": "code",
   "execution_count": null,
   "id": "127dd750-9d8a-4df7-8123-f4e3aa92894e",
   "metadata": {},
   "outputs": [],
   "source": [
    "count = 0\n",
    "\n",
    "x_diff = [180, 180, -270]\n",
    "y_diff = [-270, -550, -560]\n",
    "axes_ = [0, 2, 1]\n",
    "#axes = [0, 1, 2]\n",
    "for cell, coords in cells.items():\n",
    "    cc = space_ref.map_points_to(space_imshow, coords)\n",
    "    for i, (xi, yi) in enumerate(zip(x, y)):\n",
    "        if i < 2:\n",
    "            axs[i].scatter(cc[:,xi]-x_diff[i], -cc[:,yi]-y_diff[i], s=0.01, c=col_list[count])\n",
    "            axs[i].scatter(cc[0,xi]-x_diff[i], -cc[0,yi]-y_diff[i], s=10, c=col_list[count])\n",
    "        else:\n",
    "            axs[i].scatter(-cc[:,yi]-y_diff[i], -cc[:,xi]-x_diff[i], s=0.01, c=col_list[count])\n",
    "            axs[i].scatter(-cc[0,yi]-y_diff[i], -cc[0,xi]-x_diff[i], s=10, c=col_list[count])\n",
    "    \n",
    "    count += 1\n",
    "    \n"
   ]
  },
  {
   "cell_type": "code",
   "execution_count": null,
   "id": "191821a6-a912-4532-8a56-a7a0ecbbb050",
   "metadata": {},
   "outputs": [],
   "source": [
    "plt.savefig(save_dir/f\"{cell}__.eps\", dpi=300)"
   ]
  },
  {
   "cell_type": "code",
   "execution_count": null,
   "id": "6eac59e4-81d9-4c0a-b219-163f1e38c51d",
   "metadata": {},
   "outputs": [],
   "source": [
    "fig = plt.figure(figsize=(8, 11), constrained_layout=True)\n",
    "gs = fig.add_gridspec(2, 2, width_ratios=[ref.shape[2], ref.shape[1]], height_ratios=[ref.shape[1], ref.shape[0]])\n",
    "\n",
    "for i, (loc, xi, yi) in enumerate(zip(locs, x, y)):\n",
    "    ax.imshow(ref_planes[i], cmap=\"gray_r\", origin=\"lower\")\n",
    "    for cell, coords in cells.items():\n",
    "        cc = space_ref.map_points_to(space_imshow, coords)\n",
    "\n",
    "        ax.scatter(cc[:,xi], cc[:,yi], s=0.01, c=\"r\")\n",
    "        ax.axis(\"off\")\n",
    "plt.savefig(save_dir/\"all_cells.png\")    \n"
   ]
  },
  {
   "cell_type": "code",
   "execution_count": null,
   "id": "96af5e26-7e2f-43df-a5b1-914019178210",
   "metadata": {},
   "outputs": [],
   "source": []
  }
 ],
 "metadata": {
  "kernelspec": {
   "display_name": "Python 3",
   "language": "python",
   "name": "python3"
  },
  "language_info": {
   "codemirror_mode": {
    "name": "ipython",
    "version": 3
   },
   "file_extension": ".py",
   "mimetype": "text/x-python",
   "name": "python",
   "nbconvert_exporter": "python",
   "pygments_lexer": "ipython3",
   "version": "3.7.10"
  }
 },
 "nbformat": 4,
 "nbformat_minor": 5
}
