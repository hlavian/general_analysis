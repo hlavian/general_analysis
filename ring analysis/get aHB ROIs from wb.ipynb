{
 "cells": [
  {
   "cell_type": "code",
   "execution_count": null,
   "id": "8852bf63-eba8-411e-8112-1dd3ec5f7b75",
   "metadata": {},
   "outputs": [],
   "source": [
    "%matplotlib widget\n",
    "\n",
    "from pathlib import Path\n",
    "import numpy as np\n",
    "import flammkuchen as fl\n",
    "import pandas as pd\n",
    "\n",
    "from fimpylab import LightsheetExperiment\n",
    "\n",
    "from matplotlib import  pyplot as plt\n",
    "import seaborn as sns\n",
    "from tqdm import tqdm\n",
    "sns.set(style=\"ticks\", palette=\"deep\")\n",
    "cols = sns.color_palette()\n",
    "import ipywidgets as widgets\n",
    "\n",
    "from lotr.utils import zscore\n",
    "from lotr.pca import pca_and_phase, get_fictive_heading, fictive_heading_and_fit, \\\n",
    "        fit_phase_neurons,qap_sorting_and_phase\n",
    "from circle_fit import hyper_fit\n",
    "from lotr import LotrExperiment, A_FISH"
   ]
  },
  {
   "cell_type": "code",
   "execution_count": null,
   "id": "84aee7b9-3620-4b46-b3b4-599a31d50e0e",
   "metadata": {},
   "outputs": [],
   "source": [
    "plt.close(\"all\")\n",
    "\n",
    "master_path =  Path(r\"\\\\funes\\Shared\\experiments\\E0040_motions_cardinal\\v13_cw_ccw\\ls_fixed\\spont_plus_v13\\huc\")\n",
    "fish_list = list(master_path.glob(\"*_f*\"))\n",
    "path = fish_list[10]\n",
    "traces = fl.load(path / \"filtered_traces.h5\", \"/detr\")\n",
    "\n",
    "reg_df = fl.load(path / \"motor_regressors.h5\")\n",
    "cc_motor = reg_df[\"all_bias_abs\"].values\n",
    "cc_motor_integr = reg_df[\"all_bias_abs_dfdt\"].values\n",
    "coords = fl.load(path / \"data_from_suite2p_cells.h5\", \"/coords\")\n",
    "anat = fl.load(path / \"data_from_suite2p_cells.h5\", \"/anatomy_stack\")\n",
    "traces[np.isnan(traces)] = 0\n",
    "\n",
    "exp = LotrExperiment(path)\n",
    "fn = int(exp.fn)\n",
    "beh_df = exp.behavior_log\n",
    "\n",
    "t_lims = [500, exp.n_pts // 2]\n",
    "t_slice = slice(*t_lims)"
   ]
  },
  {
   "cell_type": "code",
   "execution_count": null,
   "id": "ca676828-df7a-45f2-a29d-43110462226e",
   "metadata": {},
   "outputs": [],
   "source": [
    "num_planes = int(np.max(coords[:,0]))\n",
    "print(num_planes)\n",
    "fig, axs = plt.subplots(3, 5, figsize=(14, 8))\n",
    "for i in range(num_planes):\n",
    "    r = np.mod(i, 3)\n",
    "    c = i // 3\n",
    "    axs[r, c].imshow(anat[i], vmax=400, vmin=0)\n",
    "\n",
    "    s1 = 240\n",
    "    s2 = 540\n",
    "    axs[r, c].axvline(s1)\n",
    "    axs[r, c].axvline(s2)\n",
    "\n",
    "    s3 = 220\n",
    "    s4 = 400\n",
    "    axs[r, c].axhline(s3)\n",
    "    axs[r, c].axhline(s4)\n",
    "    axs[r, c].set_title(str(i))"
   ]
  },
  {
   "cell_type": "code",
   "execution_count": null,
   "id": "b8b1b343-fab0-4d01-b4f4-f10a56eccb13",
   "metadata": {},
   "outputs": [],
   "source": [
    "### Set plane range \n",
    "s5 = 1\n",
    "s6 = 19"
   ]
  },
  {
   "cell_type": "code",
   "execution_count": null,
   "id": "c971297a-1592-43a3-b226-c611746f26df",
   "metadata": {},
   "outputs": [],
   "source": [
    "sel_to_nan = (coords[:, 2] < s1) | (coords[:, 2] > s2) | (coords[:, 1] < s3) | (coords[:, 1] > s4) | (coords[:, 0] < s5) | (coords[:, 0] > s6)\n",
    "ahb_idx = (coords[:, 2] > s1) & (coords[:, 2] < s2) & (coords[:, 1] > s3) & (coords[:, 1] < s4) & (coords[:, 0] > s5) & (coords[:, 0] < s6)\n",
    "coords_in = coords[ahb_idx]\n",
    "\n",
    "traces[:, sel_to_nan] = 0\n",
    "coords[sel_to_nan] = 0\n",
    "cc_motor[sel_to_nan] = np.nan\n",
    "cc_motor_integr[sel_to_nan] = np.nan\n",
    "\n",
    "coords_in = coords[ahb_idx]\n",
    "axs[r, c].scatter(coords[:, 2], coords[:, 1], c=(0.9,)*3)\n",
    "axs[r, c].scatter(coords_in[:, 2], coords_in[:, 1], c=(0.2,)*3)"
   ]
  },
  {
   "cell_type": "code",
   "execution_count": null,
   "id": "1595c43f-fecd-44ba-9b1d-506a0532a744",
   "metadata": {},
   "outputs": [],
   "source": [
    "print(np.max(coords_in[:,0]))"
   ]
  },
  {
   "cell_type": "code",
   "execution_count": null,
   "id": "95a4f069-31c1-4b48-8603-f1ddad9b72cd",
   "metadata": {},
   "outputs": [],
   "source": [
    "coords_crop = np.delete(coords, sel_to_nan, axis=0)\n",
    "traces_crop = np.delete(traces, sel_to_nan, axis=1)\n",
    "cc_motor_crop = np.delete(cc_motor, sel_to_nan, axis=0)\n",
    "cc_motor_integr_crop = np.delete(cc_motor_integr, sel_to_nan, axis=0)"
   ]
  },
  {
   "cell_type": "code",
   "execution_count": null,
   "id": "1d532276-28a5-41a5-9ab8-996ca315c26b",
   "metadata": {},
   "outputs": [],
   "source": [
    "np.shape(traces_crop)"
   ]
  },
  {
   "cell_type": "code",
   "execution_count": null,
   "id": "05a3bc89-64a4-48c9-8d7c-68356ba32f61",
   "metadata": {},
   "outputs": [],
   "source": [
    "d = {\n",
    "    'traces': traces_crop,\n",
    "    'coords': coords_crop,\n",
    "    'cc_motor': cc_motor_crop,\n",
    "    'cc_motor_integr': cc_motor_integr_crop,\n",
    "    'ahb_idx': ahb_idx,\n",
    "    'x_limits': [s1, s2],\n",
    "    'y_limits': [s3, s4],\n",
    "    'z_limits': [s5, s6],\n",
    "}\n",
    "fl.save(path / 'ahb_cropped.h5', d)\n"
   ]
  },
  {
   "cell_type": "code",
   "execution_count": null,
   "id": "fca0702c-a1d7-4d30-935d-d45027ce0ad2",
   "metadata": {},
   "outputs": [],
   "source": [
    "cc_wnd = 4000\n",
    "i_array = np.arange(t_slice.start, t_slice.stop, cc_wnd*fn)\n",
    "cc_mats = np.zeros((traces.shape[1], traces.shape[1], len(i_array)))\n",
    "\n",
    "for n, i in enumerate(i_array):\n",
    "    cc_mats[:, :, n] = np.corrcoef(traces[i:i + cc_wnd*fn, :].T)\n",
    "corr_mat = np.nanmean(cc_mats, 2)\n",
    "\n",
    "selection_arr = np.zeros(traces.shape[1])\n",
    "\n",
    "f = plt.figure(figsize=(3, 3))\n",
    "x = np.arange(-0.2, np.nanmax(cc_motor), 0.05)\n",
    "s = plt.scatter(cc_motor, cc_motor_integr, s=10, c=selection_arr, vmin=0, vmax=1)\n",
    "\n",
    "l_plot = plt.plot(x, x*0.2 + 0.15)\n",
    "l_max = plt.axvline(1)\n",
    "l_min = plt.axhline(0)\n",
    "\n",
    "@widgets.interact(c=(0.05, 2, 0.05), o=(-0.5, 1, 0.02), mot_max=(0, 1, 0.05),\n",
    "                 integr_min=(0, 1, 0.02), max_corr=(-1, 0, 0.05))\n",
    "def update(o=0.3, c=0.2, mot_max=1, integr_min=0, max_corr=-0.7):\n",
    "    l_plot[0].set_data(x, x*c + o)\n",
    "    print(cc_motor_integr.shape, cc_motor.shape, (cc_motor*c + o).shape)\n",
    "    selection_arr[:] = (cc_motor_integr > cc_motor*c + o) & \\\n",
    "                       (np.abs(cc_motor) < mot_max) & \\\n",
    "                       (np.abs(cc_motor_integr)> integr_min) | \\\n",
    "                       ((np.nanmin(corr_mat, 0) < max_corr) & \\\n",
    "                        (np.abs(cc_motor) < mot_max) & \\\n",
    "                        (np.abs(cc_motor_integr) > integr_min)) \n",
    "    l_max.set_xdata(mot_max)\n",
    "    l_min.set_ydata(integr_min)\n",
    "\n",
    "    \n",
    "    s.set_array(selection_arr)\n",
    "\n",
    "plt.ylim(-0.15, 0.4)\n",
    "plt.xlim(-0.3, 1.01)\n",
    "plt.xlabel(\"cc. traces - motor regressor\")\n",
    "plt.ylabel(\"cc. d(traces)/dt - regressor\")\n",
    "sns.despine()"
   ]
  },
  {
   "cell_type": "code",
   "execution_count": null,
   "id": "d5dd6156-911d-439c-b725-287a9bb3e373",
   "metadata": {},
   "outputs": [],
   "source": [
    "selected = np.argwhere(selection_arr)[:, 0]\n",
    "print(len(selected))"
   ]
  },
  {
   "cell_type": "code",
   "execution_count": null,
   "id": "b2100a56-dc4c-493e-8007-b27d63c45855",
   "metadata": {},
   "outputs": [],
   "source": [
    "pcaed_t, phase_t, _, _ = pca_and_phase(traces[t_slice, selected].T, traces[t_slice, selected].T)\n",
    "hf_c = hyper_fit(pcaed_t)\n",
    "pcaed_t_all, _, _, _ = pca_and_phase(traces[t_slice, selected].T, traces[t_slice, :].T)\n",
    "\n",
    "\n",
    "plt.figure(figsize=(7, 3))\n",
    "thr = 35\n",
    "sel = (pcaed_t[:, 0]**2+pcaed_t[:, 1]**2)**(1/2) > thr\n",
    "plt.scatter(pcaed_t[:, 0], pcaed_t[:, 1], c=sel)\n",
    "plt.scatter(pcaed_t_all[:, 0], pcaed_t_all[:, 1], edgecolor=\"k\", facecolor=\"none\", lw=0.2)\n",
    "plt.axis(\"equal\")\n",
    "\n",
    "#selected = selected[sel]\n",
    "# pcaed, phase = pca_and_phase(traces[t_slice, selected], traces[:, selected])\n",
    "#pcaed_spont, phase_spont = pca_and_phase(traces[t_slice, selected], traces[t_slice, selected])\n",
    "pcaed, phase, _, _ = pca_and_phase(traces[t_slice, selected], traces[:, selected])\n",
    "\n",
    "x1 = hf_c[2]*np.cos(np.linspace(0, 2*np.pi, 100)) + hf_c[0]\n",
    "x2 = hf_c[2]*np.sin(np.linspace(0, 2*np.pi, 100)) + hf_c[1]\n",
    "\n",
    "plt.plot(x1, x2)"
   ]
  },
  {
   "cell_type": "code",
   "execution_count": null,
   "id": "3824a042-926f-459b-ae5c-a4461e08aa48",
   "metadata": {},
   "outputs": [],
   "source": [
    "new_selection_arr = (np.abs(np.sqrt((pcaed_t_all[:, 0] - hf_c[0])**2 + (pcaed_t_all[:, 1] - hf_c[1])**2) - hf_c[2]) < 0) | \\\n",
    "    ((np.sqrt((pcaed_t_all[:, 0] - hf_c[0])**2 + (pcaed_t_all[:, 1] - hf_c[1])**2) - hf_c[2]) > 0)\n",
    "selected = np.argwhere(new_selection_arr)[:, 0]"
   ]
  },
  {
   "cell_type": "code",
   "execution_count": null,
   "id": "cc6dfc31-eed3-4e19-8c7a-6e4fac83436f",
   "metadata": {},
   "outputs": [],
   "source": [
    "plt.figure(figsize=(7, 2.5))\n",
    "plt.plot(traces[:, selected] + 4)\n",
    "print(len(selected))\n",
    "plt.plot(beh_df[\"t\"]*fn, beh_df[\"tail_sum\"])\n",
    "plt.show()"
   ]
  },
  {
   "cell_type": "code",
   "execution_count": null,
   "id": "ba2eae68-5a80-480b-9b5f-17b7f7be862b",
   "metadata": {},
   "outputs": [],
   "source": [
    "# plt.close(\"all\")\n",
    "# t_slice = slice(0, )\n",
    "pcaed, phase, _, _ = pca_and_phase(traces[t_slice, selected], traces[:, selected])\n",
    "mot_t_slice = slice(traces.shape[0] // 2, traces.shape[0])\n",
    "f, axs = plt.subplots(1, 3, figsize=(9., 4.), sharex=True, sharey=True)\n",
    "# plt.subplot(1,2,1)\n",
    "#phase = np.angle((pcaed[:, 0] - 2) + 1j * (pcaed[:, 1] +5))\n",
    "for i, s in enumerate([t_slice, mot_t_slice,  t_slice]):\n",
    "    \n",
    "    axs[i].plot(pcaed[s, 0], pcaed[s, 1], \n",
    "             c=(0.6,)*3, lw=0.5, zorder=-100) # , c=phase, cmap=\"twilight\", lw=3)\n",
    "    axs[i].scatter(pcaed[s, 0], pcaed[s, 1], \n",
    "                     c=phase[s], lw=0.5, s=5, cmap=\"twilight\",) \n",
    "# plt.axis(\"equal\")\n",
    "sns.despine()"
   ]
  },
  {
   "cell_type": "code",
   "execution_count": null,
   "id": "605e210f-9f5f-4720-9689-3cdcb75e02e4",
   "metadata": {},
   "outputs": [],
   "source": [
    "%%time\n",
    "import os\n",
    "perm, com_phase = qap_sorting_and_phase(traces[:, selected], t_lims=t_lims)\n",
    "\n",
    "phases_neuron, _ = fit_phase_neurons(traces[t_slice, selected], phase[t_slice])\n",
    "perm_pca = np.argsort(phases_neuron)\n",
    "os.system('say \"Fit completed\"')"
   ]
  },
  {
   "cell_type": "code",
   "execution_count": null,
   "id": "2db53637-888c-4239-90f4-d34478406433",
   "metadata": {},
   "outputs": [],
   "source": [
    "l = 2\n",
    "f, axs = plt.subplots(2,2, figsize=(7, 7), sharey=True)\n",
    "# plt.subplot(121)\n",
    "axs[0, 0].imshow(np.corrcoef(traces[t_slice, selected].T)[perm, :][:, perm], \n",
    "           vmax=1, vmin=-1, cmap=\"RdBu_r\", aspect=\"auto\")\n",
    "\n",
    "axs[0, 1].imshow(traces[:, selected[perm]].T, cmap=\"gray_r\", interpolation=\"none\",\n",
    "              aspect=\"auto\", vmin=-l, vmax=l)\n",
    "\n",
    "axs[1, 0].imshow(np.corrcoef(traces[t_slice, selected].T)[perm_pca, :][:, perm_pca], \n",
    "           vmax=1, vmin=-1, cmap=\"RdBu_r\", aspect=\"auto\")\n",
    "\n",
    "axs[1,1].imshow(traces[:, selected[perm_pca]].T, cmap=\"gray_r\", interpolation=\"none\",\n",
    "              aspect=\"auto\", vmin=-l, vmax=l)\n"
   ]
  },
  {
   "cell_type": "code",
   "execution_count": null,
   "id": "eab0dd17-026d-4e34-a002-2a7cd8a04551",
   "metadata": {},
   "outputs": [],
   "source": [
    "# old_selected = selected.copy()\n",
    "rm_from_selected = np.array([84])\n",
    "selected[perm[rm_from_selected]] = -1\n",
    "##for i in s:# [23,  64,  82, 110, 152, 193,  87, 127, 143,  57,  33, 226, 201,  89, 155,  92,  34]:\n",
    "#    if i is not \" \" and i is not \"\":\n",
    "#        selected[perm == int(i)] = -1\n",
    "selected = selected[selected > 0]"
   ]
  },
  {
   "cell_type": "code",
   "execution_count": null,
   "id": "5b4223e2-c6d6-4b6b-bbbd-4d20f605b4df",
   "metadata": {},
   "outputs": [],
   "source": [
    "unwrapped_phase = np.unwrap(phase)\n",
    "unwrapped_com_phase = np.unwrap(com_phase)\n",
    "\n",
    "traj, params = fictive_heading_and_fit(unwrapped_phase, df, min_bias=0.1)\n",
    "print(params)\n",
    "\n",
    "plt.figure(figsize=(7, 3))\n",
    "plt.scatter(np.arange(len(traj[:])), zscore(unwrapped_phase), \n",
    "            c=phase[:], cmap=\"twilight\", s=2)\n",
    "plt.scatter(np.arange(len(traj[:])), -zscore(unwrapped_com_phase), \n",
    "            c=com_phase[:], cmap=\"twilight\", s=0.2)\n",
    "plt.plot(-zscore(traj), c=cols[1])"
   ]
  },
  {
   "cell_type": "code",
   "execution_count": null,
   "id": "fed8801f-5dbb-401b-b977-69d149aa2644",
   "metadata": {},
   "outputs": [],
   "source": [
    "f, axs = plt.subplots(1, 2, figsize=(6, 3))\n",
    "s = coords[:, 0] > 0\n",
    "selection = np.full(coords.shape[0], False)\n",
    "selection[selected] = True\n",
    "all_phases = np.zeros(coords.shape[0])\n",
    "all_phases[selected] = phases_neuron\n",
    "\n",
    "all_perm = -np.ones(coords.shape[0])\n",
    "all_perm[selected] = perm\n",
    "\n",
    "axs[0].scatter(coords[s, 1], coords[s, 2], c=(0.5,)*3)\n",
    "axs[0].scatter(coords[s, :][selection[s], 1], coords[s, :][selection[s], 2],\n",
    "            c=all_phases[s][selection[s]], cmap=\"twilight\")\n",
    "axs[0].axis(\"equal\")\n",
    "axs[0].axis(\"off\")\n",
    "\n",
    "axs[1].scatter(coords[s, 1], coords[s, 2], c=(0.5,)*3)\n",
    "axs[1].scatter(coords[s, :][selection[s], 1], coords[s, :][selection[s], 2],\n",
    "            c=np.linspace(-np.pi, np.pi, sum(all_perm[s] >= 0)+1)[np.argsort(all_perm[s][all_perm[s] >= 0])] , \n",
    "               cmap=\"twilight\")\n",
    "axs[1].axis(\"equal\")\n",
    "axs[1].axis(\"off\")"
   ]
  },
  {
   "cell_type": "code",
   "execution_count": null,
   "id": "80a6b3b3-d674-461c-8c31-a575f42a2f22",
   "metadata": {},
   "outputs": [],
   "source": [
    "fl.save(path / \"selected.h5\", selected)"
   ]
  },
  {
   "cell_type": "code",
   "execution_count": null,
   "id": "033bb882-db93-4d16-a477-49b7e3158277",
   "metadata": {},
   "outputs": [],
   "source": []
  }
 ],
 "metadata": {
  "kernelspec": {
   "display_name": "Python 3",
   "language": "python",
   "name": "python3"
  },
  "language_info": {
   "codemirror_mode": {
    "name": "ipython",
    "version": 3
   },
   "file_extension": ".py",
   "mimetype": "text/x-python",
   "name": "python",
   "nbconvert_exporter": "python",
   "pygments_lexer": "ipython3",
   "version": "3.7.10"
  }
 },
 "nbformat": 4,
 "nbformat_minor": 5
}
