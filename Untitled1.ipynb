{
 "cells": [
  {
   "cell_type": "code",
   "execution_count": null,
   "id": "d6462d26-134c-4e6d-bdce-a0b210fc532f",
   "metadata": {},
   "outputs": [],
   "source": [
    "%matplotlib widget"
   ]
  },
  {
   "cell_type": "code",
   "execution_count": null,
   "id": "e95894ff-e1f2-428f-885b-f5e432bb24b6",
   "metadata": {},
   "outputs": [],
   "source": [
    "import matplotlib\n",
    "import numpy as np\n",
    "from pathlib import Path\n",
    "import tifffile as tiff\n",
    "import matplotlib.pyplot as plt \n",
    "import cv2"
   ]
  },
  {
   "cell_type": "code",
   "execution_count": null,
   "id": "ef67614f-5891-47ce-93f0-2e071348e3c7",
   "metadata": {},
   "outputs": [],
   "source": [
    "master = Path(r\"C:\\Users\\lavian\\Desktop\\CCC 2022\\fig 3 - aHB projections to the IPN\")"
   ]
  },
  {
   "cell_type": "code",
   "execution_count": null,
   "id": "2790c16a-f3ea-4f94-a128-d6563384a470",
   "metadata": {},
   "outputs": [],
   "source": [
    "hab = tiff.imread(master / \"C1-200709_f7.tif\")\n",
    "gad1b = tiff.imread(master / \"C2-200709_f7.tif\")"
   ]
  },
  {
   "cell_type": "code",
   "execution_count": null,
   "id": "eeefca0c-464f-4284-bff9-3c50de43cf23",
   "metadata": {},
   "outputs": [],
   "source": [
    "fig, axs = plt.subplots(1, 3, figsize=(9,3))\n",
    "\n",
    "plane_s = 70\n",
    "plane_e = 150\n",
    "for i in range(3):\n",
    "    axs[i].axis('off')\n",
    "    \n",
    "hab_pl = np.nanmean(hab[plane_s:plane_e], axis=0)\n",
    "gad1b_pl = np.nanmean(gad1b[plane_s:plane_e], axis=0)\n",
    "axs[0].imshow(hab_pl, cmap=\"Reds\", vmin=0, vmax=10)\n",
    "axs[1].imshow(gad1b_pl, cmap=\"Greens\", vmin=0, vmax=50)\n",
    "\n",
    "axs[2].imshow(gad1b_pl, cmap=\"Greens\", vmin=0, vmax=50, alpha=1)\n",
    "hab_pl2 = np.ma.masked_where(hab_pl < 2, hab_pl)\n",
    "axs[2].imshow(hab_pl2, cmap=\"Reds\", vmin=0, vmax=10, alpha=0.6)\n",
    "\n",
    "'''\n",
    "both = np.zeros((3, np.shape(hab_pl)[0], np.shape(hab_pl)[1]))\n",
    "both[0] = hab_pl\n",
    "both[1] = gad1b_pl\n",
    "both.astype(np.uint8)\n",
    "axs[2].imshow(cv2.cvtColor(both, cv2.COLOR_BGR2RGB))\n",
    "#cv2.imshow(\"both\", both.astype(np.uint8))\n",
    "'''"
   ]
  },
  {
   "cell_type": "code",
   "execution_count": null,
   "id": "c337645a-97bb-4aff-a467-1ccdd1584510",
   "metadata": {},
   "outputs": [],
   "source": [
    "file_name = \"hab_gad1b_ipn.pdf\"\n",
    "fig.savefig(master / file_name, dpi=300)"
   ]
  },
  {
   "cell_type": "code",
   "execution_count": null,
   "id": "dfe82c5e-4f11-4014-85af-6b36ffc46df0",
   "metadata": {},
   "outputs": [],
   "source": []
  },
  {
   "cell_type": "code",
   "execution_count": null,
   "id": "8004f963-1978-4981-8147-35478f8b6579",
   "metadata": {},
   "outputs": [],
   "source": []
  }
 ],
 "metadata": {
  "kernelspec": {
   "display_name": "Python 3",
   "language": "python",
   "name": "python3"
  },
  "language_info": {
   "codemirror_mode": {
    "name": "ipython",
    "version": 3
   },
   "file_extension": ".py",
   "mimetype": "text/x-python",
   "name": "python",
   "nbconvert_exporter": "python",
   "pygments_lexer": "ipython3",
   "version": "3.7.10"
  }
 },
 "nbformat": 4,
 "nbformat_minor": 5
}
