{
 "cells": [
  {
   "cell_type": "code",
   "execution_count": 4,
   "id": "flying-infrared",
   "metadata": {},
   "outputs": [],
   "source": [
    "from pathlib import Path\n"
   ]
  },
  {
   "cell_type": "code",
   "execution_count": 2,
   "id": "modern-explorer",
   "metadata": {},
   "outputs": [],
   "source": [
    "from fimpylab.core.twop_experiment import TwoPExperiment"
   ]
  },
  {
   "cell_type": "code",
   "execution_count": 5,
   "id": "geological-world",
   "metadata": {},
   "outputs": [],
   "source": [
    "path = Path(r\"\\\\funes\\Shared\\Lisa\\heading direction project\\pilot - finding the ring in the 2p (single planes)\\fish_files\\20220602_f0\")\n",
    "exp = TwoPExperiment(path)"
   ]
  },
  {
   "cell_type": "code",
   "execution_count": 7,
   "id": "straight-james",
   "metadata": {},
   "outputs": [
    {
     "data": {
      "text/plain": [
       "(8.0, 0.6399236768042597, 0.6399236768042597)"
      ]
     },
     "execution_count": 7,
     "metadata": {},
     "output_type": "execute_result"
    }
   ],
   "source": [
    "exp.resolution"
   ]
  },
  {
   "cell_type": "code",
   "execution_count": null,
   "id": "enabling-record",
   "metadata": {},
   "outputs": [],
   "source": []
  }
 ],
 "metadata": {
  "kernelspec": {
   "display_name": "Python 3",
   "language": "python",
   "name": "python3"
  },
  "language_info": {
   "codemirror_mode": {
    "name": "ipython",
    "version": 3
   },
   "file_extension": ".py",
   "mimetype": "text/x-python",
   "name": "python",
   "nbconvert_exporter": "python",
   "pygments_lexer": "ipython3",
   "version": "3.7.10"
  }
 },
 "nbformat": 4,
 "nbformat_minor": 5
}
