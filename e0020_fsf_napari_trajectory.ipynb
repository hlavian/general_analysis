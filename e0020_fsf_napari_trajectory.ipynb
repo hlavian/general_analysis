{
 "cells": [
  {
   "cell_type": "code",
   "execution_count": 1,
   "id": "purple-combination",
   "metadata": {},
   "outputs": [],
   "source": [
    "import napari\n",
    "from pathlib import Path\n",
    "import tifffile\n",
    "from napari_animation import AnimationWidget\n",
    "from split_dataset import SplitDataset\n",
    "import numpy as np\n",
    "from naparimovie import Movie\n",
    "import flammkuchen as fl\n",
    "%gui qt5"
   ]
  },
  {
   "cell_type": "code",
   "execution_count": null,
   "id": "improving-baker",
   "metadata": {},
   "outputs": [],
   "source": [
    "master = Path(r\"\\\\Funes\\Shared\\experiments\\E0020_random_coherences\\v06_three_options\\all fish\")\n",
    "all_fish = list(master.glob(\"*_f*/*trajectories_for_napari_fix_a*\"))\n",
    "len(all_fish)"
   ]
  },
  {
   "cell_type": "code",
   "execution_count": null,
   "id": "dynamic-scholar",
   "metadata": {},
   "outputs": [],
   "source": [
    "fish = all_fish[0]\n",
    "beh_data = fl.load(fish)[0]\n",
    "print(fish)"
   ]
  },
  {
   "cell_type": "code",
   "execution_count": null,
   "id": "russian-symphony",
   "metadata": {},
   "outputs": [],
   "source": [
    "traj_pos = beh_data['trajectories_positive_xy_aligend']\n",
    "traj_neg = beh_data['trajectories_negative_xy_aligned']\n",
    "\n",
    "traj_pos = beh_data['trajectories_positive_xy']\n",
    "traj_neg = beh_data['trajectories_negative_xy']\n",
    "\n",
    "num_trials, _, len_segment = np.shape(traj_neg)\n",
    "t = np.arange(len_segment) / 3"
   ]
  },
  {
   "cell_type": "code",
   "execution_count": null,
   "id": "drawn-billy",
   "metadata": {},
   "outputs": [],
   "source": [
    "len_segment"
   ]
  },
  {
   "cell_type": "code",
   "execution_count": null,
   "id": "stretch-timing",
   "metadata": {},
   "outputs": [],
   "source": [
    "tracks_data = np.zeros((len_segment, 4))\n",
    "\n",
    "\n",
    "for i in range(0, 70):\n",
    "    \n",
    "    tmp_tracks = np.zeros((len_segment, 4))\n",
    "    fish_id = np.ones((len_segment)) * (i + 1)\n",
    "    x = traj_pos[i, 0] \n",
    "    y = traj_pos[i, 1] \n",
    "    tmp_tracks[:, 0] = fish_id\n",
    "    tmp_tracks[:, 1] = t\n",
    "    tmp_tracks[:, 2] = x \n",
    "    tmp_tracks[:, 3] = y * -1\n",
    "    \n",
    "    tracks_data = np.append(tracks_data, tmp_tracks, axis=0)\n",
    "\n",
    "viewer = napari.view_tracks(tracks_data, blending='translucent', colormap='red', tail_length=400)\n",
    "points = tracks_data[:,1:]\n",
    "points_layer = viewer.add_points(points, size=10, face_color='r')\n",
    "animation_widget = AnimationWidget(viewer)\n",
    "viewer.window.add_dock_widget(animation_widget, area='right')"
   ]
  },
  {
   "cell_type": "code",
   "execution_count": null,
   "id": "light-router",
   "metadata": {},
   "outputs": [],
   "source": [
    "np.shape(tracks_data)"
   ]
  },
  {
   "cell_type": "code",
   "execution_count": null,
   "id": "soviet-promise",
   "metadata": {},
   "outputs": [],
   "source": [
    "tracks_data = np.zeros((len_segment, 4))\n",
    "\n",
    "for i in range(40, 80):\n",
    "    \n",
    "    tmp_tracks = np.zeros((len_segment, 4))\n",
    "    fish_id = np.ones((len_segment)) * (i + 1)\n",
    "    x = traj_neg[i, 0] \n",
    "    y = traj_neg[i, 1] \n",
    "    tmp_tracks[:, 0] = fish_id\n",
    "    tmp_tracks[:, 1] = t\n",
    "    tmp_tracks[:, 2] = x \n",
    "    tmp_tracks[:, 3] = y * -1\n",
    "    \n",
    "    tracks_data = np.append(tracks_data, tmp_tracks, axis=0)\n",
    "\n",
    "\n",
    "viewer = napari.view_tracks(tracks_data, blending='translucent', colormap='green', tail_length=400)\n",
    "points = tracks_data[:,1:]\n",
    "points_layer = viewer.add_points(points, size=10, face_color='#00aa00ff')\n",
    "\n",
    "animation_widget = AnimationWidget(viewer)\n",
    "viewer.window.add_dock_widget(animation_widget, area='right')"
   ]
  },
  {
   "cell_type": "code",
   "execution_count": null,
   "id": "settled-turning",
   "metadata": {},
   "outputs": [],
   "source": []
  },
  {
   "cell_type": "code",
   "execution_count": null,
   "id": "fixed-society",
   "metadata": {},
   "outputs": [],
   "source": []
  }
 ],
 "metadata": {
  "kernelspec": {
   "display_name": "Python 3",
   "language": "python",
   "name": "python3"
  },
  "language_info": {
   "codemirror_mode": {
    "name": "ipython",
    "version": 3
   },
   "file_extension": ".py",
   "mimetype": "text/x-python",
   "name": "python",
   "nbconvert_exporter": "python",
   "pygments_lexer": "ipython3",
   "version": "3.7.10"
  }
 },
 "nbformat": 4,
 "nbformat_minor": 5
}
